{
 "cells": [
  {
   "cell_type": "code",
   "execution_count": 1,
   "id": "5e39c299",
   "metadata": {
    "ExecuteTime": {
     "end_time": "2022-05-02T17:34:28.368972Z",
     "start_time": "2022-05-02T17:34:27.806137Z"
    }
   },
   "outputs": [],
   "source": [
    "import networkx as nx\n",
    "import pandas as pd\n",
    "import matplotlib.pyplot as plt\n",
    "import networkx.algorithms.community as nx_comm"
   ]
  },
  {
   "cell_type": "code",
   "execution_count": 2,
   "id": "5674889c",
   "metadata": {
    "ExecuteTime": {
     "end_time": "2022-05-02T17:34:31.925769Z",
     "start_time": "2022-05-02T17:34:28.369859Z"
    }
   },
   "outputs": [],
   "source": [
    "train=pd.read_csv('train.csv')\n",
    "train.to_csv('train_woheader.csv',header=False,index=False)\n",
    "G=nx.read_edgelist('train_woheader.csv',delimiter=',',create_using=nx.Graph(),nodetype=int)\n"
   ]
  },
  {
   "cell_type": "code",
   "execution_count": 3,
   "id": "711c0bf4",
   "metadata": {
    "ExecuteTime": {
     "end_time": "2022-05-02T17:34:31.929473Z",
     "start_time": "2022-05-02T17:34:31.926611Z"
    }
   },
   "outputs": [],
   "source": [
    "predict=pd.read_csv('test.csv')"
   ]
  },
  {
   "cell_type": "code",
   "execution_count": 4,
   "id": "6b58d1f1",
   "metadata": {
    "ExecuteTime": {
     "end_time": "2022-05-02T17:34:32.012871Z",
     "start_time": "2022-05-02T17:34:31.930333Z"
    }
   },
   "outputs": [
    {
     "data": {
      "text/plain": [
       "(317080, 1049866)"
      ]
     },
     "execution_count": 4,
     "metadata": {},
     "output_type": "execute_result"
    }
   ],
   "source": [
    "len(G.nodes), len(G.edges)"
   ]
  },
  {
   "cell_type": "code",
   "execution_count": 5,
   "id": "f612327d",
   "metadata": {
    "ExecuteTime": {
     "end_time": "2022-05-02T17:34:32.014919Z",
     "start_time": "2022-05-02T17:34:32.013606Z"
    }
   },
   "outputs": [],
   "source": [
    "# resolution=1.1\n",
    "# coms = algorithms.louvain(G, weight='weight', resolution=resolution, randomize=False)"
   ]
  },
  {
   "cell_type": "code",
   "execution_count": 6,
   "id": "856fbebe",
   "metadata": {
    "ExecuteTime": {
     "end_time": "2022-05-02T17:34:32.016890Z",
     "start_time": "2022-05-02T17:34:32.015561Z"
    }
   },
   "outputs": [],
   "source": [
    "# partition = community_louvain.best_partition(G)"
   ]
  },
  {
   "cell_type": "code",
   "execution_count": 7,
   "id": "cfb52093",
   "metadata": {
    "ExecuteTime": {
     "end_time": "2022-05-02T17:34:32.019192Z",
     "start_time": "2022-05-02T17:34:32.017718Z"
    }
   },
   "outputs": [],
   "source": [
    "# partition={}\n",
    "# for i,c in enumerate(coms.communities):\n",
    "#     for n in c:\n",
    "#         partition[n]=i\n",
    "        \n",
    "\n",
    "# # partition        "
   ]
  },
  {
   "cell_type": "code",
   "execution_count": 8,
   "id": "59e83b16",
   "metadata": {
    "ExecuteTime": {
     "end_time": "2022-05-02T17:34:32.021299Z",
     "start_time": "2022-05-02T17:34:32.020042Z"
    }
   },
   "outputs": [],
   "source": [
    "# Id=[i for i in range(len(predict))]\n",
    "\n",
    "# ans=[0 for i in range(len(predict))]\n",
    "\n",
    "\n",
    "\n",
    "# for nodepair in predict.values.tolist():\n",
    "#     if partition[nodepair[1]]==partition[nodepair[2]]:\n",
    "#         ans[nodepair[0]]=1\n"
   ]
  },
  {
   "cell_type": "code",
   "execution_count": 9,
   "id": "89f09dfa",
   "metadata": {
    "ExecuteTime": {
     "end_time": "2022-05-02T17:34:32.023453Z",
     "start_time": "2022-05-02T17:34:32.022014Z"
    }
   },
   "outputs": [],
   "source": [
    "# answer=pd.DataFrame({'Id':Id,'Category':ans})"
   ]
  },
  {
   "cell_type": "code",
   "execution_count": 10,
   "id": "78b883bb",
   "metadata": {
    "ExecuteTime": {
     "end_time": "2022-05-02T17:34:32.025968Z",
     "start_time": "2022-05-02T17:34:32.024695Z"
    }
   },
   "outputs": [],
   "source": [
    "# answer.to_csv(f'louvain_{resolution}.csv',index=False)"
   ]
  },
  {
   "cell_type": "markdown",
   "id": "d8e16fde",
   "metadata": {},
   "source": [
    "# 設定參數resolution/threshold/seed"
   ]
  },
  {
   "cell_type": "code",
   "execution_count": 11,
   "id": "2aaf7317",
   "metadata": {
    "ExecuteTime": {
     "end_time": "2022-05-02T17:34:32.029015Z",
     "start_time": "2022-05-02T17:34:32.026883Z"
    }
   },
   "outputs": [],
   "source": [
    "resolution=[1,1,1,1,1,1,1,1,1,1]\n",
    "threshold=[1e-7,5e-7,1e-6,5e-6,1e-5,5e-5,1e-4,5e-4,1e-3,5e-3]\n",
    "seed=[1,2,3,4,5,6,7,8,9,10]"
   ]
  },
  {
   "cell_type": "markdown",
   "id": "0b9510c0",
   "metadata": {},
   "source": [
    "# 基於modularity 選出partition"
   ]
  },
  {
   "cell_type": "code",
   "execution_count": 12,
   "id": "6ad14ba8",
   "metadata": {
    "ExecuteTime": {
     "end_time": "2022-05-02T17:42:23.101333Z",
     "start_time": "2022-05-02T17:34:32.029787Z"
    },
    "scrolled": true
   },
   "outputs": [],
   "source": [
    "for r,t,s in zip(resolution,threshold,seed):\n",
    "    coms = nx_comm.louvain_communities(G, weight='weight', resolution=r,threshold=t,seed=s)\n",
    "    partition={}\n",
    "    for i,c in enumerate(coms):\n",
    "        for n in c:\n",
    "            partition[n]=i\n",
    "\n",
    "    Id=[i for i in range(len(predict))]\n",
    "\n",
    "    ans=[0 for i in range(len(predict))]\n",
    "\n",
    "\n",
    "\n",
    "    for nodepair in predict.values:\n",
    "#         print(nodepair)\n",
    "        if partition[nodepair[1]]==partition[nodepair[2]]:\n",
    "            ans[nodepair[0]]=1\n",
    "\n",
    "    answer=pd.DataFrame({'Id':Id,'Category':ans})\n",
    "    answer.to_csv(f'louvain_resolution_{r}_threshold_{t}_seed_{s}.csv',index=False)"
   ]
  },
  {
   "cell_type": "markdown",
   "id": "420d893d",
   "metadata": {},
   "source": [
    "# 測試取不同level 之情況"
   ]
  },
  {
   "cell_type": "code",
   "execution_count": 14,
   "id": "e12032f9",
   "metadata": {
    "ExecuteTime": {
     "end_time": "2022-05-02T17:52:24.129237Z",
     "start_time": "2022-05-02T17:44:26.253077Z"
    },
    "scrolled": false
   },
   "outputs": [],
   "source": [
    "for r,t,s in zip(resolution,threshold,seed):\n",
    "    dendo=nx_comm.louvain_partitions(G, weight='weight', resolution=r,threshold=t,seed=s)\n",
    "    #會return list of sets(top level(很多community)->bottom level(比較少community))\n",
    "    for level,coms in enumerate(dendo) : \n",
    "        partition={}\n",
    "        for i,c in enumerate(coms):\n",
    "            for n in c:\n",
    "                partition[n]=i\n",
    "\n",
    "        Id=[i for i in range(len(predict))]\n",
    "        ans=[0 for i in range(len(predict))]\n",
    "\n",
    "        for nodepair in predict.values:\n",
    "            if partition[nodepair[1]]==partition[nodepair[2]]:\n",
    "                ans[nodepair[0]]=1\n",
    "        answer=pd.DataFrame({'Id':Id,'Category':ans})\n",
    "        answer.to_csv(f'louvain_level_{level}_resolution_{r}_threshold_{t}_seed_{s}.csv',index=False)\n",
    "    \n",
    "    \n",
    "    "
   ]
  }
 ],
 "metadata": {
  "kernelspec": {
   "display_name": "Python 3 (ipykernel)",
   "language": "python",
   "name": "python3"
  },
  "language_info": {
   "codemirror_mode": {
    "name": "ipython",
    "version": 3
   },
   "file_extension": ".py",
   "mimetype": "text/x-python",
   "name": "python",
   "nbconvert_exporter": "python",
   "pygments_lexer": "ipython3",
   "version": "3.9.11"
  },
  "varInspector": {
   "cols": {
    "lenName": 16,
    "lenType": 16,
    "lenVar": 40
   },
   "kernels_config": {
    "python": {
     "delete_cmd_postfix": "",
     "delete_cmd_prefix": "del ",
     "library": "var_list.py",
     "varRefreshCmd": "print(var_dic_list())"
    },
    "r": {
     "delete_cmd_postfix": ") ",
     "delete_cmd_prefix": "rm(",
     "library": "var_list.r",
     "varRefreshCmd": "cat(var_dic_list()) "
    }
   },
   "types_to_exclude": [
    "module",
    "function",
    "builtin_function_or_method",
    "instance",
    "_Feature"
   ],
   "window_display": false
  }
 },
 "nbformat": 4,
 "nbformat_minor": 5
}
