{
 "cells": [
  {
   "cell_type": "code",
   "execution_count": 1,
   "id": "5e39c299",
   "metadata": {
    "ExecuteTime": {
     "end_time": "2022-04-20T04:58:35.299114Z",
     "start_time": "2022-04-20T04:58:34.135323Z"
    }
   },
   "outputs": [
    {
     "name": "stdout",
     "output_type": "stream",
     "text": [
      "Note: to be able to use all crisp methods, you need to install some additional packages:  {'graph_tool', 'karateclub', 'infomap'}\n",
      "Note: to be able to use all overlapping methods, you need to install some additional packages:  {'ASLPAw', 'karateclub'}\n",
      "Note: to be able to use all bipartite methods, you need to install some additional packages:  {'infomap'}\n"
     ]
    }
   ],
   "source": [
    "import networkx as nx\n",
    "import pandas as pd\n",
    "import matplotlib.pyplot as plt\n",
    "from cdlib import algorithms\n",
    "%matplotlib inline"
   ]
  },
  {
   "cell_type": "code",
   "execution_count": 2,
   "id": "5674889c",
   "metadata": {
    "ExecuteTime": {
     "end_time": "2022-04-20T04:58:38.846039Z",
     "start_time": "2022-04-20T04:58:35.300131Z"
    }
   },
   "outputs": [],
   "source": [
    "train=pd.read_csv('train.csv')\n",
    "train.to_csv('train_woheader.csv',header=False,index=False)\n",
    "G=nx.read_edgelist('train_woheader.csv',delimiter=',',create_using=nx.Graph(),nodetype=int)\n"
   ]
  },
  {
   "cell_type": "code",
   "execution_count": 3,
   "id": "711c0bf4",
   "metadata": {
    "ExecuteTime": {
     "end_time": "2022-04-20T04:58:38.850542Z",
     "start_time": "2022-04-20T04:58:38.846853Z"
    }
   },
   "outputs": [],
   "source": [
    "predict=pd.read_csv('test.csv')"
   ]
  },
  {
   "cell_type": "code",
   "execution_count": 4,
   "id": "6b58d1f1",
   "metadata": {
    "ExecuteTime": {
     "end_time": "2022-04-20T04:58:38.941216Z",
     "start_time": "2022-04-20T04:58:38.851835Z"
    }
   },
   "outputs": [
    {
     "data": {
      "text/plain": [
       "(317080, 1049866)"
      ]
     },
     "execution_count": 4,
     "metadata": {},
     "output_type": "execute_result"
    }
   ],
   "source": [
    "len(G.nodes), len(G.edges)"
   ]
  },
  {
   "cell_type": "code",
   "execution_count": null,
   "id": "856fbebe",
   "metadata": {
    "ExecuteTime": {
     "start_time": "2022-04-20T04:58:34.136Z"
    }
   },
   "outputs": [],
   "source": [
    "coms = algorithms.walktrap(G)"
   ]
  },
  {
   "cell_type": "code",
   "execution_count": null,
   "id": "cfb52093",
   "metadata": {
    "ExecuteTime": {
     "start_time": "2022-04-20T04:58:34.136Z"
    },
    "scrolled": true
   },
   "outputs": [],
   "source": [
    "coms.overlap"
   ]
  },
  {
   "cell_type": "code",
   "execution_count": null,
   "id": "2a93d22f",
   "metadata": {
    "ExecuteTime": {
     "start_time": "2022-04-20T04:58:34.137Z"
    }
   },
   "outputs": [],
   "source": [
    "partition={}\n",
    "for i,c in enumerate(coms.communities):\n",
    "    for n in c:\n",
    "        partition[n]=i\n",
    "        \n",
    "\n",
    "partition   "
   ]
  },
  {
   "cell_type": "code",
   "execution_count": null,
   "id": "59e83b16",
   "metadata": {
    "ExecuteTime": {
     "start_time": "2022-04-20T04:58:34.137Z"
    }
   },
   "outputs": [],
   "source": [
    "Id=[i for i in range(len(predict))]\n",
    "\n",
    "ans=[0 for i in range(len(predict))]\n",
    "\n",
    "\n",
    "\n",
    "for nodepair in predict.values.tolist():\n",
    "    if partition[nodepair[1]]==partition[nodepair[2]]:\n",
    "        partition[nodepair[0]]=1\n"
   ]
  },
  {
   "cell_type": "code",
   "execution_count": null,
   "id": "89f09dfa",
   "metadata": {
    "ExecuteTime": {
     "start_time": "2022-04-20T04:58:34.138Z"
    }
   },
   "outputs": [],
   "source": [
    "answer=pd.DataFrame({'Id':Id,'Category':ans})"
   ]
  },
  {
   "cell_type": "code",
   "execution_count": null,
   "id": "543c3c51",
   "metadata": {
    "ExecuteTime": {
     "start_time": "2022-04-20T04:58:34.138Z"
    }
   },
   "outputs": [],
   "source": [
    "answer.to_csv('walktrap.csv',index=False)"
   ]
  }
 ],
 "metadata": {
  "kernelspec": {
   "display_name": "Python 3 (ipykernel)",
   "language": "python",
   "name": "python3"
  },
  "language_info": {
   "codemirror_mode": {
    "name": "ipython",
    "version": 3
   },
   "file_extension": ".py",
   "mimetype": "text/x-python",
   "name": "python",
   "nbconvert_exporter": "python",
   "pygments_lexer": "ipython3",
   "version": "3.9.11"
  },
  "varInspector": {
   "cols": {
    "lenName": 16,
    "lenType": 16,
    "lenVar": 40
   },
   "kernels_config": {
    "python": {
     "delete_cmd_postfix": "",
     "delete_cmd_prefix": "del ",
     "library": "var_list.py",
     "varRefreshCmd": "print(var_dic_list())"
    },
    "r": {
     "delete_cmd_postfix": ") ",
     "delete_cmd_prefix": "rm(",
     "library": "var_list.r",
     "varRefreshCmd": "cat(var_dic_list()) "
    }
   },
   "types_to_exclude": [
    "module",
    "function",
    "builtin_function_or_method",
    "instance",
    "_Feature"
   ],
   "window_display": false
  }
 },
 "nbformat": 4,
 "nbformat_minor": 5
}
