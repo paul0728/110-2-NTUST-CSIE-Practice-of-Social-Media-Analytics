{
 "cells": [
  {
   "cell_type": "code",
   "execution_count": null,
   "id": "46a56bc7",
   "metadata": {
    "ExecuteTime": {
     "end_time": "2022-05-02T17:38:49.856601Z",
     "start_time": "2022-05-02T17:38:49.848774Z"
    }
   },
   "outputs": [],
   "source": [
    "def xrange(n):\n",
    "    x = 0\n",
    "    while x != n:\n",
    "        yield x\n",
    "        x += 1\n",
    "\n",
    "for n in xrange(10):\n",
    "    print(n) \n",
    "g = xrange(2)\n",
    "type(g)\n",
    "\n"
   ]
  },
  {
   "cell_type": "code",
   "execution_count": 3,
   "id": "78bbda03",
   "metadata": {
    "ExecuteTime": {
     "end_time": "2022-05-02T17:39:38.408467Z",
     "start_time": "2022-05-02T17:39:38.406256Z"
    }
   },
   "outputs": [
    {
     "name": "stdout",
     "output_type": "stream",
     "text": [
      "0 0\n",
      "1 1\n"
     ]
    }
   ],
   "source": [
    "for i,x in enumerate(g):\n",
    "    print(i,x)"
   ]
  }
 ],
 "metadata": {
  "kernelspec": {
   "display_name": "Python 3 (ipykernel)",
   "language": "python",
   "name": "python3"
  },
  "language_info": {
   "codemirror_mode": {
    "name": "ipython",
    "version": 3
   },
   "file_extension": ".py",
   "mimetype": "text/x-python",
   "name": "python",
   "nbconvert_exporter": "python",
   "pygments_lexer": "ipython3",
   "version": "3.9.11"
  },
  "varInspector": {
   "cols": {
    "lenName": 16,
    "lenType": 16,
    "lenVar": 40
   },
   "kernels_config": {
    "python": {
     "delete_cmd_postfix": "",
     "delete_cmd_prefix": "del ",
     "library": "var_list.py",
     "varRefreshCmd": "print(var_dic_list())"
    },
    "r": {
     "delete_cmd_postfix": ") ",
     "delete_cmd_prefix": "rm(",
     "library": "var_list.r",
     "varRefreshCmd": "cat(var_dic_list()) "
    }
   },
   "types_to_exclude": [
    "module",
    "function",
    "builtin_function_or_method",
    "instance",
    "_Feature"
   ],
   "window_display": false
  }
 },
 "nbformat": 4,
 "nbformat_minor": 5
}
