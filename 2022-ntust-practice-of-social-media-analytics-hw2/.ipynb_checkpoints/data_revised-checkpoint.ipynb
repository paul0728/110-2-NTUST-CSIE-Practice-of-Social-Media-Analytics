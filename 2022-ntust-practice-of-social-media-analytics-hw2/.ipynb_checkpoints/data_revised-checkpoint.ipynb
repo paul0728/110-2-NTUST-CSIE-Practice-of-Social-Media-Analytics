{
 "cells": [
  {
   "cell_type": "code",
   "execution_count": 16,
   "id": "44595b5c",
   "metadata": {
    "ExecuteTime": {
     "end_time": "2022-04-25T16:16:02.982750Z",
     "start_time": "2022-04-25T16:16:02.877656Z"
    }
   },
   "outputs": [
    {
     "data": {
      "text/html": [
       "<div>\n",
       "<style scoped>\n",
       "    .dataframe tbody tr th:only-of-type {\n",
       "        vertical-align: middle;\n",
       "    }\n",
       "\n",
       "    .dataframe tbody tr th {\n",
       "        vertical-align: top;\n",
       "    }\n",
       "\n",
       "    .dataframe thead th {\n",
       "        text-align: right;\n",
       "    }\n",
       "</style>\n",
       "<table border=\"1\" class=\"dataframe\">\n",
       "  <thead>\n",
       "    <tr style=\"text-align: right;\">\n",
       "      <th></th>\n",
       "      <th>Id</th>\n",
       "      <th>Node1</th>\n",
       "      <th>Node2</th>\n",
       "    </tr>\n",
       "  </thead>\n",
       "  <tbody>\n",
       "    <tr>\n",
       "      <th>0</th>\n",
       "      <td>0</td>\n",
       "      <td>288247</td>\n",
       "      <td>288246</td>\n",
       "    </tr>\n",
       "    <tr>\n",
       "      <th>1</th>\n",
       "      <td>1</td>\n",
       "      <td>211186</td>\n",
       "      <td>347152</td>\n",
       "    </tr>\n",
       "    <tr>\n",
       "      <th>2</th>\n",
       "      <td>2</td>\n",
       "      <td>297357</td>\n",
       "      <td>366519</td>\n",
       "    </tr>\n",
       "    <tr>\n",
       "      <th>3</th>\n",
       "      <td>3</td>\n",
       "      <td>9220</td>\n",
       "      <td>72781</td>\n",
       "    </tr>\n",
       "    <tr>\n",
       "      <th>4</th>\n",
       "      <td>4</td>\n",
       "      <td>190170</td>\n",
       "      <td>100889</td>\n",
       "    </tr>\n",
       "    <tr>\n",
       "      <th>...</th>\n",
       "      <td>...</td>\n",
       "      <td>...</td>\n",
       "      <td>...</td>\n",
       "    </tr>\n",
       "    <tr>\n",
       "      <th>995</th>\n",
       "      <td>995</td>\n",
       "      <td>271153</td>\n",
       "      <td>155119</td>\n",
       "    </tr>\n",
       "    <tr>\n",
       "      <th>996</th>\n",
       "      <td>996</td>\n",
       "      <td>37431</td>\n",
       "      <td>53799</td>\n",
       "    </tr>\n",
       "    <tr>\n",
       "      <th>997</th>\n",
       "      <td>997</td>\n",
       "      <td>142255</td>\n",
       "      <td>301198</td>\n",
       "    </tr>\n",
       "    <tr>\n",
       "      <th>998</th>\n",
       "      <td>998</td>\n",
       "      <td>80418</td>\n",
       "      <td>155935</td>\n",
       "    </tr>\n",
       "    <tr>\n",
       "      <th>999</th>\n",
       "      <td>999</td>\n",
       "      <td>330875</td>\n",
       "      <td>274820</td>\n",
       "    </tr>\n",
       "  </tbody>\n",
       "</table>\n",
       "<p>1000 rows × 3 columns</p>\n",
       "</div>"
      ],
      "text/plain": [
       "      Id   Node1   Node2\n",
       "0      0  288247  288246\n",
       "1      1  211186  347152\n",
       "2      2  297357  366519\n",
       "3      3    9220   72781\n",
       "4      4  190170  100889\n",
       "..   ...     ...     ...\n",
       "995  995  271153  155119\n",
       "996  996   37431   53799\n",
       "997  997  142255  301198\n",
       "998  998   80418  155935\n",
       "999  999  330875  274820\n",
       "\n",
       "[1000 rows x 3 columns]"
      ]
     },
     "execution_count": 16,
     "metadata": {},
     "output_type": "execute_result"
    }
   ],
   "source": [
    "import pandas as pd\n",
    "import numpy as np\n",
    "import random\n",
    "import networkx as nx\n",
    "\n",
    "train=pd.read_csv('train.csv')\n",
    "test=pd.read_csv('test.csv')\n",
    "test"
   ]
  },
  {
   "cell_type": "code",
   "execution_count": 23,
   "id": "bc9ed49e",
   "metadata": {
    "ExecuteTime": {
     "end_time": "2022-04-25T16:21:35.009061Z",
     "start_time": "2022-04-25T16:21:34.577251Z"
    }
   },
   "outputs": [
    {
     "name": "stdout",
     "output_type": "stream",
     "text": [
      "76\n",
      "76\n",
      "76\n",
      "253\n",
      "254\n",
      "746\n"
     ]
    },
    {
     "data": {
      "text/plain": [
       "500"
      ]
     },
     "execution_count": 23,
     "metadata": {},
     "output_type": "execute_result"
    }
   ],
   "source": [
    "import random\n",
    "#建立train data 答案之字典\n",
    "edge={}\n",
    "for n1,n2 in zip(train['Node1'], train['Node2']):\n",
    "    edge[(n1,n2)]=1\n",
    "#紀錄已有答案之test data 之index\n",
    "t=[]\n",
    "for i,n1,n2 in zip(range(len(test)),test['Node1'], test['Node2']):\n",
    "    if edge.get((n1,n2))==1:\n",
    "        t+=[i]\n",
    "        \n",
    "print(len(t))\n",
    "        \n",
    "\n",
    "#建立train data 答案+test 中連到自己者之字典        \n",
    "edge1={}\n",
    "for n1,n2 in zip(test['Node1'], test['Node2']):\n",
    "    if n1==n2:\n",
    "        edge1[(n1,n2)]=1\n",
    "edge1.update(edge)\n",
    "\n",
    "#紀錄已有答案之test data +test 中連到自己者之index\n",
    "t1=[]\n",
    "for i,n1,n2 in zip(range(len(test)),test['Node1'], test['Node2']):\n",
    "    if edge1.get((n1,n2))==1:\n",
    "        t1+=[i]\n",
    "        \n",
    "print(len(t1))\n",
    "\n",
    "print(len(t))\n",
    "\n",
    "\n",
    "\n",
    "answer=pd.read_csv('louvain_level_3.csv')\n",
    "print(len(answer[answer['Category']==1]))\n",
    "\n",
    "\n",
    "answer['Category'][t1]=1\n",
    "print(len(answer[answer['Category']==1]))\n",
    "\n",
    "\n",
    "print(len(answer[answer['Category']==0]))\n",
    "\n",
    "answer.iloc[answer[answer['Category']==0].index, [1]]=np.asarray([1 if i<=245 else 0 for i in range(len(answer[answer['Category']==0]))]).reshape((746, 1))\n",
    "# answer[answer['Category']==0]['Category']=[random.randint(0, 1) for i in range(len(answer[answer['Category']==0]))]\n",
    "\n",
    "\n",
    "\n",
    "answer.to_csv('louvain_level_3_revised2.csv',index=False)\n",
    "answer\n",
    "\n",
    "len(answer[answer['Category']==0])\n",
    "\n"
   ]
  },
  {
   "cell_type": "code",
   "execution_count": 3,
   "id": "34bd0da5",
   "metadata": {
    "ExecuteTime": {
     "end_time": "2022-04-25T10:18:46.069847Z",
     "start_time": "2022-04-25T10:18:46.068426Z"
    }
   },
   "outputs": [],
   "source": [
    "# # 先random 設定值,再將答案填上去\n",
    "# random.seed(1)\n",
    "# random_answer=[random.randint(0, 1) for i in range(len(test))]\n",
    "# random_answer=np.array(random_answer)\n",
    "# random_answer[t1]=1\n",
    "\n",
    "# for i,ans in enumerate(ans500_ground_truth['ans']):\n",
    "#     random_answer[i]=ans\n",
    "    \n",
    "\n",
    "# random_answer=pd.DataFrame({'test_Nodepair_id':list(range(10200)),'ans':random_answer})\n",
    "# random_answer.to_csv('random_answer_revised.csv',index=False)\n",
    "# random_answer\n"
   ]
  },
  {
   "cell_type": "code",
   "execution_count": 4,
   "id": "9f6c690f",
   "metadata": {
    "ExecuteTime": {
     "end_time": "2022-04-25T10:18:46.072232Z",
     "start_time": "2022-04-25T10:18:46.070684Z"
    }
   },
   "outputs": [],
   "source": [
    "# #先把所有直設成0,再將答案填上去\n",
    "# initial_0=[0 for i in range(len(test))]\n",
    "# initial_0=np.array(initial_0)\n",
    "# initial_0[t1]=1\n",
    "\n",
    "# for i,ans in enumerate(ans500_ground_truth['ans']):\n",
    "#     initial_0[i]=ans\n",
    "    \n",
    "    \n",
    "# initial_0=pd.DataFrame({'test_Nodepair_id':list(range(10200)),'ans':initial_0})\n",
    "# initial_0.to_csv('initial_0_revised.csv',index=False)\n",
    "# initial_0\n"
   ]
  }
 ],
 "metadata": {
  "kernelspec": {
   "display_name": "Python 3 (ipykernel)",
   "language": "python",
   "name": "python3"
  },
  "language_info": {
   "codemirror_mode": {
    "name": "ipython",
    "version": 3
   },
   "file_extension": ".py",
   "mimetype": "text/x-python",
   "name": "python",
   "nbconvert_exporter": "python",
   "pygments_lexer": "ipython3",
   "version": "3.9.7"
  },
  "varInspector": {
   "cols": {
    "lenName": 16,
    "lenType": 16,
    "lenVar": 40
   },
   "kernels_config": {
    "python": {
     "delete_cmd_postfix": "",
     "delete_cmd_prefix": "del ",
     "library": "var_list.py",
     "varRefreshCmd": "print(var_dic_list())"
    },
    "r": {
     "delete_cmd_postfix": ") ",
     "delete_cmd_prefix": "rm(",
     "library": "var_list.r",
     "varRefreshCmd": "cat(var_dic_list()) "
    }
   },
   "types_to_exclude": [
    "module",
    "function",
    "builtin_function_or_method",
    "instance",
    "_Feature"
   ],
   "window_display": false
  }
 },
 "nbformat": 4,
 "nbformat_minor": 5
}
