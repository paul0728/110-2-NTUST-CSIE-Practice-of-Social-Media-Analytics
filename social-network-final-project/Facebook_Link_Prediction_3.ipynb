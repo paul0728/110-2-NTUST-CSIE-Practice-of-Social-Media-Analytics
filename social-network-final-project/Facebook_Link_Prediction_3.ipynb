{
 "cells": [
  {
   "cell_type": "markdown",
   "metadata": {
    "colab_type": "text",
    "id": "6DcrjFhQfqRv"
   },
   "source": [
    "<p style=\"font-size:32px;text-align:center\"> <b>Social network Graph Link Prediction - Facebook Challenge</b> </p>"
   ]
  },
  {
   "cell_type": "markdown",
   "metadata": {
    "colab_type": "text",
    "id": "Zplv4ujKfqRy"
   },
   "source": [
    "### Problem statement: \n",
    "Given a undirected social graph, have to predict missing links to recommend users (Link Prediction in graph)"
   ]
  },
  {
   "cell_type": "markdown",
   "metadata": {
    "colab_type": "text",
    "id": "oaYMSg3CfqR0"
   },
   "source": [
    "### Mapping the problem into supervised learning problem:\n",
    "- Generated training samples of good and bad links from given directed graph and for each link got some features like no of followers, is he followed back, page rank, katz score, adar index, some svd fetures of adj matrix, some weight features etc. and trained ml model based on these features to predict link. \n",
    "- Some reference papers and videos :  \n",
    "    - https://www.cs.cornell.edu/home/kleinber/link-pred.pdf\n",
    "    - https://www3.nd.edu/~dial/publications/lichtenwalter2010new.pdf\n",
    "    - https://kaggle2.blob.core.windows.net/forum-message-attachments/2594/supervised_link_prediction.pdf\n",
    "    - https://www.youtube.com/watch?v=2M77Hgy17cg"
   ]
  },
  {
   "cell_type": "markdown",
   "metadata": {
    "colab_type": "text",
    "id": "zkvhIo6hfqR1"
   },
   "source": [
    "### Business objectives and constraints:  \n",
    "- No low-latency requirement.\n",
    "- Probability of prediction is useful to recommend highest probability links"
   ]
  },
  {
   "cell_type": "markdown",
   "metadata": {
    "colab_type": "text",
    "id": "SpDe4qR7fqR2"
   },
   "source": [
    "### Performance metric for supervised learning:  \n",
    "- Both precision and recall is important so F1 score is good choice\n",
    "- Confusion matrix"
   ]
  },
  {
   "cell_type": "markdown",
   "metadata": {},
   "source": [
    "# 在map feature 時,盡量不使用dic,節省記憶體空間之版本(可在所有eikoset上執行)"
   ]
  },
  {
   "cell_type": "code",
   "execution_count": 9,
   "metadata": {
    "ExecuteTime": {
     "end_time": "2022-05-29T15:26:15.721693Z",
     "start_time": "2022-05-29T15:26:15.718658Z"
    },
    "colab": {},
    "colab_type": "code",
    "id": "1nUCUHsBfqR3"
   },
   "outputs": [],
   "source": [
    "#Importing Libraries\n",
    "# please do go through this python notebook: \n",
    "import warnings\n",
    "warnings.filterwarnings(\"ignore\")\n",
    "import community\n",
    "import csv\n",
    "import pandas as pd#pandas to create small DataFrames \n",
    "import datetime #Convert to unix time\n",
    "import time #Convert to unix time\n",
    "# if numpy is not installed already : pip3 install numpy\n",
    "import numpy as np#Do aritmetic operations on arrays\n",
    "# matplotlib: used to plot graphs\n",
    "import matplotlib\n",
    "import matplotlib.pylab as plt\n",
    "import seaborn as sns#Plots\n",
    "from matplotlib import rcParams#Size of plots  \n",
    "from sklearn.cluster import MiniBatchKMeans, KMeans#Clustering\n",
    "import math\n",
    "import pickle\n",
    "import os\n",
    "import os.path\n",
    "import shutil\n",
    "# to install xgboost: pip3 install xgboost\n",
    "import xgboost as xgb\n",
    "import warnings\n",
    "import networkx as nx\n",
    "import pdb\n",
    "from argparse import ArgumentParser, Namespace\n",
    "import random\n",
    "random.seed(25)\n",
    "\n"
   ]
  },
  {
   "cell_type": "code",
   "execution_count": 10,
   "metadata": {
    "ExecuteTime": {
     "end_time": "2022-05-29T15:26:16.552164Z",
     "start_time": "2022-05-29T15:26:16.546861Z"
    }
   },
   "outputs": [
    {
     "name": "stdout",
     "output_type": "stream",
     "text": [
      "True\n",
      "./gemsec_facebook_dataset/facebook_clean_data/tvshow_edges.csv\n"
     ]
    }
   ],
   "source": [
    "def parse_args() -> Namespace:\n",
    "    parser = ArgumentParser()\n",
    "    parser.add_argument('--PCA', help='Whether to do PCA.',action='store_true')\n",
    "    parser.add_argument('--eikoset_path', help='Path of the eikoset to be used.',default='./gemsec_facebook_eikoset/facebook_clean_eiko/tvshow_edges.csv')\n",
    "\n",
    "    args = parser.parse_args(args=['--PCA',\\\n",
    "                                  '--eikoset_path','./gemsec_facebook_dataset/facebook_clean_data/tvshow_edges.csv'])\n",
    " \n",
    "    \n",
    "    #     args = parser.parse_args()\n",
    "    \n",
    "    return args\n",
    "\n",
    "\n",
    "args = parse_args()    \n",
    "\n",
    "if args.PCA:\n",
    "    PCAornot='PCA'\n",
    "else:\n",
    "    PCAornot='noPCA'\n",
    "    \n",
    "base_name=os.path.basename(args.eikoset_path)\n",
    "\n",
    "genre=base_name.split('.')[0].split('_')\n",
    "genre.pop()\n",
    "genre=\"_\".join(genre)\n",
    "\n",
    "print(args.PCA)\n",
    "print(args.eikoset_path)"
   ]
  },
  {
   "cell_type": "code",
   "execution_count": 11,
   "metadata": {
    "ExecuteTime": {
     "end_time": "2022-05-29T15:26:17.030171Z",
     "start_time": "2022-05-29T15:26:17.016703Z"
    }
   },
   "outputs": [],
   "source": [
    "# 移除eiko\n",
    "shutil.rmtree('eiko')"
   ]
  },
  {
   "cell_type": "code",
   "execution_count": 12,
   "metadata": {
    "ExecuteTime": {
     "end_time": "2022-05-29T15:26:19.676819Z",
     "start_time": "2022-05-29T15:26:19.674903Z"
    }
   },
   "outputs": [],
   "source": [
    "# 建立eiko資料夾\n",
    "os.makedirs(f'./eiko/{genre}/after_eda', exist_ok=True)\n",
    "os.makedirs(f'./eiko/{genre}/fea_sample/other_features', exist_ok=True)\n"
   ]
  },
  {
   "cell_type": "code",
   "execution_count": 13,
   "metadata": {
    "ExecuteTime": {
     "end_time": "2022-05-29T15:26:20.084950Z",
     "start_time": "2022-05-29T15:26:20.082773Z"
    }
   },
   "outputs": [],
   "source": [
    "#建立results資料夾\n",
    "os.makedirs(f\"./results/{PCAornot}/{genre}/RandomForest\", exist_ok=True)\n",
    "os.makedirs(f\"./results/{PCAornot}/{genre}/GBDT\", exist_ok=True)"
   ]
  },
  {
   "cell_type": "code",
   "execution_count": 14,
   "metadata": {
    "ExecuteTime": {
     "end_time": "2022-05-29T15:26:20.507902Z",
     "start_time": "2022-05-29T15:26:20.447672Z"
    },
    "colab": {},
    "colab_type": "code",
    "id": "6sABWkpYfqR7",
    "outputId": "0310d4f8-08eb-4b38-ca03-33a32ab520a1"
   },
   "outputs": [
    {
     "name": "stdout",
     "output_type": "stream",
     "text": [
      "Empty DataFrame\n",
      "Columns: [node_1, node_2]\n",
      "Index: []\n",
      "<class 'pandas.core.frame.DataFrame'>\n",
      "RangeIndex: 17262 entries, 0 to 17261\n",
      "Data columns (total 2 columns):\n",
      " #   Column  Non-Null Count  Dtype\n",
      "---  ------  --------------  -----\n",
      " 0   node_1  17262 non-null  int64\n",
      " 1   node_2  17262 non-null  int64\n",
      "dtypes: int64(2)\n",
      "memory usage: 269.8 KB\n",
      "None\n",
      "Number of duplicate entries:  0\n",
      "saved the graph into file\n",
      "Graph with 3892 nodes and 17262 edges\n"
     ]
    }
   ],
   "source": [
    "#reading graph\n",
    "if not os.path.isfile(f'./eiko/{genre}/after_eda/train_woheader.csv'):\n",
    "    traincsv = pd.read_csv(args.eikoset_path)\n",
    "    print(traincsv[traincsv.isna().any(1)])\n",
    "    print(traincsv.info())\n",
    "    print(\"Number of duplicate entries: \",sum(traincsv.duplicated()))\n",
    "    print(\"saved the graph into file\")\n",
    "    traincsv.to_csv(f'./eiko/{genre}/after_eda/train_woheader.csv',header=False,index=False)\n",
    "    g=nx.read_edgelist(f'./eiko/{genre}/after_eda/train_woheader.csv',delimiter=',',create_using=nx.Graph(),nodetype=int)\n",
    "        \n",
    "    print(nx.info(g))\n",
    "else:\n",
    "    g=nx.read_edgelist(f'./eiko/{genre}/after_eda/train_woheader.csv',delimiter=',',create_using=nx.Graph(),nodetype=int)\n",
    "    print(nx.info(g))"
   ]
  },
  {
   "cell_type": "code",
   "execution_count": 15,
   "metadata": {
    "ExecuteTime": {
     "end_time": "2022-05-29T15:27:11.473327Z",
     "start_time": "2022-05-29T15:27:11.470175Z"
    }
   },
   "outputs": [
    {
     "data": {
      "text/plain": [
       "True"
      ]
     },
     "execution_count": 15,
     "metadata": {},
     "output_type": "execute_result"
    }
   ],
   "source": [
    "with open('/media/paul/G/social-network-final-project/GEMSEC/GEMSEC_nodes.pickle', 'rb') as f:\n",
    "    GEMSEC_nodes = pickle.load(f)\n",
    "\n",
    "GEMSEC_nodes==list(g.nodes)"
   ]
  },
  {
   "cell_type": "code",
   "execution_count": 16,
   "metadata": {
    "ExecuteTime": {
     "end_time": "2022-05-29T15:43:37.924828Z",
     "start_time": "2022-05-29T15:43:37.915932Z"
    }
   },
   "outputs": [
    {
     "data": {
      "text/plain": [
       "[0,\n",
       " 1838,\n",
       " 1744,\n",
       " 14,\n",
       " 2543,\n",
       " 1,\n",
       " 1009,\n",
       " 1171,\n",
       " 1465,\n",
       " 2069,\n",
       " 2080,\n",
       " 1856,\n",
       " 3799,\n",
       " 1033,\n",
       " 2717,\n",
       " 300,\n",
       " 1603,\n",
       " 942,\n",
       " 3678,\n",
       " 952,\n",
       " 815,\n",
       " 2,\n",
       " 3656,\n",
       " 3459,\n",
       " 1157,\n",
       " 1993,\n",
       " 3,\n",
       " 386,\n",
       " 2659,\n",
       " 2160,\n",
       " 1925,\n",
       " 3511,\n",
       " 372,\n",
       " 1506,\n",
       " 2303,\n",
       " 1634,\n",
       " 1706,\n",
       " 3038,\n",
       " 749,\n",
       " 2790,\n",
       " 452,\n",
       " 1936,\n",
       " 2915,\n",
       " 2972,\n",
       " 1100,\n",
       " 2918,\n",
       " 3026,\n",
       " 2406,\n",
       " 1673,\n",
       " 11,\n",
       " 3156,\n",
       " 2250,\n",
       " 2350,\n",
       " 1050,\n",
       " 1060,\n",
       " 1457,\n",
       " 3054,\n",
       " 72,\n",
       " 1553,\n",
       " 1114,\n",
       " 3525,\n",
       " 2064,\n",
       " 3791,\n",
       " 1595,\n",
       " 1177,\n",
       " 1596,\n",
       " 2935,\n",
       " 545,\n",
       " 1840,\n",
       " 423,\n",
       " 1788,\n",
       " 2890,\n",
       " 603,\n",
       " 1498,\n",
       " 703,\n",
       " 1073,\n",
       " 1422,\n",
       " 3283,\n",
       " 2590,\n",
       " 3431,\n",
       " 354,\n",
       " 1720,\n",
       " 3291,\n",
       " 2773,\n",
       " 2804,\n",
       " 2476,\n",
       " 2036,\n",
       " 46,\n",
       " 1986,\n",
       " 2588,\n",
       " 3507,\n",
       " 566,\n",
       " 4,\n",
       " 667,\n",
       " 1931,\n",
       " 5,\n",
       " 275,\n",
       " 1874,\n",
       " 3832,\n",
       " 2847,\n",
       " 1929,\n",
       " 3237,\n",
       " 1209,\n",
       " 578,\n",
       " 3852,\n",
       " 1452,\n",
       " 2361,\n",
       " 590,\n",
       " 2005,\n",
       " 77,\n",
       " 3409,\n",
       " 2816,\n",
       " 80,\n",
       " 2454,\n",
       " 1119,\n",
       " 771,\n",
       " 3204,\n",
       " 2201,\n",
       " 2764,\n",
       " 1609,\n",
       " 315,\n",
       " 3550,\n",
       " 1193,\n",
       " 2344,\n",
       " 1370,\n",
       " 2593,\n",
       " 2472,\n",
       " 3221,\n",
       " 3062,\n",
       " 3747,\n",
       " 3082,\n",
       " 2713,\n",
       " 911,\n",
       " 6,\n",
       " 556,\n",
       " 2524,\n",
       " 3839,\n",
       " 2355,\n",
       " 7,\n",
       " 2170,\n",
       " 495,\n",
       " 3189,\n",
       " 2109,\n",
       " 1920,\n",
       " 1961,\n",
       " 3651,\n",
       " 2179,\n",
       " 3339,\n",
       " 938,\n",
       " 48,\n",
       " 2549,\n",
       " 3122,\n",
       " 2984,\n",
       " 3870,\n",
       " 908,\n",
       " 2449,\n",
       " 3143,\n",
       " 965,\n",
       " 229,\n",
       " 1729,\n",
       " 3519,\n",
       " 9,\n",
       " 2848,\n",
       " 444,\n",
       " 2424,\n",
       " 920,\n",
       " 393,\n",
       " 3316,\n",
       " 455,\n",
       " 130,\n",
       " 2731,\n",
       " 3536,\n",
       " 3392,\n",
       " 2126,\n",
       " 2055,\n",
       " 3135,\n",
       " 450,\n",
       " 245,\n",
       " 2584,\n",
       " 1190,\n",
       " 1530,\n",
       " 1617,\n",
       " 1678,\n",
       " 3238,\n",
       " 3096,\n",
       " 75,\n",
       " 111,\n",
       " 2801,\n",
       " 187,\n",
       " 3397,\n",
       " 1268,\n",
       " 516,\n",
       " 2860,\n",
       " 1864,\n",
       " 3376,\n",
       " 2672,\n",
       " 3662,\n",
       " 3476,\n",
       " 76,\n",
       " 3701,\n",
       " 12,\n",
       " 3336,\n",
       " 26,\n",
       " 1865,\n",
       " 1184,\n",
       " 2661,\n",
       " 2724,\n",
       " 3235,\n",
       " 1696,\n",
       " 342,\n",
       " 264,\n",
       " 126,\n",
       " 2571,\n",
       " 1980,\n",
       " 2241,\n",
       " 2373,\n",
       " 3394,\n",
       " 460,\n",
       " 3659,\n",
       " 1399,\n",
       " 2024,\n",
       " 1998,\n",
       " 1775,\n",
       " 2821,\n",
       " 2799,\n",
       " 1122,\n",
       " 2998,\n",
       " 3884,\n",
       " 2464,\n",
       " 2206,\n",
       " 362,\n",
       " 3244,\n",
       " 672,\n",
       " 3164,\n",
       " 3552,\n",
       " 1977,\n",
       " 2772,\n",
       " 2688,\n",
       " 325,\n",
       " 3883,\n",
       " 2474,\n",
       " 3437,\n",
       " 1497,\n",
       " 15,\n",
       " 2435,\n",
       " 3468,\n",
       " 937,\n",
       " 753,\n",
       " 16,\n",
       " 971,\n",
       " 3287,\n",
       " 592,\n",
       " 3314,\n",
       " 3541,\n",
       " 17,\n",
       " 3214,\n",
       " 2931,\n",
       " 1685,\n",
       " 18,\n",
       " 51,\n",
       " 1004,\n",
       " 3017,\n",
       " 2646,\n",
       " 2329,\n",
       " 19,\n",
       " 375,\n",
       " 190,\n",
       " 2323,\n",
       " 2639,\n",
       " 20,\n",
       " 947,\n",
       " 657,\n",
       " 530,\n",
       " 1962,\n",
       " 1722,\n",
       " 1403,\n",
       " 2750,\n",
       " 693,\n",
       " 36,\n",
       " 974,\n",
       " 22,\n",
       " 1125,\n",
       " 2611,\n",
       " 23,\n",
       " 3731,\n",
       " 1389,\n",
       " 399,\n",
       " 250,\n",
       " 2985,\n",
       " 3767,\n",
       " 2695,\n",
       " 3684,\n",
       " 1792,\n",
       " 557,\n",
       " 3816,\n",
       " 3755,\n",
       " 415,\n",
       " 24,\n",
       " 1173,\n",
       " 2770,\n",
       " 2933,\n",
       " 1149,\n",
       " 3867,\n",
       " 879,\n",
       " 373,\n",
       " 1531,\n",
       " 25,\n",
       " 2062,\n",
       " 828,\n",
       " 146,\n",
       " 1809,\n",
       " 3015,\n",
       " 2130,\n",
       " 2859,\n",
       " 2248,\n",
       " 1474,\n",
       " 1667,\n",
       " 2719,\n",
       " 27,\n",
       " 2193,\n",
       " 1291,\n",
       " 2823,\n",
       " 28,\n",
       " 2709,\n",
       " 2176,\n",
       " 2583,\n",
       " 2789,\n",
       " 3580,\n",
       " 3056,\n",
       " 2310,\n",
       " 29,\n",
       " 1911,\n",
       " 1483,\n",
       " 1322,\n",
       " 2346,\n",
       " 576,\n",
       " 761,\n",
       " 820,\n",
       " 152,\n",
       " 791,\n",
       " 1574,\n",
       " 780,\n",
       " 30,\n",
       " 3029,\n",
       " 2694,\n",
       " 3094,\n",
       " 31,\n",
       " 2794,\n",
       " 3467,\n",
       " 2148,\n",
       " 32,\n",
       " 946,\n",
       " 2277,\n",
       " 86,\n",
       " 1046,\n",
       " 33,\n",
       " 62,\n",
       " 456,\n",
       " 3763,\n",
       " 70,\n",
       " 635,\n",
       " 3493,\n",
       " 3508,\n",
       " 34,\n",
       " 3727,\n",
       " 3714,\n",
       " 936,\n",
       " 35,\n",
       " 2597,\n",
       " 1516,\n",
       " 2899,\n",
       " 2973,\n",
       " 2856,\n",
       " 3195,\n",
       " 3613,\n",
       " 2455,\n",
       " 38,\n",
       " 2261,\n",
       " 253,\n",
       " 1576,\n",
       " 3630,\n",
       " 2225,\n",
       " 1251,\n",
       " 2238,\n",
       " 3306,\n",
       " 3690,\n",
       " 1280,\n",
       " 1162,\n",
       " 1571,\n",
       " 876,\n",
       " 1694,\n",
       " 492,\n",
       " 2720,\n",
       " 1127,\n",
       " 3335,\n",
       " 40,\n",
       " 852,\n",
       " 1344,\n",
       " 41,\n",
       " 3284,\n",
       " 3161,\n",
       " 2512,\n",
       " 2919,\n",
       " 1203,\n",
       " 277,\n",
       " 935,\n",
       " 1254,\n",
       " 847,\n",
       " 2214,\n",
       " 2041,\n",
       " 42,\n",
       " 775,\n",
       " 2243,\n",
       " 2008,\n",
       " 1145,\n",
       " 3254,\n",
       " 43,\n",
       " 625,\n",
       " 730,\n",
       " 270,\n",
       " 2618,\n",
       " 951,\n",
       " 1297,\n",
       " 1136,\n",
       " 478,\n",
       " 2567,\n",
       " 1286,\n",
       " 2774,\n",
       " 3333,\n",
       " 44,\n",
       " 932,\n",
       " 2505,\n",
       " 616,\n",
       " 3713,\n",
       " 45,\n",
       " 201,\n",
       " 47,\n",
       " 258,\n",
       " 3775,\n",
       " 369,\n",
       " 2517,\n",
       " 512,\n",
       " 1202,\n",
       " 1205,\n",
       " 1167,\n",
       " 944,\n",
       " 391,\n",
       " 1092,\n",
       " 2365,\n",
       " 2769,\n",
       " 1766,\n",
       " 1950,\n",
       " 3593,\n",
       " 3797,\n",
       " 2478,\n",
       " 1075,\n",
       " 1219,\n",
       " 3517,\n",
       " 211,\n",
       " 1557,\n",
       " 49,\n",
       " 3874,\n",
       " 2921,\n",
       " 2666,\n",
       " 1790,\n",
       " 2506,\n",
       " 50,\n",
       " 3090,\n",
       " 1067,\n",
       " 3348,\n",
       " 2475,\n",
       " 564,\n",
       " 767,\n",
       " 3040,\n",
       " 2333,\n",
       " 3666,\n",
       " 3321,\n",
       " 2623,\n",
       " 1456,\n",
       " 3663,\n",
       " 1832,\n",
       " 2131,\n",
       " 3740,\n",
       " 2089,\n",
       " 804,\n",
       " 3044,\n",
       " 52,\n",
       " 1000,\n",
       " 2348,\n",
       " 53,\n",
       " 3590,\n",
       " 3766,\n",
       " 517,\n",
       " 3526,\n",
       " 54,\n",
       " 3162,\n",
       " 3399,\n",
       " 1825,\n",
       " 1028,\n",
       " 1871,\n",
       " 2034,\n",
       " 679,\n",
       " 962,\n",
       " 195,\n",
       " 55,\n",
       " 1169,\n",
       " 3644,\n",
       " 2589,\n",
       " 3200,\n",
       " 3169,\n",
       " 3487,\n",
       " 3503,\n",
       " 3150,\n",
       " 3253,\n",
       " 56,\n",
       " 1883,\n",
       " 2993,\n",
       " 57,\n",
       " 1801,\n",
       " 2052,\n",
       " 58,\n",
       " 88,\n",
       " 1941,\n",
       " 1904,\n",
       " 1343,\n",
       " 449,\n",
       " 59,\n",
       " 2413,\n",
       " 3574,\n",
       " 60,\n",
       " 2982,\n",
       " 2727,\n",
       " 3340,\n",
       " 1670,\n",
       " 3445,\n",
       " 61,\n",
       " 1526,\n",
       " 3193,\n",
       " 3278,\n",
       " 2975,\n",
       " 1504,\n",
       " 281,\n",
       " 2269,\n",
       " 3052,\n",
       " 1803,\n",
       " 1983,\n",
       " 3011,\n",
       " 3843,\n",
       " 63,\n",
       " 266,\n",
       " 2629,\n",
       " 957,\n",
       " 66,\n",
       " 1133,\n",
       " 192,\n",
       " 2407,\n",
       " 2886,\n",
       " 2548,\n",
       " 2939,\n",
       " 797,\n",
       " 1301,\n",
       " 3482,\n",
       " 64,\n",
       " 2885,\n",
       " 65,\n",
       " 2335,\n",
       " 827,\n",
       " 3252,\n",
       " 2031,\n",
       " 561,\n",
       " 1570,\n",
       " 1218,\n",
       " 501,\n",
       " 2462,\n",
       " 3113,\n",
       " 2877,\n",
       " 2497,\n",
       " 3823,\n",
       " 67,\n",
       " 540,\n",
       " 991,\n",
       " 1668,\n",
       " 3104,\n",
       " 2446,\n",
       " 2159,\n",
       " 3129,\n",
       " 68,\n",
       " 2625,\n",
       " 3317,\n",
       " 69,\n",
       " 3641,\n",
       " 71,\n",
       " 1888,\n",
       " 2247,\n",
       " 2895,\n",
       " 1702,\n",
       " 1038,\n",
       " 2363,\n",
       " 723,\n",
       " 734,\n",
       " 74,\n",
       " 840,\n",
       " 2219,\n",
       " 457,\n",
       " 869,\n",
       " 2976,\n",
       " 3256,\n",
       " 3274,\n",
       " 925,\n",
       " 10,\n",
       " 3845,\n",
       " 2067,\n",
       " 307,\n",
       " 3710,\n",
       " 496,\n",
       " 2185,\n",
       " 2433,\n",
       " 374,\n",
       " 575,\n",
       " 752,\n",
       " 3844,\n",
       " 1761,\n",
       " 529,\n",
       " 697,\n",
       " 2268,\n",
       " 92,\n",
       " 2112,\n",
       " 1984,\n",
       " 2412,\n",
       " 3099,\n",
       " 3303,\n",
       " 2370,\n",
       " 309,\n",
       " 1524,\n",
       " 3382,\n",
       " 3605,\n",
       " 2592,\n",
       " 1464,\n",
       " 78,\n",
       " 3762,\n",
       " 285,\n",
       " 2305,\n",
       " 2547,\n",
       " 3422,\n",
       " 396,\n",
       " 3364,\n",
       " 134,\n",
       " 1887,\n",
       " 650,\n",
       " 891,\n",
       " 2434,\n",
       " 3485,\n",
       " 421,\n",
       " 363,\n",
       " 2948,\n",
       " 1548,\n",
       " 3367,\n",
       " 3091,\n",
       " 79,\n",
       " 1900,\n",
       " 2194,\n",
       " 3540,\n",
       " 1338,\n",
       " 3208,\n",
       " 1201,\n",
       " 662,\n",
       " 3393,\n",
       " 81,\n",
       " 1454,\n",
       " 293,\n",
       " 3137,\n",
       " 1964,\n",
       " 1800,\n",
       " 296,\n",
       " 2293,\n",
       " 2432,\n",
       " 82,\n",
       " 855,\n",
       " 1039,\n",
       " 2796,\n",
       " 322,\n",
       " 2246,\n",
       " 1164,\n",
       " 3669,\n",
       " 3063,\n",
       " 1175,\n",
       " 308,\n",
       " 1787,\n",
       " 1659,\n",
       " 2022,\n",
       " 1245,\n",
       " 894,\n",
       " 955,\n",
       " 1132,\n",
       " 1425,\n",
       " 3396,\n",
       " 2288,\n",
       " 223,\n",
       " 1197,\n",
       " 887,\n",
       " 2204,\n",
       " 333,\n",
       " 83,\n",
       " 3294,\n",
       " 3083,\n",
       " 881,\n",
       " 3571,\n",
       " 3579,\n",
       " 2522,\n",
       " 84,\n",
       " 3568,\n",
       " 85,\n",
       " 2797,\n",
       " 3513,\n",
       " 3537,\n",
       " 3035,\n",
       " 3697,\n",
       " 87,\n",
       " 3105,\n",
       " 89,\n",
       " 1877,\n",
       " 90,\n",
       " 2852,\n",
       " 1658,\n",
       " 1963,\n",
       " 806,\n",
       " 1115,\n",
       " 91,\n",
       " 2710,\n",
       " 1903,\n",
       " 2003,\n",
       " 3576,\n",
       " 1455,\n",
       " 113,\n",
       " 889,\n",
       " 3158,\n",
       " 1379,\n",
       " 93,\n",
       " 1727,\n",
       " 619,\n",
       " 94,\n",
       " 2706,\n",
       " 1198,\n",
       " 96,\n",
       " 2817,\n",
       " 706,\n",
       " 3429,\n",
       " 537,\n",
       " 1428,\n",
       " 1229,\n",
       " 1312,\n",
       " 1152,\n",
       " 1684,\n",
       " 3276,\n",
       " 1968,\n",
       " 1834,\n",
       " 97,\n",
       " 1561,\n",
       " 377,\n",
       " 1521,\n",
       " 1547,\n",
       " 1580,\n",
       " 1675,\n",
       " 2602,\n",
       " 2502,\n",
       " 2198,\n",
       " 2391,\n",
       " 1870,\n",
       " 3497,\n",
       " 155,\n",
       " 1035,\n",
       " 1346,\n",
       " 2991,\n",
       " 98,\n",
       " 1645,\n",
       " 2751,\n",
       " 99,\n",
       " 2814,\n",
       " 597,\n",
       " 2302,\n",
       " 254,\n",
       " 406,\n",
       " 3557,\n",
       " 1783,\n",
       " 2136,\n",
       " 3492,\n",
       " 100,\n",
       " 1371,\n",
       " 101,\n",
       " 1536,\n",
       " 2992,\n",
       " 3553,\n",
       " 3865,\n",
       " 1786,\n",
       " 981,\n",
       " 909,\n",
       " 102,\n",
       " 1086,\n",
       " 103,\n",
       " 2491,\n",
       " 655,\n",
       " 1664,\n",
       " 819,\n",
       " 104,\n",
       " 345,\n",
       " 137,\n",
       " 2802,\n",
       " 3267,\n",
       " 2171,\n",
       " 183,\n",
       " 3209,\n",
       " 798,\n",
       " 1441,\n",
       " 3881,\n",
       " 2528,\n",
       " 802,\n",
       " 681,\n",
       " 1640,\n",
       " 1214,\n",
       " 3318,\n",
       " 402,\n",
       " 1158,\n",
       " 995,\n",
       " 2117,\n",
       " 2118,\n",
       " 1053,\n",
       " 1620,\n",
       " 1057,\n",
       " 2753,\n",
       " 188,\n",
       " 202,\n",
       " 3138,\n",
       " 425,\n",
       " 3615,\n",
       " 2707,\n",
       " 160,\n",
       " 737,\n",
       " 2209,\n",
       " 3676,\n",
       " 3152,\n",
       " 3288,\n",
       " 2471,\n",
       " 3619,\n",
       " 2035,\n",
       " 2038,\n",
       " 910,\n",
       " 1987,\n",
       " 2157,\n",
       " 106,\n",
       " 1822,\n",
       " 3512,\n",
       " 1117,\n",
       " 799,\n",
       " 1051,\n",
       " 716,\n",
       " 1742,\n",
       " 2609,\n",
       " 107,\n",
       " 206,\n",
       " 3761,\n",
       " 1719,\n",
       " 108,\n",
       " 1954,\n",
       " 896,\n",
       " 1615,\n",
       " 1281,\n",
       " 340,\n",
       " 1055,\n",
       " 2479,\n",
       " 3413,\n",
       " 2486,\n",
       " 2873,\n",
       " 109,\n",
       " 110,\n",
       " 3002,\n",
       " 2953,\n",
       " 2251,\n",
       " 416,\n",
       " 626,\n",
       " 2674,\n",
       " 2116,\n",
       " 2929,\n",
       " 203,\n",
       " 2884,\n",
       " 831,\n",
       " 2640,\n",
       " 3076,\n",
       " 157,\n",
       " 1419,\n",
       " 1362,\n",
       " 434,\n",
       " 2217,\n",
       " 3023,\n",
       " 3544,\n",
       " 3265,\n",
       " 2340,\n",
       " 3405,\n",
       " 3212,\n",
       " 989,\n",
       " 1089,\n",
       " 3790,\n",
       " 1347,\n",
       " 3101,\n",
       " 3074,\n",
       " 551,\n",
       " 2735,\n",
       " 1187,\n",
       " 2902,\n",
       " 114,\n",
       " 2352,\n",
       " 2712,\n",
       " 115,\n",
       " 1841,\n",
       " 2044,\n",
       " 116,\n",
       " 1537,\n",
       " 117,\n",
       " 169,\n",
       " 246,\n",
       " 3711,\n",
       " 3408,\n",
       " 1225,\n",
       " 941,\n",
       " 3006,\n",
       " 1794,\n",
       " 118,\n",
       " 2056,\n",
       " 119,\n",
       " 461,\n",
       " 120,\n",
       " 3599,\n",
       " 2986,\n",
       " 814,\n",
       " 3529,\n",
       " 441,\n",
       " 121,\n",
       " 3649,\n",
       " 2222,\n",
       " 122,\n",
       " 2668,\n",
       " 2734,\n",
       " 1597,\n",
       " 123,\n",
       " 3065,\n",
       " 695,\n",
       " 1008,\n",
       " 1619,\n",
       " 845,\n",
       " 1257,\n",
       " 2981,\n",
       " 2834,\n",
       " 3159,\n",
       " 520,\n",
       " 2276,\n",
       " 297,\n",
       " 3670,\n",
       " 124,\n",
       " 3349,\n",
       " 3682,\n",
       " 1063,\n",
       " 394,\n",
       " 125,\n",
       " 3380,\n",
       " 1256,\n",
       " 834,\n",
       " 3854,\n",
       " 1059,\n",
       " 2393,\n",
       " 1644,\n",
       " 127,\n",
       " 1641,\n",
       " 3498,\n",
       " 2622,\n",
       " 3495,\n",
       " 129,\n",
       " 953,\n",
       " 2162,\n",
       " 1578,\n",
       " 3108,\n",
       " 1444,\n",
       " 2447,\n",
       " 1054,\n",
       " 2188,\n",
       " 1500,\n",
       " 131,\n",
       " 1848,\n",
       " 1852,\n",
       " 2114,\n",
       " 762,\n",
       " 2951,\n",
       " 2669,\n",
       " 1186,\n",
       " 132,\n",
       " 872,\n",
       " 2485,\n",
       " 260,\n",
       " 133,\n",
       " 2679,\n",
       " 1996,\n",
       " 863,\n",
       " ...]"
      ]
     },
     "execution_count": 16,
     "metadata": {},
     "output_type": "execute_result"
    }
   ],
   "source": [
    "GEMSEC_nodes"
   ]
  },
  {
   "cell_type": "code",
   "execution_count": 7,
   "metadata": {
    "ExecuteTime": {
     "end_time": "2022-05-29T12:38:21.053640Z",
     "start_time": "2022-05-29T12:38:21.052048Z"
    }
   },
   "outputs": [],
   "source": [
    "# print(sorted(list(g.nodes)))"
   ]
  },
  {
   "cell_type": "markdown",
   "metadata": {
    "colab_type": "text",
    "id": "9BsSAM7IfqR_"
   },
   "source": [
    "> Displaying a sub graph"
   ]
  },
  {
   "cell_type": "code",
   "execution_count": 8,
   "metadata": {
    "ExecuteTime": {
     "end_time": "2022-05-29T12:38:21.056441Z",
     "start_time": "2022-05-29T12:38:21.055071Z"
    },
    "colab": {},
    "colab_type": "code",
    "id": "Yt3jj1rWfqSA",
    "outputId": "bce4fd1b-471a-4b91-94a7-f3a8cf13ed7e"
   },
   "outputs": [],
   "source": [
    "# if not os.path.isfile('train_woheader_sample.csv'):\n",
    "#     pd.read_csv('./gemsec_facebook_eikoset/facebook_clean_eiko/tvshow_edges.csv', nrows=50).to_csv('train_woheader_sample.csv',header=False,index=False)\n",
    "    \n",
    "# subgraph=nx.read_edgelist('train_woheader_sample.csv',delimiter=',',create_using=nx.Graph(),nodetype=int)\n",
    "# # https://stackoverflow.com/questions/9402255/drawing-a-huge-graph-with-networkx-and-matplotlib\n",
    "\n",
    "# pos=nx.spring_layout(subgraph)\n",
    "# nx.draw(subgraph,pos,node_color='#A0CBE2',edge_color='#00bb5e',width=1,edge_cmap=plt.cm.Blues,with_labels=True)\n",
    "# plt.savefig(\"graph_sample.pdf\")\n",
    "# print(nx.info(subgraph))"
   ]
  },
  {
   "cell_type": "markdown",
   "metadata": {
    "colab_type": "text",
    "id": "NnwpxkINfqSD"
   },
   "source": [
    "# 1. Exploratory eiko Analysis"
   ]
  },
  {
   "cell_type": "code",
   "execution_count": 9,
   "metadata": {
    "ExecuteTime": {
     "end_time": "2022-05-29T12:38:21.058492Z",
     "start_time": "2022-05-29T12:38:21.057155Z"
    },
    "colab": {},
    "colab_type": "code",
    "id": "4n4PAdf1fqSE",
    "outputId": "0af66c81-38a8-468c-9bb6-941797469002"
   },
   "outputs": [],
   "source": [
    "# # No of Unique persons \n",
    "# print(\"The number of unique persons\",len(g.nodes()))"
   ]
  },
  {
   "cell_type": "markdown",
   "metadata": {
    "colab_type": "text",
    "id": "TGIr9SeafqSH"
   },
   "source": [
    "## 1.1 No of neighbors for each person"
   ]
  },
  {
   "cell_type": "code",
   "execution_count": 10,
   "metadata": {
    "ExecuteTime": {
     "end_time": "2022-05-29T12:38:21.060651Z",
     "start_time": "2022-05-29T12:38:21.059225Z"
    },
    "colab": {},
    "colab_type": "code",
    "id": "SO2fHSN8fqSI",
    "outputId": "1fb4a1de-31d3-45e0-f54a-c0c9361ee270"
   },
   "outputs": [],
   "source": [
    "# degree_dist = list(dict(g.degree()).values())\n",
    "\n",
    "# degree_dist.sort()\n",
    "\n",
    "# plt.figure(figsize=(10,6))\n",
    "# plt.plot(degree_dist)\n",
    "# plt.xlabel('Index No')\n",
    "# plt.ylabel('No Of neighbors')\n",
    "# plt.show()"
   ]
  },
  {
   "cell_type": "code",
   "execution_count": 11,
   "metadata": {
    "ExecuteTime": {
     "end_time": "2022-05-29T12:38:21.062745Z",
     "start_time": "2022-05-29T12:38:21.061364Z"
    },
    "colab": {},
    "colab_type": "code",
    "id": "KB5gmQeEfqSP",
    "outputId": "f2e34b14-b93f-4ef0-df75-41dcd5b7732e"
   },
   "outputs": [],
   "source": [
    "# plt.boxplot(degree_dist)\n",
    "# plt.ylabel('No Of neighbors')\n",
    "# plt.show()"
   ]
  },
  {
   "cell_type": "code",
   "execution_count": 12,
   "metadata": {
    "ExecuteTime": {
     "end_time": "2022-05-29T12:38:21.064871Z",
     "start_time": "2022-05-29T12:38:21.063508Z"
    },
    "colab": {},
    "colab_type": "code",
    "id": "NlqNTbvBfqSV",
    "outputId": "67e61567-edda-43fa-e795-3a08e4ea0606"
   },
   "outputs": [],
   "source": [
    "# ### 90-100 percentile\n",
    "# for i in range(0,11):\n",
    "#     print(90+i,'percentile value is',np.percentile(degree_dist,90+i))"
   ]
  },
  {
   "cell_type": "markdown",
   "metadata": {
    "colab_type": "text",
    "id": "8poopx4SfqSY"
   },
   "source": [
    "99% of eiko having followers of 40 only."
   ]
  },
  {
   "cell_type": "code",
   "execution_count": 13,
   "metadata": {
    "ExecuteTime": {
     "end_time": "2022-05-29T12:38:21.067008Z",
     "start_time": "2022-05-29T12:38:21.065627Z"
    },
    "colab": {},
    "colab_type": "code",
    "id": "T39h02gjfqSY",
    "outputId": "47c5983e-8441-49e6-ad0d-c192e236f7e7"
   },
   "outputs": [],
   "source": [
    "# ### 99-100 percentile\n",
    "# for i in range(10,110,10):\n",
    "#     print(99+(i/100),'percentile value is',np.percentile(degree_dist,99+(i/100)))"
   ]
  },
  {
   "cell_type": "code",
   "execution_count": 14,
   "metadata": {
    "ExecuteTime": {
     "end_time": "2022-05-29T12:38:21.069202Z",
     "start_time": "2022-05-29T12:38:21.067790Z"
    },
    "colab": {},
    "colab_type": "code",
    "id": "HUC-l4ecfqSc",
    "outputId": "aabd357c-e104-4653-c6cb-9463b4d7b586"
   },
   "outputs": [],
   "source": [
    "# %matplotlib inline\n",
    "# sns.set_style('ticks')\n",
    "# fig, ax = plt.subplots()\n",
    "# fig.set_size_inches(11.7, 8.27)\n",
    "# sns.distplot(degree_dist, color='#16A085')\n",
    "# plt.xlabel('PDF of degree')\n",
    "# sns.despine()\n",
    "# #plt.show()"
   ]
  },
  {
   "cell_type": "code",
   "execution_count": 15,
   "metadata": {
    "ExecuteTime": {
     "end_time": "2022-05-29T12:38:21.071309Z",
     "start_time": "2022-05-29T12:38:21.069811Z"
    },
    "colab": {},
    "colab_type": "code",
    "id": "F43xaOxXfqTb",
    "outputId": "3d2669e3-0831-4deb-b336-4dcbbeded3af"
   },
   "outputs": [],
   "source": [
    "# print('No of persons having neighbor less than 10 are',np.sum(np.array(degree_dist)<10))"
   ]
  },
  {
   "cell_type": "code",
   "execution_count": 16,
   "metadata": {
    "ExecuteTime": {
     "end_time": "2022-05-29T12:38:21.073259Z",
     "start_time": "2022-05-29T12:38:21.071913Z"
    },
    "colab": {},
    "colab_type": "code",
    "id": "5_UQN2TWfqTf",
    "outputId": "40f692bf-6aee-475d-af5c-4b1277523fbf",
    "scrolled": true
   },
   "outputs": [],
   "source": [
    "# print('No of connected components',len(list(nx.connected_components(g))))\n",
    "# count=0\n",
    "# for i in list(nx.connected_components(g)):\n",
    "#     if len(i)==2:\n",
    "#         count+=1\n",
    "# print('connected components with 2 nodes',count)"
   ]
  },
  {
   "cell_type": "markdown",
   "metadata": {
    "colab_type": "text",
    "id": "HhiIapmZfqTm"
   },
   "source": [
    "# 2. Posing a problem as classification problem "
   ]
  },
  {
   "cell_type": "markdown",
   "metadata": {
    "colab_type": "text",
    "id": "3mwSAo4DfqTn"
   },
   "source": [
    "## 2.1 Generating some edges which are not present in graph for supervised learning  \n",
    "Generated Bad links from graph which are not in graph and whose shortest path is greater than 2. "
   ]
  },
  {
   "cell_type": "code",
   "execution_count": 17,
   "metadata": {
    "ExecuteTime": {
     "end_time": "2022-05-29T12:38:21.075973Z",
     "start_time": "2022-05-29T12:38:21.074028Z"
    },
    "colab": {},
    "colab_type": "code",
    "id": "ALnbFILsfqT5",
    "outputId": "a4315b29-bfb9-498e-9360-b4bf2f716b0e",
    "scrolled": true
   },
   "outputs": [],
   "source": [
    "# ##generating bad edges from given graph\n",
    "\n",
    "# if not os.path.isfile(f'./eiko/{genre}/after_eda/missing_edges_final.p'):\n",
    "#     #getting all set of edges\n",
    "#     r = csv.reader(open(f'./eiko/{genre}/after_eda/train_woheader.csv','r'))\n",
    "#     edges = dict()\n",
    "#     for edge in r:\n",
    "#         edges[(int(edge[0]), int(edge[1]))] = 1\n",
    "        \n",
    "#     missing_edges = set([])\n",
    "#     g_edges_num=len(g.edges)\n",
    "#     g_nodes_num=len(g.nodes)\n",
    "#     while (len(missing_edges)<g_edges_num):\n",
    "#         a=random.randint(0,g_nodes_num-1)\n",
    "#         b=random.randint(0,g_nodes_num-1)\n",
    "#         tmp = edges.get((a,b),-1)\n",
    "#         if tmp == -1 and a!=b:\n",
    "#             try:\n",
    "#                 if nx.shortest_path_length(g,source=a,target=b) > 2: \n",
    "\n",
    "#                     missing_edges.add((a,b))\n",
    "#                 else:\n",
    "#                     continue  \n",
    "#             except:  \n",
    "#                     missing_edges.add((a,b))\n",
    "#             missing_edges.add((a,b))\n",
    "#         else:\n",
    "#             continue\n",
    "# #         print(len(missing_edges))\n",
    "#     pickle.dump(missing_edges,open(f'./eiko/{genre}/after_eda/missing_edges_final.p','wb'))\n",
    "# else:\n",
    "#     missing_edges = pickle.load(open(f'./eiko/{genre}/after_eda/missing_edges_final.p','rb'))"
   ]
  },
  {
   "cell_type": "code",
   "execution_count": 18,
   "metadata": {
    "ExecuteTime": {
     "end_time": "2022-05-29T12:38:21.078417Z",
     "start_time": "2022-05-29T12:38:21.076868Z"
    }
   },
   "outputs": [],
   "source": [
    "# #getting all set of edges\n",
    "# r = csv.reader(open(f'./eiko/{genre}/after_eda/train_woheader.csv','r'))\n",
    "# edges = dict()\n",
    "# for edge in r:\n",
    "#     edges[(int(edge[0]), int(edge[1]))] = 1\n",
    "#     edges[(int(edge[1]), int(edge[0]))] = 1\n",
    "# missing_edges = set([])\n",
    "# g_edges_num=len(g.edges)\n",
    "# g_nodes_num=len(g.nodes)\n",
    "# while (len(missing_edges)<g_edges_num):\n",
    "#     a=random.randint(0,g_nodes_num-1)\n",
    "#     b=random.randint(0,g_nodes_num-1)\n",
    "# #     print((a,b))\n",
    "#     tmp = edges.get((a,b),-1)\n",
    "#     if tmp == -1 and a!=b:\n",
    "\n",
    "#         missing_edges.add((a,b))\n",
    "#     else:\n",
    "#         continue\n",
    "\n",
    "\n"
   ]
  },
  {
   "cell_type": "code",
   "execution_count": 19,
   "metadata": {
    "ExecuteTime": {
     "end_time": "2022-05-29T12:38:21.236186Z",
     "start_time": "2022-05-29T12:38:21.079336Z"
    }
   },
   "outputs": [],
   "source": [
    "#保雲\n",
    "adj_G = nx.to_numpy_matrix(g,nodelist=sorted(list(g.nodes)))\n",
    "missing_edges = []\n",
    "g_edges_num=len(g.edges)\n",
    "g_nodes_num=len(g.nodes)\n",
    "cnt = 0\n",
    "# unconnected_link = set([])\n",
    "while cnt < g_edges_num:\n",
    "    i = random.randint(0, g_nodes_num-1)\n",
    "    j = random.randint(0, g_nodes_num-1)\n",
    "    if adj_G[i, j] == 0 and i!=j:\n",
    "        adj_G[i, j] = 1\n",
    "        missing_edges.append([i,j])\n",
    "        cnt += 1\n",
    "      "
   ]
  },
  {
   "cell_type": "code",
   "execution_count": 20,
   "metadata": {
    "ExecuteTime": {
     "end_time": "2022-05-29T12:38:21.238409Z",
     "start_time": "2022-05-29T12:38:21.237035Z"
    },
    "scrolled": true
   },
   "outputs": [],
   "source": [
    "# with open('code/node_list.pickle', 'rb') as f:\n",
    "#     node_list = pickle.load(f)\n",
    "# print(node_list)"
   ]
  },
  {
   "cell_type": "code",
   "execution_count": 21,
   "metadata": {
    "ExecuteTime": {
     "end_time": "2022-05-29T12:38:21.246273Z",
     "start_time": "2022-05-29T12:38:21.239095Z"
    },
    "scrolled": true
   },
   "outputs": [
    {
     "data": {
      "text/plain": [
       "17262"
      ]
     },
     "execution_count": 21,
     "metadata": {},
     "output_type": "execute_result"
    }
   ],
   "source": [
    "with open('code/unconnected_link.pickle', 'rb') as f:\n",
    "    unconnected_link = pickle.load(f)\n",
    "len(unconnected_link)\n",
    "# print(len(sorted(unconnected_link)))"
   ]
  },
  {
   "cell_type": "markdown",
   "metadata": {
    "colab_type": "text",
    "id": "sCDeoOlFfqT-"
   },
   "source": [
    "## 2.2 Training and Test eiko split:  \n",
    "Removed edges from Graph and used as test eiko and after removing used that graph for creating features for Train and test eiko"
   ]
  },
  {
   "cell_type": "code",
   "execution_count": 22,
   "metadata": {
    "ExecuteTime": {
     "end_time": "2022-05-29T12:38:21.279788Z",
     "start_time": "2022-05-29T12:38:21.246951Z"
    },
    "colab": {},
    "colab_type": "code",
    "id": "mBJF78difqT_",
    "outputId": "4ea80a08-3303-4295-a50c-3584a1895a21"
   },
   "outputs": [
    {
     "name": "stdout",
     "output_type": "stream",
     "text": [
      "Number of nodes in the graph with edges 17262\n",
      "Number of nodes in the graph without edges 17262\n",
      "============================================================\n",
      "Number of nodes in the train eiko graph with edges 13809 = 13809\n",
      "Number of nodes in the train eiko graph without edges 13809 = 13809\n",
      "============================================================\n",
      "Number of nodes in the test eiko graph with edges 3453 = 3453\n",
      "Number of nodes in the test eiko graph without edges 3453 = 3453\n"
     ]
    }
   ],
   "source": [
    "from sklearn.model_selection import train_test_split\n",
    "if (not os.path.isfile(f'./eiko/{genre}/after_eda/train_pos_after_eda.csv')) and (not os.path.isfile(f'./eiko/{genre}/after_eda/test_pos_after_eda.csv')):\n",
    "    #reading total eiko df\n",
    "    df_pos = pd.read_csv(args.eikoset_path)\n",
    "    df_neg = pd.DataFrame(missing_edges, columns=['source_node', 'destination_node'])\n",
    "    \n",
    "    print(\"Number of nodes in the graph with edges\", df_pos.shape[0])\n",
    "    print(\"Number of nodes in the graph without edges\", df_neg.shape[0])\n",
    "    \n",
    "    #Trian test split \n",
    "    #Spiltted eiko into 80-20 \n",
    "    #positive links and negative links seperatly because we need positive training eiko only for creating graph \n",
    "    #and for feature generation\n",
    "    X_train_pos, X_test_pos, y_train_pos, y_test_pos  = train_test_split(df_pos,np.ones(len(df_pos)),test_size=0.2, random_state=9)\n",
    "    X_train_neg, X_test_neg, y_train_neg, y_test_neg  = train_test_split(df_neg,np.zeros(len(df_neg)),test_size=0.2, random_state=9)\n",
    "    \n",
    "    print('='*60)\n",
    "    print(\"Number of nodes in the train eiko graph with edges\", X_train_pos.shape[0],\"=\",y_train_pos.shape[0])\n",
    "    print(\"Number of nodes in the train eiko graph without edges\", X_train_neg.shape[0],\"=\", y_train_neg.shape[0])\n",
    "    print('='*60)\n",
    "    print(\"Number of nodes in the test eiko graph with edges\", X_test_pos.shape[0],\"=\",y_test_pos.shape[0])\n",
    "    print(\"Number of nodes in the test eiko graph without edges\", X_test_neg.shape[0],\"=\",y_test_neg.shape[0])\n",
    "\n",
    "    #removing header and saving\n",
    "    X_train_pos.to_csv(f'./eiko/{genre}/after_eda/train_pos_after_eda.csv',header=False, index=False)\n",
    "    X_test_pos.to_csv(f'./eiko/{genre}/after_eda/test_pos_after_eda.csv',header=False, index=False)\n",
    "    X_train_neg.to_csv(f'./eiko/{genre}/after_eda/train_neg_after_eda.csv',header=False, index=False)\n",
    "    X_test_neg.to_csv(f'./eiko/{genre}/after_eda/test_neg_after_eda.csv',header=False, index=False)\n",
    "del missing_edges"
   ]
  },
  {
   "cell_type": "code",
   "execution_count": 23,
   "metadata": {
    "ExecuteTime": {
     "end_time": "2022-05-29T12:38:21.312127Z",
     "start_time": "2022-05-29T12:38:21.280555Z"
    },
    "colab": {},
    "colab_type": "code",
    "id": "bwvTqFurfqUC",
    "outputId": "046b9360-2d46-455f-caa0-75f982fbfd90"
   },
   "outputs": [
    {
     "name": "stdout",
     "output_type": "stream",
     "text": [
      "Graph with 3754 nodes and 13809 edges\n",
      "Graph with 2406 nodes and 3453 edges\n",
      "no of people common in train and test --  2268\n",
      "no of people present in train but not present in test --  1486\n",
      "no of people present in test but not present in train --  138\n",
      " % of people not there in Train but exist in Test in total Test eiko are 5.7356608478802995 %\n"
     ]
    }
   ],
   "source": [
    "if (os.path.isfile(f'./eiko/{genre}/after_eda/train_pos_after_eda.csv')) and (os.path.isfile(f'./eiko/{genre}/after_eda/test_pos_after_eda.csv')):        \n",
    "    train_graph=nx.read_edgelist(f'./eiko/{genre}/after_eda/train_pos_after_eda.csv',delimiter=',',create_using=nx.Graph(),nodetype=int)\n",
    "    test_graph=nx.read_edgelist(f'./eiko/{genre}/after_eda/test_pos_after_eda.csv',delimiter=',',create_using=nx.Graph(),nodetype=int)\n",
    "    print(nx.info(train_graph))\n",
    "    print(nx.info(test_graph))\n",
    "\n",
    "    # finding the unique nodes in the both train and test graphs\n",
    "    train_nodes_pos = set(train_graph.nodes())\n",
    "    test_nodes_pos = set(test_graph.nodes())\n",
    "\n",
    "    trY_teY = len(train_nodes_pos.intersection(test_nodes_pos))\n",
    "    trY_teN = len(train_nodes_pos - test_nodes_pos)\n",
    "    teY_trN = len(test_nodes_pos - train_nodes_pos)\n",
    "\n",
    "    print('no of people common in train and test -- ',trY_teY)\n",
    "    print('no of people present in train but not present in test -- ',trY_teN)\n",
    "\n",
    "    print('no of people present in test but not present in train -- ',teY_trN)\n",
    "    print(' % of people not there in Train but exist in Test in total Test eiko are {} %'.format(teY_trN/len(test_nodes_pos)*100))"
   ]
  },
  {
   "cell_type": "markdown",
   "metadata": {
    "colab_type": "text",
    "id": "CGz9PQ2tfqUF"
   },
   "source": [
    "> we have a cold start problem here"
   ]
  },
  {
   "cell_type": "code",
   "execution_count": 24,
   "metadata": {
    "ExecuteTime": {
     "end_time": "2022-05-29T12:38:21.454974Z",
     "start_time": "2022-05-29T12:38:21.313301Z"
    },
    "colab": {},
    "colab_type": "code",
    "id": "0Qcm4p_kfqUH",
    "outputId": "0e60e78b-82c2-4f6e-a3a7-6d090fbd48c7",
    "scrolled": true
   },
   "outputs": [
    {
     "name": "stdout",
     "output_type": "stream",
     "text": [
      "============================================================\n",
      "Number of nodes in the train eiko graph with edges 13809\n",
      "Number of nodes in the train eiko graph without edges 13809\n",
      "============================================================\n",
      "Number of nodes in the test eiko graph with edges 3453\n",
      "Number of nodes in the test eiko graph without edges 3453\n",
      "eiko points in train eiko (27618, 2)\n",
      "eiko points in test eiko (6906, 2)\n",
      "Shape of traget variable in train (27618,)\n",
      "Shape of traget variable in test (6906,)\n"
     ]
    }
   ],
   "source": [
    "#final train and test eiko sets\n",
    "if (not os.path.isfile(f'./eiko/{genre}/after_eda/train_after_eda.csv')) and \\\n",
    "(not os.path.isfile(f'./eiko/{genre}/after_eda/test_after_eda.csv')) and \\\n",
    "(not os.path.isfile(f'./eiko/{genre}/train_y.csv')) and \\\n",
    "(not os.path.isfile(f'./eiko/{genre}/test_y.csv')) and \\\n",
    "(os.path.isfile(f'./eiko/{genre}/after_eda/train_pos_after_eda.csv')) and \\\n",
    "(os.path.isfile(f'./eiko/{genre}/after_eda/test_pos_after_eda.csv')) and \\\n",
    "(os.path.isfile(f'./eiko/{genre}/after_eda/train_neg_after_eda.csv')) and \\\n",
    "(os.path.isfile(f'./eiko/{genre}/after_eda/test_neg_after_eda.csv')):\n",
    "    \n",
    "    X_train_pos = pd.read_csv(f'./eiko/{genre}/after_eda/train_pos_after_eda.csv', names=['source_node', 'destination_node'])\n",
    "    X_test_pos = pd.read_csv(f'./eiko/{genre}/after_eda/test_pos_after_eda.csv', names=['source_node', 'destination_node'])\n",
    "    X_train_neg = pd.read_csv(f'./eiko/{genre}/after_eda/train_neg_after_eda.csv', names=['source_node', 'destination_node'])\n",
    "    X_test_neg = pd.read_csv(f'./eiko/{genre}/after_eda/test_neg_after_eda.csv', names=['source_node', 'destination_node'])\n",
    "\n",
    "    print('='*60)\n",
    "    print(\"Number of nodes in the train eiko graph with edges\", X_train_pos.shape[0])\n",
    "    print(\"Number of nodes in the train eiko graph without edges\", X_train_neg.shape[0])\n",
    "    print('='*60)\n",
    "    print(\"Number of nodes in the test eiko graph with edges\", X_test_pos.shape[0])\n",
    "    print(\"Number of nodes in the test eiko graph without edges\", X_test_neg.shape[0])\n",
    "\n",
    "    X_train = X_train_pos.append(X_train_neg,ignore_index=True)\n",
    "    y_train = np.concatenate((y_train_pos,y_train_neg))\n",
    "    X_test = X_test_pos.append(X_test_neg,ignore_index=True)\n",
    "    y_test = np.concatenate((y_test_pos,y_test_neg)) \n",
    "    \n",
    "    X_train.to_csv(f'./eiko/{genre}/after_eda/train_after_eda.csv',header=False,index=False)\n",
    "    X_test.to_csv(f'./eiko/{genre}/after_eda/test_after_eda.csv',header=False,index=False)\n",
    "    pd.DataFrame(y_train.astype(int)).to_csv(f'./eiko/{genre}/train_y.csv',header=False,index=False)\n",
    "    pd.DataFrame(y_test.astype(int)).to_csv(f'./eiko/{genre}/test_y.csv',header=False,index=False)\n",
    "    \n",
    "    print(\"eiko points in train eiko\",X_train.shape)\n",
    "    print(\"eiko points in test eiko\",X_test.shape)\n",
    "    print(\"Shape of traget variable in train\",y_train.shape)\n",
    "    print(\"Shape of traget variable in test\", y_test.shape)"
   ]
  },
  {
   "cell_type": "code",
   "execution_count": 25,
   "metadata": {
    "ExecuteTime": {
     "end_time": "2022-05-29T12:38:21.459000Z",
     "start_time": "2022-05-29T12:38:21.455825Z"
    }
   },
   "outputs": [],
   "source": [
    "with open('code/pos_xtrain.pickle', 'rb') as f:\n",
    "    pos_xtrain = pickle.load(f)"
   ]
  },
  {
   "cell_type": "code",
   "execution_count": 26,
   "metadata": {
    "ExecuteTime": {
     "end_time": "2022-05-29T12:38:21.464406Z",
     "start_time": "2022-05-29T12:38:21.461490Z"
    },
    "scrolled": true
   },
   "outputs": [
    {
     "data": {
      "text/plain": [
       "array([[ True,  True],\n",
       "       [ True,  True],\n",
       "       [ True,  True],\n",
       "       ...,\n",
       "       [ True,  True],\n",
       "       [ True,  True],\n",
       "       [ True,  True]])"
      ]
     },
     "execution_count": 26,
     "metadata": {},
     "output_type": "execute_result"
    }
   ],
   "source": [
    "pos_xtrain[['node_1','node_2']].values==X_train_pos.values"
   ]
  },
  {
   "cell_type": "code",
   "execution_count": 27,
   "metadata": {
    "ExecuteTime": {
     "end_time": "2022-05-29T12:38:21.469410Z",
     "start_time": "2022-05-29T12:38:21.465038Z"
    }
   },
   "outputs": [
    {
     "data": {
      "text/html": [
       "<div>\n",
       "<style scoped>\n",
       "    .dataframe tbody tr th:only-of-type {\n",
       "        vertical-align: middle;\n",
       "    }\n",
       "\n",
       "    .dataframe tbody tr th {\n",
       "        vertical-align: top;\n",
       "    }\n",
       "\n",
       "    .dataframe thead th {\n",
       "        text-align: right;\n",
       "    }\n",
       "</style>\n",
       "<table border=\"1\" class=\"dataframe\">\n",
       "  <thead>\n",
       "    <tr style=\"text-align: right;\">\n",
       "      <th></th>\n",
       "      <th>node_1</th>\n",
       "      <th>node_2</th>\n",
       "      <th>link</th>\n",
       "    </tr>\n",
       "  </thead>\n",
       "  <tbody>\n",
       "    <tr>\n",
       "      <th>17062</th>\n",
       "      <td>3413</td>\n",
       "      <td>3343</td>\n",
       "      <td>1</td>\n",
       "    </tr>\n",
       "    <tr>\n",
       "      <th>1548</th>\n",
       "      <td>146</td>\n",
       "      <td>2234</td>\n",
       "      <td>1</td>\n",
       "    </tr>\n",
       "    <tr>\n",
       "      <th>11120</th>\n",
       "      <td>1481</td>\n",
       "      <td>1113</td>\n",
       "      <td>1</td>\n",
       "    </tr>\n",
       "    <tr>\n",
       "      <th>13872</th>\n",
       "      <td>2036</td>\n",
       "      <td>2350</td>\n",
       "      <td>1</td>\n",
       "    </tr>\n",
       "    <tr>\n",
       "      <th>759</th>\n",
       "      <td>65</td>\n",
       "      <td>2031</td>\n",
       "      <td>1</td>\n",
       "    </tr>\n",
       "    <tr>\n",
       "      <th>...</th>\n",
       "      <td>...</td>\n",
       "      <td>...</td>\n",
       "      <td>...</td>\n",
       "    </tr>\n",
       "    <tr>\n",
       "      <th>4532</th>\n",
       "      <td>455</td>\n",
       "      <td>2848</td>\n",
       "      <td>1</td>\n",
       "    </tr>\n",
       "    <tr>\n",
       "      <th>4673</th>\n",
       "      <td>478</td>\n",
       "      <td>3275</td>\n",
       "      <td>1</td>\n",
       "    </tr>\n",
       "    <tr>\n",
       "      <th>5014</th>\n",
       "      <td>529</td>\n",
       "      <td>1038</td>\n",
       "      <td>1</td>\n",
       "    </tr>\n",
       "    <tr>\n",
       "      <th>9979</th>\n",
       "      <td>1214</td>\n",
       "      <td>2751</td>\n",
       "      <td>1</td>\n",
       "    </tr>\n",
       "    <tr>\n",
       "      <th>501</th>\n",
       "      <td>44</td>\n",
       "      <td>616</td>\n",
       "      <td>1</td>\n",
       "    </tr>\n",
       "  </tbody>\n",
       "</table>\n",
       "<p>13809 rows × 3 columns</p>\n",
       "</div>"
      ],
      "text/plain": [
       "       node_1  node_2  link\n",
       "17062    3413    3343     1\n",
       "1548      146    2234     1\n",
       "11120    1481    1113     1\n",
       "13872    2036    2350     1\n",
       "759        65    2031     1\n",
       "...       ...     ...   ...\n",
       "4532      455    2848     1\n",
       "4673      478    3275     1\n",
       "5014      529    1038     1\n",
       "9979     1214    2751     1\n",
       "501        44     616     1\n",
       "\n",
       "[13809 rows x 3 columns]"
      ]
     },
     "execution_count": 27,
     "metadata": {},
     "output_type": "execute_result"
    }
   ],
   "source": [
    "pos_xtrain \n"
   ]
  },
  {
   "cell_type": "code",
   "execution_count": 28,
   "metadata": {
    "ExecuteTime": {
     "end_time": "2022-05-29T12:38:21.473349Z",
     "start_time": "2022-05-29T12:38:21.469997Z"
    }
   },
   "outputs": [
    {
     "data": {
      "text/html": [
       "<div>\n",
       "<style scoped>\n",
       "    .dataframe tbody tr th:only-of-type {\n",
       "        vertical-align: middle;\n",
       "    }\n",
       "\n",
       "    .dataframe tbody tr th {\n",
       "        vertical-align: top;\n",
       "    }\n",
       "\n",
       "    .dataframe thead th {\n",
       "        text-align: right;\n",
       "    }\n",
       "</style>\n",
       "<table border=\"1\" class=\"dataframe\">\n",
       "  <thead>\n",
       "    <tr style=\"text-align: right;\">\n",
       "      <th></th>\n",
       "      <th>source_node</th>\n",
       "      <th>destination_node</th>\n",
       "    </tr>\n",
       "  </thead>\n",
       "  <tbody>\n",
       "    <tr>\n",
       "      <th>0</th>\n",
       "      <td>3413</td>\n",
       "      <td>3343</td>\n",
       "    </tr>\n",
       "    <tr>\n",
       "      <th>1</th>\n",
       "      <td>146</td>\n",
       "      <td>2234</td>\n",
       "    </tr>\n",
       "    <tr>\n",
       "      <th>2</th>\n",
       "      <td>1481</td>\n",
       "      <td>1113</td>\n",
       "    </tr>\n",
       "    <tr>\n",
       "      <th>3</th>\n",
       "      <td>2036</td>\n",
       "      <td>2350</td>\n",
       "    </tr>\n",
       "    <tr>\n",
       "      <th>4</th>\n",
       "      <td>65</td>\n",
       "      <td>2031</td>\n",
       "    </tr>\n",
       "    <tr>\n",
       "      <th>...</th>\n",
       "      <td>...</td>\n",
       "      <td>...</td>\n",
       "    </tr>\n",
       "    <tr>\n",
       "      <th>13804</th>\n",
       "      <td>455</td>\n",
       "      <td>2848</td>\n",
       "    </tr>\n",
       "    <tr>\n",
       "      <th>13805</th>\n",
       "      <td>478</td>\n",
       "      <td>3275</td>\n",
       "    </tr>\n",
       "    <tr>\n",
       "      <th>13806</th>\n",
       "      <td>529</td>\n",
       "      <td>1038</td>\n",
       "    </tr>\n",
       "    <tr>\n",
       "      <th>13807</th>\n",
       "      <td>1214</td>\n",
       "      <td>2751</td>\n",
       "    </tr>\n",
       "    <tr>\n",
       "      <th>13808</th>\n",
       "      <td>44</td>\n",
       "      <td>616</td>\n",
       "    </tr>\n",
       "  </tbody>\n",
       "</table>\n",
       "<p>13809 rows × 2 columns</p>\n",
       "</div>"
      ],
      "text/plain": [
       "       source_node  destination_node\n",
       "0             3413              3343\n",
       "1              146              2234\n",
       "2             1481              1113\n",
       "3             2036              2350\n",
       "4               65              2031\n",
       "...            ...               ...\n",
       "13804          455              2848\n",
       "13805          478              3275\n",
       "13806          529              1038\n",
       "13807         1214              2751\n",
       "13808           44               616\n",
       "\n",
       "[13809 rows x 2 columns]"
      ]
     },
     "execution_count": 28,
     "metadata": {},
     "output_type": "execute_result"
    }
   ],
   "source": [
    "X_train_pos"
   ]
  },
  {
   "cell_type": "markdown",
   "metadata": {
    "colab_type": "text",
    "id": "Q4gzN_0HgeFA"
   },
   "source": [
    "**Computed and store the eiko for featurization**"
   ]
  },
  {
   "cell_type": "code",
   "execution_count": 29,
   "metadata": {
    "ExecuteTime": {
     "end_time": "2022-05-29T12:38:21.532232Z",
     "start_time": "2022-05-29T12:38:21.473968Z"
    }
   },
   "outputs": [],
   "source": [
    "with open('code/xtrain.pickle', 'rb') as f:\n",
    "    xtrain1 = pickle.load(f)"
   ]
  },
  {
   "cell_type": "code",
   "execution_count": 30,
   "metadata": {
    "ExecuteTime": {
     "end_time": "2022-05-29T12:38:21.534903Z",
     "start_time": "2022-05-29T12:38:21.533192Z"
    }
   },
   "outputs": [],
   "source": [
    "xtrain1.reset_index(inplace=True, drop=True)"
   ]
  },
  {
   "cell_type": "code",
   "execution_count": 31,
   "metadata": {
    "ExecuteTime": {
     "end_time": "2022-05-29T12:38:21.539014Z",
     "start_time": "2022-05-29T12:38:21.535661Z"
    },
    "scrolled": true
   },
   "outputs": [
    {
     "data": {
      "text/plain": [
       "source_node         2971\n",
       "destination_node    1522\n",
       "Name: 13809, dtype: int64"
      ]
     },
     "execution_count": 31,
     "metadata": {},
     "output_type": "execute_result"
    }
   ],
   "source": [
    "X_train[['source_node','destination_node']].iloc[13809]"
   ]
  },
  {
   "cell_type": "code",
   "execution_count": 32,
   "metadata": {
    "ExecuteTime": {
     "end_time": "2022-05-29T12:38:21.553569Z",
     "start_time": "2022-05-29T12:38:21.539729Z"
    }
   },
   "outputs": [
    {
     "data": {
      "text/plain": [
       "node_1    2971\n",
       "node_2    1522\n",
       "Name: 13809, dtype: int64"
      ]
     },
     "execution_count": 32,
     "metadata": {},
     "output_type": "execute_result"
    }
   ],
   "source": [
    "xtrain1[['node_1','node_2']].iloc[13809]"
   ]
  },
  {
   "cell_type": "code",
   "execution_count": 33,
   "metadata": {
    "ExecuteTime": {
     "end_time": "2022-05-29T12:38:21.598357Z",
     "start_time": "2022-05-29T12:38:21.554280Z"
    }
   },
   "outputs": [
    {
     "name": "stdout",
     "output_type": "stream",
     "text": [
      "[]\n"
     ]
    }
   ],
   "source": [
    "cp=X_train[['source_node','destination_node']].values==xtrain1[['node_1','node_2']].values\n",
    "\n",
    "\n",
    "not_equal_index=[]\n",
    "for i,c in enumerate(cp):\n",
    "    if c[0]==False or c[1]==False:\n",
    "        print('not equal')\n",
    "        not_equal_index+=[i]\n",
    "print(not_equal_index)"
   ]
  },
  {
   "cell_type": "code",
   "execution_count": 34,
   "metadata": {
    "ExecuteTime": {
     "end_time": "2022-05-29T12:38:21.605939Z",
     "start_time": "2022-05-29T12:38:21.599155Z"
    }
   },
   "outputs": [],
   "source": [
    "with open('code/xtest.pickle', 'rb') as f:\n",
    "    xtest1 = pickle.load(f)"
   ]
  },
  {
   "cell_type": "markdown",
   "metadata": {
    "colab_type": "text",
    "id": "V5UAh4bSgkxo"
   },
   "source": [
    "# 3. Features definition"
   ]
  },
  {
   "cell_type": "code",
   "execution_count": 35,
   "metadata": {
    "ExecuteTime": {
     "end_time": "2022-05-29T12:38:21.616510Z",
     "start_time": "2022-05-29T12:38:21.606570Z"
    },
    "colab": {},
    "colab_type": "code",
    "id": "Q8lS7fVyVFFl"
   },
   "outputs": [],
   "source": [
    "#Importing Libraries\n",
    "# please do go through this python notebook: \n",
    "import warnings\n",
    "warnings.filterwarnings(\"ignore\")\n",
    "\n",
    "import csv\n",
    "import pandas as pd#pandas to create small DataFrames \n",
    "import datetime #Convert to unix time\n",
    "import time #Convert to unix time\n",
    "# if numpy is not installed already : pip3 install numpy\n",
    "import numpy as np#Do aritmetic operations on arrays\n",
    "# matplotlib: used to plot graphs\n",
    "import matplotlib\n",
    "import matplotlib.pylab as plt\n",
    "import seaborn as sns#Plots\n",
    "from matplotlib import rcParams#Size of plots  \n",
    "from sklearn.cluster import MiniBatchKMeans, KMeans#Clustering\n",
    "import math\n",
    "import pickle\n",
    "import os\n",
    "# to install xgboost: pip3 install xgboost\n",
    "import xgboost as xgb\n",
    "\n",
    "import warnings\n",
    "import networkx as nx\n",
    "import pdb\n",
    "import pickle\n",
    "from pandas import HDFStore,DataFrame\n",
    "from pandas import read_hdf\n",
    "from scipy.sparse.linalg import svds, eigs\n",
    "import gc\n",
    "from tqdm import tqdm"
   ]
  },
  {
   "cell_type": "code",
   "execution_count": 36,
   "metadata": {
    "ExecuteTime": {
     "end_time": "2022-05-29T12:38:21.619199Z",
     "start_time": "2022-05-29T12:38:21.617174Z"
    },
    "scrolled": true
   },
   "outputs": [
    {
     "data": {
      "text/plain": [
       "3892"
      ]
     },
     "execution_count": 36,
     "metadata": {},
     "output_type": "execute_result"
    }
   ],
   "source": [
    "g_nodes_num"
   ]
  },
  {
   "cell_type": "code",
   "execution_count": 37,
   "metadata": {
    "ExecuteTime": {
     "end_time": "2022-05-29T12:38:21.623892Z",
     "start_time": "2022-05-29T12:38:21.620067Z"
    }
   },
   "outputs": [],
   "source": [
    "X_train_pos = pd.read_csv(f'./eiko/{genre}/after_eda/train_pos_after_eda.csv', names=['source_node', 'destination_node'])"
   ]
  },
  {
   "cell_type": "code",
   "execution_count": 38,
   "metadata": {
    "ExecuteTime": {
     "end_time": "2022-05-29T12:38:21.628803Z",
     "start_time": "2022-05-29T12:38:21.624676Z"
    },
    "scrolled": true
   },
   "outputs": [
    {
     "data": {
      "text/html": [
       "<div>\n",
       "<style scoped>\n",
       "    .dataframe tbody tr th:only-of-type {\n",
       "        vertical-align: middle;\n",
       "    }\n",
       "\n",
       "    .dataframe tbody tr th {\n",
       "        vertical-align: top;\n",
       "    }\n",
       "\n",
       "    .dataframe thead th {\n",
       "        text-align: right;\n",
       "    }\n",
       "</style>\n",
       "<table border=\"1\" class=\"dataframe\">\n",
       "  <thead>\n",
       "    <tr style=\"text-align: right;\">\n",
       "      <th></th>\n",
       "      <th>source_node</th>\n",
       "      <th>destination_node</th>\n",
       "    </tr>\n",
       "  </thead>\n",
       "  <tbody>\n",
       "    <tr>\n",
       "      <th>0</th>\n",
       "      <td>3413</td>\n",
       "      <td>3343</td>\n",
       "    </tr>\n",
       "    <tr>\n",
       "      <th>1</th>\n",
       "      <td>146</td>\n",
       "      <td>2234</td>\n",
       "    </tr>\n",
       "    <tr>\n",
       "      <th>2</th>\n",
       "      <td>1481</td>\n",
       "      <td>1113</td>\n",
       "    </tr>\n",
       "    <tr>\n",
       "      <th>3</th>\n",
       "      <td>2036</td>\n",
       "      <td>2350</td>\n",
       "    </tr>\n",
       "    <tr>\n",
       "      <th>4</th>\n",
       "      <td>65</td>\n",
       "      <td>2031</td>\n",
       "    </tr>\n",
       "    <tr>\n",
       "      <th>...</th>\n",
       "      <td>...</td>\n",
       "      <td>...</td>\n",
       "    </tr>\n",
       "    <tr>\n",
       "      <th>13804</th>\n",
       "      <td>455</td>\n",
       "      <td>2848</td>\n",
       "    </tr>\n",
       "    <tr>\n",
       "      <th>13805</th>\n",
       "      <td>478</td>\n",
       "      <td>3275</td>\n",
       "    </tr>\n",
       "    <tr>\n",
       "      <th>13806</th>\n",
       "      <td>529</td>\n",
       "      <td>1038</td>\n",
       "    </tr>\n",
       "    <tr>\n",
       "      <th>13807</th>\n",
       "      <td>1214</td>\n",
       "      <td>2751</td>\n",
       "    </tr>\n",
       "    <tr>\n",
       "      <th>13808</th>\n",
       "      <td>44</td>\n",
       "      <td>616</td>\n",
       "    </tr>\n",
       "  </tbody>\n",
       "</table>\n",
       "<p>13809 rows × 2 columns</p>\n",
       "</div>"
      ],
      "text/plain": [
       "       source_node  destination_node\n",
       "0             3413              3343\n",
       "1              146              2234\n",
       "2             1481              1113\n",
       "3             2036              2350\n",
       "4               65              2031\n",
       "...            ...               ...\n",
       "13804          455              2848\n",
       "13805          478              3275\n",
       "13806          529              1038\n",
       "13807         1214              2751\n",
       "13808           44               616\n",
       "\n",
       "[13809 rows x 2 columns]"
      ]
     },
     "execution_count": 38,
     "metadata": {},
     "output_type": "execute_result"
    }
   ],
   "source": [
    "X_train_pos"
   ]
  },
  {
   "cell_type": "code",
   "execution_count": 39,
   "metadata": {
    "ExecuteTime": {
     "end_time": "2022-05-29T12:38:21.631379Z",
     "start_time": "2022-05-29T12:38:21.629464Z"
    }
   },
   "outputs": [],
   "source": [
    "def SavedfLink(df):\n",
    "    node1 = df['node_1'].tolist()\n",
    "    node2 = df['node_2'].tolist()\n",
    "    link = []\n",
    "    for i in range(len(node1)):\n",
    "        link.append((node1[i], node2[i]))\n",
    "    print(\"# of Link:\", len(link))\n",
    "    return link"
   ]
  },
  {
   "cell_type": "code",
   "execution_count": 40,
   "metadata": {
    "ExecuteTime": {
     "end_time": "2022-05-29T12:38:21.633824Z",
     "start_time": "2022-05-29T12:38:21.631963Z"
    }
   },
   "outputs": [],
   "source": [
    "def SavedfLink1(df):\n",
    "    node1 = df['source_node'].tolist()\n",
    "    node2 = df['destination_node'].tolist()\n",
    "    link = []\n",
    "    for i in range(len(node1)):\n",
    "        link.append((node1[i], node2[i]))\n",
    "    print(\"# of Link:\", len(link))\n",
    "    return link"
   ]
  },
  {
   "cell_type": "code",
   "execution_count": 41,
   "metadata": {
    "ExecuteTime": {
     "end_time": "2022-05-29T12:38:21.640765Z",
     "start_time": "2022-05-29T12:38:21.634420Z"
    }
   },
   "outputs": [
    {
     "name": "stdout",
     "output_type": "stream",
     "text": [
      "# of Link: 13809\n",
      "# of Link: 13809\n"
     ]
    }
   ],
   "source": [
    "pos_train_link = SavedfLink(pos_xtrain)\n",
    "X_train_pos_link = SavedfLink1(X_train_pos)\n"
   ]
  },
  {
   "cell_type": "code",
   "execution_count": 42,
   "metadata": {
    "ExecuteTime": {
     "end_time": "2022-05-29T12:38:21.649963Z",
     "start_time": "2022-05-29T12:38:21.641408Z"
    }
   },
   "outputs": [
    {
     "data": {
      "text/plain": [
       "True"
      ]
     },
     "execution_count": 42,
     "metadata": {},
     "output_type": "execute_result"
    }
   ],
   "source": [
    "sorted(pos_train_link)==sorted(X_train_pos_link)"
   ]
  },
  {
   "cell_type": "code",
   "execution_count": 43,
   "metadata": {
    "ExecuteTime": {
     "end_time": "2022-05-29T12:38:21.652265Z",
     "start_time": "2022-05-29T12:38:21.650532Z"
    }
   },
   "outputs": [
    {
     "name": "stdout",
     "output_type": "stream",
     "text": [
      "yes\n"
     ]
    }
   ],
   "source": [
    "if (0,14) in X_train_pos_link:\n",
    "    print('yes')"
   ]
  },
  {
   "cell_type": "code",
   "execution_count": 44,
   "metadata": {
    "ExecuteTime": {
     "end_time": "2022-05-29T12:38:21.657250Z",
     "start_time": "2022-05-29T12:38:21.652913Z"
    }
   },
   "outputs": [
    {
     "name": "stdout",
     "output_type": "stream",
     "text": [
      "yes\n"
     ]
    }
   ],
   "source": [
    "X_train_pos = pd.read_csv(f'./eiko/{genre}/after_eda/train_pos_after_eda.csv', names=['source_node', 'destination_node'])\n",
    "X_train_pos\n",
    "\n",
    "if (0,14) in X_train_pos.values:\n",
    "    print('yes')"
   ]
  },
  {
   "cell_type": "code",
   "execution_count": 5,
   "metadata": {
    "ExecuteTime": {
     "end_time": "2022-05-29T14:20:51.737460Z",
     "start_time": "2022-05-29T14:20:51.688860Z"
    }
   },
   "outputs": [],
   "source": [
    "if os.path.isfile(f'./eiko/{genre}/after_eda/train_pos_after_eda.csv'):\n",
    "    t=nx.read_edgelist(f'./eiko/{genre}/after_eda/train_pos_after_eda.csv',delimiter=',',create_using=nx.Graph(),nodetype=int)"
   ]
  },
  {
   "cell_type": "code",
   "execution_count": 6,
   "metadata": {
    "ExecuteTime": {
     "end_time": "2022-05-29T14:20:52.568065Z",
     "start_time": "2022-05-29T14:20:52.563678Z"
    }
   },
   "outputs": [
    {
     "data": {
      "text/plain": [
       "EdgeDataView([(0, 1838), (0, 14), (0, 1744), (0, 2543)])"
      ]
     },
     "execution_count": 6,
     "metadata": {},
     "output_type": "execute_result"
    }
   ],
   "source": [
    "t.edges([0])"
   ]
  },
  {
   "cell_type": "code",
   "execution_count": 8,
   "metadata": {
    "ExecuteTime": {
     "end_time": "2022-05-29T14:21:01.538486Z",
     "start_time": "2022-05-29T14:21:01.531268Z"
    }
   },
   "outputs": [
    {
     "name": "stdout",
     "output_type": "stream",
     "text": [
      "yes\n",
      "yes1\n"
     ]
    }
   ],
   "source": [
    "if (14,0) in t.edges:\n",
    "    print('yes')\n",
    "# train_graph.edges\n",
    "\n",
    "for p in t.edges:\n",
    "    if p==(14,0):\n",
    "        print('yes1')"
   ]
  },
  {
   "cell_type": "code",
   "execution_count": 48,
   "metadata": {
    "ExecuteTime": {
     "end_time": "2022-05-29T12:38:21.698843Z",
     "start_time": "2022-05-29T12:38:21.691442Z"
    }
   },
   "outputs": [],
   "source": [
    "if (0,14) in list(train_graph.edges):\n",
    "    print('yes')\n",
    "# list(train_graph./edges)"
   ]
  },
  {
   "cell_type": "markdown",
   "metadata": {
    "colab_type": "text",
    "id": "1znHayNeVFFt"
   },
   "source": [
    "# 3.1 Reading eiko"
   ]
  },
  {
   "cell_type": "code",
   "execution_count": 49,
   "metadata": {
    "ExecuteTime": {
     "end_time": "2022-05-29T12:38:21.727735Z",
     "start_time": "2022-05-29T12:38:21.699644Z"
    },
    "colab": {},
    "colab_type": "code",
    "id": "Uq9HbHwEVFFv",
    "outputId": "b2aa525a-93d3-47c3-8216-416a811bc812"
   },
   "outputs": [],
   "source": [
    "if os.path.isfile(f'./eiko/{genre}/after_eda/train_pos_after_eda.csv'):\n",
    "    train_graph=nx.read_edgelist(f'./eiko/{genre}/after_eda/train_pos_after_eda.csv',delimiter=',',create_using=nx.Graph(),nodetype=int)\n",
    "    train_graph.add_nodes_from(range(g_nodes_num))\n",
    "    #     print(nx.info(train_graph))\n",
    "else:\n",
    "    print(\"please run the FB_EDA.ipynb or download the files from drive\")"
   ]
  },
  {
   "cell_type": "code",
   "execution_count": 50,
   "metadata": {
    "ExecuteTime": {
     "end_time": "2022-05-29T12:38:21.731248Z",
     "start_time": "2022-05-29T12:38:21.728742Z"
    }
   },
   "outputs": [
    {
     "data": {
      "text/plain": [
       "3892"
      ]
     },
     "execution_count": 50,
     "metadata": {},
     "output_type": "execute_result"
    }
   ],
   "source": [
    "len(train_graph.nodes)"
   ]
  },
  {
   "cell_type": "code",
   "execution_count": 51,
   "metadata": {
    "ExecuteTime": {
     "end_time": "2022-05-29T12:38:21.737489Z",
     "start_time": "2022-05-29T12:38:21.732091Z"
    }
   },
   "outputs": [],
   "source": [
    "with open('code/train_graph.pickle', 'rb') as f:\n",
    "    train_graph1 = pickle.load(f)\n"
   ]
  },
  {
   "cell_type": "markdown",
   "metadata": {
    "colab_type": "text",
    "id": "HmlUa64tVFF7"
   },
   "source": [
    "# 3.2. Similarity measures"
   ]
  },
  {
   "cell_type": "markdown",
   "metadata": {
    "colab_type": "text",
    "id": "ivVMUMiWVFF9"
   },
   "source": [
    "## 3.2.1 Jaccard distance:\n",
    "http://www.statisticshowto.com/jaccard-index/"
   ]
  },
  {
   "cell_type": "markdown",
   "metadata": {
    "colab_type": "text",
    "id": "NoWCYuRBVFF_"
   },
   "source": [
    "\\begin{equation}\n",
    "j = \\frac{|X\\cap Y|}{|X \\cup Y|} \n",
    "\\end{equation}"
   ]
  },
  {
   "cell_type": "code",
   "execution_count": 52,
   "metadata": {
    "ExecuteTime": {
     "end_time": "2022-05-29T12:38:21.739744Z",
     "start_time": "2022-05-29T12:38:21.738253Z"
    },
    "colab": {},
    "colab_type": "code",
    "id": "Seo4z5SnVFGB"
   },
   "outputs": [],
   "source": [
    "# #To do: Jaccard distance(yl)\n",
    "# #input:one node pair\n",
    "# #output:feature of that node pair\n",
    "# def jaccard_distance(a,b):\n",
    "#     if train_graph.has_node(a) and train_graph.has_node(b):\n",
    "#         try:\n",
    "#             return next( nx.jaccard_coefficient(train_graph, [(a,b)]) )[2]\n",
    "#         except:\n",
    "#             return 0\n",
    "#     else:\n",
    "#         return 0"
   ]
  },
  {
   "cell_type": "code",
   "execution_count": 53,
   "metadata": {
    "ExecuteTime": {
     "end_time": "2022-05-29T12:38:21.742382Z",
     "start_time": "2022-05-29T12:38:21.740664Z"
    }
   },
   "outputs": [],
   "source": [
    "def jaccard_distance(a,b):\n",
    "    return next( nx.jaccard_coefficient(train_graph, [(a,b)]) )[2]\n",
    "\n"
   ]
  },
  {
   "cell_type": "code",
   "execution_count": 54,
   "metadata": {
    "ExecuteTime": {
     "end_time": "2022-05-29T12:38:21.745624Z",
     "start_time": "2022-05-29T12:38:21.743076Z"
    }
   },
   "outputs": [
    {
     "data": {
      "text/plain": [
       "0.0"
      ]
     },
     "execution_count": 54,
     "metadata": {},
     "output_type": "execute_result"
    }
   ],
   "source": [
    "next( nx.jaccard_coefficient(train_graph, [(1882,0)]) )[2]"
   ]
  },
  {
   "cell_type": "code",
   "execution_count": 55,
   "metadata": {
    "ExecuteTime": {
     "end_time": "2022-05-29T12:38:21.747925Z",
     "start_time": "2022-05-29T12:38:21.746454Z"
    }
   },
   "outputs": [
    {
     "name": "stdout",
     "output_type": "stream",
     "text": [
      "yes\n"
     ]
    }
   ],
   "source": [
    "if 1882 in train_graph.nodes:\n",
    "    print('yes')"
   ]
  },
  {
   "cell_type": "markdown",
   "metadata": {
    "colab_type": "text",
    "id": "MnH2my2UVFGX"
   },
   "source": [
    "## 3.2.2 Cosine distance"
   ]
  },
  {
   "cell_type": "markdown",
   "metadata": {
    "colab_type": "text",
    "id": "XNvdBGS2VFGY"
   },
   "source": [
    "\\begin{equation}\n",
    "CosineDistance = \\frac{|X\\cap Y|}{|X|\\cdot|Y|} \n",
    "\\end{equation}"
   ]
  },
  {
   "cell_type": "code",
   "execution_count": 56,
   "metadata": {
    "ExecuteTime": {
     "end_time": "2022-05-29T12:38:21.749817Z",
     "start_time": "2022-05-29T12:38:21.748563Z"
    }
   },
   "outputs": [],
   "source": [
    "# def cosine_distance(a,b):\n",
    "#     if train_graph.has_node(a) and train_graph.has_node(b):\n",
    "#         X = set( train_graph.neighbors(a))\n",
    "#         Y = set( train_graph.neighbors(b))\n",
    "#         return len( X&Y ) / ( len(X)*len(Y) )\n",
    "#     return 0"
   ]
  },
  {
   "cell_type": "code",
   "execution_count": 57,
   "metadata": {
    "ExecuteTime": {
     "end_time": "2022-05-29T12:38:21.752170Z",
     "start_time": "2022-05-29T12:38:21.750503Z"
    }
   },
   "outputs": [],
   "source": [
    "def cosine_distance(a,b):\n",
    "    X = set( train_graph.neighbors(a))\n",
    "\n",
    "    Y = set( train_graph.neighbors(b))\n",
    "\n",
    "    try:\n",
    "        return len( X&Y ) / ( len(X)*len(Y) )\n",
    "    except:\n",
    "        return 0\n"
   ]
  },
  {
   "cell_type": "markdown",
   "metadata": {
    "colab_type": "text",
    "id": "HhPbSL1tVFG7"
   },
   "source": [
    "# 3.3 Other Graph Features"
   ]
  },
  {
   "cell_type": "markdown",
   "metadata": {
    "colab_type": "text",
    "id": "AgsorCl7VFG8"
   },
   "source": [
    "## 3.3.1 Shortest path:\n",
    "Getting Shortest path between twoo nodes, if nodes have direct path i.e directly connected then we are removing that edge and calculating path. "
   ]
  },
  {
   "cell_type": "code",
   "execution_count": 58,
   "metadata": {
    "ExecuteTime": {
     "end_time": "2022-05-29T12:38:21.754269Z",
     "start_time": "2022-05-29T12:38:21.752779Z"
    },
    "colab": {},
    "colab_type": "code",
    "id": "RA076ovzVFG9"
   },
   "outputs": [],
   "source": [
    "# #To do: Shortest path(yl)\n",
    "# #input:one node pair\n",
    "# #output:feature of that node pair\n",
    "# def compute_shortest_path_length(a,b):\n",
    "#     if train_graph.has_node(a) and train_graph.has_node(b):\n",
    "#         try:\n",
    "#             return nx.shortest_path_length( train_graph, source=a, target=b)\n",
    "#         except:\n",
    "#             return 0   \n",
    "#     else:\n",
    "#         return 0"
   ]
  },
  {
   "cell_type": "code",
   "execution_count": 59,
   "metadata": {
    "ExecuteTime": {
     "end_time": "2022-05-29T12:38:21.756425Z",
     "start_time": "2022-05-29T12:38:21.754888Z"
    }
   },
   "outputs": [],
   "source": [
    "def compute_shortest_path_length(a,b):\n",
    "    try:\n",
    "        return nx.shortest_path_length( train_graph, source=a, target=b)\n",
    "    except:\n",
    "        return 0   \n"
   ]
  },
  {
   "cell_type": "code",
   "execution_count": 60,
   "metadata": {
    "ExecuteTime": {
     "end_time": "2022-05-29T12:38:21.758185Z",
     "start_time": "2022-05-29T12:38:21.757022Z"
    }
   },
   "outputs": [],
   "source": [
    "# for i,j in df_final_train[['source_node', 'destination_node']].values:\n",
    "#     print(nx.shortest_path_length(train_graph, source=i, target=j))"
   ]
  },
  {
   "cell_type": "markdown",
   "metadata": {
    "colab_type": "text",
    "id": "baE_95bzVFHF"
   },
   "source": [
    "## 3.3.2 Checking for same community"
   ]
  },
  {
   "cell_type": "code",
   "execution_count": 61,
   "metadata": {
    "ExecuteTime": {
     "end_time": "2022-05-29T12:38:21.759959Z",
     "start_time": "2022-05-29T12:38:21.758759Z"
    }
   },
   "outputs": [],
   "source": [
    "# #getting connected edges from graph \n",
    "# cc_dic={}\n",
    "# for i,c in enumerate(nx.connected_components(train_graph)):\n",
    "#     for node in c:\n",
    "#         cc_dic[node]=i"
   ]
  },
  {
   "cell_type": "code",
   "execution_count": 62,
   "metadata": {
    "ExecuteTime": {
     "end_time": "2022-05-29T12:38:21.761709Z",
     "start_time": "2022-05-29T12:38:21.760530Z"
    }
   },
   "outputs": [],
   "source": [
    "# def belongs_to_same_cc(a,b):\n",
    "#     if cc_dic.get(a,-1)==cc_dic.get(b,-1) and cc_dic.get(a,-1)!=-1:\n",
    "#         return 1\n",
    "#     else:\n",
    "#         return 0"
   ]
  },
  {
   "cell_type": "code",
   "execution_count": 63,
   "metadata": {
    "ExecuteTime": {
     "end_time": "2022-05-29T12:38:21.763458Z",
     "start_time": "2022-05-29T12:38:21.762279Z"
    }
   },
   "outputs": [],
   "source": [
    "# partition = community.best_partition(train_graph)\n",
    "# def same_community(a, b):\n",
    "#     if partition.get(a) and partition.get(b):\n",
    "#         return int(partition[a] == partition[b])\n",
    "#     else:\n",
    "#         return 0"
   ]
  },
  {
   "cell_type": "code",
   "execution_count": 64,
   "metadata": {
    "ExecuteTime": {
     "end_time": "2022-05-29T12:38:22.185413Z",
     "start_time": "2022-05-29T12:38:21.764028Z"
    }
   },
   "outputs": [],
   "source": [
    "partition = community.best_partition(train_graph)\n",
    "def same_community(a, b): \n",
    "    return int(partition[a] == partition[b])"
   ]
  },
  {
   "cell_type": "markdown",
   "metadata": {},
   "source": [
    "## 3.3.3 Common neighbors"
   ]
  },
  {
   "cell_type": "code",
   "execution_count": 65,
   "metadata": {
    "ExecuteTime": {
     "end_time": "2022-05-29T12:38:22.187587Z",
     "start_time": "2022-05-29T12:38:22.186239Z"
    }
   },
   "outputs": [],
   "source": [
    "# #To do: Common neighbors(yl)\n",
    "# def common_neighbors(a,b):\n",
    "#     if train_graph.has_node(a) and train_graph.has_node(b):\n",
    "#         return len(sorted(nx.common_neighbors(train_graph,a,b)))\n",
    "#     return 0"
   ]
  },
  {
   "cell_type": "code",
   "execution_count": 66,
   "metadata": {
    "ExecuteTime": {
     "end_time": "2022-05-29T12:38:22.189773Z",
     "start_time": "2022-05-29T12:38:22.188224Z"
    }
   },
   "outputs": [],
   "source": [
    "def common_neighbors(a,b):\n",
    "    return len(sorted(nx.common_neighbors(train_graph,a,b)))"
   ]
  },
  {
   "cell_type": "markdown",
   "metadata": {
    "colab_type": "text",
    "id": "q74nth0OVFHN"
   },
   "source": [
    "## 3.3.4 Adamic/Adar Index:\n",
    "Adamic/Adar measures is defined as inverted sum of degrees of common neighbours for given two vertices.\n",
    "$$A(x,y)=\\sum_{u \\in N(x) \\cap N(y)}\\frac{1}{log(|N(u)|)}$$"
   ]
  },
  {
   "cell_type": "code",
   "execution_count": 67,
   "metadata": {
    "ExecuteTime": {
     "end_time": "2022-05-29T12:38:22.191911Z",
     "start_time": "2022-05-29T12:38:22.190518Z"
    },
    "colab": {},
    "colab_type": "code",
    "id": "CeS98LI5VFHO"
   },
   "outputs": [],
   "source": [
    "# #To do: adar(yl)\n",
    "# #input:one node pair\n",
    "# #output:feature of that node pair\n",
    "# def calc_adar(a,b):\n",
    "#     if train_graph.has_node(a) and train_graph.has_node(b):\n",
    "#         try:\n",
    "#             return next( nx.adamic_adar_index(train_graph, [(a,b)]) )[2]\n",
    "#         except:\n",
    "#             return 0\n",
    "#     else:\n",
    "#         return 0"
   ]
  },
  {
   "cell_type": "code",
   "execution_count": 68,
   "metadata": {
    "ExecuteTime": {
     "end_time": "2022-05-29T12:38:22.194323Z",
     "start_time": "2022-05-29T12:38:22.192577Z"
    }
   },
   "outputs": [],
   "source": [
    "#To do: adar(yl)\n",
    "#input:one node pair\n",
    "#output:feature of that node pair\n",
    "def calc_adar(a,b):\n",
    "    try:\n",
    "        return next( nx.adamic_adar_index(train_graph, [(a,b)]) )[2]\n",
    "    except:\n",
    "        return 0\n"
   ]
  },
  {
   "cell_type": "markdown",
   "metadata": {},
   "source": [
    "## 3.3.5 Resource Allocation Index:\n",
    "Among a number of similarity-based methods to predict missing links in a complex network, Research Allocation Index performs well with lower time complexity. It is defined as a fraction of a resource that a node can send to another through their common neighbors.\n",
    "\n",
    "$$\n",
    "\\text { Research Allocation Index }(\\mathrm{X}, \\mathrm{Y})=\\Sigma_{u \\in N(X) \\cap N(Y)} 1 /|N(u)|\n",
    "$$"
   ]
  },
  {
   "cell_type": "code",
   "execution_count": 69,
   "metadata": {
    "ExecuteTime": {
     "end_time": "2022-05-29T12:38:22.196339Z",
     "start_time": "2022-05-29T12:38:22.194982Z"
    },
    "scrolled": false
   },
   "outputs": [],
   "source": [
    "# def Resource_Allocation_Index(a,b):\n",
    "#     if train_graph.has_node(a) and train_graph.has_node(b):\n",
    "#         try:\n",
    "#             return next( nx.resource_allocation_index(train_graph, [(a,b)]) )[2]\n",
    "#         except:\n",
    "#             return 0\n",
    "#     else:\n",
    "#         return 0\n"
   ]
  },
  {
   "cell_type": "code",
   "execution_count": 70,
   "metadata": {
    "ExecuteTime": {
     "end_time": "2022-05-29T12:38:22.198701Z",
     "start_time": "2022-05-29T12:38:22.197006Z"
    }
   },
   "outputs": [],
   "source": [
    "def Resource_Allocation_Index(a,b):\n",
    "    try:\n",
    "        return next( nx.resource_allocation_index(train_graph, [(a,b)]) )[2]\n",
    "    except:\n",
    "        return 0\n"
   ]
  },
  {
   "cell_type": "markdown",
   "metadata": {},
   "source": [
    "## 3.3.6 Preferential Attachment:\n",
    "Preferential attachment means that the more connected a node is, the more likely it is to receive new links (refer to this article for referring to Barabasi Albert graph formed on the concepts of Preferential Attachment) Nodes with higher degree gets more neighbors.\n",
    "$$\n",
    "\\text { Preferential Attachment }(X, Y)=|N(X)| \\cdot|N(Y)|\n",
    "$$"
   ]
  },
  {
   "cell_type": "code",
   "execution_count": 71,
   "metadata": {
    "ExecuteTime": {
     "end_time": "2022-05-29T12:38:22.200509Z",
     "start_time": "2022-05-29T12:38:22.199311Z"
    }
   },
   "outputs": [],
   "source": [
    "# def Preferential_Attachment(a,b):\n",
    "#     if train_graph.has_node(a) and train_graph.has_node(b):\n",
    "#         try:\n",
    "#             return next( nx.preferential_attachment(train_graph, [(a,b)]) )[2]\n",
    "#         except:\n",
    "#             return 0\n",
    "#     else:\n",
    "#         return 0\n"
   ]
  },
  {
   "cell_type": "code",
   "execution_count": 72,
   "metadata": {
    "ExecuteTime": {
     "end_time": "2022-05-29T12:38:22.202610Z",
     "start_time": "2022-05-29T12:38:22.201067Z"
    }
   },
   "outputs": [],
   "source": [
    "def Preferential_Attachment(a,b):\n",
    "    try:\n",
    "        return next( nx.preferential_attachment(train_graph, [(a,b)]) )[2]\n",
    "    except:\n",
    "        return 0\n",
    "\n"
   ]
  },
  {
   "cell_type": "markdown",
   "metadata": {},
   "source": [
    "## 3.3.7 SVD"
   ]
  },
  {
   "cell_type": "code",
   "execution_count": 73,
   "metadata": {
    "ExecuteTime": {
     "end_time": "2022-05-29T12:38:22.205102Z",
     "start_time": "2022-05-29T12:38:22.203173Z"
    }
   },
   "outputs": [],
   "source": [
    "#for svd features to get feature vector creating a dict node val and inedx in svd vector\n",
    "sadj_col = sorted(train_graph.nodes())\n",
    "sadj_dict = { val:idx for idx,val in enumerate(sadj_col)}"
   ]
  },
  {
   "cell_type": "code",
   "execution_count": 74,
   "metadata": {
    "ExecuteTime": {
     "end_time": "2022-05-29T12:38:22.300167Z",
     "start_time": "2022-05-29T12:38:22.205800Z"
    }
   },
   "outputs": [],
   "source": [
    "Adj = nx.adjacency_matrix(train_graph,nodelist=sorted(train_graph.nodes())).asfptype()"
   ]
  },
  {
   "cell_type": "code",
   "execution_count": 75,
   "metadata": {
    "ExecuteTime": {
     "end_time": "2022-05-29T12:38:22.373044Z",
     "start_time": "2022-05-29T12:38:22.300957Z"
    }
   },
   "outputs": [
    {
     "name": "stdout",
     "output_type": "stream",
     "text": [
      "Adjacency matrix Shape (3892, 3892)\n",
      "U Shape (3892, 6)\n",
      "V Shape (6, 3892)\n",
      "s Shape (6,)\n"
     ]
    }
   ],
   "source": [
    "U, s, V = svds(Adj, k = 6)\n",
    "print('Adjacency matrix Shape',Adj.shape)\n",
    "print('U Shape',U.shape)\n",
    "print('V Shape',V.shape)\n",
    "print('s Shape',s.shape)"
   ]
  },
  {
   "cell_type": "code",
   "execution_count": 76,
   "metadata": {
    "ExecuteTime": {
     "end_time": "2022-05-29T12:38:22.375973Z",
     "start_time": "2022-05-29T12:38:22.373947Z"
    }
   },
   "outputs": [],
   "source": [
    "def svd(x, S):\n",
    "    try:\n",
    "        z = sadj_dict[x]\n",
    "        return S[z]\n",
    "    except:\n",
    "        return [0,0,0,0,0,0]"
   ]
  },
  {
   "cell_type": "markdown",
   "metadata": {},
   "source": [
    "## 3.3.8 SVD dot\n",
    "\n",
    "Add feature called svd_dot. you can calculate svd_dot as Dot product between sourse node svd and destination node svd features. you can read about this in below pdf https://storage.googleapis.com/kaggle-forum-message-attachments/2594/supervised_link_prediction.pdfm"
   ]
  },
  {
   "cell_type": "code",
   "execution_count": 77,
   "metadata": {
    "ExecuteTime": {
     "end_time": "2022-05-29T12:38:22.378994Z",
     "start_time": "2022-05-29T12:38:22.376763Z"
    }
   },
   "outputs": [],
   "source": [
    "def svd_dot(S,D):\n",
    "    list_var = []\n",
    "    A = S.values\n",
    "    B = D.values\n",
    "    for i in range(len(A)):\n",
    "        list_var.append(np.dot(A[i],B[i]))\n",
    "    df = pd.DataFrame(list_var)\n",
    "    return df"
   ]
  },
  {
   "cell_type": "markdown",
   "metadata": {},
   "source": [
    "## 3.3.9 GEMSEC"
   ]
  },
  {
   "cell_type": "code",
   "execution_count": 78,
   "metadata": {
    "ExecuteTime": {
     "end_time": "2022-05-29T12:38:22.381975Z",
     "start_time": "2022-05-29T12:38:22.379885Z"
    }
   },
   "outputs": [],
   "source": [
    "#To do: GEMSEC\n",
    "#input:one node pair\n",
    "#output:feature of that node pair\n",
    "def GEMSEC_embedding(a,b):\n",
    "    a_embedding=GEMSEC.iloc[g_nodes.index(a), 0]\n",
    "    b_embedding=GEMSEC.iloc[g_nodes.index(b), 0]\n",
    "    return a_embedding+b_embedding \n",
    "    "
   ]
  },
  {
   "cell_type": "markdown",
   "metadata": {},
   "source": [
    "## 3.3.10 GEMSECWithRegularization"
   ]
  },
  {
   "cell_type": "code",
   "execution_count": 79,
   "metadata": {
    "ExecuteTime": {
     "end_time": "2022-05-29T12:38:22.384644Z",
     "start_time": "2022-05-29T12:38:22.382694Z"
    }
   },
   "outputs": [],
   "source": [
    "def GEMSECWithRegularization_embedding(a,b):\n",
    "    a_embedding=GEMSECWithRegularization.iloc[g_nodes.index(a), 0]\n",
    "    b_embedding=GEMSECWithRegularization.iloc[g_nodes.index(b), 0]\n",
    "    return a_embedding+b_embedding\n",
    "        "
   ]
  },
  {
   "cell_type": "markdown",
   "metadata": {},
   "source": [
    "## 3.3.11 DeepWalk"
   ]
  },
  {
   "cell_type": "code",
   "execution_count": 80,
   "metadata": {
    "ExecuteTime": {
     "end_time": "2022-05-29T12:38:22.392693Z",
     "start_time": "2022-05-29T12:38:22.390853Z"
    }
   },
   "outputs": [],
   "source": [
    "def DeepWalk_embedding(a,b):\n",
    "    a_embedding=DeepWalk.iloc[g_nodes.index(a), 0]\n",
    "    b_embedding=DeepWalk.iloc[g_nodes.index(b), 0]\n",
    "    return a_embedding+b_embedding\n",
    "        "
   ]
  },
  {
   "cell_type": "markdown",
   "metadata": {},
   "source": [
    "## 3.3.12 DeepWalkWithRegularization"
   ]
  },
  {
   "cell_type": "code",
   "execution_count": 81,
   "metadata": {
    "ExecuteTime": {
     "end_time": "2022-05-29T12:38:22.395569Z",
     "start_time": "2022-05-29T12:38:22.393622Z"
    }
   },
   "outputs": [],
   "source": [
    "def DeepWalkWithRegularization_embedding(a,b):\n",
    "    a_embedding=DeepWalkWithRegularization.iloc[g_nodes.index(a), 0]\n",
    "    b_embedding=DeepWalkWithRegularization.iloc[g_nodes.index(b), 0]\n",
    "    return a_embedding+b_embedding"
   ]
  },
  {
   "cell_type": "markdown",
   "metadata": {
    "colab_type": "text",
    "id": "ZZtowOLZVFH6"
   },
   "source": [
    "# 4. Featurization"
   ]
  },
  {
   "cell_type": "markdown",
   "metadata": {
    "colab_type": "text",
    "id": "o6NnRWmLVFH6"
   },
   "source": [
    "## 4.1 Reading eiko from both train and test"
   ]
  },
  {
   "cell_type": "code",
   "execution_count": 82,
   "metadata": {
    "ExecuteTime": {
     "end_time": "2022-05-29T12:38:22.405969Z",
     "start_time": "2022-05-29T12:38:22.396332Z"
    },
    "colab": {},
    "colab_type": "code",
    "id": "pCisf6PpVFID",
    "outputId": "daf2af43-3f98-4466-ad99-03bc54464714"
   },
   "outputs": [
    {
     "name": "stdout",
     "output_type": "stream",
     "text": [
      "Our train matrix size  (27618, 3)\n"
     ]
    },
    {
     "data": {
      "text/html": [
       "<div>\n",
       "<style scoped>\n",
       "    .dataframe tbody tr th:only-of-type {\n",
       "        vertical-align: middle;\n",
       "    }\n",
       "\n",
       "    .dataframe tbody tr th {\n",
       "        vertical-align: top;\n",
       "    }\n",
       "\n",
       "    .dataframe thead th {\n",
       "        text-align: right;\n",
       "    }\n",
       "</style>\n",
       "<table border=\"1\" class=\"dataframe\">\n",
       "  <thead>\n",
       "    <tr style=\"text-align: right;\">\n",
       "      <th></th>\n",
       "      <th>source_node</th>\n",
       "      <th>destination_node</th>\n",
       "      <th>indicator_link</th>\n",
       "    </tr>\n",
       "  </thead>\n",
       "  <tbody>\n",
       "    <tr>\n",
       "      <th>0</th>\n",
       "      <td>3413</td>\n",
       "      <td>3343</td>\n",
       "      <td>1</td>\n",
       "    </tr>\n",
       "    <tr>\n",
       "      <th>1</th>\n",
       "      <td>146</td>\n",
       "      <td>2234</td>\n",
       "      <td>1</td>\n",
       "    </tr>\n",
       "  </tbody>\n",
       "</table>\n",
       "</div>"
      ],
      "text/plain": [
       "   source_node  destination_node  indicator_link\n",
       "0         3413              3343               1\n",
       "1          146              2234               1"
      ]
     },
     "execution_count": 82,
     "metadata": {},
     "output_type": "execute_result"
    }
   ],
   "source": [
    "df_final_train = pd.read_csv(f'./eiko/{genre}/after_eda/train_after_eda.csv', names=['source_node', 'destination_node'])\n",
    "df_final_train['indicator_link'] = pd.read_csv(f'./eiko/{genre}/train_y.csv', names=['indicator_link'])\n",
    "\n",
    "print(\"Our train matrix size \",df_final_train.shape)\n",
    "df_final_train.head(2)"
   ]
  },
  {
   "cell_type": "code",
   "execution_count": 83,
   "metadata": {
    "ExecuteTime": {
     "end_time": "2022-05-29T12:38:22.412646Z",
     "start_time": "2022-05-29T12:38:22.406674Z"
    },
    "colab": {},
    "colab_type": "code",
    "id": "tFn1RkdyVFIH",
    "outputId": "1ca99e70-6d2a-45f2-f51c-fd3b1211ad20"
   },
   "outputs": [
    {
     "name": "stdout",
     "output_type": "stream",
     "text": [
      "Our test matrix size  (6906, 3)\n"
     ]
    },
    {
     "data": {
      "text/html": [
       "<div>\n",
       "<style scoped>\n",
       "    .dataframe tbody tr th:only-of-type {\n",
       "        vertical-align: middle;\n",
       "    }\n",
       "\n",
       "    .dataframe tbody tr th {\n",
       "        vertical-align: top;\n",
       "    }\n",
       "\n",
       "    .dataframe thead th {\n",
       "        text-align: right;\n",
       "    }\n",
       "</style>\n",
       "<table border=\"1\" class=\"dataframe\">\n",
       "  <thead>\n",
       "    <tr style=\"text-align: right;\">\n",
       "      <th></th>\n",
       "      <th>source_node</th>\n",
       "      <th>destination_node</th>\n",
       "      <th>indicator_link</th>\n",
       "    </tr>\n",
       "  </thead>\n",
       "  <tbody>\n",
       "    <tr>\n",
       "      <th>0</th>\n",
       "      <td>191</td>\n",
       "      <td>538</td>\n",
       "      <td>1</td>\n",
       "    </tr>\n",
       "    <tr>\n",
       "      <th>1</th>\n",
       "      <td>1464</td>\n",
       "      <td>2816</td>\n",
       "      <td>1</td>\n",
       "    </tr>\n",
       "  </tbody>\n",
       "</table>\n",
       "</div>"
      ],
      "text/plain": [
       "   source_node  destination_node  indicator_link\n",
       "0          191               538               1\n",
       "1         1464              2816               1"
      ]
     },
     "execution_count": 83,
     "metadata": {},
     "output_type": "execute_result"
    }
   ],
   "source": [
    "df_final_test = pd.read_csv(f'./eiko/{genre}/after_eda/test_after_eda.csv', names=['source_node', 'destination_node'])\n",
    "df_final_test['indicator_link'] = pd.read_csv(f'./eiko/{genre}/test_y.csv', names=['indicator_link'])\n",
    "\n",
    "\n",
    "print(\"Our test matrix size \",df_final_test.shape)\n",
    "df_final_test.head(2)"
   ]
  },
  {
   "cell_type": "markdown",
   "metadata": {
    "colab_type": "text",
    "id": "gIaOWDaDVFIJ"
   },
   "source": [
    "## 4.2 Adding a set of features(one dimension feature)\n",
    "\n",
    "__we will create these each of these features for both train and test eiko points__\n",
    "<ol>\n",
    "<li>Jaccard Distance</li>\n",
    "<li>Cosine Distance</li>\n",
    "<li>Shortest Path</li>\n",
    "<li>Same Community</li>\n",
    "<li>Common Neighbors</li>\n",
    "<li>Adamic/Adar Index</li>\n",
    "<li>Resource Allocation Index</li>\n",
    "<li>Preferential Attachment</li>\n",
    "</ol>"
   ]
  },
  {
   "cell_type": "code",
   "execution_count": 84,
   "metadata": {
    "ExecuteTime": {
     "end_time": "2022-05-29T12:38:27.959465Z",
     "start_time": "2022-05-29T12:38:22.413318Z"
    },
    "colab": {},
    "colab_type": "code",
    "id": "2qTkOiBcVFIJ"
   },
   "outputs": [],
   "source": [
    "if not os.path.isfile(f'./eiko/{genre}/fea_sample/other_features/storage_sample_stage1.h5'):\n",
    "    #mapping Jaccard Distance to train and test eiko\n",
    "    df_final_train['jaccard_distance'] = df_final_train.apply(lambda row:\n",
    "                                            jaccard_distance(row['source_node'],row['destination_node']),axis=1)\n",
    "    df_final_test['jaccard_distance'] = df_final_test.apply(lambda row:\n",
    "                                            jaccard_distance(row['source_node'],row['destination_node']),axis=1)\n",
    "\n",
    "    #mapping Cosine Distance to train and test eiko\n",
    "    df_final_train['cosine_distance'] = df_final_train.apply(lambda row:\n",
    "                                            cosine_distance(row['source_node'],row['destination_node']),axis=1)\n",
    "    df_final_test['cosine_distance'] = df_final_test.apply(lambda row:\n",
    "                                            cosine_distance(row['source_node'],row['destination_node']),axis=1)\n",
    "    \n",
    "    #mapping Checking for same community to train and test eiko\n",
    "    df_final_train['same_community'] = df_final_train.apply(lambda row:\n",
    "                                            same_community(row['source_node'],row['destination_node']),axis=1)\n",
    "    df_final_test['same_community'] = df_final_test.apply(lambda row:\n",
    "                                            same_community(row['source_node'],row['destination_node']),axis=1)\n",
    "    \n",
    "    \n",
    "    \n",
    "    #mapping Shortest path to train and test eiko\n",
    "    df_final_train['shortest_path'] = df_final_train.apply(lambda row:\n",
    "                                            compute_shortest_path_length(row['source_node'],row['destination_node']),axis=1)\n",
    "    df_final_test['shortest_path'] = df_final_test.apply(lambda row:\n",
    "                                            compute_shortest_path_length(row['source_node'],row['destination_node']),axis=1)\n",
    "\n",
    "    #mapping Common neighbors to train and test eiko\n",
    "    df_final_train['Common_neighbors'] = df_final_train.apply(lambda row:\n",
    "                                            common_neighbors(row['source_node'],row['destination_node']),axis=1)\n",
    "    df_final_test['Common_neighbors'] = df_final_test.apply(lambda row:\n",
    "                                            common_neighbors(row['source_node'],row['destination_node']),axis=1)\n",
    "    \n",
    "    #mapping Adamic/Adar Index to train and test eiko\n",
    "    df_final_train['adar'] = df_final_train.apply(lambda row:\n",
    "                                            calc_adar(row['source_node'],row['destination_node']),axis=1)\n",
    "    df_final_test['adar'] = df_final_test.apply(lambda row:\n",
    "                                            calc_adar(row['source_node'],row['destination_node']),axis=1)\n",
    "\n",
    "    #mapping Resource Allocation Index to train and test eiko\n",
    "    df_final_train['Resource_Allocation_Index'] = df_final_train.apply(lambda row:\n",
    "                                            Resource_Allocation_Index(row['source_node'],row['destination_node']),axis=1)\n",
    "    df_final_test['Resource_Allocation_Index'] = df_final_test.apply(lambda row:\n",
    "                                            Resource_Allocation_Index(row['source_node'],row['destination_node']),axis=1)\n",
    "\n",
    "    #mapping Preferential Attachment to train and test eiko\n",
    "    df_final_train['Preferential_Attachment'] = df_final_train.apply(lambda row:\n",
    "                                            Preferential_Attachment(row['source_node'],row['destination_node']),axis=1)\n",
    "    df_final_test['Preferential_Attachment'] = df_final_test.apply(lambda row:\n",
    "                                            Preferential_Attachment(row['source_node'],row['destination_node']),axis=1)\n",
    "    \n",
    "\n",
    "    hdf = HDFStore(f'./eiko/{genre}/fea_sample/other_features/storage_sample_stage1.h5')\n",
    "    hdf.put('train_df',df_final_train, format='table', data_columns=True)\n",
    "    hdf.put('test_df',df_final_test, format='table', data_columns=True)\n",
    "    hdf.close()\n",
    "else:\n",
    "    df_final_train = read_hdf(f'./eiko/{genre}/fea_sample/other_features/storage_sample_stage1.h5', 'train_df',mode='r')\n",
    "    df_final_test = read_hdf(f'./eiko/{genre}/fea_sample/other_features/storage_sample_stage1.h5', 'test_df',mode='r')   \n",
    "    \n",
    "    "
   ]
  },
  {
   "cell_type": "code",
   "execution_count": 85,
   "metadata": {
    "ExecuteTime": {
     "end_time": "2022-05-29T12:38:27.961795Z",
     "start_time": "2022-05-29T12:38:27.960371Z"
    }
   },
   "outputs": [],
   "source": [
    "# del cc_dic"
   ]
  },
  {
   "cell_type": "code",
   "execution_count": 86,
   "metadata": {
    "ExecuteTime": {
     "end_time": "2022-05-29T12:38:27.963910Z",
     "start_time": "2022-05-29T12:38:27.962475Z"
    }
   },
   "outputs": [],
   "source": [
    "del partition"
   ]
  },
  {
   "cell_type": "markdown",
   "metadata": {
    "colab_type": "text",
    "id": "p6xkDfD-VFIb"
   },
   "source": [
    "## 4.3 Adding new set of features\n",
    "\n",
    "\n",
    "#### 1.SVD features for both source and destination\n"
   ]
  },
  {
   "cell_type": "code",
   "execution_count": 87,
   "metadata": {
    "ExecuteTime": {
     "end_time": "2022-05-29T12:38:34.736679Z",
     "start_time": "2022-05-29T12:38:27.964582Z"
    },
    "colab": {},
    "colab_type": "code",
    "id": "ls5fqLFhVFIm"
   },
   "outputs": [],
   "source": [
    "if not os.path.isfile(f'./eiko/{genre}/fea_sample/other_features/storage_sample_stag2.h5'):\n",
    "    #===================================================================================================\n",
    "    \n",
    "    df_final_train[['svd_u_s_1', 'svd_u_s_2','svd_u_s_3', 'svd_u_s_4', 'svd_u_s_5', 'svd_u_s_6']] = \\\n",
    "    df_final_train.source_node.apply(lambda x: svd(x, U)).apply(pd.Series)\n",
    "    \n",
    "    df_final_train[['svd_u_d_1', 'svd_u_d_2', 'svd_u_d_3', 'svd_u_d_4', 'svd_u_d_5','svd_u_d_6']] = \\\n",
    "    df_final_train.destination_node.apply(lambda x: svd(x, U)).apply(pd.Series)\n",
    "    #===================================================================================================\n",
    "    \n",
    "    df_final_train[['svd_v_s_1','svd_v_s_2', 'svd_v_s_3', 'svd_v_s_4', 'svd_v_s_5', 'svd_v_s_6']] = \\\n",
    "    df_final_train.source_node.apply(lambda x: svd(x, V.T)).apply(pd.Series)\n",
    "\n",
    "    df_final_train[['svd_v_d_1', 'svd_v_d_2', 'svd_v_d_3', 'svd_v_d_4', 'svd_v_d_5','svd_v_d_6']] = \\\n",
    "    df_final_train.destination_node.apply(lambda x: svd(x, V.T)).apply(pd.Series)\n",
    "    #===================================================================================================\n",
    "    \n",
    "    df_final_test[['svd_u_s_1', 'svd_u_s_2','svd_u_s_3', 'svd_u_s_4', 'svd_u_s_5', 'svd_u_s_6']] = \\\n",
    "    df_final_test.source_node.apply(lambda x: svd(x, U)).apply(pd.Series)\n",
    "    \n",
    "    df_final_test[['svd_u_d_1', 'svd_u_d_2', 'svd_u_d_3', 'svd_u_d_4', 'svd_u_d_5','svd_u_d_6']] = \\\n",
    "    df_final_test.destination_node.apply(lambda x: svd(x, U)).apply(pd.Series)\n",
    "\n",
    "    #===================================================================================================\n",
    "    \n",
    "    df_final_test[['svd_v_s_1','svd_v_s_2', 'svd_v_s_3', 'svd_v_s_4', 'svd_v_s_5', 'svd_v_s_6']] = \\\n",
    "    df_final_test.source_node.apply(lambda x: svd(x, V.T)).apply(pd.Series)\n",
    "\n",
    "    df_final_test[['svd_v_d_1', 'svd_v_d_2', 'svd_v_d_3', 'svd_v_d_4', 'svd_v_d_5','svd_v_d_6']] = \\\n",
    "    df_final_test.destination_node.apply(lambda x: svd(x, V.T)).apply(pd.Series)\n",
    "    #===================================================================================================\n",
    "\n",
    "    hdf = HDFStore(f'./eiko/{genre}/fea_sample/other_features/storage_sample_stage2.h5')\n",
    "    hdf.put('train_df',df_final_train, format='table', data_columns=True)\n",
    "    hdf.put('test_df',df_final_test, format='table', data_columns=True)\n",
    "    hdf.close()\n",
    "    \n",
    "else:\n",
    "    df_final_train = read_hdf(f'./eiko/{genre}/fea_sample/other_features/storage_sample_stage2.h5', 'train_df',mode='r')\n",
    "    df_final_test = read_hdf(f'./eiko/{genre}/fea_sample/other_features/storage_sample_stage2.h5', 'test_df',mode='r')"
   ]
  },
  {
   "cell_type": "code",
   "execution_count": 88,
   "metadata": {
    "ExecuteTime": {
     "end_time": "2022-05-29T12:38:34.739564Z",
     "start_time": "2022-05-29T12:38:34.737628Z"
    }
   },
   "outputs": [],
   "source": [
    "del sadj_col\n",
    "del sadj_dict\n",
    "del Adj\n",
    "del U\n",
    "del s\n",
    "del V"
   ]
  },
  {
   "cell_type": "markdown",
   "metadata": {},
   "source": [
    "#### 2.SVD dot"
   ]
  },
  {
   "cell_type": "code",
   "execution_count": 89,
   "metadata": {
    "ExecuteTime": {
     "end_time": "2022-05-29T12:38:35.310238Z",
     "start_time": "2022-05-29T12:38:34.740366Z"
    }
   },
   "outputs": [],
   "source": [
    "if not os.path.isfile(f'./eiko/{genre}/fea_sample/other_features/storage_sample_stage3.h5'):\n",
    "    u_s = df_final_train[['svd_u_s_1', 'svd_u_s_2', 'svd_u_s_3', 'svd_u_s_4','svd_u_s_5', 'svd_u_s_6']]\n",
    "    u_d = df_final_train[['svd_u_d_1', 'svd_u_d_2', 'svd_u_d_3', 'svd_u_d_4','svd_u_d_5', 'svd_u_d_6']]\n",
    "    df_final_train['svd_dot_u'] = svd_dot(u_s,u_d)\n",
    "\n",
    "    v_s = df_final_train[['svd_v_s_1', 'svd_v_s_2', 'svd_v_s_3', 'svd_v_s_4','svd_v_s_5', 'svd_v_s_6']]\n",
    "    v_d = df_final_train[['svd_v_d_1', 'svd_v_d_2', 'svd_v_d_3', 'svd_v_d_4','svd_v_d_5', 'svd_v_d_6']]\n",
    "    df_final_train['svd_dot_v'] = svd_dot(v_s,v_d)\n",
    "\n",
    "    u_s = df_final_test[['svd_u_s_1', 'svd_u_s_2', 'svd_u_s_3', 'svd_u_s_4','svd_u_s_5', 'svd_u_s_6']]\n",
    "    u_d = df_final_test[['svd_u_d_1', 'svd_u_d_2', 'svd_u_d_3', 'svd_u_d_4','svd_u_d_5', 'svd_u_d_6']]\n",
    "    df_final_test['svd_dot_u'] = svd_dot(u_s,u_d)\n",
    "\n",
    "    v_s = df_final_test[['svd_v_s_1', 'svd_v_s_2', 'svd_v_s_3', 'svd_v_s_4','svd_v_s_5', 'svd_v_s_6']]\n",
    "    v_d = df_final_test[['svd_v_s_1', 'svd_v_s_2', 'svd_v_s_3', 'svd_v_s_4','svd_v_s_5', 'svd_v_s_6']]\n",
    "    df_final_test['svd_dot_v'] = svd_dot(v_s,v_d)\n",
    "    \n",
    "    hdf = HDFStore(f'./eiko/{genre}/fea_sample/other_features/storage_sample_stage3.h5')\n",
    "    hdf.put('train_df',df_final_train, format='table', data_columns=True)\n",
    "    hdf.put('test_df',df_final_test, format='table', data_columns=True)\n",
    "    hdf.close() \n",
    "else:\n",
    "    df_final_train = read_hdf(f'./eiko/{genre}/fea_sample/other_features/storage_sample_stage3.h5', 'train_df',mode='r')\n",
    "    df_final_test = read_hdf(f'./eiko/{genre}/fea_sample/other_features/storage_sample_stage3.h5', 'test_df',mode='r')"
   ]
  },
  {
   "cell_type": "markdown",
   "metadata": {},
   "source": [
    "## 4.4 Adding new set of features(multiple dimension feature)\n",
    "\n",
    "__we will create these each of these features for both train and test eiko points__\n",
    "<ol>\n",
    "<li>Node to vector</li>    \n",
    "<li>GEMSEC</li>\n",
    "<li>GEMSECWithRegularization</li>\n",
    "<li>DeepWalk</li>\n",
    "<li>DeepWalkWithRegularization</li>\n",
    "</ol>"
   ]
  },
  {
   "cell_type": "code",
   "execution_count": 90,
   "metadata": {
    "ExecuteTime": {
     "end_time": "2022-05-29T12:40:21.074093Z",
     "start_time": "2022-05-29T12:38:35.311270Z"
    }
   },
   "outputs": [
    {
     "data": {
      "application/vnd.jupyter.widget-view+json": {
       "model_id": "2c0f4f9fbf04457a85d626fa9979db45",
       "version_major": 2,
       "version_minor": 0
      },
      "text/plain": [
       "Computing transition probabilities:   0%|          | 0/3892 [00:00<?, ?it/s]"
      ]
     },
     "metadata": {},
     "output_type": "display_data"
    },
    {
     "name": "stderr",
     "output_type": "stream",
     "text": [
      "Generating walks (CPU: 1): 100%|████████████████| 50/50 [00:09<00:00,  5.23it/s]\n"
     ]
    }
   ],
   "source": [
    "if args.PCA:\n",
    "    if not os.path.isfile(f'./eiko/{genre}/fea_sample/other_features/storage_sample_stage4.h5'):\n",
    "        #mapping Node to vector to train and test eiko\n",
    "        from node2vec import Node2Vec\n",
    "        from sklearn.decomposition  import PCA\n",
    "        node2vec = Node2Vec(g, dimensions=100, walk_length=16, num_walks=50)\n",
    "        n2v_model = node2vec.fit(window=7, min_count=1)\n",
    "        embedding=[] \n",
    "        for n1,n2 in zip(df_final_train['source_node'],df_final_train['destination_node']):\n",
    "            x=n2v_model.wv[str(n1)]+n2v_model.wv[str(n2)]\n",
    "            embedding.append(x)    \n",
    "        pca = PCA( n_components=1 )\n",
    "        df_final_train['node2vector'] = pca.fit_transform(embedding)\n",
    " \n",
    "        embedding=[]\n",
    "        for n1,n2 in zip(df_final_test['source_node'],df_final_test['destination_node']):\n",
    "            x=n2v_model.wv[str(n1)]+n2v_model.wv[str(n2)]\n",
    "            embedding.append(x)    \n",
    "        pca = PCA( n_components=1 )\n",
    "        df_final_test['node2vector'] = pca.fit_transform(embedding)\n",
    "        \n",
    "\n",
    "        g_nodes=list(g.nodes)\n",
    "        GEMSEC=pd.read_csv(f\"./GEMSEC/output_PCA/GEMSEC/PCA/{genre}_embedding.csv\")\n",
    "        GEMSECWithRegularization=pd.read_csv(f\"./GEMSEC/output_PCA/GEMSECWithRegularization/PCA/{genre}_embedding.csv\")\n",
    "        DeepWalk=pd.read_csv(f\"./GEMSEC/output_PCA/DeepWalk/PCA/{genre}_embedding.csv\")\n",
    "        DeepWalkWithRegularization=pd.read_csv(f\"./GEMSEC/output_PCA/DeepWalkWithRegularization/PCA/{genre}_embedding.csv\")\n",
    "    \n",
    "        #mapping GEMSEC to train and test eiko\n",
    "        df_final_train['GEMSEC'] = df_final_train.apply(lambda row:\n",
    "                                                GEMSEC_embedding(row['source_node'],row['destination_node']),axis=1)\n",
    "        df_final_test['GEMSEC'] = df_final_test.apply(lambda row:\n",
    "                                                GEMSEC_embedding(row['source_node'],row['destination_node']),axis=1)    \n",
    "\n",
    "        #mapping GEMSECWithRegularization to train and test eiko\n",
    "        df_final_train['GEMSECWithRegularization'] = df_final_train.apply(lambda row:\n",
    "                                                GEMSECWithRegularization_embedding(row['source_node'],row['destination_node']),axis=1)\n",
    "        df_final_test['GEMSECWithRegularization'] = df_final_test.apply(lambda row:\n",
    "                                                GEMSECWithRegularization_embedding(row['source_node'],row['destination_node']),axis=1)\n",
    "\n",
    "        #mapping DeepWalk to train and test eiko\n",
    "        df_final_train['DeepWalk'] = df_final_train.apply(lambda row:\n",
    "                                                DeepWalk_embedding(row['source_node'],row['destination_node']),axis=1)\n",
    "        df_final_test['DeepWalk'] = df_final_test.apply(lambda row:\n",
    "                                                DeepWalk_embedding(row['source_node'],row['destination_node']),axis=1)    \n",
    "\n",
    "        #mapping DeepWalkWithRegularization to train and test eiko\n",
    "        df_final_train['DeepWalkWithRegularization'] = df_final_train.apply(lambda row:\n",
    "                                                DeepWalkWithRegularization_embedding(row['source_node'],row['destination_node']),axis=1)\n",
    "        df_final_test['DeepWalkWithRegularization'] = df_final_test.apply(lambda row:\n",
    "                                                DeepWalkWithRegularization_embedding(row['source_node'],row['destination_node']),axis=1)          \n",
    "\n",
    "        hdf = HDFStore(f'./eiko/{genre}/fea_sample/other_features/storage_sample_stage4.h5')\n",
    "        hdf.put('train_df',df_final_train, format='table', data_columns=True)\n",
    "        hdf.put('test_df',df_final_test, format='table', data_columns=True)\n",
    "        hdf.close()\n",
    "        \n",
    "        \n",
    "        del node2vec\n",
    "        del n2v_model\n",
    "        del embedding\n",
    "        del pca\n",
    "        del g_nodes\n",
    "        del GEMSEC\n",
    "        del GEMSECWithRegularizationjaccard_coefficient\n",
    "        del DeepWalk\n",
    "        del DeepWalkWithRegularization\n",
    "    else:\n",
    "        df_final_train = read_hdf(f'./eiko/{genre}/fea_sample/other_features/storage_sample_stage4.h5', 'train_df',mode='r')\n",
    "        df_final_test = read_hdf(f'./eiko/{genre}/fea_sample/other_features/storage_sample_stage4.h5', 'test_df',mode='r')   \n",
    " "
   ]
  },
  {
   "cell_type": "markdown",
   "metadata": {
    "colab_type": "text",
    "id": "DAIOlLPyiAmY"
   },
   "source": [
    "**Store the eiko as final for machine learning models**"
   ]
  },
  {
   "cell_type": "markdown",
   "metadata": {},
   "source": [
    "# RandomForest"
   ]
  },
  {
   "cell_type": "code",
   "execution_count": 111,
   "metadata": {
    "ExecuteTime": {
     "end_time": "2022-05-29T12:41:21.654623Z",
     "start_time": "2022-05-29T12:41:21.344169Z"
    },
    "colab": {},
    "colab_type": "code",
    "id": "XC4OJFKkHglU"
   },
   "outputs": [],
   "source": [
    "#reading\n",
    "from pandas import read_hdf\n",
    "if args.PCA:\n",
    "    df_final_train = read_hdf(f'./eiko/{genre}/fea_sample/other_features/storage_sample_stage4.h5', 'train_df',mode='r')\n",
    "    df_final_test = read_hdf(f'./eiko/{genre}/fea_sample/other_features/storage_sample_stage4.h5', 'test_df',mode='r')\n",
    "else:\n",
    "    df_final_train = read_hdf(f'./eiko/{genre}/fea_sample/other_features/storage_sample_stage3.h5', 'train_df',mode='r')\n",
    "    df_final_test = read_hdf(f'./eiko/{genre}/fea_sample/other_features/storage_sample_stage3.h5', 'test_df',mode='r')    "
   ]
  },
  {
   "cell_type": "code",
   "execution_count": 92,
   "metadata": {
    "ExecuteTime": {
     "end_time": "2022-05-29T12:40:21.242323Z",
     "start_time": "2022-05-29T12:40:21.239917Z"
    },
    "colab": {},
    "colab_type": "code",
    "id": "k-T85kSmjrpy",
    "outputId": "d2c2294c-113e-4fdb-d3e5-dc167dcf5fbc",
    "scrolled": true
   },
   "outputs": [
    {
     "data": {
      "text/plain": [
       "Index(['source_node', 'destination_node', 'indicator_link', 'jaccard_distance',\n",
       "       'cosine_distance', 'same_community', 'shortest_path',\n",
       "       'Common_neighbors', 'adar', 'Resource_Allocation_Index',\n",
       "       'Preferential_Attachment', 'svd_u_s_1', 'svd_u_s_2', 'svd_u_s_3',\n",
       "       'svd_u_s_4', 'svd_u_s_5', 'svd_u_s_6', 'svd_u_d_1', 'svd_u_d_2',\n",
       "       'svd_u_d_3', 'svd_u_d_4', 'svd_u_d_5', 'svd_u_d_6', 'svd_v_s_1',\n",
       "       'svd_v_s_2', 'svd_v_s_3', 'svd_v_s_4', 'svd_v_s_5', 'svd_v_s_6',\n",
       "       'svd_v_d_1', 'svd_v_d_2', 'svd_v_d_3', 'svd_v_d_4', 'svd_v_d_5',\n",
       "       'svd_v_d_6', 'svd_dot_u', 'svd_dot_v', 'node2vector', 'GEMSEC',\n",
       "       'GEMSECWithRegularization', 'DeepWalk', 'DeepWalkWithRegularization'],\n",
       "      dtype='object')"
      ]
     },
     "execution_count": 92,
     "metadata": {},
     "output_type": "execute_result"
    }
   ],
   "source": [
    "df_final_train.columns"
   ]
  },
  {
   "cell_type": "code",
   "execution_count": 93,
   "metadata": {
    "ExecuteTime": {
     "end_time": "2022-05-29T12:40:21.246160Z",
     "start_time": "2022-05-29T12:40:21.243015Z"
    },
    "colab": {},
    "colab_type": "code",
    "id": "pH68dh1djrp5"
   },
   "outputs": [],
   "source": [
    "y_train = df_final_train.indicator_link\n",
    "y_test = df_final_test.indicator_link"
   ]
  },
  {
   "cell_type": "code",
   "execution_count": 94,
   "metadata": {
    "ExecuteTime": {
     "end_time": "2022-05-29T12:40:21.254534Z",
     "start_time": "2022-05-29T12:40:21.247037Z"
    },
    "colab": {},
    "colab_type": "code",
    "id": "phtTp9NZjrp_"
   },
   "outputs": [],
   "source": [
    "df_final_train.drop(['source_node', 'destination_node','indicator_link','svd_u_s_1', 'svd_u_s_2','svd_u_s_3', 'svd_u_s_4', 'svd_u_s_5', 'svd_u_s_6','svd_u_d_1', 'svd_u_d_2', 'svd_u_d_3', 'svd_u_d_4', 'svd_u_d_5','svd_u_d_6','svd_v_s_1','svd_v_s_2', 'svd_v_s_3', 'svd_v_s_4', 'svd_v_s_5', 'svd_v_s_6','svd_v_d_1', 'svd_v_d_2', 'svd_v_d_3', 'svd_v_d_4', 'svd_v_d_5','svd_v_d_6','shortest_path'],axis=1,inplace=True)\n",
    "df_final_test.drop(['source_node', 'destination_node','indicator_link','svd_u_s_1', 'svd_u_s_2','svd_u_s_3', 'svd_u_s_4', 'svd_u_s_5', 'svd_u_s_6','svd_u_d_1', 'svd_u_d_2', 'svd_u_d_3', 'svd_u_d_4', 'svd_u_d_5','svd_u_d_6','svd_v_s_1','svd_v_s_2', 'svd_v_s_3', 'svd_v_s_4', 'svd_v_s_5', 'svd_v_s_6','svd_v_d_1', 'svd_v_d_2', 'svd_v_d_3', 'svd_v_d_4', 'svd_v_d_5','svd_v_d_6','shortest_path'],axis=1,inplace=True)\n",
    "# df_final_train=df_final_train[['jaccard_distance','cosine_distance','same_community','Common_neighbors']]\n",
    "# df_final_test=df_final_test[['jaccard_distance','cosine_distance','same_community','Common_neighbors']]"
   ]
  },
  {
   "cell_type": "code",
   "execution_count": 95,
   "metadata": {
    "ExecuteTime": {
     "end_time": "2022-05-29T12:40:21.256677Z",
     "start_time": "2022-05-29T12:40:21.255284Z"
    }
   },
   "outputs": [],
   "source": [
    "# df_final_train=df_final_train[['adar']]\n",
    "# df_final_test=df_final_test[['adar']]"
   ]
  },
  {
   "cell_type": "code",
   "execution_count": 96,
   "metadata": {
    "ExecuteTime": {
     "end_time": "2022-05-29T12:40:21.259122Z",
     "start_time": "2022-05-29T12:40:21.257562Z"
    }
   },
   "outputs": [],
   "source": [
    "# df_final_train=df_final_train[['Resource_Allocation_Index']]\n",
    "# df_final_test=df_final_test[['Resource_Allocation_Index']]"
   ]
  },
  {
   "cell_type": "code",
   "execution_count": 97,
   "metadata": {
    "ExecuteTime": {
     "end_time": "2022-05-29T12:40:21.261335Z",
     "start_time": "2022-05-29T12:40:21.259949Z"
    }
   },
   "outputs": [],
   "source": [
    "# df_final_train=df_final_train[['Preferential_Attachment']]\n",
    "# df_final_test=df_final_test[['Preferential_Attachment']]"
   ]
  },
  {
   "cell_type": "code",
   "execution_count": 98,
   "metadata": {
    "ExecuteTime": {
     "end_time": "2022-05-29T12:40:21.263814Z",
     "start_time": "2022-05-29T12:40:21.262014Z"
    }
   },
   "outputs": [],
   "source": [
    "# df_final_train=df_final_train[['node2vector']]\n",
    "# df_final_test=df_final_test[['node2vector']]"
   ]
  },
  {
   "cell_type": "code",
   "execution_count": 99,
   "metadata": {
    "ExecuteTime": {
     "end_time": "2022-05-29T12:40:21.266486Z",
     "start_time": "2022-05-29T12:40:21.264516Z"
    }
   },
   "outputs": [],
   "source": [
    "# df_final_train=df_final_train[['GEMSEC']]\n",
    "# df_final_test=df_final_test[['GEMSEC']]"
   ]
  },
  {
   "cell_type": "code",
   "execution_count": 100,
   "metadata": {
    "ExecuteTime": {
     "end_time": "2022-05-29T12:40:21.268504Z",
     "start_time": "2022-05-29T12:40:21.267148Z"
    }
   },
   "outputs": [],
   "source": [
    "# df_final_train=df_final_train[['GEMSECWithRegularization']]\n",
    "# df_final_test=df_final_test[['GEMSECWithRegularization']]"
   ]
  },
  {
   "cell_type": "code",
   "execution_count": 101,
   "metadata": {
    "ExecuteTime": {
     "end_time": "2022-05-29T12:40:21.270473Z",
     "start_time": "2022-05-29T12:40:21.269150Z"
    }
   },
   "outputs": [],
   "source": [
    "# df_final_train=df_final_train[['DeepWalk']]\n",
    "# df_final_test=df_final_test[['DeepWalk']]"
   ]
  },
  {
   "cell_type": "code",
   "execution_count": 102,
   "metadata": {
    "ExecuteTime": {
     "end_time": "2022-05-29T12:40:21.272472Z",
     "start_time": "2022-05-29T12:40:21.271132Z"
    }
   },
   "outputs": [],
   "source": [
    "# df_final_train=df_final_train[['DeepWalkWithRegularization']]\n",
    "# df_final_test=df_final_test[['DeepWalkWithRegularization']]"
   ]
  },
  {
   "cell_type": "code",
   "execution_count": 112,
   "metadata": {
    "ExecuteTime": {
     "end_time": "2022-05-29T12:41:32.583777Z",
     "start_time": "2022-05-29T12:41:32.567398Z"
    },
    "scrolled": true
   },
   "outputs": [
    {
     "data": {
      "text/html": [
       "<div>\n",
       "<style scoped>\n",
       "    .dataframe tbody tr th:only-of-type {\n",
       "        vertical-align: middle;\n",
       "    }\n",
       "\n",
       "    .dataframe tbody tr th {\n",
       "        vertical-align: top;\n",
       "    }\n",
       "\n",
       "    .dataframe thead th {\n",
       "        text-align: right;\n",
       "    }\n",
       "</style>\n",
       "<table border=\"1\" class=\"dataframe\">\n",
       "  <thead>\n",
       "    <tr style=\"text-align: right;\">\n",
       "      <th></th>\n",
       "      <th>source_node</th>\n",
       "      <th>destination_node</th>\n",
       "      <th>indicator_link</th>\n",
       "      <th>jaccard_distance</th>\n",
       "      <th>cosine_distance</th>\n",
       "      <th>same_community</th>\n",
       "      <th>shortest_path</th>\n",
       "      <th>Common_neighbors</th>\n",
       "      <th>adar</th>\n",
       "      <th>Resource_Allocation_Index</th>\n",
       "      <th>...</th>\n",
       "      <th>svd_v_d_4</th>\n",
       "      <th>svd_v_d_5</th>\n",
       "      <th>svd_v_d_6</th>\n",
       "      <th>svd_dot_u</th>\n",
       "      <th>svd_dot_v</th>\n",
       "      <th>node2vector</th>\n",
       "      <th>GEMSEC</th>\n",
       "      <th>GEMSECWithRegularization</th>\n",
       "      <th>DeepWalk</th>\n",
       "      <th>DeepWalkWithRegularization</th>\n",
       "    </tr>\n",
       "  </thead>\n",
       "  <tbody>\n",
       "    <tr>\n",
       "      <th>0</th>\n",
       "      <td>3413</td>\n",
       "      <td>3343</td>\n",
       "      <td>1</td>\n",
       "      <td>0.294118</td>\n",
       "      <td>0.047619</td>\n",
       "      <td>1</td>\n",
       "      <td>1</td>\n",
       "      <td>5</td>\n",
       "      <td>2.161036</td>\n",
       "      <td>0.501354</td>\n",
       "      <td>...</td>\n",
       "      <td>-9.834833e-04</td>\n",
       "      <td>2.151501e-04</td>\n",
       "      <td>3.207119e-05</td>\n",
       "      <td>8.625683e-06</td>\n",
       "      <td>8.625683e-06</td>\n",
       "      <td>-0.844273</td>\n",
       "      <td>-2.185937</td>\n",
       "      <td>4.049660</td>\n",
       "      <td>2.901259</td>\n",
       "      <td>1.313043</td>\n",
       "    </tr>\n",
       "    <tr>\n",
       "      <th>1</th>\n",
       "      <td>146</td>\n",
       "      <td>2234</td>\n",
       "      <td>1</td>\n",
       "      <td>0.000000</td>\n",
       "      <td>0.000000</td>\n",
       "      <td>1</td>\n",
       "      <td>1</td>\n",
       "      <td>0</td>\n",
       "      <td>0.000000</td>\n",
       "      <td>0.000000</td>\n",
       "      <td>...</td>\n",
       "      <td>-2.180966e-06</td>\n",
       "      <td>5.250280e-09</td>\n",
       "      <td>1.054386e-08</td>\n",
       "      <td>2.157490e-10</td>\n",
       "      <td>2.157490e-10</td>\n",
       "      <td>2.375643</td>\n",
       "      <td>-3.882927</td>\n",
       "      <td>-7.951956</td>\n",
       "      <td>-11.163434</td>\n",
       "      <td>5.721247</td>\n",
       "    </tr>\n",
       "    <tr>\n",
       "      <th>2</th>\n",
       "      <td>1481</td>\n",
       "      <td>1113</td>\n",
       "      <td>1</td>\n",
       "      <td>0.176471</td>\n",
       "      <td>0.031250</td>\n",
       "      <td>1</td>\n",
       "      <td>1</td>\n",
       "      <td>3</td>\n",
       "      <td>1.392175</td>\n",
       "      <td>0.348485</td>\n",
       "      <td>...</td>\n",
       "      <td>-3.601277e-05</td>\n",
       "      <td>1.821458e-07</td>\n",
       "      <td>1.118372e-06</td>\n",
       "      <td>3.087866e-08</td>\n",
       "      <td>3.087866e-08</td>\n",
       "      <td>3.695516</td>\n",
       "      <td>-6.778196</td>\n",
       "      <td>-5.363354</td>\n",
       "      <td>-6.472065</td>\n",
       "      <td>3.890312</td>\n",
       "    </tr>\n",
       "    <tr>\n",
       "      <th>3</th>\n",
       "      <td>2036</td>\n",
       "      <td>2350</td>\n",
       "      <td>1</td>\n",
       "      <td>0.505618</td>\n",
       "      <td>0.010302</td>\n",
       "      <td>1</td>\n",
       "      <td>1</td>\n",
       "      <td>45</td>\n",
       "      <td>11.265735</td>\n",
       "      <td>0.839549</td>\n",
       "      <td>...</td>\n",
       "      <td>6.149393e-02</td>\n",
       "      <td>-7.842732e-04</td>\n",
       "      <td>1.308478e-01</td>\n",
       "      <td>1.262273e-02</td>\n",
       "      <td>1.262273e-02</td>\n",
       "      <td>-3.234747</td>\n",
       "      <td>9.163351</td>\n",
       "      <td>-2.573558</td>\n",
       "      <td>5.838528</td>\n",
       "      <td>0.805989</td>\n",
       "    </tr>\n",
       "    <tr>\n",
       "      <th>4</th>\n",
       "      <td>65</td>\n",
       "      <td>2031</td>\n",
       "      <td>1</td>\n",
       "      <td>0.529412</td>\n",
       "      <td>0.053571</td>\n",
       "      <td>1</td>\n",
       "      <td>1</td>\n",
       "      <td>9</td>\n",
       "      <td>3.733518</td>\n",
       "      <td>0.817671</td>\n",
       "      <td>...</td>\n",
       "      <td>-7.730326e-04</td>\n",
       "      <td>1.511492e-04</td>\n",
       "      <td>2.750821e-05</td>\n",
       "      <td>2.179123e-05</td>\n",
       "      <td>2.179123e-05</td>\n",
       "      <td>-1.218323</td>\n",
       "      <td>-4.380023</td>\n",
       "      <td>-6.899915</td>\n",
       "      <td>-6.302849</td>\n",
       "      <td>2.947937</td>\n",
       "    </tr>\n",
       "    <tr>\n",
       "      <th>...</th>\n",
       "      <td>...</td>\n",
       "      <td>...</td>\n",
       "      <td>...</td>\n",
       "      <td>...</td>\n",
       "      <td>...</td>\n",
       "      <td>...</td>\n",
       "      <td>...</td>\n",
       "      <td>...</td>\n",
       "      <td>...</td>\n",
       "      <td>...</td>\n",
       "      <td>...</td>\n",
       "      <td>...</td>\n",
       "      <td>...</td>\n",
       "      <td>...</td>\n",
       "      <td>...</td>\n",
       "      <td>...</td>\n",
       "      <td>...</td>\n",
       "      <td>...</td>\n",
       "      <td>...</td>\n",
       "      <td>...</td>\n",
       "      <td>...</td>\n",
       "    </tr>\n",
       "    <tr>\n",
       "      <th>27613</th>\n",
       "      <td>1787</td>\n",
       "      <td>3286</td>\n",
       "      <td>0</td>\n",
       "      <td>0.000000</td>\n",
       "      <td>0.000000</td>\n",
       "      <td>0</td>\n",
       "      <td>9</td>\n",
       "      <td>0</td>\n",
       "      <td>0.000000</td>\n",
       "      <td>0.000000</td>\n",
       "      <td>...</td>\n",
       "      <td>-1.004038e-09</td>\n",
       "      <td>3.579229e-12</td>\n",
       "      <td>4.689558e-13</td>\n",
       "      <td>9.583323e-12</td>\n",
       "      <td>9.583323e-12</td>\n",
       "      <td>1.161157</td>\n",
       "      <td>0.257331</td>\n",
       "      <td>5.421441</td>\n",
       "      <td>1.114054</td>\n",
       "      <td>-1.991831</td>\n",
       "    </tr>\n",
       "    <tr>\n",
       "      <th>27614</th>\n",
       "      <td>3373</td>\n",
       "      <td>2483</td>\n",
       "      <td>0</td>\n",
       "      <td>0.000000</td>\n",
       "      <td>0.000000</td>\n",
       "      <td>0</td>\n",
       "      <td>6</td>\n",
       "      <td>0</td>\n",
       "      <td>0.000000</td>\n",
       "      <td>0.000000</td>\n",
       "      <td>...</td>\n",
       "      <td>-1.636402e-01</td>\n",
       "      <td>2.227113e-04</td>\n",
       "      <td>3.582600e-02</td>\n",
       "      <td>7.461572e-08</td>\n",
       "      <td>7.461572e-08</td>\n",
       "      <td>0.405508</td>\n",
       "      <td>-6.737229</td>\n",
       "      <td>-6.573252</td>\n",
       "      <td>-8.216017</td>\n",
       "      <td>6.988257</td>\n",
       "    </tr>\n",
       "    <tr>\n",
       "      <th>27615</th>\n",
       "      <td>1496</td>\n",
       "      <td>549</td>\n",
       "      <td>0</td>\n",
       "      <td>0.000000</td>\n",
       "      <td>0.000000</td>\n",
       "      <td>0</td>\n",
       "      <td>5</td>\n",
       "      <td>0</td>\n",
       "      <td>0.000000</td>\n",
       "      <td>0.000000</td>\n",
       "      <td>...</td>\n",
       "      <td>-2.530197e-05</td>\n",
       "      <td>1.098556e-06</td>\n",
       "      <td>3.076463e-07</td>\n",
       "      <td>4.725180e-08</td>\n",
       "      <td>4.725180e-08</td>\n",
       "      <td>-0.040633</td>\n",
       "      <td>-5.601143</td>\n",
       "      <td>2.794851</td>\n",
       "      <td>-0.921274</td>\n",
       "      <td>-0.824722</td>\n",
       "    </tr>\n",
       "    <tr>\n",
       "      <th>27616</th>\n",
       "      <td>1484</td>\n",
       "      <td>2784</td>\n",
       "      <td>0</td>\n",
       "      <td>0.000000</td>\n",
       "      <td>0.000000</td>\n",
       "      <td>0</td>\n",
       "      <td>9</td>\n",
       "      <td>0</td>\n",
       "      <td>0.000000</td>\n",
       "      <td>0.000000</td>\n",
       "      <td>...</td>\n",
       "      <td>-9.646349e-07</td>\n",
       "      <td>6.801768e-08</td>\n",
       "      <td>3.836097e-09</td>\n",
       "      <td>2.083166e-11</td>\n",
       "      <td>2.083166e-11</td>\n",
       "      <td>1.330819</td>\n",
       "      <td>-1.974452</td>\n",
       "      <td>0.212555</td>\n",
       "      <td>-9.896050</td>\n",
       "      <td>-0.298452</td>\n",
       "    </tr>\n",
       "    <tr>\n",
       "      <th>27617</th>\n",
       "      <td>2049</td>\n",
       "      <td>2210</td>\n",
       "      <td>0</td>\n",
       "      <td>0.000000</td>\n",
       "      <td>0.000000</td>\n",
       "      <td>0</td>\n",
       "      <td>9</td>\n",
       "      <td>0</td>\n",
       "      <td>0.000000</td>\n",
       "      <td>0.000000</td>\n",
       "      <td>...</td>\n",
       "      <td>-2.315911e-06</td>\n",
       "      <td>3.796105e-07</td>\n",
       "      <td>1.162414e-08</td>\n",
       "      <td>6.233826e-11</td>\n",
       "      <td>6.233826e-11</td>\n",
       "      <td>1.451068</td>\n",
       "      <td>-5.318112</td>\n",
       "      <td>0.840200</td>\n",
       "      <td>-5.094409</td>\n",
       "      <td>5.194524</td>\n",
       "    </tr>\n",
       "  </tbody>\n",
       "</table>\n",
       "<p>27618 rows × 42 columns</p>\n",
       "</div>"
      ],
      "text/plain": [
       "       source_node  destination_node  indicator_link  jaccard_distance  \\\n",
       "0             3413              3343               1          0.294118   \n",
       "1              146              2234               1          0.000000   \n",
       "2             1481              1113               1          0.176471   \n",
       "3             2036              2350               1          0.505618   \n",
       "4               65              2031               1          0.529412   \n",
       "...            ...               ...             ...               ...   \n",
       "27613         1787              3286               0          0.000000   \n",
       "27614         3373              2483               0          0.000000   \n",
       "27615         1496               549               0          0.000000   \n",
       "27616         1484              2784               0          0.000000   \n",
       "27617         2049              2210               0          0.000000   \n",
       "\n",
       "       cosine_distance  same_community  shortest_path  Common_neighbors  \\\n",
       "0             0.047619               1              1                 5   \n",
       "1             0.000000               1              1                 0   \n",
       "2             0.031250               1              1                 3   \n",
       "3             0.010302               1              1                45   \n",
       "4             0.053571               1              1                 9   \n",
       "...                ...             ...            ...               ...   \n",
       "27613         0.000000               0              9                 0   \n",
       "27614         0.000000               0              6                 0   \n",
       "27615         0.000000               0              5                 0   \n",
       "27616         0.000000               0              9                 0   \n",
       "27617         0.000000               0              9                 0   \n",
       "\n",
       "            adar  Resource_Allocation_Index  ...     svd_v_d_4     svd_v_d_5  \\\n",
       "0       2.161036                   0.501354  ... -9.834833e-04  2.151501e-04   \n",
       "1       0.000000                   0.000000  ... -2.180966e-06  5.250280e-09   \n",
       "2       1.392175                   0.348485  ... -3.601277e-05  1.821458e-07   \n",
       "3      11.265735                   0.839549  ...  6.149393e-02 -7.842732e-04   \n",
       "4       3.733518                   0.817671  ... -7.730326e-04  1.511492e-04   \n",
       "...          ...                        ...  ...           ...           ...   \n",
       "27613   0.000000                   0.000000  ... -1.004038e-09  3.579229e-12   \n",
       "27614   0.000000                   0.000000  ... -1.636402e-01  2.227113e-04   \n",
       "27615   0.000000                   0.000000  ... -2.530197e-05  1.098556e-06   \n",
       "27616   0.000000                   0.000000  ... -9.646349e-07  6.801768e-08   \n",
       "27617   0.000000                   0.000000  ... -2.315911e-06  3.796105e-07   \n",
       "\n",
       "          svd_v_d_6     svd_dot_u     svd_dot_v  node2vector    GEMSEC  \\\n",
       "0      3.207119e-05  8.625683e-06  8.625683e-06    -0.844273 -2.185937   \n",
       "1      1.054386e-08  2.157490e-10  2.157490e-10     2.375643 -3.882927   \n",
       "2      1.118372e-06  3.087866e-08  3.087866e-08     3.695516 -6.778196   \n",
       "3      1.308478e-01  1.262273e-02  1.262273e-02    -3.234747  9.163351   \n",
       "4      2.750821e-05  2.179123e-05  2.179123e-05    -1.218323 -4.380023   \n",
       "...             ...           ...           ...          ...       ...   \n",
       "27613  4.689558e-13  9.583323e-12  9.583323e-12     1.161157  0.257331   \n",
       "27614  3.582600e-02  7.461572e-08  7.461572e-08     0.405508 -6.737229   \n",
       "27615  3.076463e-07  4.725180e-08  4.725180e-08    -0.040633 -5.601143   \n",
       "27616  3.836097e-09  2.083166e-11  2.083166e-11     1.330819 -1.974452   \n",
       "27617  1.162414e-08  6.233826e-11  6.233826e-11     1.451068 -5.318112   \n",
       "\n",
       "       GEMSECWithRegularization   DeepWalk  DeepWalkWithRegularization  \n",
       "0                      4.049660   2.901259                    1.313043  \n",
       "1                     -7.951956 -11.163434                    5.721247  \n",
       "2                     -5.363354  -6.472065                    3.890312  \n",
       "3                     -2.573558   5.838528                    0.805989  \n",
       "4                     -6.899915  -6.302849                    2.947937  \n",
       "...                         ...        ...                         ...  \n",
       "27613                  5.421441   1.114054                   -1.991831  \n",
       "27614                 -6.573252  -8.216017                    6.988257  \n",
       "27615                  2.794851  -0.921274                   -0.824722  \n",
       "27616                  0.212555  -9.896050                   -0.298452  \n",
       "27617                  0.840200  -5.094409                    5.194524  \n",
       "\n",
       "[27618 rows x 42 columns]"
      ]
     },
     "execution_count": 112,
     "metadata": {},
     "output_type": "execute_result"
    }
   ],
   "source": [
    "df_final_train"
   ]
  },
  {
   "cell_type": "code",
   "execution_count": 104,
   "metadata": {
    "ExecuteTime": {
     "end_time": "2022-05-29T12:40:21.294268Z",
     "start_time": "2022-05-29T12:40:21.291508Z"
    }
   },
   "outputs": [
    {
     "data": {
      "text/plain": [
       "9"
      ]
     },
     "execution_count": 104,
     "metadata": {},
     "output_type": "execute_result"
    }
   ],
   "source": [
    "nx.shortest_path_length( train_graph, source=1484, target=2784)"
   ]
  },
  {
   "cell_type": "code",
   "execution_count": 113,
   "metadata": {
    "ExecuteTime": {
     "end_time": "2022-05-29T12:41:38.365930Z",
     "start_time": "2022-05-29T12:41:38.350561Z"
    }
   },
   "outputs": [
    {
     "data": {
      "text/html": [
       "<div>\n",
       "<style scoped>\n",
       "    .dataframe tbody tr th:only-of-type {\n",
       "        vertical-align: middle;\n",
       "    }\n",
       "\n",
       "    .dataframe tbody tr th {\n",
       "        vertical-align: top;\n",
       "    }\n",
       "\n",
       "    .dataframe thead th {\n",
       "        text-align: right;\n",
       "    }\n",
       "</style>\n",
       "<table border=\"1\" class=\"dataframe\">\n",
       "  <thead>\n",
       "    <tr style=\"text-align: right;\">\n",
       "      <th></th>\n",
       "      <th>node_1</th>\n",
       "      <th>node_2</th>\n",
       "      <th>link</th>\n",
       "      <th>jaccard_distance</th>\n",
       "      <th>cosine_distance</th>\n",
       "      <th>shortest_path_length</th>\n",
       "      <th>same_community</th>\n",
       "      <th>common_neighbors</th>\n",
       "      <th>adamic_adar</th>\n",
       "      <th>resource_allocation_index</th>\n",
       "      <th>...</th>\n",
       "      <th>svd_v_s_5</th>\n",
       "      <th>svd_v_s_6</th>\n",
       "      <th>svd_v_d_1</th>\n",
       "      <th>svd_v_d_2</th>\n",
       "      <th>svd_v_d_3</th>\n",
       "      <th>svd_v_d_4</th>\n",
       "      <th>svd_v_d_5</th>\n",
       "      <th>svd_v_d_6</th>\n",
       "      <th>svd_dot_u</th>\n",
       "      <th>svd_dot_v</th>\n",
       "    </tr>\n",
       "  </thead>\n",
       "  <tbody>\n",
       "    <tr>\n",
       "      <th>0</th>\n",
       "      <td>3413</td>\n",
       "      <td>3343</td>\n",
       "      <td>1</td>\n",
       "      <td>0.294118</td>\n",
       "      <td>0.047619</td>\n",
       "      <td>1</td>\n",
       "      <td>1</td>\n",
       "      <td>5</td>\n",
       "      <td>2.161036</td>\n",
       "      <td>0.501354</td>\n",
       "      <td>...</td>\n",
       "      <td>2.643381e-04</td>\n",
       "      <td>3.930846e-05</td>\n",
       "      <td>3.168043e-04</td>\n",
       "      <td>-2.126518e-03</td>\n",
       "      <td>-9.219622e-04</td>\n",
       "      <td>-9.834833e-04</td>\n",
       "      <td>2.151501e-04</td>\n",
       "      <td>3.207119e-05</td>\n",
       "      <td>8.625683e-06</td>\n",
       "      <td>8.625683e-06</td>\n",
       "    </tr>\n",
       "    <tr>\n",
       "      <th>1</th>\n",
       "      <td>146</td>\n",
       "      <td>2234</td>\n",
       "      <td>1</td>\n",
       "      <td>0.000000</td>\n",
       "      <td>0.000000</td>\n",
       "      <td>1</td>\n",
       "      <td>1</td>\n",
       "      <td>0</td>\n",
       "      <td>0.000000</td>\n",
       "      <td>0.000000</td>\n",
       "      <td>...</td>\n",
       "      <td>1.629504e-07</td>\n",
       "      <td>5.308601e-07</td>\n",
       "      <td>6.328826e-08</td>\n",
       "      <td>-2.645776e-06</td>\n",
       "      <td>-9.527660e-07</td>\n",
       "      <td>-2.180966e-06</td>\n",
       "      <td>5.250280e-09</td>\n",
       "      <td>1.054386e-08</td>\n",
       "      <td>2.157490e-10</td>\n",
       "      <td>2.157490e-10</td>\n",
       "    </tr>\n",
       "    <tr>\n",
       "      <th>2</th>\n",
       "      <td>1481</td>\n",
       "      <td>1113</td>\n",
       "      <td>1</td>\n",
       "      <td>0.176471</td>\n",
       "      <td>0.031250</td>\n",
       "      <td>1</td>\n",
       "      <td>1</td>\n",
       "      <td>3</td>\n",
       "      <td>1.392175</td>\n",
       "      <td>0.348485</td>\n",
       "      <td>...</td>\n",
       "      <td>1.667227e-07</td>\n",
       "      <td>1.769006e-07</td>\n",
       "      <td>-1.101708e-04</td>\n",
       "      <td>-3.129206e-05</td>\n",
       "      <td>-1.735056e-04</td>\n",
       "      <td>-3.601277e-05</td>\n",
       "      <td>1.821458e-07</td>\n",
       "      <td>1.118372e-06</td>\n",
       "      <td>3.087866e-08</td>\n",
       "      <td>3.087866e-08</td>\n",
       "    </tr>\n",
       "    <tr>\n",
       "      <th>3</th>\n",
       "      <td>2036</td>\n",
       "      <td>2350</td>\n",
       "      <td>1</td>\n",
       "      <td>0.505618</td>\n",
       "      <td>0.010302</td>\n",
       "      <td>1</td>\n",
       "      <td>1</td>\n",
       "      <td>45</td>\n",
       "      <td>11.265735</td>\n",
       "      <td>0.839549</td>\n",
       "      <td>...</td>\n",
       "      <td>7.125375e-04</td>\n",
       "      <td>1.404221e-01</td>\n",
       "      <td>1.009403e-04</td>\n",
       "      <td>-2.740421e-03</td>\n",
       "      <td>-4.701884e-03</td>\n",
       "      <td>6.149393e-02</td>\n",
       "      <td>-7.842732e-04</td>\n",
       "      <td>1.308478e-01</td>\n",
       "      <td>1.262273e-02</td>\n",
       "      <td>1.262273e-02</td>\n",
       "    </tr>\n",
       "    <tr>\n",
       "      <th>4</th>\n",
       "      <td>65</td>\n",
       "      <td>2031</td>\n",
       "      <td>1</td>\n",
       "      <td>0.529412</td>\n",
       "      <td>0.053571</td>\n",
       "      <td>1</td>\n",
       "      <td>1</td>\n",
       "      <td>9</td>\n",
       "      <td>3.733518</td>\n",
       "      <td>0.817671</td>\n",
       "      <td>...</td>\n",
       "      <td>2.221650e-03</td>\n",
       "      <td>3.978645e-04</td>\n",
       "      <td>2.426358e-04</td>\n",
       "      <td>-1.585391e-03</td>\n",
       "      <td>-6.544714e-04</td>\n",
       "      <td>-7.730326e-04</td>\n",
       "      <td>1.511492e-04</td>\n",
       "      <td>2.750821e-05</td>\n",
       "      <td>2.179123e-05</td>\n",
       "      <td>2.179123e-05</td>\n",
       "    </tr>\n",
       "    <tr>\n",
       "      <th>...</th>\n",
       "      <td>...</td>\n",
       "      <td>...</td>\n",
       "      <td>...</td>\n",
       "      <td>...</td>\n",
       "      <td>...</td>\n",
       "      <td>...</td>\n",
       "      <td>...</td>\n",
       "      <td>...</td>\n",
       "      <td>...</td>\n",
       "      <td>...</td>\n",
       "      <td>...</td>\n",
       "      <td>...</td>\n",
       "      <td>...</td>\n",
       "      <td>...</td>\n",
       "      <td>...</td>\n",
       "      <td>...</td>\n",
       "      <td>...</td>\n",
       "      <td>...</td>\n",
       "      <td>...</td>\n",
       "      <td>...</td>\n",
       "      <td>...</td>\n",
       "    </tr>\n",
       "    <tr>\n",
       "      <th>27613</th>\n",
       "      <td>1787</td>\n",
       "      <td>3286</td>\n",
       "      <td>0</td>\n",
       "      <td>0.000000</td>\n",
       "      <td>0.000000</td>\n",
       "      <td>9</td>\n",
       "      <td>0</td>\n",
       "      <td>0</td>\n",
       "      <td>0.000000</td>\n",
       "      <td>0.000000</td>\n",
       "      <td>...</td>\n",
       "      <td>1.631376e-05</td>\n",
       "      <td>3.354205e-06</td>\n",
       "      <td>3.273391e-10</td>\n",
       "      <td>-6.982458e-09</td>\n",
       "      <td>-2.430715e-09</td>\n",
       "      <td>-1.004038e-09</td>\n",
       "      <td>3.579229e-12</td>\n",
       "      <td>4.689558e-13</td>\n",
       "      <td>9.583323e-12</td>\n",
       "      <td>9.583323e-12</td>\n",
       "    </tr>\n",
       "    <tr>\n",
       "      <th>27614</th>\n",
       "      <td>3373</td>\n",
       "      <td>2483</td>\n",
       "      <td>0</td>\n",
       "      <td>0.000000</td>\n",
       "      <td>0.000000</td>\n",
       "      <td>6</td>\n",
       "      <td>0</td>\n",
       "      <td>0</td>\n",
       "      <td>0.000000</td>\n",
       "      <td>0.000000</td>\n",
       "      <td>...</td>\n",
       "      <td>2.705416e-09</td>\n",
       "      <td>3.992914e-09</td>\n",
       "      <td>-6.830347e-04</td>\n",
       "      <td>1.073930e-02</td>\n",
       "      <td>1.426872e-02</td>\n",
       "      <td>-1.636402e-01</td>\n",
       "      <td>2.227113e-04</td>\n",
       "      <td>3.582600e-02</td>\n",
       "      <td>7.461572e-08</td>\n",
       "      <td>7.461572e-08</td>\n",
       "    </tr>\n",
       "    <tr>\n",
       "      <th>27615</th>\n",
       "      <td>1496</td>\n",
       "      <td>549</td>\n",
       "      <td>0</td>\n",
       "      <td>0.000000</td>\n",
       "      <td>0.000000</td>\n",
       "      <td>5</td>\n",
       "      <td>0</td>\n",
       "      <td>0</td>\n",
       "      <td>0.000000</td>\n",
       "      <td>0.000000</td>\n",
       "      <td>...</td>\n",
       "      <td>2.525372e-05</td>\n",
       "      <td>2.773948e-06</td>\n",
       "      <td>1.316703e-05</td>\n",
       "      <td>-3.045608e-05</td>\n",
       "      <td>-1.476499e-05</td>\n",
       "      <td>-2.530197e-05</td>\n",
       "      <td>1.098556e-06</td>\n",
       "      <td>3.076463e-07</td>\n",
       "      <td>4.725180e-08</td>\n",
       "      <td>4.725180e-08</td>\n",
       "    </tr>\n",
       "    <tr>\n",
       "      <th>27616</th>\n",
       "      <td>1484</td>\n",
       "      <td>2784</td>\n",
       "      <td>0</td>\n",
       "      <td>0.000000</td>\n",
       "      <td>0.000000</td>\n",
       "      <td>9</td>\n",
       "      <td>0</td>\n",
       "      <td>0</td>\n",
       "      <td>0.000000</td>\n",
       "      <td>0.000000</td>\n",
       "      <td>...</td>\n",
       "      <td>3.446323e-07</td>\n",
       "      <td>8.399597e-09</td>\n",
       "      <td>6.207574e-07</td>\n",
       "      <td>-3.054699e-06</td>\n",
       "      <td>-1.083077e-06</td>\n",
       "      <td>-9.646349e-07</td>\n",
       "      <td>6.801768e-08</td>\n",
       "      <td>3.836097e-09</td>\n",
       "      <td>2.083166e-11</td>\n",
       "      <td>2.083166e-11</td>\n",
       "    </tr>\n",
       "    <tr>\n",
       "      <th>27617</th>\n",
       "      <td>2049</td>\n",
       "      <td>2210</td>\n",
       "      <td>0</td>\n",
       "      <td>0.000000</td>\n",
       "      <td>0.000000</td>\n",
       "      <td>9</td>\n",
       "      <td>0</td>\n",
       "      <td>0</td>\n",
       "      <td>0.000000</td>\n",
       "      <td>0.000000</td>\n",
       "      <td>...</td>\n",
       "      <td>4.276187e-09</td>\n",
       "      <td>3.290146e-10</td>\n",
       "      <td>2.163898e-06</td>\n",
       "      <td>-1.171053e-05</td>\n",
       "      <td>-3.977157e-06</td>\n",
       "      <td>-2.315911e-06</td>\n",
       "      <td>3.796105e-07</td>\n",
       "      <td>1.162414e-08</td>\n",
       "      <td>6.233826e-11</td>\n",
       "      <td>6.233826e-11</td>\n",
       "    </tr>\n",
       "  </tbody>\n",
       "</table>\n",
       "<p>27618 rows × 37 columns</p>\n",
       "</div>"
      ],
      "text/plain": [
       "       node_1  node_2  link  jaccard_distance  cosine_distance  \\\n",
       "0        3413    3343     1          0.294118         0.047619   \n",
       "1         146    2234     1          0.000000         0.000000   \n",
       "2        1481    1113     1          0.176471         0.031250   \n",
       "3        2036    2350     1          0.505618         0.010302   \n",
       "4          65    2031     1          0.529412         0.053571   \n",
       "...       ...     ...   ...               ...              ...   \n",
       "27613    1787    3286     0          0.000000         0.000000   \n",
       "27614    3373    2483     0          0.000000         0.000000   \n",
       "27615    1496     549     0          0.000000         0.000000   \n",
       "27616    1484    2784     0          0.000000         0.000000   \n",
       "27617    2049    2210     0          0.000000         0.000000   \n",
       "\n",
       "       shortest_path_length  same_community  common_neighbors  adamic_adar  \\\n",
       "0                         1               1                 5     2.161036   \n",
       "1                         1               1                 0     0.000000   \n",
       "2                         1               1                 3     1.392175   \n",
       "3                         1               1                45    11.265735   \n",
       "4                         1               1                 9     3.733518   \n",
       "...                     ...             ...               ...          ...   \n",
       "27613                     9               0                 0     0.000000   \n",
       "27614                     6               0                 0     0.000000   \n",
       "27615                     5               0                 0     0.000000   \n",
       "27616                     9               0                 0     0.000000   \n",
       "27617                     9               0                 0     0.000000   \n",
       "\n",
       "       resource_allocation_index  ...     svd_v_s_5     svd_v_s_6  \\\n",
       "0                       0.501354  ...  2.643381e-04  3.930846e-05   \n",
       "1                       0.000000  ...  1.629504e-07  5.308601e-07   \n",
       "2                       0.348485  ...  1.667227e-07  1.769006e-07   \n",
       "3                       0.839549  ...  7.125375e-04  1.404221e-01   \n",
       "4                       0.817671  ...  2.221650e-03  3.978645e-04   \n",
       "...                          ...  ...           ...           ...   \n",
       "27613                   0.000000  ...  1.631376e-05  3.354205e-06   \n",
       "27614                   0.000000  ...  2.705416e-09  3.992914e-09   \n",
       "27615                   0.000000  ...  2.525372e-05  2.773948e-06   \n",
       "27616                   0.000000  ...  3.446323e-07  8.399597e-09   \n",
       "27617                   0.000000  ...  4.276187e-09  3.290146e-10   \n",
       "\n",
       "          svd_v_d_1     svd_v_d_2     svd_v_d_3     svd_v_d_4     svd_v_d_5  \\\n",
       "0      3.168043e-04 -2.126518e-03 -9.219622e-04 -9.834833e-04  2.151501e-04   \n",
       "1      6.328826e-08 -2.645776e-06 -9.527660e-07 -2.180966e-06  5.250280e-09   \n",
       "2     -1.101708e-04 -3.129206e-05 -1.735056e-04 -3.601277e-05  1.821458e-07   \n",
       "3      1.009403e-04 -2.740421e-03 -4.701884e-03  6.149393e-02 -7.842732e-04   \n",
       "4      2.426358e-04 -1.585391e-03 -6.544714e-04 -7.730326e-04  1.511492e-04   \n",
       "...             ...           ...           ...           ...           ...   \n",
       "27613  3.273391e-10 -6.982458e-09 -2.430715e-09 -1.004038e-09  3.579229e-12   \n",
       "27614 -6.830347e-04  1.073930e-02  1.426872e-02 -1.636402e-01  2.227113e-04   \n",
       "27615  1.316703e-05 -3.045608e-05 -1.476499e-05 -2.530197e-05  1.098556e-06   \n",
       "27616  6.207574e-07 -3.054699e-06 -1.083077e-06 -9.646349e-07  6.801768e-08   \n",
       "27617  2.163898e-06 -1.171053e-05 -3.977157e-06 -2.315911e-06  3.796105e-07   \n",
       "\n",
       "          svd_v_d_6     svd_dot_u     svd_dot_v  \n",
       "0      3.207119e-05  8.625683e-06  8.625683e-06  \n",
       "1      1.054386e-08  2.157490e-10  2.157490e-10  \n",
       "2      1.118372e-06  3.087866e-08  3.087866e-08  \n",
       "3      1.308478e-01  1.262273e-02  1.262273e-02  \n",
       "4      2.750821e-05  2.179123e-05  2.179123e-05  \n",
       "...             ...           ...           ...  \n",
       "27613  4.689558e-13  9.583323e-12  9.583323e-12  \n",
       "27614  3.582600e-02  7.461572e-08  7.461572e-08  \n",
       "27615  3.076463e-07  4.725180e-08  4.725180e-08  \n",
       "27616  3.836097e-09  2.083166e-11  2.083166e-11  \n",
       "27617  1.162414e-08  6.233826e-11  6.233826e-11  \n",
       "\n",
       "[27618 rows x 37 columns]"
      ]
     },
     "execution_count": 113,
     "metadata": {},
     "output_type": "execute_result"
    }
   ],
   "source": [
    "xtrain1"
   ]
  },
  {
   "cell_type": "code",
   "execution_count": 109,
   "metadata": {
    "ExecuteTime": {
     "end_time": "2022-05-29T12:40:50.347630Z",
     "start_time": "2022-05-29T12:40:50.345687Z"
    }
   },
   "outputs": [],
   "source": [
    "Base=[]\n",
    "Base += ['jaccard_distance', 'cosine_distance', 'shortest_path', 'same_community', \n",
    "        'Common_neighbors', 'adar', 'Resource_Allocation_Index', 'preferential_attachment',\n",
    "        'svd_dot_u', 'svd_dot_v']"
   ]
  },
  {
   "cell_type": "code",
   "execution_count": 110,
   "metadata": {
    "ExecuteTime": {
     "end_time": "2022-05-29T12:40:52.843246Z",
     "start_time": "2022-05-29T12:40:52.817527Z"
    }
   },
   "outputs": [
    {
     "ename": "KeyError",
     "evalue": "\"['shortest_path_length', 'common_neighbors', 'adamic_adar', 'resource_allocation_index', 'preferential_attachment'] not in index\"",
     "output_type": "error",
     "traceback": [
      "\u001b[0;31m---------------------------------------------------------------------------\u001b[0m",
      "\u001b[0;31mKeyError\u001b[0m                                  Traceback (most recent call last)",
      "Input \u001b[0;32mIn [110]\u001b[0m, in \u001b[0;36m<cell line: 1>\u001b[0;34m()\u001b[0m\n\u001b[0;32m----> 1\u001b[0m \u001b[43mdf_final_train\u001b[49m\u001b[43m[\u001b[49m\u001b[43m[\u001b[49m\u001b[38;5;124;43m'\u001b[39;49m\u001b[38;5;124;43mjaccard_distance\u001b[39;49m\u001b[38;5;124;43m'\u001b[39;49m\u001b[43m,\u001b[49m\u001b[43m \u001b[49m\u001b[38;5;124;43m'\u001b[39;49m\u001b[38;5;124;43mcosine_distance\u001b[39;49m\u001b[38;5;124;43m'\u001b[39;49m\u001b[43m,\u001b[49m\u001b[43m \u001b[49m\u001b[38;5;124;43m'\u001b[39;49m\u001b[38;5;124;43mshortest_path_length\u001b[39;49m\u001b[38;5;124;43m'\u001b[39;49m\u001b[43m,\u001b[49m\u001b[43m \u001b[49m\u001b[38;5;124;43m'\u001b[39;49m\u001b[38;5;124;43msame_community\u001b[39;49m\u001b[38;5;124;43m'\u001b[39;49m\u001b[43m,\u001b[49m\u001b[43m \u001b[49m\n\u001b[1;32m      2\u001b[0m \u001b[43m        \u001b[49m\u001b[38;5;124;43m'\u001b[39;49m\u001b[38;5;124;43mcommon_neighbors\u001b[39;49m\u001b[38;5;124;43m'\u001b[39;49m\u001b[43m,\u001b[49m\u001b[43m \u001b[49m\u001b[38;5;124;43m'\u001b[39;49m\u001b[38;5;124;43madamic_adar\u001b[39;49m\u001b[38;5;124;43m'\u001b[39;49m\u001b[43m,\u001b[49m\u001b[43m \u001b[49m\u001b[38;5;124;43m'\u001b[39;49m\u001b[38;5;124;43mresource_allocation_index\u001b[39;49m\u001b[38;5;124;43m'\u001b[39;49m\u001b[43m,\u001b[49m\u001b[43m \u001b[49m\u001b[38;5;124;43m'\u001b[39;49m\u001b[38;5;124;43mpreferential_attachment\u001b[39;49m\u001b[38;5;124;43m'\u001b[39;49m\u001b[43m,\u001b[49m\n\u001b[1;32m      3\u001b[0m \u001b[43m        \u001b[49m\u001b[38;5;124;43m'\u001b[39;49m\u001b[38;5;124;43msvd_dot_u\u001b[39;49m\u001b[38;5;124;43m'\u001b[39;49m\u001b[43m,\u001b[49m\u001b[43m \u001b[49m\u001b[38;5;124;43m'\u001b[39;49m\u001b[38;5;124;43msvd_dot_v\u001b[39;49m\u001b[38;5;124;43m'\u001b[39;49m\u001b[43m]\u001b[49m\u001b[43m]\u001b[49m\n",
      "File \u001b[0;32m~/anaconda3/envs/adl2021/lib/python3.9/site-packages/pandas/core/frame.py:3511\u001b[0m, in \u001b[0;36mDataFrame.__getitem__\u001b[0;34m(self, key)\u001b[0m\n\u001b[1;32m   3509\u001b[0m     \u001b[38;5;28;01mif\u001b[39;00m is_iterator(key):\n\u001b[1;32m   3510\u001b[0m         key \u001b[38;5;241m=\u001b[39m \u001b[38;5;28mlist\u001b[39m(key)\n\u001b[0;32m-> 3511\u001b[0m     indexer \u001b[38;5;241m=\u001b[39m \u001b[38;5;28;43mself\u001b[39;49m\u001b[38;5;241;43m.\u001b[39;49m\u001b[43mcolumns\u001b[49m\u001b[38;5;241;43m.\u001b[39;49m\u001b[43m_get_indexer_strict\u001b[49m\u001b[43m(\u001b[49m\u001b[43mkey\u001b[49m\u001b[43m,\u001b[49m\u001b[43m \u001b[49m\u001b[38;5;124;43m\"\u001b[39;49m\u001b[38;5;124;43mcolumns\u001b[39;49m\u001b[38;5;124;43m\"\u001b[39;49m\u001b[43m)\u001b[49m[\u001b[38;5;241m1\u001b[39m]\n\u001b[1;32m   3513\u001b[0m \u001b[38;5;66;03m# take() does not accept boolean indexers\u001b[39;00m\n\u001b[1;32m   3514\u001b[0m \u001b[38;5;28;01mif\u001b[39;00m \u001b[38;5;28mgetattr\u001b[39m(indexer, \u001b[38;5;124m\"\u001b[39m\u001b[38;5;124mdtype\u001b[39m\u001b[38;5;124m\"\u001b[39m, \u001b[38;5;28;01mNone\u001b[39;00m) \u001b[38;5;241m==\u001b[39m \u001b[38;5;28mbool\u001b[39m:\n",
      "File \u001b[0;32m~/anaconda3/envs/adl2021/lib/python3.9/site-packages/pandas/core/indexes/base.py:5782\u001b[0m, in \u001b[0;36mIndex._get_indexer_strict\u001b[0;34m(self, key, axis_name)\u001b[0m\n\u001b[1;32m   5779\u001b[0m \u001b[38;5;28;01melse\u001b[39;00m:\n\u001b[1;32m   5780\u001b[0m     keyarr, indexer, new_indexer \u001b[38;5;241m=\u001b[39m \u001b[38;5;28mself\u001b[39m\u001b[38;5;241m.\u001b[39m_reindex_non_unique(keyarr)\n\u001b[0;32m-> 5782\u001b[0m \u001b[38;5;28;43mself\u001b[39;49m\u001b[38;5;241;43m.\u001b[39;49m\u001b[43m_raise_if_missing\u001b[49m\u001b[43m(\u001b[49m\u001b[43mkeyarr\u001b[49m\u001b[43m,\u001b[49m\u001b[43m \u001b[49m\u001b[43mindexer\u001b[49m\u001b[43m,\u001b[49m\u001b[43m \u001b[49m\u001b[43maxis_name\u001b[49m\u001b[43m)\u001b[49m\n\u001b[1;32m   5784\u001b[0m keyarr \u001b[38;5;241m=\u001b[39m \u001b[38;5;28mself\u001b[39m\u001b[38;5;241m.\u001b[39mtake(indexer)\n\u001b[1;32m   5785\u001b[0m \u001b[38;5;28;01mif\u001b[39;00m \u001b[38;5;28misinstance\u001b[39m(key, Index):\n\u001b[1;32m   5786\u001b[0m     \u001b[38;5;66;03m# GH 42790 - Preserve name from an Index\u001b[39;00m\n",
      "File \u001b[0;32m~/anaconda3/envs/adl2021/lib/python3.9/site-packages/pandas/core/indexes/base.py:5845\u001b[0m, in \u001b[0;36mIndex._raise_if_missing\u001b[0;34m(self, key, indexer, axis_name)\u001b[0m\n\u001b[1;32m   5842\u001b[0m     \u001b[38;5;28;01mraise\u001b[39;00m \u001b[38;5;167;01mKeyError\u001b[39;00m(\u001b[38;5;124mf\u001b[39m\u001b[38;5;124m\"\u001b[39m\u001b[38;5;124mNone of [\u001b[39m\u001b[38;5;132;01m{\u001b[39;00mkey\u001b[38;5;132;01m}\u001b[39;00m\u001b[38;5;124m] are in the [\u001b[39m\u001b[38;5;132;01m{\u001b[39;00maxis_name\u001b[38;5;132;01m}\u001b[39;00m\u001b[38;5;124m]\u001b[39m\u001b[38;5;124m\"\u001b[39m)\n\u001b[1;32m   5844\u001b[0m not_found \u001b[38;5;241m=\u001b[39m \u001b[38;5;28mlist\u001b[39m(ensure_index(key)[missing_mask\u001b[38;5;241m.\u001b[39mnonzero()[\u001b[38;5;241m0\u001b[39m]]\u001b[38;5;241m.\u001b[39munique())\n\u001b[0;32m-> 5845\u001b[0m \u001b[38;5;28;01mraise\u001b[39;00m \u001b[38;5;167;01mKeyError\u001b[39;00m(\u001b[38;5;124mf\u001b[39m\u001b[38;5;124m\"\u001b[39m\u001b[38;5;132;01m{\u001b[39;00mnot_found\u001b[38;5;132;01m}\u001b[39;00m\u001b[38;5;124m not in index\u001b[39m\u001b[38;5;124m\"\u001b[39m)\n",
      "\u001b[0;31mKeyError\u001b[0m: \"['shortest_path_length', 'common_neighbors', 'adamic_adar', 'resource_allocation_index', 'preferential_attachment'] not in index\""
     ]
    }
   ],
   "source": [
    "df_final_train[['jaccard_distance', 'cosine_distance', 'shortest_path_length', 'same_community', \n",
    "        'common_neighbors', 'adamic_adar', 'resource_allocation_index', 'preferential_attachment',\n",
    "        'svd_dot_u', 'svd_dot_v']]"
   ]
  },
  {
   "cell_type": "code",
   "execution_count": null,
   "metadata": {
    "ExecuteTime": {
     "end_time": "2022-05-29T12:40:22.747285Z",
     "start_time": "2022-05-29T12:40:22.747276Z"
    }
   },
   "outputs": [],
   "source": [
    "# np.where(np.isnan(df_final_train))\n",
    "print(df_final_train[Base]==xtrain1[Base])\n",
    "print(df_final_test[Base]==xtest1[Base])"
   ]
  },
  {
   "cell_type": "code",
   "execution_count": null,
   "metadata": {
    "ExecuteTime": {
     "end_time": "2022-05-29T12:40:22.747932Z",
     "start_time": "2022-05-29T12:40:22.747925Z"
    },
    "colab": {},
    "colab_type": "code",
    "id": "lIEc91uVHgli",
    "outputId": "31f04b72-ebe5-4b13-ccca-a5ae3bc4f09c"
   },
   "outputs": [],
   "source": [
    "from sklearn.metrics import f1_score\n",
    "from sklearn.ensemble import RandomForestClassifier\n",
    "from sklearn.model_selection import RandomizedSearchCV\n",
    "from scipy.stats import randint as sp_randint\n",
    "from scipy.stats import uniform\n",
    "\n",
    "# estimators = [10,50,100,250,450]\n",
    "# train_scores = []\n",
    "# test_scores = []\n",
    "# for i in estimators:\n",
    "#     clf = RandomForestClassifier(bootstrap=True, class_weight=None, criterion='gini',\n",
    "#             max_depth=5, max_features='auto', max_leaf_nodes=None,\n",
    "#             min_impurity_decrease=0.0,\n",
    "#             min_samples_leaf=52, min_samples_split=120,\n",
    "#             min_weight_fraction_leaf=0.0, n_estimators=i, n_jobs=-1,random_state=25,verbose=0,warm_start=False)\n",
    "#     clf.fit(df_final_train,y_train)\n",
    "#     train_sc = f1_score(y_train,clf.predict(df_final_train))\n",
    "#     test_sc = f1_score(y_test,clf.predict(df_final_test))\n",
    "#     test_scores.append(test_sc)\n",
    "#     train_scores.append(train_sc)\n",
    "#     print('Estimators = ',i,'Train Score',train_sc,'test Score',test_sc)\n",
    "# plt.plot(estimators,train_scores,label='Train Score')\n",
    "# plt.plot(estimators,test_scores,label='Test Score')\n",
    "# plt.xlabel('Estimators')\n",
    "# plt.ylabel('Score')\n",
    "# plt.title('Estimators vs score at depth of 5')"
   ]
  },
  {
   "cell_type": "code",
   "execution_count": null,
   "metadata": {
    "ExecuteTime": {
     "end_time": "2022-05-29T12:40:22.748545Z",
     "start_time": "2022-05-29T12:40:22.748537Z"
    },
    "colab": {},
    "colab_type": "code",
    "id": "nZxhrTdQHglm",
    "outputId": "53382b8e-148d-4c22-8066-d9807fb27012"
   },
   "outputs": [],
   "source": [
    "# depths = [3,9,11,15,20,35,50,70,130]\n",
    "# train_scores = []\n",
    "# test_scores = []\n",
    "# for i in depths:\n",
    "#     clf = RandomForestClassifier(bootstrap=True, class_weight=None, criterion='gini',\n",
    "#             max_depth=i, max_features='auto', max_leaf_nodes=None,\n",
    "#             min_impurity_decrease=0.0,\n",
    "#             min_samples_leaf=52, min_samples_split=120,\n",
    "#             min_weight_fraction_leaf=0.0, n_estimators=115, n_jobs=-1,random_state=25,verbose=0,warm_start=False)\n",
    "#     clf.fit(df_final_train,y_train)\n",
    "#     train_sc = f1_score(y_train,clf.predict(df_final_train))\n",
    "#     test_sc = f1_score(y_test,clf.predict(df_final_test))\n",
    "#     test_scores.append(test_sc)\n",
    "#     train_scores.append(train_sc)\n",
    "#     print('depth = ',i,'Train Score',train_sc,'test Score',test_sc)\n",
    "# plt.plot(depths,train_scores,label='Train Score')\n",
    "# plt.plot(depths,test_scores,label='Test Score')\n",
    "# plt.xlabel('Depth')\n",
    "# plt.ylabel('Score')\n",
    "# plt.title('Depth vs score at depth of 5 at estimators = 115')\n",
    "# plt.show()"
   ]
  },
  {
   "cell_type": "code",
   "execution_count": null,
   "metadata": {
    "ExecuteTime": {
     "end_time": "2022-05-29T12:40:22.749092Z",
     "start_time": "2022-05-29T12:40:22.749085Z"
    },
    "colab": {},
    "colab_type": "code",
    "id": "MrG1Lfl3Hglq",
    "outputId": "7b6e3c97-8d66-455d-cd79-213f824719cc"
   },
   "outputs": [],
   "source": [
    "param_dist = {\"n_estimators\":sp_randint(105,125),\n",
    "              \"max_depth\": sp_randint(10,15),\n",
    "              \"min_samples_split\": sp_randint(110,190),\n",
    "              \"min_samples_leaf\": sp_randint(25,65)}\n",
    "\n",
    "clf = RandomForestClassifier(random_state=25,n_jobs=-1)\n",
    "\n",
    "rf_random = RandomizedSearchCV(clf, param_distributions=param_dist,\n",
    "                                   n_iter=5,cv=10,scoring='f1',random_state=25)\n",
    "\n",
    "\n",
    "rf_random.fit(df_final_train,y_train)\n",
    "print('mean test scores',rf_random.cv_results_['mean_test_score'])\n",
    "# print('mean train scores',rf_random.cv_results_['mean_train_score'])"
   ]
  },
  {
   "cell_type": "code",
   "execution_count": null,
   "metadata": {
    "ExecuteTime": {
     "end_time": "2022-05-29T12:40:22.749686Z",
     "start_time": "2022-05-29T12:40:22.749678Z"
    },
    "colab": {},
    "colab_type": "code",
    "id": "hme3j_diHglu",
    "outputId": "581ccc02-7770-4a94-d003-257af4e81570"
   },
   "outputs": [],
   "source": [
    "print(rf_random.best_estimator_)"
   ]
  },
  {
   "cell_type": "code",
   "execution_count": null,
   "metadata": {
    "ExecuteTime": {
     "end_time": "2022-05-29T12:40:22.750179Z",
     "start_time": "2022-05-29T12:40:22.750172Z"
    }
   },
   "outputs": [],
   "source": [
    "clf = rf_random.best_estimator_"
   ]
  },
  {
   "cell_type": "code",
   "execution_count": null,
   "metadata": {
    "ExecuteTime": {
     "end_time": "2022-05-29T12:40:22.750738Z",
     "start_time": "2022-05-29T12:40:22.750731Z"
    },
    "colab": {},
    "colab_type": "code",
    "id": "Dax83GfLHgl1"
   },
   "outputs": [],
   "source": [
    "clf.fit(df_final_train,y_train)\n",
    "y_train_pred = clf.predict(df_final_train)\n",
    "y_test_pred = clf.predict(df_final_test)"
   ]
  },
  {
   "cell_type": "code",
   "execution_count": null,
   "metadata": {
    "ExecuteTime": {
     "end_time": "2022-05-29T12:40:22.751337Z",
     "start_time": "2022-05-29T12:40:22.751327Z"
    },
    "colab": {},
    "colab_type": "code",
    "id": "PTtAp1iTHgl4",
    "outputId": "e2e3d725-3c4d-4374-d303-8f294b570977"
   },
   "outputs": [],
   "source": [
    "from sklearn.metrics import f1_score\n",
    "print('Train f1 score',f1_score(y_train,y_train_pred))\n",
    "print('Test f1 score',f1_score(y_test,y_test_pred))"
   ]
  },
  {
   "cell_type": "code",
   "execution_count": null,
   "metadata": {
    "ExecuteTime": {
     "end_time": "2022-05-29T12:40:22.751850Z",
     "start_time": "2022-05-29T12:40:22.751843Z"
    }
   },
   "outputs": [],
   "source": [
    "# f = open(\"./results/RandomForest_f1_transposed.csv\", \"a\")\n",
    "# f.write(str(f1_score(y_test,y_test_pred)))\n",
    "# if not args.PCA:\n",
    "#     f.write('\\n')\n",
    "# else:\n",
    "#     f.write(',')\n",
    "# f.close()"
   ]
  },
  {
   "cell_type": "code",
   "execution_count": null,
   "metadata": {
    "ExecuteTime": {
     "end_time": "2022-05-29T12:40:22.752385Z",
     "start_time": "2022-05-29T12:40:22.752378Z"
    },
    "colab": {},
    "colab_type": "code",
    "id": "5XfUkZYQHgl7"
   },
   "outputs": [],
   "source": [
    "from sklearn.metrics import confusion_matrix\n",
    "def plot_confusion_matrix(test_y, predict_y,split):\n",
    "    C = confusion_matrix(test_y, predict_y)\n",
    "    \n",
    "    A =(((C.T)/(C.sum(axis=1))).T)\n",
    "    \n",
    "    B =(C/C.sum(axis=0))\n",
    "    plt.figure(figsize=(20,4))\n",
    "    \n",
    "    labels = [0,1]\n",
    "    # representing A in heatmap format\n",
    "    cmap=sns.light_palette(\"blue\")\n",
    "    plt.subplot(1, 3, 1)\n",
    "    sns.heatmap(C, annot=True, cmap=cmap, fmt=\".3f\", xticklabels=labels, yticklabels=labels)\n",
    "    plt.xlabel('Predicted Class')\n",
    "    plt.ylabel('Original Class')\n",
    "    plt.title(\"Confusion matrix\")\n",
    "    \n",
    "    plt.subplot(1, 3, 2)\n",
    "    sns.heatmap(B, annot=True, cmap=cmap, fmt=\".3f\", xticklabels=labels, yticklabels=labels)\n",
    "    plt.xlabel('Predicted Class')\n",
    "    plt.ylabel('Original Class')\n",
    "    plt.title(\"Precision matrix\")\n",
    "    \n",
    "    plt.subplot(1, 3, 3)\n",
    "    # representing B in heatmap format\n",
    "    sns.heatmap(A, annot=True, cmap=cmap, fmt=\".3f\", xticklabels=labels, yticklabels=labels)\n",
    "    plt.xlabel('Predicted Class')\n",
    "    plt.ylabel('Original Class')\n",
    "    plt.title(\"Recall matrix\")\n",
    "    plt.tight_layout()\n",
    "#     plt.savefig(f\"./results/{PCAornot}/{genre}/RandomForest/{split}_confusion_matrix.png\")\n",
    "    \n",
    "    plt.show()"
   ]
  },
  {
   "cell_type": "code",
   "execution_count": null,
   "metadata": {
    "ExecuteTime": {
     "end_time": "2022-05-29T12:40:22.752925Z",
     "start_time": "2022-05-29T12:40:22.752917Z"
    },
    "colab": {},
    "colab_type": "code",
    "id": "s6t11dhTHgl-",
    "outputId": "189de3be-1c99-4653-f56f-12b18b0f4db7"
   },
   "outputs": [],
   "source": [
    "print('Train confusion_matrix')\n",
    "plot_confusion_matrix(y_train,y_train_pred,'Train')\n",
    "print('Test confusion_matrix')\n",
    "plot_confusion_matrix(y_test,y_test_pred,'Test')"
   ]
  },
  {
   "cell_type": "code",
   "execution_count": null,
   "metadata": {
    "ExecuteTime": {
     "end_time": "2022-05-29T12:40:22.753546Z",
     "start_time": "2022-05-29T12:40:22.753538Z"
    },
    "colab": {},
    "colab_type": "code",
    "id": "61TF-VLeHgmD",
    "outputId": "795f1b39-61c7-470f-e2d0-1fe6dc7ac5fd"
   },
   "outputs": [],
   "source": [
    "from sklearn.metrics import roc_curve, auc\n",
    "fpr,tpr,ths = roc_curve(y_test,y_test_pred)\n",
    "auc_sc = auc(fpr, tpr)\n",
    "plt.figure()\n",
    "plt.plot(fpr, tpr, color='navy',label='ROC curve (area = %0.2f)' % auc_sc)\n",
    "plt.xlabel('False Positive Rate')\n",
    "plt.ylabel('True Positive Rate')\n",
    "plt.title('Receiver operating characteristic with test eiko')\n",
    "plt.legend()\n",
    "plt.tight_layout()\n",
    "# plt.savefig(f\"./results/{PCAornot}/{genre}/RandomForest/roc_curve.png\")\n",
    "plt.show()"
   ]
  },
  {
   "cell_type": "code",
   "execution_count": null,
   "metadata": {
    "ExecuteTime": {
     "end_time": "2022-05-29T12:40:22.754014Z",
     "start_time": "2022-05-29T12:40:22.754007Z"
    },
    "colab": {},
    "colab_type": "code",
    "id": "HEZ7uvN6HgmK",
    "outputId": "6f762256-54fc-4e2f-865b-22342033eb2c",
    "scrolled": true
   },
   "outputs": [],
   "source": [
    "features = df_final_train.columns\n",
    "importances = clf.feature_importances_\n",
    "indices = (np.argsort(importances))[-25:]\n",
    "plt.figure(figsize=(10,12))\n",
    "plt.title('Feature Importances')\n",
    "plt.barh(range(len(indices)), importances[indices], color='r', align='center')\n",
    "plt.yticks(range(len(indices)), [features[i] for i in indices])\n",
    "plt.xlabel('Relative Importance')\n",
    "plt.tight_layout()\n",
    "# plt.savefig(f\"./results/{PCAornot}/{genre}/RandomForest/importance.png\")\n",
    "plt.show()"
   ]
  },
  {
   "cell_type": "markdown",
   "metadata": {
    "colab_type": "text",
    "id": "_rYXyDpCizW0"
   },
   "source": [
    "# GBDT"
   ]
  },
  {
   "cell_type": "code",
   "execution_count": null,
   "metadata": {
    "ExecuteTime": {
     "end_time": "2022-05-29T12:40:22.754555Z",
     "start_time": "2022-05-29T12:40:22.754548Z"
    },
    "colab": {},
    "colab_type": "code",
    "id": "a6A_lPdakWJd"
   },
   "outputs": [],
   "source": [
    "#reading\n",
    "from pandas import read_hdf\n",
    "if args.PCA:\n",
    "    df_final_train = read_hdf(f'./eiko/{genre}/fea_sample/other_features/storage_sample_stage4.h5', 'train_df',mode='r')\n",
    "    df_final_test = read_hdf(f'./eiko/{genre}/fea_sample/other_features/storage_sample_stage4.h5', 'test_df',mode='r')\n",
    "else:\n",
    "    df_final_train = read_hdf(f'./eiko/{genre}/fea_sample/other_features/storage_sample_stage3.h5', 'train_df',mode='r')\n",
    "    df_final_test = read_hdf(f'./eiko/{genre}/fea_sample/other_features/storage_sample_stage3.h5', 'test_df',mode='r')  "
   ]
  },
  {
   "cell_type": "code",
   "execution_count": null,
   "metadata": {
    "ExecuteTime": {
     "end_time": "2022-05-29T12:40:22.755081Z",
     "start_time": "2022-05-29T12:40:22.755074Z"
    }
   },
   "outputs": [],
   "source": [
    "df_final_train"
   ]
  },
  {
   "cell_type": "code",
   "execution_count": null,
   "metadata": {
    "ExecuteTime": {
     "end_time": "2022-05-29T12:40:22.755501Z",
     "start_time": "2022-05-29T12:40:22.755494Z"
    },
    "colab": {
     "base_uri": "https://localhost:8080/",
     "height": 272
    },
    "colab_type": "code",
    "id": "5Gm-BHRkHglW",
    "outputId": "3a1e71d2-d1e7-42e0-b0eb-2ae688b6dfeb"
   },
   "outputs": [],
   "source": [
    "df_final_train.columns"
   ]
  },
  {
   "cell_type": "code",
   "execution_count": null,
   "metadata": {
    "ExecuteTime": {
     "end_time": "2022-05-29T12:40:22.755988Z",
     "start_time": "2022-05-29T12:40:22.755981Z"
    },
    "colab": {},
    "colab_type": "code",
    "id": "XRW7VZ4AHglc"
   },
   "outputs": [],
   "source": [
    "y_train = df_final_train.indicator_link\n",
    "y_test = df_final_test.indicator_link"
   ]
  },
  {
   "cell_type": "code",
   "execution_count": null,
   "metadata": {
    "ExecuteTime": {
     "end_time": "2022-05-29T12:40:22.756456Z",
     "start_time": "2022-05-29T12:40:22.756449Z"
    },
    "colab": {},
    "colab_type": "code",
    "id": "4lj9M_qtHglf"
   },
   "outputs": [],
   "source": [
    "df_final_train.drop(['source_node', 'destination_node','indicator_link','svd_u_s_1', 'svd_u_s_2','svd_u_s_3', 'svd_u_s_4', 'svd_u_s_5', 'svd_u_s_6','svd_u_d_1', 'svd_u_d_2', 'svd_u_d_3', 'svd_u_d_4', 'svd_u_d_5','svd_u_d_6','svd_v_s_1','svd_v_s_2', 'svd_v_s_3', 'svd_v_s_4', 'svd_v_s_5', 'svd_v_s_6','svd_v_d_1', 'svd_v_d_2', 'svd_v_d_3', 'svd_v_d_4', 'svd_v_d_5','svd_v_d_6','shortest_path'],axis=1,inplace=True)\n",
    "df_final_test.drop(['source_node', 'destination_node','indicator_link','svd_u_s_1', 'svd_u_s_2','svd_u_s_3', 'svd_u_s_4', 'svd_u_s_5', 'svd_u_s_6','svd_u_d_1', 'svd_u_d_2', 'svd_u_d_3', 'svd_u_d_4', 'svd_u_d_5','svd_u_d_6','svd_v_s_1','svd_v_s_2', 'svd_v_s_3', 'svd_v_s_4', 'svd_v_s_5', 'svd_v_s_6','svd_v_d_1', 'svd_v_d_2', 'svd_v_d_3', 'svd_v_d_4', 'svd_v_d_5','svd_v_d_6','shortest_path'],axis=1,inplace=True)\n",
    "\n",
    "# df_final_train=df_final_train[['jaccard_distance','cosine_distance','same_community','Common_neighbors']]\n",
    "# df_final_test=df_final_test[['jaccard_distance','cosine_distance','same_community','Common_neighbors']]\n"
   ]
  },
  {
   "cell_type": "code",
   "execution_count": null,
   "metadata": {
    "ExecuteTime": {
     "end_time": "2022-05-29T12:40:22.756864Z",
     "start_time": "2022-05-29T12:40:22.756857Z"
    }
   },
   "outputs": [],
   "source": [
    "# df_final_train=df_final_train[['adar']]\n",
    "# df_final_test=df_final_test[['adar']]"
   ]
  },
  {
   "cell_type": "code",
   "execution_count": null,
   "metadata": {
    "ExecuteTime": {
     "end_time": "2022-05-29T12:40:22.757295Z",
     "start_time": "2022-05-29T12:40:22.757289Z"
    }
   },
   "outputs": [],
   "source": [
    "# df_final_train=df_final_train[['Resource_Allocation_Index']]\n",
    "# df_final_test=df_final_test[['Resource_Allocation_Index']]"
   ]
  },
  {
   "cell_type": "code",
   "execution_count": null,
   "metadata": {
    "ExecuteTime": {
     "end_time": "2022-05-29T12:40:22.757712Z",
     "start_time": "2022-05-29T12:40:22.757706Z"
    }
   },
   "outputs": [],
   "source": [
    "# df_final_train=df_final_train[['Preferential_Attachment']]\n",
    "# df_final_test=df_final_test[['Preferential_Attachment']]"
   ]
  },
  {
   "cell_type": "code",
   "execution_count": null,
   "metadata": {
    "ExecuteTime": {
     "end_time": "2022-05-29T12:40:22.758241Z",
     "start_time": "2022-05-29T12:40:22.758235Z"
    }
   },
   "outputs": [],
   "source": [
    "# df_final_train=df_final_train[['node2vector']]\n",
    "# df_final_test=df_final_test[['node2vector']]"
   ]
  },
  {
   "cell_type": "code",
   "execution_count": null,
   "metadata": {
    "ExecuteTime": {
     "end_time": "2022-05-29T12:40:22.758675Z",
     "start_time": "2022-05-29T12:40:22.758668Z"
    }
   },
   "outputs": [],
   "source": [
    "# df_final_train=df_final_train[['GEMSEC']]\n",
    "# df_final_test=df_final_test[['GEMSEC']]"
   ]
  },
  {
   "cell_type": "code",
   "execution_count": null,
   "metadata": {
    "ExecuteTime": {
     "end_time": "2022-05-29T12:40:22.759110Z",
     "start_time": "2022-05-29T12:40:22.759104Z"
    }
   },
   "outputs": [],
   "source": [
    "# df_final_train=df_final_train[['GEMSECWithRegularization']]\n",
    "# df_final_test=df_final_test[['GEMSECWithRegularization']]"
   ]
  },
  {
   "cell_type": "code",
   "execution_count": null,
   "metadata": {
    "ExecuteTime": {
     "end_time": "2022-05-29T12:40:22.759633Z",
     "start_time": "2022-05-29T12:40:22.759626Z"
    }
   },
   "outputs": [],
   "source": [
    "# df_final_train=df_final_train[['DeepWalk']]\n",
    "# df_final_test=df_final_test[['DeepWalk']]"
   ]
  },
  {
   "cell_type": "code",
   "execution_count": null,
   "metadata": {
    "ExecuteTime": {
     "end_time": "2022-05-29T12:40:22.760032Z",
     "start_time": "2022-05-29T12:40:22.760026Z"
    }
   },
   "outputs": [],
   "source": [
    "# df_final_train=df_final_train[['DeepWalkWithRegularization']]\n",
    "# df_final_test=df_final_test[['DeepWalkWithRegularization']]"
   ]
  },
  {
   "cell_type": "code",
   "execution_count": null,
   "metadata": {
    "ExecuteTime": {
     "end_time": "2022-05-29T12:40:22.760535Z",
     "start_time": "2022-05-29T12:40:22.760528Z"
    },
    "colab": {},
    "colab_type": "code",
    "id": "e3C7QpjofwOh"
   },
   "outputs": [],
   "source": [
    "from sklearn.ensemble import GradientBoostingClassifier\n",
    "from sklearn.model_selection import RandomizedSearchCV\n",
    "from sklearn.metrics import f1_score"
   ]
  },
  {
   "cell_type": "code",
   "execution_count": null,
   "metadata": {
    "ExecuteTime": {
     "end_time": "2022-05-29T12:40:22.760933Z",
     "start_time": "2022-05-29T12:40:22.760927Z"
    },
    "colab": {
     "base_uri": "https://localhost:8080/",
     "height": 1000
    },
    "colab_type": "code",
    "id": "JslnAvHg7HXU",
    "outputId": "a12197a9-bda5-43b8-e9b3-3d1938212222"
   },
   "outputs": [],
   "source": [
    "param_dist = {\"n_estimators\":[10,50,100,250],\n",
    "              \"max_depth\": [3,9,11,15,20,35,50,70,130]}\n",
    "\n",
    "\n",
    "\n",
    "clf = GradientBoostingClassifier(random_state=25,verbose=1)\n",
    "\n",
    "rf_random = RandomizedSearchCV(clf, param_distributions=param_dist,\n",
    "                                   n_iter=5,cv=3,scoring='f1',random_state=25)\n",
    "\n",
    "rf_random.fit(df_final_train,y_train)\n",
    "print('mean test scores',rf_random.cv_results_['mean_test_score'])"
   ]
  },
  {
   "cell_type": "code",
   "execution_count": null,
   "metadata": {
    "ExecuteTime": {
     "end_time": "2022-05-29T12:40:22.761417Z",
     "start_time": "2022-05-29T12:40:22.761410Z"
    },
    "colab": {
     "base_uri": "https://localhost:8080/",
     "height": 199
    },
    "colab_type": "code",
    "id": "_CDAjM-6jSI-",
    "outputId": "29ce0bd3-8fab-416f-f567-8e67720b01a1"
   },
   "outputs": [],
   "source": [
    "print(rf_random.best_estimator_)"
   ]
  },
  {
   "cell_type": "code",
   "execution_count": null,
   "metadata": {
    "ExecuteTime": {
     "end_time": "2022-05-29T12:40:22.761835Z",
     "start_time": "2022-05-29T12:40:22.761829Z"
    },
    "colab": {},
    "colab_type": "code",
    "id": "Ej1T_9cgjSJW"
   },
   "outputs": [],
   "source": [
    "clf = rf_random.best_estimator_"
   ]
  },
  {
   "cell_type": "code",
   "execution_count": null,
   "metadata": {
    "ExecuteTime": {
     "end_time": "2022-05-29T12:40:22.762343Z",
     "start_time": "2022-05-29T12:40:22.762336Z"
    }
   },
   "outputs": [],
   "source": [
    "# clf = GradientBoostingClassifier(n_estimators=10,max_depth=2,random_state=25,verbose=1)"
   ]
  },
  {
   "cell_type": "code",
   "execution_count": null,
   "metadata": {
    "ExecuteTime": {
     "end_time": "2022-05-29T12:40:22.763175Z",
     "start_time": "2022-05-29T12:40:22.763168Z"
    },
    "colab": {
     "base_uri": "https://localhost:8080/",
     "height": 381
    },
    "colab_type": "code",
    "id": "_ID0qJrqjSJe",
    "outputId": "00603288-27d7-400f-c5eb-752b505ad2c2"
   },
   "outputs": [],
   "source": [
    "clf.fit(df_final_train,y_train)\n",
    "y_train_pred = clf.predict(df_final_train)\n",
    "y_test_pred = clf.predict(df_final_test)"
   ]
  },
  {
   "cell_type": "code",
   "execution_count": null,
   "metadata": {
    "ExecuteTime": {
     "end_time": "2022-05-29T12:40:22.763558Z",
     "start_time": "2022-05-29T12:40:22.763551Z"
    },
    "colab": {
     "base_uri": "https://localhost:8080/",
     "height": 54
    },
    "colab_type": "code",
    "id": "IWRglqB6jSKQ",
    "outputId": "ae766ea9-c8fe-42e3-f461-bde33f6f8b79"
   },
   "outputs": [],
   "source": [
    "from sklearn.metrics import f1_score\n",
    "print('Train f1 score',f1_score(y_train,y_train_pred))\n",
    "print('Test f1 score',f1_score(y_test,y_test_pred))\n",
    "# cnt=0\n",
    "# for i in y_test_pred:\n",
    "#     if i==0:\n",
    "#         cnt+=1\n",
    "# print(cnt)        \n",
    "# print(y_test)"
   ]
  },
  {
   "cell_type": "code",
   "execution_count": null,
   "metadata": {
    "ExecuteTime": {
     "end_time": "2022-05-29T12:40:22.764016Z",
     "start_time": "2022-05-29T12:40:22.764007Z"
    }
   },
   "outputs": [],
   "source": [
    "# f = open(\"./results/GBDT_f1_transposed.csv\", \"a\")\n",
    "# f.write(str(f1_score(y_test,y_test_pred)))\n",
    "# if not args.PCA:\n",
    "#     f.write('\\n')\n",
    "# else:\n",
    "#     f.write(',')\n",
    "# f.close()"
   ]
  },
  {
   "cell_type": "code",
   "execution_count": null,
   "metadata": {
    "ExecuteTime": {
     "end_time": "2022-05-29T12:40:22.764588Z",
     "start_time": "2022-05-29T12:40:22.764580Z"
    },
    "colab": {},
    "colab_type": "code",
    "id": "QFx8A0_djSKZ"
   },
   "outputs": [],
   "source": [
    "from sklearn.metrics import confusion_matrix\n",
    "def plot_confusion_matrix(test_y, predict_y, split):\n",
    "    C = confusion_matrix(test_y, predict_y)\n",
    "    \n",
    "    A =(((C.T)/(C.sum(axis=1))).T)\n",
    "    \n",
    "    B =(C/C.sum(axis=0))\n",
    "    plt.figure(figsize=(20,4))\n",
    "    \n",
    "    labels = [0,1]\n",
    "    # representing A in heatmap format\n",
    "    sns.set()\n",
    "    cmap=sns.light_palette(\"blue\")\n",
    "    plt.subplot(1, 3, 1)\n",
    "    sns.heatmap(C, annot=True, cmap=cmap, fmt=\".3f\", xticklabels=labels, yticklabels=labels)\n",
    "    plt.xlabel('Predicted Class')\n",
    "    plt.ylabel('Original Class')\n",
    "    plt.title(\"Confusion matrix\")\n",
    "    \n",
    "    plt.subplot(1, 3, 2)\n",
    "    sns.heatmap(B, annot=True, cmap=cmap, fmt=\".3f\", xticklabels=labels, yticklabels=labels)\n",
    "    plt.xlabel('Predicted Class')\n",
    "    plt.ylabel('Original Class')\n",
    "    plt.title(\"Precision matrix\")\n",
    "    \n",
    "    plt.subplot(1, 3, 3)\n",
    "    # representing B in heatmap format\n",
    "    sns.heatmap(A, annot=True, cmap=cmap, fmt=\".3f\", xticklabels=labels, yticklabels=labels)\n",
    "    plt.xlabel('Predicted Class')\n",
    "    plt.ylabel('Original Class')\n",
    "    plt.title(\"Recall matrix\")\n",
    "    plt.tight_layout()\n",
    "#     plt.savefig(f\"./results/{PCAornot}/{genre}/GBDT/{split}_confusion_matrix.png\")\n",
    "    plt.show()"
   ]
  },
  {
   "cell_type": "code",
   "execution_count": null,
   "metadata": {
    "ExecuteTime": {
     "end_time": "2022-05-29T12:40:22.765021Z",
     "start_time": "2022-05-29T12:40:22.765014Z"
    },
    "colab": {
     "base_uri": "https://localhost:8080/",
     "height": 641
    },
    "colab_type": "code",
    "id": "qYsVP-_7jSKh",
    "outputId": "1aaf526b-76b8-4fb9-fc97-74c961f1ebc6"
   },
   "outputs": [],
   "source": [
    "print('Train confusion_matrix')\n",
    "plot_confusion_matrix(y_train,y_train_pred,'Train')\n",
    "print('Test confusion_matrix')\n",
    "plot_confusion_matrix(y_test,y_test_pred,'Test')"
   ]
  },
  {
   "cell_type": "code",
   "execution_count": null,
   "metadata": {
    "ExecuteTime": {
     "end_time": "2022-05-29T12:40:22.765596Z",
     "start_time": "2022-05-29T12:40:22.765589Z"
    },
    "colab": {
     "base_uri": "https://localhost:8080/",
     "height": 301
    },
    "colab_type": "code",
    "id": "573IughTjSKq",
    "outputId": "26110ae8-6861-410f-d054-e41f40d620c8",
    "scrolled": true
   },
   "outputs": [],
   "source": [
    "from sklearn.metrics import roc_curve, auc\n",
    "fpr,tpr,ths = roc_curve(y_test,y_test_pred)\n",
    "auc_sc = auc(fpr, tpr)\n",
    "plt.figure()\n",
    "plt.plot(fpr, tpr, color='navy',label='ROC curve (area = %0.2f)' % auc_sc)\n",
    "plt.xlabel('False Positive Rate')\n",
    "plt.ylabel('True Positive Rate')\n",
    "plt.title('Receiver operating characteristic with test eiko')\n",
    "plt.legend()\n",
    "plt.tight_layout()\n",
    "# plt.savefig(f\"./results/{PCAornot}/{genre}/GBDT/roc_curve.png\")\n",
    "plt.show()"
   ]
  },
  {
   "cell_type": "code",
   "execution_count": null,
   "metadata": {
    "ExecuteTime": {
     "end_time": "2022-05-29T12:40:22.766050Z",
     "start_time": "2022-05-29T12:40:22.766044Z"
    },
    "colab": {
     "base_uri": "https://localhost:8080/",
     "height": 736
    },
    "colab_type": "code",
    "id": "RR8rjOU3jSK1",
    "outputId": "7adcc055-6a4f-4754-b04f-51533c7cceb4",
    "scrolled": true
   },
   "outputs": [],
   "source": [
    "features = df_final_train.columns\n",
    "importances = clf.feature_importances_\n",
    "indices = (np.argsort(importances))[-25:]\n",
    "plt.figure(figsize=(10,12))\n",
    "plt.title('Feature Importances')\n",
    "plt.barh(range(len(indices)), importances[indices], color='r', align='center')\n",
    "plt.yticks(range(len(indices)), [features[i] for i in indices])\n",
    "plt.xlabel('Relative Importance')\n",
    "plt.tight_layout()\n",
    "# plt.savefig(f\"./results/{PCAornot}/{genre}/GBDT/importance.png\")\n",
    "plt.show()"
   ]
  }
 ],
 "metadata": {
  "colab": {
   "name": "Facebook Link Prediction.ipynb",
   "provenance": []
  },
  "kernelspec": {
   "display_name": "Python 3 (ipykernel)",
   "language": "python",
   "name": "python3"
  },
  "language_info": {
   "codemirror_mode": {
    "name": "ipython",
    "version": 3
   },
   "file_extension": ".py",
   "mimetype": "text/x-python",
   "name": "python",
   "nbconvert_exporter": "python",
   "pygments_lexer": "ipython3",
   "version": "3.10.4"
  },
  "toc": {
   "base_numbering": 1,
   "nav_menu": {},
   "number_sections": false,
   "sideBar": true,
   "skip_h1_title": false,
   "title_cell": "Table of Contents",
   "title_sidebar": "Contents",
   "toc_cell": false,
   "toc_position": {
    "height": "581.714px",
    "left": "104.525px",
    "top": "228.125px",
    "width": "212px"
   },
   "toc_section_display": true,
   "toc_window_display": true
  },
  "varInspector": {
   "cols": {
    "lenName": 16,
    "lenType": 16,
    "lenVar": 40
   },
   "kernels_config": {
    "python": {
     "delete_cmd_postfix": "",
     "delete_cmd_prefix": "del ",
     "library": "var_list.py",
     "varRefreshCmd": "print(var_dic_list())"
    },
    "r": {
     "delete_cmd_postfix": ") ",
     "delete_cmd_prefix": "rm(",
     "library": "var_list.r",
     "varRefreshCmd": "cat(var_dic_list()) "
    }
   },
   "types_to_exclude": [
    "module",
    "function",
    "builtin_function_or_method",
    "instance",
    "_Feature"
   ],
   "window_display": false
  }
 },
 "nbformat": 4,
 "nbformat_minor": 1
}
