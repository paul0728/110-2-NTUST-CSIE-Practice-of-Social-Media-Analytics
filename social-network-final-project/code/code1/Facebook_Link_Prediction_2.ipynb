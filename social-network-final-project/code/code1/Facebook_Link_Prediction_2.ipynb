{
 "cells": [
  {
   "cell_type": "markdown",
   "metadata": {
    "colab_type": "text",
    "id": "6DcrjFhQfqRv"
   },
   "source": [
    "<p style=\"font-size:32px;text-align:center\"> <b>Social network Graph Link Prediction - Facebook Challenge</b> </p>"
   ]
  },
  {
   "cell_type": "markdown",
   "metadata": {
    "colab_type": "text",
    "id": "Zplv4ujKfqRy"
   },
   "source": [
    "### Problem statement: \n",
    "Given a undirected social graph, have to predict missing links to recommend users (Link Prediction in graph)"
   ]
  },
  {
   "cell_type": "markdown",
   "metadata": {
    "colab_type": "text",
    "id": "oaYMSg3CfqR0"
   },
   "source": [
    "### Mapping the problem into supervised learning problem:\n",
    "- Generated training samples of good and bad links from given directed graph and for each link got some features like no of followers, is he followed back, page rank, katz score, adar index, some svd fetures of adj matrix, some weight features etc. and trained ml model based on these features to predict link. \n",
    "- Some reference papers and videos :  \n",
    "    - https://www.cs.cornell.edu/home/kleinber/link-pred.pdf\n",
    "    - https://www3.nd.edu/~dial/publications/lichtenwalter2010new.pdf\n",
    "    - https://kaggle2.blob.core.windows.net/forum-message-attachments/2594/supervised_link_prediction.pdf\n",
    "    - https://www.youtube.com/watch?v=2M77Hgy17cg"
   ]
  },
  {
   "cell_type": "markdown",
   "metadata": {
    "colab_type": "text",
    "id": "zkvhIo6hfqR1"
   },
   "source": [
    "### Business objectives and constraints:  \n",
    "- No low-latency requirement.\n",
    "- Probability of prediction is useful to recommend highest probability links"
   ]
  },
  {
   "cell_type": "markdown",
   "metadata": {
    "colab_type": "text",
    "id": "SpDe4qR7fqR2"
   },
   "source": [
    "### Performance metric for supervised learning:  \n",
    "- Both precision and recall is important so F1 score is good choice\n",
    "- Confusion matrix"
   ]
  },
  {
   "cell_type": "markdown",
   "metadata": {},
   "source": [
    "# 在map feature 時,盡量不使用dic,節省記憶體空間之版本(可在所有dataset上執行)"
   ]
  },
  {
   "cell_type": "code",
   "execution_count": 1,
   "metadata": {
    "ExecuteTime": {
     "end_time": "2022-05-22T02:24:42.680394Z",
     "start_time": "2022-05-22T02:24:41.793329Z"
    },
    "colab": {},
    "colab_type": "code",
    "id": "1nUCUHsBfqR3"
   },
   "outputs": [],
   "source": [
    "#Importing Libraries\n",
    "# please do go through this python notebook: \n",
    "import warnings\n",
    "warnings.filterwarnings(\"ignore\")\n",
    "\n",
    "import csv\n",
    "import pandas as pd#pandas to create small dataframes \n",
    "import datetime #Convert to unix time\n",
    "import time #Convert to unix time\n",
    "# if numpy is not installed already : pip3 install numpy\n",
    "import numpy as np#Do aritmetic operations on arrays\n",
    "# matplotlib: used to plot graphs\n",
    "import matplotlib\n",
    "import matplotlib.pylab as plt\n",
    "import seaborn as sns#Plots\n",
    "from matplotlib import rcParams#Size of plots  \n",
    "from sklearn.cluster import MiniBatchKMeans, KMeans#Clustering\n",
    "import math\n",
    "import pickle\n",
    "import os\n",
    "import os.path\n",
    "import shutil\n",
    "# to install xgboost: pip3 install xgboost\n",
    "import xgboost as xgb\n",
    "import warnings\n",
    "import networkx as nx\n",
    "import pdb\n",
    "from argparse import ArgumentParser, Namespace\n",
    "import random\n",
    "random.seed(25)\n",
    "\n"
   ]
  },
  {
   "cell_type": "code",
   "execution_count": 2,
   "metadata": {
    "ExecuteTime": {
     "end_time": "2022-05-22T02:24:42.686335Z",
     "start_time": "2022-05-22T02:24:42.682105Z"
    }
   },
   "outputs": [
    {
     "name": "stdout",
     "output_type": "stream",
     "text": [
      "False\n",
      "./gemsec_facebook_dataset/facebook_clean_data/artist_edges.csv\n"
     ]
    }
   ],
   "source": [
    "def parse_args() -> Namespace:\n",
    "    parser = ArgumentParser()\n",
    "    parser.add_argument('--PCA', help='Whether to do PCA.',action='store_true')\n",
    "    parser.add_argument('--dataset_path', help='Path of the dataset to be used.',default='./gemsec_facebook_dataset/facebook_clean_data/tvshow_edges.csv')\n",
    "\n",
    "#     args = parser.parse_args(args=['--PCA',\\\n",
    "#                                   '--dataset_path','./gemsec_facebook_dataset/facebook_clean_data/artist_edges.csv'])\n",
    "\n",
    "    args = parser.parse_args(args=['--dataset_path','./gemsec_facebook_dataset/facebook_clean_data/artist_edges.csv'])\n",
    "    \n",
    "    \n",
    "    #     args = parser.parse_args()\n",
    "    \n",
    "    return args\n",
    "\n",
    "\n",
    "args = parse_args()    \n",
    "\n",
    "if args.PCA:\n",
    "    PCAornot='PCA'\n",
    "else:\n",
    "    PCAornot='noPCA'\n",
    "    \n",
    "base_name=os.path.basename(args.dataset_path)\n",
    "\n",
    "genre=base_name.split('.')[0].split('_')\n",
    "genre.pop()\n",
    "genre=\"_\".join(genre)\n",
    "\n",
    "print(args.PCA)\n",
    "print(args.dataset_path)"
   ]
  },
  {
   "cell_type": "code",
   "execution_count": 3,
   "metadata": {
    "ExecuteTime": {
     "end_time": "2022-05-22T02:24:42.690102Z",
     "start_time": "2022-05-22T02:24:42.688797Z"
    }
   },
   "outputs": [],
   "source": [
    "# #移除data 資料夾\n",
    "# if os.path.isdir('./data'):\n",
    "#     shutil.rmtree('./data')\n",
    "\n",
    "    \n",
    "# # 建立資料夾\n",
    "# os.makedirs('./data/after_eda', exist_ok=True)\n",
    "# os.makedirs('./data/fea_sample', exist_ok=True)\n"
   ]
  },
  {
   "cell_type": "code",
   "execution_count": 4,
   "metadata": {
    "ExecuteTime": {
     "end_time": "2022-05-22T02:24:42.692556Z",
     "start_time": "2022-05-22T02:24:42.690768Z"
    }
   },
   "outputs": [],
   "source": [
    "#建立results資料夾\n",
    "os.makedirs(f\"./results/{PCAornot}/{genre}/RandomForest\", exist_ok=True)\n",
    "os.makedirs(f\"./results/{PCAornot}/{genre}/GBDT\", exist_ok=True)"
   ]
  },
  {
   "cell_type": "code",
   "execution_count": 5,
   "metadata": {
    "ExecuteTime": {
     "end_time": "2022-05-22T02:24:44.255637Z",
     "start_time": "2022-05-22T02:24:42.693187Z"
    },
    "colab": {},
    "colab_type": "code",
    "id": "6sABWkpYfqR7",
    "outputId": "0310d4f8-08eb-4b38-ca03-33a32ab520a1"
   },
   "outputs": [
    {
     "name": "stdout",
     "output_type": "stream",
     "text": [
      "Graph with 50515 nodes and 819306 edges\n"
     ]
    }
   ],
   "source": [
    "#reading graph\n",
    "if not os.path.isfile('data/after_eda/train_woheader.csv'):\n",
    "    traincsv = pd.read_csv(args.dataset_path)\n",
    "    print(traincsv[traincsv.isna().any(1)])\n",
    "    print(traincsv.info())\n",
    "    print(\"Number of duplicate entries: \",sum(traincsv.duplicated()))\n",
    "    print(\"saved the graph into file\")\n",
    "    traincsv.to_csv('data/after_eda/train_woheader.csv',header=False,index=False)\n",
    "    g=nx.read_edgelist('data/after_eda/train_woheader.csv',delimiter=',',create_using=nx.Graph(),nodetype=int)\n",
    "        \n",
    "    print(nx.info(g))\n",
    "else:\n",
    "    g=nx.read_edgelist('data/after_eda/train_woheader.csv',delimiter=',',create_using=nx.Graph(),nodetype=int)\n",
    "    print(nx.info(g))"
   ]
  },
  {
   "cell_type": "code",
   "execution_count": 6,
   "metadata": {
    "ExecuteTime": {
     "end_time": "2022-05-22T02:24:44.258426Z",
     "start_time": "2022-05-22T02:24:44.256682Z"
    }
   },
   "outputs": [],
   "source": [
    "# print(sorted(list(g.nodes)))"
   ]
  },
  {
   "cell_type": "markdown",
   "metadata": {
    "colab_type": "text",
    "id": "9BsSAM7IfqR_"
   },
   "source": [
    "> Displaying a sub graph"
   ]
  },
  {
   "cell_type": "code",
   "execution_count": 7,
   "metadata": {
    "ExecuteTime": {
     "end_time": "2022-05-22T02:24:44.261178Z",
     "start_time": "2022-05-22T02:24:44.259360Z"
    },
    "colab": {},
    "colab_type": "code",
    "id": "Yt3jj1rWfqSA",
    "outputId": "bce4fd1b-471a-4b91-94a7-f3a8cf13ed7e"
   },
   "outputs": [],
   "source": [
    "# if not os.path.isfile('train_woheader_sample.csv'):\n",
    "#     pd.read_csv('./gemsec_facebook_dataset/facebook_clean_data/tvshow_edges.csv', nrows=50).to_csv('train_woheader_sample.csv',header=False,index=False)\n",
    "    \n",
    "# subgraph=nx.read_edgelist('train_woheader_sample.csv',delimiter=',',create_using=nx.Graph(),nodetype=int)\n",
    "# # https://stackoverflow.com/questions/9402255/drawing-a-huge-graph-with-networkx-and-matplotlib\n",
    "\n",
    "# pos=nx.spring_layout(subgraph)\n",
    "# nx.draw(subgraph,pos,node_color='#A0CBE2',edge_color='#00bb5e',width=1,edge_cmap=plt.cm.Blues,with_labels=True)\n",
    "# plt.savefig(\"graph_sample.pdf\")\n",
    "# print(nx.info(subgraph))"
   ]
  },
  {
   "cell_type": "markdown",
   "metadata": {
    "colab_type": "text",
    "id": "NnwpxkINfqSD"
   },
   "source": [
    "# 1. Exploratory Data Analysis"
   ]
  },
  {
   "cell_type": "code",
   "execution_count": 8,
   "metadata": {
    "ExecuteTime": {
     "end_time": "2022-05-22T02:24:44.263493Z",
     "start_time": "2022-05-22T02:24:44.261952Z"
    },
    "colab": {},
    "colab_type": "code",
    "id": "4n4PAdf1fqSE",
    "outputId": "0af66c81-38a8-468c-9bb6-941797469002"
   },
   "outputs": [],
   "source": [
    "# # No of Unique persons \n",
    "# print(\"The number of unique persons\",len(g.nodes()))"
   ]
  },
  {
   "cell_type": "markdown",
   "metadata": {
    "colab_type": "text",
    "id": "TGIr9SeafqSH"
   },
   "source": [
    "## 1.1 No of neighbors for each person"
   ]
  },
  {
   "cell_type": "code",
   "execution_count": 9,
   "metadata": {
    "ExecuteTime": {
     "end_time": "2022-05-22T02:24:44.266680Z",
     "start_time": "2022-05-22T02:24:44.265256Z"
    },
    "colab": {},
    "colab_type": "code",
    "id": "SO2fHSN8fqSI",
    "outputId": "1fb4a1de-31d3-45e0-f54a-c0c9361ee270"
   },
   "outputs": [],
   "source": [
    "# degree_dist = list(dict(g.degree()).values())\n",
    "\n",
    "# degree_dist.sort()\n",
    "\n",
    "# plt.figure(figsize=(10,6))\n",
    "# plt.plot(degree_dist)\n",
    "# plt.xlabel('Index No')\n",
    "# plt.ylabel('No Of neighbors')\n",
    "# plt.show()"
   ]
  },
  {
   "cell_type": "code",
   "execution_count": 10,
   "metadata": {
    "ExecuteTime": {
     "end_time": "2022-05-22T02:24:44.268725Z",
     "start_time": "2022-05-22T02:24:44.267405Z"
    },
    "colab": {},
    "colab_type": "code",
    "id": "KB5gmQeEfqSP",
    "outputId": "f2e34b14-b93f-4ef0-df75-41dcd5b7732e"
   },
   "outputs": [],
   "source": [
    "# plt.boxplot(degree_dist)\n",
    "# plt.ylabel('No Of neighbors')\n",
    "# plt.show()"
   ]
  },
  {
   "cell_type": "code",
   "execution_count": 11,
   "metadata": {
    "ExecuteTime": {
     "end_time": "2022-05-22T02:24:44.270665Z",
     "start_time": "2022-05-22T02:24:44.269399Z"
    },
    "colab": {},
    "colab_type": "code",
    "id": "NlqNTbvBfqSV",
    "outputId": "67e61567-edda-43fa-e795-3a08e4ea0606"
   },
   "outputs": [],
   "source": [
    "# ### 90-100 percentile\n",
    "# for i in range(0,11):\n",
    "#     print(90+i,'percentile value is',np.percentile(degree_dist,90+i))"
   ]
  },
  {
   "cell_type": "markdown",
   "metadata": {
    "colab_type": "text",
    "id": "8poopx4SfqSY"
   },
   "source": [
    "99% of data having followers of 40 only."
   ]
  },
  {
   "cell_type": "code",
   "execution_count": 12,
   "metadata": {
    "ExecuteTime": {
     "end_time": "2022-05-22T02:24:44.272683Z",
     "start_time": "2022-05-22T02:24:44.271327Z"
    },
    "colab": {},
    "colab_type": "code",
    "id": "T39h02gjfqSY",
    "outputId": "47c5983e-8441-49e6-ad0d-c192e236f7e7"
   },
   "outputs": [],
   "source": [
    "# ### 99-100 percentile\n",
    "# for i in range(10,110,10):\n",
    "#     print(99+(i/100),'percentile value is',np.percentile(degree_dist,99+(i/100)))"
   ]
  },
  {
   "cell_type": "code",
   "execution_count": 13,
   "metadata": {
    "ExecuteTime": {
     "end_time": "2022-05-22T02:24:44.274815Z",
     "start_time": "2022-05-22T02:24:44.273455Z"
    },
    "colab": {},
    "colab_type": "code",
    "id": "HUC-l4ecfqSc",
    "outputId": "aabd357c-e104-4653-c6cb-9463b4d7b586"
   },
   "outputs": [],
   "source": [
    "# %matplotlib inline\n",
    "# sns.set_style('ticks')\n",
    "# fig, ax = plt.subplots()\n",
    "# fig.set_size_inches(11.7, 8.27)\n",
    "# sns.distplot(degree_dist, color='#16A085')\n",
    "# plt.xlabel('PDF of degree')\n",
    "# sns.despine()\n",
    "# #plt.show()"
   ]
  },
  {
   "cell_type": "code",
   "execution_count": 14,
   "metadata": {
    "ExecuteTime": {
     "end_time": "2022-05-22T02:24:44.276840Z",
     "start_time": "2022-05-22T02:24:44.275525Z"
    },
    "colab": {},
    "colab_type": "code",
    "id": "F43xaOxXfqTb",
    "outputId": "3d2669e3-0831-4deb-b336-4dcbbeded3af"
   },
   "outputs": [],
   "source": [
    "# print('No of persons having neighbor less than 10 are',np.sum(np.array(degree_dist)<10))"
   ]
  },
  {
   "cell_type": "code",
   "execution_count": 15,
   "metadata": {
    "ExecuteTime": {
     "end_time": "2022-05-22T02:24:44.278930Z",
     "start_time": "2022-05-22T02:24:44.277508Z"
    },
    "colab": {},
    "colab_type": "code",
    "id": "5_UQN2TWfqTf",
    "outputId": "40f692bf-6aee-475d-af5c-4b1277523fbf",
    "scrolled": true
   },
   "outputs": [],
   "source": [
    "# print('No of connected components',len(list(nx.connected_components(g))))\n",
    "# count=0\n",
    "# for i in list(nx.connected_components(g)):\n",
    "#     if len(i)==2:\n",
    "#         count+=1\n",
    "# print('connected components with 2 nodes',count)"
   ]
  },
  {
   "cell_type": "markdown",
   "metadata": {
    "colab_type": "text",
    "id": "HhiIapmZfqTm"
   },
   "source": [
    "# 2. Posing a problem as classification problem "
   ]
  },
  {
   "cell_type": "markdown",
   "metadata": {
    "colab_type": "text",
    "id": "3mwSAo4DfqTn"
   },
   "source": [
    "## 2.1 Generating some edges which are not present in graph for supervised learning  \n",
    "Generated Bad links from graph which are not in graph and whose shortest path is greater than 2. "
   ]
  },
  {
   "cell_type": "code",
   "execution_count": 16,
   "metadata": {
    "ExecuteTime": {
     "end_time": "2022-05-22T02:24:44.393084Z",
     "start_time": "2022-05-22T02:24:44.280179Z"
    },
    "colab": {},
    "colab_type": "code",
    "id": "ALnbFILsfqT5",
    "outputId": "a4315b29-bfb9-498e-9360-b4bf2f716b0e",
    "scrolled": true
   },
   "outputs": [],
   "source": [
    "###generating bad edges from given graph\n",
    "\n",
    "if not os.path.isfile('data/after_eda/missing_edges_final.p'):\n",
    "    #getting all set of edges\n",
    "    r = csv.reader(open('data/after_eda/train_woheader.csv','r'))\n",
    "    edges = dict()\n",
    "    for edge in r:\n",
    "        edges[(int(edge[0]), int(edge[1]))] = 1\n",
    "        \n",
    "    missing_edges = set([])\n",
    "    g_edges_num=len(g.edges)\n",
    "    g_nodes_num=len(g.nodes)\n",
    "    while (len(missing_edges)<g_edges_num):\n",
    "        a=random.randint(0,g_nodes_num-1)\n",
    "        b=random.randint(0,g_nodes_num-1)\n",
    "        tmp = edges.get((a,b),-1)\n",
    "        if tmp == -1 and a!=b:\n",
    "            try:\n",
    "                if nx.shortest_path_length(g,source=a,target=b) > 2: \n",
    "\n",
    "                    missing_edges.add((a,b))\n",
    "                else:\n",
    "                    continue  \n",
    "            except:  \n",
    "                    missing_edges.add((a,b))              \n",
    "        else:\n",
    "            continue\n",
    "#         print(len(missing_edges))\n",
    "    pickle.dump(missing_edges,open('data/after_eda/missing_edges_final.p','wb'))\n",
    "else:\n",
    "    missing_edges = pickle.load(open('data/after_eda/missing_edges_final.p','rb'))"
   ]
  },
  {
   "cell_type": "code",
   "execution_count": 17,
   "metadata": {
    "ExecuteTime": {
     "end_time": "2022-05-22T02:24:44.397147Z",
     "start_time": "2022-05-22T02:24:44.394025Z"
    },
    "colab": {},
    "colab_type": "code",
    "id": "b-Y3LqXUfqT8",
    "outputId": "9919a64d-bff7-43be-c88e-469197091346"
   },
   "outputs": [
    {
     "data": {
      "text/plain": [
       "819306"
      ]
     },
     "execution_count": 17,
     "metadata": {},
     "output_type": "execute_result"
    }
   ],
   "source": [
    "len(missing_edges)"
   ]
  },
  {
   "cell_type": "markdown",
   "metadata": {
    "colab_type": "text",
    "id": "sCDeoOlFfqT-"
   },
   "source": [
    "## 2.2 Training and Test data split:  \n",
    "Removed edges from Graph and used as test data and after removing used that graph for creating features for Train and test data"
   ]
  },
  {
   "cell_type": "code",
   "execution_count": 18,
   "metadata": {
    "ExecuteTime": {
     "end_time": "2022-05-22T02:24:44.432488Z",
     "start_time": "2022-05-22T02:24:44.397968Z"
    },
    "colab": {},
    "colab_type": "code",
    "id": "mBJF78difqT_",
    "outputId": "4ea80a08-3303-4295-a50c-3584a1895a21"
   },
   "outputs": [],
   "source": [
    "from sklearn.model_selection import train_test_split\n",
    "if (not os.path.isfile('data/after_eda/train_pos_after_eda.csv')) and (not os.path.isfile('data/after_eda/test_pos_after_eda.csv')):\n",
    "    #reading total data df\n",
    "    df_pos = pd.read_csv(args.dataset_path)\n",
    "    df_neg = pd.DataFrame(list(missing_edges), columns=['source_node', 'destination_node'])\n",
    "    \n",
    "    print(\"Number of nodes in the graph with edges\", df_pos.shape[0])\n",
    "    print(\"Number of nodes in the graph without edges\", df_neg.shape[0])\n",
    "    \n",
    "    #Trian test split \n",
    "    #Spiltted data into 80-20 \n",
    "    #positive links and negative links seperatly because we need positive training data only for creating graph \n",
    "    #and for feature generation\n",
    "    X_train_pos, X_test_pos, y_train_pos, y_test_pos  = train_test_split(df_pos,np.ones(len(df_pos)),test_size=0.2, random_state=9)\n",
    "    X_train_neg, X_test_neg, y_train_neg, y_test_neg  = train_test_split(df_neg,np.zeros(len(df_neg)),test_size=0.2, random_state=9)\n",
    "    \n",
    "    print('='*60)\n",
    "    print(\"Number of nodes in the train data graph with edges\", X_train_pos.shape[0],\"=\",y_train_pos.shape[0])\n",
    "    print(\"Number of nodes in the train data graph without edges\", X_train_neg.shape[0],\"=\", y_train_neg.shape[0])\n",
    "    print('='*60)\n",
    "    print(\"Number of nodes in the test data graph with edges\", X_test_pos.shape[0],\"=\",y_test_pos.shape[0])\n",
    "    print(\"Number of nodes in the test data graph without edges\", X_test_neg.shape[0],\"=\",y_test_neg.shape[0])\n",
    "\n",
    "    #removing header and saving\n",
    "    X_train_pos.to_csv('data/after_eda/train_pos_after_eda.csv',header=False, index=False)\n",
    "    X_test_pos.to_csv('data/after_eda/test_pos_after_eda.csv',header=False, index=False)\n",
    "    X_train_neg.to_csv('data/after_eda/train_neg_after_eda.csv',header=False, index=False)\n",
    "    X_test_neg.to_csv('data/after_eda/test_neg_after_eda.csv',header=False, index=False)\n",
    "del missing_edges"
   ]
  },
  {
   "cell_type": "code",
   "execution_count": 19,
   "metadata": {
    "ExecuteTime": {
     "end_time": "2022-05-22T02:24:46.486565Z",
     "start_time": "2022-05-22T02:24:44.433558Z"
    },
    "colab": {},
    "colab_type": "code",
    "id": "bwvTqFurfqUC",
    "outputId": "046b9360-2d46-455f-caa0-75f982fbfd90"
   },
   "outputs": [
    {
     "name": "stdout",
     "output_type": "stream",
     "text": [
      "Graph with 49703 nodes and 655444 edges\n",
      "Graph with 41048 nodes and 163862 edges\n",
      "no of people common in train and test --  40236\n",
      "no of people present in train but not present in test --  9467\n",
      "no of people present in test but not present in train --  812\n",
      " % of people not there in Train but exist in Test in total Test data are 1.9781718963165076 %\n"
     ]
    }
   ],
   "source": [
    "if (os.path.isfile('data/after_eda/train_pos_after_eda.csv')) and (os.path.isfile('data/after_eda/test_pos_after_eda.csv')):        \n",
    "    train_graph=nx.read_edgelist('data/after_eda/train_pos_after_eda.csv',delimiter=',',create_using=nx.Graph(),nodetype=int)\n",
    "    test_graph=nx.read_edgelist('data/after_eda/test_pos_after_eda.csv',delimiter=',',create_using=nx.Graph(),nodetype=int)\n",
    "    print(nx.info(train_graph))\n",
    "    print(nx.info(test_graph))\n",
    "\n",
    "    # finding the unique nodes in the both train and test graphs\n",
    "    train_nodes_pos = set(train_graph.nodes())\n",
    "    test_nodes_pos = set(test_graph.nodes())\n",
    "\n",
    "    trY_teY = len(train_nodes_pos.intersection(test_nodes_pos))\n",
    "    trY_teN = len(train_nodes_pos - test_nodes_pos)\n",
    "    teY_trN = len(test_nodes_pos - train_nodes_pos)\n",
    "\n",
    "    print('no of people common in train and test -- ',trY_teY)\n",
    "    print('no of people present in train but not present in test -- ',trY_teN)\n",
    "\n",
    "    print('no of people present in test but not present in train -- ',teY_trN)\n",
    "    print(' % of people not there in Train but exist in Test in total Test data are {} %'.format(teY_trN/len(test_nodes_pos)*100))"
   ]
  },
  {
   "cell_type": "markdown",
   "metadata": {
    "colab_type": "text",
    "id": "CGz9PQ2tfqUF"
   },
   "source": [
    "> we have a cold start problem here"
   ]
  },
  {
   "cell_type": "code",
   "execution_count": 20,
   "metadata": {
    "ExecuteTime": {
     "end_time": "2022-05-22T02:24:46.498312Z",
     "start_time": "2022-05-22T02:24:46.487761Z"
    },
    "colab": {},
    "colab_type": "code",
    "id": "0Qcm4p_kfqUH",
    "outputId": "0e60e78b-82c2-4f6e-a3a7-6d090fbd48c7"
   },
   "outputs": [],
   "source": [
    "#final train and test data sets\n",
    "if (not os.path.isfile('data/after_eda/train_after_eda.csv')) and \\\n",
    "(not os.path.isfile('data/after_eda/test_after_eda.csv')) and \\\n",
    "(not os.path.isfile('data/train_y.csv')) and \\\n",
    "(not os.path.isfile('data/test_y.csv')) and \\\n",
    "(os.path.isfile('data/after_eda/train_pos_after_eda.csv')) and \\\n",
    "(os.path.isfile('data/after_eda/test_pos_after_eda.csv')) and \\\n",
    "(os.path.isfile('data/after_eda/train_neg_after_eda.csv')) and \\\n",
    "(os.path.isfile('data/after_eda/test_neg_after_eda.csv')):\n",
    "    \n",
    "    X_train_pos = pd.read_csv('data/after_eda/train_pos_after_eda.csv', names=['source_node', 'destination_node'])\n",
    "    X_test_pos = pd.read_csv('data/after_eda/test_pos_after_eda.csv', names=['source_node', 'destination_node'])\n",
    "    X_train_neg = pd.read_csv('data/after_eda/train_neg_after_eda.csv', names=['source_node', 'destination_node'])\n",
    "    X_test_neg = pd.read_csv('data/after_eda/test_neg_after_eda.csv', names=['source_node', 'destination_node'])\n",
    "\n",
    "    print('='*60)\n",
    "    print(\"Number of nodes in the train data graph with edges\", X_train_pos.shape[0])\n",
    "    print(\"Number of nodes in the train data graph without edges\", X_train_neg.shape[0])\n",
    "    print('='*60)\n",
    "    print(\"Number of nodes in the test data graph with edges\", X_test_pos.shape[0])\n",
    "    print(\"Number of nodes in the test data graph without edges\", X_test_neg.shape[0])\n",
    "\n",
    "    X_train = X_train_pos.append(X_train_neg,ignore_index=True)\n",
    "    y_train = np.concatenate((y_train_pos,y_train_neg))\n",
    "    X_test = X_test_pos.append(X_test_neg,ignore_index=True)\n",
    "    y_test = np.concatenate((y_test_pos,y_test_neg)) \n",
    "    \n",
    "    X_train.to_csv('data/after_eda/train_after_eda.csv',header=False,index=False)\n",
    "    X_test.to_csv('data/after_eda/test_after_eda.csv',header=False,index=False)\n",
    "    pd.DataFrame(y_train.astype(int)).to_csv('data/train_y.csv',header=False,index=False)\n",
    "    pd.DataFrame(y_test.astype(int)).to_csv('data/test_y.csv',header=False,index=False)\n",
    "    \n",
    "    print(\"Data points in train data\",X_train.shape)\n",
    "    print(\"Data points in test data\",X_test.shape)\n",
    "    print(\"Shape of traget variable in train\",y_train.shape)\n",
    "    print(\"Shape of traget variable in test\", y_test.shape)"
   ]
  },
  {
   "cell_type": "markdown",
   "metadata": {
    "colab_type": "text",
    "id": "Q4gzN_0HgeFA"
   },
   "source": [
    "**Computed and store the data for featurization**"
   ]
  },
  {
   "cell_type": "markdown",
   "metadata": {
    "colab_type": "text",
    "id": "V5UAh4bSgkxo"
   },
   "source": [
    "# 3. Features definition"
   ]
  },
  {
   "cell_type": "code",
   "execution_count": 21,
   "metadata": {
    "ExecuteTime": {
     "end_time": "2022-05-22T02:24:46.503974Z",
     "start_time": "2022-05-22T02:24:46.499243Z"
    },
    "colab": {},
    "colab_type": "code",
    "id": "Q8lS7fVyVFFl"
   },
   "outputs": [],
   "source": [
    "#Importing Libraries\n",
    "# please do go through this python notebook: \n",
    "import warnings\n",
    "warnings.filterwarnings(\"ignore\")\n",
    "\n",
    "import csv\n",
    "import pandas as pd#pandas to create small dataframes \n",
    "import datetime #Convert to unix time\n",
    "import time #Convert to unix time\n",
    "# if numpy is not installed already : pip3 install numpy\n",
    "import numpy as np#Do aritmetic operations on arrays\n",
    "# matplotlib: used to plot graphs\n",
    "import matplotlib\n",
    "import matplotlib.pylab as plt\n",
    "import seaborn as sns#Plots\n",
    "from matplotlib import rcParams#Size of plots  \n",
    "from sklearn.cluster import MiniBatchKMeans, KMeans#Clustering\n",
    "import math\n",
    "import pickle\n",
    "import os\n",
    "# to install xgboost: pip3 install xgboost\n",
    "import xgboost as xgb\n",
    "\n",
    "import warnings\n",
    "import networkx as nx\n",
    "import pdb\n",
    "import pickle\n",
    "from pandas import HDFStore,DataFrame\n",
    "from pandas import read_hdf\n",
    "from scipy.sparse.linalg import svds, eigs\n",
    "import gc\n",
    "from tqdm import tqdm"
   ]
  },
  {
   "cell_type": "markdown",
   "metadata": {
    "colab_type": "text",
    "id": "1znHayNeVFFt"
   },
   "source": [
    "# 3.1 Reading Data"
   ]
  },
  {
   "cell_type": "code",
   "execution_count": 22,
   "metadata": {
    "ExecuteTime": {
     "end_time": "2022-05-22T02:24:47.998437Z",
     "start_time": "2022-05-22T02:24:46.504766Z"
    },
    "colab": {},
    "colab_type": "code",
    "id": "Uq9HbHwEVFFv",
    "outputId": "b2aa525a-93d3-47c3-8216-416a811bc812"
   },
   "outputs": [],
   "source": [
    "if os.path.isfile('data/after_eda/train_pos_after_eda.csv'):\n",
    "    train_graph=nx.read_edgelist('data/after_eda/train_pos_after_eda.csv',delimiter=',',create_using=nx.Graph(),nodetype=int)\n",
    "#     print(nx.info(train_graph))\n",
    "else:\n",
    "    print(\"please run the FB_EDA.ipynb or download the files from drive\")"
   ]
  },
  {
   "cell_type": "markdown",
   "metadata": {
    "colab_type": "text",
    "id": "HmlUa64tVFF7"
   },
   "source": [
    "# 3.2. Similarity measures"
   ]
  },
  {
   "cell_type": "markdown",
   "metadata": {
    "colab_type": "text",
    "id": "ivVMUMiWVFF9"
   },
   "source": [
    "## 3.2.1 Jaccard distance:\n",
    "http://www.statisticshowto.com/jaccard-index/"
   ]
  },
  {
   "cell_type": "markdown",
   "metadata": {
    "colab_type": "text",
    "id": "NoWCYuRBVFF_"
   },
   "source": [
    "\\begin{equation}\n",
    "j = \\frac{|X\\cap Y|}{|X \\cup Y|} \n",
    "\\end{equation}"
   ]
  },
  {
   "cell_type": "code",
   "execution_count": 23,
   "metadata": {
    "ExecuteTime": {
     "end_time": "2022-05-22T02:24:48.001931Z",
     "start_time": "2022-05-22T02:24:47.999459Z"
    },
    "colab": {},
    "colab_type": "code",
    "id": "Seo4z5SnVFGB"
   },
   "outputs": [],
   "source": [
    "#To do: Jaccard distance(yl)\n",
    "#input:one node pair\n",
    "#output:feature of that node pair\n",
    "def jaccard_distance(a,b):\n",
    "    if train_graph.has_node(a) and train_graph.has_node(b):\n",
    "        try:\n",
    "            return next( nx.jaccard_coefficient(train_graph, [(a,b)]) )[2]\n",
    "        except:\n",
    "            return 0\n",
    "    else:\n",
    "        return 0"
   ]
  },
  {
   "cell_type": "markdown",
   "metadata": {
    "colab_type": "text",
    "id": "MnH2my2UVFGX"
   },
   "source": [
    "## 3.2.2 Cosine distance"
   ]
  },
  {
   "cell_type": "markdown",
   "metadata": {
    "colab_type": "text",
    "id": "XNvdBGS2VFGY"
   },
   "source": [
    "\\begin{equation}\n",
    "CosineDistance = \\frac{|X\\cap Y|}{|X|\\cdot|Y|} \n",
    "\\end{equation}"
   ]
  },
  {
   "cell_type": "code",
   "execution_count": 24,
   "metadata": {
    "ExecuteTime": {
     "end_time": "2022-05-22T02:24:48.005237Z",
     "start_time": "2022-05-22T02:24:48.002919Z"
    },
    "colab": {},
    "colab_type": "code",
    "id": "Iznz67EdVFGZ"
   },
   "outputs": [],
   "source": [
    "#To do: Cosine distance(yl)\n",
    "#input:one node pair\n",
    "#output:feature of that node pair\n",
    "def cosine_distance(a,b):\n",
    "    if train_graph.has_node(a) and train_graph.has_node(b):\n",
    "        X = set( train_graph.neighbors(a))\n",
    "        Y = set( train_graph.neighbors(b))\n",
    "        return len( X&Y ) / ( len(X)*len(Y) )\n",
    "    return 0"
   ]
  },
  {
   "cell_type": "markdown",
   "metadata": {
    "colab_type": "text",
    "id": "HhPbSL1tVFG7"
   },
   "source": [
    "# 3.3 Other Graph Features"
   ]
  },
  {
   "cell_type": "markdown",
   "metadata": {
    "colab_type": "text",
    "id": "AgsorCl7VFG8"
   },
   "source": [
    "## 3.3.1 Shortest path:\n",
    "Getting Shortest path between twoo nodes, if nodes have direct path i.e directly connected then we are removing that edge and calculating path. "
   ]
  },
  {
   "cell_type": "code",
   "execution_count": 25,
   "metadata": {
    "ExecuteTime": {
     "end_time": "2022-05-22T02:24:48.008098Z",
     "start_time": "2022-05-22T02:24:48.006023Z"
    },
    "colab": {},
    "colab_type": "code",
    "id": "RA076ovzVFG9"
   },
   "outputs": [],
   "source": [
    "#To do: Shortest path(yl)\n",
    "#input:one node pair\n",
    "#output:feature of that node pair\n",
    "def compute_shortest_path_length(a,b):\n",
    "    if train_graph.has_node(a) and train_graph.has_node(b):\n",
    "        try:\n",
    "            return nx.shortest_path_length( train_graph, source=a, target=b)\n",
    "        except:\n",
    "            return 0   \n",
    "    else:\n",
    "        return 0"
   ]
  },
  {
   "cell_type": "markdown",
   "metadata": {
    "colab_type": "text",
    "id": "baE_95bzVFHF"
   },
   "source": [
    "## 3.3.2 Checking for same community"
   ]
  },
  {
   "cell_type": "code",
   "execution_count": 26,
   "metadata": {
    "ExecuteTime": {
     "end_time": "2022-05-22T02:24:48.209456Z",
     "start_time": "2022-05-22T02:24:48.009551Z"
    }
   },
   "outputs": [],
   "source": [
    "#getting connected edges from graph \n",
    "cc_dic={}\n",
    "for i,c in enumerate(nx.connected_components(train_graph)):\n",
    "    for node in c:\n",
    "        cc_dic[node]=i"
   ]
  },
  {
   "cell_type": "code",
   "execution_count": 27,
   "metadata": {
    "ExecuteTime": {
     "end_time": "2022-05-22T02:24:48.213970Z",
     "start_time": "2022-05-22T02:24:48.212026Z"
    }
   },
   "outputs": [],
   "source": [
    "def belongs_to_same_cc(a,b):\n",
    "    if cc_dic.get(a,-1)==cc_dic.get(b,-1) and cc_dic.get(a,-1)!=-1:\n",
    "        return 1\n",
    "    else:\n",
    "        return 0"
   ]
  },
  {
   "cell_type": "code",
   "execution_count": 28,
   "metadata": {
    "ExecuteTime": {
     "end_time": "2022-05-22T02:24:48.216901Z",
     "start_time": "2022-05-22T02:24:48.214692Z"
    },
    "colab": {},
    "colab_type": "code",
    "id": "HMdYpPuGVFHK",
    "outputId": "2005e22c-b60f-48d7-839b-650bf97cae35"
   },
   "outputs": [
    {
     "data": {
      "text/plain": [
       "0"
      ]
     },
     "execution_count": 28,
     "metadata": {},
     "output_type": "execute_result"
    }
   ],
   "source": [
    "belongs_to_same_cc(1,2)"
   ]
  },
  {
   "cell_type": "markdown",
   "metadata": {},
   "source": [
    "## 3.3.3 Common neighbors"
   ]
  },
  {
   "cell_type": "code",
   "execution_count": 29,
   "metadata": {
    "ExecuteTime": {
     "end_time": "2022-05-22T02:24:48.219811Z",
     "start_time": "2022-05-22T02:24:48.217934Z"
    }
   },
   "outputs": [],
   "source": [
    "#To do: Common neighbors(yl)\n",
    "def common_neighbors(a,b):\n",
    "    if train_graph.has_node(a) and train_graph.has_node(b):\n",
    "        return len(sorted(nx.common_neighbors(train_graph,a,b)))\n",
    "    return 0"
   ]
  },
  {
   "cell_type": "markdown",
   "metadata": {
    "colab_type": "text",
    "id": "q74nth0OVFHN"
   },
   "source": [
    "## 3.3.4 Adamic/Adar Index:\n",
    "Adamic/Adar measures is defined as inverted sum of degrees of common neighbours for given two vertices.\n",
    "$$A(x,y)=\\sum_{u \\in N(x) \\cap N(y)}\\frac{1}{log(|N(u)|)}$$"
   ]
  },
  {
   "cell_type": "code",
   "execution_count": 30,
   "metadata": {
    "ExecuteTime": {
     "end_time": "2022-05-22T02:24:48.222738Z",
     "start_time": "2022-05-22T02:24:48.220626Z"
    },
    "colab": {},
    "colab_type": "code",
    "id": "CeS98LI5VFHO"
   },
   "outputs": [],
   "source": [
    "#To do: adar(yl)\n",
    "#input:one node pair\n",
    "#output:feature of that node pair\n",
    "def calc_adar(a,b):\n",
    "    if train_graph.has_node(a) and train_graph.has_node(b):\n",
    "        try:\n",
    "            return next( nx.adamic_adar_index(train_graph, [(a,b)]) )[2]\n",
    "        except:\n",
    "            return 0\n",
    "    else:\n",
    "        return 0"
   ]
  },
  {
   "cell_type": "markdown",
   "metadata": {},
   "source": [
    "## 3.3.5 Resource Allocation Index:\n",
    "Among a number of similarity-based methods to predict missing links in a complex network, Research Allocation Index performs well with lower time complexity. It is defined as a fraction of a resource that a node can send to another through their common neighbors.\n",
    "\n",
    "$$\n",
    "\\text { Research Allocation Index }(\\mathrm{X}, \\mathrm{Y})=\\Sigma_{u \\in N(X) \\cap N(Y)} 1 /|N(u)|\n",
    "$$"
   ]
  },
  {
   "cell_type": "code",
   "execution_count": 31,
   "metadata": {
    "ExecuteTime": {
     "end_time": "2022-05-22T02:24:48.226063Z",
     "start_time": "2022-05-22T02:24:48.223600Z"
    },
    "scrolled": false
   },
   "outputs": [],
   "source": [
    "def Resource_Allocation_Index(a,b):\n",
    "    if train_graph.has_node(a) and train_graph.has_node(b):\n",
    "        try:\n",
    "            return next( nx.resource_allocation_index(train_graph, [(a,b)]) )[2]\n",
    "        except:\n",
    "            return 0\n",
    "    else:\n",
    "        return 0\n"
   ]
  },
  {
   "cell_type": "markdown",
   "metadata": {},
   "source": [
    "## 3.3.6 Preferential Attachment:\n",
    "Preferential attachment means that the more connected a node is, the more likely it is to receive new links (refer to this article for referring to Barabasi Albert graph formed on the concepts of Preferential Attachment) Nodes with higher degree gets more neighbors.\n",
    "$$\n",
    "\\text { Preferential Attachment }(X, Y)=|N(X)| \\cdot|N(Y)|\n",
    "$$"
   ]
  },
  {
   "cell_type": "code",
   "execution_count": 32,
   "metadata": {
    "ExecuteTime": {
     "end_time": "2022-05-22T02:24:48.228876Z",
     "start_time": "2022-05-22T02:24:48.226919Z"
    }
   },
   "outputs": [],
   "source": [
    "def Preferential_Attachment(a,b):\n",
    "    if train_graph.has_node(a) and train_graph.has_node(b):\n",
    "        try:\n",
    "            return next( nx.preferential_attachment(train_graph, [(a,b)]) )[2]\n",
    "        except:\n",
    "            return 0\n",
    "    else:\n",
    "        return 0\n"
   ]
  },
  {
   "cell_type": "markdown",
   "metadata": {},
   "source": [
    "## 3.3.7 SVD"
   ]
  },
  {
   "cell_type": "code",
   "execution_count": 33,
   "metadata": {
    "ExecuteTime": {
     "end_time": "2022-05-22T02:24:48.243786Z",
     "start_time": "2022-05-22T02:24:48.229512Z"
    }
   },
   "outputs": [],
   "source": [
    "#for svd features to get feature vector creating a dict node val and inedx in svd vector\n",
    "sadj_col = sorted(train_graph.nodes())\n",
    "sadj_dict = { val:idx for idx,val in enumerate(sadj_col)}"
   ]
  },
  {
   "cell_type": "code",
   "execution_count": 34,
   "metadata": {
    "ExecuteTime": {
     "end_time": "2022-05-22T02:24:50.645752Z",
     "start_time": "2022-05-22T02:24:48.244767Z"
    }
   },
   "outputs": [],
   "source": [
    "Adj = nx.adjacency_matrix(train_graph,nodelist=sorted(train_graph.nodes())).asfptype()"
   ]
  },
  {
   "cell_type": "code",
   "execution_count": 35,
   "metadata": {
    "ExecuteTime": {
     "end_time": "2022-05-22T02:24:50.920507Z",
     "start_time": "2022-05-22T02:24:50.646580Z"
    }
   },
   "outputs": [
    {
     "name": "stdout",
     "output_type": "stream",
     "text": [
      "Adjacency matrix Shape (49703, 49703)\n",
      "U Shape (49703, 6)\n",
      "V Shape (6, 49703)\n",
      "s Shape (6,)\n"
     ]
    }
   ],
   "source": [
    "U, s, V = svds(Adj, k = 6)\n",
    "print('Adjacency matrix Shape',Adj.shape)\n",
    "print('U Shape',U.shape)\n",
    "print('V Shape',V.shape)\n",
    "print('s Shape',s.shape)"
   ]
  },
  {
   "cell_type": "code",
   "execution_count": 36,
   "metadata": {
    "ExecuteTime": {
     "end_time": "2022-05-22T02:24:50.923459Z",
     "start_time": "2022-05-22T02:24:50.921430Z"
    }
   },
   "outputs": [],
   "source": [
    "def svd(x, S):\n",
    "    try:\n",
    "        z = sadj_dict[x]\n",
    "        return S[z]\n",
    "    except:\n",
    "        return [0,0,0,0,0,0]"
   ]
  },
  {
   "cell_type": "markdown",
   "metadata": {},
   "source": [
    "## 3.3.8 SVD dot\n",
    "\n",
    "Add feature called svd_dot. you can calculate svd_dot as Dot product between sourse node svd and destination node svd features. you can read about this in below pdf https://storage.googleapis.com/kaggle-forum-message-attachments/2594/supervised_link_prediction.pdfm"
   ]
  },
  {
   "cell_type": "code",
   "execution_count": 37,
   "metadata": {
    "ExecuteTime": {
     "end_time": "2022-05-22T02:24:50.926783Z",
     "start_time": "2022-05-22T02:24:50.924309Z"
    }
   },
   "outputs": [],
   "source": [
    "def svd_dot(S,D):\n",
    "    list_var = []\n",
    "    A = S.values\n",
    "    B = D.values\n",
    "    for i in range(len(A)):\n",
    "        list_var.append(np.dot(A[i],B[i]))\n",
    "    df = pd.DataFrame(list_var)\n",
    "    return df"
   ]
  },
  {
   "cell_type": "markdown",
   "metadata": {},
   "source": [
    "## 3.3.9 GEMSEC"
   ]
  },
  {
   "cell_type": "code",
   "execution_count": 38,
   "metadata": {
    "ExecuteTime": {
     "end_time": "2022-05-22T02:24:50.929589Z",
     "start_time": "2022-05-22T02:24:50.927568Z"
    }
   },
   "outputs": [],
   "source": [
    "#To do: GEMSEC\n",
    "#input:one node pair\n",
    "#output:feature of that node pair\n",
    "def GEMSEC_embedding(a,b):\n",
    "    a_embedding=GEMSEC.iloc[g_nodes.index(a), 0]\n",
    "    b_embedding=GEMSEC.iloc[g_nodes.index(b), 0]\n",
    "    return a_embedding+b_embedding \n",
    "    "
   ]
  },
  {
   "cell_type": "markdown",
   "metadata": {},
   "source": [
    "## 3.3.10 GEMSECWithRegularization"
   ]
  },
  {
   "cell_type": "code",
   "execution_count": 39,
   "metadata": {
    "ExecuteTime": {
     "end_time": "2022-05-22T02:24:50.933355Z",
     "start_time": "2022-05-22T02:24:50.930374Z"
    }
   },
   "outputs": [],
   "source": [
    "def GEMSECWithRegularization_embedding(a,b):\n",
    "    a_embedding=GEMSECWithRegularization.iloc[g_nodes.index(a), 0]\n",
    "    b_embedding=GEMSECWithRegularization.iloc[g_nodes.index(b), 0]\n",
    "    return a_embedding+b_embedding\n",
    "        "
   ]
  },
  {
   "cell_type": "markdown",
   "metadata": {},
   "source": [
    "## 3.3.11 DeepWalk"
   ]
  },
  {
   "cell_type": "code",
   "execution_count": 40,
   "metadata": {
    "ExecuteTime": {
     "end_time": "2022-05-22T02:24:50.935969Z",
     "start_time": "2022-05-22T02:24:50.934117Z"
    }
   },
   "outputs": [],
   "source": [
    "def DeepWalk_embedding(a,b):\n",
    "    a_embedding=DeepWalk.iloc[g_nodes.index(a), 0]\n",
    "    b_embedding=DeepWalk.iloc[g_nodes.index(b), 0]\n",
    "    return a_embedding+b_embedding\n",
    "        "
   ]
  },
  {
   "cell_type": "markdown",
   "metadata": {},
   "source": [
    "## 3.3.12 DeepWalkWithRegularization"
   ]
  },
  {
   "cell_type": "code",
   "execution_count": 41,
   "metadata": {
    "ExecuteTime": {
     "end_time": "2022-05-22T02:24:50.938511Z",
     "start_time": "2022-05-22T02:24:50.936654Z"
    }
   },
   "outputs": [],
   "source": [
    "def DeepWalkWithRegularization_embedding(a,b):\n",
    "    a_embedding=DeepWalkWithRegularization.iloc[g_nodes.index(a), 0]\n",
    "    b_embedding=DeepWalkWithRegularization.iloc[g_nodes.index(b), 0]\n",
    "    return a_embedding+b_embedding"
   ]
  },
  {
   "cell_type": "markdown",
   "metadata": {
    "colab_type": "text",
    "id": "ZZtowOLZVFH6"
   },
   "source": [
    "# 4. Featurization"
   ]
  },
  {
   "cell_type": "markdown",
   "metadata": {
    "colab_type": "text",
    "id": "o6NnRWmLVFH6"
   },
   "source": [
    "## 4.1 Reading data from both train and test"
   ]
  },
  {
   "cell_type": "code",
   "execution_count": 42,
   "metadata": {
    "ExecuteTime": {
     "end_time": "2022-05-22T02:24:51.075825Z",
     "start_time": "2022-05-22T02:24:50.940099Z"
    },
    "colab": {},
    "colab_type": "code",
    "id": "pCisf6PpVFID",
    "outputId": "daf2af43-3f98-4466-ad99-03bc54464714"
   },
   "outputs": [
    {
     "name": "stdout",
     "output_type": "stream",
     "text": [
      "Our train matrix size  (1310888, 3)\n"
     ]
    },
    {
     "data": {
      "text/html": [
       "<div>\n",
       "<style scoped>\n",
       "    .dataframe tbody tr th:only-of-type {\n",
       "        vertical-align: middle;\n",
       "    }\n",
       "\n",
       "    .dataframe tbody tr th {\n",
       "        vertical-align: top;\n",
       "    }\n",
       "\n",
       "    .dataframe thead th {\n",
       "        text-align: right;\n",
       "    }\n",
       "</style>\n",
       "<table border=\"1\" class=\"dataframe\">\n",
       "  <thead>\n",
       "    <tr style=\"text-align: right;\">\n",
       "      <th></th>\n",
       "      <th>source_node</th>\n",
       "      <th>destination_node</th>\n",
       "      <th>indicator_link</th>\n",
       "    </tr>\n",
       "  </thead>\n",
       "  <tbody>\n",
       "    <tr>\n",
       "      <th>0</th>\n",
       "      <td>4355</td>\n",
       "      <td>22522</td>\n",
       "      <td>1</td>\n",
       "    </tr>\n",
       "    <tr>\n",
       "      <th>1</th>\n",
       "      <td>1018</td>\n",
       "      <td>40836</td>\n",
       "      <td>1</td>\n",
       "    </tr>\n",
       "  </tbody>\n",
       "</table>\n",
       "</div>"
      ],
      "text/plain": [
       "   source_node  destination_node  indicator_link\n",
       "0         4355             22522               1\n",
       "1         1018             40836               1"
      ]
     },
     "execution_count": 42,
     "metadata": {},
     "output_type": "execute_result"
    }
   ],
   "source": [
    "df_final_train = pd.read_csv('data/after_eda/train_after_eda.csv', names=['source_node', 'destination_node'])\n",
    "df_final_train['indicator_link'] = pd.read_csv('data/train_y.csv', names=['indicator_link'])\n",
    "\n",
    "print(\"Our train matrix size \",df_final_train.shape)\n",
    "df_final_train.head(2)"
   ]
  },
  {
   "cell_type": "code",
   "execution_count": 43,
   "metadata": {
    "ExecuteTime": {
     "end_time": "2022-05-22T02:24:51.116504Z",
     "start_time": "2022-05-22T02:24:51.076746Z"
    },
    "colab": {},
    "colab_type": "code",
    "id": "tFn1RkdyVFIH",
    "outputId": "1ca99e70-6d2a-45f2-f51c-fd3b1211ad20"
   },
   "outputs": [
    {
     "name": "stdout",
     "output_type": "stream",
     "text": [
      "Our test matrix size  (327724, 3)\n"
     ]
    },
    {
     "data": {
      "text/html": [
       "<div>\n",
       "<style scoped>\n",
       "    .dataframe tbody tr th:only-of-type {\n",
       "        vertical-align: middle;\n",
       "    }\n",
       "\n",
       "    .dataframe tbody tr th {\n",
       "        vertical-align: top;\n",
       "    }\n",
       "\n",
       "    .dataframe thead th {\n",
       "        text-align: right;\n",
       "    }\n",
       "</style>\n",
       "<table border=\"1\" class=\"dataframe\">\n",
       "  <thead>\n",
       "    <tr style=\"text-align: right;\">\n",
       "      <th></th>\n",
       "      <th>source_node</th>\n",
       "      <th>destination_node</th>\n",
       "      <th>indicator_link</th>\n",
       "    </tr>\n",
       "  </thead>\n",
       "  <tbody>\n",
       "    <tr>\n",
       "      <th>0</th>\n",
       "      <td>1074</td>\n",
       "      <td>6818</td>\n",
       "      <td>1</td>\n",
       "    </tr>\n",
       "    <tr>\n",
       "      <th>1</th>\n",
       "      <td>29942</td>\n",
       "      <td>39478</td>\n",
       "      <td>1</td>\n",
       "    </tr>\n",
       "  </tbody>\n",
       "</table>\n",
       "</div>"
      ],
      "text/plain": [
       "   source_node  destination_node  indicator_link\n",
       "0         1074              6818               1\n",
       "1        29942             39478               1"
      ]
     },
     "execution_count": 43,
     "metadata": {},
     "output_type": "execute_result"
    }
   ],
   "source": [
    "df_final_test = pd.read_csv('data/after_eda/test_after_eda.csv', names=['source_node', 'destination_node'])\n",
    "df_final_test['indicator_link'] = pd.read_csv('data/test_y.csv', names=['indicator_link'])\n",
    "\n",
    "\n",
    "print(\"Our test matrix size \",df_final_test.shape)\n",
    "df_final_test.head(2)"
   ]
  },
  {
   "cell_type": "markdown",
   "metadata": {
    "colab_type": "text",
    "id": "gIaOWDaDVFIJ"
   },
   "source": [
    "## 4.2 Adding a set of features(one dimension feature)\n",
    "\n",
    "__we will create these each of these features for both train and test data points__\n",
    "<ol>\n",
    "<li>Jaccard Distance</li>\n",
    "<li>Cosine Distance</li>\n",
    "<li>Shortest Path</li>\n",
    "<li>Same Community</li>\n",
    "<li>Common Neighbors</li>\n",
    "<li>Adamic/Adar Index</li>\n",
    "<li>Resource Allocation Index</li>\n",
    "<li>Preferential Attachment</li>\n",
    "</ol>"
   ]
  },
  {
   "cell_type": "code",
   "execution_count": 44,
   "metadata": {
    "ExecuteTime": {
     "end_time": "2022-05-22T02:24:51.412163Z",
     "start_time": "2022-05-22T02:24:51.117656Z"
    },
    "colab": {},
    "colab_type": "code",
    "id": "2qTkOiBcVFIJ"
   },
   "outputs": [],
   "source": [
    "if not os.path.isfile('data/fea_sample/storage_sample_stage1.h5'):\n",
    "    #mapping Jaccard Distance to train and test data\n",
    "    df_final_train['jaccard_distance'] = df_final_train.apply(lambda row:\n",
    "                                            jaccard_distance(row['source_node'],row['destination_node']),axis=1)\n",
    "    df_final_test['jaccard_distance'] = df_final_test.apply(lambda row:\n",
    "                                            jaccard_distance(row['source_node'],row['destination_node']),axis=1)\n",
    "\n",
    "    #mapping Cosine Distance to train and test data\n",
    "    df_final_train['cosine_distances'] = df_final_train.apply(lambda row:\n",
    "                                            cosine_distance(row['source_node'],row['destination_node']),axis=1)\n",
    "    df_final_test['cosine_distance'] = df_final_test.apply(lambda row:\n",
    "                                            cosine_distance(row['source_node'],row['destination_node']),axis=1)\n",
    "    \n",
    "    #mapping Checking for same community to train and test data\n",
    "    df_final_train['same_community'] = df_final_train.apply(lambda row:\n",
    "                                            belongs_to_same_cc(row['source_node'],row['destination_node']),axis=1)\n",
    "    df_final_test['same_community'] = df_final_test.apply(lambda row:\n",
    "                                            belongs_to_same_cc(row['source_node'],row['destination_node']),axis=1)\n",
    "    \n",
    "    \n",
    "    \n",
    "    #mapping Shortest path to train and test data\n",
    "    df_final_train['shortest_path'] = df_final_train.apply(lambda row:\n",
    "                                            compute_shortest_path_length(row['source_node'],row['destination_node']),axis=1)\n",
    "    df_final_test['shortest_path'] = df_final_test.apply(lambda row:\n",
    "                                            compute_shortest_path_length(row['source_node'],row['destination_node']),axis=1)\n",
    "\n",
    "    #mapping Common neighbors to train and test data\n",
    "    df_final_train['Common_neighbors'] = df_final_train.apply(lambda row:\n",
    "                                            common_neighbors(row['source_node'],row['destination_node']),axis=1)\n",
    "    df_final_test['Common_neighbors'] = df_final_test.apply(lambda row:\n",
    "                                            common_neighbors(row['source_node'],row['destination_node']),axis=1)\n",
    "    \n",
    "    #mapping Adamic/Adar Index to train and test data\n",
    "    df_final_train['adar'] = df_final_train.apply(lambda row:\n",
    "                                            calc_adar(row['source_node'],row['destination_node']),axis=1)\n",
    "    df_final_test['adar'] = df_final_test.apply(lambda row:\n",
    "                                            calc_adar(row['source_node'],row['destination_node']),axis=1)\n",
    "\n",
    "    #mapping Resource Allocation Index to train and test data\n",
    "    df_final_train['Resource_Allocation_Index'] = df_final_train.apply(lambda row:\n",
    "                                            Resource_Allocation_Index(row['source_node'],row['destination_node']),axis=1)\n",
    "    df_final_test['Resource_Allocation_Index'] = df_final_test.apply(lambda row:\n",
    "                                            Resource_Allocation_Index(row['source_node'],row['destination_node']),axis=1)\n",
    "\n",
    "    #mapping Preferential Attachment to train and test data\n",
    "    df_final_train['Preferential_Attachment'] = df_final_train.apply(lambda row:\n",
    "                                            Preferential_Attachment(row['source_node'],row['destination_node']),axis=1)\n",
    "    df_final_test['Preferential_Attachment'] = df_final_test.apply(lambda row:\n",
    "                                            Preferential_Attachment(row['source_node'],row['destination_node']),axis=1)\n",
    "    \n",
    "\n",
    "    hdf = HDFStore('data/fea_sample/storage_sample_stage1.h5')\n",
    "    hdf.put('train_df',df_final_train, format='table', data_columns=True)\n",
    "    hdf.put('test_df',df_final_test, format='table', data_columns=True)\n",
    "    hdf.close()\n",
    "else:\n",
    "    df_final_train = read_hdf('data/fea_sample/storage_sample_stage1.h5', 'train_df',mode='r')\n",
    "    df_final_test = read_hdf('data/fea_sample/storage_sample_stage1.h5', 'test_df',mode='r')   \n",
    "    \n",
    "    "
   ]
  },
  {
   "cell_type": "code",
   "execution_count": 45,
   "metadata": {
    "ExecuteTime": {
     "end_time": "2022-05-22T02:24:51.415830Z",
     "start_time": "2022-05-22T02:24:51.413267Z"
    }
   },
   "outputs": [],
   "source": [
    "del cc_dic"
   ]
  },
  {
   "cell_type": "markdown",
   "metadata": {
    "colab_type": "text",
    "id": "p6xkDfD-VFIb"
   },
   "source": [
    "## 4.3 Adding new set of features\n",
    "\n",
    "\n",
    "#### 1.SVD features for both source and destination\n"
   ]
  },
  {
   "cell_type": "code",
   "execution_count": 46,
   "metadata": {
    "ExecuteTime": {
     "end_time": "2022-05-22T02:30:27.122472Z",
     "start_time": "2022-05-22T02:24:51.416594Z"
    },
    "colab": {},
    "colab_type": "code",
    "id": "ls5fqLFhVFIm"
   },
   "outputs": [],
   "source": [
    "if not os.path.isfile('data/fea_sample/storage_sample_stag2.h5'):\n",
    "    #===================================================================================================\n",
    "    \n",
    "    df_final_train[['svd_u_s_1', 'svd_u_s_2','svd_u_s_3', 'svd_u_s_4', 'svd_u_s_5', 'svd_u_s_6']] = \\\n",
    "    df_final_train.source_node.apply(lambda x: svd(x, U)).apply(pd.Series)\n",
    "    \n",
    "    df_final_train[['svd_u_d_1', 'svd_u_d_2', 'svd_u_d_3', 'svd_u_d_4', 'svd_u_d_5','svd_u_d_6']] = \\\n",
    "    df_final_train.destination_node.apply(lambda x: svd(x, U)).apply(pd.Series)\n",
    "    #===================================================================================================\n",
    "    \n",
    "    df_final_train[['svd_v_s_1','svd_v_s_2', 'svd_v_s_3', 'svd_v_s_4', 'svd_v_s_5', 'svd_v_s_6']] = \\\n",
    "    df_final_train.source_node.apply(lambda x: svd(x, V.T)).apply(pd.Series)\n",
    "\n",
    "    df_final_train[['svd_v_d_1', 'svd_v_d_2', 'svd_v_d_3', 'svd_v_d_4', 'svd_v_d_5','svd_v_d_6']] = \\\n",
    "    df_final_train.destination_node.apply(lambda x: svd(x, V.T)).apply(pd.Series)\n",
    "    #===================================================================================================\n",
    "    \n",
    "    df_final_test[['svd_u_s_1', 'svd_u_s_2','svd_u_s_3', 'svd_u_s_4', 'svd_u_s_5', 'svd_u_s_6']] = \\\n",
    "    df_final_test.source_node.apply(lambda x: svd(x, U)).apply(pd.Series)\n",
    "    \n",
    "    df_final_test[['svd_u_d_1', 'svd_u_d_2', 'svd_u_d_3', 'svd_u_d_4', 'svd_u_d_5','svd_u_d_6']] = \\\n",
    "    df_final_test.destination_node.apply(lambda x: svd(x, U)).apply(pd.Series)\n",
    "\n",
    "    #===================================================================================================\n",
    "    \n",
    "    df_final_test[['svd_v_s_1','svd_v_s_2', 'svd_v_s_3', 'svd_v_s_4', 'svd_v_s_5', 'svd_v_s_6']] = \\\n",
    "    df_final_test.source_node.apply(lambda x: svd(x, V.T)).apply(pd.Series)\n",
    "\n",
    "    df_final_test[['svd_v_d_1', 'svd_v_d_2', 'svd_v_d_3', 'svd_v_d_4', 'svd_v_d_5','svd_v_d_6']] = \\\n",
    "    df_final_test.destination_node.apply(lambda x: svd(x, V.T)).apply(pd.Series)\n",
    "    #===================================================================================================\n",
    "\n",
    "    hdf = HDFStore('data/fea_sample/storage_sample_stage2.h5')\n",
    "    hdf.put('train_df',df_final_train, format='table', data_columns=True)\n",
    "    hdf.put('test_df',df_final_test, format='table', data_columns=True)\n",
    "    hdf.close()\n",
    "    \n",
    "else:\n",
    "    df_final_train = read_hdf('data/fea_sample/storage_sample_stage2.h5', 'train_df',mode='r')\n",
    "    df_final_test = read_hdf('data/fea_sample/storage_sample_stage2.h5', 'test_df',mode='r')"
   ]
  },
  {
   "cell_type": "code",
   "execution_count": 47,
   "metadata": {
    "ExecuteTime": {
     "end_time": "2022-05-22T02:30:27.127273Z",
     "start_time": "2022-05-22T02:30:27.123615Z"
    }
   },
   "outputs": [],
   "source": [
    "del sadj_col\n",
    "del sadj_dict\n",
    "del Adj\n",
    "del U\n",
    "del s\n",
    "del V"
   ]
  },
  {
   "cell_type": "markdown",
   "metadata": {},
   "source": [
    "#### 2.SVD dot"
   ]
  },
  {
   "cell_type": "code",
   "execution_count": 48,
   "metadata": {
    "ExecuteTime": {
     "end_time": "2022-05-22T02:30:28.054152Z",
     "start_time": "2022-05-22T02:30:27.128085Z"
    }
   },
   "outputs": [],
   "source": [
    "if not os.path.isfile('data/fea_sample/storage_sample_stage3.h5'):\n",
    "    u_s = df_final_train[['svd_u_s_1', 'svd_u_s_2', 'svd_u_s_3', 'svd_u_s_4','svd_u_s_5', 'svd_u_s_6']]\n",
    "    u_d = df_final_train[['svd_u_d_1', 'svd_u_d_2', 'svd_u_d_3', 'svd_u_d_4','svd_u_d_5', 'svd_u_d_6']]\n",
    "    df_final_train['svd_dot_u'] = svd_dot(u_s,u_d)\n",
    "\n",
    "    v_s = df_final_train[['svd_v_s_1', 'svd_v_s_2', 'svd_v_s_3', 'svd_v_s_4','svd_v_s_5', 'svd_v_s_6']]\n",
    "    v_d = df_final_train[['svd_v_d_1', 'svd_v_d_2', 'svd_v_d_3', 'svd_v_d_4','svd_v_d_5', 'svd_v_d_6']]\n",
    "    df_final_train['svd_dot_v'] = svd_dot(v_s,v_d)\n",
    "\n",
    "    u_s = df_final_test[['svd_u_s_1', 'svd_u_s_2', 'svd_u_s_3', 'svd_u_s_4','svd_u_s_5', 'svd_u_s_6']]\n",
    "    u_d = df_final_test[['svd_u_d_1', 'svd_u_d_2', 'svd_u_d_3', 'svd_u_d_4','svd_u_d_5', 'svd_u_d_6']]\n",
    "    df_final_test['svd_dot_u'] = svd_dot(u_s,u_d)\n",
    "\n",
    "    v_s = df_final_test[['svd_v_s_1', 'svd_v_s_2', 'svd_v_s_3', 'svd_v_s_4','svd_v_s_5', 'svd_v_s_6']]\n",
    "    v_d = df_final_test[['svd_v_s_1', 'svd_v_s_2', 'svd_v_s_3', 'svd_v_s_4','svd_v_s_5', 'svd_v_s_6']]\n",
    "    df_final_test['svd_dot_v'] = svd_dot(v_s,v_d)\n",
    "    \n",
    "    hdf = HDFStore('data/fea_sample/storage_sample_stage3.h5')\n",
    "    hdf.put('train_df',df_final_train, format='table', data_columns=True)\n",
    "    hdf.put('test_df',df_final_test, format='table', data_columns=True)\n",
    "    hdf.close() \n",
    "else:\n",
    "    df_final_train = read_hdf('data/fea_sample/storage_sample_stage3.h5', 'train_df',mode='r')\n",
    "    df_final_test = read_hdf('data/fea_sample/storage_sample_stage3.h5', 'test_df',mode='r')"
   ]
  },
  {
   "cell_type": "markdown",
   "metadata": {},
   "source": [
    "## 4.4 Adding new set of features(multiple dimension feature)\n",
    "\n",
    "__we will create these each of these features for both train and test data points__\n",
    "<ol>\n",
    "<li>Node to vector</li>    \n",
    "<li>GEMSEC</li>\n",
    "<li>GEMSECWithRegularization</li>\n",
    "<li>DeepWalk</li>\n",
    "<li>DeepWalkWithRegularization</li>\n",
    "</ol>"
   ]
  },
  {
   "cell_type": "code",
   "execution_count": 49,
   "metadata": {
    "ExecuteTime": {
     "end_time": "2022-05-22T02:30:28.061578Z",
     "start_time": "2022-05-22T02:30:28.055223Z"
    }
   },
   "outputs": [],
   "source": [
    "if args.PCA:\n",
    "    if not os.path.isfile('data/fea_sample/storage_sample_stage4.h5'):\n",
    "        #mapping Node to vector to train and test data\n",
    "        from node2vec import Node2Vec\n",
    "        from sklearn.decomposition  import PCA\n",
    "        # train_graph_w_all_node=train_graph\n",
    "        # train_graph_w_all_node.add_nodes_from(g)\n",
    "        # node2vec = Node2Vec(train_graph_w_all_node, dimensions=100, walk_length=16, num_walks=50)\n",
    "        \n",
    "        print(\"a\")\n",
    "        node2vec = Node2Vec(g, dimensions=100, walk_length=16, num_walks=50)\n",
    "        \n",
    "        print(\"b\")\n",
    "        n2v_model = node2vec.fit(window=7, min_count=1)\n",
    "        \n",
    "        print(\"c\")\n",
    "        embedding=[] \n",
    "        for n1,n2 in zip(df_final_train['source_node'],df_final_train['destination_node']):\n",
    "            x=n2v_model.wv[str(n1)]+n2v_model.wv[str(n2)]\n",
    "            embedding.append(x)    \n",
    "        pca = PCA( n_components=1 )\n",
    "        df_final_train['node2vector'] = pca.fit_transform(embedding)\n",
    "        \n",
    "        print(\"d\")\n",
    "\n",
    "        embedding=[]\n",
    "        for n1,n2 in zip(df_final_test['source_node'],df_final_test['destination_node']):\n",
    "            x=n2v_model.wv[str(n1)]+n2v_model.wv[str(n2)]\n",
    "            embedding.append(x)    \n",
    "        pca = PCA( n_components=1 )\n",
    "        df_final_test['node2vector'] = pca.fit_transform(embedding)\n",
    "        \n",
    "        \n",
    "        print(\"e\")\n",
    "        \n",
    "        g_nodes=list(g.nodes)\n",
    "        GEMSEC=pd.read_csv(f\"./GEMSEC/output_PCA/GEMSEC/PCA/{genre}_embedding.csv\")\n",
    "        GEMSECWithRegularization=pd.read_csv(f\"./GEMSEC/output_PCA/GEMSECWithRegularization/PCA/{genre}_embedding.csv\")\n",
    "        DeepWalk=pd.read_csv(f\"./GEMSEC/output_PCA/DeepWalk/PCA/{genre}_embedding.csv\")\n",
    "        DeepWalkWithRegularization=pd.read_csv(f\"./GEMSEC/output_PCA/DeepWalkWithRegularization/PCA/{genre}_embedding.csv\")\n",
    "    \n",
    "        #mapping GEMSEC to train and test data\n",
    "        df_final_train['GEMSEC'] = df_final_train.apply(lambda row:\n",
    "                                                GEMSEC_embedding(row['source_node'],row['destination_node']),axis=1)\n",
    "        df_final_test['GEMSEC'] = df_final_test.apply(lambda row:\n",
    "                                                GEMSEC_embedding(row['source_node'],row['destination_node']),axis=1)    \n",
    "\n",
    "        #mapping GEMSECWithRegularization to train and test data\n",
    "        df_final_train['GEMSECWithRegularization'] = df_final_train.apply(lambda row:\n",
    "                                                GEMSECWithRegularization_embedding(row['source_node'],row['destination_node']),axis=1)\n",
    "        df_final_test['GEMSECWithRegularization'] = df_final_test.apply(lambda row:\n",
    "                                                GEMSECWithRegularization_embedding(row['source_node'],row['destination_node']),axis=1)\n",
    "\n",
    "        #mapping DeepWalk to train and test data\n",
    "        df_final_train['DeepWalk'] = df_final_train.apply(lambda row:\n",
    "                                                DeepWalk_embedding(row['source_node'],row['destination_node']),axis=1)\n",
    "        df_final_test['DeepWalk'] = df_final_test.apply(lambda row:\n",
    "                                                DeepWalk_embedding(row['source_node'],row['destination_node']),axis=1)    \n",
    "\n",
    "        #mapping DeepWalkWithRegularization to train and test data\n",
    "        df_final_train['DeepWalkWithRegularization'] = df_final_train.apply(lambda row:\n",
    "                                                DeepWalkWithRegularization_embedding(row['source_node'],row['destination_node']),axis=1)\n",
    "        df_final_test['DeepWalkWithRegularization'] = df_final_test.apply(lambda row:\n",
    "                                                DeepWalkWithRegularization_embedding(row['source_node'],row['destination_node']),axis=1)          \n",
    "\n",
    "        hdf = HDFStore('data/fea_sample/storage_sample_stage4.h5')\n",
    "        hdf.put('train_df',df_final_train, format='table', data_columns=True)\n",
    "        hdf.put('test_df',df_final_test, format='table', data_columns=True)\n",
    "        hdf.close()\n",
    "        \n",
    "        \n",
    "        del node2vec\n",
    "        del n2v_model\n",
    "        del embedding\n",
    "        del pca\n",
    "        del g_nodes\n",
    "        del GEMSEC\n",
    "        del GEMSECWithRegularization\n",
    "        del DeepWalk\n",
    "        del DeepWalkWithRegularization\n",
    "    else:\n",
    "        df_final_train = read_hdf('data/fea_sample/storage_sample_stage4.h5', 'train_df',mode='r')\n",
    "        df_final_test = read_hdf('data/fea_sample/storage_sample_stage4.h5', 'test_df',mode='r')   \n",
    " "
   ]
  },
  {
   "cell_type": "markdown",
   "metadata": {
    "colab_type": "text",
    "id": "DAIOlLPyiAmY"
   },
   "source": [
    "**Store the data as final for machine learning models**"
   ]
  },
  {
   "cell_type": "markdown",
   "metadata": {},
   "source": [
    "# RandomForest"
   ]
  },
  {
   "cell_type": "code",
   "execution_count": 51,
   "metadata": {
    "ExecuteTime": {
     "end_time": "2022-05-22T03:19:06.321863Z",
     "start_time": "2022-05-22T03:19:05.477308Z"
    },
    "colab": {},
    "colab_type": "code",
    "id": "XC4OJFKkHglU"
   },
   "outputs": [],
   "source": [
    "#reading\n",
    "from pandas import read_hdf\n",
    "if args.PCA:\n",
    "    df_final_train = read_hdf('data/fea_sample/storage_sample_stage4.h5', 'train_df',mode='r')\n",
    "    df_final_test = read_hdf('data/fea_sample/storage_sample_stage4.h5', 'test_df',mode='r')\n",
    "else:\n",
    "    df_final_train = read_hdf('data/fea_sample/storage_sample_stage3.h5', 'train_df',mode='r')\n",
    "    df_final_test = read_hdf('data/fea_sample/storage_sample_stage3.h5', 'test_df',mode='r')    "
   ]
  },
  {
   "cell_type": "code",
   "execution_count": 52,
   "metadata": {
    "ExecuteTime": {
     "end_time": "2022-05-22T03:19:06.325343Z",
     "start_time": "2022-05-22T03:19:06.323046Z"
    },
    "colab": {},
    "colab_type": "code",
    "id": "k-T85kSmjrpy",
    "outputId": "d2c2294c-113e-4fdb-d3e5-dc167dcf5fbc"
   },
   "outputs": [
    {
     "data": {
      "text/plain": [
       "Index(['source_node', 'destination_node', 'indicator_link', 'jaccard_distance',\n",
       "       'cosine_distances', 'same_community', 'shortest_path',\n",
       "       'Common_neighbors', 'adar', 'Resource_Allocation_Index',\n",
       "       'Preferential_Attachment', 'svd_u_s_1', 'svd_u_s_2', 'svd_u_s_3',\n",
       "       'svd_u_s_4', 'svd_u_s_5', 'svd_u_s_6', 'svd_u_d_1', 'svd_u_d_2',\n",
       "       'svd_u_d_3', 'svd_u_d_4', 'svd_u_d_5', 'svd_u_d_6', 'svd_v_s_1',\n",
       "       'svd_v_s_2', 'svd_v_s_3', 'svd_v_s_4', 'svd_v_s_5', 'svd_v_s_6',\n",
       "       'svd_v_d_1', 'svd_v_d_2', 'svd_v_d_3', 'svd_v_d_4', 'svd_v_d_5',\n",
       "       'svd_v_d_6', 'svd_dot_u', 'svd_dot_v'],\n",
       "      dtype='object')"
      ]
     },
     "execution_count": 52,
     "metadata": {},
     "output_type": "execute_result"
    }
   ],
   "source": [
    "df_final_train.columns"
   ]
  },
  {
   "cell_type": "code",
   "execution_count": 53,
   "metadata": {
    "ExecuteTime": {
     "end_time": "2022-05-22T03:19:06.327608Z",
     "start_time": "2022-05-22T03:19:06.325981Z"
    },
    "colab": {},
    "colab_type": "code",
    "id": "pH68dh1djrp5"
   },
   "outputs": [],
   "source": [
    "y_train = df_final_train.indicator_link\n",
    "y_test = df_final_test.indicator_link"
   ]
  },
  {
   "cell_type": "code",
   "execution_count": 54,
   "metadata": {
    "ExecuteTime": {
     "end_time": "2022-05-22T03:19:06.455468Z",
     "start_time": "2022-05-22T03:19:06.328446Z"
    },
    "colab": {},
    "colab_type": "code",
    "id": "phtTp9NZjrp_"
   },
   "outputs": [],
   "source": [
    "df_final_train.drop(['source_node', 'destination_node','indicator_link','svd_u_s_1', 'svd_u_s_2','svd_u_s_3', 'svd_u_s_4', 'svd_u_s_5', 'svd_u_s_6','svd_u_d_1', 'svd_u_d_2', 'svd_u_d_3', 'svd_u_d_4', 'svd_u_d_5','svd_u_d_6','svd_v_s_1','svd_v_s_2', 'svd_v_s_3', 'svd_v_s_4', 'svd_v_s_5', 'svd_v_s_6','svd_v_d_1', 'svd_v_d_2', 'svd_v_d_3', 'svd_v_d_4', 'svd_v_d_5','svd_v_d_6'],axis=1,inplace=True)\n",
    "df_final_test.drop(['source_node', 'destination_node','indicator_link','svd_u_s_1', 'svd_u_s_2','svd_u_s_3', 'svd_u_s_4', 'svd_u_s_5', 'svd_u_s_6','svd_u_d_1', 'svd_u_d_2', 'svd_u_d_3', 'svd_u_d_4', 'svd_u_d_5','svd_u_d_6','svd_v_s_1','svd_v_s_2', 'svd_v_s_3', 'svd_v_s_4', 'svd_v_s_5', 'svd_v_s_6','svd_v_d_1', 'svd_v_d_2', 'svd_v_d_3', 'svd_v_d_4', 'svd_v_d_5','svd_v_d_6'],axis=1,inplace=True)"
   ]
  },
  {
   "cell_type": "code",
   "execution_count": 55,
   "metadata": {
    "ExecuteTime": {
     "end_time": "2022-05-22T03:19:06.465597Z",
     "start_time": "2022-05-22T03:19:06.456412Z"
    },
    "colab": {},
    "colab_type": "code",
    "id": "lIEc91uVHgli",
    "outputId": "31f04b72-ebe5-4b13-ccca-a5ae3bc4f09c"
   },
   "outputs": [],
   "source": [
    "from sklearn.metrics import f1_score\n",
    "from sklearn.ensemble import RandomForestClassifier\n",
    "from sklearn.model_selection import RandomizedSearchCV\n",
    "from scipy.stats import randint as sp_randint\n",
    "from scipy.stats import uniform\n",
    "\n",
    "# estimators = [10,50,100,250,450]\n",
    "# train_scores = []\n",
    "# test_scores = []\n",
    "# for i in estimators:\n",
    "#     clf = RandomForestClassifier(bootstrap=True, class_weight=None, criterion='gini',\n",
    "#             max_depth=5, max_features='auto', max_leaf_nodes=None,\n",
    "#             min_impurity_decrease=0.0,\n",
    "#             min_samples_leaf=52, min_samples_split=120,\n",
    "#             min_weight_fraction_leaf=0.0, n_estimators=i, n_jobs=-1,random_state=25,verbose=0,warm_start=False)\n",
    "#     clf.fit(df_final_train,y_train)\n",
    "#     train_sc = f1_score(y_train,clf.predict(df_final_train))\n",
    "#     test_sc = f1_score(y_test,clf.predict(df_final_test))\n",
    "#     test_scores.append(test_sc)\n",
    "#     train_scores.append(train_sc)\n",
    "#     print('Estimators = ',i,'Train Score',train_sc,'test Score',test_sc)\n",
    "# plt.plot(estimators,train_scores,label='Train Score')\n",
    "# plt.plot(estimators,test_scores,label='Test Score')\n",
    "# plt.xlabel('Estimators')\n",
    "# plt.ylabel('Score')\n",
    "# plt.title('Estimators vs score at depth of 5')"
   ]
  },
  {
   "cell_type": "code",
   "execution_count": 56,
   "metadata": {
    "ExecuteTime": {
     "end_time": "2022-05-22T03:19:06.468135Z",
     "start_time": "2022-05-22T03:19:06.466382Z"
    },
    "colab": {},
    "colab_type": "code",
    "id": "nZxhrTdQHglm",
    "outputId": "53382b8e-148d-4c22-8066-d9807fb27012"
   },
   "outputs": [],
   "source": [
    "# depths = [3,9,11,15,20,35,50,70,130]\n",
    "# train_scores = []\n",
    "# test_scores = []\n",
    "# for i in depths:\n",
    "#     clf = RandomForestClassifier(bootstrap=True, class_weight=None, criterion='gini',\n",
    "#             max_depth=i, max_features='auto', max_leaf_nodes=None,\n",
    "#             min_impurity_decrease=0.0,\n",
    "#             min_samples_leaf=52, min_samples_split=120,\n",
    "#             min_weight_fraction_leaf=0.0, n_estimators=115, n_jobs=-1,random_state=25,verbose=0,warm_start=False)\n",
    "#     clf.fit(df_final_train,y_train)\n",
    "#     train_sc = f1_score(y_train,clf.predict(df_final_train))\n",
    "#     test_sc = f1_score(y_test,clf.predict(df_final_test))\n",
    "#     test_scores.append(test_sc)\n",
    "#     train_scores.append(train_sc)\n",
    "#     print('depth = ',i,'Train Score',train_sc,'test Score',test_sc)\n",
    "# plt.plot(depths,train_scores,label='Train Score')\n",
    "# plt.plot(depths,test_scores,label='Test Score')\n",
    "# plt.xlabel('Depth')\n",
    "# plt.ylabel('Score')\n",
    "# plt.title('Depth vs score at depth of 5 at estimators = 115')\n",
    "# plt.show()"
   ]
  },
  {
   "cell_type": "code",
   "execution_count": 57,
   "metadata": {
    "ExecuteTime": {
     "end_time": "2022-05-22T03:25:55.389893Z",
     "start_time": "2022-05-22T03:19:06.469276Z"
    },
    "colab": {},
    "colab_type": "code",
    "id": "MrG1Lfl3Hglq",
    "outputId": "7b6e3c97-8d66-455d-cd79-213f824719cc"
   },
   "outputs": [
    {
     "name": "stdout",
     "output_type": "stream",
     "text": [
      "mean test scores [1. 1. 1. 1. 1.]\n"
     ]
    }
   ],
   "source": [
    "param_dist = {\"n_estimators\":sp_randint(105,125),\n",
    "              \"max_depth\": sp_randint(10,15),\n",
    "              \"min_samples_split\": sp_randint(110,190),\n",
    "              \"min_samples_leaf\": sp_randint(25,65)}\n",
    "\n",
    "clf = RandomForestClassifier(random_state=25,n_jobs=-1)\n",
    "\n",
    "rf_random = RandomizedSearchCV(clf, param_distributions=param_dist,\n",
    "                                   n_iter=5,cv=10,scoring='f1',random_state=25)\n",
    "\n",
    "rf_random.fit(df_final_train,y_train)\n",
    "print('mean test scores',rf_random.cv_results_['mean_test_score'])\n",
    "# print('mean train scores',rf_random.cv_results_['mean_train_score'])"
   ]
  },
  {
   "cell_type": "code",
   "execution_count": 58,
   "metadata": {
    "ExecuteTime": {
     "end_time": "2022-05-22T03:25:55.393505Z",
     "start_time": "2022-05-22T03:25:55.390889Z"
    },
    "colab": {},
    "colab_type": "code",
    "id": "hme3j_diHglu",
    "outputId": "581ccc02-7770-4a94-d003-257af4e81570"
   },
   "outputs": [
    {
     "name": "stdout",
     "output_type": "stream",
     "text": [
      "RandomForestClassifier(max_depth=14, min_samples_leaf=51, min_samples_split=125,\n",
      "                       n_estimators=117, n_jobs=-1, random_state=25)\n"
     ]
    }
   ],
   "source": [
    "print(rf_random.best_estimator_)"
   ]
  },
  {
   "cell_type": "code",
   "execution_count": 59,
   "metadata": {
    "ExecuteTime": {
     "end_time": "2022-05-22T03:25:55.395784Z",
     "start_time": "2022-05-22T03:25:55.394265Z"
    }
   },
   "outputs": [],
   "source": [
    "clf = rf_random.best_estimator_"
   ]
  },
  {
   "cell_type": "code",
   "execution_count": 60,
   "metadata": {
    "ExecuteTime": {
     "end_time": "2022-05-22T03:26:06.171838Z",
     "start_time": "2022-05-22T03:25:55.397053Z"
    },
    "colab": {},
    "colab_type": "code",
    "id": "Dax83GfLHgl1"
   },
   "outputs": [],
   "source": [
    "clf.fit(df_final_train,y_train)\n",
    "y_train_pred = clf.predict(df_final_train)\n",
    "y_test_pred = clf.predict(df_final_test)"
   ]
  },
  {
   "cell_type": "code",
   "execution_count": 61,
   "metadata": {
    "ExecuteTime": {
     "end_time": "2022-05-22T03:26:06.378128Z",
     "start_time": "2022-05-22T03:26:06.172825Z"
    },
    "colab": {},
    "colab_type": "code",
    "id": "PTtAp1iTHgl4",
    "outputId": "e2e3d725-3c4d-4374-d303-8f294b570977"
   },
   "outputs": [
    {
     "name": "stdout",
     "output_type": "stream",
     "text": [
      "Train f1 score 1.0\n",
      "Test f1 score 0.8581960330705205\n"
     ]
    }
   ],
   "source": [
    "from sklearn.metrics import f1_score\n",
    "print('Train f1 score',f1_score(y_train,y_train_pred))\n",
    "print('Test f1 score',f1_score(y_test,y_test_pred))"
   ]
  },
  {
   "cell_type": "code",
   "execution_count": 62,
   "metadata": {
    "ExecuteTime": {
     "end_time": "2022-05-22T03:26:06.380955Z",
     "start_time": "2022-05-22T03:26:06.379240Z"
    }
   },
   "outputs": [],
   "source": [
    "# f = open(\"./results/RandomForest_f1_transposed.csv\", \"a\")\n",
    "# f.write(str(f1_score(y_test,y_test_pred)))\n",
    "# if not args.PCA:\n",
    "#     f.write('\\n')\n",
    "# else:\n",
    "#     f.write(',')\n",
    "# f.close()"
   ]
  },
  {
   "cell_type": "code",
   "execution_count": 63,
   "metadata": {
    "ExecuteTime": {
     "end_time": "2022-05-22T03:26:06.387426Z",
     "start_time": "2022-05-22T03:26:06.381989Z"
    },
    "colab": {},
    "colab_type": "code",
    "id": "5XfUkZYQHgl7"
   },
   "outputs": [],
   "source": [
    "from sklearn.metrics import confusion_matrix\n",
    "def plot_confusion_matrix(test_y, predict_y,split):\n",
    "    C = confusion_matrix(test_y, predict_y)\n",
    "    \n",
    "    A =(((C.T)/(C.sum(axis=1))).T)\n",
    "    \n",
    "    B =(C/C.sum(axis=0))\n",
    "    plt.figure(figsize=(20,4))\n",
    "    \n",
    "    labels = [0,1]\n",
    "    # representing A in heatmap format\n",
    "    cmap=sns.light_palette(\"blue\")\n",
    "    plt.subplot(1, 3, 1)\n",
    "    sns.heatmap(C, annot=True, cmap=cmap, fmt=\".3f\", xticklabels=labels, yticklabels=labels)\n",
    "    plt.xlabel('Predicted Class')\n",
    "    plt.ylabel('Original Class')\n",
    "    plt.title(\"Confusion matrix\")\n",
    "    \n",
    "    plt.subplot(1, 3, 2)\n",
    "    sns.heatmap(B, annot=True, cmap=cmap, fmt=\".3f\", xticklabels=labels, yticklabels=labels)\n",
    "    plt.xlabel('Predicted Class')\n",
    "    plt.ylabel('Original Class')\n",
    "    plt.title(\"Precision matrix\")\n",
    "    \n",
    "    plt.subplot(1, 3, 3)\n",
    "    # representing B in heatmap format\n",
    "    sns.heatmap(A, annot=True, cmap=cmap, fmt=\".3f\", xticklabels=labels, yticklabels=labels)\n",
    "    plt.xlabel('Predicted Class')\n",
    "    plt.ylabel('Original Class')\n",
    "    plt.title(\"Recall matrix\")\n",
    "    \n",
    "    plt.savefig(f\"./results/{PCAornot}/{genre}/RandomForest/{split}_confusion_matrix.png\")\n",
    "    \n",
    "#     plt.show()"
   ]
  },
  {
   "cell_type": "code",
   "execution_count": 64,
   "metadata": {
    "ExecuteTime": {
     "end_time": "2022-05-22T03:26:07.044059Z",
     "start_time": "2022-05-22T03:26:06.388246Z"
    },
    "colab": {},
    "colab_type": "code",
    "id": "s6t11dhTHgl-",
    "outputId": "189de3be-1c99-4653-f56f-12b18b0f4db7"
   },
   "outputs": [
    {
     "name": "stdout",
     "output_type": "stream",
     "text": [
      "Train confusion_matrix\n",
      "Test confusion_matrix\n"
     ]
    },
    {
     "data": {
      "image/png": "[encoded data removed]",
      "text/plain": [
       "<Figure size 1440x288 with 6 Axes>"
      ]
     },
     "metadata": {
      "needs_background": "light"
     },
     "output_type": "display_data"
    },
    {
     "data": {
      "image/png": "[encoded data removed]",
      "text/plain": [
       "<Figure size 1440x288 with 6 Axes>"
      ]
     },
     "metadata": {
      "needs_background": "light"
     },
     "output_type": "display_data"
    }
   ],
   "source": [
    "print('Train confusion_matrix')\n",
    "plot_confusion_matrix(y_train,y_train_pred,'Train')\n",
    "print('Test confusion_matrix')\n",
    "plot_confusion_matrix(y_test,y_test_pred,'Test')"
   ]
  },
  {
   "cell_type": "code",
   "execution_count": 65,
   "metadata": {
    "ExecuteTime": {
     "end_time": "2022-05-22T03:26:07.141684Z",
     "start_time": "2022-05-22T03:26:07.045170Z"
    },
    "colab": {},
    "colab_type": "code",
    "id": "61TF-VLeHgmD",
    "outputId": "795f1b39-61c7-470f-e2d0-1fe6dc7ac5fd"
   },
   "outputs": [
    {
     "data": {
      "image/png": "[encoded data removed]",
      "text/plain": [
       "<Figure size 432x288 with 1 Axes>"
      ]
     },
     "metadata": {
      "needs_background": "light"
     },
     "output_type": "display_data"
    }
   ],
   "source": [
    "from sklearn.metrics import roc_curve, auc\n",
    "fpr,tpr,ths = roc_curve(y_test,y_test_pred)\n",
    "auc_sc = auc(fpr, tpr)\n",
    "plt.figure()\n",
    "plt.plot(fpr, tpr, color='navy',label='ROC curve (area = %0.2f)' % auc_sc)\n",
    "plt.xlabel('False Positive Rate')\n",
    "plt.ylabel('True Positive Rate')\n",
    "plt.title('Receiver operating characteristic with test data')\n",
    "plt.legend()\n",
    "plt.savefig(f\"./results/{PCAornot}/{genre}/RandomForest/roc_curve.png\")\n",
    "# plt.show()"
   ]
  },
  {
   "cell_type": "code",
   "execution_count": 66,
   "metadata": {
    "ExecuteTime": {
     "end_time": "2022-05-22T03:26:07.265854Z",
     "start_time": "2022-05-22T03:26:07.142850Z"
    },
    "colab": {},
    "colab_type": "code",
    "id": "HEZ7uvN6HgmK",
    "outputId": "6f762256-54fc-4e2f-865b-22342033eb2c",
    "scrolled": false
   },
   "outputs": [
    {
     "data": {
      "image/png": "[encoded data removed]",
      "text/plain": [
       "<Figure size 720x864 with 1 Axes>"
      ]
     },
     "metadata": {
      "needs_background": "light"
     },
     "output_type": "display_data"
    }
   ],
   "source": [
    "features = df_final_train.columns\n",
    "importances = clf.feature_importances_\n",
    "indices = (np.argsort(importances))[-25:]\n",
    "plt.figure(figsize=(10,12))\n",
    "plt.title('Feature Importances')\n",
    "plt.barh(range(len(indices)), importances[indices], color='r', align='center')\n",
    "plt.yticks(range(len(indices)), [features[i] for i in indices])\n",
    "plt.xlabel('Relative Importance')\n",
    "plt.savefig(f\"./results/{PCAornot}/{genre}/RandomForest/importance.png\")\n",
    "# plt.show()"
   ]
  },
  {
   "cell_type": "markdown",
   "metadata": {
    "colab_type": "text",
    "id": "_rYXyDpCizW0"
   },
   "source": [
    "# GBDT"
   ]
  },
  {
   "cell_type": "code",
   "execution_count": 67,
   "metadata": {
    "ExecuteTime": {
     "end_time": "2022-05-22T03:26:08.058979Z",
     "start_time": "2022-05-22T03:26:07.266710Z"
    },
    "colab": {},
    "colab_type": "code",
    "id": "a6A_lPdakWJd"
   },
   "outputs": [],
   "source": [
    "#reading\n",
    "from pandas import read_hdf\n",
    "if args.PCA:\n",
    "    df_final_train = read_hdf('data/fea_sample/storage_sample_stage4.h5', 'train_df',mode='r')\n",
    "    df_final_test = read_hdf('data/fea_sample/storage_sample_stage4.h5', 'test_df',mode='r')\n",
    "else:\n",
    "    df_final_train = read_hdf('data/fea_sample/storage_sample_stage3.h5', 'train_df',mode='r')\n",
    "    df_final_test = read_hdf('data/fea_sample/storage_sample_stage3.h5', 'test_df',mode='r')  "
   ]
  },
  {
   "cell_type": "code",
   "execution_count": 68,
   "metadata": {
    "ExecuteTime": {
     "end_time": "2022-05-22T03:26:08.257512Z",
     "start_time": "2022-05-22T03:26:08.060287Z"
    }
   },
   "outputs": [
    {
     "data": {
      "text/html": [
       "<div>\n",
       "<style scoped>\n",
       "    .dataframe tbody tr th:only-of-type {\n",
       "        vertical-align: middle;\n",
       "    }\n",
       "\n",
       "    .dataframe tbody tr th {\n",
       "        vertical-align: top;\n",
       "    }\n",
       "\n",
       "    .dataframe thead th {\n",
       "        text-align: right;\n",
       "    }\n",
       "</style>\n",
       "<table border=\"1\" class=\"dataframe\">\n",
       "  <thead>\n",
       "    <tr style=\"text-align: right;\">\n",
       "      <th></th>\n",
       "      <th>source_node</th>\n",
       "      <th>destination_node</th>\n",
       "      <th>indicator_link</th>\n",
       "      <th>jaccard_distance</th>\n",
       "      <th>cosine_distances</th>\n",
       "      <th>same_community</th>\n",
       "      <th>shortest_path</th>\n",
       "      <th>Common_neighbors</th>\n",
       "      <th>adar</th>\n",
       "      <th>Resource_Allocation_Index</th>\n",
       "      <th>...</th>\n",
       "      <th>svd_v_s_5</th>\n",
       "      <th>svd_v_s_6</th>\n",
       "      <th>svd_v_d_1</th>\n",
       "      <th>svd_v_d_2</th>\n",
       "      <th>svd_v_d_3</th>\n",
       "      <th>svd_v_d_4</th>\n",
       "      <th>svd_v_d_5</th>\n",
       "      <th>svd_v_d_6</th>\n",
       "      <th>svd_dot_u</th>\n",
       "      <th>svd_dot_v</th>\n",
       "    </tr>\n",
       "  </thead>\n",
       "  <tbody>\n",
       "    <tr>\n",
       "      <th>0</th>\n",
       "      <td>4355</td>\n",
       "      <td>22522</td>\n",
       "      <td>1</td>\n",
       "      <td>0.060000</td>\n",
       "      <td>0.001225</td>\n",
       "      <td>1</td>\n",
       "      <td>1</td>\n",
       "      <td>12</td>\n",
       "      <td>2.476863</td>\n",
       "      <td>0.102756</td>\n",
       "      <td>...</td>\n",
       "      <td>0.004544</td>\n",
       "      <td>0.011039</td>\n",
       "      <td>-0.000188</td>\n",
       "      <td>-0.001349</td>\n",
       "      <td>0.002460</td>\n",
       "      <td>0.001927</td>\n",
       "      <td>0.001555</td>\n",
       "      <td>0.003459</td>\n",
       "      <td>4.633147e-05</td>\n",
       "      <td>4.633147e-05</td>\n",
       "    </tr>\n",
       "    <tr>\n",
       "      <th>1</th>\n",
       "      <td>1018</td>\n",
       "      <td>40836</td>\n",
       "      <td>1</td>\n",
       "      <td>0.000000</td>\n",
       "      <td>0.000000</td>\n",
       "      <td>1</td>\n",
       "      <td>1</td>\n",
       "      <td>0</td>\n",
       "      <td>0.000000</td>\n",
       "      <td>0.000000</td>\n",
       "      <td>...</td>\n",
       "      <td>0.010377</td>\n",
       "      <td>0.021726</td>\n",
       "      <td>0.001278</td>\n",
       "      <td>0.006817</td>\n",
       "      <td>0.004407</td>\n",
       "      <td>-0.005629</td>\n",
       "      <td>0.001436</td>\n",
       "      <td>0.005474</td>\n",
       "      <td>-1.104014e-04</td>\n",
       "      <td>-1.104014e-04</td>\n",
       "    </tr>\n",
       "    <tr>\n",
       "      <th>2</th>\n",
       "      <td>23456</td>\n",
       "      <td>43522</td>\n",
       "      <td>1</td>\n",
       "      <td>0.081967</td>\n",
       "      <td>0.002646</td>\n",
       "      <td>1</td>\n",
       "      <td>1</td>\n",
       "      <td>10</td>\n",
       "      <td>1.897395</td>\n",
       "      <td>0.061704</td>\n",
       "      <td>...</td>\n",
       "      <td>-0.023968</td>\n",
       "      <td>0.009323</td>\n",
       "      <td>0.001428</td>\n",
       "      <td>0.000123</td>\n",
       "      <td>-0.000790</td>\n",
       "      <td>-0.000240</td>\n",
       "      <td>-0.009924</td>\n",
       "      <td>0.003968</td>\n",
       "      <td>2.373137e-04</td>\n",
       "      <td>2.373137e-04</td>\n",
       "    </tr>\n",
       "    <tr>\n",
       "      <th>3</th>\n",
       "      <td>42865</td>\n",
       "      <td>7776</td>\n",
       "      <td>1</td>\n",
       "      <td>0.006083</td>\n",
       "      <td>0.000100</td>\n",
       "      <td>1</td>\n",
       "      <td>1</td>\n",
       "      <td>5</td>\n",
       "      <td>1.033446</td>\n",
       "      <td>0.042126</td>\n",
       "      <td>...</td>\n",
       "      <td>0.000911</td>\n",
       "      <td>0.002441</td>\n",
       "      <td>-0.001002</td>\n",
       "      <td>-0.046248</td>\n",
       "      <td>-0.064426</td>\n",
       "      <td>-0.054000</td>\n",
       "      <td>0.026972</td>\n",
       "      <td>0.043272</td>\n",
       "      <td>7.769848e-05</td>\n",
       "      <td>7.769848e-05</td>\n",
       "    </tr>\n",
       "    <tr>\n",
       "      <th>4</th>\n",
       "      <td>4560</td>\n",
       "      <td>43332</td>\n",
       "      <td>1</td>\n",
       "      <td>0.000000</td>\n",
       "      <td>0.000000</td>\n",
       "      <td>1</td>\n",
       "      <td>1</td>\n",
       "      <td>0</td>\n",
       "      <td>0.000000</td>\n",
       "      <td>0.000000</td>\n",
       "      <td>...</td>\n",
       "      <td>0.001889</td>\n",
       "      <td>0.003439</td>\n",
       "      <td>-0.000228</td>\n",
       "      <td>-0.004575</td>\n",
       "      <td>-0.004771</td>\n",
       "      <td>-0.003572</td>\n",
       "      <td>0.001590</td>\n",
       "      <td>0.002117</td>\n",
       "      <td>5.641387e-05</td>\n",
       "      <td>5.641387e-05</td>\n",
       "    </tr>\n",
       "    <tr>\n",
       "      <th>...</th>\n",
       "      <td>...</td>\n",
       "      <td>...</td>\n",
       "      <td>...</td>\n",
       "      <td>...</td>\n",
       "      <td>...</td>\n",
       "      <td>...</td>\n",
       "      <td>...</td>\n",
       "      <td>...</td>\n",
       "      <td>...</td>\n",
       "      <td>...</td>\n",
       "      <td>...</td>\n",
       "      <td>...</td>\n",
       "      <td>...</td>\n",
       "      <td>...</td>\n",
       "      <td>...</td>\n",
       "      <td>...</td>\n",
       "      <td>...</td>\n",
       "      <td>...</td>\n",
       "      <td>...</td>\n",
       "      <td>...</td>\n",
       "      <td>...</td>\n",
       "    </tr>\n",
       "    <tr>\n",
       "      <th>1310883</th>\n",
       "      <td>17060</td>\n",
       "      <td>12676</td>\n",
       "      <td>0</td>\n",
       "      <td>0.000000</td>\n",
       "      <td>0.000000</td>\n",
       "      <td>1</td>\n",
       "      <td>3</td>\n",
       "      <td>0</td>\n",
       "      <td>0.000000</td>\n",
       "      <td>0.000000</td>\n",
       "      <td>...</td>\n",
       "      <td>0.000099</td>\n",
       "      <td>0.000144</td>\n",
       "      <td>0.000116</td>\n",
       "      <td>0.000245</td>\n",
       "      <td>-0.000355</td>\n",
       "      <td>0.000207</td>\n",
       "      <td>0.000078</td>\n",
       "      <td>0.000184</td>\n",
       "      <td>5.721841e-09</td>\n",
       "      <td>5.721841e-09</td>\n",
       "    </tr>\n",
       "    <tr>\n",
       "      <th>1310884</th>\n",
       "      <td>34900</td>\n",
       "      <td>2860</td>\n",
       "      <td>0</td>\n",
       "      <td>0.000000</td>\n",
       "      <td>0.000000</td>\n",
       "      <td>1</td>\n",
       "      <td>3</td>\n",
       "      <td>0</td>\n",
       "      <td>0.000000</td>\n",
       "      <td>0.000000</td>\n",
       "      <td>...</td>\n",
       "      <td>0.000185</td>\n",
       "      <td>0.000258</td>\n",
       "      <td>0.000095</td>\n",
       "      <td>-0.000007</td>\n",
       "      <td>-0.000436</td>\n",
       "      <td>-0.000085</td>\n",
       "      <td>0.000059</td>\n",
       "      <td>0.000259</td>\n",
       "      <td>4.328315e-07</td>\n",
       "      <td>4.328315e-07</td>\n",
       "    </tr>\n",
       "    <tr>\n",
       "      <th>1310885</th>\n",
       "      <td>31856</td>\n",
       "      <td>46890</td>\n",
       "      <td>0</td>\n",
       "      <td>0.000000</td>\n",
       "      <td>0.000000</td>\n",
       "      <td>1</td>\n",
       "      <td>4</td>\n",
       "      <td>0</td>\n",
       "      <td>0.000000</td>\n",
       "      <td>0.000000</td>\n",
       "      <td>...</td>\n",
       "      <td>0.001753</td>\n",
       "      <td>0.002441</td>\n",
       "      <td>0.000001</td>\n",
       "      <td>-0.000004</td>\n",
       "      <td>-0.000011</td>\n",
       "      <td>-0.000005</td>\n",
       "      <td>0.000004</td>\n",
       "      <td>0.000005</td>\n",
       "      <td>1.190505e-07</td>\n",
       "      <td>1.190505e-07</td>\n",
       "    </tr>\n",
       "    <tr>\n",
       "      <th>1310886</th>\n",
       "      <td>48027</td>\n",
       "      <td>43838</td>\n",
       "      <td>0</td>\n",
       "      <td>0.000000</td>\n",
       "      <td>0.000000</td>\n",
       "      <td>1</td>\n",
       "      <td>4</td>\n",
       "      <td>0</td>\n",
       "      <td>0.000000</td>\n",
       "      <td>0.000000</td>\n",
       "      <td>...</td>\n",
       "      <td>0.000083</td>\n",
       "      <td>0.000097</td>\n",
       "      <td>0.001370</td>\n",
       "      <td>0.003783</td>\n",
       "      <td>0.003698</td>\n",
       "      <td>-0.003132</td>\n",
       "      <td>0.000696</td>\n",
       "      <td>0.005278</td>\n",
       "      <td>-2.272034e-08</td>\n",
       "      <td>-2.272034e-08</td>\n",
       "    </tr>\n",
       "    <tr>\n",
       "      <th>1310887</th>\n",
       "      <td>19084</td>\n",
       "      <td>34615</td>\n",
       "      <td>0</td>\n",
       "      <td>0.000000</td>\n",
       "      <td>0.000000</td>\n",
       "      <td>1</td>\n",
       "      <td>3</td>\n",
       "      <td>0</td>\n",
       "      <td>0.000000</td>\n",
       "      <td>0.000000</td>\n",
       "      <td>...</td>\n",
       "      <td>0.000116</td>\n",
       "      <td>0.000390</td>\n",
       "      <td>-0.006924</td>\n",
       "      <td>0.001014</td>\n",
       "      <td>-0.000319</td>\n",
       "      <td>-0.000547</td>\n",
       "      <td>-0.004139</td>\n",
       "      <td>0.001861</td>\n",
       "      <td>-2.168845e-06</td>\n",
       "      <td>-2.168845e-06</td>\n",
       "    </tr>\n",
       "  </tbody>\n",
       "</table>\n",
       "<p>1310888 rows × 37 columns</p>\n",
       "</div>"
      ],
      "text/plain": [
       "         source_node  destination_node  indicator_link  jaccard_distance  \\\n",
       "0               4355             22522               1          0.060000   \n",
       "1               1018             40836               1          0.000000   \n",
       "2              23456             43522               1          0.081967   \n",
       "3              42865              7776               1          0.006083   \n",
       "4               4560             43332               1          0.000000   \n",
       "...              ...               ...             ...               ...   \n",
       "1310883        17060             12676               0          0.000000   \n",
       "1310884        34900              2860               0          0.000000   \n",
       "1310885        31856             46890               0          0.000000   \n",
       "1310886        48027             43838               0          0.000000   \n",
       "1310887        19084             34615               0          0.000000   \n",
       "\n",
       "         cosine_distances  same_community  shortest_path  Common_neighbors  \\\n",
       "0                0.001225               1              1                12   \n",
       "1                0.000000               1              1                 0   \n",
       "2                0.002646               1              1                10   \n",
       "3                0.000100               1              1                 5   \n",
       "4                0.000000               1              1                 0   \n",
       "...                   ...             ...            ...               ...   \n",
       "1310883          0.000000               1              3                 0   \n",
       "1310884          0.000000               1              3                 0   \n",
       "1310885          0.000000               1              4                 0   \n",
       "1310886          0.000000               1              4                 0   \n",
       "1310887          0.000000               1              3                 0   \n",
       "\n",
       "             adar  Resource_Allocation_Index  ...  svd_v_s_5  svd_v_s_6  \\\n",
       "0        2.476863                   0.102756  ...   0.004544   0.011039   \n",
       "1        0.000000                   0.000000  ...   0.010377   0.021726   \n",
       "2        1.897395                   0.061704  ...  -0.023968   0.009323   \n",
       "3        1.033446                   0.042126  ...   0.000911   0.002441   \n",
       "4        0.000000                   0.000000  ...   0.001889   0.003439   \n",
       "...           ...                        ...  ...        ...        ...   \n",
       "1310883  0.000000                   0.000000  ...   0.000099   0.000144   \n",
       "1310884  0.000000                   0.000000  ...   0.000185   0.000258   \n",
       "1310885  0.000000                   0.000000  ...   0.001753   0.002441   \n",
       "1310886  0.000000                   0.000000  ...   0.000083   0.000097   \n",
       "1310887  0.000000                   0.000000  ...   0.000116   0.000390   \n",
       "\n",
       "         svd_v_d_1  svd_v_d_2  svd_v_d_3  svd_v_d_4  svd_v_d_5  svd_v_d_6  \\\n",
       "0        -0.000188  -0.001349   0.002460   0.001927   0.001555   0.003459   \n",
       "1         0.001278   0.006817   0.004407  -0.005629   0.001436   0.005474   \n",
       "2         0.001428   0.000123  -0.000790  -0.000240  -0.009924   0.003968   \n",
       "3        -0.001002  -0.046248  -0.064426  -0.054000   0.026972   0.043272   \n",
       "4        -0.000228  -0.004575  -0.004771  -0.003572   0.001590   0.002117   \n",
       "...            ...        ...        ...        ...        ...        ...   \n",
       "1310883   0.000116   0.000245  -0.000355   0.000207   0.000078   0.000184   \n",
       "1310884   0.000095  -0.000007  -0.000436  -0.000085   0.000059   0.000259   \n",
       "1310885   0.000001  -0.000004  -0.000011  -0.000005   0.000004   0.000005   \n",
       "1310886   0.001370   0.003783   0.003698  -0.003132   0.000696   0.005278   \n",
       "1310887  -0.006924   0.001014  -0.000319  -0.000547  -0.004139   0.001861   \n",
       "\n",
       "            svd_dot_u     svd_dot_v  \n",
       "0        4.633147e-05  4.633147e-05  \n",
       "1       -1.104014e-04 -1.104014e-04  \n",
       "2        2.373137e-04  2.373137e-04  \n",
       "3        7.769848e-05  7.769848e-05  \n",
       "4        5.641387e-05  5.641387e-05  \n",
       "...               ...           ...  \n",
       "1310883  5.721841e-09  5.721841e-09  \n",
       "1310884  4.328315e-07  4.328315e-07  \n",
       "1310885  1.190505e-07  1.190505e-07  \n",
       "1310886 -2.272034e-08 -2.272034e-08  \n",
       "1310887 -2.168845e-06 -2.168845e-06  \n",
       "\n",
       "[1310888 rows x 37 columns]"
      ]
     },
     "execution_count": 68,
     "metadata": {},
     "output_type": "execute_result"
    }
   ],
   "source": [
    "df_final_train"
   ]
  },
  {
   "cell_type": "code",
   "execution_count": 69,
   "metadata": {
    "ExecuteTime": {
     "end_time": "2022-05-22T03:26:08.260795Z",
     "start_time": "2022-05-22T03:26:08.258441Z"
    },
    "colab": {
     "base_uri": "https://localhost:8080/",
     "height": 272
    },
    "colab_type": "code",
    "id": "5Gm-BHRkHglW",
    "outputId": "3a1e71d2-d1e7-42e0-b0eb-2ae688b6dfeb"
   },
   "outputs": [
    {
     "data": {
      "text/plain": [
       "Index(['source_node', 'destination_node', 'indicator_link', 'jaccard_distance',\n",
       "       'cosine_distances', 'same_community', 'shortest_path',\n",
       "       'Common_neighbors', 'adar', 'Resource_Allocation_Index',\n",
       "       'Preferential_Attachment', 'svd_u_s_1', 'svd_u_s_2', 'svd_u_s_3',\n",
       "       'svd_u_s_4', 'svd_u_s_5', 'svd_u_s_6', 'svd_u_d_1', 'svd_u_d_2',\n",
       "       'svd_u_d_3', 'svd_u_d_4', 'svd_u_d_5', 'svd_u_d_6', 'svd_v_s_1',\n",
       "       'svd_v_s_2', 'svd_v_s_3', 'svd_v_s_4', 'svd_v_s_5', 'svd_v_s_6',\n",
       "       'svd_v_d_1', 'svd_v_d_2', 'svd_v_d_3', 'svd_v_d_4', 'svd_v_d_5',\n",
       "       'svd_v_d_6', 'svd_dot_u', 'svd_dot_v'],\n",
       "      dtype='object')"
      ]
     },
     "execution_count": 69,
     "metadata": {},
     "output_type": "execute_result"
    }
   ],
   "source": [
    "df_final_train.columns"
   ]
  },
  {
   "cell_type": "code",
   "execution_count": 70,
   "metadata": {
    "ExecuteTime": {
     "end_time": "2022-05-22T03:26:08.264573Z",
     "start_time": "2022-05-22T03:26:08.261554Z"
    },
    "colab": {},
    "colab_type": "code",
    "id": "XRW7VZ4AHglc"
   },
   "outputs": [],
   "source": [
    "y_train = df_final_train.indicator_link\n",
    "y_test = df_final_test.indicator_link"
   ]
  },
  {
   "cell_type": "code",
   "execution_count": 71,
   "metadata": {
    "ExecuteTime": {
     "end_time": "2022-05-22T03:26:08.402005Z",
     "start_time": "2022-05-22T03:26:08.265432Z"
    },
    "colab": {},
    "colab_type": "code",
    "id": "4lj9M_qtHglf"
   },
   "outputs": [],
   "source": [
    "df_final_train.drop(['source_node', 'destination_node','indicator_link','svd_u_s_1', 'svd_u_s_2','svd_u_s_3', 'svd_u_s_4', 'svd_u_s_5', 'svd_u_s_6','svd_u_d_1', 'svd_u_d_2', 'svd_u_d_3', 'svd_u_d_4', 'svd_u_d_5','svd_u_d_6','svd_v_s_1','svd_v_s_2', 'svd_v_s_3', 'svd_v_s_4', 'svd_v_s_5', 'svd_v_s_6','svd_v_d_1', 'svd_v_d_2', 'svd_v_d_3', 'svd_v_d_4', 'svd_v_d_5','svd_v_d_6'],axis=1,inplace=True)\n",
    "df_final_test.drop(['source_node', 'destination_node','indicator_link','svd_u_s_1', 'svd_u_s_2','svd_u_s_3', 'svd_u_s_4', 'svd_u_s_5', 'svd_u_s_6','svd_u_d_1', 'svd_u_d_2', 'svd_u_d_3', 'svd_u_d_4', 'svd_u_d_5','svd_u_d_6','svd_v_s_1','svd_v_s_2', 'svd_v_s_3', 'svd_v_s_4', 'svd_v_s_5', 'svd_v_s_6','svd_v_d_1', 'svd_v_d_2', 'svd_v_d_3', 'svd_v_d_4', 'svd_v_d_5','svd_v_d_6'],axis=1,inplace=True)"
   ]
  },
  {
   "cell_type": "code",
   "execution_count": 72,
   "metadata": {
    "ExecuteTime": {
     "end_time": "2022-05-22T03:26:08.404740Z",
     "start_time": "2022-05-22T03:26:08.403017Z"
    },
    "colab": {},
    "colab_type": "code",
    "id": "e3C7QpjofwOh"
   },
   "outputs": [],
   "source": [
    "from sklearn.ensemble import GradientBoostingClassifier\n",
    "from sklearn.model_selection import RandomizedSearchCV\n",
    "from sklearn.metrics import f1_score"
   ]
  },
  {
   "cell_type": "code",
   "execution_count": 73,
   "metadata": {
    "ExecuteTime": {
     "end_time": "2022-05-22T03:44:44.995834Z",
     "start_time": "2022-05-22T03:26:08.405469Z"
    },
    "colab": {
     "base_uri": "https://localhost:8080/",
     "height": 1000
    },
    "colab_type": "code",
    "id": "JslnAvHg7HXU",
    "outputId": "a12197a9-bda5-43b8-e9b3-3d1938212222"
   },
   "outputs": [
    {
     "name": "stdout",
     "output_type": "stream",
     "text": [
      "      Iter       Train Loss   Remaining Time \n",
      "         1           1.1963            2.29m\n",
      "         2           1.0407            3.15m\n",
      "         3           0.9109            2.42m\n",
      "         4           0.8012            2.18m\n",
      "         5           0.7075            2.15m\n",
      "         6           0.6268            3.03m\n",
      "         7           0.5568            3.13m\n",
      "         8           0.4957            2.88m\n",
      "         9           0.4422            2.64m\n",
      "        10           0.3951            2.70m\n",
      "        20           0.1355            1.89m\n",
      "        30           0.0487            2.12m\n",
      "        40           0.0178            1.61m\n",
      "        50           0.0065            1.20m\n",
      "        60           0.0024           51.99s\n",
      "        70           0.0009           36.11s\n",
      "        80           0.0003           22.63s\n",
      "        90           0.0001           10.73s\n",
      "       100           0.0000            0.00s\n",
      "      Iter       Train Loss   Remaining Time \n",
      "         1           1.1963            1.03m\n",
      "         2           1.0407            1.02m\n",
      "         3           0.9109            1.45m\n",
      "         4           0.8012            1.63m\n",
      "         5           0.7075            1.59m\n",
      "         6           0.6268            2.34m\n",
      "         7           0.5568            2.28m\n",
      "         8           0.4957            2.12m\n",
      "         9           0.4422            2.23m\n",
      "        10           0.3951            2.17m\n",
      "        20           0.1355            1.60m\n",
      "        30           0.0487            1.62m\n",
      "        40           0.0178            1.25m\n",
      "        50           0.0065           56.87s\n",
      "        60           0.0024           42.22s\n",
      "        70           0.0009           29.83s\n",
      "        80           0.0003           18.96s\n",
      "        90           0.0001            9.11s\n",
      "       100           0.0000            0.00s\n",
      "      Iter       Train Loss   Remaining Time \n",
      "         1           1.1963            1.04m\n",
      "         2           1.0407            1.03m\n",
      "         3           0.9109            1.78m\n",
      "         4           0.8012            2.19m\n",
      "         5           0.7075            2.07m\n",
      "         6           0.6268            2.27m\n",
      "         7           0.5568            2.21m\n",
      "         8           0.4957            2.18m\n",
      "         9           0.4422            2.61m\n",
      "        10           0.3951            2.42m\n",
      "        20           0.1355            1.64m\n",
      "        30           0.0487            1.43m\n",
      "        40           0.0178            1.19m\n",
      "        50           0.0065           55.75s\n",
      "        60           0.0024           41.25s\n",
      "        70           0.0009           29.15s\n",
      "        80           0.0003           18.55s\n",
      "        90           0.0001            8.91s\n",
      "       100           0.0000            0.00s\n",
      "      Iter       Train Loss   Remaining Time \n",
      "         1           1.1963           12.36s\n",
      "         2           1.0407           15.25s\n",
      "         3           0.9109           10.34s\n",
      "         4           0.8012            8.07s\n",
      "         5           0.7075            6.74s\n",
      "         6           0.6268            7.71s\n",
      "         7           0.5568            6.03s\n",
      "         8           0.4957            3.75s\n",
      "         9           0.4422            1.74s\n",
      "        10           0.3951            0.00s\n",
      "      Iter       Train Loss   Remaining Time \n",
      "         1           1.1963            5.55s\n",
      "         2           1.0407            4.94s\n",
      "         3           0.9109            6.22s\n",
      "         4           0.8012            6.05s\n",
      "         5           0.7075            4.96s\n",
      "         6           0.6268            5.87s\n",
      "         7           0.5568            4.34s\n",
      "         8           0.4957            2.72s\n",
      "         9           0.4422            1.45s\n",
      "        10           0.3951            0.00s\n",
      "      Iter       Train Loss   Remaining Time \n",
      "         1           1.1963            5.52s\n",
      "         2           1.0407            4.91s\n",
      "         3           0.9109            7.40s\n",
      "         4           0.8012            7.96s\n",
      "         5           0.7075            6.37s\n",
      "         6           0.6268            5.68s\n",
      "         7           0.5568            4.20s\n",
      "         8           0.4957            2.80s\n",
      "         9           0.4422            1.69s\n",
      "        10           0.3951            0.00s\n",
      "      Iter       Train Loss   Remaining Time \n",
      "         1           1.1963            2.23m\n",
      "         2           1.0407            2.22m\n",
      "         3           0.9109            1.80m\n",
      "         4           0.8012            1.71m\n",
      "         5           0.7075            1.77m\n",
      "         6           0.6268            2.19m\n",
      "         7           0.5568            2.29m\n",
      "         8           0.4957            2.16m\n",
      "         9           0.4422            2.00m\n",
      "        10           0.3951            2.09m\n",
      "        20           0.1355            1.60m\n",
      "        30           0.0487            1.44m\n",
      "        40           0.0178            1.16m\n",
      "        50           0.0065           53.98s\n",
      "        60           0.0024           40.09s\n",
      "        70           0.0009           28.42s\n",
      "        80           0.0003           18.13s\n",
      "        90           0.0001            8.74s\n",
      "       100           0.0000            0.00s\n",
      "      Iter       Train Loss   Remaining Time \n",
      "         1           1.1963            1.03m\n",
      "         2           1.0407            1.02m\n",
      "         3           0.9109            1.31m\n",
      "         4           0.8012            1.52m\n",
      "         5           0.7075            1.50m\n",
      "         6           0.6268            1.99m\n",
      "         7           0.5568            1.95m\n",
      "         8           0.4957            1.83m\n",
      "         9           0.4422            1.95m\n",
      "        10           0.3951            1.91m\n",
      "        20           0.1355            1.49m\n",
      "        30           0.0487            1.37m\n",
      "        40           0.0178            1.09m\n",
      "        50           0.0065           50.39s\n",
      "        60           0.0024           37.84s\n",
      "        70           0.0009           26.97s\n",
      "        80           0.0003           17.28s\n",
      "        90           0.0001            8.35s\n",
      "       100           0.0000            0.00s\n",
      "      Iter       Train Loss   Remaining Time \n",
      "         1           1.1963            1.01m\n",
      "         2           1.0407           59.82s\n",
      "         3           0.9109            1.28m\n",
      "         4           0.8012            1.80m\n",
      "         5           0.7075            1.76m\n",
      "         6           0.6268            1.99m\n",
      "         7           0.5568            1.97m\n",
      "         8           0.4957            1.97m\n",
      "         9           0.4422            2.00m\n",
      "        10           0.3951            1.88m\n",
      "        20           0.1355            1.39m\n",
      "        30           0.0487            1.21m\n",
      "        40           0.0178            1.04m\n",
      "        50           0.0065           49.96s\n",
      "        60           0.0024           37.44s\n",
      "        70           0.0009           26.69s\n",
      "        80           0.0003           17.11s\n",
      "        90           0.0001            8.28s\n",
      "       100           0.0000            0.00s\n",
      "      Iter       Train Loss   Remaining Time \n",
      "         1           1.1963            2.28m\n",
      "         2           1.0407            2.29m\n",
      "         3           0.9109            1.85m\n",
      "         4           0.8012            1.75m\n",
      "         5           0.7075            1.81m\n",
      "         6           0.6268            2.32m\n",
      "         7           0.5568            2.44m\n",
      "         8           0.4957            2.29m\n",
      "         9           0.4422            2.12m\n",
      "        10           0.3951            2.21m\n",
      "        20           0.1355            1.65m\n",
      "        30           0.0487            1.48m\n",
      "        40           0.0178            1.19m\n",
      "        50           0.0065           55.22s\n",
      "        60           0.0024           40.90s\n",
      "        70           0.0009           28.94s\n",
      "        80           0.0003           18.43s\n",
      "        90           0.0001            8.87s\n",
      "       100           0.0000            0.00s\n",
      "      Iter       Train Loss   Remaining Time \n",
      "         1           1.1963            1.03m\n",
      "         2           1.0407            1.02m\n",
      "         3           0.9109            1.36m\n",
      "         4           0.8012            1.55m\n",
      "         5           0.7075            1.52m\n",
      "         6           0.6268            2.08m\n",
      "         7           0.5568            2.05m\n",
      "         8           0.4957            1.91m\n"
     ]
    },
    {
     "name": "stdout",
     "output_type": "stream",
     "text": [
      "         9           0.4422            2.03m\n",
      "        10           0.3951            1.98m\n",
      "        20           0.1355            1.52m\n",
      "        30           0.0487            1.39m\n",
      "        40           0.0178            1.10m\n",
      "        50           0.0065           50.88s\n",
      "        60           0.0024           38.10s\n",
      "        70           0.0009           27.16s\n",
      "        80           0.0003           17.38s\n",
      "        90           0.0001            8.40s\n",
      "       100           0.0000            0.00s\n",
      "      Iter       Train Loss   Remaining Time \n",
      "         1           1.1963            1.00m\n",
      "         2           1.0407           59.69s\n",
      "         3           0.9109            1.31m\n",
      "         4           0.8012            1.85m\n",
      "         5           0.7075            1.80m\n",
      "         6           0.6268            2.04m\n",
      "         7           0.5568            2.01m\n",
      "         8           0.4957            2.01m\n",
      "         9           0.4422            2.07m\n",
      "        10           0.3951            1.94m\n",
      "        20           0.1355            1.42m\n",
      "        30           0.0487            1.24m\n",
      "        40           0.0178            1.06m\n",
      "        50           0.0065           50.50s\n",
      "        60           0.0024           37.69s\n",
      "        70           0.0009           26.84s\n",
      "        80           0.0003           17.17s\n",
      "        90           0.0001            8.31s\n",
      "       100           0.0000            0.00s\n",
      "      Iter       Train Loss   Remaining Time \n",
      "         1           1.1963            1.13m\n",
      "         2           1.0407            1.20m\n",
      "         3           0.9109           56.55s\n",
      "         4           0.8012           52.42s\n",
      "         5           0.7075           53.51s\n",
      "         6           0.6268            1.29m\n",
      "         7           0.5568            1.34m\n",
      "         8           0.4957            1.22m\n",
      "         9           0.4422            1.11m\n",
      "        10           0.3951            1.13m\n",
      "        20           0.1355           40.53s\n",
      "        30           0.0487           28.43s\n",
      "        40           0.0178           13.07s\n",
      "        50           0.0065            0.00s\n",
      "      Iter       Train Loss   Remaining Time \n",
      "         1           1.1963           30.43s\n",
      "         2           1.0407           29.93s\n",
      "         3           0.9109           41.91s\n",
      "         4           0.8012           46.32s\n",
      "         5           0.7075           44.50s\n",
      "         6           0.6268            1.07m\n",
      "         7           0.5568            1.03m\n",
      "         8           0.4957           56.96s\n",
      "         9           0.4422           59.11s\n",
      "        10           0.3951           56.71s\n",
      "        20           0.1355           35.66s\n",
      "        30           0.0487           25.30s\n",
      "        40           0.0178           11.59s\n",
      "        50           0.0065            0.00s\n",
      "      Iter       Train Loss   Remaining Time \n",
      "         1           1.1963           30.70s\n",
      "         2           1.0407           29.81s\n",
      "         3           0.9109           40.95s\n",
      "         4           0.8012           54.55s\n",
      "         5           0.7075           52.21s\n",
      "         6           0.6268           58.06s\n",
      "         7           0.5568           56.46s\n",
      "         8           0.4957           55.49s\n",
      "         9           0.4422            1.00m\n",
      "        10           0.3951           55.43s\n",
      "        20           0.1355           33.24s\n",
      "        30           0.0487           22.52s\n",
      "        40           0.0178           11.11s\n",
      "        50           0.0065            0.00s\n",
      "      Iter       Train Loss   Remaining Time \n",
      "         1           1.1963            1.56m\n",
      "         2           1.0407            1.55m\n",
      "         3           0.9109            1.54m\n",
      "         4           0.8012            3.11m\n",
      "         5           0.7075            3.04m\n",
      "         6           0.6268            3.64m\n",
      "         7           0.5568            3.29m\n",
      "         8           0.4957            3.18m\n",
      "         9           0.4422            3.10m\n",
      "        10           0.3951            2.98m\n",
      "        20           0.1355            2.19m\n",
      "        30           0.0487            2.05m\n",
      "        40           0.0178            1.59m\n",
      "        50           0.0065            1.29m\n",
      "        60           0.0024           58.16s\n",
      "        70           0.0009           41.50s\n",
      "        80           0.0003           26.58s\n",
      "        90           0.0001           12.85s\n",
      "       100           0.0000            0.00s\n",
      "mean test scores [1. 1. 1. 1. 1.]\n"
     ]
    }
   ],
   "source": [
    "param_dist = {\"n_estimators\":[10,50,100,250],\n",
    "              \"max_depth\": [3,9,11,15,20,35,50,70,130]}\n",
    "\n",
    "clf = GradientBoostingClassifier(random_state=25,verbose=1)\n",
    "\n",
    "rf_random = RandomizedSearchCV(clf, param_distributions=param_dist,\n",
    "                                   n_iter=5,cv=3,scoring='f1',random_state=25)\n",
    "\n",
    "rf_random.fit(df_final_train,y_train)\n",
    "print('mean test scores',rf_random.cv_results_['mean_test_score'])"
   ]
  },
  {
   "cell_type": "code",
   "execution_count": 74,
   "metadata": {
    "ExecuteTime": {
     "end_time": "2022-05-22T03:44:44.998748Z",
     "start_time": "2022-05-22T03:44:44.996588Z"
    },
    "colab": {
     "base_uri": "https://localhost:8080/",
     "height": 199
    },
    "colab_type": "code",
    "id": "_CDAjM-6jSI-",
    "outputId": "29ce0bd3-8fab-416f-f567-8e67720b01a1"
   },
   "outputs": [
    {
     "name": "stdout",
     "output_type": "stream",
     "text": [
      "GradientBoostingClassifier(max_depth=70, random_state=25, verbose=1)\n"
     ]
    }
   ],
   "source": [
    "print(rf_random.best_estimator_)"
   ]
  },
  {
   "cell_type": "code",
   "execution_count": 75,
   "metadata": {
    "ExecuteTime": {
     "end_time": "2022-05-22T03:44:45.002916Z",
     "start_time": "2022-05-22T03:44:45.000497Z"
    },
    "colab": {},
    "colab_type": "code",
    "id": "Ej1T_9cgjSJW"
   },
   "outputs": [],
   "source": [
    "clf = rf_random.best_estimator_"
   ]
  },
  {
   "cell_type": "code",
   "execution_count": 76,
   "metadata": {
    "ExecuteTime": {
     "end_time": "2022-05-22T03:46:52.368400Z",
     "start_time": "2022-05-22T03:44:45.003783Z"
    },
    "colab": {
     "base_uri": "https://localhost:8080/",
     "height": 381
    },
    "colab_type": "code",
    "id": "_ID0qJrqjSJe",
    "outputId": "00603288-27d7-400f-c5eb-752b505ad2c2"
   },
   "outputs": [
    {
     "name": "stdout",
     "output_type": "stream",
     "text": [
      "      Iter       Train Loss   Remaining Time \n",
      "         1           1.1963            1.62m\n",
      "         2           1.0407            1.58m\n",
      "         3           0.9109            1.56m\n",
      "         4           0.8012            3.14m\n",
      "         5           0.7075            3.07m\n",
      "         6           0.6268            3.67m\n",
      "         7           0.5568            3.32m\n",
      "         8           0.4957            3.21m\n",
      "         9           0.4422            3.13m\n",
      "        10           0.3951            3.00m\n",
      "        20           0.1355            2.21m\n",
      "        30           0.0487            2.08m\n",
      "        40           0.0178            1.61m\n",
      "        50           0.0065            1.31m\n",
      "        60           0.0024           58.85s\n",
      "        70           0.0009           41.94s\n",
      "        80           0.0003           26.87s\n",
      "        90           0.0001           12.99s\n",
      "       100           0.0000            0.00s\n"
     ]
    }
   ],
   "source": [
    "clf.fit(df_final_train,y_train)\n",
    "y_train_pred = clf.predict(df_final_train)\n",
    "y_test_pred = clf.predict(df_final_test)"
   ]
  },
  {
   "cell_type": "code",
   "execution_count": 77,
   "metadata": {
    "ExecuteTime": {
     "end_time": "2022-05-22T03:46:52.581634Z",
     "start_time": "2022-05-22T03:46:52.369223Z"
    },
    "colab": {
     "base_uri": "https://localhost:8080/",
     "height": 54
    },
    "colab_type": "code",
    "id": "IWRglqB6jSKQ",
    "outputId": "ae766ea9-c8fe-42e3-f461-bde33f6f8b79"
   },
   "outputs": [
    {
     "name": "stdout",
     "output_type": "stream",
     "text": [
      "Train f1 score 1.0\n",
      "Test f1 score 0.8581960330705205\n"
     ]
    }
   ],
   "source": [
    "from sklearn.metrics import f1_score\n",
    "print('Train f1 score',f1_score(y_train,y_train_pred))\n",
    "print('Test f1 score',f1_score(y_test,y_test_pred))"
   ]
  },
  {
   "cell_type": "code",
   "execution_count": 78,
   "metadata": {
    "ExecuteTime": {
     "end_time": "2022-05-22T03:46:52.586239Z",
     "start_time": "2022-05-22T03:46:52.584772Z"
    }
   },
   "outputs": [],
   "source": [
    "# f = open(\"./results/GBDT_f1_transposed.csv\", \"a\")\n",
    "# f.write(str(f1_score(y_test,y_test_pred)))\n",
    "# if not args.PCA:\n",
    "#     f.write('\\n')\n",
    "# else:\n",
    "#     f.write(',')\n",
    "# f.close()"
   ]
  },
  {
   "cell_type": "code",
   "execution_count": 79,
   "metadata": {
    "ExecuteTime": {
     "end_time": "2022-05-22T03:46:52.592446Z",
     "start_time": "2022-05-22T03:46:52.587323Z"
    },
    "colab": {},
    "colab_type": "code",
    "id": "QFx8A0_djSKZ"
   },
   "outputs": [],
   "source": [
    "from sklearn.metrics import confusion_matrix\n",
    "def plot_confusion_matrix(test_y, predict_y, split):\n",
    "    C = confusion_matrix(test_y, predict_y)\n",
    "    \n",
    "    A =(((C.T)/(C.sum(axis=1))).T)\n",
    "    \n",
    "    B =(C/C.sum(axis=0))\n",
    "    plt.figure(figsize=(20,4))\n",
    "    \n",
    "    labels = [0,1]\n",
    "    # representing A in heatmap format\n",
    "    sns.set()\n",
    "    cmap=sns.light_palette(\"blue\")\n",
    "    plt.subplot(1, 3, 1)\n",
    "    sns.heatmap(C, annot=True, cmap=cmap, fmt=\".3f\", xticklabels=labels, yticklabels=labels)\n",
    "    plt.xlabel('Predicted Class')\n",
    "    plt.ylabel('Original Class')\n",
    "    plt.title(\"Confusion matrix\")\n",
    "    \n",
    "    plt.subplot(1, 3, 2)\n",
    "    sns.heatmap(B, annot=True, cmap=cmap, fmt=\".3f\", xticklabels=labels, yticklabels=labels)\n",
    "    plt.xlabel('Predicted Class')\n",
    "    plt.ylabel('Original Class')\n",
    "    plt.title(\"Precision matrix\")\n",
    "    \n",
    "    plt.subplot(1, 3, 3)\n",
    "    # representing B in heatmap format\n",
    "    sns.heatmap(A, annot=True, cmap=cmap, fmt=\".3f\", xticklabels=labels, yticklabels=labels)\n",
    "    plt.xlabel('Predicted Class')\n",
    "    plt.ylabel('Original Class')\n",
    "    plt.title(\"Recall matrix\")\n",
    "    \n",
    "    plt.savefig(f\"./results/{PCAornot}/{genre}/GBDT/{split}_confusion_matrix.png\")\n",
    "#     plt.show()"
   ]
  },
  {
   "cell_type": "code",
   "execution_count": 80,
   "metadata": {
    "ExecuteTime": {
     "end_time": "2022-05-22T03:46:53.289916Z",
     "start_time": "2022-05-22T03:46:52.593350Z"
    },
    "colab": {
     "base_uri": "https://localhost:8080/",
     "height": 641
    },
    "colab_type": "code",
    "id": "qYsVP-_7jSKh",
    "outputId": "1aaf526b-76b8-4fb9-fc97-74c961f1ebc6"
   },
   "outputs": [
    {
     "name": "stdout",
     "output_type": "stream",
     "text": [
      "Train confusion_matrix\n",
      "Test confusion_matrix\n"
     ]
    },
    {
     "data": {
      "image/png": "[encoded data removed]",
      "text/plain": [
       "<Figure size 1440x288 with 6 Axes>"
      ]
     },
     "metadata": {
      "needs_background": "light"
     },
     "output_type": "display_data"
    },
    {
     "data": {
      "image/png": "[encoded data removed]",
      "text/plain": [
       "<Figure size 1440x288 with 6 Axes>"
      ]
     },
     "metadata": {},
     "output_type": "display_data"
    }
   ],
   "source": [
    "print('Train confusion_matrix')\n",
    "plot_confusion_matrix(y_train,y_train_pred,'Train')\n",
    "print('Test confusion_matrix')\n",
    "plot_confusion_matrix(y_test,y_test_pred,'Test')"
   ]
  },
  {
   "cell_type": "code",
   "execution_count": 81,
   "metadata": {
    "ExecuteTime": {
     "end_time": "2022-05-22T03:46:53.412735Z",
     "start_time": "2022-05-22T03:46:53.290737Z"
    },
    "colab": {
     "base_uri": "https://localhost:8080/",
     "height": 301
    },
    "colab_type": "code",
    "id": "573IughTjSKq",
    "outputId": "26110ae8-6861-410f-d054-e41f40d620c8"
   },
   "outputs": [
    {
     "data": {
      "image/png": "[encoded data removed]",
      "text/plain": [
       "<Figure size 432x288 with 1 Axes>"
      ]
     },
     "metadata": {},
     "output_type": "display_data"
    }
   ],
   "source": [
    "from sklearn.metrics import roc_curve, auc\n",
    "fpr,tpr,ths = roc_curve(y_test,y_test_pred)\n",
    "auc_sc = auc(fpr, tpr)\n",
    "plt.figure()\n",
    "plt.plot(fpr, tpr, color='navy',label='ROC curve (area = %0.2f)' % auc_sc)\n",
    "plt.xlabel('False Positive Rate')\n",
    "plt.ylabel('True Positive Rate')\n",
    "plt.title('Receiver operating characteristic with test data')\n",
    "plt.legend()\n",
    "plt.savefig(f\"./results/{PCAornot}/{genre}/GBDT/roc_curve.png\")\n",
    "# plt.show()"
   ]
  },
  {
   "cell_type": "code",
   "execution_count": 82,
   "metadata": {
    "ExecuteTime": {
     "end_time": "2022-05-22T03:46:53.544732Z",
     "start_time": "2022-05-22T03:46:53.413498Z"
    },
    "colab": {
     "base_uri": "https://localhost:8080/",
     "height": 736
    },
    "colab_type": "code",
    "id": "RR8rjOU3jSK1",
    "outputId": "7adcc055-6a4f-4754-b04f-51533c7cceb4",
    "scrolled": true
   },
   "outputs": [
    {
     "data": {
      "image/png": "[encoded data removed]",
      "text/plain": [
       "<Figure size 720x864 with 1 Axes>"
      ]
     },
     "metadata": {},
     "output_type": "display_data"
    }
   ],
   "source": [
    "features = df_final_train.columns\n",
    "importances = clf.feature_importances_\n",
    "indices = (np.argsort(importances))[-25:]\n",
    "plt.figure(figsize=(10,12))\n",
    "plt.title('Feature Importances')\n",
    "plt.barh(range(len(indices)), importances[indices], color='r', align='center')\n",
    "plt.yticks(range(len(indices)), [features[i] for i in indices])\n",
    "plt.xlabel('Relative Importance')\n",
    "plt.savefig(f\"./results/{PCAornot}/{genre}/GBDT/importance.png\")\n",
    "# plt.show()"
   ]
  }
 ],
 "metadata": {
  "colab": {
   "name": "Facebook Link Prediction.ipynb",
   "provenance": []
  },
  "kernelspec": {
   "display_name": "Python 3 (ipykernel)",
   "language": "python",
   "name": "python3"
  },
  "language_info": {
   "codemirror_mode": {
    "name": "ipython",
    "version": 3
   },
   "file_extension": ".py",
   "mimetype": "text/x-python",
   "name": "python",
   "nbconvert_exporter": "python",
   "pygments_lexer": "ipython3",
   "version": "3.9.11"
  },
  "toc": {
   "base_numbering": 1,
   "nav_menu": {},
   "number_sections": false,
   "sideBar": true,
   "skip_h1_title": false,
   "title_cell": "Table of Contents",
   "title_sidebar": "Contents",
   "toc_cell": false,
   "toc_position": {
    "height": "calc(100% - 180px)",
    "left": "10px",
    "top": "150px",
    "width": "393.075px"
   },
   "toc_section_display": true,
   "toc_window_display": true
  },
  "varInspector": {
   "cols": {
    "lenName": 16,
    "lenType": 16,
    "lenVar": 40
   },
   "kernels_config": {
    "python": {
     "delete_cmd_postfix": "",
     "delete_cmd_prefix": "del ",
     "library": "var_list.py",
     "varRefreshCmd": "print(var_dic_list())"
    },
    "r": {
     "delete_cmd_postfix": ") ",
     "delete_cmd_prefix": "rm(",
     "library": "var_list.r",
     "varRefreshCmd": "cat(var_dic_list()) "
    }
   },
   "types_to_exclude": [
    "module",
    "function",
    "builtin_function_or_method",
    "instance",
    "_Feature"
   ],
   "window_display": false
  }
 },
 "nbformat": 4,
 "nbformat_minor": 1
}
