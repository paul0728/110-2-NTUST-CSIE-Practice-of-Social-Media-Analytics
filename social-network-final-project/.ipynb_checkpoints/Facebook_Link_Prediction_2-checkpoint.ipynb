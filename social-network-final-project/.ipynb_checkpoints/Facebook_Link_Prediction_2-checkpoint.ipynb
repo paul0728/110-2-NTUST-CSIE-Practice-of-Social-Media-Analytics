{
 "cells": [
  {
   "cell_type": "markdown",
   "metadata": {
    "colab_type": "text",
    "id": "6DcrjFhQfqRv"
   },
   "source": [
    "<p style=\"font-size:32px;text-align:center\"> <b>Social network Graph Link Prediction - Facebook Challenge</b> </p>"
   ]
  },
  {
   "cell_type": "markdown",
   "metadata": {
    "colab_type": "text",
    "id": "Zplv4ujKfqRy"
   },
   "source": [
    "### Problem statement: \n",
    "Given a undirected social graph, have to predict missing links to recommend users (Link Prediction in graph)"
   ]
  },
  {
   "cell_type": "markdown",
   "metadata": {
    "colab_type": "text",
    "id": "oaYMSg3CfqR0"
   },
   "source": [
    "### Mapping the problem into supervised learning problem:\n",
    "- Generated training samples of good and bad links from given directed graph and for each link got some features like no of followers, is he followed back, page rank, katz score, adar index, some svd fetures of adj matrix, some weight features etc. and trained ml model based on these features to predict link. \n",
    "- Some reference papers and videos :  \n",
    "    - https://www.cs.cornell.edu/home/kleinber/link-pred.pdf\n",
    "    - https://www3.nd.edu/~dial/publications/lichtenwalter2010new.pdf\n",
    "    - https://kaggle2.blob.core.windows.net/forum-message-attachments/2594/supervised_link_prediction.pdf\n",
    "    - https://www.youtube.com/watch?v=2M77Hgy17cg"
   ]
  },
  {
   "cell_type": "markdown",
   "metadata": {
    "colab_type": "text",
    "id": "zkvhIo6hfqR1"
   },
   "source": [
    "### Business objectives and constraints:  \n",
    "- No low-latency requirement.\n",
    "- Probability of prediction is useful to recommend highest probability links"
   ]
  },
  {
   "cell_type": "markdown",
   "metadata": {
    "colab_type": "text",
    "id": "SpDe4qR7fqR2"
   },
   "source": [
    "### Performance metric for supervised learning:  \n",
    "- Both precision and recall is important so F1 score is good choice\n",
    "- Confusion matrix"
   ]
  },
  {
   "cell_type": "markdown",
   "metadata": {},
   "source": [
    "# 在map feature 時,盡量不使用dic,節省記憶體空間之版本(可在所有dataset上執行)"
   ]
  },
  {
   "cell_type": "code",
   "execution_count": 86,
   "metadata": {
    "ExecuteTime": {
     "end_time": "2022-05-28T12:07:32.724315Z",
     "start_time": "2022-05-28T12:07:32.721258Z"
    },
    "colab": {},
    "colab_type": "code",
    "id": "1nUCUHsBfqR3"
   },
   "outputs": [],
   "source": [
    "#Importing Libraries\n",
    "# please do go through this python notebook: \n",
    "import warnings\n",
    "warnings.filterwarnings(\"ignore\")\n",
    "\n",
    "import csv\n",
    "import pandas as pd#pandas to create small DataFrames \n",
    "import datetime #Convert to unix time\n",
    "import time #Convert to unix time\n",
    "# if numpy is not installed already : pip3 install numpy\n",
    "import numpy as np#Do aritmetic operations on arrays\n",
    "# matplotlib: used to plot graphs\n",
    "import matplotlib\n",
    "import matplotlib.pylab as plt\n",
    "import seaborn as sns#Plots\n",
    "from matplotlib import rcParams#Size of plots  \n",
    "from sklearn.cluster import MiniBatchKMeans, KMeans#Clustering\n",
    "import math\n",
    "import pickle\n",
    "import os\n",
    "import os.path\n",
    "import shutil\n",
    "# to install xgboost: pip3 install xgboost\n",
    "import xgboost as xgb\n",
    "import warnings\n",
    "import networkx as nx\n",
    "import pdb\n",
    "from argparse import ArgumentParser, Namespace\n",
    "import random\n",
    "random.seed(25)\n",
    "\n"
   ]
  },
  {
   "cell_type": "code",
   "execution_count": 87,
   "metadata": {
    "ExecuteTime": {
     "end_time": "2022-05-28T12:07:32.729553Z",
     "start_time": "2022-05-28T12:07:32.725393Z"
    }
   },
   "outputs": [
    {
     "name": "stdout",
     "output_type": "stream",
     "text": [
      "True\n",
      "./gemsec_facebook_dataset/facebook_clean_data/tvshow_edges.csv\n"
     ]
    }
   ],
   "source": [
    "def parse_args() -> Namespace:\n",
    "    parser = ArgumentParser()\n",
    "    parser.add_argument('--PCA', help='Whether to do PCA.',action='store_true')\n",
    "    parser.add_argument('--dataset_path', help='Path of the dataset to be used.',default='./gemsec_facebook_dataset/facebook_clean_data/tvshow_edges.csv')\n",
    "\n",
    "    args = parser.parse_args(args=['--PCA',\\\n",
    "                                  '--dataset_path','./gemsec_facebook_dataset/facebook_clean_data/tvshow_edges.csv'])\n",
    " \n",
    "    \n",
    "    #     args = parser.parse_args()\n",
    "    \n",
    "    return args\n",
    "\n",
    "\n",
    "args = parse_args()    \n",
    "\n",
    "if args.PCA:\n",
    "    PCAornot='PCA'\n",
    "else:\n",
    "    PCAornot='noPCA'\n",
    "    \n",
    "base_name=os.path.basename(args.dataset_path)\n",
    "\n",
    "genre=base_name.split('.')[0].split('_')\n",
    "genre.pop()\n",
    "genre=\"_\".join(genre)\n",
    "\n",
    "print(args.PCA)\n",
    "print(args.dataset_path)"
   ]
  },
  {
   "cell_type": "code",
   "execution_count": 88,
   "metadata": {
    "ExecuteTime": {
     "end_time": "2022-05-28T12:07:32.732062Z",
     "start_time": "2022-05-28T12:07:32.730283Z"
    }
   },
   "outputs": [],
   "source": [
    "# 建立data資料夾\n",
    "os.makedirs(f'./data/{genre}/after_eda', exist_ok=True)\n",
    "os.makedirs(f'./data/{genre}/fea_sample/other_features', exist_ok=True)\n"
   ]
  },
  {
   "cell_type": "code",
   "execution_count": 89,
   "metadata": {
    "ExecuteTime": {
     "end_time": "2022-05-28T12:07:32.734902Z",
     "start_time": "2022-05-28T12:07:32.733176Z"
    }
   },
   "outputs": [],
   "source": [
    "#建立results資料夾\n",
    "os.makedirs(f\"./results/{PCAornot}/{genre}/RandomForest\", exist_ok=True)\n",
    "os.makedirs(f\"./results/{PCAornot}/{genre}/GBDT\", exist_ok=True)"
   ]
  },
  {
   "cell_type": "code",
   "execution_count": 90,
   "metadata": {
    "ExecuteTime": {
     "end_time": "2022-05-28T12:07:32.786812Z",
     "start_time": "2022-05-28T12:07:32.735731Z"
    },
    "colab": {},
    "colab_type": "code",
    "id": "6sABWkpYfqR7",
    "outputId": "0310d4f8-08eb-4b38-ca03-33a32ab520a1"
   },
   "outputs": [
    {
     "name": "stdout",
     "output_type": "stream",
     "text": [
      "Empty DataFrame\n",
      "Columns: [node_1, node_2]\n",
      "Index: []\n",
      "<class 'pandas.core.frame.DataFrame'>\n",
      "RangeIndex: 17262 entries, 0 to 17261\n",
      "Data columns (total 2 columns):\n",
      " #   Column  Non-Null Count  Dtype\n",
      "---  ------  --------------  -----\n",
      " 0   node_1  17262 non-null  int64\n",
      " 1   node_2  17262 non-null  int64\n",
      "dtypes: int64(2)\n",
      "memory usage: 269.8 KB\n",
      "None\n",
      "Number of duplicate entries:  0\n",
      "saved the graph into file\n",
      "Graph with 3892 nodes and 17262 edges\n"
     ]
    }
   ],
   "source": [
    "#reading graph\n",
    "if not os.path.isfile(f'./data/{genre}/after_eda/train_woheader.csv'):\n",
    "    traincsv = pd.read_csv(args.dataset_path)\n",
    "    print(traincsv[traincsv.isna().any(1)])\n",
    "    print(traincsv.info())\n",
    "    print(\"Number of duplicate entries: \",sum(traincsv.duplicated()))\n",
    "    print(\"saved the graph into file\")\n",
    "    traincsv.to_csv(f'./data/{genre}/after_eda/train_woheader.csv',header=False,index=False)\n",
    "    g=nx.read_edgelist(f'./data/{genre}/after_eda/train_woheader.csv',delimiter=',',create_using=nx.Graph(),nodetype=int)\n",
    "        \n",
    "    print(nx.info(g))\n",
    "else:\n",
    "    g=nx.read_edgelist(f'./data/{genre}/after_eda/train_woheader.csv',delimiter=',',create_using=nx.Graph(),nodetype=int)\n",
    "    print(nx.info(g))"
   ]
  },
  {
   "cell_type": "code",
   "execution_count": 91,
   "metadata": {
    "ExecuteTime": {
     "end_time": "2022-05-28T12:07:32.789129Z",
     "start_time": "2022-05-28T12:07:32.787668Z"
    }
   },
   "outputs": [],
   "source": [
    "# print(sorted(list(g.nodes)))"
   ]
  },
  {
   "cell_type": "markdown",
   "metadata": {
    "colab_type": "text",
    "id": "9BsSAM7IfqR_"
   },
   "source": [
    "> Displaying a sub graph"
   ]
  },
  {
   "cell_type": "code",
   "execution_count": 92,
   "metadata": {
    "ExecuteTime": {
     "end_time": "2022-05-28T12:07:32.791238Z",
     "start_time": "2022-05-28T12:07:32.789767Z"
    },
    "colab": {},
    "colab_type": "code",
    "id": "Yt3jj1rWfqSA",
    "outputId": "bce4fd1b-471a-4b91-94a7-f3a8cf13ed7e"
   },
   "outputs": [],
   "source": [
    "# if not os.path.isfile('train_woheader_sample.csv'):\n",
    "#     pd.read_csv('./gemsec_facebook_dataset/facebook_clean_data/tvshow_edges.csv', nrows=50).to_csv('train_woheader_sample.csv',header=False,index=False)\n",
    "    \n",
    "# subgraph=nx.read_edgelist('train_woheader_sample.csv',delimiter=',',create_using=nx.Graph(),nodetype=int)\n",
    "# # https://stackoverflow.com/questions/9402255/drawing-a-huge-graph-with-networkx-and-matplotlib\n",
    "\n",
    "# pos=nx.spring_layout(subgraph)\n",
    "# nx.draw(subgraph,pos,node_color='#A0CBE2',edge_color='#00bb5e',width=1,edge_cmap=plt.cm.Blues,with_labels=True)\n",
    "# plt.savefig(\"graph_sample.pdf\")\n",
    "# print(nx.info(subgraph))"
   ]
  },
  {
   "cell_type": "markdown",
   "metadata": {
    "colab_type": "text",
    "id": "NnwpxkINfqSD"
   },
   "source": [
    "# 1. Exploratory data Analysis"
   ]
  },
  {
   "cell_type": "code",
   "execution_count": 93,
   "metadata": {
    "ExecuteTime": {
     "end_time": "2022-05-28T12:07:32.793624Z",
     "start_time": "2022-05-28T12:07:32.791824Z"
    },
    "colab": {},
    "colab_type": "code",
    "id": "4n4PAdf1fqSE",
    "outputId": "0af66c81-38a8-468c-9bb6-941797469002"
   },
   "outputs": [],
   "source": [
    "# # No of Unique persons \n",
    "# print(\"The number of unique persons\",len(g.nodes()))"
   ]
  },
  {
   "cell_type": "markdown",
   "metadata": {
    "colab_type": "text",
    "id": "TGIr9SeafqSH"
   },
   "source": [
    "## 1.1 No of neighbors for each person"
   ]
  },
  {
   "cell_type": "code",
   "execution_count": 94,
   "metadata": {
    "ExecuteTime": {
     "end_time": "2022-05-28T12:07:32.796097Z",
     "start_time": "2022-05-28T12:07:32.794751Z"
    },
    "colab": {},
    "colab_type": "code",
    "id": "SO2fHSN8fqSI",
    "outputId": "1fb4a1de-31d3-45e0-f54a-c0c9361ee270"
   },
   "outputs": [],
   "source": [
    "# degree_dist = list(dict(g.degree()).values())\n",
    "\n",
    "# degree_dist.sort()\n",
    "\n",
    "# plt.figure(figsize=(10,6))\n",
    "# plt.plot(degree_dist)\n",
    "# plt.xlabel('Index No')\n",
    "# plt.ylabel('No Of neighbors')\n",
    "# plt.show()"
   ]
  },
  {
   "cell_type": "code",
   "execution_count": 95,
   "metadata": {
    "ExecuteTime": {
     "end_time": "2022-05-28T12:07:32.798230Z",
     "start_time": "2022-05-28T12:07:32.796870Z"
    },
    "colab": {},
    "colab_type": "code",
    "id": "KB5gmQeEfqSP",
    "outputId": "f2e34b14-b93f-4ef0-df75-41dcd5b7732e"
   },
   "outputs": [],
   "source": [
    "# plt.boxplot(degree_dist)\n",
    "# plt.ylabel('No Of neighbors')\n",
    "# plt.show()"
   ]
  },
  {
   "cell_type": "code",
   "execution_count": 96,
   "metadata": {
    "ExecuteTime": {
     "end_time": "2022-05-28T12:07:32.800455Z",
     "start_time": "2022-05-28T12:07:32.799045Z"
    },
    "colab": {},
    "colab_type": "code",
    "id": "NlqNTbvBfqSV",
    "outputId": "67e61567-edda-43fa-e795-3a08e4ea0606"
   },
   "outputs": [],
   "source": [
    "# ### 90-100 percentile\n",
    "# for i in range(0,11):\n",
    "#     print(90+i,'percentile value is',np.percentile(degree_dist,90+i))"
   ]
  },
  {
   "cell_type": "markdown",
   "metadata": {
    "colab_type": "text",
    "id": "8poopx4SfqSY"
   },
   "source": [
    "99% of data having followers of 40 only."
   ]
  },
  {
   "cell_type": "code",
   "execution_count": 97,
   "metadata": {
    "ExecuteTime": {
     "end_time": "2022-05-28T12:07:32.802624Z",
     "start_time": "2022-05-28T12:07:32.801198Z"
    },
    "colab": {},
    "colab_type": "code",
    "id": "T39h02gjfqSY",
    "outputId": "47c5983e-8441-49e6-ad0d-c192e236f7e7"
   },
   "outputs": [],
   "source": [
    "# ### 99-100 percentile\n",
    "# for i in range(10,110,10):\n",
    "#     print(99+(i/100),'percentile value is',np.percentile(degree_dist,99+(i/100)))"
   ]
  },
  {
   "cell_type": "code",
   "execution_count": 98,
   "metadata": {
    "ExecuteTime": {
     "end_time": "2022-05-28T12:07:32.804831Z",
     "start_time": "2022-05-28T12:07:32.803374Z"
    },
    "colab": {},
    "colab_type": "code",
    "id": "HUC-l4ecfqSc",
    "outputId": "aabd357c-e104-4653-c6cb-9463b4d7b586"
   },
   "outputs": [],
   "source": [
    "# %matplotlib inline\n",
    "# sns.set_style('ticks')\n",
    "# fig, ax = plt.subplots()\n",
    "# fig.set_size_inches(11.7, 8.27)\n",
    "# sns.distplot(degree_dist, color='#16A085')\n",
    "# plt.xlabel('PDF of degree')\n",
    "# sns.despine()\n",
    "# #plt.show()"
   ]
  },
  {
   "cell_type": "code",
   "execution_count": 99,
   "metadata": {
    "ExecuteTime": {
     "end_time": "2022-05-28T12:07:32.807228Z",
     "start_time": "2022-05-28T12:07:32.805659Z"
    },
    "colab": {},
    "colab_type": "code",
    "id": "F43xaOxXfqTb",
    "outputId": "3d2669e3-0831-4deb-b336-4dcbbeded3af"
   },
   "outputs": [],
   "source": [
    "# print('No of persons having neighbor less than 10 are',np.sum(np.array(degree_dist)<10))"
   ]
  },
  {
   "cell_type": "code",
   "execution_count": 100,
   "metadata": {
    "ExecuteTime": {
     "end_time": "2022-05-28T12:07:32.809208Z",
     "start_time": "2022-05-28T12:07:32.807890Z"
    },
    "colab": {},
    "colab_type": "code",
    "id": "5_UQN2TWfqTf",
    "outputId": "40f692bf-6aee-475d-af5c-4b1277523fbf",
    "scrolled": true
   },
   "outputs": [],
   "source": [
    "# print('No of connected components',len(list(nx.connected_components(g))))\n",
    "# count=0\n",
    "# for i in list(nx.connected_components(g)):\n",
    "#     if len(i)==2:\n",
    "#         count+=1\n",
    "# print('connected components with 2 nodes',count)"
   ]
  },
  {
   "cell_type": "markdown",
   "metadata": {
    "colab_type": "text",
    "id": "HhiIapmZfqTm"
   },
   "source": [
    "# 2. Posing a problem as classification problem "
   ]
  },
  {
   "cell_type": "markdown",
   "metadata": {
    "colab_type": "text",
    "id": "3mwSAo4DfqTn"
   },
   "source": [
    "## 2.1 Generating some edges which are not present in graph for supervised learning  \n",
    "Generated Bad links from graph which are not in graph and whose shortest path is greater than 2. "
   ]
  },
  {
   "cell_type": "code",
   "execution_count": 101,
   "metadata": {
    "ExecuteTime": {
     "end_time": "2022-05-28T12:07:33.850872Z",
     "start_time": "2022-05-28T12:07:32.809945Z"
    },
    "colab": {},
    "colab_type": "code",
    "id": "ALnbFILsfqT5",
    "outputId": "a4315b29-bfb9-498e-9360-b4bf2f716b0e",
    "scrolled": true
   },
   "outputs": [],
   "source": [
    "##generating bad edges from given graph\n",
    "\n",
    "if not os.path.isfile(f'./data/{genre}/after_eda/missing_edges_final.p'):\n",
    "    #getting all set of edges\n",
    "    r = csv.reader(open(f'./data/{genre}/after_eda/train_woheader.csv','r'))\n",
    "    edges = dict()\n",
    "    for edge in r:\n",
    "        edges[(int(edge[0]), int(edge[1]))] = 1\n",
    "        \n",
    "    missing_edges = set([])\n",
    "    g_edges_num=len(g.edges)\n",
    "    g_nodes_num=len(g.nodes)\n",
    "    while (len(missing_edges)<g_edges_num):\n",
    "        a=random.randint(0,g_nodes_num-1)\n",
    "        b=random.randint(0,g_nodes_num-1)\n",
    "        tmp = edges.get((a,b),-1)\n",
    "        if tmp == -1 and a!=b:\n",
    "            try:\n",
    "                if nx.shortest_path_length(g,source=a,target=b) > 2: \n",
    "\n",
    "                    missing_edges.add((a,b))\n",
    "                else:\n",
    "                    continue  \n",
    "            except:  \n",
    "                    missing_edges.add((a,b))\n",
    "            missing_edges.add((a,b))\n",
    "        else:\n",
    "            continue\n",
    "#         print(len(missing_edges))\n",
    "    pickle.dump(missing_edges,open(f'./data/{genre}/after_eda/missing_edges_final.p','wb'))\n",
    "else:\n",
    "    missing_edges = pickle.load(open(f'./data/{genre}/after_eda/missing_edges_final.p','rb'))"
   ]
  },
  {
   "cell_type": "code",
   "execution_count": 102,
   "metadata": {
    "ExecuteTime": {
     "end_time": "2022-05-28T12:07:33.853582Z",
     "start_time": "2022-05-28T12:07:33.851828Z"
    }
   },
   "outputs": [],
   "source": [
    "# #getting all set of edges\n",
    "# r = csv.reader(open(f'./data/{genre}/after_eda/train_woheader.csv','r'))\n",
    "# edges = dict()\n",
    "# for edge in r:\n",
    "#     edges[(int(edge[0]), int(edge[1]))] = 1\n",
    "\n",
    "# missing_edges = set([])\n",
    "# g_edges_num=len(g.edges)\n",
    "# g_nodes_num=len(g.nodes)\n",
    "# while (len(missing_edges)<g_edges_num):\n",
    "#     a=random.randint(0,g_nodes_num-1)\n",
    "#     b=random.randint(0,g_nodes_num-1)\n",
    "#     tmp = edges.get((a,b),-1)\n",
    "#     if tmp == -1 and a!=b:\n",
    "#         missing_edges.add((a,b))\n",
    "#     else:\n",
    "#         continue\n"
   ]
  },
  {
   "cell_type": "code",
   "execution_count": 103,
   "metadata": {
    "ExecuteTime": {
     "end_time": "2022-05-28T12:07:33.856367Z",
     "start_time": "2022-05-28T12:07:33.854287Z"
    },
    "colab": {},
    "colab_type": "code",
    "id": "b-Y3LqXUfqT8",
    "outputId": "9919a64d-bff7-43be-c88e-469197091346"
   },
   "outputs": [
    {
     "data": {
      "text/plain": [
       "17262"
      ]
     },
     "execution_count": 103,
     "metadata": {},
     "output_type": "execute_result"
    }
   ],
   "source": [
    "len(missing_edges)"
   ]
  },
  {
   "cell_type": "markdown",
   "metadata": {
    "colab_type": "text",
    "id": "sCDeoOlFfqT-"
   },
   "source": [
    "## 2.2 Training and Test data split:  \n",
    "Removed edges from Graph and used as test data and after removing used that graph for creating features for Train and test data"
   ]
  },
  {
   "cell_type": "code",
   "execution_count": 104,
   "metadata": {
    "ExecuteTime": {
     "end_time": "2022-05-28T12:07:33.895928Z",
     "start_time": "2022-05-28T12:07:33.857169Z"
    },
    "colab": {},
    "colab_type": "code",
    "id": "mBJF78difqT_",
    "outputId": "4ea80a08-3303-4295-a50c-3584a1895a21"
   },
   "outputs": [
    {
     "name": "stdout",
     "output_type": "stream",
     "text": [
      "Number of nodes in the graph with edges 17262\n",
      "Number of nodes in the graph without edges 17262\n",
      "============================================================\n",
      "Number of nodes in the train eiko graph with edges 13809 = 13809\n",
      "Number of nodes in the train eiko graph without edges 13809 = 13809\n",
      "============================================================\n",
      "Number of nodes in the test eiko graph with edges 3453 = 3453\n",
      "Number of nodes in the test eiko graph without edges 3453 = 3453\n"
     ]
    }
   ],
   "source": [
    "from sklearn.model_selection import train_test_split\n",
    "if (not os.path.isfile(f'./data/{genre}/after_eda/train_pos_after_eda.csv')) and (not os.path.isfile(f'./data/{genre}/after_eda/test_pos_after_eda.csv')):\n",
    "    #reading total data df\n",
    "    df_pos = pd.read_csv(args.dataset_path)\n",
    "    df_neg = pd.DataFrame(list(missing_edges), columns=['source_node', 'destination_node'])\n",
    "    \n",
    "    print(\"Number of nodes in the graph with edges\", df_pos.shape[0])\n",
    "    print(\"Number of nodes in the graph without edges\", df_neg.shape[0])\n",
    "    \n",
    "    #Trian test split \n",
    "    #Spiltted data into 80-20 \n",
    "    #positive links and negative links seperatly because we need positive training data only for creating graph \n",
    "    #and for feature generation\n",
    "    X_train_pos, X_test_pos, y_train_pos, y_test_pos  = train_test_split(df_pos,np.ones(len(df_pos)),test_size=0.2, random_state=9)\n",
    "    X_train_neg, X_test_neg, y_train_neg, y_test_neg  = train_test_split(df_neg,np.zeros(len(df_neg)),test_size=0.2, random_state=9)\n",
    "    \n",
    "    print('='*60)\n",
    "    print(\"Number of nodes in the train data graph with edges\", X_train_pos.shape[0],\"=\",y_train_pos.shape[0])\n",
    "    print(\"Number of nodes in the train data graph without edges\", X_train_neg.shape[0],\"=\", y_train_neg.shape[0])\n",
    "    print('='*60)\n",
    "    print(\"Number of nodes in the test data graph with edges\", X_test_pos.shape[0],\"=\",y_test_pos.shape[0])\n",
    "    print(\"Number of nodes in the test data graph without edges\", X_test_neg.shape[0],\"=\",y_test_neg.shape[0])\n",
    "\n",
    "    #removing header and saving\n",
    "    X_train_pos.to_csv(f'./data/{genre}/after_eda/train_pos_after_eda.csv',header=False, index=False)\n",
    "    X_test_pos.to_csv(f'./data/{genre}/after_eda/test_pos_after_eda.csv',header=False, index=False)\n",
    "    X_train_neg.to_csv(f'./data/{genre}/after_eda/train_neg_after_eda.csv',header=False, index=False)\n",
    "    X_test_neg.to_csv(f'./data/{genre}/after_eda/test_neg_after_eda.csv',header=False, index=False)\n",
    "del missing_edges"
   ]
  },
  {
   "cell_type": "code",
   "execution_count": 105,
   "metadata": {
    "ExecuteTime": {
     "end_time": "2022-05-28T12:07:33.938634Z",
     "start_time": "2022-05-28T12:07:33.896941Z"
    },
    "colab": {},
    "colab_type": "code",
    "id": "bwvTqFurfqUC",
    "outputId": "046b9360-2d46-455f-caa0-75f982fbfd90"
   },
   "outputs": [
    {
     "name": "stdout",
     "output_type": "stream",
     "text": [
      "Graph with 3754 nodes and 13809 edges\n",
      "Graph with 2406 nodes and 3453 edges\n",
      "no of people common in train and test --  2268\n",
      "no of people present in train but not present in test --  1486\n",
      "no of people present in test but not present in train --  138\n",
      " % of people not there in Train but exist in Test in total Test eiko are 5.7356608478802995 %\n"
     ]
    }
   ],
   "source": [
    "if (os.path.isfile(f'./data/{genre}/after_eda/train_pos_after_eda.csv')) and (os.path.isfile(f'./data/{genre}/after_eda/test_pos_after_eda.csv')):        \n",
    "    train_graph=nx.read_edgelist(f'./data/{genre}/after_eda/train_pos_after_eda.csv',delimiter=',',create_using=nx.Graph(),nodetype=int)\n",
    "    test_graph=nx.read_edgelist(f'./data/{genre}/after_eda/test_pos_after_eda.csv',delimiter=',',create_using=nx.Graph(),nodetype=int)\n",
    "    print(nx.info(train_graph))\n",
    "    print(nx.info(test_graph))\n",
    "\n",
    "    # finding the unique nodes in the both train and test graphs\n",
    "    train_nodes_pos = set(train_graph.nodes())\n",
    "    test_nodes_pos = set(test_graph.nodes())\n",
    "\n",
    "    trY_teY = len(train_nodes_pos.intersection(test_nodes_pos))\n",
    "    trY_teN = len(train_nodes_pos - test_nodes_pos)\n",
    "    teY_trN = len(test_nodes_pos - train_nodes_pos)\n",
    "\n",
    "    print('no of people common in train and test -- ',trY_teY)\n",
    "    print('no of people present in train but not present in test -- ',trY_teN)\n",
    "\n",
    "    print('no of people present in test but not present in train -- ',teY_trN)\n",
    "    print(' % of people not there in Train but exist in Test in total Test data are {} %'.format(teY_trN/len(test_nodes_pos)*100))"
   ]
  },
  {
   "cell_type": "markdown",
   "metadata": {
    "colab_type": "text",
    "id": "CGz9PQ2tfqUF"
   },
   "source": [
    "> we have a cold start problem here"
   ]
  },
  {
   "cell_type": "code",
   "execution_count": 106,
   "metadata": {
    "ExecuteTime": {
     "end_time": "2022-05-28T12:07:34.017819Z",
     "start_time": "2022-05-28T12:07:33.939514Z"
    },
    "colab": {},
    "colab_type": "code",
    "id": "0Qcm4p_kfqUH",
    "outputId": "0e60e78b-82c2-4f6e-a3a7-6d090fbd48c7"
   },
   "outputs": [
    {
     "name": "stdout",
     "output_type": "stream",
     "text": [
      "============================================================\n",
      "Number of nodes in the train eiko graph with edges 13809\n",
      "Number of nodes in the train eiko graph without edges 13809\n",
      "============================================================\n",
      "Number of nodes in the test eiko graph with edges 3453\n",
      "Number of nodes in the test eiko graph without edges 3453\n",
      "eiko points in train eiko (27618, 2)\n",
      "eiko points in test eiko (6906, 2)\n",
      "Shape of traget variable in train (27618,)\n",
      "Shape of traget variable in test (6906,)\n"
     ]
    }
   ],
   "source": [
    "#final train and test data sets\n",
    "if (not os.path.isfile(f'./data/{genre}/after_eda/train_after_eda.csv')) and \\\n",
    "(not os.path.isfile(f'./data/{genre}/after_eda/test_after_eda.csv')) and \\\n",
    "(not os.path.isfile(f'./data/{genre}/train_y.csv')) and \\\n",
    "(not os.path.isfile(f'./data/{genre}/test_y.csv')) and \\\n",
    "(os.path.isfile(f'./data/{genre}/after_eda/train_pos_after_eda.csv')) and \\\n",
    "(os.path.isfile(f'./data/{genre}/after_eda/test_pos_after_eda.csv')) and \\\n",
    "(os.path.isfile(f'./data/{genre}/after_eda/train_neg_after_eda.csv')) and \\\n",
    "(os.path.isfile(f'./data/{genre}/after_eda/test_neg_after_eda.csv')):\n",
    "    \n",
    "    X_train_pos = pd.read_csv(f'./data/{genre}/after_eda/train_pos_after_eda.csv', names=['source_node', 'destination_node'])\n",
    "    X_test_pos = pd.read_csv(f'./data/{genre}/after_eda/test_pos_after_eda.csv', names=['source_node', 'destination_node'])\n",
    "    X_train_neg = pd.read_csv(f'./data/{genre}/after_eda/train_neg_after_eda.csv', names=['source_node', 'destination_node'])\n",
    "    X_test_neg = pd.read_csv(f'./data/{genre}/after_eda/test_neg_after_eda.csv', names=['source_node', 'destination_node'])\n",
    "\n",
    "    print('='*60)\n",
    "    print(\"Number of nodes in the train data graph with edges\", X_train_pos.shape[0])\n",
    "    print(\"Number of nodes in the train data graph without edges\", X_train_neg.shape[0])\n",
    "    print('='*60)\n",
    "    print(\"Number of nodes in the test data graph with edges\", X_test_pos.shape[0])\n",
    "    print(\"Number of nodes in the test data graph without edges\", X_test_neg.shape[0])\n",
    "\n",
    "    X_train = X_train_pos.append(X_train_neg,ignore_index=True)\n",
    "    y_train = np.concatenate((y_train_pos,y_train_neg))\n",
    "    X_test = X_test_pos.append(X_test_neg,ignore_index=True)\n",
    "    y_test = np.concatenate((y_test_pos,y_test_neg)) \n",
    "    \n",
    "    X_train.to_csv(f'./data/{genre}/after_eda/train_after_eda.csv',header=False,index=False)\n",
    "    X_test.to_csv(f'./data/{genre}/after_eda/test_after_eda.csv',header=False,index=False)\n",
    "    pd.DataFrame(y_train.astype(int)).to_csv(f'./data/{genre}/train_y.csv',header=False,index=False)\n",
    "    pd.DataFrame(y_test.astype(int)).to_csv(f'./data/{genre}/test_y.csv',header=False,index=False)\n",
    "    \n",
    "    print(\"data points in train data\",X_train.shape)\n",
    "    print(\"data points in test data\",X_test.shape)\n",
    "    print(\"Shape of traget variable in train\",y_train.shape)\n",
    "    print(\"Shape of traget variable in test\", y_test.shape)"
   ]
  },
  {
   "cell_type": "markdown",
   "metadata": {
    "colab_type": "text",
    "id": "Q4gzN_0HgeFA"
   },
   "source": [
    "**Computed and store the data for featurization**"
   ]
  },
  {
   "cell_type": "markdown",
   "metadata": {
    "colab_type": "text",
    "id": "V5UAh4bSgkxo"
   },
   "source": [
    "# 3. Features definition"
   ]
  },
  {
   "cell_type": "code",
   "execution_count": 107,
   "metadata": {
    "ExecuteTime": {
     "end_time": "2022-05-28T12:07:34.022064Z",
     "start_time": "2022-05-28T12:07:34.018728Z"
    },
    "colab": {},
    "colab_type": "code",
    "id": "Q8lS7fVyVFFl"
   },
   "outputs": [],
   "source": [
    "#Importing Libraries\n",
    "# please do go through this python notebook: \n",
    "import warnings\n",
    "warnings.filterwarnings(\"ignore\")\n",
    "\n",
    "import csv\n",
    "import pandas as pd#pandas to create small DataFrames \n",
    "import datetime #Convert to unix time\n",
    "import time #Convert to unix time\n",
    "# if numpy is not installed already : pip3 install numpy\n",
    "import numpy as np#Do aritmetic operations on arrays\n",
    "# matplotlib: used to plot graphs\n",
    "import matplotlib\n",
    "import matplotlib.pylab as plt\n",
    "import seaborn as sns#Plots\n",
    "from matplotlib import rcParams#Size of plots  \n",
    "from sklearn.cluster import MiniBatchKMeans, KMeans#Clustering\n",
    "import math\n",
    "import pickle\n",
    "import os\n",
    "# to install xgboost: pip3 install xgboost\n",
    "import xgboost as xgb\n",
    "\n",
    "import warnings\n",
    "import networkx as nx\n",
    "import pdb\n",
    "import pickle\n",
    "from pandas import HDFStore,DataFrame\n",
    "from pandas import read_hdf\n",
    "from scipy.sparse.linalg import svds, eigs\n",
    "import gc\n",
    "from tqdm import tqdm"
   ]
  },
  {
   "cell_type": "markdown",
   "metadata": {
    "colab_type": "text",
    "id": "1znHayNeVFFt"
   },
   "source": [
    "# 3.1 Reading data"
   ]
  },
  {
   "cell_type": "code",
   "execution_count": 108,
   "metadata": {
    "ExecuteTime": {
     "end_time": "2022-05-28T12:07:34.139814Z",
     "start_time": "2022-05-28T12:07:34.022924Z"
    },
    "colab": {},
    "colab_type": "code",
    "id": "Uq9HbHwEVFFv",
    "outputId": "b2aa525a-93d3-47c3-8216-416a811bc812"
   },
   "outputs": [],
   "source": [
    "if os.path.isfile(f'./data/{genre}/after_eda/train_pos_after_eda.csv'):\n",
    "    train_graph=nx.read_edgelist(f'./data/{genre}/after_eda/train_pos_after_eda.csv',delimiter=',',create_using=nx.Graph(),nodetype=int)\n",
    "#     train_graph.add_nodes_from(range(g_nodes_num))\n",
    "    #     print(nx.info(train_graph))\n",
    "else:\n",
    "    print(\"please run the FB_EDA.ipynb or download the files from drive\")"
   ]
  },
  {
   "cell_type": "markdown",
   "metadata": {
    "colab_type": "text",
    "id": "HmlUa64tVFF7"
   },
   "source": [
    "# 3.2. Similarity measures"
   ]
  },
  {
   "cell_type": "markdown",
   "metadata": {
    "colab_type": "text",
    "id": "ivVMUMiWVFF9"
   },
   "source": [
    "## 3.2.1 Jaccard distance:\n",
    "http://www.statisticshowto.com/jaccard-index/"
   ]
  },
  {
   "cell_type": "markdown",
   "metadata": {
    "colab_type": "text",
    "id": "NoWCYuRBVFF_"
   },
   "source": [
    "\\begin{equation}\n",
    "j = \\frac{|X\\cap Y|}{|X \\cup Y|} \n",
    "\\end{equation}"
   ]
  },
  {
   "cell_type": "code",
   "execution_count": 109,
   "metadata": {
    "ExecuteTime": {
     "end_time": "2022-05-28T12:07:34.144253Z",
     "start_time": "2022-05-28T12:07:34.142017Z"
    },
    "colab": {},
    "colab_type": "code",
    "id": "Seo4z5SnVFGB"
   },
   "outputs": [],
   "source": [
    "#To do: Jaccard distance(yl)\n",
    "#input:one node pair\n",
    "#output:feature of that node pair\n",
    "def jaccard_distance(a,b):\n",
    "    if train_graph.has_node(a) and train_graph.has_node(b):\n",
    "        try:\n",
    "            return next( nx.jaccard_coefficient(train_graph, [(a,b)]) )[2]\n",
    "        except:\n",
    "            return 0\n",
    "    else:\n",
    "        return 0"
   ]
  },
  {
   "cell_type": "markdown",
   "metadata": {
    "colab_type": "text",
    "id": "MnH2my2UVFGX"
   },
   "source": [
    "## 3.2.2 Cosine distance"
   ]
  },
  {
   "cell_type": "markdown",
   "metadata": {
    "colab_type": "text",
    "id": "XNvdBGS2VFGY"
   },
   "source": [
    "\\begin{equation}\n",
    "CosineDistance = \\frac{|X\\cap Y|}{|X|\\cdot|Y|} \n",
    "\\end{equation}"
   ]
  },
  {
   "cell_type": "code",
   "execution_count": 110,
   "metadata": {
    "ExecuteTime": {
     "end_time": "2022-05-28T12:07:34.146455Z",
     "start_time": "2022-05-28T12:07:34.144985Z"
    },
    "colab": {},
    "colab_type": "code",
    "id": "Iznz67EdVFGZ"
   },
   "outputs": [],
   "source": [
    "#To do: Cosine distance(yl)\n",
    "#input:one node pair\n",
    "#output:feature of that node pair\n",
    "# def cosine_distance(a,b):\n",
    "#     if train_graph.has_node(a) and train_graph.has_node(b):\n",
    "#         X = set( train_graph.neighbors(a))\n",
    "# #         print(X)\n",
    "#         Y = set( train_graph.neighbors(b))\n",
    "# #         print(Y)\n",
    "#         if len(X)*len(Y)==0 | len(X)*len(Y)==np.nan:\n",
    "#             return 0\n",
    "#         else:\n",
    "#             return len( X&Y ) / ( len(X)*len(Y) )\n",
    "#     return 0"
   ]
  },
  {
   "cell_type": "code",
   "execution_count": 111,
   "metadata": {
    "ExecuteTime": {
     "end_time": "2022-05-28T12:07:34.149009Z",
     "start_time": "2022-05-28T12:07:34.147097Z"
    }
   },
   "outputs": [],
   "source": [
    "def cosine_distance(a,b):\n",
    "    if train_graph.has_node(a) and train_graph.has_node(b):\n",
    "        X = set( train_graph.neighbors(a))\n",
    "        Y = set( train_graph.neighbors(b))\n",
    "        return len( X&Y ) / ( len(X)*len(Y) )\n",
    "    return 0"
   ]
  },
  {
   "cell_type": "markdown",
   "metadata": {
    "colab_type": "text",
    "id": "HhPbSL1tVFG7"
   },
   "source": [
    "# 3.3 Other Graph Features"
   ]
  },
  {
   "cell_type": "markdown",
   "metadata": {
    "colab_type": "text",
    "id": "AgsorCl7VFG8"
   },
   "source": [
    "## 3.3.1 Shortest path:\n",
    "Getting Shortest path between twoo nodes, if nodes have direct path i.e directly connected then we are removing that edge and calculating path. "
   ]
  },
  {
   "cell_type": "code",
   "execution_count": 112,
   "metadata": {
    "ExecuteTime": {
     "end_time": "2022-05-28T12:07:34.151553Z",
     "start_time": "2022-05-28T12:07:34.149703Z"
    },
    "colab": {},
    "colab_type": "code",
    "id": "RA076ovzVFG9"
   },
   "outputs": [],
   "source": [
    "#To do: Shortest path(yl)\n",
    "#input:one node pair\n",
    "#output:feature of that node pair\n",
    "def compute_shortest_path_length(a,b):\n",
    "    if train_graph.has_node(a) and train_graph.has_node(b):\n",
    "        try:\n",
    "            return nx.shortest_path_length( train_graph, source=a, target=b)\n",
    "        except:\n",
    "            return 0   \n",
    "    else:\n",
    "        return 0"
   ]
  },
  {
   "cell_type": "markdown",
   "metadata": {
    "colab_type": "text",
    "id": "baE_95bzVFHF"
   },
   "source": [
    "## 3.3.2 Checking for same community"
   ]
  },
  {
   "cell_type": "code",
   "execution_count": 113,
   "metadata": {
    "ExecuteTime": {
     "end_time": "2022-05-28T12:07:34.158260Z",
     "start_time": "2022-05-28T12:07:34.152308Z"
    }
   },
   "outputs": [],
   "source": [
    "#getting connected edges from graph \n",
    "cc_dic={}\n",
    "for i,c in enumerate(nx.connected_components(train_graph)):\n",
    "    for node in c:\n",
    "        cc_dic[node]=i"
   ]
  },
  {
   "cell_type": "code",
   "execution_count": 114,
   "metadata": {
    "ExecuteTime": {
     "end_time": "2022-05-28T12:07:34.173794Z",
     "start_time": "2022-05-28T12:07:34.159062Z"
    }
   },
   "outputs": [],
   "source": [
    "def belongs_to_same_cc(a,b):\n",
    "    if cc_dic.get(a,-1)==cc_dic.get(b,-1) and cc_dic.get(a,-1)!=-1:\n",
    "        return 1\n",
    "    else:\n",
    "        return 0"
   ]
  },
  {
   "cell_type": "code",
   "execution_count": 115,
   "metadata": {
    "ExecuteTime": {
     "end_time": "2022-05-28T12:07:34.177109Z",
     "start_time": "2022-05-28T12:07:34.174649Z"
    },
    "colab": {},
    "colab_type": "code",
    "id": "HMdYpPuGVFHK",
    "outputId": "2005e22c-b60f-48d7-839b-650bf97cae35"
   },
   "outputs": [
    {
     "data": {
      "text/plain": [
       "1"
      ]
     },
     "execution_count": 115,
     "metadata": {},
     "output_type": "execute_result"
    }
   ],
   "source": [
    "belongs_to_same_cc(1,2)"
   ]
  },
  {
   "cell_type": "markdown",
   "metadata": {},
   "source": [
    "## 3.3.3 Common neighbors"
   ]
  },
  {
   "cell_type": "code",
   "execution_count": 116,
   "metadata": {
    "ExecuteTime": {
     "end_time": "2022-05-28T12:07:34.179829Z",
     "start_time": "2022-05-28T12:07:34.177857Z"
    }
   },
   "outputs": [],
   "source": [
    "#To do: Common neighbors(yl)\n",
    "def common_neighbors(a,b):\n",
    "    if train_graph.has_node(a) and train_graph.has_node(b):\n",
    "        return len(sorted(nx.common_neighbors(train_graph,a,b)))\n",
    "    return 0"
   ]
  },
  {
   "cell_type": "markdown",
   "metadata": {
    "colab_type": "text",
    "id": "q74nth0OVFHN"
   },
   "source": [
    "## 3.3.4 Adamic/Adar Index:\n",
    "Adamic/Adar measures is defined as inverted sum of degrees of common neighbours for given two vertices.\n",
    "$$A(x,y)=\\sum_{u \\in N(x) \\cap N(y)}\\frac{1}{log(|N(u)|)}$$"
   ]
  },
  {
   "cell_type": "code",
   "execution_count": 117,
   "metadata": {
    "ExecuteTime": {
     "end_time": "2022-05-28T12:07:34.182810Z",
     "start_time": "2022-05-28T12:07:34.180624Z"
    },
    "colab": {},
    "colab_type": "code",
    "id": "CeS98LI5VFHO"
   },
   "outputs": [],
   "source": [
    "#To do: adar(yl)\n",
    "#input:one node pair\n",
    "#output:feature of that node pair\n",
    "def calc_adar(a,b):\n",
    "    if train_graph.has_node(a) and train_graph.has_node(b):\n",
    "        try:\n",
    "            return next( nx.adamic_adar_index(train_graph, [(a,b)]) )[2]\n",
    "        except:\n",
    "            return 0\n",
    "    else:\n",
    "        return 0"
   ]
  },
  {
   "cell_type": "markdown",
   "metadata": {},
   "source": [
    "## 3.3.5 Resource Allocation Index:\n",
    "Among a number of similarity-based methods to predict missing links in a complex network, Research Allocation Index performs well with lower time complexity. It is defined as a fraction of a resource that a node can send to another through their common neighbors.\n",
    "\n",
    "$$\n",
    "\\text { Research Allocation Index }(\\mathrm{X}, \\mathrm{Y})=\\Sigma_{u \\in N(X) \\cap N(Y)} 1 /|N(u)|\n",
    "$$"
   ]
  },
  {
   "cell_type": "code",
   "execution_count": 118,
   "metadata": {
    "ExecuteTime": {
     "end_time": "2022-05-28T12:07:34.185842Z",
     "start_time": "2022-05-28T12:07:34.183568Z"
    },
    "scrolled": false
   },
   "outputs": [],
   "source": [
    "def Resource_Allocation_Index(a,b):\n",
    "    if train_graph.has_node(a) and train_graph.has_node(b):\n",
    "        try:\n",
    "            return next( nx.resource_allocation_index(train_graph, [(a,b)]) )[2]\n",
    "        except:\n",
    "            return 0\n",
    "    else:\n",
    "        return 0\n"
   ]
  },
  {
   "cell_type": "markdown",
   "metadata": {},
   "source": [
    "## 3.3.6 Preferential Attachment:\n",
    "Preferential attachment means that the more connected a node is, the more likely it is to receive new links (refer to this article for referring to Barabasi Albert graph formed on the concepts of Preferential Attachment) Nodes with higher degree gets more neighbors.\n",
    "$$\n",
    "\\text { Preferential Attachment }(X, Y)=|N(X)| \\cdot|N(Y)|\n",
    "$$"
   ]
  },
  {
   "cell_type": "code",
   "execution_count": 119,
   "metadata": {
    "ExecuteTime": {
     "end_time": "2022-05-28T12:07:34.188923Z",
     "start_time": "2022-05-28T12:07:34.186707Z"
    }
   },
   "outputs": [],
   "source": [
    "def Preferential_Attachment(a,b):\n",
    "    if train_graph.has_node(a) and train_graph.has_node(b):\n",
    "        try:\n",
    "            return next( nx.preferential_attachment(train_graph, [(a,b)]) )[2]\n",
    "        except:\n",
    "            return 0\n",
    "    else:\n",
    "        return 0\n"
   ]
  },
  {
   "cell_type": "markdown",
   "metadata": {},
   "source": [
    "## 3.3.7 SVD"
   ]
  },
  {
   "cell_type": "code",
   "execution_count": 120,
   "metadata": {
    "ExecuteTime": {
     "end_time": "2022-05-28T12:07:34.192992Z",
     "start_time": "2022-05-28T12:07:34.189928Z"
    }
   },
   "outputs": [],
   "source": [
    "#for svd features to get feature vector creating a dict node val and inedx in svd vector\n",
    "sadj_col = sorted(train_graph.nodes())\n",
    "sadj_dict = { val:idx for idx,val in enumerate(sadj_col)}"
   ]
  },
  {
   "cell_type": "code",
   "execution_count": 121,
   "metadata": {
    "ExecuteTime": {
     "end_time": "2022-05-28T12:07:34.215046Z",
     "start_time": "2022-05-28T12:07:34.193888Z"
    }
   },
   "outputs": [],
   "source": [
    "Adj = nx.adjacency_matrix(train_graph,nodelist=sorted(train_graph.nodes())).asfptype()"
   ]
  },
  {
   "cell_type": "code",
   "execution_count": 122,
   "metadata": {
    "ExecuteTime": {
     "end_time": "2022-05-28T12:07:34.227271Z",
     "start_time": "2022-05-28T12:07:34.216014Z"
    }
   },
   "outputs": [
    {
     "name": "stdout",
     "output_type": "stream",
     "text": [
      "Adjacency matrix Shape (3754, 3754)\n",
      "U Shape (3754, 6)\n",
      "V Shape (6, 3754)\n",
      "s Shape (6,)\n"
     ]
    }
   ],
   "source": [
    "U, s, V = svds(Adj, k = 6)\n",
    "print('Adjacency matrix Shape',Adj.shape)\n",
    "print('U Shape',U.shape)\n",
    "print('V Shape',V.shape)\n",
    "print('s Shape',s.shape)"
   ]
  },
  {
   "cell_type": "code",
   "execution_count": 123,
   "metadata": {
    "ExecuteTime": {
     "end_time": "2022-05-28T12:07:34.230084Z",
     "start_time": "2022-05-28T12:07:34.228094Z"
    }
   },
   "outputs": [],
   "source": [
    "def svd(x, S):\n",
    "    try:\n",
    "        z = sadj_dict[x]\n",
    "        return S[z]\n",
    "    except:\n",
    "        return [0,0,0,0,0,0]"
   ]
  },
  {
   "cell_type": "markdown",
   "metadata": {},
   "source": [
    "## 3.3.8 SVD dot\n",
    "\n",
    "Add feature called svd_dot. you can calculate svd_dot as Dot product between sourse node svd and destination node svd features. you can read about this in below pdf https://storage.googleapis.com/kaggle-forum-message-attachments/2594/supervised_link_prediction.pdfm"
   ]
  },
  {
   "cell_type": "code",
   "execution_count": 124,
   "metadata": {
    "ExecuteTime": {
     "end_time": "2022-05-28T12:07:34.233517Z",
     "start_time": "2022-05-28T12:07:34.231185Z"
    }
   },
   "outputs": [],
   "source": [
    "def svd_dot(S,D):\n",
    "    list_var = []\n",
    "    A = S.values\n",
    "    B = D.values\n",
    "    for i in range(len(A)):\n",
    "        list_var.append(np.dot(A[i],B[i]))\n",
    "    df = pd.DataFrame(list_var)\n",
    "    return df"
   ]
  },
  {
   "cell_type": "markdown",
   "metadata": {},
   "source": [
    "## 3.3.9 GEMSEC"
   ]
  },
  {
   "cell_type": "code",
   "execution_count": 125,
   "metadata": {
    "ExecuteTime": {
     "end_time": "2022-05-28T12:07:34.237518Z",
     "start_time": "2022-05-28T12:07:34.234313Z"
    }
   },
   "outputs": [],
   "source": [
    "#To do: GEMSEC\n",
    "#input:one node pair\n",
    "#output:feature of that node pair\n",
    "def GEMSEC_embedding(a,b):\n",
    "    a_embedding=GEMSEC.iloc[g_nodes.index(a), 0]\n",
    "    b_embedding=GEMSEC.iloc[g_nodes.index(b), 0]\n",
    "    return a_embedding+b_embedding \n",
    "    "
   ]
  },
  {
   "cell_type": "markdown",
   "metadata": {},
   "source": [
    "## 3.3.10 GEMSECWithRegularization"
   ]
  },
  {
   "cell_type": "code",
   "execution_count": 126,
   "metadata": {
    "ExecuteTime": {
     "end_time": "2022-05-28T12:07:34.240654Z",
     "start_time": "2022-05-28T12:07:34.238445Z"
    }
   },
   "outputs": [],
   "source": [
    "def GEMSECWithRegularization_embedding(a,b):\n",
    "    a_embedding=GEMSECWithRegularization.iloc[g_nodes.index(a), 0]\n",
    "    b_embedding=GEMSECWithRegularization.iloc[g_nodes.index(b), 0]\n",
    "    return a_embedding+b_embedding\n",
    "        "
   ]
  },
  {
   "cell_type": "markdown",
   "metadata": {},
   "source": [
    "## 3.3.11 DeepWalk"
   ]
  },
  {
   "cell_type": "code",
   "execution_count": 127,
   "metadata": {
    "ExecuteTime": {
     "end_time": "2022-05-28T12:07:34.243500Z",
     "start_time": "2022-05-28T12:07:34.241642Z"
    }
   },
   "outputs": [],
   "source": [
    "def DeepWalk_embedding(a,b):\n",
    "    a_embedding=DeepWalk.iloc[g_nodes.index(a), 0]\n",
    "    b_embedding=DeepWalk.iloc[g_nodes.index(b), 0]\n",
    "    return a_embedding+b_embedding\n",
    "        "
   ]
  },
  {
   "cell_type": "markdown",
   "metadata": {},
   "source": [
    "## 3.3.12 DeepWalkWithRegularization"
   ]
  },
  {
   "cell_type": "code",
   "execution_count": 128,
   "metadata": {
    "ExecuteTime": {
     "end_time": "2022-05-28T12:07:34.246963Z",
     "start_time": "2022-05-28T12:07:34.244514Z"
    }
   },
   "outputs": [],
   "source": [
    "def DeepWalkWithRegularization_embedding(a,b):\n",
    "    a_embedding=DeepWalkWithRegularization.iloc[g_nodes.index(a), 0]\n",
    "    b_embedding=DeepWalkWithRegularization.iloc[g_nodes.index(b), 0]\n",
    "    return a_embedding+b_embedding"
   ]
  },
  {
   "cell_type": "markdown",
   "metadata": {
    "colab_type": "text",
    "id": "ZZtowOLZVFH6"
   },
   "source": [
    "# 4. Featurization"
   ]
  },
  {
   "cell_type": "markdown",
   "metadata": {
    "colab_type": "text",
    "id": "o6NnRWmLVFH6"
   },
   "source": [
    "## 4.1 Reading data from both train and test"
   ]
  },
  {
   "cell_type": "code",
   "execution_count": 129,
   "metadata": {
    "ExecuteTime": {
     "end_time": "2022-05-28T12:07:34.259540Z",
     "start_time": "2022-05-28T12:07:34.247966Z"
    },
    "colab": {},
    "colab_type": "code",
    "id": "pCisf6PpVFID",
    "outputId": "daf2af43-3f98-4466-ad99-03bc54464714"
   },
   "outputs": [
    {
     "name": "stdout",
     "output_type": "stream",
     "text": [
      "Our train matrix size  (27618, 3)\n"
     ]
    },
    {
     "data": {
      "text/html": [
       "<div>\n",
       "<style scoped>\n",
       "    .dataframe tbody tr th:only-of-type {\n",
       "        vertical-align: middle;\n",
       "    }\n",
       "\n",
       "    .dataframe tbody tr th {\n",
       "        vertical-align: top;\n",
       "    }\n",
       "\n",
       "    .dataframe thead th {\n",
       "        text-align: right;\n",
       "    }\n",
       "</style>\n",
       "<table border=\"1\" class=\"dataframe\">\n",
       "  <thead>\n",
       "    <tr style=\"text-align: right;\">\n",
       "      <th></th>\n",
       "      <th>source_node</th>\n",
       "      <th>destination_node</th>\n",
       "      <th>indicator_link</th>\n",
       "    </tr>\n",
       "  </thead>\n",
       "  <tbody>\n",
       "    <tr>\n",
       "      <th>0</th>\n",
       "      <td>3413</td>\n",
       "      <td>3343</td>\n",
       "      <td>1</td>\n",
       "    </tr>\n",
       "    <tr>\n",
       "      <th>1</th>\n",
       "      <td>146</td>\n",
       "      <td>2234</td>\n",
       "      <td>1</td>\n",
       "    </tr>\n",
       "  </tbody>\n",
       "</table>\n",
       "</div>"
      ],
      "text/plain": [
       "   source_node  destination_node  indicator_link\n",
       "0         3413              3343               1\n",
       "1          146              2234               1"
      ]
     },
     "execution_count": 129,
     "metadata": {},
     "output_type": "execute_result"
    }
   ],
   "source": [
    "df_final_train = pd.read_csv(f'./data/{genre}/after_eda/train_after_eda.csv', names=['source_node', 'destination_node'])\n",
    "df_final_train['indicator_link'] = pd.read_csv(f'./data/{genre}/train_y.csv', names=['indicator_link'])\n",
    "\n",
    "print(\"Our train matrix size \",df_final_train.shape)\n",
    "df_final_train.head(2)"
   ]
  },
  {
   "cell_type": "code",
   "execution_count": 130,
   "metadata": {
    "ExecuteTime": {
     "end_time": "2022-05-28T12:07:34.268984Z",
     "start_time": "2022-05-28T12:07:34.260577Z"
    },
    "colab": {},
    "colab_type": "code",
    "id": "tFn1RkdyVFIH",
    "outputId": "1ca99e70-6d2a-45f2-f51c-fd3b1211ad20"
   },
   "outputs": [
    {
     "name": "stdout",
     "output_type": "stream",
     "text": [
      "Our test matrix size  (6906, 3)\n"
     ]
    },
    {
     "data": {
      "text/html": [
       "<div>\n",
       "<style scoped>\n",
       "    .dataframe tbody tr th:only-of-type {\n",
       "        vertical-align: middle;\n",
       "    }\n",
       "\n",
       "    .dataframe tbody tr th {\n",
       "        vertical-align: top;\n",
       "    }\n",
       "\n",
       "    .dataframe thead th {\n",
       "        text-align: right;\n",
       "    }\n",
       "</style>\n",
       "<table border=\"1\" class=\"dataframe\">\n",
       "  <thead>\n",
       "    <tr style=\"text-align: right;\">\n",
       "      <th></th>\n",
       "      <th>source_node</th>\n",
       "      <th>destination_node</th>\n",
       "      <th>indicator_link</th>\n",
       "    </tr>\n",
       "  </thead>\n",
       "  <tbody>\n",
       "    <tr>\n",
       "      <th>0</th>\n",
       "      <td>191</td>\n",
       "      <td>538</td>\n",
       "      <td>1</td>\n",
       "    </tr>\n",
       "    <tr>\n",
       "      <th>1</th>\n",
       "      <td>1464</td>\n",
       "      <td>2816</td>\n",
       "      <td>1</td>\n",
       "    </tr>\n",
       "  </tbody>\n",
       "</table>\n",
       "</div>"
      ],
      "text/plain": [
       "   source_node  destination_node  indicator_link\n",
       "0          191               538               1\n",
       "1         1464              2816               1"
      ]
     },
     "execution_count": 130,
     "metadata": {},
     "output_type": "execute_result"
    }
   ],
   "source": [
    "df_final_test = pd.read_csv(f'./data/{genre}/after_eda/test_after_eda.csv', names=['source_node', 'destination_node'])\n",
    "df_final_test['indicator_link'] = pd.read_csv(f'./data/{genre}/test_y.csv', names=['indicator_link'])\n",
    "\n",
    "\n",
    "print(\"Our test matrix size \",df_final_test.shape)\n",
    "df_final_test.head(2)"
   ]
  },
  {
   "cell_type": "markdown",
   "metadata": {
    "colab_type": "text",
    "id": "gIaOWDaDVFIJ"
   },
   "source": [
    "## 4.2 Adding a set of features(one dimension feature)\n",
    "\n",
    "__we will create these each of these features for both train and test data points__\n",
    "<ol>\n",
    "<li>Jaccard Distance</li>\n",
    "<li>Cosine Distance</li>\n",
    "<li>Shortest Path</li>\n",
    "<li>Same Community</li>\n",
    "<li>Common Neighbors</li>\n",
    "<li>Adamic/Adar Index</li>\n",
    "<li>Resource Allocation Index</li>\n",
    "<li>Preferential Attachment</li>\n",
    "</ol>"
   ]
  },
  {
   "cell_type": "code",
   "execution_count": 131,
   "metadata": {
    "ExecuteTime": {
     "end_time": "2022-05-28T12:07:40.107499Z",
     "start_time": "2022-05-28T12:07:34.270029Z"
    },
    "colab": {},
    "colab_type": "code",
    "id": "2qTkOiBcVFIJ"
   },
   "outputs": [],
   "source": [
    "if not os.path.isfile(f'./data/{genre}/fea_sample/other_features/storage_sample_stage1.h5'):\n",
    "    #mapping Jaccard Distance to train and test data\n",
    "    df_final_train['jaccard_distance'] = df_final_train.apply(lambda row:\n",
    "                                            jaccard_distance(row['source_node'],row['destination_node']),axis=1)\n",
    "    df_final_test['jaccard_distance'] = df_final_test.apply(lambda row:\n",
    "                                            jaccard_distance(row['source_node'],row['destination_node']),axis=1)\n",
    "\n",
    "    #mapping Cosine Distance to train and test data\n",
    "    df_final_train['cosine_distance'] = df_final_train.apply(lambda row:\n",
    "                                            cosine_distance(row['source_node'],row['destination_node']),axis=1)\n",
    "    df_final_test['cosine_distance'] = df_final_test.apply(lambda row:\n",
    "                                            cosine_distance(row['source_node'],row['destination_node']),axis=1)\n",
    "    \n",
    "    #mapping Checking for same community to train and test data\n",
    "    df_final_train['same_community'] = df_final_train.apply(lambda row:\n",
    "                                            belongs_to_same_cc(row['source_node'],row['destination_node']),axis=1)\n",
    "    df_final_test['same_community'] = df_final_test.apply(lambda row:\n",
    "                                            belongs_to_same_cc(row['source_node'],row['destination_node']),axis=1)\n",
    "    \n",
    "    \n",
    "    \n",
    "    #mapping Shortest path to train and test data\n",
    "    df_final_train['shortest_path'] = df_final_train.apply(lambda row:\n",
    "                                            compute_shortest_path_length(row['source_node'],row['destination_node']),axis=1)\n",
    "    df_final_test['shortest_path'] = df_final_test.apply(lambda row:\n",
    "                                            compute_shortest_path_length(row['source_node'],row['destination_node']),axis=1)\n",
    "\n",
    "    #mapping Common neighbors to train and test data\n",
    "    df_final_train['Common_neighbors'] = df_final_train.apply(lambda row:\n",
    "                                            common_neighbors(row['source_node'],row['destination_node']),axis=1)\n",
    "    df_final_test['Common_neighbors'] = df_final_test.apply(lambda row:\n",
    "                                            common_neighbors(row['source_node'],row['destination_node']),axis=1)\n",
    "    \n",
    "    #mapping Adamic/Adar Index to train and test data\n",
    "    df_final_train['adar'] = df_final_train.apply(lambda row:\n",
    "                                            calc_adar(row['source_node'],row['destination_node']),axis=1)\n",
    "    df_final_test['adar'] = df_final_test.apply(lambda row:\n",
    "                                            calc_adar(row['source_node'],row['destination_node']),axis=1)\n",
    "\n",
    "    #mapping Resource Allocation Index to train and test data\n",
    "    df_final_train['Resource_Allocation_Index'] = df_final_train.apply(lambda row:\n",
    "                                            Resource_Allocation_Index(row['source_node'],row['destination_node']),axis=1)\n",
    "    df_final_test['Resource_Allocation_Index'] = df_final_test.apply(lambda row:\n",
    "                                            Resource_Allocation_Index(row['source_node'],row['destination_node']),axis=1)\n",
    "\n",
    "    #mapping Preferential Attachment to train and test data\n",
    "    df_final_train['Preferential_Attachment'] = df_final_train.apply(lambda row:\n",
    "                                            Preferential_Attachment(row['source_node'],row['destination_node']),axis=1)\n",
    "    df_final_test['Preferential_Attachment'] = df_final_test.apply(lambda row:\n",
    "                                            Preferential_Attachment(row['source_node'],row['destination_node']),axis=1)\n",
    "    \n",
    "\n",
    "    hdf = HDFStore(f'./data/{genre}/fea_sample/other_features/storage_sample_stage1.h5')\n",
    "    hdf.put('train_df',df_final_train, format='table', data_columns=True)\n",
    "    hdf.put('test_df',df_final_test, format='table', data_columns=True)\n",
    "    hdf.close()\n",
    "else:\n",
    "    df_final_train = read_hdf(f'./data/{genre}/fea_sample/other_features/storage_sample_stage1.h5', 'train_df',mode='r')\n",
    "    df_final_test = read_hdf(f'./data/{genre}/fea_sample/other_features/storage_sample_stage1.h5', 'test_df',mode='r')   \n",
    "    \n",
    "    "
   ]
  },
  {
   "cell_type": "code",
   "execution_count": 132,
   "metadata": {
    "ExecuteTime": {
     "end_time": "2022-05-28T12:07:40.110325Z",
     "start_time": "2022-05-28T12:07:40.108775Z"
    }
   },
   "outputs": [],
   "source": [
    "del cc_dic"
   ]
  },
  {
   "cell_type": "markdown",
   "metadata": {
    "colab_type": "text",
    "id": "p6xkDfD-VFIb"
   },
   "source": [
    "## 4.3 Adding new set of features\n",
    "\n",
    "\n",
    "#### 1.SVD features for both source and destination\n"
   ]
  },
  {
   "cell_type": "code",
   "execution_count": 133,
   "metadata": {
    "ExecuteTime": {
     "end_time": "2022-05-28T12:07:47.938227Z",
     "start_time": "2022-05-28T12:07:40.111181Z"
    },
    "colab": {},
    "colab_type": "code",
    "id": "ls5fqLFhVFIm"
   },
   "outputs": [],
   "source": [
    "if not os.path.isfile(f'./data/{genre}/fea_sample/other_features/storage_sample_stag2.h5'):\n",
    "    #===================================================================================================\n",
    "    \n",
    "    df_final_train[['svd_u_s_1', 'svd_u_s_2','svd_u_s_3', 'svd_u_s_4', 'svd_u_s_5', 'svd_u_s_6']] = \\\n",
    "    df_final_train.source_node.apply(lambda x: svd(x, U)).apply(pd.Series)\n",
    "    \n",
    "    df_final_train[['svd_u_d_1', 'svd_u_d_2', 'svd_u_d_3', 'svd_u_d_4', 'svd_u_d_5','svd_u_d_6']] = \\\n",
    "    df_final_train.destination_node.apply(lambda x: svd(x, U)).apply(pd.Series)\n",
    "    #===================================================================================================\n",
    "    \n",
    "    df_final_train[['svd_v_s_1','svd_v_s_2', 'svd_v_s_3', 'svd_v_s_4', 'svd_v_s_5', 'svd_v_s_6']] = \\\n",
    "    df_final_train.source_node.apply(lambda x: svd(x, V.T)).apply(pd.Series)\n",
    "\n",
    "    df_final_train[['svd_v_d_1', 'svd_v_d_2', 'svd_v_d_3', 'svd_v_d_4', 'svd_v_d_5','svd_v_d_6']] = \\\n",
    "    df_final_train.destination_node.apply(lambda x: svd(x, V.T)).apply(pd.Series)\n",
    "    #===================================================================================================\n",
    "    \n",
    "    df_final_test[['svd_u_s_1', 'svd_u_s_2','svd_u_s_3', 'svd_u_s_4', 'svd_u_s_5', 'svd_u_s_6']] = \\\n",
    "    df_final_test.source_node.apply(lambda x: svd(x, U)).apply(pd.Series)\n",
    "    \n",
    "    df_final_test[['svd_u_d_1', 'svd_u_d_2', 'svd_u_d_3', 'svd_u_d_4', 'svd_u_d_5','svd_u_d_6']] = \\\n",
    "    df_final_test.destination_node.apply(lambda x: svd(x, U)).apply(pd.Series)\n",
    "\n",
    "    #===================================================================================================\n",
    "    \n",
    "    df_final_test[['svd_v_s_1','svd_v_s_2', 'svd_v_s_3', 'svd_v_s_4', 'svd_v_s_5', 'svd_v_s_6']] = \\\n",
    "    df_final_test.source_node.apply(lambda x: svd(x, V.T)).apply(pd.Series)\n",
    "\n",
    "    df_final_test[['svd_v_d_1', 'svd_v_d_2', 'svd_v_d_3', 'svd_v_d_4', 'svd_v_d_5','svd_v_d_6']] = \\\n",
    "    df_final_test.destination_node.apply(lambda x: svd(x, V.T)).apply(pd.Series)\n",
    "    #===================================================================================================\n",
    "\n",
    "    hdf = HDFStore(f'./data/{genre}/fea_sample/other_features/storage_sample_stage2.h5')\n",
    "    hdf.put('train_df',df_final_train, format='table', data_columns=True)\n",
    "    hdf.put('test_df',df_final_test, format='table', data_columns=True)\n",
    "    hdf.close()\n",
    "    \n",
    "else:\n",
    "    df_final_train = read_hdf(f'./data/{genre}/fea_sample/other_features/storage_sample_stage2.h5', 'train_df',mode='r')\n",
    "    df_final_test = read_hdf(f'./data/{genre}/fea_sample/other_features/storage_sample_stage2.h5', 'test_df',mode='r')"
   ]
  },
  {
   "cell_type": "code",
   "execution_count": 134,
   "metadata": {
    "ExecuteTime": {
     "end_time": "2022-05-28T12:07:47.941547Z",
     "start_time": "2022-05-28T12:07:47.939406Z"
    }
   },
   "outputs": [],
   "source": [
    "del sadj_col\n",
    "del sadj_dict\n",
    "del Adj\n",
    "del U\n",
    "del s\n",
    "del V"
   ]
  },
  {
   "cell_type": "markdown",
   "metadata": {},
   "source": [
    "#### 2.SVD dot"
   ]
  },
  {
   "cell_type": "code",
   "execution_count": 135,
   "metadata": {
    "ExecuteTime": {
     "end_time": "2022-05-28T12:07:48.522806Z",
     "start_time": "2022-05-28T12:07:47.942342Z"
    }
   },
   "outputs": [],
   "source": [
    "if not os.path.isfile(f'./data/{genre}/fea_sample/other_features/storage_sample_stage3.h5'):\n",
    "    u_s = df_final_train[['svd_u_s_1', 'svd_u_s_2', 'svd_u_s_3', 'svd_u_s_4','svd_u_s_5', 'svd_u_s_6']]\n",
    "    u_d = df_final_train[['svd_u_d_1', 'svd_u_d_2', 'svd_u_d_3', 'svd_u_d_4','svd_u_d_5', 'svd_u_d_6']]\n",
    "    df_final_train['svd_dot_u'] = svd_dot(u_s,u_d)\n",
    "\n",
    "    v_s = df_final_train[['svd_v_s_1', 'svd_v_s_2', 'svd_v_s_3', 'svd_v_s_4','svd_v_s_5', 'svd_v_s_6']]\n",
    "    v_d = df_final_train[['svd_v_d_1', 'svd_v_d_2', 'svd_v_d_3', 'svd_v_d_4','svd_v_d_5', 'svd_v_d_6']]\n",
    "    df_final_train['svd_dot_v'] = svd_dot(v_s,v_d)\n",
    "\n",
    "    u_s = df_final_test[['svd_u_s_1', 'svd_u_s_2', 'svd_u_s_3', 'svd_u_s_4','svd_u_s_5', 'svd_u_s_6']]\n",
    "    u_d = df_final_test[['svd_u_d_1', 'svd_u_d_2', 'svd_u_d_3', 'svd_u_d_4','svd_u_d_5', 'svd_u_d_6']]\n",
    "    df_final_test['svd_dot_u'] = svd_dot(u_s,u_d)\n",
    "\n",
    "    v_s = df_final_test[['svd_v_s_1', 'svd_v_s_2', 'svd_v_s_3', 'svd_v_s_4','svd_v_s_5', 'svd_v_s_6']]\n",
    "    v_d = df_final_test[['svd_v_s_1', 'svd_v_s_2', 'svd_v_s_3', 'svd_v_s_4','svd_v_s_5', 'svd_v_s_6']]\n",
    "    df_final_test['svd_dot_v'] = svd_dot(v_s,v_d)\n",
    "    \n",
    "    hdf = HDFStore(f'./data/{genre}/fea_sample/other_features/storage_sample_stage3.h5')\n",
    "    hdf.put('train_df',df_final_train, format='table', data_columns=True)\n",
    "    hdf.put('test_df',df_final_test, format='table', data_columns=True)\n",
    "    hdf.close() \n",
    "else:\n",
    "    df_final_train = read_hdf(f'./data/{genre}/fea_sample/other_features/storage_sample_stage3.h5', 'train_df',mode='r')\n",
    "    df_final_test = read_hdf(f'./data/{genre}/fea_sample/other_features/storage_sample_stage3.h5', 'test_df',mode='r')"
   ]
  },
  {
   "cell_type": "markdown",
   "metadata": {},
   "source": [
    "## 4.4 Adding new set of features(multiple dimension feature)\n",
    "\n",
    "__we will create these each of these features for both train and test data points__\n",
    "<ol>\n",
    "<li>Node to vector</li>    \n",
    "<li>GEMSEC</li>\n",
    "<li>GEMSECWithRegularization</li>\n",
    "<li>DeepWalk</li>\n",
    "<li>DeepWalkWithRegularization</li>\n",
    "</ol>"
   ]
  },
  {
   "cell_type": "code",
   "execution_count": 136,
   "metadata": {
    "ExecuteTime": {
     "end_time": "2022-05-28T12:09:37.302781Z",
     "start_time": "2022-05-28T12:07:48.523889Z"
    }
   },
   "outputs": [
    {
     "data": {
      "application/vnd.jupyter.widget-view+json": {
       "model_id": "3a393c4978324a2f905abacca4267f4f",
       "version_major": 2,
       "version_minor": 0
      },
      "text/plain": [
       "Computing transition probabilities:   0%|          | 0/3892 [00:00<?, ?it/s]"
      ]
     },
     "metadata": {},
     "output_type": "display_data"
    },
    {
     "name": "stderr",
     "output_type": "stream",
     "text": [
      "Generating walks (CPU: 1): 100%|████████████████| 50/50 [00:10<00:00,  4.67it/s]\n"
     ]
    }
   ],
   "source": [
    "if args.PCA:\n",
    "    if not os.path.isfile(f'./data/{genre}/fea_sample/other_features/storage_sample_stage4.h5'):\n",
    "        #mapping Node to vector to train and test data\n",
    "        from node2vec import Node2Vec\n",
    "        from sklearn.decomposition  import PCA\n",
    "        node2vec = Node2Vec(g, dimensions=100, walk_length=16, num_walks=50)\n",
    "        n2v_model = node2vec.fit(window=7, min_count=1)\n",
    "        embedding=[] \n",
    "        for n1,n2 in zip(df_final_train['source_node'],df_final_train['destination_node']):\n",
    "            x=n2v_model.wv[str(n1)]+n2v_model.wv[str(n2)]\n",
    "            embedding.append(x)    \n",
    "        pca = PCA( n_components=1 )\n",
    "        df_final_train['node2vector'] = pca.fit_transform(embedding)\n",
    " \n",
    "        embedding=[]\n",
    "        for n1,n2 in zip(df_final_test['source_node'],df_final_test['destination_node']):\n",
    "            x=n2v_model.wv[str(n1)]+n2v_model.wv[str(n2)]\n",
    "            embedding.append(x)    \n",
    "        pca = PCA( n_components=1 )\n",
    "        df_final_test['node2vector'] = pca.fit_transform(embedding)\n",
    "        \n",
    "\n",
    "        g_nodes=list(g.nodes)\n",
    "        GEMSEC=pd.read_csv(f\"./GEMSEC/output_PCA/GEMSEC/PCA/{genre}_embedding.csv\")\n",
    "        GEMSECWithRegularization=pd.read_csv(f\"./GEMSEC/output_PCA/GEMSECWithRegularization/PCA/{genre}_embedding.csv\")\n",
    "        DeepWalk=pd.read_csv(f\"./GEMSEC/output_PCA/DeepWalk/PCA/{genre}_embedding.csv\")\n",
    "        DeepWalkWithRegularization=pd.read_csv(f\"./GEMSEC/output_PCA/DeepWalkWithRegularization/PCA/{genre}_embedding.csv\")\n",
    "    \n",
    "        #mapping GEMSEC to train and test data\n",
    "        df_final_train['GEMSEC'] = df_final_train.apply(lambda row:\n",
    "                                                GEMSEC_embedding(row['source_node'],row['destination_node']),axis=1)\n",
    "        df_final_test['GEMSEC'] = df_final_test.apply(lambda row:\n",
    "                                                GEMSEC_embedding(row['source_node'],row['destination_node']),axis=1)    \n",
    "\n",
    "        #mapping GEMSECWithRegularization to train and test data\n",
    "        df_final_train['GEMSECWithRegularization'] = df_final_train.apply(lambda row:\n",
    "                                                GEMSECWithRegularization_embedding(row['source_node'],row['destination_node']),axis=1)\n",
    "        df_final_test['GEMSECWithRegularization'] = df_final_test.apply(lambda row:\n",
    "                                                GEMSECWithRegularization_embedding(row['source_node'],row['destination_node']),axis=1)\n",
    "\n",
    "        #mapping DeepWalk to train and test data\n",
    "        df_final_train['DeepWalk'] = df_final_train.apply(lambda row:\n",
    "                                                DeepWalk_embedding(row['source_node'],row['destination_node']),axis=1)\n",
    "        df_final_test['DeepWalk'] = df_final_test.apply(lambda row:\n",
    "                                                DeepWalk_embedding(row['source_node'],row['destination_node']),axis=1)    \n",
    "\n",
    "        #mapping DeepWalkWithRegularization to train and test data\n",
    "        df_final_train['DeepWalkWithRegularization'] = df_final_train.apply(lambda row:\n",
    "                                                DeepWalkWithRegularization_embedding(row['source_node'],row['destination_node']),axis=1)\n",
    "        df_final_test['DeepWalkWithRegularization'] = df_final_test.apply(lambda row:\n",
    "                                                DeepWalkWithRegularization_embedding(row['source_node'],row['destination_node']),axis=1)          \n",
    "\n",
    "        hdf = HDFStore(f'./data/{genre}/fea_sample/other_features/storage_sample_stage4.h5')\n",
    "        hdf.put('train_df',df_final_train, format='table', data_columns=True)\n",
    "        hdf.put('test_df',df_final_test, format='table', data_columns=True)\n",
    "        hdf.close()\n",
    "        \n",
    "        \n",
    "        del node2vec\n",
    "        del n2v_model\n",
    "        del embedding\n",
    "        del pca\n",
    "        del g_nodes\n",
    "        del GEMSEC\n",
    "        del GEMSECWithRegularization\n",
    "        del DeepWalk\n",
    "        del DeepWalkWithRegularization\n",
    "    else:\n",
    "        df_final_train = read_hdf(f'./data/{genre}/fea_sample/other_features/storage_sample_stage4.h5', 'train_df',mode='r')\n",
    "        df_final_test = read_hdf(f'./data/{genre}/fea_sample/other_features/storage_sample_stage4.h5', 'test_df',mode='r')   \n",
    " "
   ]
  },
  {
   "cell_type": "markdown",
   "metadata": {
    "colab_type": "text",
    "id": "DAIOlLPyiAmY"
   },
   "source": [
    "**Store the data as final for machine learning models**"
   ]
  },
  {
   "cell_type": "markdown",
   "metadata": {},
   "source": [
    "# RandomForest"
   ]
  },
  {
   "cell_type": "code",
   "execution_count": 137,
   "metadata": {
    "ExecuteTime": {
     "end_time": "2022-05-28T12:09:37.466405Z",
     "start_time": "2022-05-28T12:09:37.305103Z"
    },
    "colab": {},
    "colab_type": "code",
    "id": "XC4OJFKkHglU"
   },
   "outputs": [],
   "source": [
    "#reading\n",
    "from pandas import read_hdf\n",
    "if args.PCA:\n",
    "    df_final_train = read_hdf(f'./data/{genre}/fea_sample/other_features/storage_sample_stage4.h5', 'train_df',mode='r')\n",
    "    df_final_test = read_hdf(f'./data/{genre}/fea_sample/other_features/storage_sample_stage4.h5', 'test_df',mode='r')\n",
    "else:\n",
    "    df_final_train = read_hdf(f'./data/{genre}/fea_sample/other_features/storage_sample_stage3.h5', 'train_df',mode='r')\n",
    "    df_final_test = read_hdf(f'./data/{genre}/fea_sample/other_features/storage_sample_stage3.h5', 'test_df',mode='r')    "
   ]
  },
  {
   "cell_type": "code",
   "execution_count": 138,
   "metadata": {
    "ExecuteTime": {
     "end_time": "2022-05-28T12:09:37.469862Z",
     "start_time": "2022-05-28T12:09:37.467503Z"
    },
    "colab": {},
    "colab_type": "code",
    "id": "k-T85kSmjrpy",
    "outputId": "d2c2294c-113e-4fdb-d3e5-dc167dcf5fbc"
   },
   "outputs": [
    {
     "data": {
      "text/plain": [
       "Index(['source_node', 'destination_node', 'indicator_link', 'jaccard_distance',\n",
       "       'cosine_distances', 'same_community', 'shortest_path',\n",
       "       'Common_neighbors', 'adar', 'Resource_Allocation_Index',\n",
       "       'Preferential_Attachment', 'svd_u_s_1', 'svd_u_s_2', 'svd_u_s_3',\n",
       "       'svd_u_s_4', 'svd_u_s_5', 'svd_u_s_6', 'svd_u_d_1', 'svd_u_d_2',\n",
       "       'svd_u_d_3', 'svd_u_d_4', 'svd_u_d_5', 'svd_u_d_6', 'svd_v_s_1',\n",
       "       'svd_v_s_2', 'svd_v_s_3', 'svd_v_s_4', 'svd_v_s_5', 'svd_v_s_6',\n",
       "       'svd_v_d_1', 'svd_v_d_2', 'svd_v_d_3', 'svd_v_d_4', 'svd_v_d_5',\n",
       "       'svd_v_d_6', 'svd_dot_u', 'svd_dot_v', 'node2vector', 'GEMSEC',\n",
       "       'GEMSECWithRegularization', 'DeepWalk', 'DeepWalkWithRegularization'],\n",
       "      dtype='object')"
      ]
     },
     "execution_count": 138,
     "metadata": {},
     "output_type": "execute_result"
    }
   ],
   "source": [
    "df_final_train.columns"
   ]
  },
  {
   "cell_type": "code",
   "execution_count": 139,
   "metadata": {
    "ExecuteTime": {
     "end_time": "2022-05-28T12:09:37.472801Z",
     "start_time": "2022-05-28T12:09:37.470989Z"
    },
    "colab": {},
    "colab_type": "code",
    "id": "pH68dh1djrp5"
   },
   "outputs": [],
   "source": [
    "y_train = df_final_train.indicator_link\n",
    "y_test = df_final_test.indicator_link"
   ]
  },
  {
   "cell_type": "code",
   "execution_count": 140,
   "metadata": {
    "ExecuteTime": {
     "end_time": "2022-05-28T12:09:37.481787Z",
     "start_time": "2022-05-28T12:09:37.473889Z"
    },
    "colab": {},
    "colab_type": "code",
    "id": "phtTp9NZjrp_"
   },
   "outputs": [],
   "source": [
    "df_final_train.drop(['source_node', 'destination_node','indicator_link','svd_u_s_1', 'svd_u_s_2','svd_u_s_3', 'svd_u_s_4', 'svd_u_s_5', 'svd_u_s_6','svd_u_d_1', 'svd_u_d_2', 'svd_u_d_3', 'svd_u_d_4', 'svd_u_d_5','svd_u_d_6','svd_v_s_1','svd_v_s_2', 'svd_v_s_3', 'svd_v_s_4', 'svd_v_s_5', 'svd_v_s_6','svd_v_d_1', 'svd_v_d_2', 'svd_v_d_3', 'svd_v_d_4', 'svd_v_d_5','svd_v_d_6'],axis=1,inplace=True)\n",
    "df_final_test.drop(['source_node', 'destination_node','indicator_link','svd_u_s_1', 'svd_u_s_2','svd_u_s_3', 'svd_u_s_4', 'svd_u_s_5', 'svd_u_s_6','svd_u_d_1', 'svd_u_d_2', 'svd_u_d_3', 'svd_u_d_4', 'svd_u_d_5','svd_u_d_6','svd_v_s_1','svd_v_s_2', 'svd_v_s_3', 'svd_v_s_4', 'svd_v_s_5', 'svd_v_s_6','svd_v_d_1', 'svd_v_d_2', 'svd_v_d_3', 'svd_v_d_4', 'svd_v_d_5','svd_v_d_6'],axis=1,inplace=True)"
   ]
  },
  {
   "cell_type": "code",
   "execution_count": 141,
   "metadata": {
    "ExecuteTime": {
     "end_time": "2022-05-28T12:09:37.492478Z",
     "start_time": "2022-05-28T12:09:37.482672Z"
    }
   },
   "outputs": [
    {
     "data": {
      "text/html": [
       "<div>\n",
       "<style scoped>\n",
       "    .dataframe tbody tr th:only-of-type {\n",
       "        vertical-align: middle;\n",
       "    }\n",
       "\n",
       "    .dataframe tbody tr th {\n",
       "        vertical-align: top;\n",
       "    }\n",
       "\n",
       "    .dataframe thead th {\n",
       "        text-align: right;\n",
       "    }\n",
       "</style>\n",
       "<table border=\"1\" class=\"dataframe\">\n",
       "  <thead>\n",
       "    <tr style=\"text-align: right;\">\n",
       "      <th></th>\n",
       "      <th>jaccard_distance</th>\n",
       "      <th>cosine_distances</th>\n",
       "      <th>same_community</th>\n",
       "      <th>shortest_path</th>\n",
       "      <th>Common_neighbors</th>\n",
       "      <th>adar</th>\n",
       "      <th>Resource_Allocation_Index</th>\n",
       "      <th>Preferential_Attachment</th>\n",
       "      <th>svd_dot_u</th>\n",
       "      <th>svd_dot_v</th>\n",
       "      <th>node2vector</th>\n",
       "      <th>GEMSEC</th>\n",
       "      <th>GEMSECWithRegularization</th>\n",
       "      <th>DeepWalk</th>\n",
       "      <th>DeepWalkWithRegularization</th>\n",
       "    </tr>\n",
       "  </thead>\n",
       "  <tbody>\n",
       "    <tr>\n",
       "      <th>0</th>\n",
       "      <td>0.294118</td>\n",
       "      <td>0.047619</td>\n",
       "      <td>1</td>\n",
       "      <td>1</td>\n",
       "      <td>5</td>\n",
       "      <td>2.161036</td>\n",
       "      <td>0.501354</td>\n",
       "      <td>105</td>\n",
       "      <td>8.625683e-06</td>\n",
       "      <td>8.625683e-06</td>\n",
       "      <td>-1.003151</td>\n",
       "      <td>-2.185937</td>\n",
       "      <td>4.049660</td>\n",
       "      <td>2.901259</td>\n",
       "      <td>1.313043</td>\n",
       "    </tr>\n",
       "    <tr>\n",
       "      <th>1</th>\n",
       "      <td>0.000000</td>\n",
       "      <td>0.000000</td>\n",
       "      <td>1</td>\n",
       "      <td>1</td>\n",
       "      <td>0</td>\n",
       "      <td>0.000000</td>\n",
       "      <td>0.000000</td>\n",
       "      <td>44</td>\n",
       "      <td>2.157490e-10</td>\n",
       "      <td>2.157490e-10</td>\n",
       "      <td>2.259412</td>\n",
       "      <td>-3.882927</td>\n",
       "      <td>-7.951956</td>\n",
       "      <td>-11.163434</td>\n",
       "      <td>5.721247</td>\n",
       "    </tr>\n",
       "    <tr>\n",
       "      <th>2</th>\n",
       "      <td>0.176471</td>\n",
       "      <td>0.031250</td>\n",
       "      <td>1</td>\n",
       "      <td>1</td>\n",
       "      <td>3</td>\n",
       "      <td>1.392175</td>\n",
       "      <td>0.348485</td>\n",
       "      <td>96</td>\n",
       "      <td>3.087866e-08</td>\n",
       "      <td>3.087866e-08</td>\n",
       "      <td>3.160188</td>\n",
       "      <td>-6.778196</td>\n",
       "      <td>-5.363354</td>\n",
       "      <td>-6.472065</td>\n",
       "      <td>3.890312</td>\n",
       "    </tr>\n",
       "    <tr>\n",
       "      <th>3</th>\n",
       "      <td>0.505618</td>\n",
       "      <td>0.010302</td>\n",
       "      <td>1</td>\n",
       "      <td>1</td>\n",
       "      <td>45</td>\n",
       "      <td>11.265735</td>\n",
       "      <td>0.839549</td>\n",
       "      <td>4368</td>\n",
       "      <td>1.262273e-02</td>\n",
       "      <td>1.262273e-02</td>\n",
       "      <td>-3.275452</td>\n",
       "      <td>9.163351</td>\n",
       "      <td>-2.573558</td>\n",
       "      <td>5.838528</td>\n",
       "      <td>0.805989</td>\n",
       "    </tr>\n",
       "    <tr>\n",
       "      <th>4</th>\n",
       "      <td>0.529412</td>\n",
       "      <td>0.053571</td>\n",
       "      <td>1</td>\n",
       "      <td>1</td>\n",
       "      <td>9</td>\n",
       "      <td>3.733518</td>\n",
       "      <td>0.817671</td>\n",
       "      <td>168</td>\n",
       "      <td>2.179123e-05</td>\n",
       "      <td>2.179123e-05</td>\n",
       "      <td>-1.176488</td>\n",
       "      <td>-4.380023</td>\n",
       "      <td>-6.899915</td>\n",
       "      <td>-6.302849</td>\n",
       "      <td>2.947937</td>\n",
       "    </tr>\n",
       "    <tr>\n",
       "      <th>...</th>\n",
       "      <td>...</td>\n",
       "      <td>...</td>\n",
       "      <td>...</td>\n",
       "      <td>...</td>\n",
       "      <td>...</td>\n",
       "      <td>...</td>\n",
       "      <td>...</td>\n",
       "      <td>...</td>\n",
       "      <td>...</td>\n",
       "      <td>...</td>\n",
       "      <td>...</td>\n",
       "      <td>...</td>\n",
       "      <td>...</td>\n",
       "      <td>...</td>\n",
       "      <td>...</td>\n",
       "    </tr>\n",
       "    <tr>\n",
       "      <th>27613</th>\n",
       "      <td>0.000000</td>\n",
       "      <td>0.000000</td>\n",
       "      <td>1</td>\n",
       "      <td>6</td>\n",
       "      <td>0</td>\n",
       "      <td>0.000000</td>\n",
       "      <td>0.000000</td>\n",
       "      <td>3</td>\n",
       "      <td>3.910443e-08</td>\n",
       "      <td>3.910443e-08</td>\n",
       "      <td>-0.373011</td>\n",
       "      <td>2.994091</td>\n",
       "      <td>2.413717</td>\n",
       "      <td>4.504828</td>\n",
       "      <td>-1.306503</td>\n",
       "    </tr>\n",
       "    <tr>\n",
       "      <th>27614</th>\n",
       "      <td>0.000000</td>\n",
       "      <td>0.000000</td>\n",
       "      <td>1</td>\n",
       "      <td>16</td>\n",
       "      <td>0</td>\n",
       "      <td>0.000000</td>\n",
       "      <td>0.000000</td>\n",
       "      <td>6</td>\n",
       "      <td>1.158245e-19</td>\n",
       "      <td>1.158599e-19</td>\n",
       "      <td>0.845542</td>\n",
       "      <td>5.302682</td>\n",
       "      <td>-2.747971</td>\n",
       "      <td>-9.869774</td>\n",
       "      <td>4.105052</td>\n",
       "    </tr>\n",
       "    <tr>\n",
       "      <th>27615</th>\n",
       "      <td>0.000000</td>\n",
       "      <td>0.000000</td>\n",
       "      <td>1</td>\n",
       "      <td>8</td>\n",
       "      <td>0</td>\n",
       "      <td>0.000000</td>\n",
       "      <td>0.000000</td>\n",
       "      <td>27</td>\n",
       "      <td>1.219242e-09</td>\n",
       "      <td>1.219242e-09</td>\n",
       "      <td>1.311722</td>\n",
       "      <td>2.501453</td>\n",
       "      <td>-0.849995</td>\n",
       "      <td>-4.328816</td>\n",
       "      <td>1.252320</td>\n",
       "    </tr>\n",
       "    <tr>\n",
       "      <th>27616</th>\n",
       "      <td>0.000000</td>\n",
       "      <td>0.000000</td>\n",
       "      <td>1</td>\n",
       "      <td>5</td>\n",
       "      <td>0</td>\n",
       "      <td>0.000000</td>\n",
       "      <td>0.000000</td>\n",
       "      <td>4</td>\n",
       "      <td>3.065339e-08</td>\n",
       "      <td>3.065339e-08</td>\n",
       "      <td>-0.824757</td>\n",
       "      <td>-3.967607</td>\n",
       "      <td>-2.463705</td>\n",
       "      <td>-1.888480</td>\n",
       "      <td>3.313129</td>\n",
       "    </tr>\n",
       "    <tr>\n",
       "      <th>27617</th>\n",
       "      <td>0.000000</td>\n",
       "      <td>0.000000</td>\n",
       "      <td>1</td>\n",
       "      <td>8</td>\n",
       "      <td>0</td>\n",
       "      <td>0.000000</td>\n",
       "      <td>0.000000</td>\n",
       "      <td>10</td>\n",
       "      <td>1.922672e-10</td>\n",
       "      <td>1.922672e-10</td>\n",
       "      <td>-0.604526</td>\n",
       "      <td>4.548500</td>\n",
       "      <td>6.639584</td>\n",
       "      <td>2.391000</td>\n",
       "      <td>-4.965812</td>\n",
       "    </tr>\n",
       "  </tbody>\n",
       "</table>\n",
       "<p>27618 rows × 15 columns</p>\n",
       "</div>"
      ],
      "text/plain": [
       "       jaccard_distance  cosine_distances  same_community  shortest_path  \\\n",
       "0              0.294118          0.047619               1              1   \n",
       "1              0.000000          0.000000               1              1   \n",
       "2              0.176471          0.031250               1              1   \n",
       "3              0.505618          0.010302               1              1   \n",
       "4              0.529412          0.053571               1              1   \n",
       "...                 ...               ...             ...            ...   \n",
       "27613          0.000000          0.000000               1              6   \n",
       "27614          0.000000          0.000000               1             16   \n",
       "27615          0.000000          0.000000               1              8   \n",
       "27616          0.000000          0.000000               1              5   \n",
       "27617          0.000000          0.000000               1              8   \n",
       "\n",
       "       Common_neighbors       adar  Resource_Allocation_Index  \\\n",
       "0                     5   2.161036                   0.501354   \n",
       "1                     0   0.000000                   0.000000   \n",
       "2                     3   1.392175                   0.348485   \n",
       "3                    45  11.265735                   0.839549   \n",
       "4                     9   3.733518                   0.817671   \n",
       "...                 ...        ...                        ...   \n",
       "27613                 0   0.000000                   0.000000   \n",
       "27614                 0   0.000000                   0.000000   \n",
       "27615                 0   0.000000                   0.000000   \n",
       "27616                 0   0.000000                   0.000000   \n",
       "27617                 0   0.000000                   0.000000   \n",
       "\n",
       "       Preferential_Attachment     svd_dot_u     svd_dot_v  node2vector  \\\n",
       "0                          105  8.625683e-06  8.625683e-06    -1.003151   \n",
       "1                           44  2.157490e-10  2.157490e-10     2.259412   \n",
       "2                           96  3.087866e-08  3.087866e-08     3.160188   \n",
       "3                         4368  1.262273e-02  1.262273e-02    -3.275452   \n",
       "4                          168  2.179123e-05  2.179123e-05    -1.176488   \n",
       "...                        ...           ...           ...          ...   \n",
       "27613                        3  3.910443e-08  3.910443e-08    -0.373011   \n",
       "27614                        6  1.158245e-19  1.158599e-19     0.845542   \n",
       "27615                       27  1.219242e-09  1.219242e-09     1.311722   \n",
       "27616                        4  3.065339e-08  3.065339e-08    -0.824757   \n",
       "27617                       10  1.922672e-10  1.922672e-10    -0.604526   \n",
       "\n",
       "         GEMSEC  GEMSECWithRegularization   DeepWalk  \\\n",
       "0     -2.185937                  4.049660   2.901259   \n",
       "1     -3.882927                 -7.951956 -11.163434   \n",
       "2     -6.778196                 -5.363354  -6.472065   \n",
       "3      9.163351                 -2.573558   5.838528   \n",
       "4     -4.380023                 -6.899915  -6.302849   \n",
       "...         ...                       ...        ...   \n",
       "27613  2.994091                  2.413717   4.504828   \n",
       "27614  5.302682                 -2.747971  -9.869774   \n",
       "27615  2.501453                 -0.849995  -4.328816   \n",
       "27616 -3.967607                 -2.463705  -1.888480   \n",
       "27617  4.548500                  6.639584   2.391000   \n",
       "\n",
       "       DeepWalkWithRegularization  \n",
       "0                        1.313043  \n",
       "1                        5.721247  \n",
       "2                        3.890312  \n",
       "3                        0.805989  \n",
       "4                        2.947937  \n",
       "...                           ...  \n",
       "27613                   -1.306503  \n",
       "27614                    4.105052  \n",
       "27615                    1.252320  \n",
       "27616                    3.313129  \n",
       "27617                   -4.965812  \n",
       "\n",
       "[27618 rows x 15 columns]"
      ]
     },
     "execution_count": 141,
     "metadata": {},
     "output_type": "execute_result"
    }
   ],
   "source": [
    "df_final_train"
   ]
  },
  {
   "cell_type": "code",
   "execution_count": 142,
   "metadata": {
    "ExecuteTime": {
     "end_time": "2022-05-28T12:09:37.497350Z",
     "start_time": "2022-05-28T12:09:37.493450Z"
    }
   },
   "outputs": [
    {
     "data": {
      "text/plain": [
       "(array([], dtype=int64), array([], dtype=int64))"
      ]
     },
     "execution_count": 142,
     "metadata": {},
     "output_type": "execute_result"
    }
   ],
   "source": [
    "# np.where(np.isnan(df_final_train))\n"
   ]
  },
  {
   "cell_type": "code",
   "execution_count": 143,
   "metadata": {
    "ExecuteTime": {
     "end_time": "2022-05-28T12:09:37.500519Z",
     "start_time": "2022-05-28T12:09:37.498170Z"
    },
    "colab": {},
    "colab_type": "code",
    "id": "lIEc91uVHgli",
    "outputId": "31f04b72-ebe5-4b13-ccca-a5ae3bc4f09c"
   },
   "outputs": [],
   "source": [
    "from sklearn.metrics import f1_score\n",
    "from sklearn.ensemble import RandomForestClassifier\n",
    "from sklearn.model_selection import RandomizedSearchCV\n",
    "from scipy.stats import randint as sp_randint\n",
    "from scipy.stats import uniform\n",
    "\n",
    "# estimators = [10,50,100,250,450]\n",
    "# train_scores = []\n",
    "# test_scores = []\n",
    "# for i in estimators:\n",
    "#     clf = RandomForestClassifier(bootstrap=True, class_weight=None, criterion='gini',\n",
    "#             max_depth=5, max_features='auto', max_leaf_nodes=None,\n",
    "#             min_impurity_decrease=0.0,\n",
    "#             min_samples_leaf=52, min_samples_split=120,\n",
    "#             min_weight_fraction_leaf=0.0, n_estimators=i, n_jobs=-1,random_state=25,verbose=0,warm_start=False)\n",
    "#     clf.fit(df_final_train,y_train)\n",
    "#     train_sc = f1_score(y_train,clf.predict(df_final_train))\n",
    "#     test_sc = f1_score(y_test,clf.predict(df_final_test))\n",
    "#     test_scores.append(test_sc)\n",
    "#     train_scores.append(train_sc)\n",
    "#     print('Estimators = ',i,'Train Score',train_sc,'test Score',test_sc)\n",
    "# plt.plot(estimators,train_scores,label='Train Score')\n",
    "# plt.plot(estimators,test_scores,label='Test Score')\n",
    "# plt.xlabel('Estimators')\n",
    "# plt.ylabel('Score')\n",
    "# plt.title('Estimators vs score at depth of 5')"
   ]
  },
  {
   "cell_type": "code",
   "execution_count": 144,
   "metadata": {
    "ExecuteTime": {
     "end_time": "2022-05-28T12:09:37.503237Z",
     "start_time": "2022-05-28T12:09:37.501403Z"
    },
    "colab": {},
    "colab_type": "code",
    "id": "nZxhrTdQHglm",
    "outputId": "53382b8e-148d-4c22-8066-d9807fb27012"
   },
   "outputs": [],
   "source": [
    "# depths = [3,9,11,15,20,35,50,70,130]\n",
    "# train_scores = []\n",
    "# test_scores = []\n",
    "# for i in depths:\n",
    "#     clf = RandomForestClassifier(bootstrap=True, class_weight=None, criterion='gini',\n",
    "#             max_depth=i, max_features='auto', max_leaf_nodes=None,\n",
    "#             min_impurity_decrease=0.0,\n",
    "#             min_samples_leaf=52, min_samples_split=120,\n",
    "#             min_weight_fraction_leaf=0.0, n_estimators=115, n_jobs=-1,random_state=25,verbose=0,warm_start=False)\n",
    "#     clf.fit(df_final_train,y_train)\n",
    "#     train_sc = f1_score(y_train,clf.predict(df_final_train))\n",
    "#     test_sc = f1_score(y_test,clf.predict(df_final_test))\n",
    "#     test_scores.append(test_sc)\n",
    "#     train_scores.append(train_sc)\n",
    "#     print('depth = ',i,'Train Score',train_sc,'test Score',test_sc)\n",
    "# plt.plot(depths,train_scores,label='Train Score')\n",
    "# plt.plot(depths,test_scores,label='Test Score')\n",
    "# plt.xlabel('Depth')\n",
    "# plt.ylabel('Score')\n",
    "# plt.title('Depth vs score at depth of 5 at estimators = 115')\n",
    "# plt.show()"
   ]
  },
  {
   "cell_type": "code",
   "execution_count": 145,
   "metadata": {
    "ExecuteTime": {
     "end_time": "2022-05-28T12:09:49.137518Z",
     "start_time": "2022-05-28T12:09:37.503962Z"
    },
    "colab": {},
    "colab_type": "code",
    "id": "MrG1Lfl3Hglq",
    "outputId": "7b6e3c97-8d66-455d-cd79-213f824719cc"
   },
   "outputs": [
    {
     "name": "stdout",
     "output_type": "stream",
     "text": [
      "mean test scores [1. 1. 1. 1. 1.]\n"
     ]
    }
   ],
   "source": [
    "param_dist = {\"n_estimators\":sp_randint(105,125),\n",
    "              \"max_depth\": sp_randint(10,15),\n",
    "              \"min_samples_split\": sp_randint(110,190),\n",
    "              \"min_samples_leaf\": sp_randint(25,65)}\n",
    "\n",
    "clf = RandomForestClassifier(random_state=25,n_jobs=-1)\n",
    "\n",
    "rf_random = RandomizedSearchCV(clf, param_distributions=param_dist,\n",
    "                                   n_iter=5,cv=10,scoring='f1',random_state=25)\n",
    "\n",
    "\n",
    "rf_random.fit(df_final_train,y_train)\n",
    "print('mean test scores',rf_random.cv_results_['mean_test_score'])\n",
    "# print('mean train scores',rf_random.cv_results_['mean_train_score'])"
   ]
  },
  {
   "cell_type": "code",
   "execution_count": 146,
   "metadata": {
    "ExecuteTime": {
     "end_time": "2022-05-28T12:09:49.140826Z",
     "start_time": "2022-05-28T12:09:49.138591Z"
    },
    "colab": {},
    "colab_type": "code",
    "id": "hme3j_diHglu",
    "outputId": "581ccc02-7770-4a94-d003-257af4e81570"
   },
   "outputs": [
    {
     "name": "stdout",
     "output_type": "stream",
     "text": [
      "RandomForestClassifier(max_depth=14, min_samples_leaf=51, min_samples_split=125,\n",
      "                       n_estimators=117, n_jobs=-1, random_state=25)\n"
     ]
    }
   ],
   "source": [
    "print(rf_random.best_estimator_)"
   ]
  },
  {
   "cell_type": "code",
   "execution_count": 147,
   "metadata": {
    "ExecuteTime": {
     "end_time": "2022-05-28T12:09:49.143027Z",
     "start_time": "2022-05-28T12:09:49.141567Z"
    }
   },
   "outputs": [],
   "source": [
    "clf = rf_random.best_estimator_"
   ]
  },
  {
   "cell_type": "code",
   "execution_count": 148,
   "metadata": {
    "ExecuteTime": {
     "end_time": "2022-05-28T12:09:49.451439Z",
     "start_time": "2022-05-28T12:09:49.143666Z"
    },
    "colab": {},
    "colab_type": "code",
    "id": "Dax83GfLHgl1"
   },
   "outputs": [],
   "source": [
    "clf.fit(df_final_train,y_train)\n",
    "y_train_pred = clf.predict(df_final_train)\n",
    "y_test_pred = clf.predict(df_final_test)"
   ]
  },
  {
   "cell_type": "code",
   "execution_count": 149,
   "metadata": {
    "ExecuteTime": {
     "end_time": "2022-05-28T12:09:49.462068Z",
     "start_time": "2022-05-28T12:09:49.452477Z"
    },
    "colab": {},
    "colab_type": "code",
    "id": "PTtAp1iTHgl4",
    "outputId": "e2e3d725-3c4d-4374-d303-8f294b570977"
   },
   "outputs": [
    {
     "name": "stdout",
     "output_type": "stream",
     "text": [
      "Train f1 score 1.0\n",
      "Test f1 score 0.8850500484339683\n"
     ]
    }
   ],
   "source": [
    "from sklearn.metrics import f1_score\n",
    "print('Train f1 score',f1_score(y_train,y_train_pred))\n",
    "print('Test f1 score',f1_score(y_test,y_test_pred))"
   ]
  },
  {
   "cell_type": "code",
   "execution_count": 150,
   "metadata": {
    "ExecuteTime": {
     "end_time": "2022-05-28T12:09:49.464521Z",
     "start_time": "2022-05-28T12:09:49.462983Z"
    }
   },
   "outputs": [],
   "source": [
    "# f = open(\"./results/RandomForest_f1_transposed.csv\", \"a\")\n",
    "# f.write(str(f1_score(y_test,y_test_pred)))\n",
    "# if not args.PCA:\n",
    "#     f.write('\\n')\n",
    "# else:\n",
    "#     f.write(',')\n",
    "# f.close()"
   ]
  },
  {
   "cell_type": "code",
   "execution_count": 151,
   "metadata": {
    "ExecuteTime": {
     "end_time": "2022-05-28T12:09:49.470537Z",
     "start_time": "2022-05-28T12:09:49.465350Z"
    },
    "colab": {},
    "colab_type": "code",
    "id": "5XfUkZYQHgl7"
   },
   "outputs": [],
   "source": [
    "from sklearn.metrics import confusion_matrix\n",
    "def plot_confusion_matrix(test_y, predict_y,split):\n",
    "    C = confusion_matrix(test_y, predict_y)\n",
    "    \n",
    "    A =(((C.T)/(C.sum(axis=1))).T)\n",
    "    \n",
    "    B =(C/C.sum(axis=0))\n",
    "    plt.figure(figsize=(20,4))\n",
    "    \n",
    "    labels = [0,1]\n",
    "    # representing A in heatmap format\n",
    "    cmap=sns.light_palette(\"blue\")\n",
    "    plt.subplot(1, 3, 1)\n",
    "    sns.heatmap(C, annot=True, cmap=cmap, fmt=\".3f\", xticklabels=labels, yticklabels=labels)\n",
    "    plt.xlabel('Predicted Class')\n",
    "    plt.ylabel('Original Class')\n",
    "    plt.title(\"Confusion matrix\")\n",
    "    \n",
    "    plt.subplot(1, 3, 2)\n",
    "    sns.heatmap(B, annot=True, cmap=cmap, fmt=\".3f\", xticklabels=labels, yticklabels=labels)\n",
    "    plt.xlabel('Predicted Class')\n",
    "    plt.ylabel('Original Class')\n",
    "    plt.title(\"Precision matrix\")\n",
    "    \n",
    "    plt.subplot(1, 3, 3)\n",
    "    # representing B in heatmap format\n",
    "    sns.heatmap(A, annot=True, cmap=cmap, fmt=\".3f\", xticklabels=labels, yticklabels=labels)\n",
    "    plt.xlabel('Predicted Class')\n",
    "    plt.ylabel('Original Class')\n",
    "    plt.title(\"Recall matrix\")\n",
    "    plt.tight_layout()\n",
    "    plt.savefig(f\"./results/{PCAornot}/{genre}/RandomForest/{split}_confusion_matrix.png\")  \n",
    "#     plt.show()"
   ]
  },
  {
   "cell_type": "code",
   "execution_count": 152,
   "metadata": {
    "ExecuteTime": {
     "end_time": "2022-05-28T12:09:49.983841Z",
     "start_time": "2022-05-28T12:09:49.471384Z"
    },
    "colab": {},
    "colab_type": "code",
    "id": "s6t11dhTHgl-",
    "outputId": "189de3be-1c99-4653-f56f-12b18b0f4db7"
   },
   "outputs": [
    {
     "name": "stdout",
     "output_type": "stream",
     "text": [
      "Train confusion_matrix\n"
     ]
    },
    {
     "data": {
      "image/png": "[encoded data removed]",
      "text/plain": [
       "<Figure size 1440x288 with 6 Axes>"
      ]
     },
     "metadata": {},
     "output_type": "display_data"
    },
    {
     "name": "stdout",
     "output_type": "stream",
     "text": [
      "Test confusion_matrix\n"
     ]
    },
    {
     "data": {
      "image/png": "[encoded data removed]",
      "text/plain": [
       "<Figure size 1440x288 with 6 Axes>"
      ]
     },
     "metadata": {},
     "output_type": "display_data"
    }
   ],
   "source": [
    "print('Train confusion_matrix')\n",
    "plot_confusion_matrix(y_train,y_train_pred,'Train')\n",
    "print('Test confusion_matrix')\n",
    "plot_confusion_matrix(y_test,y_test_pred,'Test')"
   ]
  },
  {
   "cell_type": "code",
   "execution_count": 153,
   "metadata": {
    "ExecuteTime": {
     "end_time": "2022-05-28T12:09:50.076645Z",
     "start_time": "2022-05-28T12:09:49.984675Z"
    },
    "colab": {},
    "colab_type": "code",
    "id": "61TF-VLeHgmD",
    "outputId": "795f1b39-61c7-470f-e2d0-1fe6dc7ac5fd"
   },
   "outputs": [
    {
     "data": {
      "image/png": "[encoded data removed]",
      "text/plain": [
       "<Figure size 432x288 with 1 Axes>"
      ]
     },
     "metadata": {},
     "output_type": "display_data"
    }
   ],
   "source": [
    "from sklearn.metrics import roc_curve, auc\n",
    "fpr,tpr,ths = roc_curve(y_test,y_test_pred)\n",
    "auc_sc = auc(fpr, tpr)\n",
    "plt.figure()\n",
    "plt.plot(fpr, tpr, color='navy',label='ROC curve (area = %0.2f)' % auc_sc)\n",
    "plt.xlabel('False Positive Rate')\n",
    "plt.ylabel('True Positive Rate')\n",
    "plt.title('Receiver operating characteristic with test data')\n",
    "plt.legend()\n",
    "plt.tight_layout()\n",
    "plt.savefig(f\"./results/{PCAornot}/{genre}/RandomForest/roc_curve.png\")\n",
    "# plt.show()"
   ]
  },
  {
   "cell_type": "code",
   "execution_count": 154,
   "metadata": {
    "ExecuteTime": {
     "end_time": "2022-05-28T12:09:50.225652Z",
     "start_time": "2022-05-28T12:09:50.081394Z"
    },
    "colab": {},
    "colab_type": "code",
    "id": "HEZ7uvN6HgmK",
    "outputId": "6f762256-54fc-4e2f-865b-22342033eb2c",
    "scrolled": false
   },
   "outputs": [
    {
     "data": {
      "image/png": "[encoded data removed]",
      "text/plain": [
       "<Figure size 720x864 with 1 Axes>"
      ]
     },
     "metadata": {},
     "output_type": "display_data"
    }
   ],
   "source": [
    "features = df_final_train.columns\n",
    "importances = clf.feature_importances_\n",
    "indices = (np.argsort(importances))[-25:]\n",
    "plt.figure(figsize=(10,12))\n",
    "plt.title('Feature Importances')\n",
    "plt.barh(range(len(indices)), importances[indices], color='r', align='center')\n",
    "plt.yticks(range(len(indices)), [features[i] for i in indices])\n",
    "plt.xlabel('Relative Importance')\n",
    "plt.tight_layout()\n",
    "plt.savefig(f\"./results/{PCAornot}/{genre}/RandomForest/importance.png\")\n",
    "# plt.show()"
   ]
  },
  {
   "cell_type": "markdown",
   "metadata": {
    "colab_type": "text",
    "id": "_rYXyDpCizW0"
   },
   "source": [
    "# GBDT"
   ]
  },
  {
   "cell_type": "code",
   "execution_count": 155,
   "metadata": {
    "ExecuteTime": {
     "end_time": "2022-05-28T12:09:50.508653Z",
     "start_time": "2022-05-28T12:09:50.226806Z"
    },
    "colab": {},
    "colab_type": "code",
    "id": "a6A_lPdakWJd"
   },
   "outputs": [],
   "source": [
    "#reading\n",
    "from pandas import read_hdf\n",
    "if args.PCA:\n",
    "    df_final_train = read_hdf(f'./data/{genre}/fea_sample/other_features/storage_sample_stage4.h5', 'train_df',mode='r')\n",
    "    df_final_test = read_hdf(f'./data/{genre}/fea_sample/other_features/storage_sample_stage4.h5', 'test_df',mode='r')\n",
    "else:\n",
    "    df_final_train = read_hdf(f'./data/{genre}/fea_sample/other_features/storage_sample_stage3.h5', 'train_df',mode='r')\n",
    "    df_final_test = read_hdf(f'./data/{genre}/fea_sample/other_features/storage_sample_stage3.h5', 'test_df',mode='r')  "
   ]
  },
  {
   "cell_type": "code",
   "execution_count": 156,
   "metadata": {
    "ExecuteTime": {
     "end_time": "2022-05-28T12:09:50.524449Z",
     "start_time": "2022-05-28T12:09:50.509647Z"
    }
   },
   "outputs": [
    {
     "data": {
      "text/html": [
       "<div>\n",
       "<style scoped>\n",
       "    .dataframe tbody tr th:only-of-type {\n",
       "        vertical-align: middle;\n",
       "    }\n",
       "\n",
       "    .dataframe tbody tr th {\n",
       "        vertical-align: top;\n",
       "    }\n",
       "\n",
       "    .dataframe thead th {\n",
       "        text-align: right;\n",
       "    }\n",
       "</style>\n",
       "<table border=\"1\" class=\"dataframe\">\n",
       "  <thead>\n",
       "    <tr style=\"text-align: right;\">\n",
       "      <th></th>\n",
       "      <th>source_node</th>\n",
       "      <th>destination_node</th>\n",
       "      <th>indicator_link</th>\n",
       "      <th>jaccard_distance</th>\n",
       "      <th>cosine_distances</th>\n",
       "      <th>same_community</th>\n",
       "      <th>shortest_path</th>\n",
       "      <th>Common_neighbors</th>\n",
       "      <th>adar</th>\n",
       "      <th>Resource_Allocation_Index</th>\n",
       "      <th>...</th>\n",
       "      <th>svd_v_d_4</th>\n",
       "      <th>svd_v_d_5</th>\n",
       "      <th>svd_v_d_6</th>\n",
       "      <th>svd_dot_u</th>\n",
       "      <th>svd_dot_v</th>\n",
       "      <th>node2vector</th>\n",
       "      <th>GEMSEC</th>\n",
       "      <th>GEMSECWithRegularization</th>\n",
       "      <th>DeepWalk</th>\n",
       "      <th>DeepWalkWithRegularization</th>\n",
       "    </tr>\n",
       "  </thead>\n",
       "  <tbody>\n",
       "    <tr>\n",
       "      <th>0</th>\n",
       "      <td>3413</td>\n",
       "      <td>3343</td>\n",
       "      <td>1</td>\n",
       "      <td>0.294118</td>\n",
       "      <td>0.047619</td>\n",
       "      <td>1</td>\n",
       "      <td>1</td>\n",
       "      <td>5</td>\n",
       "      <td>2.161036</td>\n",
       "      <td>0.501354</td>\n",
       "      <td>...</td>\n",
       "      <td>0.000983</td>\n",
       "      <td>-2.151501e-04</td>\n",
       "      <td>3.207119e-05</td>\n",
       "      <td>8.625683e-06</td>\n",
       "      <td>8.625683e-06</td>\n",
       "      <td>-1.003151</td>\n",
       "      <td>-2.185937</td>\n",
       "      <td>4.049660</td>\n",
       "      <td>2.901259</td>\n",
       "      <td>1.313043</td>\n",
       "    </tr>\n",
       "    <tr>\n",
       "      <th>1</th>\n",
       "      <td>146</td>\n",
       "      <td>2234</td>\n",
       "      <td>1</td>\n",
       "      <td>0.000000</td>\n",
       "      <td>0.000000</td>\n",
       "      <td>1</td>\n",
       "      <td>1</td>\n",
       "      <td>0</td>\n",
       "      <td>0.000000</td>\n",
       "      <td>0.000000</td>\n",
       "      <td>...</td>\n",
       "      <td>0.000002</td>\n",
       "      <td>-5.250280e-09</td>\n",
       "      <td>1.054386e-08</td>\n",
       "      <td>2.157490e-10</td>\n",
       "      <td>2.157490e-10</td>\n",
       "      <td>2.259412</td>\n",
       "      <td>-3.882927</td>\n",
       "      <td>-7.951956</td>\n",
       "      <td>-11.163434</td>\n",
       "      <td>5.721247</td>\n",
       "    </tr>\n",
       "    <tr>\n",
       "      <th>2</th>\n",
       "      <td>1481</td>\n",
       "      <td>1113</td>\n",
       "      <td>1</td>\n",
       "      <td>0.176471</td>\n",
       "      <td>0.031250</td>\n",
       "      <td>1</td>\n",
       "      <td>1</td>\n",
       "      <td>3</td>\n",
       "      <td>1.392175</td>\n",
       "      <td>0.348485</td>\n",
       "      <td>...</td>\n",
       "      <td>0.000036</td>\n",
       "      <td>-1.821458e-07</td>\n",
       "      <td>1.118372e-06</td>\n",
       "      <td>3.087866e-08</td>\n",
       "      <td>3.087866e-08</td>\n",
       "      <td>3.160188</td>\n",
       "      <td>-6.778196</td>\n",
       "      <td>-5.363354</td>\n",
       "      <td>-6.472065</td>\n",
       "      <td>3.890312</td>\n",
       "    </tr>\n",
       "    <tr>\n",
       "      <th>3</th>\n",
       "      <td>2036</td>\n",
       "      <td>2350</td>\n",
       "      <td>1</td>\n",
       "      <td>0.505618</td>\n",
       "      <td>0.010302</td>\n",
       "      <td>1</td>\n",
       "      <td>1</td>\n",
       "      <td>45</td>\n",
       "      <td>11.265735</td>\n",
       "      <td>0.839549</td>\n",
       "      <td>...</td>\n",
       "      <td>-0.061494</td>\n",
       "      <td>7.842732e-04</td>\n",
       "      <td>1.308478e-01</td>\n",
       "      <td>1.262273e-02</td>\n",
       "      <td>1.262273e-02</td>\n",
       "      <td>-3.275452</td>\n",
       "      <td>9.163351</td>\n",
       "      <td>-2.573558</td>\n",
       "      <td>5.838528</td>\n",
       "      <td>0.805989</td>\n",
       "    </tr>\n",
       "    <tr>\n",
       "      <th>4</th>\n",
       "      <td>65</td>\n",
       "      <td>2031</td>\n",
       "      <td>1</td>\n",
       "      <td>0.529412</td>\n",
       "      <td>0.053571</td>\n",
       "      <td>1</td>\n",
       "      <td>1</td>\n",
       "      <td>9</td>\n",
       "      <td>3.733518</td>\n",
       "      <td>0.817671</td>\n",
       "      <td>...</td>\n",
       "      <td>0.000773</td>\n",
       "      <td>-1.511492e-04</td>\n",
       "      <td>2.750821e-05</td>\n",
       "      <td>2.179123e-05</td>\n",
       "      <td>2.179123e-05</td>\n",
       "      <td>-1.176488</td>\n",
       "      <td>-4.380023</td>\n",
       "      <td>-6.899915</td>\n",
       "      <td>-6.302849</td>\n",
       "      <td>2.947937</td>\n",
       "    </tr>\n",
       "    <tr>\n",
       "      <th>...</th>\n",
       "      <td>...</td>\n",
       "      <td>...</td>\n",
       "      <td>...</td>\n",
       "      <td>...</td>\n",
       "      <td>...</td>\n",
       "      <td>...</td>\n",
       "      <td>...</td>\n",
       "      <td>...</td>\n",
       "      <td>...</td>\n",
       "      <td>...</td>\n",
       "      <td>...</td>\n",
       "      <td>...</td>\n",
       "      <td>...</td>\n",
       "      <td>...</td>\n",
       "      <td>...</td>\n",
       "      <td>...</td>\n",
       "      <td>...</td>\n",
       "      <td>...</td>\n",
       "      <td>...</td>\n",
       "      <td>...</td>\n",
       "      <td>...</td>\n",
       "    </tr>\n",
       "    <tr>\n",
       "      <th>27613</th>\n",
       "      <td>3477</td>\n",
       "      <td>217</td>\n",
       "      <td>0</td>\n",
       "      <td>0.000000</td>\n",
       "      <td>0.000000</td>\n",
       "      <td>1</td>\n",
       "      <td>6</td>\n",
       "      <td>0</td>\n",
       "      <td>0.000000</td>\n",
       "      <td>0.000000</td>\n",
       "      <td>...</td>\n",
       "      <td>0.000168</td>\n",
       "      <td>-5.450840e-06</td>\n",
       "      <td>2.989963e-06</td>\n",
       "      <td>3.910443e-08</td>\n",
       "      <td>3.910443e-08</td>\n",
       "      <td>-0.373011</td>\n",
       "      <td>2.994091</td>\n",
       "      <td>2.413717</td>\n",
       "      <td>4.504828</td>\n",
       "      <td>-1.306503</td>\n",
       "    </tr>\n",
       "    <tr>\n",
       "      <th>27614</th>\n",
       "      <td>121</td>\n",
       "      <td>1410</td>\n",
       "      <td>0</td>\n",
       "      <td>0.000000</td>\n",
       "      <td>0.000000</td>\n",
       "      <td>1</td>\n",
       "      <td>16</td>\n",
       "      <td>0</td>\n",
       "      <td>0.000000</td>\n",
       "      <td>0.000000</td>\n",
       "      <td>...</td>\n",
       "      <td>0.000002</td>\n",
       "      <td>-1.240897e-07</td>\n",
       "      <td>7.203413e-09</td>\n",
       "      <td>1.158245e-19</td>\n",
       "      <td>1.158599e-19</td>\n",
       "      <td>0.845542</td>\n",
       "      <td>5.302682</td>\n",
       "      <td>-2.747971</td>\n",
       "      <td>-9.869774</td>\n",
       "      <td>4.105052</td>\n",
       "    </tr>\n",
       "    <tr>\n",
       "      <th>27615</th>\n",
       "      <td>1587</td>\n",
       "      <td>1449</td>\n",
       "      <td>0</td>\n",
       "      <td>0.000000</td>\n",
       "      <td>0.000000</td>\n",
       "      <td>1</td>\n",
       "      <td>8</td>\n",
       "      <td>0</td>\n",
       "      <td>0.000000</td>\n",
       "      <td>0.000000</td>\n",
       "      <td>...</td>\n",
       "      <td>0.000001</td>\n",
       "      <td>-1.990181e-08</td>\n",
       "      <td>4.911184e-10</td>\n",
       "      <td>1.219242e-09</td>\n",
       "      <td>1.219242e-09</td>\n",
       "      <td>1.311722</td>\n",
       "      <td>2.501453</td>\n",
       "      <td>-0.849995</td>\n",
       "      <td>-4.328816</td>\n",
       "      <td>1.252320</td>\n",
       "    </tr>\n",
       "    <tr>\n",
       "      <th>27616</th>\n",
       "      <td>3328</td>\n",
       "      <td>3229</td>\n",
       "      <td>0</td>\n",
       "      <td>0.000000</td>\n",
       "      <td>0.000000</td>\n",
       "      <td>1</td>\n",
       "      <td>5</td>\n",
       "      <td>0</td>\n",
       "      <td>0.000000</td>\n",
       "      <td>0.000000</td>\n",
       "      <td>...</td>\n",
       "      <td>0.000006</td>\n",
       "      <td>-1.668157e-06</td>\n",
       "      <td>8.498193e-08</td>\n",
       "      <td>3.065339e-08</td>\n",
       "      <td>3.065339e-08</td>\n",
       "      <td>-0.824757</td>\n",
       "      <td>-3.967607</td>\n",
       "      <td>-2.463705</td>\n",
       "      <td>-1.888480</td>\n",
       "      <td>3.313129</td>\n",
       "    </tr>\n",
       "    <tr>\n",
       "      <th>27617</th>\n",
       "      <td>2625</td>\n",
       "      <td>321</td>\n",
       "      <td>0</td>\n",
       "      <td>0.000000</td>\n",
       "      <td>0.000000</td>\n",
       "      <td>1</td>\n",
       "      <td>8</td>\n",
       "      <td>0</td>\n",
       "      <td>0.000000</td>\n",
       "      <td>0.000000</td>\n",
       "      <td>...</td>\n",
       "      <td>0.005197</td>\n",
       "      <td>-2.807891e-04</td>\n",
       "      <td>2.882445e-03</td>\n",
       "      <td>1.922672e-10</td>\n",
       "      <td>1.922672e-10</td>\n",
       "      <td>-0.604526</td>\n",
       "      <td>4.548500</td>\n",
       "      <td>6.639584</td>\n",
       "      <td>2.391000</td>\n",
       "      <td>-4.965812</td>\n",
       "    </tr>\n",
       "  </tbody>\n",
       "</table>\n",
       "<p>27618 rows × 42 columns</p>\n",
       "</div>"
      ],
      "text/plain": [
       "       source_node  destination_node  indicator_link  jaccard_distance  \\\n",
       "0             3413              3343               1          0.294118   \n",
       "1              146              2234               1          0.000000   \n",
       "2             1481              1113               1          0.176471   \n",
       "3             2036              2350               1          0.505618   \n",
       "4               65              2031               1          0.529412   \n",
       "...            ...               ...             ...               ...   \n",
       "27613         3477               217               0          0.000000   \n",
       "27614          121              1410               0          0.000000   \n",
       "27615         1587              1449               0          0.000000   \n",
       "27616         3328              3229               0          0.000000   \n",
       "27617         2625               321               0          0.000000   \n",
       "\n",
       "       cosine_distances  same_community  shortest_path  Common_neighbors  \\\n",
       "0              0.047619               1              1                 5   \n",
       "1              0.000000               1              1                 0   \n",
       "2              0.031250               1              1                 3   \n",
       "3              0.010302               1              1                45   \n",
       "4              0.053571               1              1                 9   \n",
       "...                 ...             ...            ...               ...   \n",
       "27613          0.000000               1              6                 0   \n",
       "27614          0.000000               1             16                 0   \n",
       "27615          0.000000               1              8                 0   \n",
       "27616          0.000000               1              5                 0   \n",
       "27617          0.000000               1              8                 0   \n",
       "\n",
       "            adar  Resource_Allocation_Index  ...  svd_v_d_4     svd_v_d_5  \\\n",
       "0       2.161036                   0.501354  ...   0.000983 -2.151501e-04   \n",
       "1       0.000000                   0.000000  ...   0.000002 -5.250280e-09   \n",
       "2       1.392175                   0.348485  ...   0.000036 -1.821458e-07   \n",
       "3      11.265735                   0.839549  ...  -0.061494  7.842732e-04   \n",
       "4       3.733518                   0.817671  ...   0.000773 -1.511492e-04   \n",
       "...          ...                        ...  ...        ...           ...   \n",
       "27613   0.000000                   0.000000  ...   0.000168 -5.450840e-06   \n",
       "27614   0.000000                   0.000000  ...   0.000002 -1.240897e-07   \n",
       "27615   0.000000                   0.000000  ...   0.000001 -1.990181e-08   \n",
       "27616   0.000000                   0.000000  ...   0.000006 -1.668157e-06   \n",
       "27617   0.000000                   0.000000  ...   0.005197 -2.807891e-04   \n",
       "\n",
       "          svd_v_d_6     svd_dot_u     svd_dot_v  node2vector    GEMSEC  \\\n",
       "0      3.207119e-05  8.625683e-06  8.625683e-06    -1.003151 -2.185937   \n",
       "1      1.054386e-08  2.157490e-10  2.157490e-10     2.259412 -3.882927   \n",
       "2      1.118372e-06  3.087866e-08  3.087866e-08     3.160188 -6.778196   \n",
       "3      1.308478e-01  1.262273e-02  1.262273e-02    -3.275452  9.163351   \n",
       "4      2.750821e-05  2.179123e-05  2.179123e-05    -1.176488 -4.380023   \n",
       "...             ...           ...           ...          ...       ...   \n",
       "27613  2.989963e-06  3.910443e-08  3.910443e-08    -0.373011  2.994091   \n",
       "27614  7.203413e-09  1.158245e-19  1.158599e-19     0.845542  5.302682   \n",
       "27615  4.911184e-10  1.219242e-09  1.219242e-09     1.311722  2.501453   \n",
       "27616  8.498193e-08  3.065339e-08  3.065339e-08    -0.824757 -3.967607   \n",
       "27617  2.882445e-03  1.922672e-10  1.922672e-10    -0.604526  4.548500   \n",
       "\n",
       "       GEMSECWithRegularization   DeepWalk  DeepWalkWithRegularization  \n",
       "0                      4.049660   2.901259                    1.313043  \n",
       "1                     -7.951956 -11.163434                    5.721247  \n",
       "2                     -5.363354  -6.472065                    3.890312  \n",
       "3                     -2.573558   5.838528                    0.805989  \n",
       "4                     -6.899915  -6.302849                    2.947937  \n",
       "...                         ...        ...                         ...  \n",
       "27613                  2.413717   4.504828                   -1.306503  \n",
       "27614                 -2.747971  -9.869774                    4.105052  \n",
       "27615                 -0.849995  -4.328816                    1.252320  \n",
       "27616                 -2.463705  -1.888480                    3.313129  \n",
       "27617                  6.639584   2.391000                   -4.965812  \n",
       "\n",
       "[27618 rows x 42 columns]"
      ]
     },
     "execution_count": 156,
     "metadata": {},
     "output_type": "execute_result"
    }
   ],
   "source": [
    "df_final_train"
   ]
  },
  {
   "cell_type": "code",
   "execution_count": 157,
   "metadata": {
    "ExecuteTime": {
     "end_time": "2022-05-28T12:09:50.527607Z",
     "start_time": "2022-05-28T12:09:50.525298Z"
    },
    "colab": {
     "base_uri": "https://localhost:8080/",
     "height": 272
    },
    "colab_type": "code",
    "id": "5Gm-BHRkHglW",
    "outputId": "3a1e71d2-d1e7-42e0-b0eb-2ae688b6dfeb"
   },
   "outputs": [
    {
     "data": {
      "text/plain": [
       "Index(['source_node', 'destination_node', 'indicator_link', 'jaccard_distance',\n",
       "       'cosine_distances', 'same_community', 'shortest_path',\n",
       "       'Common_neighbors', 'adar', 'Resource_Allocation_Index',\n",
       "       'Preferential_Attachment', 'svd_u_s_1', 'svd_u_s_2', 'svd_u_s_3',\n",
       "       'svd_u_s_4', 'svd_u_s_5', 'svd_u_s_6', 'svd_u_d_1', 'svd_u_d_2',\n",
       "       'svd_u_d_3', 'svd_u_d_4', 'svd_u_d_5', 'svd_u_d_6', 'svd_v_s_1',\n",
       "       'svd_v_s_2', 'svd_v_s_3', 'svd_v_s_4', 'svd_v_s_5', 'svd_v_s_6',\n",
       "       'svd_v_d_1', 'svd_v_d_2', 'svd_v_d_3', 'svd_v_d_4', 'svd_v_d_5',\n",
       "       'svd_v_d_6', 'svd_dot_u', 'svd_dot_v', 'node2vector', 'GEMSEC',\n",
       "       'GEMSECWithRegularization', 'DeepWalk', 'DeepWalkWithRegularization'],\n",
       "      dtype='object')"
      ]
     },
     "execution_count": 157,
     "metadata": {},
     "output_type": "execute_result"
    }
   ],
   "source": [
    "df_final_train.columns"
   ]
  },
  {
   "cell_type": "code",
   "execution_count": 158,
   "metadata": {
    "ExecuteTime": {
     "end_time": "2022-05-28T12:09:50.530169Z",
     "start_time": "2022-05-28T12:09:50.528208Z"
    },
    "colab": {},
    "colab_type": "code",
    "id": "XRW7VZ4AHglc"
   },
   "outputs": [],
   "source": [
    "y_train = df_final_train.indicator_link\n",
    "y_test = df_final_test.indicator_link"
   ]
  },
  {
   "cell_type": "code",
   "execution_count": 159,
   "metadata": {
    "ExecuteTime": {
     "end_time": "2022-05-28T12:09:50.538988Z",
     "start_time": "2022-05-28T12:09:50.530854Z"
    },
    "colab": {},
    "colab_type": "code",
    "id": "4lj9M_qtHglf"
   },
   "outputs": [],
   "source": [
    "df_final_train.drop(['source_node', 'destination_node','indicator_link','svd_u_s_1', 'svd_u_s_2','svd_u_s_3', 'svd_u_s_4', 'svd_u_s_5', 'svd_u_s_6','svd_u_d_1', 'svd_u_d_2', 'svd_u_d_3', 'svd_u_d_4', 'svd_u_d_5','svd_u_d_6','svd_v_s_1','svd_v_s_2', 'svd_v_s_3', 'svd_v_s_4', 'svd_v_s_5', 'svd_v_s_6','svd_v_d_1', 'svd_v_d_2', 'svd_v_d_3', 'svd_v_d_4', 'svd_v_d_5','svd_v_d_6'],axis=1,inplace=True)\n",
    "df_final_test.drop(['source_node', 'destination_node','indicator_link','svd_u_s_1', 'svd_u_s_2','svd_u_s_3', 'svd_u_s_4', 'svd_u_s_5', 'svd_u_s_6','svd_u_d_1', 'svd_u_d_2', 'svd_u_d_3', 'svd_u_d_4', 'svd_u_d_5','svd_u_d_6','svd_v_s_1','svd_v_s_2', 'svd_v_s_3', 'svd_v_s_4', 'svd_v_s_5', 'svd_v_s_6','svd_v_d_1', 'svd_v_d_2', 'svd_v_d_3', 'svd_v_d_4', 'svd_v_d_5','svd_v_d_6'],axis=1,inplace=True)"
   ]
  },
  {
   "cell_type": "code",
   "execution_count": 160,
   "metadata": {
    "ExecuteTime": {
     "end_time": "2022-05-28T12:09:50.541410Z",
     "start_time": "2022-05-28T12:09:50.539815Z"
    },
    "colab": {},
    "colab_type": "code",
    "id": "e3C7QpjofwOh"
   },
   "outputs": [],
   "source": [
    "from sklearn.ensemble import GradientBoostingClassifier\n",
    "from sklearn.model_selection import RandomizedSearchCV\n",
    "from sklearn.metrics import f1_score"
   ]
  },
  {
   "cell_type": "code",
   "execution_count": 161,
   "metadata": {
    "ExecuteTime": {
     "end_time": "2022-05-28T12:10:24.254204Z",
     "start_time": "2022-05-28T12:09:50.542124Z"
    },
    "colab": {
     "base_uri": "https://localhost:8080/",
     "height": 1000
    },
    "colab_type": "code",
    "id": "JslnAvHg7HXU",
    "outputId": "a12197a9-bda5-43b8-e9b3-3d1938212222"
   },
   "outputs": [
    {
     "name": "stdout",
     "output_type": "stream",
     "text": [
      "      Iter       Train Loss   Remaining Time \n",
      "         1           1.1963            2.19s\n",
      "         2           1.0407            4.81s\n",
      "         3           0.9109            5.66s\n",
      "         4           0.8012            4.75s\n",
      "         5           0.7075            4.45s\n",
      "         6           0.6268            4.44s\n",
      "         7           0.5568            4.48s\n",
      "         8           0.4957            4.13s\n",
      "         9           0.4422            3.86s\n",
      "        10           0.3951            4.03s\n",
      "        20           0.1355            3.19s\n",
      "        30           0.0487            2.59s\n",
      "        40           0.0178            2.00s\n",
      "        50           0.0065            1.55s\n",
      "        60           0.0024            1.18s\n",
      "        70           0.0009            0.85s\n",
      "        80           0.0003            0.55s\n",
      "        90           0.0001            0.27s\n",
      "       100           0.0000            0.00s\n",
      "      Iter       Train Loss   Remaining Time \n",
      "         1           1.1963            2.13s\n",
      "         2           1.0407            4.88s\n",
      "         3           0.9109            5.74s\n",
      "         4           0.8012            4.85s\n",
      "         5           0.7075            4.53s\n",
      "         6           0.6268            4.47s\n",
      "         7           0.5568            4.51s\n",
      "         8           0.4957            4.17s\n",
      "         9           0.4422            3.89s\n",
      "        10           0.3951            4.05s\n",
      "        20           0.1355            3.16s\n",
      "        30           0.0487            2.58s\n",
      "        40           0.0178            1.99s\n",
      "        50           0.0065            1.54s\n",
      "        60           0.0024            1.17s\n",
      "        70           0.0009            0.84s\n",
      "        80           0.0003            0.55s\n",
      "        90           0.0001            0.27s\n",
      "       100           0.0000            0.00s\n",
      "      Iter       Train Loss   Remaining Time \n",
      "         1           1.1963            2.15s\n",
      "         2           1.0407            4.75s\n",
      "         3           0.9109            5.63s\n",
      "         4           0.8012            4.73s\n",
      "         5           0.7075            4.43s\n",
      "         6           0.6268            4.37s\n",
      "         7           0.5568            4.43s\n",
      "         8           0.4957            4.08s\n",
      "         9           0.4422            3.82s\n",
      "        10           0.3951            3.99s\n",
      "        20           0.1355            3.14s\n",
      "        30           0.0487            2.56s\n",
      "        40           0.0178            1.99s\n",
      "        50           0.0065            1.54s\n",
      "        60           0.0024            1.17s\n",
      "        70           0.0009            0.84s\n",
      "        80           0.0003            0.55s\n",
      "        90           0.0001            0.27s\n",
      "       100           0.0000            0.00s\n",
      "      Iter       Train Loss   Remaining Time \n",
      "         1           1.1963            0.20s\n",
      "         2           1.0407            0.40s\n",
      "         3           0.9109            0.41s\n",
      "         4           0.8012            0.30s\n",
      "         5           0.7075            0.24s\n",
      "         6           0.6268            0.19s\n",
      "         7           0.5568            0.15s\n",
      "         8           0.4957            0.09s\n",
      "         9           0.4422            0.04s\n",
      "        10           0.3951            0.00s\n",
      "      Iter       Train Loss   Remaining Time \n",
      "         1           1.1963            0.19s\n",
      "         2           1.0407            0.40s\n",
      "         3           0.9109            0.41s\n",
      "         4           0.8012            0.30s\n",
      "         5           0.7075            0.24s\n",
      "         6           0.6268            0.19s\n",
      "         7           0.5568            0.14s\n",
      "         8           0.4957            0.09s\n",
      "         9           0.4422            0.04s\n",
      "        10           0.3951            0.00s\n",
      "      Iter       Train Loss   Remaining Time \n",
      "         1           1.1963            0.20s\n",
      "         2           1.0407            0.39s\n",
      "         3           0.9109            0.41s\n",
      "         4           0.8012            0.29s\n",
      "         5           0.7075            0.23s\n",
      "         6           0.6268            0.19s\n",
      "         7           0.5568            0.14s\n",
      "         8           0.4957            0.09s\n",
      "         9           0.4422            0.04s\n",
      "        10           0.3951            0.00s\n",
      "      Iter       Train Loss   Remaining Time \n",
      "         1           1.1963            2.14s\n",
      "         2           1.0407            4.32s\n",
      "         3           0.9109            4.53s\n",
      "         4           0.8012            3.90s\n",
      "         5           0.7075            3.77s\n",
      "         6           0.6268            3.82s\n",
      "         7           0.5568            3.95s\n",
      "         8           0.4957            3.66s\n",
      "         9           0.4422            3.45s\n",
      "        10           0.3951            3.65s\n",
      "        20           0.1355            2.99s\n",
      "        30           0.0487            2.48s\n",
      "        40           0.0178            1.93s\n",
      "        50           0.0065            1.50s\n",
      "        60           0.0024            1.15s\n",
      "        70           0.0009            0.83s\n",
      "        80           0.0003            0.54s\n",
      "        90           0.0001            0.26s\n",
      "       100           0.0000            0.00s\n",
      "      Iter       Train Loss   Remaining Time \n",
      "         1           1.1963            2.18s\n",
      "         2           1.0407            4.32s\n",
      "         3           0.9109            4.55s\n",
      "         4           0.8012            3.92s\n",
      "         5           0.7075            3.79s\n",
      "         6           0.6268            3.93s\n",
      "         7           0.5568            4.03s\n",
      "         8           0.4957            3.75s\n",
      "         9           0.4422            3.54s\n",
      "        10           0.3951            3.73s\n",
      "        20           0.1355            3.03s\n",
      "        30           0.0487            2.50s\n",
      "        40           0.0178            1.93s\n",
      "        50           0.0065            1.50s\n",
      "        60           0.0024            1.14s\n",
      "        70           0.0009            0.83s\n",
      "        80           0.0003            0.54s\n",
      "        90           0.0001            0.26s\n",
      "       100           0.0000            0.00s\n",
      "      Iter       Train Loss   Remaining Time \n",
      "         1           1.1963            2.14s\n",
      "         2           1.0407            4.20s\n",
      "         3           0.9109            4.47s\n",
      "         4           0.8012            3.86s\n",
      "         5           0.7075            3.75s\n",
      "         6           0.6268            3.81s\n",
      "         7           0.5568            3.97s\n",
      "         8           0.4957            3.69s\n",
      "         9           0.4422            3.48s\n",
      "        10           0.3951            3.68s\n",
      "        20           0.1355            3.01s\n",
      "        30           0.0487            2.49s\n",
      "        40           0.0178            1.94s\n",
      "        50           0.0065            1.51s\n",
      "        60           0.0024            1.15s\n",
      "        70           0.0009            0.83s\n",
      "        80           0.0003            0.54s\n",
      "        90           0.0001            0.26s\n",
      "       100           0.0000            0.00s\n",
      "      Iter       Train Loss   Remaining Time \n",
      "         1           1.1963            2.16s\n",
      "         2           1.0407            4.57s\n",
      "         3           0.9109            4.86s\n",
      "         4           0.8012            4.14s\n",
      "         5           0.7075            3.96s\n",
      "         6           0.6268            3.98s\n",
      "         7           0.5568            4.08s\n",
      "         8           0.4957            3.78s\n",
      "         9           0.4422            3.58s\n",
      "        10           0.3951            3.80s\n",
      "        20           0.1355            3.07s\n",
      "        30           0.0487            2.52s\n",
      "        40           0.0178            1.95s\n",
      "        50           0.0065            1.52s\n",
      "        60           0.0024            1.16s\n",
      "        70           0.0009            0.84s\n",
      "        80           0.0003            0.54s\n",
      "        90           0.0001            0.27s\n",
      "       100           0.0000            0.00s\n",
      "      Iter       Train Loss   Remaining Time \n",
      "         1           1.1963            2.14s\n",
      "         2           1.0407            4.69s\n",
      "         3           0.9109            4.96s\n",
      "         4           0.8012            4.22s\n",
      "         5           0.7075            4.02s\n",
      "         6           0.6268            4.04s\n",
      "         7           0.5568            4.13s\n",
      "         8           0.4957            3.84s\n",
      "         9           0.4422            3.60s\n"
     ]
    },
    {
     "name": "stdout",
     "output_type": "stream",
     "text": [
      "        10           0.3951            3.79s\n",
      "        20           0.1355            3.06s\n",
      "        30           0.0487            2.52s\n",
      "        40           0.0178            1.95s\n",
      "        50           0.0065            1.53s\n",
      "        60           0.0024            1.16s\n",
      "        70           0.0009            0.84s\n",
      "        80           0.0003            0.55s\n",
      "        90           0.0001            0.27s\n",
      "       100           0.0000            0.00s\n",
      "      Iter       Train Loss   Remaining Time \n",
      "         1           1.1963            2.15s\n",
      "         2           1.0407            4.57s\n",
      "         3           0.9109            4.87s\n",
      "         4           0.8012            4.16s\n",
      "         5           0.7075            3.97s\n",
      "         6           0.6268            3.99s\n",
      "         7           0.5568            4.09s\n",
      "         8           0.4957            3.78s\n",
      "         9           0.4422            3.56s\n",
      "        10           0.3951            3.75s\n",
      "        20           0.1355            3.05s\n",
      "        30           0.0487            2.52s\n",
      "        40           0.0178            1.95s\n",
      "        50           0.0065            1.51s\n",
      "        60           0.0024            1.16s\n",
      "        70           0.0009            0.84s\n",
      "        80           0.0003            0.54s\n",
      "        90           0.0001            0.27s\n",
      "       100           0.0000            0.00s\n",
      "      Iter       Train Loss   Remaining Time \n",
      "         1           1.1963            1.05s\n",
      "         2           1.0407            2.31s\n",
      "         3           0.9109            2.65s\n",
      "         4           0.8012            2.21s\n",
      "         5           0.7075            2.05s\n",
      "         6           0.6268            2.01s\n",
      "         7           0.5568            2.01s\n",
      "         8           0.4957            1.83s\n",
      "         9           0.4422            1.69s\n",
      "        10           0.3951            1.74s\n",
      "        20           0.1355            1.16s\n",
      "        30           0.0487            0.72s\n",
      "        40           0.0178            0.33s\n",
      "        50           0.0065            0.00s\n",
      "      Iter       Train Loss   Remaining Time \n",
      "         1           1.1963            1.06s\n",
      "         2           1.0407            2.40s\n",
      "         3           0.9109            2.72s\n",
      "         4           0.8012            2.25s\n",
      "         5           0.7075            2.08s\n",
      "         6           0.6268            2.05s\n",
      "         7           0.5568            2.04s\n",
      "         8           0.4957            1.86s\n",
      "         9           0.4422            1.72s\n",
      "        10           0.3951            1.77s\n",
      "        20           0.1355            1.18s\n",
      "        30           0.0487            0.73s\n",
      "        40           0.0178            0.33s\n",
      "        50           0.0065            0.00s\n",
      "      Iter       Train Loss   Remaining Time \n",
      "         1           1.1963            1.07s\n",
      "         2           1.0407            2.35s\n",
      "         3           0.9109            2.69s\n",
      "         4           0.8012            2.26s\n",
      "         5           0.7075            2.10s\n",
      "         6           0.6268            2.05s\n",
      "         7           0.5568            2.05s\n",
      "         8           0.4957            1.87s\n",
      "         9           0.4422            1.73s\n",
      "        10           0.3951            1.78s\n",
      "        20           0.1355            1.18s\n",
      "        30           0.0487            0.74s\n",
      "        40           0.0178            0.33s\n",
      "        50           0.0065            0.00s\n",
      "      Iter       Train Loss   Remaining Time \n",
      "         1           1.1963            3.32s\n",
      "         2           1.0407            5.27s\n",
      "         3           0.9109            5.19s\n",
      "         4           0.8012            5.25s\n",
      "         5           0.7075            5.04s\n",
      "         6           0.6268            5.35s\n",
      "         7           0.5568            5.87s\n",
      "         8           0.4957            5.77s\n",
      "         9           0.4422            5.42s\n",
      "        10           0.3951            5.99s\n",
      "        20           0.1355            4.97s\n",
      "        30           0.0487            4.20s\n",
      "        40           0.0178            3.30s\n",
      "        50           0.0065            2.53s\n",
      "        60           0.0024            1.90s\n",
      "        70           0.0009            1.37s\n",
      "        80           0.0003            0.88s\n",
      "        90           0.0001            0.43s\n",
      "       100           0.0000            0.00s\n",
      "mean test scores [1. 1. 1. 1. 1.]\n"
     ]
    }
   ],
   "source": [
    "param_dist = {\"n_estimators\":[10,50,100,250],\n",
    "              \"max_depth\": [3,9,11,15,20,35,50,70,130]}\n",
    "\n",
    "clf = GradientBoostingClassifier(random_state=25,verbose=1)\n",
    "\n",
    "rf_random = RandomizedSearchCV(clf, param_distributions=param_dist,\n",
    "                                   n_iter=5,cv=3,scoring='f1',random_state=25)\n",
    "\n",
    "rf_random.fit(df_final_train,y_train)\n",
    "print('mean test scores',rf_random.cv_results_['mean_test_score'])"
   ]
  },
  {
   "cell_type": "code",
   "execution_count": 162,
   "metadata": {
    "ExecuteTime": {
     "end_time": "2022-05-28T12:10:24.256976Z",
     "start_time": "2022-05-28T12:10:24.255057Z"
    },
    "colab": {
     "base_uri": "https://localhost:8080/",
     "height": 199
    },
    "colab_type": "code",
    "id": "_CDAjM-6jSI-",
    "outputId": "29ce0bd3-8fab-416f-f567-8e67720b01a1"
   },
   "outputs": [
    {
     "name": "stdout",
     "output_type": "stream",
     "text": [
      "GradientBoostingClassifier(max_depth=70, random_state=25, verbose=1)\n"
     ]
    }
   ],
   "source": [
    "print(rf_random.best_estimator_)"
   ]
  },
  {
   "cell_type": "code",
   "execution_count": 163,
   "metadata": {
    "ExecuteTime": {
     "end_time": "2022-05-28T12:10:24.258937Z",
     "start_time": "2022-05-28T12:10:24.257602Z"
    },
    "colab": {},
    "colab_type": "code",
    "id": "Ej1T_9cgjSJW"
   },
   "outputs": [],
   "source": [
    "clf = rf_random.best_estimator_"
   ]
  },
  {
   "cell_type": "code",
   "execution_count": 164,
   "metadata": {
    "ExecuteTime": {
     "end_time": "2022-05-28T12:10:28.521883Z",
     "start_time": "2022-05-28T12:10:24.259536Z"
    },
    "colab": {
     "base_uri": "https://localhost:8080/",
     "height": 381
    },
    "colab_type": "code",
    "id": "_ID0qJrqjSJe",
    "outputId": "00603288-27d7-400f-c5eb-752b505ad2c2"
   },
   "outputs": [
    {
     "name": "stdout",
     "output_type": "stream",
     "text": [
      "      Iter       Train Loss   Remaining Time \n",
      "         1           1.1963            3.42s\n",
      "         2           1.0407            5.38s\n",
      "         3           0.9109            5.50s\n",
      "         4           0.8012            5.54s\n",
      "         5           0.7075            5.26s\n",
      "         6           0.6268            5.54s\n",
      "         7           0.5568            6.02s\n",
      "         8           0.4957            5.89s\n",
      "         9           0.4422            5.51s\n",
      "        10           0.3951            6.06s\n",
      "        20           0.1355            5.01s\n",
      "        30           0.0487            4.22s\n",
      "        40           0.0178            3.32s\n",
      "        50           0.0065            2.54s\n",
      "        60           0.0024            1.92s\n",
      "        70           0.0009            1.38s\n",
      "        80           0.0003            0.89s\n",
      "        90           0.0001            0.43s\n",
      "       100           0.0000            0.00s\n"
     ]
    }
   ],
   "source": [
    "clf.fit(df_final_train,y_train)\n",
    "y_train_pred = clf.predict(df_final_train)\n",
    "y_test_pred = clf.predict(df_final_test)"
   ]
  },
  {
   "cell_type": "code",
   "execution_count": 165,
   "metadata": {
    "ExecuteTime": {
     "end_time": "2022-05-28T12:10:28.529058Z",
     "start_time": "2022-05-28T12:10:28.522683Z"
    },
    "colab": {
     "base_uri": "https://localhost:8080/",
     "height": 54
    },
    "colab_type": "code",
    "id": "IWRglqB6jSKQ",
    "outputId": "ae766ea9-c8fe-42e3-f461-bde33f6f8b79"
   },
   "outputs": [
    {
     "name": "stdout",
     "output_type": "stream",
     "text": [
      "Train f1 score 1.0\n",
      "Test f1 score 0.8850500484339683\n"
     ]
    }
   ],
   "source": [
    "from sklearn.metrics import f1_score\n",
    "print('Train f1 score',f1_score(y_train,y_train_pred))\n",
    "print('Test f1 score',f1_score(y_test,y_test_pred))"
   ]
  },
  {
   "cell_type": "code",
   "execution_count": 166,
   "metadata": {
    "ExecuteTime": {
     "end_time": "2022-05-28T12:10:28.531349Z",
     "start_time": "2022-05-28T12:10:28.529825Z"
    }
   },
   "outputs": [],
   "source": [
    "# f = open(\"./results/GBDT_f1_transposed.csv\", \"a\")\n",
    "# f.write(str(f1_score(y_test,y_test_pred)))\n",
    "# if not args.PCA:\n",
    "#     f.write('\\n')\n",
    "# else:\n",
    "#     f.write(',')\n",
    "# f.close()"
   ]
  },
  {
   "cell_type": "code",
   "execution_count": 167,
   "metadata": {
    "ExecuteTime": {
     "end_time": "2022-05-28T12:10:28.536727Z",
     "start_time": "2022-05-28T12:10:28.532168Z"
    },
    "colab": {},
    "colab_type": "code",
    "id": "QFx8A0_djSKZ"
   },
   "outputs": [],
   "source": [
    "from sklearn.metrics import confusion_matrix\n",
    "def plot_confusion_matrix(test_y, predict_y, split):\n",
    "    C = confusion_matrix(test_y, predict_y)\n",
    "    \n",
    "    A =(((C.T)/(C.sum(axis=1))).T)\n",
    "    \n",
    "    B =(C/C.sum(axis=0))\n",
    "    plt.figure(figsize=(20,4))\n",
    "    \n",
    "    labels = [0,1]\n",
    "    # representing A in heatmap format\n",
    "    sns.set()\n",
    "    cmap=sns.light_palette(\"blue\")\n",
    "    plt.subplot(1, 3, 1)\n",
    "    sns.heatmap(C, annot=True, cmap=cmap, fmt=\".3f\", xticklabels=labels, yticklabels=labels)\n",
    "    plt.xlabel('Predicted Class')\n",
    "    plt.ylabel('Original Class')\n",
    "    plt.title(\"Confusion matrix\")\n",
    "    \n",
    "    plt.subplot(1, 3, 2)\n",
    "    sns.heatmap(B, annot=True, cmap=cmap, fmt=\".3f\", xticklabels=labels, yticklabels=labels)\n",
    "    plt.xlabel('Predicted Class')\n",
    "    plt.ylabel('Original Class')\n",
    "    plt.title(\"Precision matrix\")\n",
    "    \n",
    "    plt.subplot(1, 3, 3)\n",
    "    # representing B in heatmap format\n",
    "    sns.heatmap(A, annot=True, cmap=cmap, fmt=\".3f\", xticklabels=labels, yticklabels=labels)\n",
    "    plt.xlabel('Predicted Class')\n",
    "    plt.ylabel('Original Class')\n",
    "    plt.title(\"Recall matrix\")\n",
    "    plt.tight_layout()\n",
    "    plt.savefig(f\"./results/{PCAornot}/{genre}/GBDT/{split}_confusion_matrix.png\")\n",
    "#     plt.show()"
   ]
  },
  {
   "cell_type": "code",
   "execution_count": 168,
   "metadata": {
    "ExecuteTime": {
     "end_time": "2022-05-28T12:10:29.073103Z",
     "start_time": "2022-05-28T12:10:28.537605Z"
    },
    "colab": {
     "base_uri": "https://localhost:8080/",
     "height": 641
    },
    "colab_type": "code",
    "id": "qYsVP-_7jSKh",
    "outputId": "1aaf526b-76b8-4fb9-fc97-74c961f1ebc6"
   },
   "outputs": [
    {
     "name": "stdout",
     "output_type": "stream",
     "text": [
      "Train confusion_matrix\n"
     ]
    },
    {
     "data": {
      "image/png": "[encoded data removed]",
      "text/plain": [
       "<Figure size 1440x288 with 6 Axes>"
      ]
     },
     "metadata": {},
     "output_type": "display_data"
    },
    {
     "name": "stdout",
     "output_type": "stream",
     "text": [
      "Test confusion_matrix\n"
     ]
    },
    {
     "data": {
      "image/png": "[encoded data removed]",
      "text/plain": [
       "<Figure size 1440x288 with 6 Axes>"
      ]
     },
     "metadata": {},
     "output_type": "display_data"
    }
   ],
   "source": [
    "print('Train confusion_matrix')\n",
    "plot_confusion_matrix(y_train,y_train_pred,'Train')\n",
    "print('Test confusion_matrix')\n",
    "plot_confusion_matrix(y_test,y_test_pred,'Test')"
   ]
  },
  {
   "cell_type": "code",
   "execution_count": 169,
   "metadata": {
    "ExecuteTime": {
     "end_time": "2022-05-28T12:10:29.168016Z",
     "start_time": "2022-05-28T12:10:29.074075Z"
    },
    "colab": {
     "base_uri": "https://localhost:8080/",
     "height": 301
    },
    "colab_type": "code",
    "id": "573IughTjSKq",
    "outputId": "26110ae8-6861-410f-d054-e41f40d620c8",
    "scrolled": true
   },
   "outputs": [
    {
     "data": {
      "image/png": "[encoded data removed]",
      "text/plain": [
       "<Figure size 432x288 with 1 Axes>"
      ]
     },
     "metadata": {},
     "output_type": "display_data"
    }
   ],
   "source": [
    "from sklearn.metrics import roc_curve, auc\n",
    "fpr,tpr,ths = roc_curve(y_test,y_test_pred)\n",
    "auc_sc = auc(fpr, tpr)\n",
    "plt.figure()\n",
    "plt.plot(fpr, tpr, color='navy',label='ROC curve (area = %0.2f)' % auc_sc)\n",
    "plt.xlabel('False Positive Rate')\n",
    "plt.ylabel('True Positive Rate')\n",
    "plt.title('Receiver operating characteristic with test data')\n",
    "plt.legend()\n",
    "plt.tight_layout()\n",
    "plt.savefig(f\"./results/{PCAornot}/{genre}/GBDT/roc_curve.png\")\n",
    "# plt.show()"
   ]
  },
  {
   "cell_type": "code",
   "execution_count": 170,
   "metadata": {
    "ExecuteTime": {
     "end_time": "2022-05-28T12:10:29.301836Z",
     "start_time": "2022-05-28T12:10:29.168876Z"
    },
    "colab": {
     "base_uri": "https://localhost:8080/",
     "height": 736
    },
    "colab_type": "code",
    "id": "RR8rjOU3jSK1",
    "outputId": "7adcc055-6a4f-4754-b04f-51533c7cceb4",
    "scrolled": true
   },
   "outputs": [
    {
     "data": {
      "image/png": "[encoded data removed]",
      "text/plain": [
       "<Figure size 720x864 with 1 Axes>"
      ]
     },
     "metadata": {},
     "output_type": "display_data"
    }
   ],
   "source": [
    "features = df_final_train.columns\n",
    "importances = clf.feature_importances_\n",
    "indices = (np.argsort(importances))[-25:]\n",
    "plt.figure(figsize=(10,12))\n",
    "plt.title('Feature Importances')\n",
    "plt.barh(range(len(indices)), importances[indices], color='r', align='center')\n",
    "plt.yticks(range(len(indices)), [features[i] for i in indices])\n",
    "plt.xlabel('Relative Importance')\n",
    "plt.tight_layout()\n",
    "plt.savefig(f\"./results/{PCAornot}/{genre}/GBDT/importance.png\")\n",
    "# plt.show()"
   ]
  }
 ],
 "metadata": {
  "colab": {
   "name": "Facebook Link Prediction.ipynb",
   "provenance": []
  },
  "kernelspec": {
   "display_name": "Python 3 (ipykernel)",
   "language": "python",
   "name": "python3"
  },
  "language_info": {
   "codemirror_mode": {
    "name": "ipython",
    "version": 3
   },
   "file_extension": ".py",
   "mimetype": "text/x-python",
   "name": "python",
   "nbconvert_exporter": "python",
   "pygments_lexer": "ipython3",
   "version": "3.9.11"
  },
  "toc": {
   "base_numbering": 1,
   "nav_menu": {},
   "number_sections": false,
   "sideBar": true,
   "skip_h1_title": false,
   "title_cell": "Table of Contents",
   "title_sidebar": "Contents",
   "toc_cell": false,
   "toc_position": {
    "height": "calc(100% - 180px)",
    "left": "10px",
    "top": "150px",
    "width": "393.075px"
   },
   "toc_section_display": true,
   "toc_window_display": true
  },
  "varInspector": {
   "cols": {
    "lenName": 16,
    "lenType": 16,
    "lenVar": 40
   },
   "kernels_config": {
    "python": {
     "delete_cmd_postfix": "",
     "delete_cmd_prefix": "del ",
     "library": "var_list.py",
     "varRefreshCmd": "print(var_dic_list())"
    },
    "r": {
     "delete_cmd_postfix": ") ",
     "delete_cmd_prefix": "rm(",
     "library": "var_list.r",
     "varRefreshCmd": "cat(var_dic_list()) "
    }
   },
   "types_to_exclude": [
    "module",
    "function",
    "builtin_function_or_method",
    "instance",
    "_Feature"
   ],
   "window_display": false
  }
 },
 "nbformat": 4,
 "nbformat_minor": 1
}
