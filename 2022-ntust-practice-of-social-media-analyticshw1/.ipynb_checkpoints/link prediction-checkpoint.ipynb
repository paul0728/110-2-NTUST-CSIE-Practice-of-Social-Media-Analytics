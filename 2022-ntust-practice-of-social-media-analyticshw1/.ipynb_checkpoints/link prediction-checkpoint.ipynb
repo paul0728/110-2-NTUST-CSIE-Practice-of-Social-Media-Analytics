{
 "cells": [
  {
   "cell_type": "code",
   "execution_count": 10,
   "metadata": {
    "ExecuteTime": {
     "end_time": "2022-04-11T17:40:31.627749Z",
     "start_time": "2022-04-11T17:40:31.625162Z"
    }
   },
   "outputs": [],
   "source": [
    "import networkx as nx\n",
    "import pandas as pd\n",
    "import numpy as np\n",
    "import matplotlib.pyplot as plt\n",
    "import seaborn as sns\n",
    "import os\n",
    "from sklearn.model_selection import train_test_split\n",
    "from time import time"
   ]
  },
  {
   "cell_type": "code",
   "execution_count": 11,
   "metadata": {
    "ExecuteTime": {
     "end_time": "2022-04-11T17:40:31.630651Z",
     "start_time": "2022-04-11T17:40:31.629044Z"
    }
   },
   "outputs": [],
   "source": [
    "# 建立資料夾\n",
    "os.makedirs('./data', exist_ok=True)"
   ]
  },
  {
   "cell_type": "code",
   "execution_count": 12,
   "metadata": {
    "ExecuteTime": {
     "end_time": "2022-04-11T17:40:31.635783Z",
     "start_time": "2022-04-11T17:40:31.631376Z"
    }
   },
   "outputs": [],
   "source": [
    "# df=pd.read_csv('train.csv')\n",
    "df=pd.read_csv('data_train_edge.csv')"
   ]
  },
  {
   "cell_type": "code",
   "execution_count": 13,
   "metadata": {
    "ExecuteTime": {
     "end_time": "2022-04-11T17:40:31.639805Z",
     "start_time": "2022-04-11T17:40:31.636871Z"
    }
   },
   "outputs": [
    {
     "data": {
      "text/html": [
       "<div>\n",
       "<style scoped>\n",
       "    .dataframe tbody tr th:only-of-type {\n",
       "        vertical-align: middle;\n",
       "    }\n",
       "\n",
       "    .dataframe tbody tr th {\n",
       "        vertical-align: top;\n",
       "    }\n",
       "\n",
       "    .dataframe thead th {\n",
       "        text-align: right;\n",
       "    }\n",
       "</style>\n",
       "<table border=\"1\" class=\"dataframe\">\n",
       "  <thead>\n",
       "    <tr style=\"text-align: right;\">\n",
       "      <th></th>\n",
       "      <th>node1</th>\n",
       "      <th>node2</th>\n",
       "    </tr>\n",
       "  </thead>\n",
       "  <tbody>\n",
       "    <tr>\n",
       "      <th>0</th>\n",
       "      <td>287</td>\n",
       "      <td>68</td>\n",
       "    </tr>\n",
       "    <tr>\n",
       "      <th>1</th>\n",
       "      <td>63</td>\n",
       "      <td>552</td>\n",
       "    </tr>\n",
       "    <tr>\n",
       "      <th>2</th>\n",
       "      <td>189</td>\n",
       "      <td>20</td>\n",
       "    </tr>\n",
       "    <tr>\n",
       "      <th>3</th>\n",
       "      <td>380</td>\n",
       "      <td>376</td>\n",
       "    </tr>\n",
       "    <tr>\n",
       "      <th>4</th>\n",
       "      <td>370</td>\n",
       "      <td>443</td>\n",
       "    </tr>\n",
       "  </tbody>\n",
       "</table>\n",
       "</div>"
      ],
      "text/plain": [
       "   node1  node2\n",
       "0    287     68\n",
       "1     63    552\n",
       "2    189     20\n",
       "3    380    376\n",
       "4    370    443"
      ]
     },
     "execution_count": 13,
     "metadata": {},
     "output_type": "execute_result"
    }
   ],
   "source": [
    "df.head()"
   ]
  },
  {
   "cell_type": "code",
   "execution_count": 14,
   "metadata": {
    "ExecuteTime": {
     "end_time": "2022-04-11T17:40:31.643138Z",
     "start_time": "2022-04-11T17:40:31.640388Z"
    }
   },
   "outputs": [
    {
     "data": {
      "text/plain": [
       "0"
      ]
     },
     "execution_count": 14,
     "metadata": {},
     "output_type": "execute_result"
    }
   ],
   "source": [
    "sum(df.isna().any(1))"
   ]
  },
  {
   "cell_type": "code",
   "execution_count": 15,
   "metadata": {
    "ExecuteTime": {
     "end_time": "2022-04-11T17:40:31.647007Z",
     "start_time": "2022-04-11T17:40:31.643731Z"
    }
   },
   "outputs": [
    {
     "data": {
      "text/plain": [
       "0"
      ]
     },
     "execution_count": 15,
     "metadata": {},
     "output_type": "execute_result"
    }
   ],
   "source": [
    "sum(df.duplicated())"
   ]
  },
  {
   "cell_type": "code",
   "execution_count": 16,
   "metadata": {
    "ExecuteTime": {
     "end_time": "2022-04-11T17:40:31.660091Z",
     "start_time": "2022-04-11T17:40:31.647607Z"
    }
   },
   "outputs": [],
   "source": [
    "df.to_csv('data/train_woheader.csv',header=False,index=False)"
   ]
  },
  {
   "cell_type": "code",
   "execution_count": 17,
   "metadata": {
    "ExecuteTime": {
     "end_time": "2022-04-11T17:40:31.696554Z",
     "start_time": "2022-04-11T17:40:31.660829Z"
    }
   },
   "outputs": [],
   "source": [
    "# g = nx.from_pandas_edgelist(df ,\"node1\", \"node2\", create_using=nx.DiGraph())\n",
    "g=nx.read_edgelist('data/train_woheader.csv',delimiter=',',create_using=nx.DiGraph(),nodetype=int)"
   ]
  },
  {
   "cell_type": "code",
   "execution_count": 18,
   "metadata": {
    "ExecuteTime": {
     "end_time": "2022-04-11T17:40:31.700551Z",
     "start_time": "2022-04-11T17:40:31.698159Z"
    }
   },
   "outputs": [
    {
     "name": "stdout",
     "output_type": "stream",
     "text": [
      "DiGraph with 979 nodes and 20457 edges\n"
     ]
    },
    {
     "name": "stderr",
     "output_type": "stream",
     "text": [
      "/tmp/ipykernel_411351/1432719896.py:1: DeprecationWarning: info is deprecated and will be removed in version 3.0.\n",
      "\n",
      "  print(nx.info(g))\n"
     ]
    }
   ],
   "source": [
    "print(nx.info(g))"
   ]
  },
  {
   "cell_type": "code",
   "execution_count": 19,
   "metadata": {
    "ExecuteTime": {
     "end_time": "2022-04-11T17:40:31.705358Z",
     "start_time": "2022-04-11T17:40:31.701353Z"
    }
   },
   "outputs": [],
   "source": [
    "pd.read_csv('data_train_edge.csv',nrows=50).to_csv('data/train_woheader_sample.csv',header=False,index=False)"
   ]
  },
  {
   "cell_type": "code",
   "execution_count": 20,
   "metadata": {
    "ExecuteTime": {
     "end_time": "2022-04-11T17:40:31.708050Z",
     "start_time": "2022-04-11T17:40:31.706147Z"
    }
   },
   "outputs": [],
   "source": [
    "subgraph=nx.read_edgelist('data/train_woheader_sample.csv',delimiter=',',create_using=nx.DiGraph(),nodetype=int)"
   ]
  },
  {
   "cell_type": "code",
   "execution_count": 21,
   "metadata": {
    "ExecuteTime": {
     "end_time": "2022-04-11T17:40:32.165944Z",
     "start_time": "2022-04-11T17:40:31.708820Z"
    }
   },
   "outputs": [
    {
     "name": "stdout",
     "output_type": "stream",
     "text": [
      "DiGraph with 89 nodes and 50 edges\n"
     ]
    },
    {
     "name": "stderr",
     "output_type": "stream",
     "text": [
      "/tmp/ipykernel_411351/1662313815.py:4: DeprecationWarning: info is deprecated and will be removed in version 3.0.\n",
      "\n",
      "  print(nx.info(subgraph))\n"
     ]
    },
    {
     "data": {
      "image/png": "[encoded data removed]",
      "text/plain": [
       "<Figure size 432x288 with 1 Axes>"
      ]
     },
     "metadata": {},
     "output_type": "display_data"
    }
   ],
   "source": [
    "pos=nx.spring_layout(subgraph)\n",
    "nx.draw(subgraph,pos,node_color='#A0CBE2',edge_color='#00bb5e',width=1,edge_cmap=plt.cm.Blues,with_labels=True)\n",
    "plt.savefig(\"graph_sample.pdf\")\n",
    "print(nx.info(subgraph))"
   ]
  },
  {
   "cell_type": "code",
   "execution_count": 22,
   "metadata": {
    "ExecuteTime": {
     "end_time": "2022-04-11T17:40:32.169297Z",
     "start_time": "2022-04-11T17:40:32.167008Z"
    }
   },
   "outputs": [
    {
     "data": {
      "text/plain": [
       "979"
      ]
     },
     "execution_count": 22,
     "metadata": {},
     "output_type": "execute_result"
    }
   ],
   "source": [
    "#No. of unique nodes\n",
    "len(g.nodes)"
   ]
  },
  {
   "cell_type": "code",
   "execution_count": 23,
   "metadata": {
    "ExecuteTime": {
     "end_time": "2022-04-11T17:40:32.228909Z",
     "start_time": "2022-04-11T17:40:32.170060Z"
    }
   },
   "outputs": [
    {
     "data": {
      "image/png": "[encoded data removed]",
      "text/plain": [
       "<Figure size 720x432 with 1 Axes>"
      ]
     },
     "metadata": {
      "needs_background": "light"
     },
     "output_type": "display_data"
    }
   ],
   "source": [
    "indegree_dist = list(dict(g.in_degree()).values())\n",
    "indegree_dist.sort()\n",
    "plt.figure(figsize=(10,6))\n",
    "plt.plot(indegree_dist)\n",
    "plt.xlabel('Index No')\n",
    "plt.ylabel('No Of Followers')\n",
    "plt.show()"
   ]
  },
  {
   "cell_type": "code",
   "execution_count": 24,
   "metadata": {
    "ExecuteTime": {
     "end_time": "2022-04-11T17:40:32.234235Z",
     "start_time": "2022-04-11T17:40:32.229658Z"
    }
   },
   "outputs": [
    {
     "name": "stdout",
     "output_type": "stream",
     "text": [
      "90 percentile value is 49.200000000000045\n",
      "91 percentile value is 52.0\n",
      "92 percentile value is 54.75999999999999\n",
      "93 percentile value is 58.0\n",
      "94 percentile value is 60.319999999999936\n",
      "95 percentile value is 64.0\n",
      "96 percentile value is 71.88\n",
      "97 percentile value is 80.0\n",
      "98 percentile value is 88.87999999999988\n",
      "99 percentile value is 102.22000000000003\n",
      "100 percentile value is 173.0\n"
     ]
    }
   ],
   "source": [
    "### 90-100 percentile\n",
    "for i in range(0,11):\n",
    "    print(90+i,'percentile value is',np.percentile(indegree_dist,90+i))"
   ]
  },
  {
   "cell_type": "code",
   "execution_count": 25,
   "metadata": {
    "ExecuteTime": {
     "end_time": "2022-04-11T17:40:32.239884Z",
     "start_time": "2022-04-11T17:40:32.234872Z"
    }
   },
   "outputs": [
    {
     "name": "stdout",
     "output_type": "stream",
     "text": [
      "99.1 percentile value is 103.39599999999996\n",
      "99.2 percentile value is 105.35200000000009\n",
      "99.3 percentile value is 108.07799999999997\n",
      "99.4 percentile value is 115.18800000000056\n",
      "99.5 percentile value is 123.55000000000007\n",
      "99.6 percentile value is 128.0\n",
      "99.7 percentile value is 128.1980000000001\n",
      "99.8 percentile value is 131.65999999999974\n",
      "99.9 percentile value is 146.59400000000437\n",
      "100.0 percentile value is 173.0\n"
     ]
    }
   ],
   "source": [
    "### 99-100 percentile\n",
    "for i in range(10,110,10):\n",
    "    print(99+(i/100),'percentile value is',np.percentile(indegree_dist,99+(i/100)))"
   ]
  },
  {
   "cell_type": "code",
   "execution_count": 26,
   "metadata": {
    "ExecuteTime": {
     "end_time": "2022-04-11T17:40:32.298945Z",
     "start_time": "2022-04-11T17:40:32.240567Z"
    }
   },
   "outputs": [
    {
     "data": {
      "image/png": "[encoded data removed]",
      "text/plain": [
       "<Figure size 720x432 with 1 Axes>"
      ]
     },
     "metadata": {
      "needs_background": "light"
     },
     "output_type": "display_data"
    }
   ],
   "source": [
    "outdegree_dist = list(dict(g.out_degree()).values())\n",
    "outdegree_dist.sort()\n",
    "plt.figure(figsize=(10,6))\n",
    "plt.plot(outdegree_dist)\n",
    "plt.xlabel('Index No')\n",
    "plt.ylabel('No Of Followee')\n",
    "plt.show()"
   ]
  },
  {
   "cell_type": "code",
   "execution_count": 27,
   "metadata": {
    "ExecuteTime": {
     "end_time": "2022-04-11T17:40:32.304191Z",
     "start_time": "2022-04-11T17:40:32.299728Z"
    }
   },
   "outputs": [
    {
     "name": "stdout",
     "output_type": "stream",
     "text": [
      "90 percentile value is 52.200000000000045\n",
      "91 percentile value is 54.98000000000002\n",
      "92 percentile value is 58.0\n",
      "93 percentile value is 62.54000000000008\n",
      "94 percentile value is 67.63999999999987\n",
      "95 percentile value is 74.0\n",
      "96 percentile value is 82.88\n",
      "97 percentile value is 89.0\n",
      "98 percentile value is 98.0\n",
      "99 percentile value is 124.10000000000014\n",
      "100 percentile value is 272.0\n"
     ]
    }
   ],
   "source": [
    "### 90-100 percentile\n",
    "for i in range(0,11):\n",
    "    print(90+i,'percentile value is',np.percentile(outdegree_dist,90+i))"
   ]
  },
  {
   "cell_type": "code",
   "execution_count": 28,
   "metadata": {
    "ExecuteTime": {
     "end_time": "2022-04-11T17:40:32.309504Z",
     "start_time": "2022-04-11T17:40:32.304827Z"
    }
   },
   "outputs": [
    {
     "name": "stdout",
     "output_type": "stream",
     "text": [
      "99.1 percentile value is 129.18799999999987\n",
      "99.2 percentile value is 134.17600000000004\n",
      "99.3 percentile value is 136.07799999999997\n",
      "99.4 percentile value is 144.50800000000118\n",
      "99.5 percentile value is 161.22000000000003\n",
      "99.6 percentile value is 163.61599999999976\n",
      "99.7 percentile value is 170.46200000000022\n",
      "99.8 percentile value is 177.04399999999998\n",
      "99.9 percentile value is 180.06800000001522\n",
      "100.0 percentile value is 272.0\n"
     ]
    }
   ],
   "source": [
    "### 99-100 percentile\n",
    "for i in range(10,110,10):\n",
    "    print(99+(i/100),'percentile value is',np.percentile(outdegree_dist,99+(i/100)))"
   ]
  },
  {
   "cell_type": "code",
   "execution_count": 29,
   "metadata": {
    "ExecuteTime": {
     "end_time": "2022-04-11T17:40:32.315530Z",
     "start_time": "2022-04-11T17:40:32.310318Z"
    }
   },
   "outputs": [
    {
     "name": "stdout",
     "output_type": "stream",
     "text": [
      "No of persons those are not following anyone are 136 and % is 13.891726251276813\n"
     ]
    }
   ],
   "source": [
    "print('No of persons those are not following anyone are' ,sum(np.array(outdegree_dist)==0),'and % is',\n",
    "        sum(np.array(outdegree_dist)==0)*100/len(outdegree_dist))"
   ]
  },
  {
   "cell_type": "code",
   "execution_count": 30,
   "metadata": {
    "ExecuteTime": {
     "end_time": "2022-04-11T17:40:32.321194Z",
     "start_time": "2022-04-11T17:40:32.316247Z"
    }
   },
   "outputs": [
    {
     "name": "stdout",
     "output_type": "stream",
     "text": [
      "No of persons who have no followers 13 and % is 1.3278855975485189\n"
     ]
    }
   ],
   "source": [
    "print('No of persons who have no followers' ,sum(np.array(indegree_dist)==0),'and % is',\n",
    "        sum(np.array(indegree_dist)==0)*100/len(indegree_dist))"
   ]
  },
  {
   "cell_type": "code",
   "execution_count": 31,
   "metadata": {
    "ExecuteTime": {
     "end_time": "2022-04-11T17:40:32.324405Z",
     "start_time": "2022-04-11T17:40:32.321893Z"
    }
   },
   "outputs": [],
   "source": [
    "from collections import Counter\n",
    "dict_in = dict(g.in_degree())\n",
    "dict_out = dict(g.out_degree())\n",
    "d = Counter(dict_in) + Counter(dict_out)\n",
    "in_out_degree = np.array(list(d.values()))"
   ]
  },
  {
   "cell_type": "code",
   "execution_count": 32,
   "metadata": {
    "ExecuteTime": {
     "end_time": "2022-04-11T17:40:32.377545Z",
     "start_time": "2022-04-11T17:40:32.325072Z"
    }
   },
   "outputs": [
    {
     "data": {
      "image/png": "[encoded data removed]",
      "text/plain": [
       "<Figure size 720x432 with 1 Axes>"
      ]
     },
     "metadata": {
      "needs_background": "light"
     },
     "output_type": "display_data"
    }
   ],
   "source": [
    "in_out_degree_sort = sorted(in_out_degree)\n",
    "plt.figure(figsize=(10,6))\n",
    "plt.plot(in_out_degree_sort)\n",
    "plt.xlabel('Index No')\n",
    "plt.ylabel('No Of people each person is following + followers')\n",
    "plt.show()"
   ]
  },
  {
   "cell_type": "code",
   "execution_count": 33,
   "metadata": {
    "ExecuteTime": {
     "end_time": "2022-04-11T17:40:32.385683Z",
     "start_time": "2022-04-11T17:40:32.380207Z"
    }
   },
   "outputs": [
    {
     "name": "stdout",
     "output_type": "stream",
     "text": [
      "90 percentile value is 99.0\n",
      "91 percentile value is 102.0\n",
      "92 percentile value is 108.75999999999999\n",
      "93 percentile value is 116.0\n",
      "94 percentile value is 127.63999999999987\n",
      "95 percentile value is 139.0999999999999\n",
      "96 percentile value is 153.88\n",
      "97 percentile value is 166.65999999999997\n",
      "98 percentile value is 183.75999999999976\n",
      "99 percentile value is 214.08000000000038\n",
      "100 percentile value is 445.0\n"
     ]
    }
   ],
   "source": [
    "### 90-100 percentile\n",
    "for i in range(0,11):\n",
    "    print(90+i,'percentile value is',np.percentile(in_out_degree_sort,90+i))"
   ]
  },
  {
   "cell_type": "code",
   "execution_count": 34,
   "metadata": {
    "ExecuteTime": {
     "end_time": "2022-04-11T17:40:32.391371Z",
     "start_time": "2022-04-11T17:40:32.386449Z"
    }
   },
   "outputs": [
    {
     "name": "stdout",
     "output_type": "stream",
     "text": [
      "99.1 percentile value is 227.37599999999975\n",
      "99.2 percentile value is 237.88000000000022\n",
      "99.3 percentile value is 243.38599999999997\n",
      "99.4 percentile value is 253.50800000000118\n",
      "99.5 percentile value is 272.3100000000003\n",
      "99.6 percentile value is 291.87999999999965\n",
      "99.7 percentile value is 301.0\n",
      "99.8 percentile value is 301.2639999999999\n",
      "99.9 percentile value is 310.03600000002234\n",
      "100.0 percentile value is 445.0\n"
     ]
    }
   ],
   "source": [
    "### 99-100 percentile\n",
    "for i in range(10,110,10):\n",
    "    print(99+(i/100),'percentile value is',np.percentile(in_out_degree_sort,99+(i/100)))"
   ]
  },
  {
   "cell_type": "code",
   "execution_count": 35,
   "metadata": {
    "ExecuteTime": {
     "end_time": "2022-04-11T17:40:32.394734Z",
     "start_time": "2022-04-11T17:40:32.392454Z"
    }
   },
   "outputs": [
    {
     "data": {
      "text/plain": [
       "(20457, 2)"
      ]
     },
     "execution_count": 35,
     "metadata": {},
     "output_type": "execute_result"
    }
   ],
   "source": [
    "df.shape"
   ]
  },
  {
   "cell_type": "code",
   "execution_count": 36,
   "metadata": {
    "ExecuteTime": {
     "end_time": "2022-04-11T17:40:32.396876Z",
     "start_time": "2022-04-11T17:40:32.395411Z"
    }
   },
   "outputs": [],
   "source": [
    "import csv"
   ]
  },
  {
   "cell_type": "code",
   "execution_count": 40,
   "metadata": {
    "ExecuteTime": {
     "end_time": "2022-04-11T17:41:15.550320Z",
     "start_time": "2022-04-11T17:40:55.679571Z"
    }
   },
   "outputs": [
    {
     "name": "stdout",
     "output_type": "stream",
     "text": [
      "CPU times: user 19.5 s, sys: 410 ms, total: 19.9 s\n",
      "Wall time: 19.9 s\n"
     ]
    }
   ],
   "source": [
    "%%time\n",
    "###generating missing edges from given graph\n",
    "import random\n",
    "#getting all set of edges\n",
    "r = csv.reader(open('data/train_woheader.csv','r'))\n",
    "#the dict will contain a tuple of 2 nodes as key and the value will be 1 is the nodes are connected else -1\n",
    "edges = dict()\n",
    "for edge in r:\n",
    "\tedges[(edge[0], edge[1])] = 1\n",
    "    \n",
    "missing_edges = set([])\n",
    "while (len(missing_edges)<9437519):\n",
    "\ta=random.randint(1, 1862220)\n",
    "\tb=random.randint(1, 1862220)\n",
    "\ttmp = edges.get((a,b),-1)\n",
    "\tif tmp == -1 and a!=b:\n",
    "\t\ttry:\n",
    "            # adding points who less likely to be friends\n",
    "\t\t\tif nx.shortest_path_length(g,source=a,target=b) > 2: \n",
    "\n",
    "\t\t\t\tmissing_edges.add((a,b))\n",
    "\t\t\telse:\n",
    "\t\t\t\tcontinue  \n",
    "\t\texcept:  \n",
    "\t\t\t\tmissing_edges.add((a,b))              \n",
    "\telse:\n",
    "\t\tcontinue"
   ]
  },
  {
   "cell_type": "code",
   "execution_count": 41,
   "metadata": {
    "ExecuteTime": {
     "end_time": "2022-04-11T17:41:23.695040Z",
     "start_time": "2022-04-11T17:41:23.693449Z"
    }
   },
   "outputs": [],
   "source": [
    "import pickle"
   ]
  },
  {
   "cell_type": "code",
   "execution_count": 42,
   "metadata": {
    "ExecuteTime": {
     "end_time": "2022-04-11T17:41:35.057663Z",
     "start_time": "2022-04-11T17:41:31.705786Z"
    }
   },
   "outputs": [],
   "source": [
    "pickle.dump(missing_edges,open('data/missing_edges_final.p','wb'))"
   ]
  },
  {
   "cell_type": "code",
   "execution_count": 43,
   "metadata": {
    "ExecuteTime": {
     "end_time": "2022-04-11T17:41:43.111354Z",
     "start_time": "2022-04-11T17:41:43.108961Z"
    }
   },
   "outputs": [
    {
     "data": {
      "text/plain": [
       "9437519"
      ]
     },
     "execution_count": 43,
     "metadata": {},
     "output_type": "execute_result"
    }
   ],
   "source": [
    "len(missing_edges)"
   ]
  },
  {
   "cell_type": "code",
   "execution_count": 45,
   "metadata": {
    "ExecuteTime": {
     "end_time": "2022-04-11T17:42:10.816139Z",
     "start_time": "2022-04-11T17:41:58.552724Z"
    }
   },
   "outputs": [
    {
     "name": "stdout",
     "output_type": "stream",
     "text": [
      "Number of nodes in the graph with edges 20457\n",
      "Number of nodes in the graph without edges 9437519\n",
      "============================================================\n",
      "Number of nodes in the train data graph with edges 16365 = 16365\n",
      "Number of nodes in the train data graph without edges 7550015 = 7550015\n",
      "============================================================\n",
      "Number of nodes in the test data graph with edges 4092 = 4092\n",
      "Number of nodes in the test data graph without edges 1887504 = 1887504\n"
     ]
    }
   ],
   "source": [
    "#reading total data df\n",
    "df_pos = pd.read_csv('data_train_edge.csv')\n",
    "df_neg = pd.DataFrame(list(missing_edges), columns=['source_node', 'destination_node'])\n",
    "\n",
    "print(\"Number of nodes in the graph with edges\", df_pos.shape[0])\n",
    "print(\"Number of nodes in the graph without edges\", df_neg.shape[0])\n",
    "\n",
    "#Trian test split \n",
    "#Spiltted data into 80-20 \n",
    "#positive links and negative links seperatly because we need positive training data only for creating graph \n",
    "#and for feature generation\n",
    "X_train_pos, X_test_pos, y_train_pos, y_test_pos  = train_test_split(df_pos,np.ones(len(df_pos)),test_size=0.2, random_state=9)\n",
    "X_train_neg, X_test_neg, y_train_neg, y_test_neg  = train_test_split(df_neg,np.zeros(len(df_neg)),test_size=0.2, random_state=9)\n",
    "\n",
    "print('='*60)\n",
    "print(\"Number of nodes in the train data graph with edges\", X_train_pos.shape[0],\"=\",y_train_pos.shape[0])\n",
    "print(\"Number of nodes in the train data graph without edges\", X_train_neg.shape[0],\"=\", y_train_neg.shape[0])\n",
    "print('='*60)\n",
    "print(\"Number of nodes in the test data graph with edges\", X_test_pos.shape[0],\"=\",y_test_pos.shape[0])\n",
    "print(\"Number of nodes in the test data graph without edges\", X_test_neg.shape[0],\"=\",y_test_neg.shape[0])\n",
    "\n",
    "#removing header and saving\n",
    "X_train_pos.to_csv('data/train_pos_after_eda.csv',header=False, index=False)\n",
    "X_test_pos.to_csv('data/test_pos_after_eda.csv',header=False, index=False)\n",
    "X_train_neg.to_csv('data/train_neg_after_eda.csv',header=False, index=False)\n",
    "X_test_neg.to_csv('data/test_neg_after_eda.csv',header=False, index=False)"
   ]
  },
  {
   "cell_type": "code",
   "execution_count": 46,
   "metadata": {
    "ExecuteTime": {
     "end_time": "2022-04-11T17:42:20.204556Z",
     "start_time": "2022-04-11T17:42:18.775779Z"
    }
   },
   "outputs": [],
   "source": [
    "del missing_edges"
   ]
  },
  {
   "cell_type": "code",
   "execution_count": 47,
   "metadata": {
    "ExecuteTime": {
     "end_time": "2022-04-11T17:42:20.252338Z",
     "start_time": "2022-04-11T17:42:20.250746Z"
    }
   },
   "outputs": [],
   "source": [
    "import os"
   ]
  },
  {
   "cell_type": "code",
   "execution_count": 48,
   "metadata": {
    "ExecuteTime": {
     "end_time": "2022-04-11T17:42:21.667789Z",
     "start_time": "2022-04-11T17:42:21.631078Z"
    }
   },
   "outputs": [
    {
     "name": "stdout",
     "output_type": "stream",
     "text": [
      "DiGraph with 960 nodes and 16365 edges\n",
      "DiGraph with 825 nodes and 4092 edges\n",
      "no of people common in train and test --  806\n",
      "no of people present in train but not present in test --  154\n",
      "no of people present in test but not present in train --  19\n",
      " % of people not there in Train but exist in Test in total Test data are 2.3030303030303028 %\n"
     ]
    },
    {
     "name": "stderr",
     "output_type": "stream",
     "text": [
      "/tmp/ipykernel_411351/19171612.py:4: DeprecationWarning: info is deprecated and will be removed in version 3.0.\n",
      "\n",
      "  print(nx.info(train_graph))\n",
      "/tmp/ipykernel_411351/19171612.py:5: DeprecationWarning: info is deprecated and will be removed in version 3.0.\n",
      "\n",
      "  print(nx.info(test_graph))\n"
     ]
    }
   ],
   "source": [
    "if (os.path.isfile('data/train_pos_after_eda.csv')) and (os.path.isfile('data/test_pos_after_eda.csv')):        \n",
    "    train_graph=nx.read_edgelist('data/train_pos_after_eda.csv',delimiter=',',create_using=nx.DiGraph(),nodetype=int)\n",
    "    test_graph=nx.read_edgelist('data/test_pos_after_eda.csv',delimiter=',',create_using=nx.DiGraph(),nodetype=int)\n",
    "    print(nx.info(train_graph))\n",
    "    print(nx.info(test_graph))\n",
    "\n",
    "    # finding the unique nodes in the both train and test graphs\n",
    "    train_nodes_pos = set(train_graph.nodes())\n",
    "    test_nodes_pos = set(test_graph.nodes())\n",
    "\n",
    "    trY_teY = len(train_nodes_pos.intersection(test_nodes_pos))\n",
    "    trY_teN = len(train_nodes_pos - test_nodes_pos)\n",
    "    teY_trN = len(test_nodes_pos - train_nodes_pos)\n",
    "\n",
    "    print('no of people common in train and test -- ',trY_teY)\n",
    "    print('no of people present in train but not present in test -- ',trY_teN)\n",
    "\n",
    "    print('no of people present in test but not present in train -- ',teY_trN)\n",
    "    print(' % of people not there in Train but exist in Test in total Test data are {} %'.format(teY_trN/len(test_nodes_pos)*100))"
   ]
  },
  {
   "cell_type": "markdown",
   "metadata": {},
   "source": [
    "81000 ppl are present in test but not in train, this is a slight cold start problem"
   ]
  },
  {
   "cell_type": "code",
   "execution_count": 49,
   "metadata": {
    "ExecuteTime": {
     "end_time": "2022-04-11T17:42:35.099684Z",
     "start_time": "2022-04-11T17:42:25.149760Z"
    }
   },
   "outputs": [
    {
     "name": "stdout",
     "output_type": "stream",
     "text": [
      "============================================================\n",
      "Number of nodes in the train data graph with edges 16365\n",
      "Number of nodes in the train data graph without edges 7550015\n",
      "============================================================\n",
      "Number of nodes in the test data graph with edges 4092\n",
      "Number of nodes in the test data graph without edges 1887504\n"
     ]
    },
    {
     "name": "stderr",
     "output_type": "stream",
     "text": [
      "/tmp/ipykernel_411351/514442511.py:23: FutureWarning: The frame.append method is deprecated and will be removed from pandas in a future version. Use pandas.concat instead.\n",
      "  X_train = X_train_pos.append(X_train_neg,ignore_index=True)\n",
      "/tmp/ipykernel_411351/514442511.py:25: FutureWarning: The frame.append method is deprecated and will be removed from pandas in a future version. Use pandas.concat instead.\n",
      "  X_test = X_test_pos.append(X_test_neg,ignore_index=True)\n"
     ]
    }
   ],
   "source": [
    "#final train and test data sets\n",
    "if (not os.path.isfile('data/train_after_eda.csv')) and \\\n",
    "(not os.path.isfile('data/test_after_eda.csv')) and \\\n",
    "(not os.path.isfile('data/train_y.csv')) and \\\n",
    "(not os.path.isfile('data/test_y.csv')) and \\\n",
    "(os.path.isfile('data/train_pos_after_eda.csv')) and \\\n",
    "(os.path.isfile('data/test_pos_after_eda.csv')) and \\\n",
    "(os.path.isfile('data/train_neg_after_eda.csv')) and \\\n",
    "(os.path.isfile('data/test_neg_after_eda.csv')):\n",
    "    \n",
    "    X_train_pos = pd.read_csv('data/train_pos_after_eda.csv', names=['source_node', 'destination_node'])\n",
    "    X_test_pos = pd.read_csv('data/test_pos_after_eda.csv', names=['source_node', 'destination_node'])\n",
    "    X_train_neg = pd.read_csv('data/train_neg_after_eda.csv', names=['source_node', 'destination_node'])\n",
    "    X_test_neg = pd.read_csv('data/test_neg_after_eda.csv', names=['source_node', 'destination_node'])\n",
    "\n",
    "    print('='*60)\n",
    "    print(\"Number of nodes in the train data graph with edges\", X_train_pos.shape[0])\n",
    "    print(\"Number of nodes in the train data graph without edges\", X_train_neg.shape[0])\n",
    "    print('='*60)\n",
    "    print(\"Number of nodes in the test data graph with edges\", X_test_pos.shape[0])\n",
    "    print(\"Number of nodes in the test data graph without edges\", X_test_neg.shape[0])\n",
    "\n",
    "    X_train = X_train_pos.append(X_train_neg,ignore_index=True)\n",
    "    y_train = np.concatenate((y_train_pos,y_train_neg))\n",
    "    X_test = X_test_pos.append(X_test_neg,ignore_index=True)\n",
    "    y_test = np.concatenate((y_test_pos,y_test_neg)) \n",
    "    \n",
    "    X_train.to_csv('data/train_after_eda.csv',header=False,index=False)\n",
    "    X_test.to_csv('data/test_after_eda.csv',header=False,index=False)\n",
    "    pd.DataFrame(y_train.astype(int)).to_csv('data/train_y.csv',header=False,index=False)\n",
    "    pd.DataFrame(y_test.astype(int)).to_csv('data/test_y.csv',header=False,index=False)"
   ]
  },
  {
   "cell_type": "code",
   "execution_count": 50,
   "metadata": {
    "ExecuteTime": {
     "end_time": "2022-04-11T17:42:36.694670Z",
     "start_time": "2022-04-11T17:42:36.690761Z"
    }
   },
   "outputs": [
    {
     "name": "stdout",
     "output_type": "stream",
     "text": [
      "Data points in train data (7566380, 2)\n",
      "Data points in test data (1891596, 2)\n",
      "Shape of traget variable in train (7566380,)\n",
      "Shape of traget variable in test (1891596,)\n"
     ]
    }
   ],
   "source": [
    "print(\"Data points in train data\",X_train.shape)\n",
    "print(\"Data points in test data\",X_test.shape)\n",
    "print(\"Shape of traget variable in train\",y_train.shape)\n",
    "print(\"Shape of traget variable in test\", y_test.shape)"
   ]
  },
  {
   "cell_type": "code",
   "execution_count": null,
   "metadata": {},
   "outputs": [],
   "source": []
  }
 ],
 "metadata": {
  "kernelspec": {
   "display_name": "Python 3 (ipykernel)",
   "language": "python",
   "name": "python3"
  },
  "language_info": {
   "codemirror_mode": {
    "name": "ipython",
    "version": 3
   },
   "file_extension": ".py",
   "mimetype": "text/x-python",
   "name": "python",
   "nbconvert_exporter": "python",
   "pygments_lexer": "ipython3",
   "version": "3.9.11"
  },
  "varInspector": {
   "cols": {
    "lenName": 16,
    "lenType": 16,
    "lenVar": 40
   },
   "kernels_config": {
    "python": {
     "delete_cmd_postfix": "",
     "delete_cmd_prefix": "del ",
     "library": "var_list.py",
     "varRefreshCmd": "print(var_dic_list())"
    },
    "r": {
     "delete_cmd_postfix": ") ",
     "delete_cmd_prefix": "rm(",
     "library": "var_list.r",
     "varRefreshCmd": "cat(var_dic_list()) "
    }
   },
   "types_to_exclude": [
    "module",
    "function",
    "builtin_function_or_method",
    "instance",
    "_Feature"
   ],
   "window_display": false
  }
 },
 "nbformat": 4,
 "nbformat_minor": 2
}
