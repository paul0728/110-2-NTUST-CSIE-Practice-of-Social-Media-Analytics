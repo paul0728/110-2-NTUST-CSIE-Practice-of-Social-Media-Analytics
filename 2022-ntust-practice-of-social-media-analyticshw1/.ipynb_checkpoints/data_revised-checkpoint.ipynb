{
 "cells": [
  {
   "cell_type": "code",
   "execution_count": 2,
   "id": "44595b5c",
   "metadata": {
    "ExecuteTime": {
     "end_time": "2022-04-16T12:01:10.229559Z",
     "start_time": "2022-04-16T12:01:09.456731Z"
    }
   },
   "outputs": [],
   "source": [
    "import pandas as pd\n",
    "import numpy as np\n",
    "import random\n",
    "import networkx as nx\n",
    "from tqdm import tqdm\n",
    "import re\n",
    "import matplotlib.pyplot as plt\n",
    "\n",
    "from sklearn.linear_model import LogisticRegression\n",
    "from sklearn.metrics import classification_report, roc_auc_score\n",
    "from sklearn.model_selection import train_test_split\n",
    "from sklearn.metrics import confusion_matrix\n",
    "\n",
    "\n",
    "train=pd.read_csv('data_train_edge.csv')\n",
    "predict=pd.read_csv('predict.csv')\n",
    "# answer=pd.read_csv('answer_RandomForest.csv')\n",
    "# answer\n",
    "ans500_ground_truth=pd.read_csv('ans500_ground_truth.csv')\n",
    "# answer1=pd.read_csv('answer_GBDT.csv')"
   ]
  },
  {
   "cell_type": "code",
   "execution_count": 11,
   "id": "bc9ed49e",
   "metadata": {
    "ExecuteTime": {
     "end_time": "2022-04-17T02:41:36.912097Z",
     "start_time": "2022-04-17T02:41:36.780491Z"
    }
   },
   "outputs": [
    {
     "data": {
      "text/html": [
       "<div>\n",
       "<style scoped>\n",
       "    .dataframe tbody tr th:only-of-type {\n",
       "        vertical-align: middle;\n",
       "    }\n",
       "\n",
       "    .dataframe tbody tr th {\n",
       "        vertical-align: top;\n",
       "    }\n",
       "\n",
       "    .dataframe thead th {\n",
       "        text-align: right;\n",
       "    }\n",
       "</style>\n",
       "<table border=\"1\" class=\"dataframe\">\n",
       "  <thead>\n",
       "    <tr style=\"text-align: right;\">\n",
       "      <th></th>\n",
       "      <th>predict_nodepair_id</th>\n",
       "      <th>ans</th>\n",
       "    </tr>\n",
       "  </thead>\n",
       "  <tbody>\n",
       "    <tr>\n",
       "      <th>0</th>\n",
       "      <td>0</td>\n",
       "      <td>0</td>\n",
       "    </tr>\n",
       "    <tr>\n",
       "      <th>1</th>\n",
       "      <td>1</td>\n",
       "      <td>0</td>\n",
       "    </tr>\n",
       "    <tr>\n",
       "      <th>2</th>\n",
       "      <td>2</td>\n",
       "      <td>1</td>\n",
       "    </tr>\n",
       "    <tr>\n",
       "      <th>3</th>\n",
       "      <td>3</td>\n",
       "      <td>1</td>\n",
       "    </tr>\n",
       "    <tr>\n",
       "      <th>4</th>\n",
       "      <td>4</td>\n",
       "      <td>1</td>\n",
       "    </tr>\n",
       "    <tr>\n",
       "      <th>...</th>\n",
       "      <td>...</td>\n",
       "      <td>...</td>\n",
       "    </tr>\n",
       "    <tr>\n",
       "      <th>10195</th>\n",
       "      <td>10195</td>\n",
       "      <td>0</td>\n",
       "    </tr>\n",
       "    <tr>\n",
       "      <th>10196</th>\n",
       "      <td>10196</td>\n",
       "      <td>1</td>\n",
       "    </tr>\n",
       "    <tr>\n",
       "      <th>10197</th>\n",
       "      <td>10197</td>\n",
       "      <td>0</td>\n",
       "    </tr>\n",
       "    <tr>\n",
       "      <th>10198</th>\n",
       "      <td>10198</td>\n",
       "      <td>0</td>\n",
       "    </tr>\n",
       "    <tr>\n",
       "      <th>10199</th>\n",
       "      <td>10199</td>\n",
       "      <td>0</td>\n",
       "    </tr>\n",
       "  </tbody>\n",
       "</table>\n",
       "<p>10200 rows × 2 columns</p>\n",
       "</div>"
      ],
      "text/plain": [
       "       predict_nodepair_id  ans\n",
       "0                        0    0\n",
       "1                        1    0\n",
       "2                        2    1\n",
       "3                        3    1\n",
       "4                        4    1\n",
       "...                    ...  ...\n",
       "10195                10195    0\n",
       "10196                10196    1\n",
       "10197                10197    0\n",
       "10198                10198    0\n",
       "10199                10199    0\n",
       "\n",
       "[10200 rows x 2 columns]"
      ]
     },
     "execution_count": 11,
     "metadata": {},
     "output_type": "execute_result"
    }
   ],
   "source": [
    "#建立train data 答案之字典\n",
    "edge={}\n",
    "for n1,n2 in zip(train['node1'], train['node2']):\n",
    "    edge[(n1,n2)]=1\n",
    "#紀錄已有答案之test data 之index\n",
    "t=[]\n",
    "for i,n1,n2 in zip(range(len(predict)),predict['node1'], predict['node2']):\n",
    "    if edge.get((n1,n2))==1:\n",
    "        t+=[i]\n",
    "        \n",
    "\n",
    "#建立train data 答案+predict 中連到自己者之字典        \n",
    "edge1={}\n",
    "for n1,n2 in zip(predict['node1'], predict['node2']):\n",
    "    if n1==n2:\n",
    "        edge1[(n1,n2)]=1\n",
    "edge1.update(edge)\n",
    "\n",
    "#紀錄已有答案之test data +predict 中連到自己者之index\n",
    "t1=[]\n",
    "for i,n1,n2 in zip(range(len(predict)),predict['node1'], predict['node2']):\n",
    "    if edge1.get((n1,n2))==1:\n",
    "        t1+=[i]\n",
    "\n",
    "# print(len(t))\n",
    "\n",
    "# answer=pd.read_csv('answer_RandomForest_equal.csv')\n",
    "# answer['ans'][t1]=1\n",
    "\n",
    "# for i,ans in enumerate(ans500_ground_truth['ans']):\n",
    "#     answer['ans'][i]=ans\n",
    "\n",
    "# answer.to_csv('answer_RandomForest_equal_revised.csv',index=False)\n",
    "# answer\n",
    "\n",
    "\n",
    "\n",
    "\n",
    "\n",
    "\n",
    "# answer1=pd.read_csv('answer_GBDT_equal.csv')\n",
    "# answer1['ans'][t1]=1\n",
    "\n",
    "# for i,ans in enumerate(ans500_ground_truth['ans']):\n",
    "#     answer1['ans'][i]=ans\n",
    "\n",
    "# answer1.to_csv('answer_GBDT_equal_revised.csv',index=False)\n",
    "# answer1\n",
    "\n",
    "\n",
    "\n",
    "answer2=pd.read_csv('answer_RandomForest_gt.csv')\n",
    "answer2['ans'][t1]=1\n",
    "\n",
    "for i,ans in enumerate(ans500_ground_truth['ans']):\n",
    "    answer2['ans'][i]=ans\n",
    "\n",
    "answer2.to_csv('answer_RandomForest_gt_revised.csv',index=False)\n",
    "answer2\n",
    "\n",
    "\n",
    "\n",
    "\n",
    "\n",
    "\n",
    "answer3=pd.read_csv('answer_GBDT_gt.csv')\n",
    "answer3['ans'][t1]=1\n",
    "\n",
    "for i,ans in enumerate(ans500_ground_truth['ans']):\n",
    "    answer3['ans'][i]=ans\n",
    "\n",
    "answer3.to_csv('answer_GBDT_gt_revised.csv',index=False)\n",
    "answer3"
   ]
  },
  {
   "cell_type": "code",
   "execution_count": 23,
   "id": "34bd0da5",
   "metadata": {
    "ExecuteTime": {
     "end_time": "2022-04-16T09:47:06.040807Z",
     "start_time": "2022-04-16T09:47:06.039334Z"
    }
   },
   "outputs": [],
   "source": [
    "# # 先random 設定值,再將答案填上去\n",
    "# random.seed(1)\n",
    "# random_answer=[random.randint(0, 1) for i in range(len(predict))]\n",
    "# random_answer=np.array(random_answer)\n",
    "# random_answer[t1]=1\n",
    "\n",
    "# for i,ans in enumerate(ans500_ground_truth['ans']):\n",
    "#     random_answer[i]=ans\n",
    "    \n",
    "\n",
    "# random_answer=pd.DataFrame({'predict_nodepair_id':list(range(10200)),'ans':random_answer})\n",
    "# random_answer.to_csv('random_answer_revised.csv',index=False)\n",
    "# random_answer\n"
   ]
  },
  {
   "cell_type": "code",
   "execution_count": 24,
   "id": "9f6c690f",
   "metadata": {
    "ExecuteTime": {
     "end_time": "2022-04-16T09:47:06.043236Z",
     "start_time": "2022-04-16T09:47:06.041661Z"
    }
   },
   "outputs": [],
   "source": [
    "# #先把所有直設成0,再將答案填上去\n",
    "# initial_0=[0 for i in range(len(predict))]\n",
    "# initial_0=np.array(initial_0)\n",
    "# initial_0[t1]=1\n",
    "\n",
    "# for i,ans in enumerate(ans500_ground_truth['ans']):\n",
    "#     initial_0[i]=ans\n",
    "    \n",
    "    \n",
    "# initial_0=pd.DataFrame({'predict_nodepair_id':list(range(10200)),'ans':initial_0})\n",
    "# initial_0.to_csv('initial_0_revised.csv',index=False)\n",
    "# initial_0\n"
   ]
  }
 ],
 "metadata": {
  "kernelspec": {
   "display_name": "Python 3 (ipykernel)",
   "language": "python",
   "name": "python3"
  },
  "language_info": {
   "codemirror_mode": {
    "name": "ipython",
    "version": 3
   },
   "file_extension": ".py",
   "mimetype": "text/x-python",
   "name": "python",
   "nbconvert_exporter": "python",
   "pygments_lexer": "ipython3",
   "version": "3.9.11"
  },
  "varInspector": {
   "cols": {
    "lenName": 16,
    "lenType": 16,
    "lenVar": 40
   },
   "kernels_config": {
    "python": {
     "delete_cmd_postfix": "",
     "delete_cmd_prefix": "del ",
     "library": "var_list.py",
     "varRefreshCmd": "print(var_dic_list())"
    },
    "r": {
     "delete_cmd_postfix": ") ",
     "delete_cmd_prefix": "rm(",
     "library": "var_list.r",
     "varRefreshCmd": "cat(var_dic_list()) "
    }
   },
   "types_to_exclude": [
    "module",
    "function",
    "builtin_function_or_method",
    "instance",
    "_Feature"
   ],
   "window_display": false
  }
 },
 "nbformat": 4,
 "nbformat_minor": 5
}
