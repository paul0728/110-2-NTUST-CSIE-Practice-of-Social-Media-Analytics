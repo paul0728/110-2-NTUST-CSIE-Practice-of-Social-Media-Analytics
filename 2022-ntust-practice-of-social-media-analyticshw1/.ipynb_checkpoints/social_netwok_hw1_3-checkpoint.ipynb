{
 "cells": [
  {
   "cell_type": "markdown",
   "metadata": {},
   "source": [
    "# 參考https://github.com/GopiSumanth/Facebook-Link-Prediction 進行修改"
   ]
  },
  {
   "cell_type": "markdown",
   "metadata": {},
   "source": [
    "# 結合各種metric 當成feature 進行預測(把 500 筆test data with ground true 加進train data,使用train data 所計算出的feature)"
   ]
  },
  {
   "cell_type": "code",
   "execution_count": 1,
   "metadata": {
    "ExecuteTime": {
     "end_time": "2022-04-16T13:29:11.592511Z",
     "start_time": "2022-04-16T13:29:10.809883Z"
    }
   },
   "outputs": [],
   "source": [
    "#Importing Libraries\n",
    "# please do go through this python notebook: \n",
    "import warnings\n",
    "warnings.filterwarnings(\"ignore\")\n",
    "\n",
    "import csv\n",
    "import pandas as pd#pandas to create small dataframes \n",
    "import datetime #Convert to unix time\n",
    "import time #Convert to unix time\n",
    "# if numpy is not installed already : pip3 install numpy\n",
    "import numpy as np#Do aritmetic operations on arrays\n",
    "# matplotlib: used to plot graphs\n",
    "import matplotlib\n",
    "import matplotlib.pylab as plt\n",
    "import seaborn as sns#Plots\n",
    "from matplotlib import rcParams#Size of plots  \n",
    "from sklearn.cluster import MiniBatchKMeans, KMeans#Clustering\n",
    "from  sklearn.ensemble import RandomForestClassifier\n",
    "import math\n",
    "import pickle\n",
    "import os\n",
    "import os.path\n",
    "import shutil\n",
    "\n",
    "\n",
    "# to install xgboost: pip3 install xgboost\n",
    "import xgboost as xgb\n",
    "\n",
    "import warnings\n",
    "import networkx as nx\n",
    "import pdb\n",
    "import pickle"
   ]
  },
  {
   "cell_type": "code",
   "execution_count": 2,
   "metadata": {
    "ExecuteTime": {
     "end_time": "2022-04-16T13:29:11.774152Z",
     "start_time": "2022-04-16T13:29:11.593453Z"
    },
    "colab": {},
    "colab_type": "code",
    "id": "1nUCUHsBfqR3"
   },
   "outputs": [],
   "source": [
    "#convert data to facebook data format\n",
    "\n",
    "#移除data 資料夾\n",
    "if os.path.isdir('./data'):\n",
    "    shutil.rmtree('./data')\n",
    "# 建立資料夾\n",
    "os.makedirs('./data/after_eda', exist_ok=True)\n",
    "os.makedirs('./data/fea_sample', exist_ok=True)\n",
    "\n",
    "data_train_edge=pd.read_csv('data_train_edge.csv')\n",
    "predict=pd.read_csv('predict.csv')\n",
    "test_data_gt=pd.read_csv('ans500_ground_truth.csv')\n",
    "index=test_data_gt[test_data_gt['ans']==1].index\n",
    "data_train_edge=pd.concat([data_train_edge,predict.iloc[index]]).drop_duplicates().reset_index(drop=True)\n",
    "data_train_edge.rename(columns = {'node1':'source_node', 'node2':'destination_node'}, inplace = True)\n",
    "predict.rename(columns = {'node1':'source_node', 'node2':'destination_node'}, inplace = True)\n",
    "predict_500=predict[:500]\n",
    "predict_500['indicator_link']=test_data_gt['ans']\n",
    "data_train_edge.to_csv('./data/train.csv',index=False)\n",
    "# predict.to_csv('./data/predict.csv',index=False)"
   ]
  },
  {
   "cell_type": "markdown",
   "metadata": {},
   "source": [
    "# 檢查predict 中是否有不在train data 中的node"
   ]
  },
  {
   "cell_type": "code",
   "execution_count": 3,
   "metadata": {
    "ExecuteTime": {
     "end_time": "2022-04-16T13:29:11.776321Z",
     "start_time": "2022-04-16T13:29:11.774930Z"
    }
   },
   "outputs": [],
   "source": [
    "# for i in pd.concat([predict['source_node'], predict['destination_node']], ignore_index=True).unique():\n",
    "#     if i not in pd.concat([predict['source_node'], predict['destination_node']], ignore_index=True).unique():\n",
    "#         print(\"yes\")\n",
    "#         break"
   ]
  },
  {
   "cell_type": "markdown",
   "metadata": {},
   "source": [
    "# 檢查是否有連到自己的node"
   ]
  },
  {
   "cell_type": "code",
   "execution_count": 4,
   "metadata": {
    "ExecuteTime": {
     "end_time": "2022-04-16T13:29:11.779040Z",
     "start_time": "2022-04-16T13:29:11.777469Z"
    }
   },
   "outputs": [],
   "source": [
    "# flag1='No'\n",
    "# self1=[]\n",
    "# for n1,n2 in zip(data_train_edge['source_node'], data_train_edge['destination_node']):\n",
    "#     if n1==n2:\n",
    "#         flag1='Yes'\n",
    "#         self1+=[n1]\n",
    "        \n",
    "# print(flag1)\n",
    "# print(len(self1))\n",
    "\n",
    "# self2=[]\n",
    "# flag2='No'\n",
    "# for n1,n2 in zip(predict['source_node'], predict['destination_node']):\n",
    "#     if n1==n2:\n",
    "#         flag2='Yes'\n",
    "#         self2+=[n2]\n",
    "# print(flag2)\n",
    "# print(self2)"
   ]
  },
  {
   "cell_type": "markdown",
   "metadata": {},
   "source": [
    "# 檢查是否要預測已經有的邊\n"
   ]
  },
  {
   "cell_type": "code",
   "execution_count": 5,
   "metadata": {
    "ExecuteTime": {
     "end_time": "2022-04-16T13:29:11.781197Z",
     "start_time": "2022-04-16T13:29:11.779759Z"
    }
   },
   "outputs": [],
   "source": [
    "# edge={}\n",
    "# for n1,n2 in zip(data_train_edge['source_node'], data_train_edge['destination_node']):\n",
    "#     edge[(n1,n2)]=1\n",
    "\n",
    "# t=[]\n",
    "# for n1,n2 in zip(predict['source_node'], predict['destination_node']):\n",
    "#     if edge.get((n1,n2))==1:\n",
    "#         t+=[(n1,n2)]\n",
    "# print(len(t))"
   ]
  },
  {
   "cell_type": "code",
   "execution_count": 6,
   "metadata": {
    "ExecuteTime": {
     "end_time": "2022-04-16T13:29:11.834629Z",
     "start_time": "2022-04-16T13:29:11.781888Z"
    },
    "colab": {},
    "colab_type": "code",
    "id": "6sABWkpYfqR7",
    "outputId": "0310d4f8-08eb-4b38-ca03-33a32ab520a1"
   },
   "outputs": [
    {
     "name": "stdout",
     "output_type": "stream",
     "text": [
      "Empty DataFrame\n",
      "Columns: [source_node, destination_node]\n",
      "Index: []\n",
      "<class 'pandas.core.frame.DataFrame'>\n",
      "RangeIndex: 20510 entries, 0 to 20509\n",
      "Data columns (total 2 columns):\n",
      " #   Column            Non-Null Count  Dtype\n",
      "---  ------            --------------  -----\n",
      " 0   source_node       20510 non-null  int64\n",
      " 1   destination_node  20510 non-null  int64\n",
      "dtypes: int64(2)\n",
      "memory usage: 320.6 KB\n",
      "None\n",
      "Number of diplicate entries:  0\n",
      "saved the graph into file\n",
      "DiGraph with 1005 nodes and 20510 edges\n"
     ]
    }
   ],
   "source": [
    "#reading graph\n",
    "if not os.path.isfile('data/after_eda/train_woheader.csv'):\n",
    "    traincsv = pd.read_csv('data/train.csv')\n",
    "    print(traincsv[traincsv.isna().any(1)])\n",
    "    print(traincsv.info())\n",
    "    print(\"Number of diplicate entries: \",sum(traincsv.duplicated()))\n",
    "    traincsv.to_csv('data/after_eda/train_woheader.csv',header=False,index=False)\n",
    "    print(\"saved the graph into file\")\n",
    "    g=nx.read_edgelist('data/after_eda/train_woheader.csv',delimiter=',',create_using=nx.DiGraph(),nodetype=int)\n",
    "else:\n",
    "    g=nx.read_edgelist('data/after_eda/train_woheader.csv',delimiter=',',create_using=nx.DiGraph(),nodetype=int)\n",
    "    \n",
    "    \n",
    "    \n",
    "for n in pd.concat([predict['source_node'], predict['destination_node']], ignore_index=True).unique():\n",
    "    g.add_node(n)\n",
    "print(nx.info(g))"
   ]
  },
  {
   "cell_type": "markdown",
   "metadata": {
    "colab_type": "text",
    "id": "9BsSAM7IfqR_"
   },
   "source": [
    "> Displaying a sub graph"
   ]
  },
  {
   "cell_type": "code",
   "execution_count": 7,
   "metadata": {
    "ExecuteTime": {
     "end_time": "2022-04-16T13:29:12.344459Z",
     "start_time": "2022-04-16T13:29:11.835402Z"
    },
    "colab": {},
    "colab_type": "code",
    "id": "Yt3jj1rWfqSA",
    "outputId": "bce4fd1b-471a-4b91-94a7-f3a8cf13ed7e"
   },
   "outputs": [
    {
     "name": "stdout",
     "output_type": "stream",
     "text": [
      "DiGraph with 89 nodes and 50 edges\n"
     ]
    },
    {
     "data": {
      "image/png": "[encoded data removed]",
      "text/plain": [
       "<Figure size 432x288 with 1 Axes>"
      ]
     },
     "metadata": {},
     "output_type": "display_data"
    }
   ],
   "source": [
    "if not os.path.isfile('train_woheader_sample.csv'):\n",
    "    pd.read_csv('data/train.csv', nrows=50).to_csv('train_woheader_sample.csv',header=False,index=False)\n",
    "    \n",
    "subgraph=nx.read_edgelist('train_woheader_sample.csv',delimiter=',',create_using=nx.DiGraph(),nodetype=int)\n",
    "# https://stackoverflow.com/questions/9402255/drawing-a-huge-graph-with-networkx-and-matplotlib\n",
    "\n",
    "pos=nx.spring_layout(subgraph)\n",
    "nx.draw(subgraph,pos,node_color='#A0CBE2',edge_color='#00bb5e',width=1,edge_cmap=plt.cm.Blues,with_labels=True)\n",
    "plt.savefig(\"graph_sample.pdf\")\n",
    "print(nx.info(subgraph))"
   ]
  },
  {
   "cell_type": "markdown",
   "metadata": {
    "colab_type": "text",
    "id": "NnwpxkINfqSD"
   },
   "source": [
    "# 1. Exploratory Data Analysis"
   ]
  },
  {
   "cell_type": "code",
   "execution_count": 8,
   "metadata": {
    "ExecuteTime": {
     "end_time": "2022-04-16T13:29:12.347432Z",
     "start_time": "2022-04-16T13:29:12.345502Z"
    },
    "colab": {},
    "colab_type": "code",
    "id": "4n4PAdf1fqSE",
    "outputId": "0af66c81-38a8-468c-9bb6-941797469002"
   },
   "outputs": [
    {
     "name": "stdout",
     "output_type": "stream",
     "text": [
      "The number of unique persons 1005\n"
     ]
    }
   ],
   "source": [
    "# No of Unique persons \n",
    "print(\"The number of unique persons\",len(g.nodes()))"
   ]
  },
  {
   "cell_type": "markdown",
   "metadata": {
    "colab_type": "text",
    "id": "TGIr9SeafqSH"
   },
   "source": [
    "## 1.1 No of followers for each person"
   ]
  },
  {
   "cell_type": "code",
   "execution_count": 9,
   "metadata": {
    "ExecuteTime": {
     "end_time": "2022-04-16T13:29:12.412427Z",
     "start_time": "2022-04-16T13:29:12.348380Z"
    },
    "colab": {},
    "colab_type": "code",
    "id": "SO2fHSN8fqSI",
    "outputId": "1fb4a1de-31d3-45e0-f54a-c0c9361ee270"
   },
   "outputs": [
    {
     "data": {
      "image/png": "[encoded data removed]",
      "text/plain": [
       "<Figure size 720x432 with 1 Axes>"
      ]
     },
     "metadata": {
      "needs_background": "light"
     },
     "output_type": "display_data"
    }
   ],
   "source": [
    "# print(dict(g.in_degree()))\n",
    "indegree_dist = list(dict(g.in_degree()).items())\n",
    "indegree_dist.sort()\n",
    "indegree_dist\n",
    "no_of_node=[k for k,v in indegree_dist]\n",
    "indegree_dist=[v for k,v in indegree_dist]\n",
    "plt.figure(figsize=(10,6))\n",
    "plt.plot(no_of_node,indegree_dist)\n",
    "plt.xlabel('Index No')\n",
    "plt.ylabel('No Of Followers')\n",
    "plt.show()"
   ]
  },
  {
   "cell_type": "code",
   "execution_count": 10,
   "metadata": {
    "ExecuteTime": {
     "end_time": "2022-04-16T13:29:12.459073Z",
     "start_time": "2022-04-16T13:29:12.413871Z"
    },
    "colab": {},
    "colab_type": "code",
    "id": "KB5gmQeEfqSP",
    "outputId": "f2e34b14-b93f-4ef0-df75-41dcd5b7732e"
   },
   "outputs": [
    {
     "data": {
      "image/png": "[encoded data removed]",
      "text/plain": [
       "<Figure size 432x288 with 1 Axes>"
      ]
     },
     "metadata": {
      "needs_background": "light"
     },
     "output_type": "display_data"
    }
   ],
   "source": [
    "plt.boxplot(indegree_dist)\n",
    "plt.ylabel('No Of Followers')\n",
    "plt.show()"
   ]
  },
  {
   "cell_type": "code",
   "execution_count": 11,
   "metadata": {
    "ExecuteTime": {
     "end_time": "2022-04-16T13:29:12.465162Z",
     "start_time": "2022-04-16T13:29:12.459928Z"
    },
    "colab": {},
    "colab_type": "code",
    "id": "NlqNTbvBfqSV",
    "outputId": "67e61567-edda-43fa-e795-3a08e4ea0606"
   },
   "outputs": [
    {
     "name": "stdout",
     "output_type": "stream",
     "text": [
      "90 percentile value is 48.60000000000002\n",
      "91 percentile value is 51.0\n",
      "92 percentile value is 54.0\n",
      "93 percentile value is 57.0\n",
      "94 percentile value is 60.0\n",
      "95 percentile value is 64.0\n",
      "96 percentile value is 70.51999999999975\n",
      "97 percentile value is 80.0\n",
      "98 percentile value is 88.0\n",
      "99 percentile value is 102.96000000000004\n",
      "100 percentile value is 173.0\n"
     ]
    }
   ],
   "source": [
    "### 90-100 percentile\n",
    "for i in range(0,11):\n",
    "    print(90+i,'percentile value is',np.percentile(indegree_dist,90+i))"
   ]
  },
  {
   "cell_type": "markdown",
   "metadata": {
    "colab_type": "text",
    "id": "8poopx4SfqSY"
   },
   "source": [
    "99% of data having followers of 40 only."
   ]
  },
  {
   "cell_type": "code",
   "execution_count": 12,
   "metadata": {
    "ExecuteTime": {
     "end_time": "2022-04-16T13:29:12.470669Z",
     "start_time": "2022-04-16T13:29:12.465923Z"
    },
    "colab": {},
    "colab_type": "code",
    "id": "T39h02gjfqSY",
    "outputId": "47c5983e-8441-49e6-ad0d-c192e236f7e7"
   },
   "outputs": [
    {
     "name": "stdout",
     "output_type": "stream",
     "text": [
      "99.1 percentile value is 103.0\n",
      "99.2 percentile value is 104.93599999999992\n",
      "99.3 percentile value is 106.94399999999996\n",
      "99.4 percentile value is 113.83200000000079\n",
      "99.5 percentile value is 122.82000000000016\n",
      "99.6 percentile value is 127.92000000000019\n",
      "99.7 percentile value is 129.97599999999989\n",
      "99.8 percentile value is 130.99199999999996\n",
      "99.9 percentile value is 146.9360000000015\n",
      "100.0 percentile value is 173.0\n"
     ]
    }
   ],
   "source": [
    "### 99-100 percentile\n",
    "for i in range(10,110,10):\n",
    "    print(99+(i/100),'percentile value is',np.percentile(indegree_dist,99+(i/100)))"
   ]
  },
  {
   "cell_type": "code",
   "execution_count": 13,
   "metadata": {
    "ExecuteTime": {
     "end_time": "2022-04-16T13:29:12.589115Z",
     "start_time": "2022-04-16T13:29:12.471394Z"
    },
    "colab": {},
    "colab_type": "code",
    "id": "HUC-l4ecfqSc",
    "outputId": "aabd357c-e104-4653-c6cb-9463b4d7b586"
   },
   "outputs": [
    {
     "data": {
      "image/png": "[encoded data removed]",
      "text/plain": [
       "<Figure size 842.4x595.44 with 1 Axes>"
      ]
     },
     "metadata": {},
     "output_type": "display_data"
    }
   ],
   "source": [
    "%matplotlib inline\n",
    "sns.set_style('ticks')\n",
    "fig, ax = plt.subplots()\n",
    "fig.set_size_inches(11.7, 8.27)\n",
    "sns.distplot(indegree_dist, color='#16A085')\n",
    "plt.xlabel('PDF of Indegree')\n",
    "sns.despine()\n",
    "#plt.show()"
   ]
  },
  {
   "cell_type": "markdown",
   "metadata": {
    "colab_type": "text",
    "id": "bGfq4DwWfqSi"
   },
   "source": [
    "## 1.2 No of people each person is following"
   ]
  },
  {
   "cell_type": "code",
   "execution_count": 14,
   "metadata": {
    "ExecuteTime": {
     "end_time": "2022-04-16T13:29:12.650282Z",
     "start_time": "2022-04-16T13:29:12.589928Z"
    },
    "colab": {},
    "colab_type": "code",
    "id": "G0BAaBq9fqSk",
    "outputId": "22bc1a3a-0c7a-4219-f31c-e9ecb1e2e0ee"
   },
   "outputs": [
    {
     "data": {
      "image/png": "[encoded data removed]",
      "text/plain": [
       "<Figure size 720x432 with 1 Axes>"
      ]
     },
     "metadata": {},
     "output_type": "display_data"
    }
   ],
   "source": [
    "outdegree_dist = list(dict(g.out_degree()).items())\n",
    "outdegree_dist.sort()\n",
    "no_of_node=[k for k,v in outdegree_dist]\n",
    "outdegree_dist=[v for k,v in outdegree_dist]\n",
    "plt.figure(figsize=(10,6))\n",
    "plt.plot(no_of_node,outdegree_dist)\n",
    "plt.xlabel('Index No')\n",
    "plt.ylabel('No Of people each person is following')\n",
    "plt.show()"
   ]
  },
  {
   "cell_type": "code",
   "execution_count": 15,
   "metadata": {
    "ExecuteTime": {
     "end_time": "2022-04-16T13:29:12.698936Z",
     "start_time": "2022-04-16T13:29:12.651074Z"
    },
    "colab": {},
    "colab_type": "code",
    "id": "su2ldQxYfqSq",
    "outputId": "47a85a67-c26f-4db6-d485-faa2cc9b7f0c"
   },
   "outputs": [
    {
     "data": {
      "image/png": "[encoded data removed]",
      "text/plain": [
       "<Figure size 432x288 with 1 Axes>"
      ]
     },
     "metadata": {},
     "output_type": "display_data"
    }
   ],
   "source": [
    "plt.boxplot(indegree_dist)\n",
    "plt.ylabel('No Of people each person is following')\n",
    "plt.show()"
   ]
  },
  {
   "cell_type": "code",
   "execution_count": 16,
   "metadata": {
    "ExecuteTime": {
     "end_time": "2022-04-16T13:29:12.705271Z",
     "start_time": "2022-04-16T13:29:12.699909Z"
    },
    "colab": {},
    "colab_type": "code",
    "id": "nSHgON3BfqSs",
    "outputId": "d120cd71-e920-4ae1-c349-c4e75ff0e2d6"
   },
   "outputs": [
    {
     "name": "stdout",
     "output_type": "stream",
     "text": [
      "90 percentile value is 52.0\n",
      "91 percentile value is 54.0\n",
      "92 percentile value is 58.0\n",
      "93 percentile value is 61.72000000000003\n",
      "94 percentile value is 66.75999999999999\n",
      "95 percentile value is 73.79999999999995\n",
      "96 percentile value is 81.67999999999984\n",
      "97 percentile value is 89.0\n",
      "98 percentile value is 97.83999999999992\n",
      "99 percentile value is 122.72000000000025\n",
      "100 percentile value is 272.0\n"
     ]
    }
   ],
   "source": [
    "### 90-100 percentile\n",
    "for i in range(0,11):\n",
    "    print(90+i,'percentile value is',np.percentile(outdegree_dist,90+i))"
   ]
  },
  {
   "cell_type": "code",
   "execution_count": 17,
   "metadata": {
    "ExecuteTime": {
     "end_time": "2022-04-16T13:29:12.712352Z",
     "start_time": "2022-04-16T13:29:12.706701Z"
    },
    "colab": {},
    "colab_type": "code",
    "id": "uvutT3mEfqSx",
    "outputId": "5a3adae2-65e4-4d7e-f0ed-a079462daa3a"
   },
   "outputs": [
    {
     "name": "stdout",
     "output_type": "stream",
     "text": [
      "99.1 percentile value is 127.81999999999971\n",
      "99.2 percentile value is 133.80799999999977\n",
      "99.3 percentile value is 135.94399999999996\n",
      "99.4 percentile value is 141.85600000000068\n",
      "99.5 percentile value is 160.62000000000035\n",
      "99.6 percentile value is 162.96800000000007\n",
      "99.7 percentile value is 170.90399999999954\n",
      "99.8 percentile value is 177.94399999999973\n",
      "99.9 percentile value is 178.9960000000001\n",
      "100.0 percentile value is 272.0\n"
     ]
    }
   ],
   "source": [
    "### 99-100 percentile\n",
    "for i in range(10,110,10):\n",
    "    print(99+(i/100),'percentile value is',np.percentile(outdegree_dist,99+(i/100)))"
   ]
  },
  {
   "cell_type": "code",
   "execution_count": 18,
   "metadata": {
    "ExecuteTime": {
     "end_time": "2022-04-16T13:29:12.831846Z",
     "start_time": "2022-04-16T13:29:12.713345Z"
    },
    "colab": {},
    "colab_type": "code",
    "id": "Hmn-gWVnfqS0",
    "outputId": "d412bc62-550a-46a1-9e14-e4a9d9783f34"
   },
   "outputs": [
    {
     "data": {
      "image/png": "[encoded data removed]",
      "text/plain": [
       "<Figure size 842.4x595.44 with 1 Axes>"
      ]
     },
     "metadata": {},
     "output_type": "display_data"
    }
   ],
   "source": [
    "sns.set_style('ticks')\n",
    "fig, ax = plt.subplots()\n",
    "fig.set_size_inches(11.7, 8.27)\n",
    "sns.distplot(outdegree_dist, color='#16A085')\n",
    "plt.xlabel('PDF of Outdegree')\n",
    "sns.despine()"
   ]
  },
  {
   "cell_type": "code",
   "execution_count": 19,
   "metadata": {
    "ExecuteTime": {
     "end_time": "2022-04-16T13:29:12.837853Z",
     "start_time": "2022-04-16T13:29:12.832865Z"
    },
    "colab": {},
    "colab_type": "code",
    "id": "SvCvfTcMfqS3",
    "outputId": "ffc34425-f213-4eb1-da50-58faca0a52e4"
   },
   "outputs": [
    {
     "name": "stdout",
     "output_type": "stream",
     "text": [
      "No of persons those are not following anyone are 162 and % is 16.119402985074625\n"
     ]
    }
   ],
   "source": [
    "print('No of persons those are not following anyone are' ,sum(np.array(outdegree_dist)==0),'and % is',\n",
    "                                sum(np.array(outdegree_dist)==0)*100/len(outdegree_dist) )"
   ]
  },
  {
   "cell_type": "code",
   "execution_count": 20,
   "metadata": {
    "ExecuteTime": {
     "end_time": "2022-04-16T13:29:12.844063Z",
     "start_time": "2022-04-16T13:29:12.838837Z"
    },
    "colab": {},
    "colab_type": "code",
    "id": "tSg3iqesfqTA",
    "outputId": "d1f13e4a-07bb-4904-9e22-73a9e9b70c7c"
   },
   "outputs": [
    {
     "name": "stdout",
     "output_type": "stream",
     "text": [
      "No of persons having zero followers are 39 and % is 3.8805970149253732\n"
     ]
    }
   ],
   "source": [
    "print('No of persons having zero followers are' ,sum(np.array(indegree_dist)==0),'and % is',\n",
    "                                sum(np.array(indegree_dist)==0)*100/len(indegree_dist) )"
   ]
  },
  {
   "cell_type": "code",
   "execution_count": 21,
   "metadata": {
    "ExecuteTime": {
     "end_time": "2022-04-16T13:29:12.848416Z",
     "start_time": "2022-04-16T13:29:12.844899Z"
    },
    "colab": {},
    "colab_type": "code",
    "id": "TEG4OkfBfqTF",
    "outputId": "65e937f3-4561-4964-a09c-acd374280c40"
   },
   "outputs": [
    {
     "name": "stdout",
     "output_type": "stream",
     "text": [
      "No of persons those are not not following anyone and also not having any followers are 26\n"
     ]
    }
   ],
   "source": [
    "count=0\n",
    "for i in g.nodes():\n",
    "    if len(list(g.predecessors(i)))==0 :\n",
    "        if len(list(g.successors(i)))==0:\n",
    "            count+=1\n",
    "print('No of persons those are not not following anyone and also not having any followers are',count)"
   ]
  },
  {
   "cell_type": "markdown",
   "metadata": {
    "colab_type": "text",
    "id": "fUtuEt77fqTI"
   },
   "source": [
    "## 1.3 both followers + following "
   ]
  },
  {
   "cell_type": "code",
   "execution_count": 22,
   "metadata": {
    "ExecuteTime": {
     "end_time": "2022-04-16T13:29:12.853077Z",
     "start_time": "2022-04-16T13:29:12.849217Z"
    },
    "colab": {},
    "colab_type": "code",
    "id": "KuJwaBt1fqTJ"
   },
   "outputs": [
    {
     "data": {
      "text/plain": [
       "array([[287,  29],\n",
       "       [ 68,  69],\n",
       "       [ 63, 167],\n",
       "       ...,\n",
       "       [689,   2],\n",
       "       [790,   1],\n",
       "       [863,   1]])"
      ]
     },
     "execution_count": 22,
     "metadata": {},
     "output_type": "execute_result"
    }
   ],
   "source": [
    "from collections import Counter\n",
    "dict_in = dict(g.in_degree())\n",
    "# print(dict_in)\n",
    "dict_out = dict(g.out_degree())\n",
    "# print(dict_out)\n",
    "d = Counter(dict_in) + Counter(dict_out)\n",
    "in_out_degree = np.array(list(d.items()))\n",
    "in_out_degree"
   ]
  },
  {
   "cell_type": "code",
   "execution_count": 23,
   "metadata": {
    "ExecuteTime": {
     "end_time": "2022-04-16T13:29:12.914529Z",
     "start_time": "2022-04-16T13:29:12.853832Z"
    },
    "colab": {},
    "colab_type": "code",
    "id": "anhhqLeefqTL",
    "outputId": "93b1a493-f3b7-4382-fa67-5a45aa54db45"
   },
   "outputs": [
    {
     "data": {
      "image/png": "[encoded data removed]",
      "text/plain": [
       "<Figure size 720x432 with 1 Axes>"
      ]
     },
     "metadata": {},
     "output_type": "display_data"
    }
   ],
   "source": [
    "in_out_degree_sort = sorted(in_out_degree, key=lambda x:x[0]) \n",
    "in_out_degree_sort[0][0]\n",
    "\n",
    "no_of_node=[in_out_degree_sort[i][0] for i in range(len(in_out_degree_sort))]\n",
    "in_out_degree_sort=[in_out_degree_sort[i][1] for i in range(len(in_out_degree_sort))]\n",
    "plt.figure(figsize=(10,6))\n",
    "plt.plot(no_of_node,in_out_degree_sort)\n",
    "plt.xlabel('Index No')\n",
    "plt.ylabel('No Of people each person is following + followers')\n",
    "plt.show()"
   ]
  },
  {
   "cell_type": "code",
   "execution_count": 24,
   "metadata": {
    "ExecuteTime": {
     "end_time": "2022-04-16T13:29:12.920587Z",
     "start_time": "2022-04-16T13:29:12.915597Z"
    },
    "colab": {},
    "colab_type": "code",
    "id": "RnZ5AFLmfqTS",
    "outputId": "2456d318-4c6f-4b14-d717-9ba74df99ba0"
   },
   "outputs": [
    {
     "name": "stdout",
     "output_type": "stream",
     "text": [
      "90 percentile value is 99.0\n",
      "91 percentile value is 102.0\n",
      "92 percentile value is 109.0\n",
      "93 percentile value is 116.0\n",
      "94 percentile value is 127.63999999999987\n",
      "95 percentile value is 139.19999999999982\n",
      "96 percentile value is 154.0\n",
      "97 percentile value is 167.65999999999997\n",
      "98 percentile value is 184.31999999999982\n",
      "99 percentile value is 214.08000000000038\n",
      "100 percentile value is 445.0\n"
     ]
    }
   ],
   "source": [
    "### 90-100 percentile\n",
    "for i in range(0,11):\n",
    "    print(90+i,'percentile value is',np.percentile(in_out_degree_sort,90+i))"
   ]
  },
  {
   "cell_type": "code",
   "execution_count": 25,
   "metadata": {
    "ExecuteTime": {
     "end_time": "2022-04-16T13:29:12.925520Z",
     "start_time": "2022-04-16T13:29:12.921340Z"
    },
    "colab": {},
    "colab_type": "code",
    "id": "WU8R9TG_fqTU",
    "outputId": "3920f573-74ad-464d-e29f-001bebd6e85c"
   },
   "outputs": [
    {
     "name": "stdout",
     "output_type": "stream",
     "text": [
      "99.1 percentile value is 227.57399999999973\n",
      "99.2 percentile value is 238.70400000000018\n",
      "99.3 percentile value is 243.38599999999997\n",
      "99.4 percentile value is 253.64000000000124\n",
      "99.5 percentile value is 273.4200000000003\n",
      "99.6 percentile value is 293.7919999999997\n",
      "99.7 percentile value is 302.0\n",
      "99.8 percentile value is 302.2639999999999\n",
      "99.9 percentile value is 311.0140000000222\n",
      "100.0 percentile value is 445.0\n"
     ]
    }
   ],
   "source": [
    "### 99-100 percentile\n",
    "for i in range(10,110,10):\n",
    "    print(99+(i/100),'percentile value is',np.percentile(in_out_degree_sort,99+(i/100)))"
   ]
  },
  {
   "cell_type": "code",
   "execution_count": 26,
   "metadata": {
    "ExecuteTime": {
     "end_time": "2022-04-16T13:29:12.928360Z",
     "start_time": "2022-04-16T13:29:12.926225Z"
    },
    "colab": {},
    "colab_type": "code",
    "id": "Ou-DL05FfqTW",
    "outputId": "c081a0cb-01b5-4e8d-ebe7-a22f71083f51"
   },
   "outputs": [
    {
     "name": "stdout",
     "output_type": "stream",
     "text": [
      "Min of no of followers + following is 0\n",
      "1  persons having minimum no of followers + following\n"
     ]
    }
   ],
   "source": [
    "print('Min of no of followers + following is',in_out_degree.min())\n",
    "print(np.sum(in_out_degree==in_out_degree.min()),' persons having minimum no of followers + following')"
   ]
  },
  {
   "cell_type": "code",
   "execution_count": 27,
   "metadata": {
    "ExecuteTime": {
     "end_time": "2022-04-16T13:29:12.930917Z",
     "start_time": "2022-04-16T13:29:12.929026Z"
    },
    "colab": {},
    "colab_type": "code",
    "id": "37tJF6njfqTY",
    "outputId": "85624ff9-2253-4183-a93a-1b8d9b03885b"
   },
   "outputs": [
    {
     "name": "stdout",
     "output_type": "stream",
     "text": [
      "Max of no of followers + following is 1003\n",
      "1  persons having maximum no of followers + following\n"
     ]
    }
   ],
   "source": [
    "print('Max of no of followers + following is',in_out_degree.max())\n",
    "print(np.sum(in_out_degree==in_out_degree.max()),' persons having maximum no of followers + following')"
   ]
  },
  {
   "cell_type": "code",
   "execution_count": 28,
   "metadata": {
    "ExecuteTime": {
     "end_time": "2022-04-16T13:29:12.934863Z",
     "start_time": "2022-04-16T13:29:12.933089Z"
    },
    "colab": {},
    "colab_type": "code",
    "id": "F43xaOxXfqTb",
    "outputId": "3d2669e3-0831-4deb-b336-4dcbbeded3af"
   },
   "outputs": [
    {
     "name": "stdout",
     "output_type": "stream",
     "text": [
      "No of persons having followers + following less than 10 are 290\n"
     ]
    }
   ],
   "source": [
    "print('No of persons having followers + following less than 10 are',np.sum(in_out_degree<10))"
   ]
  },
  {
   "cell_type": "code",
   "execution_count": 29,
   "metadata": {
    "ExecuteTime": {
     "end_time": "2022-04-16T13:29:12.942320Z",
     "start_time": "2022-04-16T13:29:12.935524Z"
    },
    "colab": {},
    "colab_type": "code",
    "id": "5_UQN2TWfqTf",
    "outputId": "40f692bf-6aee-475d-af5c-4b1277523fbf"
   },
   "outputs": [
    {
     "name": "stdout",
     "output_type": "stream",
     "text": [
      "No of weakly connected components 44\n",
      "weakly connected components wit 2 nodes 0\n"
     ]
    }
   ],
   "source": [
    "print('No of weakly connected components',len(list(nx.weakly_connected_components(g))))\n",
    "count=0\n",
    "for i in list(nx.weakly_connected_components(g)):\n",
    "    if len(i)==2:\n",
    "        count+=1\n",
    "print('weakly connected components wit 2 nodes',count)"
   ]
  },
  {
   "cell_type": "markdown",
   "metadata": {
    "colab_type": "text",
    "id": "HhiIapmZfqTm"
   },
   "source": [
    "# 2. Posing a problem as classification problem "
   ]
  },
  {
   "cell_type": "markdown",
   "metadata": {
    "colab_type": "text",
    "id": "3mwSAo4DfqTn"
   },
   "source": [
    "## 2.1 Generating some edges which are not present in graph for supervised learning  \n",
    "Generated Bad links from graph which are not in graph and whose shortest path is greater than 2. "
   ]
  },
  {
   "cell_type": "code",
   "execution_count": 30,
   "metadata": {
    "ExecuteTime": {
     "end_time": "2022-04-16T13:29:12.944836Z",
     "start_time": "2022-04-16T13:29:12.943039Z"
    },
    "colab": {},
    "colab_type": "code",
    "id": "ALnbFILsfqT5",
    "outputId": "a4315b29-bfb9-498e-9360-b4bf2f716b0e"
   },
   "outputs": [],
   "source": [
    "# %%time\n",
    "# ###generating bad edges from given graph\n",
    "# import random\n",
    "# random.seed(1)\n",
    "\n",
    "# if not os.path.isfile('data/after_eda/missing_edges_final.p'):\n",
    "#     #getting all set of edges\n",
    "#     r = csv.reader(open('data/after_eda/train_woheader.csv','r'))\n",
    "#     edges = dict()\n",
    "#     for edge in r:\n",
    "#         edges[(int(edge[0]), int(edge[1]))] = 1\n",
    "        \n",
    "        \n",
    "        \n",
    "#     missing_edges = set([])\n",
    "    \n",
    "#     #先取負樣本(要包含到所有的predict中的pair)\n",
    "#     for i,nodepair in predict.iterrows():\n",
    "#         tmp = edges.get((nodepair[0],nodepair[1]),-1)\n",
    "#         if tmp == -1:\n",
    "#             missing_edges.add((nodepair[0],nodepair[1]))\n",
    "            \n",
    "            \n",
    "#     #先取兩倍的樣本\n",
    "#     while (len(missing_edges)<41020):\n",
    "#         a=random.choice(list(g.nodes))\n",
    "#         b=random.choice(list(g.nodes))\n",
    "#         tmp = edges.get((a,b),-1)\n",
    "#         if tmp == -1 and a!=b:\n",
    "#             try:\n",
    "#                 if nx.shortest_path_length(g,source=a,target=b) > 2: \n",
    "\n",
    "#                     missing_edges.add((a,b))\n",
    "#                 else:\n",
    "#                     continue  \n",
    "#             except:  \n",
    "#                     missing_edges.add((a,b))              \n",
    "#         else:\n",
    "#             continue\n",
    "#     pickle.dump(missing_edges,open('data/after_eda/missing_edges_final.p','wb'))\n",
    "# else:\n",
    "#     missing_edges = pickle.load(open('data/after_eda/missing_edges_final.p','rb'))\n",
    "    \n",
    "\n",
    "\n",
    "# # missing_edges\n"
   ]
  },
  {
   "cell_type": "code",
   "execution_count": 31,
   "metadata": {
    "ExecuteTime": {
     "end_time": "2022-04-16T13:29:13.503285Z",
     "start_time": "2022-04-16T13:29:12.945433Z"
    }
   },
   "outputs": [
    {
     "name": "stdout",
     "output_type": "stream",
     "text": [
      "CPU times: user 498 ms, sys: 56.5 ms, total: 555 ms\n",
      "Wall time: 555 ms\n"
     ]
    }
   ],
   "source": [
    "%%time\n",
    "###generating bad edges from given graph\n",
    "import random\n",
    "if not os.path.isfile('data/after_eda/missing_edges_final.p'):\n",
    "    #getting all set of edges\n",
    "    r = csv.reader(open('data/after_eda/train_woheader.csv','r'))\n",
    "    edges = dict()\n",
    "    for edge in r:\n",
    "        #print(edge)\n",
    "        edges[(int(edge[0]), int(edge[1]))] = 1\n",
    "        \n",
    "        \n",
    "    missing_edges = set([])\n",
    "    for n1 in g.nodes:\n",
    "        for n2 in g.nodes:\n",
    "#             if n1==n2:\n",
    "#                 edges[(n1, n2)] = 1\n",
    "            tmp = edges.get((n1,n2),-1)\n",
    "            if tmp == -1:\n",
    "#                 try:\n",
    "#                     if nx.shortest_path_length(g,source=n1,target=n2) > 2:\n",
    "#                         missing_edges.add((n1,n2))\n",
    "#                 except:\n",
    "#                     pass\n",
    "                missing_edges.add((n1,n2))\n",
    "    pickle.dump(missing_edges,open('data/after_eda/missing_edges_final.p','wb'))\n",
    "else:\n",
    "    missing_edges = pickle.load(open('data/after_eda/missing_edges_final.p','rb'))\n"
   ]
  },
  {
   "cell_type": "code",
   "execution_count": 32,
   "metadata": {
    "ExecuteTime": {
     "end_time": "2022-04-16T13:29:13.506518Z",
     "start_time": "2022-04-16T13:29:13.504232Z"
    },
    "colab": {},
    "colab_type": "code",
    "id": "b-Y3LqXUfqT8",
    "outputId": "9919a64d-bff7-43be-c88e-469197091346"
   },
   "outputs": [
    {
     "data": {
      "text/plain": [
       "989515"
      ]
     },
     "execution_count": 32,
     "metadata": {},
     "output_type": "execute_result"
    }
   ],
   "source": [
    "len(missing_edges)"
   ]
  },
  {
   "cell_type": "markdown",
   "metadata": {
    "colab_type": "text",
    "id": "sCDeoOlFfqT-"
   },
   "source": [
    "## 2.2 Training and Test data split:  \n",
    "Removed edges from Graph and used as test data and after removing used that graph for creating features for Train and test data"
   ]
  },
  {
   "cell_type": "code",
   "execution_count": 33,
   "metadata": {
    "ExecuteTime": {
     "end_time": "2022-04-16T13:29:14.427103Z",
     "start_time": "2022-04-16T13:29:13.507507Z"
    }
   },
   "outputs": [
    {
     "name": "stdout",
     "output_type": "stream",
     "text": [
      "Number of nodes in the graph with edges 20510\n",
      "Number of nodes in the graph without edges 989515\n",
      "============================================================\n",
      "Number of nodes in the train data graph with edges 20510 = 20510\n",
      "Number of nodes in the train data graph without edges 989515 = 989515\n"
     ]
    }
   ],
   "source": [
    "from sklearn.model_selection import train_test_split\n",
    "if not os.path.isfile('data/after_eda/train_pos_after_eda.csv'):\n",
    "    df_pos = pd.read_csv('data/train.csv')\n",
    "    df_neg = pd.DataFrame(list(missing_edges), columns=['source_node', 'destination_node'])\n",
    "\n",
    "    print(\"Number of nodes in the graph with edges\", df_pos.shape[0])\n",
    "    print(\"Number of nodes in the graph without edges\", df_neg.shape[0])\n",
    "\n",
    "    #Trian test split \n",
    "    #Spiltted data into 80-20 \n",
    "    #positive links and negative links seperatly because we need positive training data only for creating graph \n",
    "    #and for feature generation\n",
    "\n",
    "\n",
    "    X_train_pos=df_pos\n",
    "    y_train_pos=np.ones(len(df_pos))\n",
    "\n",
    "\n",
    "#     #選出20457個negtive sample(要包含到predict中的pair)\n",
    "\n",
    "#     df_neg_predict=pd.merge(df_neg,predict,how='inner')\n",
    "\n",
    "#     drop_index=[df_neg[(df_neg['source_node']==n1) & (df_neg['destination_node']==n2)].index[0] for n1,n2 in zip(df_neg_predict['source_node'],df_neg_predict['destination_node'])]\n",
    "#     # print(drop_index) \n",
    "#     df_neg.drop(drop_index,inplace=True)\n",
    "#     df_neg=df_neg.sample(n=20457-len(df_neg_predict), random_state=1)\n",
    "#     df_neg=pd.concat([df_neg, df_neg_predict], ignore_index=True)\n",
    "\n",
    "\n",
    "    X_train_neg=df_neg\n",
    "    y_train_neg=np.zeros(len(df_neg))\n",
    "\n",
    "    print('='*60)\n",
    "    print(\"Number of nodes in the train data graph with edges\", X_train_pos.shape[0],\"=\",y_train_pos.shape[0])\n",
    "    print(\"Number of nodes in the train data graph without edges\", X_train_neg.shape[0],\"=\", y_train_neg.shape[0])\n",
    "\n",
    "    #removing header and saving\n",
    "    X_train_pos.to_csv('data/after_eda/train_pos_after_eda.csv',header=False, index=False)\n",
    "    X_train_neg.to_csv('data/after_eda/train_neg_after_eda.csv',header=False, index=False)\n",
    "else:\n",
    "    #Graph from Traing data only \n",
    "    del missing_edges"
   ]
  },
  {
   "cell_type": "code",
   "execution_count": 34,
   "metadata": {
    "ExecuteTime": {
     "end_time": "2022-04-16T13:29:14.430161Z",
     "start_time": "2022-04-16T13:29:14.428100Z"
    }
   },
   "outputs": [],
   "source": [
    "# from sklearn.model_selection import train_test_split\n",
    "# if not os.path.isfile('data/after_eda/train_pos_after_eda.csv'):\n",
    "#     #reading total data df\n",
    "#     df_pos = pd.read_csv('data/train.csv')\n",
    "#     df_neg = pd.DataFrame(list(missing_edges), columns=['source_node', 'destination_node'])\n",
    "\n",
    "#     print(\"Number of nodes in the graph with edges\", df_pos.shape[0])\n",
    "#     print(\"Number of nodes in the graph without edges\", df_neg.shape[0])\n",
    "\n",
    "#     #Trian test split \n",
    "#     #Spiltted data into 80-20 \n",
    "#     #positive links and negative links seperatly because we need positive training data only for creating graph \n",
    "#     #and for feature generation\n",
    "#     X_train_pos=df_pos\n",
    "#     y_train_pos=np.ones(len(df_pos))\n",
    "#     X_train_neg=df_neg\n",
    "#     y_train_neg=np.zeros(len(df_neg))\n",
    "    \n",
    "#     print('='*60)\n",
    "#     print(\"Number of nodes in the train data graph with edges\", X_train_pos.shape[0],\"=\",y_train_pos.shape[0])\n",
    "#     print(\"Number of nodes in the train data graph without edges\", X_train_neg.shape[0],\"=\", y_train_neg.shape[0])\n",
    "\n",
    "#     #removing header and saving\n",
    "#     X_train_pos.to_csv('data/after_eda/train_pos_after_eda.csv',header=False, index=False)\n",
    "#     X_train_neg.to_csv('data/after_eda/train_neg_after_eda.csv',header=False, index=False)\n",
    "# else:\n",
    "#     #Graph from Traing data only \n",
    "#     del missing_edges"
   ]
  },
  {
   "cell_type": "code",
   "execution_count": 35,
   "metadata": {
    "ExecuteTime": {
     "end_time": "2022-04-16T13:29:14.433187Z",
     "start_time": "2022-04-16T13:29:14.431022Z"
    },
    "colab": {},
    "colab_type": "code",
    "id": "mBJF78difqT_",
    "outputId": "4ea80a08-3303-4295-a50c-3584a1895a21"
   },
   "outputs": [],
   "source": [
    "# from sklearn.model_selection import train_test_split\n",
    "# if (not os.path.isfile('data/after_eda/train_pos_after_eda.csv')) and (not os.path.isfile('data/after_eda/test_pos_after_eda.csv')):\n",
    "#     #reading total data df\n",
    "#     df_pos = pd.read_csv('data/train.csv')\n",
    "#     df_neg = pd.DataFrame(list(missing_edges), columns=['source_node', 'destination_node'])\n",
    "    \n",
    "#     print(\"Number of nodes in the graph with edges\", df_pos.shape[0])\n",
    "#     print(\"Number of nodes in the graph without edges\", df_neg.shape[0])\n",
    "    \n",
    "#     #Trian test split \n",
    "#     #Spiltted data into 80-20 \n",
    "#     #positive links and negative links seperatly because we need positive training data only for creating graph \n",
    "#     #and for feature generation\n",
    "#     X_train_pos, X_test_pos, y_train_pos, y_test_pos  = train_test_split(df_pos,np.ones(len(df_pos)),test_size=0.2, random_state=9)\n",
    "#     X_train_neg, X_test_neg, y_train_neg, y_test_neg  = train_test_split(df_neg,np.zeros(len(df_neg)),test_size=0.2, random_state=9)\n",
    "    \n",
    "#     print('='*60)\n",
    "#     print(\"Number of nodes in the train data graph with edges\", X_train_pos.shape[0],\"=\",y_train_pos.shape[0])\n",
    "#     print(\"Number of nodes in the train data graph without edges\", X_train_neg.shape[0],\"=\", y_train_neg.shape[0])\n",
    "#     print('='*60)\n",
    "#     print(\"Number of nodes in the test data graph with edges\", X_test_pos.shape[0],\"=\",y_test_pos.shape[0])\n",
    "#     print(\"Number of nodes in the test data graph without edges\", X_test_neg.shape[0],\"=\",y_test_neg.shape[0])\n",
    "\n",
    "#     #removing header and saving\n",
    "#     X_train_pos.to_csv('data/after_eda/train_pos_after_eda.csv',header=False, index=False)\n",
    "#     X_test_pos.to_csv('data/after_eda/test_pos_after_eda.csv',header=False, index=False)\n",
    "#     X_train_neg.to_csv('data/after_eda/train_neg_after_eda.csv',header=False, index=False)\n",
    "#     X_test_neg.to_csv('data/after_eda/test_neg_after_eda.csv',header=False, index=False)\n",
    "# else:\n",
    "#     #Graph from Traing data only \n",
    "#     del missing_edges"
   ]
  },
  {
   "cell_type": "markdown",
   "metadata": {
    "colab_type": "text",
    "id": "CGz9PQ2tfqUF"
   },
   "source": [
    "> we have a cold start problem here"
   ]
  },
  {
   "cell_type": "code",
   "execution_count": 36,
   "metadata": {
    "ExecuteTime": {
     "end_time": "2022-04-16T13:29:15.354408Z",
     "start_time": "2022-04-16T13:29:14.434011Z"
    },
    "colab": {},
    "colab_type": "code",
    "id": "0Qcm4p_kfqUH",
    "outputId": "0e60e78b-82c2-4f6e-a3a7-6d090fbd48c7"
   },
   "outputs": [
    {
     "name": "stdout",
     "output_type": "stream",
     "text": [
      "============================================================\n",
      "Number of nodes in the train data graph with edges 20510\n",
      "Number of nodes in the train data graph without edges 989515\n"
     ]
    }
   ],
   "source": [
    "#final train and test data sets\n",
    "if (not os.path.isfile('data/after_eda/train_after_eda.csv')) and \\\n",
    "(not os.path.isfile('data/train_y.csv')) and \\\n",
    "(os.path.isfile('data/after_eda/train_pos_after_eda.csv')) and \\\n",
    "(os.path.isfile('data/after_eda/train_neg_after_eda.csv')):\n",
    "    \n",
    "    X_train_pos = pd.read_csv('data/after_eda/train_pos_after_eda.csv', names=['source_node', 'destination_node'])\n",
    "    X_train_neg = pd.read_csv('data/after_eda/train_neg_after_eda.csv', names=['source_node', 'destination_node'])\n",
    "\n",
    "\n",
    "    print('='*60)\n",
    "    print(\"Number of nodes in the train data graph with edges\", X_train_pos.shape[0])\n",
    "    print(\"Number of nodes in the train data graph without edges\", X_train_neg.shape[0])\n",
    "\n",
    "    X_train = X_train_pos.append(X_train_neg,ignore_index=True)\n",
    "    y_train = np.concatenate((y_train_pos,y_train_neg))\n",
    "\n",
    "    X_train.to_csv('data/after_eda/train_after_eda.csv',header=False,index=False)\n",
    "\n",
    "    pd.DataFrame(y_train.astype(int)).to_csv('data/train_y.csv',header=False,index=False)\n"
   ]
  },
  {
   "cell_type": "code",
   "execution_count": 37,
   "metadata": {
    "ExecuteTime": {
     "end_time": "2022-04-16T13:29:15.357530Z",
     "start_time": "2022-04-16T13:29:15.355293Z"
    },
    "colab": {},
    "colab_type": "code",
    "id": "ABTzRMmtfqUK",
    "outputId": "254a9386-1afc-4679-b3b8-3861ca301156"
   },
   "outputs": [
    {
     "name": "stdout",
     "output_type": "stream",
     "text": [
      "Data points in train data (1010025, 2)\n",
      "Shape of traget variable in train (1010025,)\n"
     ]
    }
   ],
   "source": [
    "print(\"Data points in train data\",X_train.shape)\n",
    "\n",
    "print(\"Shape of traget variable in train\",y_train.shape)\n"
   ]
  },
  {
   "cell_type": "markdown",
   "metadata": {
    "colab_type": "text",
    "id": "Q4gzN_0HgeFA"
   },
   "source": [
    "**Computed and store the data for featurization**"
   ]
  },
  {
   "cell_type": "markdown",
   "metadata": {
    "colab_type": "text",
    "id": "V5UAh4bSgkxo"
   },
   "source": [
    "# Features definition"
   ]
  },
  {
   "cell_type": "code",
   "execution_count": 38,
   "metadata": {
    "ExecuteTime": {
     "end_time": "2022-04-16T13:29:15.363438Z",
     "start_time": "2022-04-16T13:29:15.358510Z"
    },
    "colab": {},
    "colab_type": "code",
    "id": "Q8lS7fVyVFFl"
   },
   "outputs": [],
   "source": [
    "#Importing Libraries\n",
    "# please do go through this python notebook: \n",
    "import warnings\n",
    "warnings.filterwarnings(\"ignore\")\n",
    "\n",
    "import csv\n",
    "import pandas as pd#pandas to create small dataframes \n",
    "import datetime #Convert to unix time\n",
    "import time #Convert to unix time\n",
    "# if numpy is not installed already : pip3 install numpy\n",
    "import numpy as np#Do aritmetic operations on arrays\n",
    "# matplotlib: used to plot graphs\n",
    "import matplotlib\n",
    "import matplotlib.pylab as plt\n",
    "import seaborn as sns#Plots\n",
    "from matplotlib import rcParams#Size of plots  \n",
    "from sklearn.cluster import MiniBatchKMeans, KMeans#Clustering\n",
    "import math\n",
    "import pickle\n",
    "import os\n",
    "# to install xgboost: pip3 install xgboost\n",
    "import xgboost as xgb\n",
    "\n",
    "import warnings\n",
    "import networkx as nx\n",
    "import pdb\n",
    "import pickle\n",
    "from pandas import HDFStore,DataFrame\n",
    "from pandas import read_hdf\n",
    "from scipy.sparse.linalg import svds, eigs\n",
    "import gc\n",
    "from tqdm import tqdm"
   ]
  },
  {
   "cell_type": "markdown",
   "metadata": {
    "colab_type": "text",
    "id": "1znHayNeVFFt"
   },
   "source": [
    "# 1. Reading Data"
   ]
  },
  {
   "cell_type": "code",
   "execution_count": 39,
   "metadata": {
    "ExecuteTime": {
     "end_time": "2022-04-16T13:29:15.395388Z",
     "start_time": "2022-04-16T13:29:15.364165Z"
    },
    "colab": {},
    "colab_type": "code",
    "id": "Uq9HbHwEVFFv",
    "outputId": "b2aa525a-93d3-47c3-8216-416a811bc812"
   },
   "outputs": [
    {
     "name": "stdout",
     "output_type": "stream",
     "text": [
      "DiGraph with 979 nodes and 20510 edges\n"
     ]
    }
   ],
   "source": [
    "if os.path.isfile('data/after_eda/train_pos_after_eda.csv'):\n",
    "    train_graph=nx.read_edgelist('data/after_eda/train_pos_after_eda.csv',delimiter=',',create_using=nx.DiGraph(),nodetype=int)\n",
    "    print(nx.info(train_graph))\n",
    "else:\n",
    "    print(\"please run the FB_EDA.ipynb or download the files from drive\")"
   ]
  },
  {
   "cell_type": "markdown",
   "metadata": {
    "colab_type": "text",
    "id": "HmlUa64tVFF7"
   },
   "source": [
    "# 2. Similarity measures"
   ]
  },
  {
   "cell_type": "markdown",
   "metadata": {
    "colab_type": "text",
    "id": "ivVMUMiWVFF9"
   },
   "source": [
    "## 2.1 Jaccard Distance:\n",
    "http://www.statisticshowto.com/jaccard-index/"
   ]
  },
  {
   "cell_type": "markdown",
   "metadata": {
    "colab_type": "text",
    "id": "NoWCYuRBVFF_"
   },
   "source": [
    "\\begin{equation}\n",
    "j = \\frac{|X\\cap Y|}{|X \\cup Y|} \n",
    "\\end{equation}"
   ]
  },
  {
   "cell_type": "code",
   "execution_count": 40,
   "metadata": {
    "ExecuteTime": {
     "end_time": "2022-04-16T13:29:15.399174Z",
     "start_time": "2022-04-16T13:29:15.396558Z"
    },
    "colab": {},
    "colab_type": "code",
    "id": "Seo4z5SnVFGB"
   },
   "outputs": [],
   "source": [
    "#for followees\n",
    "def jaccard_for_followees(a,b):\n",
    "    try:\n",
    "        if len(set(train_graph.successors(a))) == 0  | len(set(train_graph.successors(b))) == 0:\n",
    "            return 0\n",
    "        sim = (len(set(train_graph.successors(a)).intersection(set(train_graph.successors(b)))))/\\\n",
    "                                    (len(set(train_graph.successors(a)).union(set(train_graph.successors(b)))))\n",
    "    except:\n",
    "        return 0\n",
    "    return sim"
   ]
  },
  {
   "cell_type": "code",
   "execution_count": 41,
   "metadata": {
    "ExecuteTime": {
     "end_time": "2022-04-16T13:29:15.401875Z",
     "start_time": "2022-04-16T13:29:15.400073Z"
    },
    "colab": {},
    "colab_type": "code",
    "id": "Oa9FMlS8VFGF",
    "outputId": "426a6833-1631-4024-c24a-d21ae7686472"
   },
   "outputs": [
    {
     "name": "stdout",
     "output_type": "stream",
     "text": [
      "0.06818181818181818\n"
     ]
    }
   ],
   "source": [
    "#one test case\n",
    "print(jaccard_for_followees(133,568))"
   ]
  },
  {
   "cell_type": "code",
   "execution_count": 42,
   "metadata": {
    "ExecuteTime": {
     "end_time": "2022-04-16T13:29:15.404551Z",
     "start_time": "2022-04-16T13:29:15.402704Z"
    },
    "colab": {},
    "colab_type": "code",
    "id": "Gf8njOv6VFGK",
    "outputId": "8ba07727-a0ab-498e-819f-0d310876191c"
   },
   "outputs": [
    {
     "name": "stdout",
     "output_type": "stream",
     "text": [
      "0.05434782608695652\n"
     ]
    }
   ],
   "source": [
    "#node 1635354 not in graph \n",
    "print(jaccard_for_followees(4,15))"
   ]
  },
  {
   "cell_type": "code",
   "execution_count": 43,
   "metadata": {
    "ExecuteTime": {
     "end_time": "2022-04-16T13:29:15.407839Z",
     "start_time": "2022-04-16T13:29:15.405341Z"
    },
    "colab": {},
    "colab_type": "code",
    "id": "LO-a5ZkKVFGO"
   },
   "outputs": [],
   "source": [
    "#for followers\n",
    "def jaccard_for_followers(a,b):\n",
    "    try:\n",
    "        if len(set(train_graph.predecessors(a))) == 0  | len(set(g.predecessors(b))) == 0:\n",
    "            return 0\n",
    "        sim = (len(set(train_graph.predecessors(a)).intersection(set(train_graph.predecessors(b)))))/\\\n",
    "                                 (len(set(train_graph.predecessors(a)).union(set(train_graph.predecessors(b)))))\n",
    "        return sim\n",
    "    except:\n",
    "        return 0"
   ]
  },
  {
   "cell_type": "code",
   "execution_count": 44,
   "metadata": {
    "ExecuteTime": {
     "end_time": "2022-04-16T13:29:15.410085Z",
     "start_time": "2022-04-16T13:29:15.408474Z"
    },
    "colab": {},
    "colab_type": "code",
    "id": "DlbX2t0jVFGQ",
    "outputId": "7e4b4536-442a-4b0c-ae02-fb442c1955db",
    "scrolled": true
   },
   "outputs": [
    {
     "name": "stdout",
     "output_type": "stream",
     "text": [
      "0.0967741935483871\n"
     ]
    }
   ],
   "source": [
    "print(jaccard_for_followers(133,568))"
   ]
  },
  {
   "cell_type": "code",
   "execution_count": 45,
   "metadata": {
    "ExecuteTime": {
     "end_time": "2022-04-16T13:29:15.412236Z",
     "start_time": "2022-04-16T13:29:15.410691Z"
    },
    "colab": {},
    "colab_type": "code",
    "id": "OgeBW2LMVFGU",
    "outputId": "1e12fabe-d990-4506-bb6b-c86b01d1b0af"
   },
   "outputs": [
    {
     "name": "stdout",
     "output_type": "stream",
     "text": [
      "0.05434782608695652\n"
     ]
    }
   ],
   "source": [
    "#node 1635354 not in graph \n",
    "print(jaccard_for_followees(4,15))"
   ]
  },
  {
   "cell_type": "markdown",
   "metadata": {
    "colab_type": "text",
    "id": "MnH2my2UVFGX"
   },
   "source": [
    "## 2.2 Cosine distance"
   ]
  },
  {
   "cell_type": "markdown",
   "metadata": {
    "colab_type": "text",
    "id": "XNvdBGS2VFGY"
   },
   "source": [
    "\\begin{equation}\n",
    "CosineDistance = \\frac{|X\\cap Y|}{|X|\\cdot|Y|} \n",
    "\\end{equation}"
   ]
  },
  {
   "cell_type": "code",
   "execution_count": 46,
   "metadata": {
    "ExecuteTime": {
     "end_time": "2022-04-16T13:29:15.414965Z",
     "start_time": "2022-04-16T13:29:15.412804Z"
    },
    "colab": {},
    "colab_type": "code",
    "id": "Iznz67EdVFGZ"
   },
   "outputs": [],
   "source": [
    "#for followees\n",
    "def cosine_for_followees(a,b):\n",
    "    try:\n",
    "        if len(set(train_graph.successors(a))) == 0  | len(set(train_graph.successors(b))) == 0:\n",
    "            return 0\n",
    "        sim = (len(set(train_graph.successors(a)).intersection(set(train_graph.successors(b)))))/\\\n",
    "                                    (math.sqrt(len(set(train_graph.successors(a)))*len((set(train_graph.successors(b))))))\n",
    "        return sim\n",
    "    except:\n",
    "        return 0"
   ]
  },
  {
   "cell_type": "code",
   "execution_count": 47,
   "metadata": {
    "ExecuteTime": {
     "end_time": "2022-04-16T13:29:15.417249Z",
     "start_time": "2022-04-16T13:29:15.415531Z"
    },
    "colab": {},
    "colab_type": "code",
    "id": "H55ALjkMVFGc",
    "outputId": "531fceba-60f4-4e6b-97f4-f37733dc468f"
   },
   "outputs": [
    {
     "name": "stdout",
     "output_type": "stream",
     "text": [
      "0.1532428332716391\n"
     ]
    }
   ],
   "source": [
    "print(cosine_for_followees(133,568))"
   ]
  },
  {
   "cell_type": "code",
   "execution_count": 48,
   "metadata": {
    "ExecuteTime": {
     "end_time": "2022-04-16T13:29:15.419712Z",
     "start_time": "2022-04-16T13:29:15.417908Z"
    },
    "colab": {},
    "colab_type": "code",
    "id": "q0RGKgJFVFGf",
    "outputId": "41202fc6-f4aa-4a1d-d8f6-84f960a3fbba"
   },
   "outputs": [
    {
     "name": "stdout",
     "output_type": "stream",
     "text": [
      "0.11637351602893194\n"
     ]
    }
   ],
   "source": [
    "print(cosine_for_followees(4,15))"
   ]
  },
  {
   "cell_type": "code",
   "execution_count": 49,
   "metadata": {
    "ExecuteTime": {
     "end_time": "2022-04-16T13:29:15.422733Z",
     "start_time": "2022-04-16T13:29:15.420441Z"
    },
    "colab": {},
    "colab_type": "code",
    "id": "KJ_yGxA0VFGj"
   },
   "outputs": [],
   "source": [
    "def cosine_for_followers(a,b):\n",
    "    try:\n",
    "        \n",
    "        if len(set(train_graph.predecessors(a))) == 0  | len(set(train_graph.predecessors(b))) == 0:\n",
    "            return 0\n",
    "        sim = (len(set(train_graph.predecessors(a)).intersection(set(train_graph.predecessors(b)))))/\\\n",
    "                                     (math.sqrt(len(set(train_graph.predecessors(a))))*(len(set(train_graph.predecessors(b)))))\n",
    "        return sim\n",
    "    except:\n",
    "        return 0"
   ]
  },
  {
   "cell_type": "code",
   "execution_count": 50,
   "metadata": {
    "ExecuteTime": {
     "end_time": "2022-04-16T13:29:15.425695Z",
     "start_time": "2022-04-16T13:29:15.423715Z"
    },
    "colab": {},
    "colab_type": "code",
    "id": "75QrFJb6VFGm",
    "outputId": "f01e0558-f1e3-465f-ab14-0e4ca764f4aa"
   },
   "outputs": [
    {
     "name": "stdout",
     "output_type": "stream",
     "text": [
      "0.05832118435198043\n"
     ]
    }
   ],
   "source": [
    "print(cosine_for_followers(133,568))"
   ]
  },
  {
   "cell_type": "code",
   "execution_count": 51,
   "metadata": {
    "ExecuteTime": {
     "end_time": "2022-04-16T13:29:15.428530Z",
     "start_time": "2022-04-16T13:29:15.426633Z"
    },
    "colab": {},
    "colab_type": "code",
    "id": "-ut4k_F0VFGq",
    "outputId": "8bc9607a-7262-43e2-9de8-f71d276762fc"
   },
   "outputs": [
    {
     "name": "stdout",
     "output_type": "stream",
     "text": [
      "0.032547227745205964\n"
     ]
    }
   ],
   "source": [
    "print(cosine_for_followers(4,15))"
   ]
  },
  {
   "cell_type": "markdown",
   "metadata": {
    "colab_type": "text",
    "id": "DaIHhWh6VFGv"
   },
   "source": [
    "## 3. Ranking Measures"
   ]
  },
  {
   "cell_type": "markdown",
   "metadata": {
    "colab_type": "text",
    "id": "6nfV1SprVFGx"
   },
   "source": [
    "\n",
    "https://networkx.github.io/documentation/networkx-1.10/reference/generated/networkx.algorithms.link_analysis.pagerank_alg.pagerank.html\n",
    "\n",
    "PageRank computes a ranking of the nodes in the graph G based on the structure of the incoming links.\n",
    "\n",
    "<img src='PageRanks-Example.jpg'/>\n",
    "\n",
    "Mathematical PageRanks for a simple network, expressed as percentages. (Google uses a logarithmic scale.) Page C has a higher PageRank than Page E, even though there are fewer links to C; the one link to C comes from an important page and hence is of high value. If web surfers who start on a random page have an 85% likelihood of choosing a random link from the page they are currently visiting, and a 15% likelihood of jumping to a page chosen at random from the entire web, they will reach Page E 8.1% of the time. <b>(The 15% likelihood of jumping to an arbitrary page corresponds to a damping factor of 85%.) Without damping, all web surfers would eventually end up on Pages A, B, or C, and all other pages would have PageRank zero. In the presence of damping, Page A effectively links to all pages in the web, even though it has no outgoing links of its own.</b>"
   ]
  },
  {
   "cell_type": "markdown",
   "metadata": {
    "colab_type": "text",
    "id": "GkkfYYZ6VFGy"
   },
   "source": [
    "## 3.1 Page Ranking\n",
    "\n",
    "https://en.wikipedia.org/wiki/PageRank\n"
   ]
  },
  {
   "cell_type": "code",
   "execution_count": 52,
   "metadata": {
    "ExecuteTime": {
     "end_time": "2022-04-16T13:29:15.575811Z",
     "start_time": "2022-04-16T13:29:15.429356Z"
    },
    "colab": {},
    "colab_type": "code",
    "id": "AtvqwZ34VFGy"
   },
   "outputs": [],
   "source": [
    "if not os.path.isfile('data/fea_sample/page_rank.p'):\n",
    "    pr = nx.pagerank(train_graph, alpha=0.85)\n",
    "    pickle.dump(pr,open('data/fea_sample/page_rank.p','wb'))\n",
    "else:\n",
    "    pr = pickle.load(open('data/fea_sample/page_rank.p','rb'))"
   ]
  },
  {
   "cell_type": "code",
   "execution_count": 53,
   "metadata": {
    "ExecuteTime": {
     "end_time": "2022-04-16T13:29:15.578929Z",
     "start_time": "2022-04-16T13:29:15.576604Z"
    },
    "colab": {},
    "colab_type": "code",
    "id": "lXGKYYf6VFG2",
    "outputId": "bb3d1b7a-81f9-44ab-dbe7-3214ccd47179"
   },
   "outputs": [
    {
     "name": "stdout",
     "output_type": "stream",
     "text": [
      "min 0.00019041167740907193\n",
      "max 0.009709725642630522\n",
      "mean 0.0010214504596527058\n"
     ]
    }
   ],
   "source": [
    "print('min',pr[min(pr, key=pr.get)])\n",
    "print('max',pr[max(pr, key=pr.get)])\n",
    "print('mean',float(sum(pr.values())) / len(pr))"
   ]
  },
  {
   "cell_type": "code",
   "execution_count": 54,
   "metadata": {
    "ExecuteTime": {
     "end_time": "2022-04-16T13:29:15.581494Z",
     "start_time": "2022-04-16T13:29:15.579646Z"
    },
    "colab": {},
    "colab_type": "code",
    "id": "5xwlah4oVFG4",
    "outputId": "992fdfad-7ff6-4626-c9ee-d9bce220a680"
   },
   "outputs": [
    {
     "name": "stdout",
     "output_type": "stream",
     "text": [
      "0.0010214504596527058\n"
     ]
    }
   ],
   "source": [
    "#for imputing to nodes which are not there in Train data\n",
    "mean_pr = float(sum(pr.values())) / len(pr)\n",
    "print(mean_pr)"
   ]
  },
  {
   "cell_type": "markdown",
   "metadata": {
    "colab_type": "text",
    "id": "HhPbSL1tVFG7"
   },
   "source": [
    "# 4. Other Graph Features"
   ]
  },
  {
   "cell_type": "markdown",
   "metadata": {
    "colab_type": "text",
    "id": "AgsorCl7VFG8"
   },
   "source": [
    "## 4.1 Shortest path:"
   ]
  },
  {
   "cell_type": "markdown",
   "metadata": {
    "colab_type": "text",
    "id": "E7teH2LCVFG9"
   },
   "source": [
    "Getting Shortest path between twoo nodes, if nodes have direct path i.e directly connected then we are removing that edge and calculating path. "
   ]
  },
  {
   "cell_type": "code",
   "execution_count": 55,
   "metadata": {
    "ExecuteTime": {
     "end_time": "2022-04-16T13:29:15.584619Z",
     "start_time": "2022-04-16T13:29:15.582348Z"
    },
    "colab": {},
    "colab_type": "code",
    "id": "RA076ovzVFG9"
   },
   "outputs": [],
   "source": [
    "#if has direct edge then deleting that edge and calculating shortest path\n",
    "def compute_shortest_path_length(a,b):\n",
    "    p=-1\n",
    "    try:\n",
    "        if train_graph.has_edge(a,b):\n",
    "            train_graph.remove_edge(a,b)\n",
    "            p= nx.shortest_path_length(train_graph,source=a,target=b)\n",
    "            train_graph.add_edge(a,b)\n",
    "        else:\n",
    "            p= nx.shortest_path_length(train_graph,source=a,target=b)\n",
    "        return p\n",
    "    except:\n",
    "        return -1"
   ]
  },
  {
   "cell_type": "code",
   "execution_count": 56,
   "metadata": {
    "ExecuteTime": {
     "end_time": "2022-04-16T13:29:15.587673Z",
     "start_time": "2022-04-16T13:29:15.585414Z"
    },
    "colab": {},
    "colab_type": "code",
    "id": "AxnKId11VFG_",
    "outputId": "15ca223a-6a04-4549-d010-54619b472a9e"
   },
   "outputs": [
    {
     "data": {
      "text/plain": [
       "2"
      ]
     },
     "execution_count": 56,
     "metadata": {},
     "output_type": "execute_result"
    }
   ],
   "source": [
    "#testing\n",
    "compute_shortest_path_length(133, 568)"
   ]
  },
  {
   "cell_type": "code",
   "execution_count": 57,
   "metadata": {
    "ExecuteTime": {
     "end_time": "2022-04-16T13:29:15.590447Z",
     "start_time": "2022-04-16T13:29:15.588520Z"
    },
    "colab": {},
    "colab_type": "code",
    "id": "0huWCNtRVFHC",
    "outputId": "6debfa4f-2067-48bc-84b3-ab86e2d9dea6"
   },
   "outputs": [
    {
     "data": {
      "text/plain": [
       "2"
      ]
     },
     "execution_count": 57,
     "metadata": {},
     "output_type": "execute_result"
    }
   ],
   "source": [
    "#testing\n",
    "compute_shortest_path_length(4,165)"
   ]
  },
  {
   "cell_type": "markdown",
   "metadata": {
    "colab_type": "text",
    "id": "baE_95bzVFHF"
   },
   "source": [
    "## 4.2 Checking for same community"
   ]
  },
  {
   "cell_type": "code",
   "execution_count": 58,
   "metadata": {
    "ExecuteTime": {
     "end_time": "2022-04-16T13:29:15.597692Z",
     "start_time": "2022-04-16T13:29:15.591201Z"
    },
    "colab": {},
    "colab_type": "code",
    "id": "15CIQqAbVFHG"
   },
   "outputs": [],
   "source": [
    "#getting weekly connected edges from graph \n",
    "wcc=list(nx.weakly_connected_components(train_graph))\n",
    "def belongs_to_same_wcc(a,b):\n",
    "    index = []\n",
    "    if train_graph.has_edge(b,a):\n",
    "        return 1\n",
    "    if train_graph.has_edge(a,b):\n",
    "            for i in wcc:\n",
    "                if a in i:\n",
    "                    index= i\n",
    "                    break\n",
    "            if (b in index):\n",
    "                train_graph.remove_edge(a,b)\n",
    "                if compute_shortest_path_length(a,b)==-1:\n",
    "                    train_graph.add_edge(a,b)\n",
    "                    return 0\n",
    "                else:\n",
    "                    train_graph.add_edge(a,b)\n",
    "                    return 1\n",
    "            else:\n",
    "                return 0\n",
    "    else:\n",
    "            for i in wcc:\n",
    "                if a in i:\n",
    "                    index= i\n",
    "                    break\n",
    "            if(b in index):\n",
    "                return 1\n",
    "            else:\n",
    "                return 0"
   ]
  },
  {
   "cell_type": "code",
   "execution_count": 59,
   "metadata": {
    "ExecuteTime": {
     "end_time": "2022-04-16T13:29:15.600729Z",
     "start_time": "2022-04-16T13:29:15.598602Z"
    },
    "colab": {},
    "colab_type": "code",
    "id": "fAzOHtCFVFHI",
    "outputId": "2b043a87-b460-42bf-f37e-4c04bbed6586"
   },
   "outputs": [
    {
     "data": {
      "text/plain": [
       "1"
      ]
     },
     "execution_count": 59,
     "metadata": {},
     "output_type": "execute_result"
    }
   ],
   "source": [
    "belongs_to_same_wcc(133, 568)"
   ]
  },
  {
   "cell_type": "code",
   "execution_count": 60,
   "metadata": {
    "ExecuteTime": {
     "end_time": "2022-04-16T13:29:15.603674Z",
     "start_time": "2022-04-16T13:29:15.601586Z"
    },
    "colab": {},
    "colab_type": "code",
    "id": "HMdYpPuGVFHK",
    "outputId": "2005e22c-b60f-48d7-839b-650bf97cae35"
   },
   "outputs": [
    {
     "data": {
      "text/plain": [
       "1"
      ]
     },
     "execution_count": 60,
     "metadata": {},
     "output_type": "execute_result"
    }
   ],
   "source": [
    "belongs_to_same_wcc(4,15)"
   ]
  },
  {
   "cell_type": "markdown",
   "metadata": {
    "colab_type": "text",
    "id": "q74nth0OVFHN"
   },
   "source": [
    "## 4.3 Adamic/Adar Index:\n",
    "Adamic/Adar measures is defined as inverted sum of degrees of common neighbours for given two vertices.\n",
    "$$A(x,y)=\\sum_{u \\in N(x) \\cap N(y)}\\frac{1}{log(|N(u)|)}$$"
   ]
  },
  {
   "cell_type": "code",
   "execution_count": 61,
   "metadata": {
    "ExecuteTime": {
     "end_time": "2022-04-16T13:29:15.606523Z",
     "start_time": "2022-04-16T13:29:15.604379Z"
    },
    "colab": {},
    "colab_type": "code",
    "id": "CeS98LI5VFHO"
   },
   "outputs": [],
   "source": [
    "#adar index\n",
    "def calc_adar_in(a,b):\n",
    "    sum=0\n",
    "    try:\n",
    "        n=list(set(train_graph.successors(a)).intersection(set(train_graph.successors(b))))\n",
    "        if len(n)!=0:\n",
    "            for i in n:\n",
    "                sum=sum+(1/np.log10(len(list(train_graph.predecessors(i)))))\n",
    "            return sum\n",
    "        else:\n",
    "            return 0\n",
    "    except:\n",
    "        return 0"
   ]
  },
  {
   "cell_type": "code",
   "execution_count": 62,
   "metadata": {
    "ExecuteTime": {
     "end_time": "2022-04-16T13:29:15.609361Z",
     "start_time": "2022-04-16T13:29:15.607218Z"
    },
    "colab": {},
    "colab_type": "code",
    "id": "KezFeRmyVFHQ",
    "outputId": "2f9c0e11-02d9-4f28-d67a-65e3d4943e99"
   },
   "outputs": [
    {
     "data": {
      "text/plain": [
       "3.679506945252249"
      ]
     },
     "execution_count": 62,
     "metadata": {},
     "output_type": "execute_result"
    }
   ],
   "source": [
    "calc_adar_in(133,568)"
   ]
  },
  {
   "cell_type": "code",
   "execution_count": 63,
   "metadata": {
    "ExecuteTime": {
     "end_time": "2022-04-16T13:29:15.611905Z",
     "start_time": "2022-04-16T13:29:15.610056Z"
    },
    "colab": {},
    "colab_type": "code",
    "id": "vj_m89bBVFHV",
    "outputId": "68a0a099-2954-402f-c80f-6d436ffa1aba"
   },
   "outputs": [
    {
     "data": {
      "text/plain": [
       "2.565409384279724"
      ]
     },
     "execution_count": 63,
     "metadata": {},
     "output_type": "execute_result"
    }
   ],
   "source": [
    "calc_adar_in(4,15)"
   ]
  },
  {
   "cell_type": "markdown",
   "metadata": {
    "colab_type": "text",
    "id": "pBUudhFAVFHY"
   },
   "source": [
    "## 4.4 Is persion was following back:"
   ]
  },
  {
   "cell_type": "code",
   "execution_count": 64,
   "metadata": {
    "ExecuteTime": {
     "end_time": "2022-04-16T13:29:15.614019Z",
     "start_time": "2022-04-16T13:29:15.612461Z"
    },
    "colab": {},
    "colab_type": "code",
    "id": "j_mwmopLVFHZ"
   },
   "outputs": [],
   "source": [
    "def follows_back(a,b):\n",
    "    if train_graph.has_edge(b,a):\n",
    "        return 1\n",
    "    else:\n",
    "        return 0"
   ]
  },
  {
   "cell_type": "code",
   "execution_count": 65,
   "metadata": {
    "ExecuteTime": {
     "end_time": "2022-04-16T13:29:15.616420Z",
     "start_time": "2022-04-16T13:29:15.614607Z"
    },
    "colab": {},
    "colab_type": "code",
    "id": "LdjUXIfbVFHb",
    "outputId": "ed3d8640-9834-4a95-e712-804292da70e9"
   },
   "outputs": [
    {
     "data": {
      "text/plain": [
       "0"
      ]
     },
     "execution_count": 65,
     "metadata": {},
     "output_type": "execute_result"
    }
   ],
   "source": [
    "follows_back(133,568)"
   ]
  },
  {
   "cell_type": "code",
   "execution_count": 66,
   "metadata": {
    "ExecuteTime": {
     "end_time": "2022-04-16T13:29:15.618735Z",
     "start_time": "2022-04-16T13:29:15.616989Z"
    },
    "colab": {},
    "colab_type": "code",
    "id": "PmZtL65YVFHf",
    "outputId": "18ea6fe2-3f96-42c0-d116-ecb76ddba4b5"
   },
   "outputs": [
    {
     "data": {
      "text/plain": [
       "0"
      ]
     },
     "execution_count": 66,
     "metadata": {},
     "output_type": "execute_result"
    }
   ],
   "source": [
    "follows_back(4,15)"
   ]
  },
  {
   "cell_type": "markdown",
   "metadata": {
    "colab_type": "text",
    "id": "29Vrq2EXVFHi"
   },
   "source": [
    "## 4.5 Katz Centrality:\n",
    "https://en.wikipedia.org/wiki/Katz_centrality\n",
    "\n",
    "https://www.geeksforgeeks.org/katz-centrality-centrality-measure/\n",
    " Katz centrality computes the centrality for a node \n",
    "    based on the centrality of its neighbors. It is a \n",
    "    generalization of the eigenvector centrality. The\n",
    "    Katz centrality for node `i` is\n",
    " \n",
    "$$x_i = \\alpha \\sum_{j} A_{ij} x_j + \\beta,$$\n",
    "where `A` is the adjacency matrix of the graph G \n",
    "with eigenvalues $$\\lambda$$.\n",
    "\n",
    "The parameter $$\\beta$$ controls the initial centrality and \n",
    "\n",
    "$$\\alpha < \\frac{1}{\\lambda_{max}}.$$"
   ]
  },
  {
   "cell_type": "code",
   "execution_count": 67,
   "metadata": {
    "ExecuteTime": {
     "end_time": "2022-04-16T13:29:15.790264Z",
     "start_time": "2022-04-16T13:29:15.619321Z"
    },
    "colab": {},
    "colab_type": "code",
    "id": "CN5OSqrkVFHj"
   },
   "outputs": [],
   "source": [
    "if not os.path.isfile('data/fea_sample/katz.p'):\n",
    "    katz = nx.katz.katz_centrality(train_graph,alpha=0.005,beta=1)\n",
    "    pickle.dump(katz,open('data/fea_sample/katz.p','wb'))\n",
    "else:\n",
    "    katz = pickle.load(open('data/fea_sample/katz.p','rb'))"
   ]
  },
  {
   "cell_type": "code",
   "execution_count": 68,
   "metadata": {
    "ExecuteTime": {
     "end_time": "2022-04-16T13:29:15.793511Z",
     "start_time": "2022-04-16T13:29:15.791076Z"
    },
    "colab": {},
    "colab_type": "code",
    "id": "gcU83vw7VFHm",
    "outputId": "05f49ad4-46fe-4cf6-f32a-2fe4846b0714"
   },
   "outputs": [
    {
     "name": "stdout",
     "output_type": "stream",
     "text": [
      "min 0.02785129630486208\n",
      "max 0.05815924984588362\n",
      "mean 0.03168639268836881\n"
     ]
    }
   ],
   "source": [
    "print('min',katz[min(katz, key=katz.get)])\n",
    "print('max',katz[max(katz, key=katz.get)])\n",
    "print('mean',float(sum(katz.values())) / len(katz))"
   ]
  },
  {
   "cell_type": "code",
   "execution_count": 69,
   "metadata": {
    "ExecuteTime": {
     "end_time": "2022-04-16T13:29:15.796185Z",
     "start_time": "2022-04-16T13:29:15.794339Z"
    },
    "colab": {},
    "colab_type": "code",
    "id": "qcboIksiVFHt",
    "outputId": "99f52422-9edb-479a-d5d9-e33401160da7"
   },
   "outputs": [
    {
     "name": "stdout",
     "output_type": "stream",
     "text": [
      "0.03168639268836881\n"
     ]
    }
   ],
   "source": [
    "mean_katz = float(sum(katz.values())) / len(katz)\n",
    "print(mean_katz)"
   ]
  },
  {
   "cell_type": "markdown",
   "metadata": {
    "colab_type": "text",
    "id": "SRZqGFgYVFHx"
   },
   "source": [
    "## 4.6 Hits Score\n",
    "The HITS algorithm computes two numbers for a node. Authorities estimates the node value based on the incoming links. Hubs estimates the node value based on outgoing links.\n",
    "\n",
    "https://en.wikipedia.org/wiki/HITS_algorithm"
   ]
  },
  {
   "cell_type": "code",
   "execution_count": 70,
   "metadata": {
    "ExecuteTime": {
     "end_time": "2022-04-16T13:29:15.815640Z",
     "start_time": "2022-04-16T13:29:15.796899Z"
    },
    "colab": {},
    "colab_type": "code",
    "id": "WXNHRdzUVFHz"
   },
   "outputs": [],
   "source": [
    "if not os.path.isfile('data/fea_sample/hits.p'):\n",
    "    hits = nx.hits(train_graph, max_iter=100, tol=1e-08, nstart=None, normalized=True)\n",
    "    pickle.dump(hits,open('data/fea_sample/hits.p','wb'))\n",
    "else:\n",
    "    hits = pickle.load(open('data/fea_sample/hits.p','rb'))"
   ]
  },
  {
   "cell_type": "code",
   "execution_count": 71,
   "metadata": {
    "ExecuteTime": {
     "end_time": "2022-04-16T13:29:15.819292Z",
     "start_time": "2022-04-16T13:29:15.816418Z"
    },
    "colab": {},
    "colab_type": "code",
    "id": "PSUwSZBVVFH3",
    "outputId": "77448253-5409-4229-f0be-b8dbc14d7f46"
   },
   "outputs": [
    {
     "name": "stdout",
     "output_type": "stream",
     "text": [
      "min -1.4168426530483637e-22\n",
      "max 0.01116513985363919\n",
      "mean 0.0010214504596527067\n"
     ]
    }
   ],
   "source": [
    "print('min',hits[0][min(hits[0], key=hits[0].get)])\n",
    "print('max',hits[0][max(hits[0], key=hits[0].get)])\n",
    "print('mean',float(sum(hits[0].values())) / len(hits[0]))"
   ]
  },
  {
   "cell_type": "markdown",
   "metadata": {
    "colab_type": "text",
    "id": "ZZtowOLZVFH6"
   },
   "source": [
    "# 5. Featurization"
   ]
  },
  {
   "cell_type": "markdown",
   "metadata": {
    "colab_type": "text",
    "id": "o6NnRWmLVFH6"
   },
   "source": [
    "## 5. 1 Reading a sample of Data from both train and test"
   ]
  },
  {
   "cell_type": "code",
   "execution_count": 72,
   "metadata": {
    "ExecuteTime": {
     "end_time": "2022-04-16T13:29:15.821568Z",
     "start_time": "2022-04-16T13:29:15.820291Z"
    }
   },
   "outputs": [],
   "source": [
    "# Data points in train data (7566380, 2)\n",
    "# Data points in test data (1891596, 2)"
   ]
  },
  {
   "cell_type": "code",
   "execution_count": 73,
   "metadata": {
    "ExecuteTime": {
     "end_time": "2022-04-16T13:29:15.868485Z",
     "start_time": "2022-04-16T13:29:15.822407Z"
    },
    "colab": {},
    "colab_type": "code",
    "id": "wgHje1UVVFH8"
   },
   "outputs": [
    {
     "name": "stdout",
     "output_type": "stream",
     "text": [
      "1010025\n",
      "0\n"
     ]
    }
   ],
   "source": [
    "import random\n",
    "if os.path.isfile('data/after_eda/train_after_eda.csv'):\n",
    "    filename = \"data/after_eda/train_after_eda.csv\"\n",
    "    # you uncomment this line, if you dont know the lentgh of the file name\n",
    "    # here we have hardcoded the number of lines as 15100030\n",
    "    n_train = sum(1 for line in open(filename)) #number of records in file (excludes header)\n",
    "#     n_train =  15100028\n",
    "#     s = 100000 #desired sample size\n",
    "#     s = 50000\n",
    "#     skip_train = sorted(random.sample(range(1,n_train+1),n_train-s))\n",
    "    skip_train=[]\n",
    "    #https://stackoverflow.com/a/22259008/4084039\n",
    "print(n_train)\n",
    "print(len(skip_train))\n"
   ]
  },
  {
   "cell_type": "code",
   "execution_count": 74,
   "metadata": {
    "ExecuteTime": {
     "end_time": "2022-04-16T13:29:15.870732Z",
     "start_time": "2022-04-16T13:29:15.869247Z"
    },
    "colab": {},
    "colab_type": "code",
    "id": "zOzuRFFlVFH-"
   },
   "outputs": [],
   "source": [
    "# if os.path.isfile('data/after_eda/test_after_eda.csv'):\n",
    "#     filename = \"data/after_eda/test_after_eda.csv\"\n",
    "#     # you uncomment this line, if you dont know the lentgh of the file name\n",
    "#     # here we have hardcoded the number of lines as 3775008\n",
    "#     n_test = sum(1 for line in open(filename)) #number of records in file (excludes header)\n",
    "# #     n_test = 3775006\n",
    "# #     s = 50000 #desired sample size\n",
    "#     s = 25000\n",
    "#     skip_test = sorted(random.sample(range(1,n_test+1),n_test-s))\n",
    "#     #https://stackoverflow.com/a/22259008/4084039"
   ]
  },
  {
   "cell_type": "code",
   "execution_count": 75,
   "metadata": {
    "ExecuteTime": {
     "end_time": "2022-04-16T13:29:15.873132Z",
     "start_time": "2022-04-16T13:29:15.871354Z"
    },
    "colab": {},
    "colab_type": "code",
    "id": "3D_SeUCOVFH_",
    "outputId": "322902a4-0420-4b99-8606-5fd0de4bbea4"
   },
   "outputs": [
    {
     "name": "stdout",
     "output_type": "stream",
     "text": [
      "Number of rows in the train data file: 1010025\n",
      "Number of rows we are going to elimiate in train data are 0\n"
     ]
    }
   ],
   "source": [
    "print(\"Number of rows in the train data file:\", n_train)\n",
    "print(\"Number of rows we are going to elimiate in train data are\",len(skip_train))\n"
   ]
  },
  {
   "cell_type": "code",
   "execution_count": 76,
   "metadata": {
    "ExecuteTime": {
     "end_time": "2022-04-16T13:29:15.951483Z",
     "start_time": "2022-04-16T13:29:15.873761Z"
    },
    "colab": {},
    "colab_type": "code",
    "id": "pCisf6PpVFID",
    "outputId": "daf2af43-3f98-4466-ad99-03bc54464714"
   },
   "outputs": [
    {
     "name": "stdout",
     "output_type": "stream",
     "text": [
      "Our train matrix size  (1010025, 3)\n"
     ]
    },
    {
     "data": {
      "text/html": [
       "<div>\n",
       "<style scoped>\n",
       "    .dataframe tbody tr th:only-of-type {\n",
       "        vertical-align: middle;\n",
       "    }\n",
       "\n",
       "    .dataframe tbody tr th {\n",
       "        vertical-align: top;\n",
       "    }\n",
       "\n",
       "    .dataframe thead th {\n",
       "        text-align: right;\n",
       "    }\n",
       "</style>\n",
       "<table border=\"1\" class=\"dataframe\">\n",
       "  <thead>\n",
       "    <tr style=\"text-align: right;\">\n",
       "      <th></th>\n",
       "      <th>source_node</th>\n",
       "      <th>destination_node</th>\n",
       "      <th>indicator_link</th>\n",
       "    </tr>\n",
       "  </thead>\n",
       "  <tbody>\n",
       "    <tr>\n",
       "      <th>0</th>\n",
       "      <td>287</td>\n",
       "      <td>68</td>\n",
       "      <td>1</td>\n",
       "    </tr>\n",
       "    <tr>\n",
       "      <th>1</th>\n",
       "      <td>63</td>\n",
       "      <td>552</td>\n",
       "      <td>1</td>\n",
       "    </tr>\n",
       "  </tbody>\n",
       "</table>\n",
       "</div>"
      ],
      "text/plain": [
       "   source_node  destination_node  indicator_link\n",
       "0          287                68               1\n",
       "1           63               552               1"
      ]
     },
     "execution_count": 76,
     "metadata": {},
     "output_type": "execute_result"
    }
   ],
   "source": [
    "df_final_train = pd.read_csv('data/after_eda/train_after_eda.csv', skiprows=skip_train, names=['source_node', 'destination_node'])\n",
    "df_final_train['indicator_link'] = pd.read_csv('data/train_y.csv', skiprows=skip_train, names=['indicator_link'])\n",
    "print(\"Our train matrix size \",df_final_train.shape)\n",
    "df_final_train.head(2)\n"
   ]
  },
  {
   "cell_type": "code",
   "execution_count": 77,
   "metadata": {
    "ExecuteTime": {
     "end_time": "2022-04-16T13:29:15.953726Z",
     "start_time": "2022-04-16T13:29:15.952226Z"
    },
    "colab": {},
    "colab_type": "code",
    "id": "tFn1RkdyVFIH",
    "outputId": "1ca99e70-6d2a-45f2-f51c-fd3b1211ad20"
   },
   "outputs": [],
   "source": [
    "# df_final_test = pd.read_csv('data/after_eda/test_after_eda.csv', skiprows=skip_test, names=['source_node', 'destination_node'])\n",
    "# df_final_test['indicator_link'] = pd.read_csv('data/test_y.csv', skiprows=skip_test, names=['indicator_link'])\n",
    "# print(\"Our test matrix size \",df_final_test.shape)\n",
    "# df_final_test.head(2)"
   ]
  },
  {
   "cell_type": "markdown",
   "metadata": {
    "colab_type": "text",
    "id": "gIaOWDaDVFIJ"
   },
   "source": [
    "## 5.2 Adding a set of features\n",
    "\n",
    "__we will create these each of these features for both train and test data points__\n",
    "<ol>\n",
    "<li>jaccard_followers</li>\n",
    "<li>jaccard_followees</li>\n",
    "<li>cosine_followers</li>\n",
    "<li>cosine_followees</li>\n",
    "<li>num_followers_s</li>\n",
    "<li>num_followees_s</li>\n",
    "<li>num_followers_d</li>\n",
    "<li>num_followees_d</li>\n",
    "<li>inter_followers</li>\n",
    "<li>inter_followees</li>\n",
    "</ol>"
   ]
  },
  {
   "cell_type": "code",
   "execution_count": 78,
   "metadata": {
    "ExecuteTime": {
     "end_time": "2022-04-16T13:30:01.325380Z",
     "start_time": "2022-04-16T13:29:15.954501Z"
    },
    "colab": {},
    "colab_type": "code",
    "id": "2qTkOiBcVFIJ"
   },
   "outputs": [],
   "source": [
    "if not os.path.isfile('data/fea_sample/storage_sample_stage1.h5'):\n",
    "    #mapping jaccrd followers to train and test data\n",
    "    df_final_train['jaccard_followers'] = df_final_train.apply(lambda row:\n",
    "                                            jaccard_for_followers(row['source_node'],row['destination_node']),axis=1)\n",
    "    #mapping jaccrd followees to train and test data\n",
    "    df_final_train['jaccard_followees'] = df_final_train.apply(lambda row:\n",
    "                                            jaccard_for_followees(row['source_node'],row['destination_node']),axis=1)\n",
    "\n",
    "    #mapping jaccrd followers to train and test data\n",
    "    df_final_train['cosine_followers'] = df_final_train.apply(lambda row:\n",
    "                                            cosine_for_followers(row['source_node'],row['destination_node']),axis=1)\n",
    "    #mapping jaccrd followees to train and test data\n",
    "    df_final_train['cosine_followees'] = df_final_train.apply(lambda row:\n",
    "                                            cosine_for_followees(row['source_node'],row['destination_node']),axis=1)"
   ]
  },
  {
   "cell_type": "code",
   "execution_count": 79,
   "metadata": {
    "ExecuteTime": {
     "end_time": "2022-04-16T13:30:01.329857Z",
     "start_time": "2022-04-16T13:30:01.326250Z"
    },
    "colab": {},
    "colab_type": "code",
    "id": "fz2eZpSnVFIL"
   },
   "outputs": [],
   "source": [
    "def compute_features_stage1(df_final):\n",
    "    #calculating no of followers followees for source and destination\n",
    "    #calculating intersection of followers and followees for source and destination\n",
    "    num_followers_s=[]\n",
    "    num_followees_s=[]\n",
    "    num_followers_d=[]\n",
    "    num_followees_d=[]\n",
    "    inter_followers=[]\n",
    "    inter_followees=[]\n",
    "    for i,row in df_final.iterrows():\n",
    "        try:\n",
    "            s1=set(train_graph.predecessors(row['source_node']))\n",
    "            s2=set(train_graph.successors(row['source_node']))\n",
    "        except:\n",
    "            s1 = set()\n",
    "            s2 = set()\n",
    "        try:\n",
    "            d1=set(train_graph.predecessors(row['destination_node']))\n",
    "            d2=set(train_graph.successors(row['destination_node']))\n",
    "        except:\n",
    "            d1 = set()\n",
    "            d2 = set()\n",
    "        num_followers_s.append(len(s1))\n",
    "        num_followees_s.append(len(s2))\n",
    "\n",
    "        num_followers_d.append(len(d1))\n",
    "        num_followees_d.append(len(d2))\n",
    "\n",
    "        inter_followers.append(len(s1.intersection(d1)))\n",
    "        inter_followees.append(len(s2.intersection(d2)))\n",
    "    \n",
    "    return num_followers_s, num_followers_d, num_followees_s, num_followees_d, inter_followers, inter_followees"
   ]
  },
  {
   "cell_type": "code",
   "execution_count": 80,
   "metadata": {
    "ExecuteTime": {
     "end_time": "2022-04-16T13:30:33.104477Z",
     "start_time": "2022-04-16T13:30:01.330966Z"
    },
    "colab": {},
    "colab_type": "code",
    "id": "VFc60kcRVFIN"
   },
   "outputs": [],
   "source": [
    "if not os.path.isfile('data/fea_sample/storage_sample_stage1.h5'):\n",
    "    df_final_train['num_followers_s'], df_final_train['num_followers_d'], \\\n",
    "    df_final_train['num_followees_s'], df_final_train['num_followees_d'], \\\n",
    "    df_final_train['inter_followers'], df_final_train['inter_followees']= compute_features_stage1(df_final_train)\n",
    "   \n",
    "    hdf = HDFStore('data/fea_sample/storage_sample_stage1.h5')\n",
    "    hdf.put('train_df',df_final_train, format='table', data_columns=True)\n",
    "    hdf.close()\n",
    "else:\n",
    "    df_final_train = read_hdf('data/fea_sample/storage_sample_stage1.h5', 'train_df',mode='r')"
   ]
  },
  {
   "cell_type": "markdown",
   "metadata": {
    "colab_type": "text",
    "id": "go_e8hxxVFIO"
   },
   "source": [
    "## 5.3 Adding new set of features\n",
    "\n",
    "__we will create these each of these features for both train and test data points__\n",
    "<ol>\n",
    "<li>adar index</li>\n",
    "<li>is following back</li>\n",
    "<li>belongs to same weakly connect components</li>\n",
    "<li>shortest path between source and destination</li>\n",
    "</ol>"
   ]
  },
  {
   "cell_type": "code",
   "execution_count": 81,
   "metadata": {
    "ExecuteTime": {
     "end_time": "2022-04-16T13:31:16.276378Z",
     "start_time": "2022-04-16T13:30:33.105405Z"
    },
    "colab": {},
    "colab_type": "code",
    "id": "LqB0Peg0VFIP"
   },
   "outputs": [],
   "source": [
    "if not os.path.isfile('data/fea_sample/storage_sample_stage2.h5'):\n",
    "    #mapping adar index on train\n",
    "    df_final_train['adar_index'] = df_final_train.apply(lambda row: calc_adar_in(row['source_node'],row['destination_node']),axis=1)\n",
    "\n",
    "    #--------------------------------------------------------------------------------------------------------\n",
    "    #mapping followback or not on train\n",
    "    df_final_train['follows_back'] = df_final_train.apply(lambda row: follows_back(row['source_node'],row['destination_node']),axis=1)\n",
    "\n",
    "\n",
    "    #--------------------------------------------------------------------------------------------------------\n",
    "    #mapping same component of wcc or not on train\n",
    "    df_final_train['same_comp'] = df_final_train.apply(lambda row: belongs_to_same_wcc(row['source_node'],row['destination_node']),axis=1)\n",
    "    \n",
    "    #--------------------------------------------------------------------------------------------------------\n",
    "    #mapping shortest path on train \n",
    "    df_final_train['shortest_path'] = df_final_train.apply(lambda row: compute_shortest_path_length(row['source_node'],row['destination_node']),axis=1)\n",
    "\n",
    "    hdf = HDFStore('data/fea_sample/storage_sample_stage2.h5')\n",
    "    hdf.put('train_df',df_final_train, format='table', data_columns=True)\n",
    "    hdf.close()\n",
    "else:\n",
    "    df_final_train = read_hdf('data/fea_sample/storage_sample_stage2.h5', 'train_df',mode='r')\n"
   ]
  },
  {
   "cell_type": "markdown",
   "metadata": {
    "colab_type": "text",
    "id": "HJ8Dbma_VFIR"
   },
   "source": [
    "## 5.4 Adding new set of features\n",
    "\n",
    "__we will create these each of these features for both train and test data points__\n",
    "<ol>\n",
    "<li>Weight Features\n",
    "    <ul>\n",
    "        <li>weight of incoming edges</li>\n",
    "        <li>weight of outgoing edges</li>\n",
    "        <li>weight of incoming edges + weight of outgoing edges</li>\n",
    "        <li>weight of incoming edges * weight of outgoing edges</li>\n",
    "        <li>2*weight of incoming edges + weight of outgoing edges</li>\n",
    "        <li>weight of incoming edges + 2*weight of outgoing edges</li>\n",
    "    </ul>\n",
    "</li>\n",
    "<li>Page Ranking of source</li>\n",
    "<li>Page Ranking of dest</li>\n",
    "<li>katz of source</li>\n",
    "<li>katz of dest</li>\n",
    "<li>hubs of source</li>\n",
    "<li>hubs of dest</li>\n",
    "<li>authorities_s of source</li>\n",
    "<li>authorities_s of dest</li>\n",
    "</ol>"
   ]
  },
  {
   "cell_type": "markdown",
   "metadata": {
    "colab_type": "text",
    "id": "iVHI2jtNVFIS"
   },
   "source": [
    "#### Weight Features"
   ]
  },
  {
   "cell_type": "markdown",
   "metadata": {
    "colab_type": "text",
    "id": "rXmUYF9FVFIT"
   },
   "source": [
    "In order to determine the similarity of nodes, an edge weight value was calculated between nodes. Edge weight decreases as the neighbor count goes up. Intuitively, consider one million people following a celebrity on a social network then chances are most of them never met each other or the celebrity. On the other hand, if a user has 30 contacts in his/her social network, the chances are higher that many of them know each other. \n",
    "`credit` - Graph-based Features for Supervised Link Prediction\n",
    "William Cukierski, Benjamin Hamner, Bo Yang"
   ]
  },
  {
   "cell_type": "markdown",
   "metadata": {
    "colab_type": "text",
    "id": "Qzbs2no7VFIV"
   },
   "source": [
    "\\begin{equation}\n",
    "W = \\frac{1}{\\sqrt{1+|X|}}\n",
    "\\end{equation}"
   ]
  },
  {
   "cell_type": "markdown",
   "metadata": {
    "colab_type": "text",
    "id": "kkzUPrWaVFIV"
   },
   "source": [
    "it is directed graph so calculated Weighted in and Weighted out differently"
   ]
  },
  {
   "cell_type": "code",
   "execution_count": 82,
   "metadata": {
    "ExecuteTime": {
     "end_time": "2022-04-16T13:31:16.293024Z",
     "start_time": "2022-04-16T13:31:16.281890Z"
    },
    "colab": {},
    "colab_type": "code",
    "id": "FgNMzzTbVFIW",
    "outputId": "7e8e6d88-8bd6-45f6-f80e-82b093c18974"
   },
   "outputs": [
    {
     "name": "stderr",
     "output_type": "stream",
     "text": [
      "100%|█████████████████████████████████████| 979/979 [00:00<00:00, 151549.13it/s]\n"
     ]
    }
   ],
   "source": [
    "#weight for source and destination of each link\n",
    "Weight_in = {}\n",
    "Weight_out = {}\n",
    "for i in  tqdm(train_graph.nodes()):\n",
    "    s1=set(train_graph.predecessors(i))\n",
    "    w_in = 1.0/(np.sqrt(1+len(s1)))\n",
    "    Weight_in[i]=w_in\n",
    "    \n",
    "    s2=set(train_graph.successors(i))\n",
    "    w_out = 1.0/(np.sqrt(1+len(s2)))\n",
    "    Weight_out[i]=w_out\n",
    "    \n",
    "#for imputing with mean\n",
    "mean_weight_in = np.mean(list(Weight_in.values()))\n",
    "mean_weight_out = np.mean(list(Weight_out.values()))"
   ]
  },
  {
   "cell_type": "code",
   "execution_count": 83,
   "metadata": {
    "ExecuteTime": {
     "end_time": "2022-04-16T13:31:16.638233Z",
     "start_time": "2022-04-16T13:31:16.294252Z"
    },
    "colab": {},
    "colab_type": "code",
    "id": "AF4yPhIOVFIY"
   },
   "outputs": [],
   "source": [
    "if not os.path.isfile('data/fea_sample/storage_sample_stage3.h5'):\n",
    "    #mapping to pandas train\n",
    "    df_final_train['weight_in'] = df_final_train.destination_node.apply(lambda x: Weight_in.get(x,mean_weight_in))\n",
    "    df_final_train['weight_out'] = df_final_train.source_node.apply(lambda x: Weight_out.get(x,mean_weight_out))\n",
    "\n",
    "\n",
    "\n",
    "\n",
    "    #some features engineerings on the in and out weights\n",
    "    df_final_train['weight_f1'] = df_final_train.weight_in + df_final_train.weight_out\n",
    "    df_final_train['weight_f2'] = df_final_train.weight_in * df_final_train.weight_out\n",
    "    df_final_train['weight_f3'] = (2*df_final_train.weight_in + 1*df_final_train.weight_out)\n",
    "    df_final_train['weight_f4'] = (1*df_final_train.weight_in + 2*df_final_train.weight_out)\n",
    "\n"
   ]
  },
  {
   "cell_type": "code",
   "execution_count": 84,
   "metadata": {
    "ExecuteTime": {
     "end_time": "2022-04-16T13:31:26.919243Z",
     "start_time": "2022-04-16T13:31:16.639137Z"
    },
    "colab": {},
    "colab_type": "code",
    "id": "uhxzhQ9aVFIa"
   },
   "outputs": [],
   "source": [
    "if not os.path.isfile('data/fea_sample/storage_sample_stage3.h5'):\n",
    "    \n",
    "    #page rank for source and destination in Train and Test\n",
    "    #if anything not there in train graph then adding mean page rank \n",
    "    df_final_train['page_rank_s'] = df_final_train.source_node.apply(lambda x:pr.get(x,mean_pr))\n",
    "    df_final_train['page_rank_d'] = df_final_train.destination_node.apply(lambda x:pr.get(x,mean_pr))\n",
    "\n",
    "    #================================================================================\n",
    "\n",
    "    #Katz centrality score for source and destination in Train and test\n",
    "    #if anything not there in train graph then adding mean katz score\n",
    "    df_final_train['katz_s'] = df_final_train.source_node.apply(lambda x: katz.get(x,mean_katz))\n",
    "    df_final_train['katz_d'] = df_final_train.destination_node.apply(lambda x: katz.get(x,mean_katz))\n",
    "\n",
    "    #================================================================================\n",
    "\n",
    "    #Hits algorithm score for source and destination in Train and test\n",
    "    #if anything not there in train graph then adding 0\n",
    "    df_final_train['hubs_s'] = df_final_train.source_node.apply(lambda x: hits[0].get(x,0))\n",
    "    df_final_train['hubs_d'] = df_final_train.destination_node.apply(lambda x: hits[0].get(x,0))\n",
    "\n",
    "    #================================================================================\n",
    "\n",
    "    #Hits algorithm score for source and destination in Train and Test\n",
    "    #if anything not there in train graph then adding 0\n",
    "    df_final_train['authorities_s'] = df_final_train.source_node.apply(lambda x: hits[1].get(x,0))\n",
    "    df_final_train['authorities_d'] = df_final_train.destination_node.apply(lambda x: hits[1].get(x,0))\n",
    "\n",
    "    #================================================================================\n",
    "\n",
    "    hdf = HDFStore('data/fea_sample/storage_sample_stage3.h5')\n",
    "    hdf.put('train_df',df_final_train, format='table', data_columns=True)\n",
    "\n",
    "    hdf.close()\n",
    "else:\n",
    "    df_final_train = read_hdf('data/fea_sample/storage_sample_stage3.h5', 'train_df',mode='r')\n"
   ]
  },
  {
   "cell_type": "markdown",
   "metadata": {
    "colab_type": "text",
    "id": "p6xkDfD-VFIb"
   },
   "source": [
    "\n",
    "\n",
    "## 5.5 Adding new set of features\n",
    "\n",
    "__we will create these each of these features for both train and test data points__\n",
    "<ol>\n",
    "<li>SVD features for both source and destination</li>\n",
    "</ol>"
   ]
  },
  {
   "cell_type": "code",
   "execution_count": 85,
   "metadata": {
    "ExecuteTime": {
     "end_time": "2022-04-16T13:31:26.922068Z",
     "start_time": "2022-04-16T13:31:26.920146Z"
    },
    "colab": {},
    "colab_type": "code",
    "id": "WQO6E65eVFIc"
   },
   "outputs": [],
   "source": [
    "def svd(x, S):\n",
    "    try:\n",
    "        z = sadj_dict[x]\n",
    "        return S[z]\n",
    "    except:\n",
    "        return [0,0,0,0,0,0]"
   ]
  },
  {
   "cell_type": "code",
   "execution_count": 86,
   "metadata": {
    "ExecuteTime": {
     "end_time": "2022-04-16T13:31:26.925520Z",
     "start_time": "2022-04-16T13:31:26.922908Z"
    },
    "colab": {},
    "colab_type": "code",
    "id": "9sOyLwvNVFId"
   },
   "outputs": [],
   "source": [
    "#for svd features to get feature vector creating a dict node val and inedx in svd vector\n",
    "sadj_col = sorted(train_graph.nodes())\n",
    "sadj_dict = { val:idx for idx,val in enumerate(sadj_col)}"
   ]
  },
  {
   "cell_type": "code",
   "execution_count": 87,
   "metadata": {
    "ExecuteTime": {
     "end_time": "2022-04-16T13:31:26.944715Z",
     "start_time": "2022-04-16T13:31:26.926312Z"
    },
    "colab": {},
    "colab_type": "code",
    "id": "zLSt8fGVVFIg"
   },
   "outputs": [],
   "source": [
    "Adj = nx.adjacency_matrix(train_graph,nodelist=sorted(train_graph.nodes())).asfptype()"
   ]
  },
  {
   "cell_type": "code",
   "execution_count": 88,
   "metadata": {
    "ExecuteTime": {
     "end_time": "2022-04-16T13:31:26.951983Z",
     "start_time": "2022-04-16T13:31:26.945433Z"
    },
    "colab": {},
    "colab_type": "code",
    "id": "soq-VAHlVFIh",
    "outputId": "3f9bfb32-004f-4698-e415-469243250130"
   },
   "outputs": [
    {
     "name": "stdout",
     "output_type": "stream",
     "text": [
      "Adjacency matrix Shape (979, 979)\n",
      "U Shape (979, 6)\n",
      "V Shape (6, 979)\n",
      "s Shape (6,)\n"
     ]
    }
   ],
   "source": [
    "U, s, V = svds(Adj, k = 6)\n",
    "print('Adjacency matrix Shape',Adj.shape)\n",
    "print('U Shape',U.shape)\n",
    "print('V Shape',V.shape)\n",
    "print('s Shape',s.shape)"
   ]
  },
  {
   "cell_type": "code",
   "execution_count": 89,
   "metadata": {
    "ExecuteTime": {
     "end_time": "2022-04-16T13:34:53.203000Z",
     "start_time": "2022-04-16T13:31:26.952651Z"
    },
    "colab": {},
    "colab_type": "code",
    "id": "ls5fqLFhVFIm"
   },
   "outputs": [],
   "source": [
    "if not os.path.isfile('data/fea_sample/storage_sample_stage4.h5'):\n",
    "    #===================================================================================================\n",
    "    \n",
    "    df_final_train[['svd_u_s_1', 'svd_u_s_2','svd_u_s_3', 'svd_u_s_4', 'svd_u_s_5', 'svd_u_s_6']] = \\\n",
    "    df_final_train.source_node.apply(lambda x: svd(x, U)).apply(pd.Series)\n",
    "    \n",
    "    df_final_train[['svd_u_d_1', 'svd_u_d_2', 'svd_u_d_3', 'svd_u_d_4', 'svd_u_d_5','svd_u_d_6']] = \\\n",
    "    df_final_train.destination_node.apply(lambda x: svd(x, U)).apply(pd.Series)\n",
    "    #===================================================================================================\n",
    "    \n",
    "    df_final_train[['svd_v_s_1','svd_v_s_2', 'svd_v_s_3', 'svd_v_s_4', 'svd_v_s_5', 'svd_v_s_6',]] = \\\n",
    "    df_final_train.source_node.apply(lambda x: svd(x, V.T)).apply(pd.Series)\n",
    "\n",
    "    df_final_train[['svd_v_d_1', 'svd_v_d_2', 'svd_v_d_3', 'svd_v_d_4', 'svd_v_d_5','svd_v_d_6']] = \\\n",
    "    df_final_train.destination_node.apply(lambda x: svd(x, V.T)).apply(pd.Series)\n",
    " \n",
    " \n",
    "    hdf = HDFStore('data/fea_sample/storage_sample_stage4.h5')\n",
    "    hdf.put('train_df',df_final_train, format='table', data_columns=True)\n",
    "    hdf.close()"
   ]
  },
  {
   "cell_type": "markdown",
   "metadata": {
    "colab_type": "text",
    "id": "DAIOlLPyiAmY"
   },
   "source": [
    "**Store the data as final for machine learning models**"
   ]
  },
  {
   "cell_type": "code",
   "execution_count": 90,
   "metadata": {
    "ExecuteTime": {
     "end_time": "2022-04-16T13:34:53.997781Z",
     "start_time": "2022-04-16T13:34:53.203938Z"
    },
    "colab": {},
    "colab_type": "code",
    "id": "XC4OJFKkHglU"
   },
   "outputs": [],
   "source": [
    "#reading\n",
    "from pandas import read_hdf\n",
    "df_final_train = read_hdf('data/fea_sample/storage_sample_stage4.h5', 'train_df',mode='r')\n"
   ]
  },
  {
   "cell_type": "code",
   "execution_count": 91,
   "metadata": {
    "ExecuteTime": {
     "end_time": "2022-04-16T13:34:54.375959Z",
     "start_time": "2022-04-16T13:34:53.999019Z"
    }
   },
   "outputs": [
    {
     "name": "stdout",
     "output_type": "stream",
     "text": [
      "1010025\n",
      "1010025\n"
     ]
    }
   ],
   "source": [
    "# df_final_train.isnull().any()\n",
    "# df_final_train.to_numpy().isfinite()\n",
    "# print(len(df_final_train))\n",
    "# print(len(df_final_train[np.isfinite(df_final_train).all(1)]))\n",
    "# df_final_train['test']=df_final_test\n",
    "# df_final_train[np.isfinite(df_final_train).all(1)]\n",
    "# df_final_test=df_final_train['test']\n",
    "# df_final_train.drop(columns=['test'],inplace=True)\n",
    "# print(len(df_final_train))\n",
    "# df_final_train=df_final_train[np.isfinite(df_final_train).all(1)]\n",
    "print(len(df_final_train))\n",
    "df_final_train=df_final_train.replace([np.inf,-np.inf],np.nan)\n",
    "df_final_train=df_final_train.fillna(0)\n",
    "\n",
    "\n",
    "# fliter = (df_final_train['adar_index'] == np.inf)\n",
    "# df_final_train[fliter]['adar_index']\n",
    "# np.isinf(df_final_train).any()\n",
    "\n",
    "print(len(df_final_train))\n",
    "# filter1=(df_final_train['source_node']==133)\n",
    "# filter2=(df_final_train['destination_node']==568)\n",
    "# t=df_final_train[filter1]\n",
    "# t[filter2]"
   ]
  },
  {
   "cell_type": "code",
   "execution_count": 92,
   "metadata": {
    "ExecuteTime": {
     "end_time": "2022-04-16T13:34:54.381890Z",
     "start_time": "2022-04-16T13:34:54.376824Z"
    }
   },
   "outputs": [
    {
     "data": {
      "text/html": [
       "<div>\n",
       "<style scoped>\n",
       "    .dataframe tbody tr th:only-of-type {\n",
       "        vertical-align: middle;\n",
       "    }\n",
       "\n",
       "    .dataframe tbody tr th {\n",
       "        vertical-align: top;\n",
       "    }\n",
       "\n",
       "    .dataframe thead th {\n",
       "        text-align: right;\n",
       "    }\n",
       "</style>\n",
       "<table border=\"1\" class=\"dataframe\">\n",
       "  <thead>\n",
       "    <tr style=\"text-align: right;\">\n",
       "      <th></th>\n",
       "      <th>source_node</th>\n",
       "      <th>destination_node</th>\n",
       "    </tr>\n",
       "  </thead>\n",
       "  <tbody>\n",
       "    <tr>\n",
       "      <th>0</th>\n",
       "      <td>828</td>\n",
       "      <td>388</td>\n",
       "    </tr>\n",
       "    <tr>\n",
       "      <th>1</th>\n",
       "      <td>287</td>\n",
       "      <td>312</td>\n",
       "    </tr>\n",
       "    <tr>\n",
       "      <th>2</th>\n",
       "      <td>936</td>\n",
       "      <td>130</td>\n",
       "    </tr>\n",
       "    <tr>\n",
       "      <th>3</th>\n",
       "      <td>802</td>\n",
       "      <td>172</td>\n",
       "    </tr>\n",
       "    <tr>\n",
       "      <th>4</th>\n",
       "      <td>102</td>\n",
       "      <td>411</td>\n",
       "    </tr>\n",
       "    <tr>\n",
       "      <th>...</th>\n",
       "      <td>...</td>\n",
       "      <td>...</td>\n",
       "    </tr>\n",
       "    <tr>\n",
       "      <th>10195</th>\n",
       "      <td>621</td>\n",
       "      <td>772</td>\n",
       "    </tr>\n",
       "    <tr>\n",
       "      <th>10196</th>\n",
       "      <td>81</td>\n",
       "      <td>667</td>\n",
       "    </tr>\n",
       "    <tr>\n",
       "      <th>10197</th>\n",
       "      <td>491</td>\n",
       "      <td>300</td>\n",
       "    </tr>\n",
       "    <tr>\n",
       "      <th>10198</th>\n",
       "      <td>77</td>\n",
       "      <td>574</td>\n",
       "    </tr>\n",
       "    <tr>\n",
       "      <th>10199</th>\n",
       "      <td>916</td>\n",
       "      <td>235</td>\n",
       "    </tr>\n",
       "  </tbody>\n",
       "</table>\n",
       "<p>10200 rows × 2 columns</p>\n",
       "</div>"
      ],
      "text/plain": [
       "       source_node  destination_node\n",
       "0              828               388\n",
       "1              287               312\n",
       "2              936               130\n",
       "3              802               172\n",
       "4              102               411\n",
       "...            ...               ...\n",
       "10195          621               772\n",
       "10196           81               667\n",
       "10197          491               300\n",
       "10198           77               574\n",
       "10199          916               235\n",
       "\n",
       "[10200 rows x 2 columns]"
      ]
     },
     "execution_count": 92,
     "metadata": {},
     "output_type": "execute_result"
    }
   ],
   "source": [
    "predict"
   ]
  },
  {
   "cell_type": "code",
   "execution_count": 93,
   "metadata": {
    "ExecuteTime": {
     "end_time": "2022-04-16T13:34:54.384883Z",
     "start_time": "2022-04-16T13:34:54.382608Z"
    },
    "colab": {},
    "colab_type": "code",
    "id": "k-T85kSmjrpy",
    "outputId": "d2c2294c-113e-4fdb-d3e5-dc167dcf5fbc",
    "scrolled": true
   },
   "outputs": [
    {
     "data": {
      "text/plain": [
       "Index(['source_node', 'destination_node', 'indicator_link',\n",
       "       'jaccard_followers', 'jaccard_followees', 'cosine_followers',\n",
       "       'cosine_followees', 'num_followers_s', 'num_followers_d',\n",
       "       'num_followees_s', 'num_followees_d', 'inter_followers',\n",
       "       'inter_followees', 'adar_index', 'follows_back', 'same_comp',\n",
       "       'shortest_path', 'weight_in', 'weight_out', 'weight_f1', 'weight_f2',\n",
       "       'weight_f3', 'weight_f4', 'page_rank_s', 'page_rank_d', 'katz_s',\n",
       "       'katz_d', 'hubs_s', 'hubs_d', 'authorities_s', 'authorities_d',\n",
       "       'svd_u_s_1', 'svd_u_s_2', 'svd_u_s_3', 'svd_u_s_4', 'svd_u_s_5',\n",
       "       'svd_u_s_6', 'svd_u_d_1', 'svd_u_d_2', 'svd_u_d_3', 'svd_u_d_4',\n",
       "       'svd_u_d_5', 'svd_u_d_6', 'svd_v_s_1', 'svd_v_s_2', 'svd_v_s_3',\n",
       "       'svd_v_s_4', 'svd_v_s_5', 'svd_v_s_6', 'svd_v_d_1', 'svd_v_d_2',\n",
       "       'svd_v_d_3', 'svd_v_d_4', 'svd_v_d_5', 'svd_v_d_6'],\n",
       "      dtype='object')"
      ]
     },
     "execution_count": 93,
     "metadata": {},
     "output_type": "execute_result"
    }
   ],
   "source": [
    "df_final_train.columns"
   ]
  },
  {
   "cell_type": "code",
   "execution_count": 94,
   "metadata": {
    "ExecuteTime": {
     "end_time": "2022-04-16T13:34:54.531821Z",
     "start_time": "2022-04-16T13:34:54.385582Z"
    },
    "colab": {},
    "colab_type": "code",
    "id": "phtTp9NZjrp_",
    "scrolled": true
   },
   "outputs": [
    {
     "data": {
      "text/html": [
       "<div>\n",
       "<style scoped>\n",
       "    .dataframe tbody tr th:only-of-type {\n",
       "        vertical-align: middle;\n",
       "    }\n",
       "\n",
       "    .dataframe tbody tr th {\n",
       "        vertical-align: top;\n",
       "    }\n",
       "\n",
       "    .dataframe thead th {\n",
       "        text-align: right;\n",
       "    }\n",
       "</style>\n",
       "<table border=\"1\" class=\"dataframe\">\n",
       "  <thead>\n",
       "    <tr style=\"text-align: right;\">\n",
       "      <th></th>\n",
       "      <th>source_node</th>\n",
       "      <th>destination_node</th>\n",
       "      <th>indicator_link</th>\n",
       "      <th>jaccard_followers</th>\n",
       "      <th>jaccard_followees</th>\n",
       "      <th>cosine_followers</th>\n",
       "      <th>cosine_followees</th>\n",
       "      <th>num_followers_s</th>\n",
       "      <th>num_followers_d</th>\n",
       "      <th>num_followees_s</th>\n",
       "      <th>...</th>\n",
       "      <th>svd_v_s_3</th>\n",
       "      <th>svd_v_s_4</th>\n",
       "      <th>svd_v_s_5</th>\n",
       "      <th>svd_v_s_6</th>\n",
       "      <th>svd_v_d_1</th>\n",
       "      <th>svd_v_d_2</th>\n",
       "      <th>svd_v_d_3</th>\n",
       "      <th>svd_v_d_4</th>\n",
       "      <th>svd_v_d_5</th>\n",
       "      <th>svd_v_d_6</th>\n",
       "    </tr>\n",
       "  </thead>\n",
       "  <tbody>\n",
       "    <tr>\n",
       "      <th>0</th>\n",
       "      <td>828</td>\n",
       "      <td>388</td>\n",
       "      <td>0</td>\n",
       "      <td>0.000000</td>\n",
       "      <td>0.000000</td>\n",
       "      <td>0.000000</td>\n",
       "      <td>0.000000</td>\n",
       "      <td>11</td>\n",
       "      <td>20</td>\n",
       "      <td>21</td>\n",
       "      <td>...</td>\n",
       "      <td>-0.017071</td>\n",
       "      <td>-0.007851</td>\n",
       "      <td>-0.002537</td>\n",
       "      <td>-0.014283</td>\n",
       "      <td>0.068436</td>\n",
       "      <td>-0.034031</td>\n",
       "      <td>0.070186</td>\n",
       "      <td>-0.049535</td>\n",
       "      <td>0.024220</td>\n",
       "      <td>-0.018102</td>\n",
       "    </tr>\n",
       "    <tr>\n",
       "      <th>1</th>\n",
       "      <td>287</td>\n",
       "      <td>312</td>\n",
       "      <td>0</td>\n",
       "      <td>0.066667</td>\n",
       "      <td>0.000000</td>\n",
       "      <td>0.030376</td>\n",
       "      <td>0.000000</td>\n",
       "      <td>15</td>\n",
       "      <td>17</td>\n",
       "      <td>14</td>\n",
       "      <td>...</td>\n",
       "      <td>-0.015956</td>\n",
       "      <td>-0.011083</td>\n",
       "      <td>0.003441</td>\n",
       "      <td>-0.016589</td>\n",
       "      <td>-0.009434</td>\n",
       "      <td>-0.002457</td>\n",
       "      <td>0.017709</td>\n",
       "      <td>-0.020993</td>\n",
       "      <td>0.014003</td>\n",
       "      <td>-0.019588</td>\n",
       "    </tr>\n",
       "    <tr>\n",
       "      <th>2</th>\n",
       "      <td>936</td>\n",
       "      <td>130</td>\n",
       "      <td>1</td>\n",
       "      <td>0.062500</td>\n",
       "      <td>0.062500</td>\n",
       "      <td>0.030842</td>\n",
       "      <td>0.250000</td>\n",
       "      <td>5</td>\n",
       "      <td>29</td>\n",
       "      <td>16</td>\n",
       "      <td>...</td>\n",
       "      <td>0.004267</td>\n",
       "      <td>-0.002551</td>\n",
       "      <td>0.005078</td>\n",
       "      <td>-0.003021</td>\n",
       "      <td>-0.045124</td>\n",
       "      <td>-0.024787</td>\n",
       "      <td>0.071613</td>\n",
       "      <td>-0.026661</td>\n",
       "      <td>0.029658</td>\n",
       "      <td>-0.024237</td>\n",
       "    </tr>\n",
       "    <tr>\n",
       "      <th>3</th>\n",
       "      <td>802</td>\n",
       "      <td>172</td>\n",
       "      <td>1</td>\n",
       "      <td>0.000000</td>\n",
       "      <td>0.038462</td>\n",
       "      <td>0.000000</td>\n",
       "      <td>0.141421</td>\n",
       "      <td>0</td>\n",
       "      <td>55</td>\n",
       "      <td>4</td>\n",
       "      <td>...</td>\n",
       "      <td>0.000000</td>\n",
       "      <td>0.000000</td>\n",
       "      <td>0.000000</td>\n",
       "      <td>0.000000</td>\n",
       "      <td>-0.032748</td>\n",
       "      <td>-0.019905</td>\n",
       "      <td>0.095733</td>\n",
       "      <td>0.021985</td>\n",
       "      <td>0.075405</td>\n",
       "      <td>-0.059687</td>\n",
       "    </tr>\n",
       "    <tr>\n",
       "      <th>4</th>\n",
       "      <td>102</td>\n",
       "      <td>411</td>\n",
       "      <td>1</td>\n",
       "      <td>0.106061</td>\n",
       "      <td>0.117647</td>\n",
       "      <td>0.032358</td>\n",
       "      <td>0.263158</td>\n",
       "      <td>13</td>\n",
       "      <td>60</td>\n",
       "      <td>19</td>\n",
       "      <td>...</td>\n",
       "      <td>0.011506</td>\n",
       "      <td>0.002319</td>\n",
       "      <td>-0.032145</td>\n",
       "      <td>-0.006823</td>\n",
       "      <td>0.020312</td>\n",
       "      <td>0.019927</td>\n",
       "      <td>0.059115</td>\n",
       "      <td>0.033398</td>\n",
       "      <td>-0.126505</td>\n",
       "      <td>-0.058044</td>\n",
       "    </tr>\n",
       "    <tr>\n",
       "      <th>...</th>\n",
       "      <td>...</td>\n",
       "      <td>...</td>\n",
       "      <td>...</td>\n",
       "      <td>...</td>\n",
       "      <td>...</td>\n",
       "      <td>...</td>\n",
       "      <td>...</td>\n",
       "      <td>...</td>\n",
       "      <td>...</td>\n",
       "      <td>...</td>\n",
       "      <td>...</td>\n",
       "      <td>...</td>\n",
       "      <td>...</td>\n",
       "      <td>...</td>\n",
       "      <td>...</td>\n",
       "      <td>...</td>\n",
       "      <td>...</td>\n",
       "      <td>...</td>\n",
       "      <td>...</td>\n",
       "      <td>...</td>\n",
       "      <td>...</td>\n",
       "    </tr>\n",
       "    <tr>\n",
       "      <th>10195</th>\n",
       "      <td>621</td>\n",
       "      <td>772</td>\n",
       "      <td>0</td>\n",
       "      <td>0.000000</td>\n",
       "      <td>0.000000</td>\n",
       "      <td>0.000000</td>\n",
       "      <td>0.000000</td>\n",
       "      <td>13</td>\n",
       "      <td>0</td>\n",
       "      <td>11</td>\n",
       "      <td>...</td>\n",
       "      <td>0.025186</td>\n",
       "      <td>-0.016004</td>\n",
       "      <td>0.011089</td>\n",
       "      <td>-0.010078</td>\n",
       "      <td>0.000000</td>\n",
       "      <td>0.000000</td>\n",
       "      <td>0.000000</td>\n",
       "      <td>0.000000</td>\n",
       "      <td>0.000000</td>\n",
       "      <td>0.000000</td>\n",
       "    </tr>\n",
       "    <tr>\n",
       "      <th>10196</th>\n",
       "      <td>81</td>\n",
       "      <td>667</td>\n",
       "      <td>1</td>\n",
       "      <td>0.063158</td>\n",
       "      <td>0.090909</td>\n",
       "      <td>0.031944</td>\n",
       "      <td>0.257325</td>\n",
       "      <td>80</td>\n",
       "      <td>21</td>\n",
       "      <td>74</td>\n",
       "      <td>...</td>\n",
       "      <td>-0.049815</td>\n",
       "      <td>-0.014183</td>\n",
       "      <td>-0.018313</td>\n",
       "      <td>-0.103765</td>\n",
       "      <td>-0.007530</td>\n",
       "      <td>-0.008398</td>\n",
       "      <td>-0.021579</td>\n",
       "      <td>-0.014746</td>\n",
       "      <td>0.004424</td>\n",
       "      <td>-0.019442</td>\n",
       "    </tr>\n",
       "    <tr>\n",
       "      <th>10197</th>\n",
       "      <td>491</td>\n",
       "      <td>300</td>\n",
       "      <td>0</td>\n",
       "      <td>0.029412</td>\n",
       "      <td>0.000000</td>\n",
       "      <td>0.014907</td>\n",
       "      <td>0.000000</td>\n",
       "      <td>5</td>\n",
       "      <td>30</td>\n",
       "      <td>15</td>\n",
       "      <td>...</td>\n",
       "      <td>0.014375</td>\n",
       "      <td>-0.001726</td>\n",
       "      <td>0.008844</td>\n",
       "      <td>-0.003710</td>\n",
       "      <td>-0.027841</td>\n",
       "      <td>-0.014932</td>\n",
       "      <td>-0.033209</td>\n",
       "      <td>-0.009266</td>\n",
       "      <td>-0.012248</td>\n",
       "      <td>-0.033404</td>\n",
       "    </tr>\n",
       "    <tr>\n",
       "      <th>10198</th>\n",
       "      <td>77</td>\n",
       "      <td>574</td>\n",
       "      <td>0</td>\n",
       "      <td>0.000000</td>\n",
       "      <td>0.000000</td>\n",
       "      <td>0.000000</td>\n",
       "      <td>0.000000</td>\n",
       "      <td>14</td>\n",
       "      <td>3</td>\n",
       "      <td>13</td>\n",
       "      <td>...</td>\n",
       "      <td>-0.029285</td>\n",
       "      <td>-0.005744</td>\n",
       "      <td>0.006071</td>\n",
       "      <td>-0.027102</td>\n",
       "      <td>-0.009695</td>\n",
       "      <td>0.000183</td>\n",
       "      <td>0.008046</td>\n",
       "      <td>-0.001235</td>\n",
       "      <td>0.005666</td>\n",
       "      <td>-0.002427</td>\n",
       "    </tr>\n",
       "    <tr>\n",
       "      <th>10199</th>\n",
       "      <td>916</td>\n",
       "      <td>235</td>\n",
       "      <td>0</td>\n",
       "      <td>0.000000</td>\n",
       "      <td>0.000000</td>\n",
       "      <td>0.000000</td>\n",
       "      <td>0.000000</td>\n",
       "      <td>1</td>\n",
       "      <td>14</td>\n",
       "      <td>0</td>\n",
       "      <td>...</td>\n",
       "      <td>0.000000</td>\n",
       "      <td>0.000000</td>\n",
       "      <td>0.000000</td>\n",
       "      <td>0.000000</td>\n",
       "      <td>0.014669</td>\n",
       "      <td>0.004882</td>\n",
       "      <td>-0.000443</td>\n",
       "      <td>0.000889</td>\n",
       "      <td>-0.025208</td>\n",
       "      <td>-0.014220</td>\n",
       "    </tr>\n",
       "  </tbody>\n",
       "</table>\n",
       "<p>10200 rows × 55 columns</p>\n",
       "</div>"
      ],
      "text/plain": [
       "       source_node  destination_node  indicator_link  jaccard_followers  \\\n",
       "0              828               388               0           0.000000   \n",
       "1              287               312               0           0.066667   \n",
       "2              936               130               1           0.062500   \n",
       "3              802               172               1           0.000000   \n",
       "4              102               411               1           0.106061   \n",
       "...            ...               ...             ...                ...   \n",
       "10195          621               772               0           0.000000   \n",
       "10196           81               667               1           0.063158   \n",
       "10197          491               300               0           0.029412   \n",
       "10198           77               574               0           0.000000   \n",
       "10199          916               235               0           0.000000   \n",
       "\n",
       "       jaccard_followees  cosine_followers  cosine_followees  num_followers_s  \\\n",
       "0               0.000000          0.000000          0.000000               11   \n",
       "1               0.000000          0.030376          0.000000               15   \n",
       "2               0.062500          0.030842          0.250000                5   \n",
       "3               0.038462          0.000000          0.141421                0   \n",
       "4               0.117647          0.032358          0.263158               13   \n",
       "...                  ...               ...               ...              ...   \n",
       "10195           0.000000          0.000000          0.000000               13   \n",
       "10196           0.090909          0.031944          0.257325               80   \n",
       "10197           0.000000          0.014907          0.000000                5   \n",
       "10198           0.000000          0.000000          0.000000               14   \n",
       "10199           0.000000          0.000000          0.000000                1   \n",
       "\n",
       "       num_followers_d  num_followees_s  ...  svd_v_s_3  svd_v_s_4  svd_v_s_5  \\\n",
       "0                   20               21  ...  -0.017071  -0.007851  -0.002537   \n",
       "1                   17               14  ...  -0.015956  -0.011083   0.003441   \n",
       "2                   29               16  ...   0.004267  -0.002551   0.005078   \n",
       "3                   55                4  ...   0.000000   0.000000   0.000000   \n",
       "4                   60               19  ...   0.011506   0.002319  -0.032145   \n",
       "...                ...              ...  ...        ...        ...        ...   \n",
       "10195                0               11  ...   0.025186  -0.016004   0.011089   \n",
       "10196               21               74  ...  -0.049815  -0.014183  -0.018313   \n",
       "10197               30               15  ...   0.014375  -0.001726   0.008844   \n",
       "10198                3               13  ...  -0.029285  -0.005744   0.006071   \n",
       "10199               14                0  ...   0.000000   0.000000   0.000000   \n",
       "\n",
       "       svd_v_s_6  svd_v_d_1  svd_v_d_2  svd_v_d_3  svd_v_d_4  svd_v_d_5  \\\n",
       "0      -0.014283   0.068436  -0.034031   0.070186  -0.049535   0.024220   \n",
       "1      -0.016589  -0.009434  -0.002457   0.017709  -0.020993   0.014003   \n",
       "2      -0.003021  -0.045124  -0.024787   0.071613  -0.026661   0.029658   \n",
       "3       0.000000  -0.032748  -0.019905   0.095733   0.021985   0.075405   \n",
       "4      -0.006823   0.020312   0.019927   0.059115   0.033398  -0.126505   \n",
       "...          ...        ...        ...        ...        ...        ...   \n",
       "10195  -0.010078   0.000000   0.000000   0.000000   0.000000   0.000000   \n",
       "10196  -0.103765  -0.007530  -0.008398  -0.021579  -0.014746   0.004424   \n",
       "10197  -0.003710  -0.027841  -0.014932  -0.033209  -0.009266  -0.012248   \n",
       "10198  -0.027102  -0.009695   0.000183   0.008046  -0.001235   0.005666   \n",
       "10199   0.000000   0.014669   0.004882  -0.000443   0.000889  -0.025208   \n",
       "\n",
       "       svd_v_d_6  \n",
       "0      -0.018102  \n",
       "1      -0.019588  \n",
       "2      -0.024237  \n",
       "3      -0.059687  \n",
       "4      -0.058044  \n",
       "...          ...  \n",
       "10195   0.000000  \n",
       "10196  -0.019442  \n",
       "10197  -0.033404  \n",
       "10198  -0.002427  \n",
       "10199  -0.014220  \n",
       "\n",
       "[10200 rows x 55 columns]"
      ]
     },
     "execution_count": 94,
     "metadata": {},
     "output_type": "execute_result"
    }
   ],
   "source": [
    "df_final_test=pd.merge(predict,df_final_train,how='inner')\n",
    "df_final_test"
   ]
  },
  {
   "cell_type": "code",
   "execution_count": 95,
   "metadata": {
    "ExecuteTime": {
     "end_time": "2022-04-16T13:35:39.465806Z",
     "start_time": "2022-04-16T13:34:54.532621Z"
    }
   },
   "outputs": [],
   "source": [
    "#去掉train data中的test data(500以後)\n",
    "rm_data=predict[500:].values.tolist()\n",
    "drop_index=[df_final_train[(df_final_train['source_node']==nodepair[0]) & (df_final_train['destination_node']==nodepair[1])].index[0] for nodepair in rm_data]\n",
    "df_final_train.drop(drop_index,inplace=True)"
   ]
  },
  {
   "cell_type": "code",
   "execution_count": 96,
   "metadata": {
    "ExecuteTime": {
     "end_time": "2022-04-16T13:35:40.045003Z",
     "start_time": "2022-04-16T13:35:39.466840Z"
    }
   },
   "outputs": [],
   "source": [
    "#選出確定的neg smaple\n",
    "neg1=pd.merge(predict_500[predict_500['indicator_link']==0],df_final_train,how='inner')\n",
    "neg1\n",
    "\n",
    "#將neg1從原本training data中去除\n",
    "drop_index=[df_final_train[(df_final_train['source_node']==nodepair[0]) & (df_final_train['destination_node']==nodepair[1])].index[0] for i,nodepair in neg1.iterrows()]\n",
    "df_final_train.drop(drop_index,inplace=True)\n",
    "\n",
    "#取出與pos 相同數量的neg\n",
    "neg2=df_final_train[df_final_train['indicator_link']==0].sample(n=20510-len(neg1), random_state=1)\n",
    "neg=pd.concat([neg1, neg2], ignore_index=True)\n",
    "\n"
   ]
  },
  {
   "cell_type": "code",
   "execution_count": 97,
   "metadata": {
    "ExecuteTime": {
     "end_time": "2022-04-16T13:35:40.049604Z",
     "start_time": "2022-04-16T13:35:40.045805Z"
    }
   },
   "outputs": [],
   "source": [
    "pos=df_final_train[df_final_train['indicator_link']==1]"
   ]
  },
  {
   "cell_type": "code",
   "execution_count": 98,
   "metadata": {
    "ExecuteTime": {
     "end_time": "2022-04-16T13:35:40.067238Z",
     "start_time": "2022-04-16T13:35:40.050426Z"
    }
   },
   "outputs": [
    {
     "data": {
      "text/html": [
       "<div>\n",
       "<style scoped>\n",
       "    .dataframe tbody tr th:only-of-type {\n",
       "        vertical-align: middle;\n",
       "    }\n",
       "\n",
       "    .dataframe tbody tr th {\n",
       "        vertical-align: top;\n",
       "    }\n",
       "\n",
       "    .dataframe thead th {\n",
       "        text-align: right;\n",
       "    }\n",
       "</style>\n",
       "<table border=\"1\" class=\"dataframe\">\n",
       "  <thead>\n",
       "    <tr style=\"text-align: right;\">\n",
       "      <th></th>\n",
       "      <th>source_node</th>\n",
       "      <th>destination_node</th>\n",
       "      <th>indicator_link</th>\n",
       "      <th>jaccard_followers</th>\n",
       "      <th>jaccard_followees</th>\n",
       "      <th>cosine_followers</th>\n",
       "      <th>cosine_followees</th>\n",
       "      <th>num_followers_s</th>\n",
       "      <th>num_followers_d</th>\n",
       "      <th>num_followees_s</th>\n",
       "      <th>...</th>\n",
       "      <th>svd_v_s_3</th>\n",
       "      <th>svd_v_s_4</th>\n",
       "      <th>svd_v_s_5</th>\n",
       "      <th>svd_v_s_6</th>\n",
       "      <th>svd_v_d_1</th>\n",
       "      <th>svd_v_d_2</th>\n",
       "      <th>svd_v_d_3</th>\n",
       "      <th>svd_v_d_4</th>\n",
       "      <th>svd_v_d_5</th>\n",
       "      <th>svd_v_d_6</th>\n",
       "    </tr>\n",
       "  </thead>\n",
       "  <tbody>\n",
       "    <tr>\n",
       "      <th>0</th>\n",
       "      <td>287</td>\n",
       "      <td>68</td>\n",
       "      <td>1</td>\n",
       "      <td>0.250000</td>\n",
       "      <td>0.230769</td>\n",
       "      <td>0.073771</td>\n",
       "      <td>0.412514</td>\n",
       "      <td>15</td>\n",
       "      <td>35</td>\n",
       "      <td>14</td>\n",
       "      <td>...</td>\n",
       "      <td>-0.015956</td>\n",
       "      <td>-0.011083</td>\n",
       "      <td>0.003441</td>\n",
       "      <td>-0.016589</td>\n",
       "      <td>-0.059382</td>\n",
       "      <td>-0.018474</td>\n",
       "      <td>-0.054179</td>\n",
       "      <td>-0.023964</td>\n",
       "      <td>0.013804</td>\n",
       "      <td>-0.050633</td>\n",
       "    </tr>\n",
       "    <tr>\n",
       "      <th>1</th>\n",
       "      <td>63</td>\n",
       "      <td>552</td>\n",
       "      <td>1</td>\n",
       "      <td>0.238636</td>\n",
       "      <td>0.125000</td>\n",
       "      <td>0.078756</td>\n",
       "      <td>0.286039</td>\n",
       "      <td>79</td>\n",
       "      <td>30</td>\n",
       "      <td>88</td>\n",
       "      <td>...</td>\n",
       "      <td>0.068871</td>\n",
       "      <td>0.022775</td>\n",
       "      <td>-0.177289</td>\n",
       "      <td>-0.085990</td>\n",
       "      <td>-0.008138</td>\n",
       "      <td>0.003121</td>\n",
       "      <td>0.044962</td>\n",
       "      <td>0.011024</td>\n",
       "      <td>-0.102515</td>\n",
       "      <td>-0.037814</td>\n",
       "    </tr>\n",
       "    <tr>\n",
       "      <th>2</th>\n",
       "      <td>189</td>\n",
       "      <td>20</td>\n",
       "      <td>1</td>\n",
       "      <td>0.151163</td>\n",
       "      <td>0.134328</td>\n",
       "      <td>0.036466</td>\n",
       "      <td>0.243778</td>\n",
       "      <td>47</td>\n",
       "      <td>52</td>\n",
       "      <td>29</td>\n",
       "      <td>...</td>\n",
       "      <td>-0.040380</td>\n",
       "      <td>-0.044494</td>\n",
       "      <td>0.018317</td>\n",
       "      <td>-0.040581</td>\n",
       "      <td>0.000707</td>\n",
       "      <td>-0.001699</td>\n",
       "      <td>-0.060850</td>\n",
       "      <td>-0.032156</td>\n",
       "      <td>0.011341</td>\n",
       "      <td>-0.055203</td>\n",
       "    </tr>\n",
       "    <tr>\n",
       "      <th>3</th>\n",
       "      <td>380</td>\n",
       "      <td>376</td>\n",
       "      <td>1</td>\n",
       "      <td>0.162791</td>\n",
       "      <td>0.234043</td>\n",
       "      <td>0.056000</td>\n",
       "      <td>0.387699</td>\n",
       "      <td>25</td>\n",
       "      <td>25</td>\n",
       "      <td>23</td>\n",
       "      <td>...</td>\n",
       "      <td>0.082830</td>\n",
       "      <td>-0.054219</td>\n",
       "      <td>0.028402</td>\n",
       "      <td>-0.013518</td>\n",
       "      <td>0.067027</td>\n",
       "      <td>-0.035407</td>\n",
       "      <td>0.074903</td>\n",
       "      <td>-0.054456</td>\n",
       "      <td>0.019862</td>\n",
       "      <td>-0.020125</td>\n",
       "    </tr>\n",
       "    <tr>\n",
       "      <th>4</th>\n",
       "      <td>370</td>\n",
       "      <td>443</td>\n",
       "      <td>1</td>\n",
       "      <td>0.136364</td>\n",
       "      <td>0.363636</td>\n",
       "      <td>0.045580</td>\n",
       "      <td>0.538138</td>\n",
       "      <td>12</td>\n",
       "      <td>38</td>\n",
       "      <td>26</td>\n",
       "      <td>...</td>\n",
       "      <td>0.007868</td>\n",
       "      <td>0.045359</td>\n",
       "      <td>0.010909</td>\n",
       "      <td>-0.005415</td>\n",
       "      <td>0.079761</td>\n",
       "      <td>0.015983</td>\n",
       "      <td>0.017178</td>\n",
       "      <td>0.122038</td>\n",
       "      <td>0.047368</td>\n",
       "      <td>-0.031209</td>\n",
       "    </tr>\n",
       "    <tr>\n",
       "      <th>...</th>\n",
       "      <td>...</td>\n",
       "      <td>...</td>\n",
       "      <td>...</td>\n",
       "      <td>...</td>\n",
       "      <td>...</td>\n",
       "      <td>...</td>\n",
       "      <td>...</td>\n",
       "      <td>...</td>\n",
       "      <td>...</td>\n",
       "      <td>...</td>\n",
       "      <td>...</td>\n",
       "      <td>...</td>\n",
       "      <td>...</td>\n",
       "      <td>...</td>\n",
       "      <td>...</td>\n",
       "      <td>...</td>\n",
       "      <td>...</td>\n",
       "      <td>...</td>\n",
       "      <td>...</td>\n",
       "      <td>...</td>\n",
       "      <td>...</td>\n",
       "    </tr>\n",
       "    <tr>\n",
       "      <th>37163</th>\n",
       "      <td>975</td>\n",
       "      <td>838</td>\n",
       "      <td>0</td>\n",
       "      <td>0.000000</td>\n",
       "      <td>0.000000</td>\n",
       "      <td>0.000000</td>\n",
       "      <td>0.000000</td>\n",
       "      <td>0</td>\n",
       "      <td>1</td>\n",
       "      <td>0</td>\n",
       "      <td>...</td>\n",
       "      <td>0.000000</td>\n",
       "      <td>0.000000</td>\n",
       "      <td>0.000000</td>\n",
       "      <td>0.000000</td>\n",
       "      <td>0.000000</td>\n",
       "      <td>0.000000</td>\n",
       "      <td>0.000000</td>\n",
       "      <td>0.000000</td>\n",
       "      <td>0.000000</td>\n",
       "      <td>0.000000</td>\n",
       "    </tr>\n",
       "    <tr>\n",
       "      <th>37164</th>\n",
       "      <td>266</td>\n",
       "      <td>830</td>\n",
       "      <td>0</td>\n",
       "      <td>0.000000</td>\n",
       "      <td>0.000000</td>\n",
       "      <td>0.000000</td>\n",
       "      <td>0.000000</td>\n",
       "      <td>19</td>\n",
       "      <td>0</td>\n",
       "      <td>19</td>\n",
       "      <td>...</td>\n",
       "      <td>0.024727</td>\n",
       "      <td>-0.023617</td>\n",
       "      <td>0.012638</td>\n",
       "      <td>-0.008465</td>\n",
       "      <td>0.000000</td>\n",
       "      <td>0.000000</td>\n",
       "      <td>0.000000</td>\n",
       "      <td>0.000000</td>\n",
       "      <td>0.000000</td>\n",
       "      <td>0.000000</td>\n",
       "    </tr>\n",
       "    <tr>\n",
       "      <th>37165</th>\n",
       "      <td>32</td>\n",
       "      <td>969</td>\n",
       "      <td>0</td>\n",
       "      <td>0.000000</td>\n",
       "      <td>0.000000</td>\n",
       "      <td>0.000000</td>\n",
       "      <td>0.000000</td>\n",
       "      <td>26</td>\n",
       "      <td>1</td>\n",
       "      <td>19</td>\n",
       "      <td>...</td>\n",
       "      <td>0.014593</td>\n",
       "      <td>0.101250</td>\n",
       "      <td>0.037857</td>\n",
       "      <td>-0.019877</td>\n",
       "      <td>0.000000</td>\n",
       "      <td>0.000000</td>\n",
       "      <td>0.000000</td>\n",
       "      <td>0.000000</td>\n",
       "      <td>0.000000</td>\n",
       "      <td>0.000000</td>\n",
       "    </tr>\n",
       "    <tr>\n",
       "      <th>37166</th>\n",
       "      <td>812</td>\n",
       "      <td>912</td>\n",
       "      <td>0</td>\n",
       "      <td>0.000000</td>\n",
       "      <td>0.000000</td>\n",
       "      <td>0.000000</td>\n",
       "      <td>0.000000</td>\n",
       "      <td>38</td>\n",
       "      <td>2</td>\n",
       "      <td>46</td>\n",
       "      <td>...</td>\n",
       "      <td>0.028869</td>\n",
       "      <td>0.008205</td>\n",
       "      <td>-0.103434</td>\n",
       "      <td>-0.040505</td>\n",
       "      <td>-0.001637</td>\n",
       "      <td>0.007238</td>\n",
       "      <td>0.003706</td>\n",
       "      <td>-0.003101</td>\n",
       "      <td>0.002262</td>\n",
       "      <td>-0.000949</td>\n",
       "    </tr>\n",
       "    <tr>\n",
       "      <th>37167</th>\n",
       "      <td>337</td>\n",
       "      <td>599</td>\n",
       "      <td>0</td>\n",
       "      <td>0.000000</td>\n",
       "      <td>0.031250</td>\n",
       "      <td>0.000000</td>\n",
       "      <td>0.074125</td>\n",
       "      <td>29</td>\n",
       "      <td>3</td>\n",
       "      <td>26</td>\n",
       "      <td>...</td>\n",
       "      <td>0.028496</td>\n",
       "      <td>0.083303</td>\n",
       "      <td>0.023973</td>\n",
       "      <td>-0.033118</td>\n",
       "      <td>0.003614</td>\n",
       "      <td>-0.000608</td>\n",
       "      <td>-0.001078</td>\n",
       "      <td>-0.001173</td>\n",
       "      <td>-0.005838</td>\n",
       "      <td>-0.001956</td>\n",
       "    </tr>\n",
       "  </tbody>\n",
       "</table>\n",
       "<p>37168 rows × 55 columns</p>\n",
       "</div>"
      ],
      "text/plain": [
       "       source_node  destination_node  indicator_link  jaccard_followers  \\\n",
       "0              287                68               1           0.250000   \n",
       "1               63               552               1           0.238636   \n",
       "2              189                20               1           0.151163   \n",
       "3              380               376               1           0.162791   \n",
       "4              370               443               1           0.136364   \n",
       "...            ...               ...             ...                ...   \n",
       "37163          975               838               0           0.000000   \n",
       "37164          266               830               0           0.000000   \n",
       "37165           32               969               0           0.000000   \n",
       "37166          812               912               0           0.000000   \n",
       "37167          337               599               0           0.000000   \n",
       "\n",
       "       jaccard_followees  cosine_followers  cosine_followees  num_followers_s  \\\n",
       "0               0.230769          0.073771          0.412514               15   \n",
       "1               0.125000          0.078756          0.286039               79   \n",
       "2               0.134328          0.036466          0.243778               47   \n",
       "3               0.234043          0.056000          0.387699               25   \n",
       "4               0.363636          0.045580          0.538138               12   \n",
       "...                  ...               ...               ...              ...   \n",
       "37163           0.000000          0.000000          0.000000                0   \n",
       "37164           0.000000          0.000000          0.000000               19   \n",
       "37165           0.000000          0.000000          0.000000               26   \n",
       "37166           0.000000          0.000000          0.000000               38   \n",
       "37167           0.031250          0.000000          0.074125               29   \n",
       "\n",
       "       num_followers_d  num_followees_s  ...  svd_v_s_3  svd_v_s_4  svd_v_s_5  \\\n",
       "0                   35               14  ...  -0.015956  -0.011083   0.003441   \n",
       "1                   30               88  ...   0.068871   0.022775  -0.177289   \n",
       "2                   52               29  ...  -0.040380  -0.044494   0.018317   \n",
       "3                   25               23  ...   0.082830  -0.054219   0.028402   \n",
       "4                   38               26  ...   0.007868   0.045359   0.010909   \n",
       "...                ...              ...  ...        ...        ...        ...   \n",
       "37163                1                0  ...   0.000000   0.000000   0.000000   \n",
       "37164                0               19  ...   0.024727  -0.023617   0.012638   \n",
       "37165                1               19  ...   0.014593   0.101250   0.037857   \n",
       "37166                2               46  ...   0.028869   0.008205  -0.103434   \n",
       "37167                3               26  ...   0.028496   0.083303   0.023973   \n",
       "\n",
       "       svd_v_s_6  svd_v_d_1  svd_v_d_2  svd_v_d_3  svd_v_d_4  svd_v_d_5  \\\n",
       "0      -0.016589  -0.059382  -0.018474  -0.054179  -0.023964   0.013804   \n",
       "1      -0.085990  -0.008138   0.003121   0.044962   0.011024  -0.102515   \n",
       "2      -0.040581   0.000707  -0.001699  -0.060850  -0.032156   0.011341   \n",
       "3      -0.013518   0.067027  -0.035407   0.074903  -0.054456   0.019862   \n",
       "4      -0.005415   0.079761   0.015983   0.017178   0.122038   0.047368   \n",
       "...          ...        ...        ...        ...        ...        ...   \n",
       "37163   0.000000   0.000000   0.000000   0.000000   0.000000   0.000000   \n",
       "37164  -0.008465   0.000000   0.000000   0.000000   0.000000   0.000000   \n",
       "37165  -0.019877   0.000000   0.000000   0.000000   0.000000   0.000000   \n",
       "37166  -0.040505  -0.001637   0.007238   0.003706  -0.003101   0.002262   \n",
       "37167  -0.033118   0.003614  -0.000608  -0.001078  -0.001173  -0.005838   \n",
       "\n",
       "       svd_v_d_6  \n",
       "0      -0.050633  \n",
       "1      -0.037814  \n",
       "2      -0.055203  \n",
       "3      -0.020125  \n",
       "4      -0.031209  \n",
       "...          ...  \n",
       "37163   0.000000  \n",
       "37164   0.000000  \n",
       "37165   0.000000  \n",
       "37166  -0.000949  \n",
       "37167  -0.001956  \n",
       "\n",
       "[37168 rows x 55 columns]"
      ]
     },
     "execution_count": 98,
     "metadata": {},
     "output_type": "execute_result"
    }
   ],
   "source": [
    "df_final_train=pd.concat([pos, neg], ignore_index=True)\n",
    "df_final_train"
   ]
  },
  {
   "cell_type": "code",
   "execution_count": 99,
   "metadata": {
    "ExecuteTime": {
     "end_time": "2022-04-16T13:35:40.069833Z",
     "start_time": "2022-04-16T13:35:40.068232Z"
    }
   },
   "outputs": [],
   "source": [
    "y_train=df_final_train.indicator_link"
   ]
  },
  {
   "cell_type": "code",
   "execution_count": 100,
   "metadata": {
    "ExecuteTime": {
     "end_time": "2022-04-16T13:35:40.076791Z",
     "start_time": "2022-04-16T13:35:40.070778Z"
    }
   },
   "outputs": [],
   "source": [
    "# df_final_train.drop(['source_node', 'destination_node','indicator_link'],axis=1,inplace=True)\n",
    "# df_final_test.drop(['source_node', 'destination_node','indicator_link'],axis=1,inplace=True)\n",
    "\n",
    "df_final_train=df_final_train[['cosine_followers','inter_followers','adar_index']]\n",
    "df_final_test=df_final_test[['cosine_followers','inter_followers','adar_index']]\n",
    "\n",
    "# df_final_train=df_final_train[['adar_index']]\n",
    "# df_final_test=df_final_test[['adar_index']]"
   ]
  },
  {
   "cell_type": "code",
   "execution_count": 101,
   "metadata": {
    "ExecuteTime": {
     "end_time": "2022-04-16T13:35:41.623947Z",
     "start_time": "2022-04-16T13:35:40.077763Z"
    },
    "colab": {},
    "colab_type": "code",
    "id": "lIEc91uVHgli",
    "outputId": "31f04b72-ebe5-4b13-ccca-a5ae3bc4f09c"
   },
   "outputs": [
    {
     "name": "stdout",
     "output_type": "stream",
     "text": [
      "Estimators =  10 Train Score 0.9065299387081566\n",
      "Estimators =  50 Train Score 0.9072863285621724\n",
      "Estimators =  100 Train Score 0.9072560417834696\n",
      "Estimators =  250 Train Score 0.9073064340239912\n",
      "Estimators =  450 Train Score 0.9073435335043188\n"
     ]
    },
    {
     "data": {
      "text/plain": [
       "Text(0.5, 1.0, 'Estimators vs score at depth of 5')"
      ]
     },
     "execution_count": 101,
     "metadata": {},
     "output_type": "execute_result"
    },
    {
     "data": {
      "image/png": "[encoded data removed]",
      "text/plain": [
       "<Figure size 432x288 with 1 Axes>"
      ]
     },
     "metadata": {},
     "output_type": "display_data"
    }
   ],
   "source": [
    "from sklearn.metrics import f1_score\n",
    "estimators = [10,50,100,250,450]\n",
    "train_scores = []\n",
    "# test_scores = []\n",
    "for i in estimators:\n",
    "    clf = RandomForestClassifier(bootstrap=True, class_weight=None, criterion='gini',\n",
    "            max_depth=5, max_features='auto', max_leaf_nodes=None,\n",
    "            min_impurity_decrease=0.0,\n",
    "            min_samples_leaf=52, min_samples_split=120,\n",
    "            min_weight_fraction_leaf=0.0, n_estimators=i, n_jobs=-1,random_state=25,verbose=0,warm_start=False)\n",
    "    clf.fit(df_final_train,y_train)\n",
    "    train_sc = f1_score(y_train,clf.predict(df_final_train))\n",
    "#     test_sc = f1_score(y_test,clf.predict(df_final_test))\n",
    "#     test_scores.append(test_sc)\n",
    "    train_scores.append(train_sc)\n",
    "    print('Estimators = ',i,'Train Score',train_sc)\n",
    "plt.plot(estimators,train_scores,label='Train Score')\n",
    "# plt.plot(estimators,test_scores,label='Test Score')\n",
    "plt.xlabel('Estimators')\n",
    "plt.ylabel('Score')\n",
    "plt.title('Estimators vs score at depth of 5')"
   ]
  },
  {
   "cell_type": "code",
   "execution_count": 102,
   "metadata": {
    "ExecuteTime": {
     "end_time": "2022-04-16T13:35:43.958629Z",
     "start_time": "2022-04-16T13:35:41.624665Z"
    },
    "colab": {},
    "colab_type": "code",
    "id": "nZxhrTdQHglm",
    "outputId": "53382b8e-148d-4c22-8066-d9807fb27012"
   },
   "outputs": [
    {
     "name": "stdout",
     "output_type": "stream",
     "text": [
      "depth =  3 Train Score 0.9026590137050486\n",
      "depth =  9 Train Score 0.9100073691967575\n",
      "depth =  11 Train Score 0.9102262016965127\n",
      "depth =  15 Train Score 0.9101669463828284\n",
      "depth =  20 Train Score 0.910188457008245\n",
      "depth =  35 Train Score 0.910188457008245\n",
      "depth =  50 Train Score 0.910188457008245\n",
      "depth =  70 Train Score 0.910188457008245\n",
      "depth =  130 Train Score 0.910188457008245\n"
     ]
    },
    {
     "data": {
      "image/png": "[encoded data removed]",
      "text/plain": [
       "<Figure size 432x288 with 1 Axes>"
      ]
     },
     "metadata": {},
     "output_type": "display_data"
    }
   ],
   "source": [
    "depths = [3,9,11,15,20,35,50,70,130]\n",
    "train_scores = []\n",
    "test_scores = []\n",
    "for i in depths:\n",
    "    clf = RandomForestClassifier(bootstrap=True, class_weight=None, criterion='gini',\n",
    "            max_depth=i, max_features='auto', max_leaf_nodes=None,\n",
    "            min_impurity_decrease=0.0,\n",
    "            min_samples_leaf=52, min_samples_split=120,\n",
    "            min_weight_fraction_leaf=0.0, n_estimators=115, n_jobs=-1,random_state=25,verbose=0,warm_start=False)\n",
    "    clf.fit(df_final_train,y_train)\n",
    "    train_sc = f1_score(y_train,clf.predict(df_final_train))\n",
    "#     test_sc = f1_score(y_test,clf.predict(df_final_test))\n",
    "#     test_scores.append(test_sc)\n",
    "    train_scores.append(train_sc)\n",
    "    print('depth = ',i,'Train Score',train_sc)\n",
    "plt.plot(depths,train_scores,label='Train Score')\n",
    "# plt.plot(depths,test_scores,label='Test Score')\n",
    "plt.xlabel('Depth')\n",
    "plt.ylabel('Score')\n",
    "plt.title('Depth vs score at depth of 5 at estimators = 115')\n",
    "plt.show()"
   ]
  },
  {
   "cell_type": "code",
   "execution_count": 103,
   "metadata": {
    "ExecuteTime": {
     "end_time": "2022-04-16T13:35:54.059853Z",
     "start_time": "2022-04-16T13:35:43.959643Z"
    },
    "colab": {},
    "colab_type": "code",
    "id": "MrG1Lfl3Hglq",
    "outputId": "7b6e3c97-8d66-455d-cd79-213f824719cc"
   },
   "outputs": [
    {
     "name": "stdout",
     "output_type": "stream",
     "text": [
      "mean test scores [0.90627273 0.90672756 0.90624697 0.90716675 0.90694897]\n"
     ]
    }
   ],
   "source": [
    "from sklearn.ensemble import RandomForestClassifier\n",
    "from sklearn.model_selection import RandomizedSearchCV\n",
    "from scipy.stats import randint as sp_randint\n",
    "from scipy.stats import uniform\n",
    "\n",
    "param_dist = {\"n_estimators\":sp_randint(105,125),\n",
    "              \"max_depth\": sp_randint(10,15),\n",
    "              \"min_samples_split\": sp_randint(110,190),\n",
    "              \"min_samples_leaf\": sp_randint(25,65)}\n",
    "\n",
    "clf = RandomForestClassifier(random_state=25,n_jobs=-1)\n",
    "\n",
    "rf_random = RandomizedSearchCV(clf, param_distributions=param_dist,\n",
    "                                   n_iter=5,cv=10,scoring='f1',random_state=25)\n",
    "\n",
    "rf_random.fit(df_final_train,y_train)\n",
    "print('mean test scores',rf_random.cv_results_['mean_test_score'])\n",
    "# print('mean train scores',rf_random.cv_results_['mean_train_score'])"
   ]
  },
  {
   "cell_type": "code",
   "execution_count": 104,
   "metadata": {
    "ExecuteTime": {
     "end_time": "2022-04-16T13:35:54.063571Z",
     "start_time": "2022-04-16T13:35:54.060807Z"
    },
    "colab": {},
    "colab_type": "code",
    "id": "hme3j_diHglu",
    "outputId": "581ccc02-7770-4a94-d003-257af4e81570"
   },
   "outputs": [
    {
     "name": "stdout",
     "output_type": "stream",
     "text": [
      "RandomForestClassifier(max_depth=13, min_samples_leaf=49, min_samples_split=165,\n",
      "                       n_estimators=108, n_jobs=-1, random_state=25)\n"
     ]
    }
   ],
   "source": [
    "print(rf_random.best_estimator_)"
   ]
  },
  {
   "cell_type": "code",
   "execution_count": 105,
   "metadata": {
    "ExecuteTime": {
     "end_time": "2022-04-16T13:35:54.066132Z",
     "start_time": "2022-04-16T13:35:54.064505Z"
    }
   },
   "outputs": [],
   "source": [
    "clf=rf_random.best_estimator_"
   ]
  },
  {
   "cell_type": "code",
   "execution_count": 106,
   "metadata": {
    "ExecuteTime": {
     "end_time": "2022-04-16T13:35:54.068713Z",
     "start_time": "2022-04-16T13:35:54.067296Z"
    },
    "colab": {},
    "colab_type": "code",
    "id": "qu4KIEweHglx"
   },
   "outputs": [],
   "source": [
    "# clf = RandomForestClassifier(bootstrap=True, class_weight=None, criterion='gini',\n",
    "#             max_depth=14, max_features='auto', max_leaf_nodes=None,\n",
    "#             min_impurity_decrease=0.0,\n",
    "#             min_samples_leaf=28, min_samples_split=111,\n",
    "#             min_weight_fraction_leaf=0.0, n_estimators=121, n_jobs=-1,\n",
    "#             oob_score=False, random_state=25, verbose=0, warm_start=False)"
   ]
  },
  {
   "cell_type": "code",
   "execution_count": 107,
   "metadata": {
    "ExecuteTime": {
     "end_time": "2022-04-16T13:35:54.320084Z",
     "start_time": "2022-04-16T13:35:54.069843Z"
    },
    "colab": {},
    "colab_type": "code",
    "id": "Dax83GfLHgl1"
   },
   "outputs": [
    {
     "data": {
      "text/plain": [
       "array([0, 0, 1, ..., 0, 0, 0])"
      ]
     },
     "execution_count": 107,
     "metadata": {},
     "output_type": "execute_result"
    }
   ],
   "source": [
    "clf.fit(df_final_train,y_train)\n",
    "y_train_pred = clf.predict(df_final_train)\n",
    "y_test_pred = clf.predict(df_final_test)\n",
    "y_test_pred"
   ]
  },
  {
   "cell_type": "code",
   "execution_count": 108,
   "metadata": {
    "ExecuteTime": {
     "end_time": "2022-04-16T13:35:54.322837Z",
     "start_time": "2022-04-16T13:35:54.320846Z"
    }
   },
   "outputs": [
    {
     "data": {
      "text/plain": [
       "10200"
      ]
     },
     "execution_count": 108,
     "metadata": {},
     "output_type": "execute_result"
    }
   ],
   "source": [
    "len(predict.index)"
   ]
  },
  {
   "cell_type": "code",
   "execution_count": 109,
   "metadata": {
    "ExecuteTime": {
     "end_time": "2022-04-16T13:35:54.325222Z",
     "start_time": "2022-04-16T13:35:54.323466Z"
    }
   },
   "outputs": [
    {
     "data": {
      "text/plain": [
       "10200"
      ]
     },
     "execution_count": 109,
     "metadata": {},
     "output_type": "execute_result"
    }
   ],
   "source": [
    "len(y_test_pred)"
   ]
  },
  {
   "cell_type": "code",
   "execution_count": 110,
   "metadata": {
    "ExecuteTime": {
     "end_time": "2022-04-16T13:35:54.333503Z",
     "start_time": "2022-04-16T13:35:54.325792Z"
    }
   },
   "outputs": [],
   "source": [
    "#產生答案\n",
    "answer=pd.DataFrame({'predict_nodepair_id':predict.index, 'ans':y_test_pred})\n",
    "answer=answer.to_csv('answer_RandomForest_equal.csv',index=False)\n",
    "answer\n"
   ]
  },
  {
   "cell_type": "code",
   "execution_count": 111,
   "metadata": {
    "ExecuteTime": {
     "end_time": "2022-04-16T13:35:54.340349Z",
     "start_time": "2022-04-16T13:35:54.334201Z"
    },
    "colab": {},
    "colab_type": "code",
    "id": "PTtAp1iTHgl4",
    "outputId": "e2e3d725-3c4d-4374-d303-8f294b570977"
   },
   "outputs": [
    {
     "name": "stdout",
     "output_type": "stream",
     "text": [
      "Train f1 score 0.9101574014030538\n"
     ]
    }
   ],
   "source": [
    "from sklearn.metrics import f1_score\n",
    "print('Train f1 score',f1_score(y_train,y_train_pred))\n",
    "# print('Test f1 score',f1_score(y_test,y_test_pred))"
   ]
  },
  {
   "cell_type": "code",
   "execution_count": 112,
   "metadata": {
    "ExecuteTime": {
     "end_time": "2022-04-16T13:35:54.344633Z",
     "start_time": "2022-04-16T13:35:54.341020Z"
    },
    "colab": {},
    "colab_type": "code",
    "id": "5XfUkZYQHgl7"
   },
   "outputs": [],
   "source": [
    "from sklearn.metrics import confusion_matrix\n",
    "def plot_confusion_matrix(test_y, predict_y):\n",
    "    C = confusion_matrix(test_y, predict_y)\n",
    "    \n",
    "    A =(((C.T)/(C.sum(axis=1))).T)\n",
    "    \n",
    "    B =(C/C.sum(axis=0))\n",
    "    plt.figure(figsize=(20,4))\n",
    "    \n",
    "    labels = [0,1]\n",
    "    # representing A in heatmap format\n",
    "    cmap=sns.light_palette(\"blue\")\n",
    "    plt.subplot(1, 3, 1)\n",
    "    sns.heatmap(C, annot=True, cmap=cmap, fmt=\".3f\", xticklabels=labels, yticklabels=labels)\n",
    "    plt.xlabel('Predicted Class')\n",
    "    plt.ylabel('Original Class')\n",
    "    plt.title(\"Confusion matrix\")\n",
    "    \n",
    "    plt.subplot(1, 3, 2)\n",
    "    sns.heatmap(B, annot=True, cmap=cmap, fmt=\".3f\", xticklabels=labels, yticklabels=labels)\n",
    "    plt.xlabel('Predicted Class')\n",
    "    plt.ylabel('Original Class')\n",
    "    plt.title(\"Precision matrix\")\n",
    "    \n",
    "    plt.subplot(1, 3, 3)\n",
    "    # representing B in heatmap format\n",
    "    sns.heatmap(A, annot=True, cmap=cmap, fmt=\".3f\", xticklabels=labels, yticklabels=labels)\n",
    "    plt.xlabel('Predicted Class')\n",
    "    plt.ylabel('Original Class')\n",
    "    plt.title(\"Recall matrix\")\n",
    "    \n",
    "    plt.show()"
   ]
  },
  {
   "cell_type": "code",
   "execution_count": 113,
   "metadata": {
    "ExecuteTime": {
     "end_time": "2022-04-16T13:35:54.569738Z",
     "start_time": "2022-04-16T13:35:54.345329Z"
    },
    "colab": {},
    "colab_type": "code",
    "id": "s6t11dhTHgl-",
    "outputId": "189de3be-1c99-4653-f56f-12b18b0f4db7"
   },
   "outputs": [
    {
     "name": "stdout",
     "output_type": "stream",
     "text": [
      "Train confusion_matrix\n"
     ]
    },
    {
     "data": {
      "image/png": "[encoded data removed]",
      "text/plain": [
       "<Figure size 1440x288 with 6 Axes>"
      ]
     },
     "metadata": {},
     "output_type": "display_data"
    }
   ],
   "source": [
    "print('Train confusion_matrix')\n",
    "plot_confusion_matrix(y_train,y_train_pred)\n",
    "# print('Test confusion_matrix')\n",
    "# plot_confusion_matrix(y_test,y_test_pred)"
   ]
  },
  {
   "cell_type": "code",
   "execution_count": 114,
   "metadata": {
    "ExecuteTime": {
     "end_time": "2022-04-16T13:35:54.571908Z",
     "start_time": "2022-04-16T13:35:54.570527Z"
    },
    "colab": {},
    "colab_type": "code",
    "id": "61TF-VLeHgmD",
    "outputId": "795f1b39-61c7-470f-e2d0-1fe6dc7ac5fd"
   },
   "outputs": [],
   "source": [
    "# from sklearn.metrics import roc_curve, auc\n",
    "# fpr,tpr,ths = roc_curve(y_test,y_test_pred)\n",
    "# auc_sc = auc(fpr, tpr)\n",
    "# plt.plot(fpr, tpr, color='navy',label='ROC curve (area = %0.2f)' % auc_sc)\n",
    "# plt.xlabel('False Positive Rate')\n",
    "# plt.ylabel('True Positive Rate')\n",
    "# plt.title('Receiver operating characteristic with test data')\n",
    "# plt.legend()\n",
    "# plt.show()"
   ]
  },
  {
   "cell_type": "code",
   "execution_count": 115,
   "metadata": {
    "ExecuteTime": {
     "end_time": "2022-04-16T13:35:54.642893Z",
     "start_time": "2022-04-16T13:35:54.572536Z"
    },
    "colab": {},
    "colab_type": "code",
    "id": "HEZ7uvN6HgmK",
    "outputId": "6f762256-54fc-4e2f-865b-22342033eb2c"
   },
   "outputs": [
    {
     "data": {
      "image/png": "[encoded data removed]",
      "text/plain": [
       "<Figure size 720x864 with 1 Axes>"
      ]
     },
     "metadata": {},
     "output_type": "display_data"
    }
   ],
   "source": [
    "features = df_final_train.columns\n",
    "importances = clf.feature_importances_\n",
    "indices = (np.argsort(importances))[-25:]\n",
    "plt.figure(figsize=(10,12))\n",
    "plt.title('Feature Importances')\n",
    "plt.barh(range(len(indices)), importances[indices], color='r', align='center')\n",
    "plt.yticks(range(len(indices)), [features[i] for i in indices])\n",
    "plt.xlabel('Relative Importance')\n",
    "plt.show()"
   ]
  },
  {
   "cell_type": "markdown",
   "metadata": {
    "colab_type": "text",
    "id": "_rYXyDpCizW0"
   },
   "source": [
    "Before using GBDT, lets create a some new features which are used in research papers!!!"
   ]
  },
  {
   "cell_type": "code",
   "execution_count": 116,
   "metadata": {
    "ExecuteTime": {
     "end_time": "2022-04-16T13:35:55.407620Z",
     "start_time": "2022-04-16T13:35:54.643732Z"
    },
    "colab": {},
    "colab_type": "code",
    "id": "a6A_lPdakWJd"
   },
   "outputs": [],
   "source": [
    "#reading\n",
    "from pandas import read_hdf\n",
    "df_final_train = read_hdf('./data/fea_sample/storage_sample_stage4.h5', 'train_df',mode='r')\n",
    "# df_final_test = read_hdf('./data/fea_sample/storage_sample_stage4.h5', 'test_df',mode='r')"
   ]
  },
  {
   "cell_type": "markdown",
   "metadata": {
    "colab_type": "text",
    "id": "gNeLqYoGib3C"
   },
   "source": [
    "\n",
    "2.   Add another feature called Preferential Attachment with followers and followees data of vertex. you can check about Preferential Attachment in below link http://be.amazd.com/link-prediction/\n",
    "\n"
   ]
  },
  {
   "cell_type": "code",
   "execution_count": 117,
   "metadata": {
    "ExecuteTime": {
     "end_time": "2022-04-16T13:35:55.415730Z",
     "start_time": "2022-04-16T13:35:55.408803Z"
    },
    "colab": {},
    "colab_type": "code",
    "id": "EULXQjP0iowX"
   },
   "outputs": [],
   "source": [
    "df_final_train['preferential_attachment'] = (df_final_train['num_followers_s'] + df_final_train['num_followees_s']) * ( df_final_train['num_followers_d'] + df_final_train['num_followees_d'])\n",
    "# df_final_test['preferential_attachment'] = (df_final_test['num_followers_s'] + df_final_test['num_followees_s']) * ( df_final_train['num_followers_d'] + df_final_test['num_followees_d'])"
   ]
  },
  {
   "cell_type": "markdown",
   "metadata": {
    "colab_type": "text",
    "id": "w4WKpuKQjGsX"
   },
   "source": [
    "  3. Add feature called svd_dot. you can calculate svd_dot as Dot product between sourse node svd and destination node svd features. you can read about this in below pdf https://storage.googleapis.com/kaggle-forum-message-attachments/2594/supervised_link_prediction.pdf"
   ]
  },
  {
   "cell_type": "code",
   "execution_count": 118,
   "metadata": {
    "ExecuteTime": {
     "end_time": "2022-04-16T13:35:55.418916Z",
     "start_time": "2022-04-16T13:35:55.416503Z"
    },
    "colab": {},
    "colab_type": "code",
    "id": "NYNrS6F_hBwe"
   },
   "outputs": [],
   "source": [
    "def svd_dot(S,D):\n",
    "    list_var = []\n",
    "    A = S.values\n",
    "    B = D.values\n",
    "    for i in range(len(A)):\n",
    "        list_var.append(np.dot(A[i],B[i]))\n",
    "    df = pd.DataFrame(list_var)\n",
    "    return df"
   ]
  },
  {
   "cell_type": "code",
   "execution_count": 119,
   "metadata": {
    "ExecuteTime": {
     "end_time": "2022-04-16T13:35:57.538661Z",
     "start_time": "2022-04-16T13:35:55.419601Z"
    },
    "colab": {},
    "colab_type": "code",
    "id": "5OrnKu9HiNVs"
   },
   "outputs": [],
   "source": [
    "u_s = df_final_train[['svd_u_s_1', 'svd_u_s_2', 'svd_u_s_3', 'svd_u_s_4','svd_u_s_5', 'svd_u_s_6']]\n",
    "u_d = df_final_train[['svd_u_d_1', 'svd_u_d_2', 'svd_u_d_3', 'svd_u_d_4','svd_u_d_5', 'svd_u_d_6']]\n",
    "df_final_train['svd_dot_u'] = svd_dot(u_s,u_d)\n",
    "\n",
    "v_s = df_final_train[['svd_v_s_1', 'svd_v_s_2', 'svd_v_s_3', 'svd_v_s_4','svd_v_s_5', 'svd_v_s_6']]\n",
    "v_d = df_final_train[['svd_v_d_1', 'svd_v_d_2', 'svd_v_d_3', 'svd_v_d_4','svd_v_d_5', 'svd_v_d_6']]\n",
    "df_final_train['svd_dot_v'] = svd_dot(v_s,v_d)\n",
    "\n"
   ]
  },
  {
   "cell_type": "code",
   "execution_count": 120,
   "metadata": {
    "ExecuteTime": {
     "end_time": "2022-04-16T13:35:57.542066Z",
     "start_time": "2022-04-16T13:35:57.539546Z"
    },
    "colab": {
     "base_uri": "https://localhost:8080/",
     "height": 272
    },
    "colab_type": "code",
    "id": "5Gm-BHRkHglW",
    "outputId": "3a1e71d2-d1e7-42e0-b0eb-2ae688b6dfeb"
   },
   "outputs": [
    {
     "data": {
      "text/plain": [
       "Index(['source_node', 'destination_node', 'indicator_link',\n",
       "       'jaccard_followers', 'jaccard_followees', 'cosine_followers',\n",
       "       'cosine_followees', 'num_followers_s', 'num_followers_d',\n",
       "       'num_followees_s', 'num_followees_d', 'inter_followers',\n",
       "       'inter_followees', 'adar_index', 'follows_back', 'same_comp',\n",
       "       'shortest_path', 'weight_in', 'weight_out', 'weight_f1', 'weight_f2',\n",
       "       'weight_f3', 'weight_f4', 'page_rank_s', 'page_rank_d', 'katz_s',\n",
       "       'katz_d', 'hubs_s', 'hubs_d', 'authorities_s', 'authorities_d',\n",
       "       'svd_u_s_1', 'svd_u_s_2', 'svd_u_s_3', 'svd_u_s_4', 'svd_u_s_5',\n",
       "       'svd_u_s_6', 'svd_u_d_1', 'svd_u_d_2', 'svd_u_d_3', 'svd_u_d_4',\n",
       "       'svd_u_d_5', 'svd_u_d_6', 'svd_v_s_1', 'svd_v_s_2', 'svd_v_s_3',\n",
       "       'svd_v_s_4', 'svd_v_s_5', 'svd_v_s_6', 'svd_v_d_1', 'svd_v_d_2',\n",
       "       'svd_v_d_3', 'svd_v_d_4', 'svd_v_d_5', 'svd_v_d_6',\n",
       "       'preferential_attachment', 'svd_dot_u', 'svd_dot_v'],\n",
       "      dtype='object')"
      ]
     },
     "execution_count": 120,
     "metadata": {},
     "output_type": "execute_result"
    }
   ],
   "source": [
    "df_final_train.columns"
   ]
  },
  {
   "cell_type": "code",
   "execution_count": 121,
   "metadata": {
    "ExecuteTime": {
     "end_time": "2022-04-16T13:35:57.920316Z",
     "start_time": "2022-04-16T13:35:57.542895Z"
    }
   },
   "outputs": [],
   "source": [
    "df_final_train=df_final_train.replace([np.inf,-np.inf],np.nan)\n",
    "df_final_train=df_final_train.fillna(0)\n",
    "\n",
    "\n",
    "# df_final_train=df_final_train[np.isfinite(df_final_train).all(1)]\n",
    "# df_final_test =df_final_test[np.isfinite(df_final_test).all(1)]"
   ]
  },
  {
   "cell_type": "code",
   "execution_count": 122,
   "metadata": {
    "ExecuteTime": {
     "end_time": "2022-04-16T13:35:58.079072Z",
     "start_time": "2022-04-16T13:35:57.921130Z"
    },
    "scrolled": true
   },
   "outputs": [
    {
     "data": {
      "text/html": [
       "<div>\n",
       "<style scoped>\n",
       "    .dataframe tbody tr th:only-of-type {\n",
       "        vertical-align: middle;\n",
       "    }\n",
       "\n",
       "    .dataframe tbody tr th {\n",
       "        vertical-align: top;\n",
       "    }\n",
       "\n",
       "    .dataframe thead th {\n",
       "        text-align: right;\n",
       "    }\n",
       "</style>\n",
       "<table border=\"1\" class=\"dataframe\">\n",
       "  <thead>\n",
       "    <tr style=\"text-align: right;\">\n",
       "      <th></th>\n",
       "      <th>source_node</th>\n",
       "      <th>destination_node</th>\n",
       "      <th>indicator_link</th>\n",
       "      <th>jaccard_followers</th>\n",
       "      <th>jaccard_followees</th>\n",
       "      <th>cosine_followers</th>\n",
       "      <th>cosine_followees</th>\n",
       "      <th>num_followers_s</th>\n",
       "      <th>num_followers_d</th>\n",
       "      <th>num_followees_s</th>\n",
       "      <th>...</th>\n",
       "      <th>svd_v_s_6</th>\n",
       "      <th>svd_v_d_1</th>\n",
       "      <th>svd_v_d_2</th>\n",
       "      <th>svd_v_d_3</th>\n",
       "      <th>svd_v_d_4</th>\n",
       "      <th>svd_v_d_5</th>\n",
       "      <th>svd_v_d_6</th>\n",
       "      <th>preferential_attachment</th>\n",
       "      <th>svd_dot_u</th>\n",
       "      <th>svd_dot_v</th>\n",
       "    </tr>\n",
       "  </thead>\n",
       "  <tbody>\n",
       "    <tr>\n",
       "      <th>0</th>\n",
       "      <td>828</td>\n",
       "      <td>388</td>\n",
       "      <td>0</td>\n",
       "      <td>0.000000</td>\n",
       "      <td>0.000000</td>\n",
       "      <td>0.000000</td>\n",
       "      <td>0.000000</td>\n",
       "      <td>11</td>\n",
       "      <td>20</td>\n",
       "      <td>21</td>\n",
       "      <td>...</td>\n",
       "      <td>-0.014283</td>\n",
       "      <td>0.068436</td>\n",
       "      <td>-0.034031</td>\n",
       "      <td>0.070186</td>\n",
       "      <td>-0.049535</td>\n",
       "      <td>0.024220</td>\n",
       "      <td>-0.018102</td>\n",
       "      <td>1088</td>\n",
       "      <td>2.658813e-04</td>\n",
       "      <td>-0.000794</td>\n",
       "    </tr>\n",
       "    <tr>\n",
       "      <th>1</th>\n",
       "      <td>287</td>\n",
       "      <td>312</td>\n",
       "      <td>0</td>\n",
       "      <td>0.066667</td>\n",
       "      <td>0.000000</td>\n",
       "      <td>0.030376</td>\n",
       "      <td>0.000000</td>\n",
       "      <td>15</td>\n",
       "      <td>17</td>\n",
       "      <td>14</td>\n",
       "      <td>...</td>\n",
       "      <td>-0.016589</td>\n",
       "      <td>-0.009434</td>\n",
       "      <td>-0.002457</td>\n",
       "      <td>0.017709</td>\n",
       "      <td>-0.020993</td>\n",
       "      <td>0.014003</td>\n",
       "      <td>-0.019588</td>\n",
       "      <td>957</td>\n",
       "      <td>4.203811e-04</td>\n",
       "      <td>0.000499</td>\n",
       "    </tr>\n",
       "    <tr>\n",
       "      <th>2</th>\n",
       "      <td>936</td>\n",
       "      <td>130</td>\n",
       "      <td>1</td>\n",
       "      <td>0.062500</td>\n",
       "      <td>0.062500</td>\n",
       "      <td>0.030842</td>\n",
       "      <td>0.250000</td>\n",
       "      <td>5</td>\n",
       "      <td>29</td>\n",
       "      <td>16</td>\n",
       "      <td>...</td>\n",
       "      <td>-0.003021</td>\n",
       "      <td>-0.045124</td>\n",
       "      <td>-0.024787</td>\n",
       "      <td>0.071613</td>\n",
       "      <td>-0.026661</td>\n",
       "      <td>0.029658</td>\n",
       "      <td>-0.024237</td>\n",
       "      <td>630</td>\n",
       "      <td>1.723022e-04</td>\n",
       "      <td>0.000758</td>\n",
       "    </tr>\n",
       "    <tr>\n",
       "      <th>3</th>\n",
       "      <td>802</td>\n",
       "      <td>172</td>\n",
       "      <td>1</td>\n",
       "      <td>0.000000</td>\n",
       "      <td>0.038462</td>\n",
       "      <td>0.000000</td>\n",
       "      <td>0.141421</td>\n",
       "      <td>0</td>\n",
       "      <td>55</td>\n",
       "      <td>4</td>\n",
       "      <td>...</td>\n",
       "      <td>0.000000</td>\n",
       "      <td>-0.032748</td>\n",
       "      <td>-0.019905</td>\n",
       "      <td>0.095733</td>\n",
       "      <td>0.021985</td>\n",
       "      <td>0.075405</td>\n",
       "      <td>-0.059687</td>\n",
       "      <td>420</td>\n",
       "      <td>1.196735e-03</td>\n",
       "      <td>0.000000</td>\n",
       "    </tr>\n",
       "    <tr>\n",
       "      <th>4</th>\n",
       "      <td>102</td>\n",
       "      <td>411</td>\n",
       "      <td>1</td>\n",
       "      <td>0.106061</td>\n",
       "      <td>0.117647</td>\n",
       "      <td>0.032358</td>\n",
       "      <td>0.263158</td>\n",
       "      <td>13</td>\n",
       "      <td>60</td>\n",
       "      <td>19</td>\n",
       "      <td>...</td>\n",
       "      <td>-0.006823</td>\n",
       "      <td>0.020312</td>\n",
       "      <td>0.019927</td>\n",
       "      <td>0.059115</td>\n",
       "      <td>0.033398</td>\n",
       "      <td>-0.126505</td>\n",
       "      <td>-0.058044</td>\n",
       "      <td>4352</td>\n",
       "      <td>7.895149e-03</td>\n",
       "      <td>0.005353</td>\n",
       "    </tr>\n",
       "    <tr>\n",
       "      <th>...</th>\n",
       "      <td>...</td>\n",
       "      <td>...</td>\n",
       "      <td>...</td>\n",
       "      <td>...</td>\n",
       "      <td>...</td>\n",
       "      <td>...</td>\n",
       "      <td>...</td>\n",
       "      <td>...</td>\n",
       "      <td>...</td>\n",
       "      <td>...</td>\n",
       "      <td>...</td>\n",
       "      <td>...</td>\n",
       "      <td>...</td>\n",
       "      <td>...</td>\n",
       "      <td>...</td>\n",
       "      <td>...</td>\n",
       "      <td>...</td>\n",
       "      <td>...</td>\n",
       "      <td>...</td>\n",
       "      <td>...</td>\n",
       "      <td>...</td>\n",
       "    </tr>\n",
       "    <tr>\n",
       "      <th>10195</th>\n",
       "      <td>621</td>\n",
       "      <td>772</td>\n",
       "      <td>0</td>\n",
       "      <td>0.000000</td>\n",
       "      <td>0.000000</td>\n",
       "      <td>0.000000</td>\n",
       "      <td>0.000000</td>\n",
       "      <td>13</td>\n",
       "      <td>0</td>\n",
       "      <td>11</td>\n",
       "      <td>...</td>\n",
       "      <td>-0.010078</td>\n",
       "      <td>0.000000</td>\n",
       "      <td>0.000000</td>\n",
       "      <td>0.000000</td>\n",
       "      <td>0.000000</td>\n",
       "      <td>0.000000</td>\n",
       "      <td>0.000000</td>\n",
       "      <td>0</td>\n",
       "      <td>0.000000e+00</td>\n",
       "      <td>0.000000</td>\n",
       "    </tr>\n",
       "    <tr>\n",
       "      <th>10196</th>\n",
       "      <td>81</td>\n",
       "      <td>667</td>\n",
       "      <td>1</td>\n",
       "      <td>0.063158</td>\n",
       "      <td>0.090909</td>\n",
       "      <td>0.031944</td>\n",
       "      <td>0.257325</td>\n",
       "      <td>80</td>\n",
       "      <td>21</td>\n",
       "      <td>74</td>\n",
       "      <td>...</td>\n",
       "      <td>-0.103765</td>\n",
       "      <td>-0.007530</td>\n",
       "      <td>-0.008398</td>\n",
       "      <td>-0.021579</td>\n",
       "      <td>-0.014746</td>\n",
       "      <td>0.004424</td>\n",
       "      <td>-0.019442</td>\n",
       "      <td>4774</td>\n",
       "      <td>1.728061e-03</td>\n",
       "      <td>0.004185</td>\n",
       "    </tr>\n",
       "    <tr>\n",
       "      <th>10197</th>\n",
       "      <td>491</td>\n",
       "      <td>300</td>\n",
       "      <td>0</td>\n",
       "      <td>0.029412</td>\n",
       "      <td>0.000000</td>\n",
       "      <td>0.014907</td>\n",
       "      <td>0.000000</td>\n",
       "      <td>5</td>\n",
       "      <td>30</td>\n",
       "      <td>15</td>\n",
       "      <td>...</td>\n",
       "      <td>-0.003710</td>\n",
       "      <td>-0.027841</td>\n",
       "      <td>-0.014932</td>\n",
       "      <td>-0.033209</td>\n",
       "      <td>-0.009266</td>\n",
       "      <td>-0.012248</td>\n",
       "      <td>-0.033404</td>\n",
       "      <td>1720</td>\n",
       "      <td>1.462495e-04</td>\n",
       "      <td>-0.000618</td>\n",
       "    </tr>\n",
       "    <tr>\n",
       "      <th>10198</th>\n",
       "      <td>77</td>\n",
       "      <td>574</td>\n",
       "      <td>0</td>\n",
       "      <td>0.000000</td>\n",
       "      <td>0.000000</td>\n",
       "      <td>0.000000</td>\n",
       "      <td>0.000000</td>\n",
       "      <td>14</td>\n",
       "      <td>3</td>\n",
       "      <td>13</td>\n",
       "      <td>...</td>\n",
       "      <td>-0.027102</td>\n",
       "      <td>-0.009695</td>\n",
       "      <td>0.000183</td>\n",
       "      <td>0.008046</td>\n",
       "      <td>-0.001235</td>\n",
       "      <td>0.005666</td>\n",
       "      <td>-0.002427</td>\n",
       "      <td>81</td>\n",
       "      <td>2.332142e-19</td>\n",
       "      <td>0.000036</td>\n",
       "    </tr>\n",
       "    <tr>\n",
       "      <th>10199</th>\n",
       "      <td>916</td>\n",
       "      <td>235</td>\n",
       "      <td>0</td>\n",
       "      <td>0.000000</td>\n",
       "      <td>0.000000</td>\n",
       "      <td>0.000000</td>\n",
       "      <td>0.000000</td>\n",
       "      <td>1</td>\n",
       "      <td>14</td>\n",
       "      <td>0</td>\n",
       "      <td>...</td>\n",
       "      <td>0.000000</td>\n",
       "      <td>0.014669</td>\n",
       "      <td>0.004882</td>\n",
       "      <td>-0.000443</td>\n",
       "      <td>0.000889</td>\n",
       "      <td>-0.025208</td>\n",
       "      <td>-0.014220</td>\n",
       "      <td>33</td>\n",
       "      <td>-3.144156e-20</td>\n",
       "      <td>0.000000</td>\n",
       "    </tr>\n",
       "  </tbody>\n",
       "</table>\n",
       "<p>10200 rows × 58 columns</p>\n",
       "</div>"
      ],
      "text/plain": [
       "       source_node  destination_node  indicator_link  jaccard_followers  \\\n",
       "0              828               388               0           0.000000   \n",
       "1              287               312               0           0.066667   \n",
       "2              936               130               1           0.062500   \n",
       "3              802               172               1           0.000000   \n",
       "4              102               411               1           0.106061   \n",
       "...            ...               ...             ...                ...   \n",
       "10195          621               772               0           0.000000   \n",
       "10196           81               667               1           0.063158   \n",
       "10197          491               300               0           0.029412   \n",
       "10198           77               574               0           0.000000   \n",
       "10199          916               235               0           0.000000   \n",
       "\n",
       "       jaccard_followees  cosine_followers  cosine_followees  num_followers_s  \\\n",
       "0               0.000000          0.000000          0.000000               11   \n",
       "1               0.000000          0.030376          0.000000               15   \n",
       "2               0.062500          0.030842          0.250000                5   \n",
       "3               0.038462          0.000000          0.141421                0   \n",
       "4               0.117647          0.032358          0.263158               13   \n",
       "...                  ...               ...               ...              ...   \n",
       "10195           0.000000          0.000000          0.000000               13   \n",
       "10196           0.090909          0.031944          0.257325               80   \n",
       "10197           0.000000          0.014907          0.000000                5   \n",
       "10198           0.000000          0.000000          0.000000               14   \n",
       "10199           0.000000          0.000000          0.000000                1   \n",
       "\n",
       "       num_followers_d  num_followees_s  ...  svd_v_s_6  svd_v_d_1  svd_v_d_2  \\\n",
       "0                   20               21  ...  -0.014283   0.068436  -0.034031   \n",
       "1                   17               14  ...  -0.016589  -0.009434  -0.002457   \n",
       "2                   29               16  ...  -0.003021  -0.045124  -0.024787   \n",
       "3                   55                4  ...   0.000000  -0.032748  -0.019905   \n",
       "4                   60               19  ...  -0.006823   0.020312   0.019927   \n",
       "...                ...              ...  ...        ...        ...        ...   \n",
       "10195                0               11  ...  -0.010078   0.000000   0.000000   \n",
       "10196               21               74  ...  -0.103765  -0.007530  -0.008398   \n",
       "10197               30               15  ...  -0.003710  -0.027841  -0.014932   \n",
       "10198                3               13  ...  -0.027102  -0.009695   0.000183   \n",
       "10199               14                0  ...   0.000000   0.014669   0.004882   \n",
       "\n",
       "       svd_v_d_3  svd_v_d_4  svd_v_d_5  svd_v_d_6  preferential_attachment  \\\n",
       "0       0.070186  -0.049535   0.024220  -0.018102                     1088   \n",
       "1       0.017709  -0.020993   0.014003  -0.019588                      957   \n",
       "2       0.071613  -0.026661   0.029658  -0.024237                      630   \n",
       "3       0.095733   0.021985   0.075405  -0.059687                      420   \n",
       "4       0.059115   0.033398  -0.126505  -0.058044                     4352   \n",
       "...          ...        ...        ...        ...                      ...   \n",
       "10195   0.000000   0.000000   0.000000   0.000000                        0   \n",
       "10196  -0.021579  -0.014746   0.004424  -0.019442                     4774   \n",
       "10197  -0.033209  -0.009266  -0.012248  -0.033404                     1720   \n",
       "10198   0.008046  -0.001235   0.005666  -0.002427                       81   \n",
       "10199  -0.000443   0.000889  -0.025208  -0.014220                       33   \n",
       "\n",
       "          svd_dot_u  svd_dot_v  \n",
       "0      2.658813e-04  -0.000794  \n",
       "1      4.203811e-04   0.000499  \n",
       "2      1.723022e-04   0.000758  \n",
       "3      1.196735e-03   0.000000  \n",
       "4      7.895149e-03   0.005353  \n",
       "...             ...        ...  \n",
       "10195  0.000000e+00   0.000000  \n",
       "10196  1.728061e-03   0.004185  \n",
       "10197  1.462495e-04  -0.000618  \n",
       "10198  2.332142e-19   0.000036  \n",
       "10199 -3.144156e-20   0.000000  \n",
       "\n",
       "[10200 rows x 58 columns]"
      ]
     },
     "execution_count": 122,
     "metadata": {},
     "output_type": "execute_result"
    }
   ],
   "source": [
    "df_final_test=pd.merge(predict,df_final_train,how='inner')\n",
    "df_final_test"
   ]
  },
  {
   "cell_type": "code",
   "execution_count": 123,
   "metadata": {
    "ExecuteTime": {
     "end_time": "2022-04-16T13:36:43.706268Z",
     "start_time": "2022-04-16T13:35:58.079818Z"
    }
   },
   "outputs": [],
   "source": [
    "##去除之前為了計算metric 而加入train neg data 的test data (500以後)\n",
    "rm_data=predict[500:].values.tolist()\n",
    "drop_index=[df_final_train[(df_final_train['source_node']==nodepair[0]) & (df_final_train['destination_node']==nodepair[1])].index[0] for nodepair in rm_data]\n",
    "df_final_train.drop(drop_index,inplace=True)"
   ]
  },
  {
   "cell_type": "code",
   "execution_count": 124,
   "metadata": {
    "ExecuteTime": {
     "end_time": "2022-04-16T13:36:44.327741Z",
     "start_time": "2022-04-16T13:36:43.707109Z"
    }
   },
   "outputs": [],
   "source": [
    "#選出確定的neg smaple\n",
    "neg1=pd.merge(predict_500[predict_500['indicator_link']==0],df_final_train,how='inner')\n",
    "neg1\n",
    "\n",
    "#將neg1從原本training data中去除\n",
    "drop_index=[df_final_train[(df_final_train['source_node']==nodepair[0]) & (df_final_train['destination_node']==nodepair[1])].index[0] for i,nodepair in neg1.iterrows()]\n",
    "df_final_train.drop(drop_index,inplace=True)\n",
    "\n",
    "#取出與pos 相同數量的neg\n",
    "neg2=df_final_train[df_final_train['indicator_link']==0].sample(n=20510-len(neg1), random_state=1)\n",
    "neg=pd.concat([neg1, neg2], ignore_index=True)\n",
    "\n"
   ]
  },
  {
   "cell_type": "code",
   "execution_count": 125,
   "metadata": {
    "ExecuteTime": {
     "end_time": "2022-04-16T13:36:44.333103Z",
     "start_time": "2022-04-16T13:36:44.328543Z"
    }
   },
   "outputs": [],
   "source": [
    "pos=df_final_train[df_final_train['indicator_link']==1]"
   ]
  },
  {
   "cell_type": "code",
   "execution_count": 126,
   "metadata": {
    "ExecuteTime": {
     "end_time": "2022-04-16T13:36:44.352125Z",
     "start_time": "2022-04-16T13:36:44.333931Z"
    }
   },
   "outputs": [
    {
     "data": {
      "text/html": [
       "<div>\n",
       "<style scoped>\n",
       "    .dataframe tbody tr th:only-of-type {\n",
       "        vertical-align: middle;\n",
       "    }\n",
       "\n",
       "    .dataframe tbody tr th {\n",
       "        vertical-align: top;\n",
       "    }\n",
       "\n",
       "    .dataframe thead th {\n",
       "        text-align: right;\n",
       "    }\n",
       "</style>\n",
       "<table border=\"1\" class=\"dataframe\">\n",
       "  <thead>\n",
       "    <tr style=\"text-align: right;\">\n",
       "      <th></th>\n",
       "      <th>source_node</th>\n",
       "      <th>destination_node</th>\n",
       "      <th>indicator_link</th>\n",
       "      <th>jaccard_followers</th>\n",
       "      <th>jaccard_followees</th>\n",
       "      <th>cosine_followers</th>\n",
       "      <th>cosine_followees</th>\n",
       "      <th>num_followers_s</th>\n",
       "      <th>num_followers_d</th>\n",
       "      <th>num_followees_s</th>\n",
       "      <th>...</th>\n",
       "      <th>svd_v_s_6</th>\n",
       "      <th>svd_v_d_1</th>\n",
       "      <th>svd_v_d_2</th>\n",
       "      <th>svd_v_d_3</th>\n",
       "      <th>svd_v_d_4</th>\n",
       "      <th>svd_v_d_5</th>\n",
       "      <th>svd_v_d_6</th>\n",
       "      <th>preferential_attachment</th>\n",
       "      <th>svd_dot_u</th>\n",
       "      <th>svd_dot_v</th>\n",
       "    </tr>\n",
       "  </thead>\n",
       "  <tbody>\n",
       "    <tr>\n",
       "      <th>0</th>\n",
       "      <td>287</td>\n",
       "      <td>68</td>\n",
       "      <td>1</td>\n",
       "      <td>0.250000</td>\n",
       "      <td>0.230769</td>\n",
       "      <td>0.073771</td>\n",
       "      <td>0.412514</td>\n",
       "      <td>15</td>\n",
       "      <td>35</td>\n",
       "      <td>14</td>\n",
       "      <td>...</td>\n",
       "      <td>-0.016589</td>\n",
       "      <td>-0.059382</td>\n",
       "      <td>-0.018474</td>\n",
       "      <td>-0.054179</td>\n",
       "      <td>-0.023964</td>\n",
       "      <td>0.013804</td>\n",
       "      <td>-0.050633</td>\n",
       "      <td>2001</td>\n",
       "      <td>2.233740e-03</td>\n",
       "      <td>0.003134</td>\n",
       "    </tr>\n",
       "    <tr>\n",
       "      <th>1</th>\n",
       "      <td>63</td>\n",
       "      <td>552</td>\n",
       "      <td>1</td>\n",
       "      <td>0.238636</td>\n",
       "      <td>0.125000</td>\n",
       "      <td>0.078756</td>\n",
       "      <td>0.286039</td>\n",
       "      <td>79</td>\n",
       "      <td>30</td>\n",
       "      <td>88</td>\n",
       "      <td>...</td>\n",
       "      <td>-0.085990</td>\n",
       "      <td>-0.008138</td>\n",
       "      <td>0.003121</td>\n",
       "      <td>0.044962</td>\n",
       "      <td>0.011024</td>\n",
       "      <td>-0.102515</td>\n",
       "      <td>-0.037814</td>\n",
       "      <td>8350</td>\n",
       "      <td>1.460997e-02</td>\n",
       "      <td>0.025032</td>\n",
       "    </tr>\n",
       "    <tr>\n",
       "      <th>2</th>\n",
       "      <td>189</td>\n",
       "      <td>20</td>\n",
       "      <td>1</td>\n",
       "      <td>0.151163</td>\n",
       "      <td>0.134328</td>\n",
       "      <td>0.036466</td>\n",
       "      <td>0.243778</td>\n",
       "      <td>47</td>\n",
       "      <td>52</td>\n",
       "      <td>29</td>\n",
       "      <td>...</td>\n",
       "      <td>-0.040581</td>\n",
       "      <td>0.000707</td>\n",
       "      <td>-0.001699</td>\n",
       "      <td>-0.060850</td>\n",
       "      <td>-0.032156</td>\n",
       "      <td>0.011341</td>\n",
       "      <td>-0.055203</td>\n",
       "      <td>7524</td>\n",
       "      <td>4.883874e-03</td>\n",
       "      <td>0.006369</td>\n",
       "    </tr>\n",
       "    <tr>\n",
       "      <th>3</th>\n",
       "      <td>380</td>\n",
       "      <td>376</td>\n",
       "      <td>1</td>\n",
       "      <td>0.162791</td>\n",
       "      <td>0.234043</td>\n",
       "      <td>0.056000</td>\n",
       "      <td>0.387699</td>\n",
       "      <td>25</td>\n",
       "      <td>25</td>\n",
       "      <td>23</td>\n",
       "      <td>...</td>\n",
       "      <td>-0.013518</td>\n",
       "      <td>0.067027</td>\n",
       "      <td>-0.035407</td>\n",
       "      <td>0.074903</td>\n",
       "      <td>-0.054456</td>\n",
       "      <td>0.019862</td>\n",
       "      <td>-0.020125</td>\n",
       "      <td>2880</td>\n",
       "      <td>1.876176e-02</td>\n",
       "      <td>0.015432</td>\n",
       "    </tr>\n",
       "    <tr>\n",
       "      <th>4</th>\n",
       "      <td>370</td>\n",
       "      <td>443</td>\n",
       "      <td>1</td>\n",
       "      <td>0.136364</td>\n",
       "      <td>0.363636</td>\n",
       "      <td>0.045580</td>\n",
       "      <td>0.538138</td>\n",
       "      <td>12</td>\n",
       "      <td>38</td>\n",
       "      <td>26</td>\n",
       "      <td>...</td>\n",
       "      <td>-0.005415</td>\n",
       "      <td>0.079761</td>\n",
       "      <td>0.015983</td>\n",
       "      <td>0.017178</td>\n",
       "      <td>0.122038</td>\n",
       "      <td>0.047368</td>\n",
       "      <td>-0.031209</td>\n",
       "      <td>2736</td>\n",
       "      <td>1.427991e-02</td>\n",
       "      <td>0.008217</td>\n",
       "    </tr>\n",
       "    <tr>\n",
       "      <th>...</th>\n",
       "      <td>...</td>\n",
       "      <td>...</td>\n",
       "      <td>...</td>\n",
       "      <td>...</td>\n",
       "      <td>...</td>\n",
       "      <td>...</td>\n",
       "      <td>...</td>\n",
       "      <td>...</td>\n",
       "      <td>...</td>\n",
       "      <td>...</td>\n",
       "      <td>...</td>\n",
       "      <td>...</td>\n",
       "      <td>...</td>\n",
       "      <td>...</td>\n",
       "      <td>...</td>\n",
       "      <td>...</td>\n",
       "      <td>...</td>\n",
       "      <td>...</td>\n",
       "      <td>...</td>\n",
       "      <td>...</td>\n",
       "      <td>...</td>\n",
       "    </tr>\n",
       "    <tr>\n",
       "      <th>37163</th>\n",
       "      <td>975</td>\n",
       "      <td>838</td>\n",
       "      <td>0</td>\n",
       "      <td>0.000000</td>\n",
       "      <td>0.000000</td>\n",
       "      <td>0.000000</td>\n",
       "      <td>0.000000</td>\n",
       "      <td>0</td>\n",
       "      <td>1</td>\n",
       "      <td>0</td>\n",
       "      <td>...</td>\n",
       "      <td>0.000000</td>\n",
       "      <td>0.000000</td>\n",
       "      <td>0.000000</td>\n",
       "      <td>0.000000</td>\n",
       "      <td>0.000000</td>\n",
       "      <td>0.000000</td>\n",
       "      <td>0.000000</td>\n",
       "      <td>0</td>\n",
       "      <td>0.000000e+00</td>\n",
       "      <td>0.000000</td>\n",
       "    </tr>\n",
       "    <tr>\n",
       "      <th>37164</th>\n",
       "      <td>266</td>\n",
       "      <td>830</td>\n",
       "      <td>0</td>\n",
       "      <td>0.000000</td>\n",
       "      <td>0.000000</td>\n",
       "      <td>0.000000</td>\n",
       "      <td>0.000000</td>\n",
       "      <td>19</td>\n",
       "      <td>0</td>\n",
       "      <td>19</td>\n",
       "      <td>...</td>\n",
       "      <td>-0.008465</td>\n",
       "      <td>0.000000</td>\n",
       "      <td>0.000000</td>\n",
       "      <td>0.000000</td>\n",
       "      <td>0.000000</td>\n",
       "      <td>0.000000</td>\n",
       "      <td>0.000000</td>\n",
       "      <td>0</td>\n",
       "      <td>0.000000e+00</td>\n",
       "      <td>0.000000</td>\n",
       "    </tr>\n",
       "    <tr>\n",
       "      <th>37165</th>\n",
       "      <td>32</td>\n",
       "      <td>969</td>\n",
       "      <td>0</td>\n",
       "      <td>0.000000</td>\n",
       "      <td>0.000000</td>\n",
       "      <td>0.000000</td>\n",
       "      <td>0.000000</td>\n",
       "      <td>26</td>\n",
       "      <td>1</td>\n",
       "      <td>19</td>\n",
       "      <td>...</td>\n",
       "      <td>-0.019877</td>\n",
       "      <td>0.000000</td>\n",
       "      <td>0.000000</td>\n",
       "      <td>0.000000</td>\n",
       "      <td>0.000000</td>\n",
       "      <td>0.000000</td>\n",
       "      <td>0.000000</td>\n",
       "      <td>90</td>\n",
       "      <td>-1.048976e-20</td>\n",
       "      <td>0.000000</td>\n",
       "    </tr>\n",
       "    <tr>\n",
       "      <th>37166</th>\n",
       "      <td>812</td>\n",
       "      <td>912</td>\n",
       "      <td>0</td>\n",
       "      <td>0.000000</td>\n",
       "      <td>0.000000</td>\n",
       "      <td>0.000000</td>\n",
       "      <td>0.000000</td>\n",
       "      <td>38</td>\n",
       "      <td>2</td>\n",
       "      <td>46</td>\n",
       "      <td>...</td>\n",
       "      <td>-0.040505</td>\n",
       "      <td>-0.001637</td>\n",
       "      <td>0.007238</td>\n",
       "      <td>0.003706</td>\n",
       "      <td>-0.003101</td>\n",
       "      <td>0.002262</td>\n",
       "      <td>-0.000949</td>\n",
       "      <td>420</td>\n",
       "      <td>-8.996788e-05</td>\n",
       "      <td>-0.000108</td>\n",
       "    </tr>\n",
       "    <tr>\n",
       "      <th>37167</th>\n",
       "      <td>337</td>\n",
       "      <td>599</td>\n",
       "      <td>0</td>\n",
       "      <td>0.000000</td>\n",
       "      <td>0.031250</td>\n",
       "      <td>0.000000</td>\n",
       "      <td>0.074125</td>\n",
       "      <td>29</td>\n",
       "      <td>3</td>\n",
       "      <td>26</td>\n",
       "      <td>...</td>\n",
       "      <td>-0.033118</td>\n",
       "      <td>0.003614</td>\n",
       "      <td>-0.000608</td>\n",
       "      <td>-0.001078</td>\n",
       "      <td>-0.001173</td>\n",
       "      <td>-0.005838</td>\n",
       "      <td>-0.001956</td>\n",
       "      <td>550</td>\n",
       "      <td>2.457279e-04</td>\n",
       "      <td>-0.000208</td>\n",
       "    </tr>\n",
       "  </tbody>\n",
       "</table>\n",
       "<p>37168 rows × 58 columns</p>\n",
       "</div>"
      ],
      "text/plain": [
       "       source_node  destination_node  indicator_link  jaccard_followers  \\\n",
       "0              287                68               1           0.250000   \n",
       "1               63               552               1           0.238636   \n",
       "2              189                20               1           0.151163   \n",
       "3              380               376               1           0.162791   \n",
       "4              370               443               1           0.136364   \n",
       "...            ...               ...             ...                ...   \n",
       "37163          975               838               0           0.000000   \n",
       "37164          266               830               0           0.000000   \n",
       "37165           32               969               0           0.000000   \n",
       "37166          812               912               0           0.000000   \n",
       "37167          337               599               0           0.000000   \n",
       "\n",
       "       jaccard_followees  cosine_followers  cosine_followees  num_followers_s  \\\n",
       "0               0.230769          0.073771          0.412514               15   \n",
       "1               0.125000          0.078756          0.286039               79   \n",
       "2               0.134328          0.036466          0.243778               47   \n",
       "3               0.234043          0.056000          0.387699               25   \n",
       "4               0.363636          0.045580          0.538138               12   \n",
       "...                  ...               ...               ...              ...   \n",
       "37163           0.000000          0.000000          0.000000                0   \n",
       "37164           0.000000          0.000000          0.000000               19   \n",
       "37165           0.000000          0.000000          0.000000               26   \n",
       "37166           0.000000          0.000000          0.000000               38   \n",
       "37167           0.031250          0.000000          0.074125               29   \n",
       "\n",
       "       num_followers_d  num_followees_s  ...  svd_v_s_6  svd_v_d_1  svd_v_d_2  \\\n",
       "0                   35               14  ...  -0.016589  -0.059382  -0.018474   \n",
       "1                   30               88  ...  -0.085990  -0.008138   0.003121   \n",
       "2                   52               29  ...  -0.040581   0.000707  -0.001699   \n",
       "3                   25               23  ...  -0.013518   0.067027  -0.035407   \n",
       "4                   38               26  ...  -0.005415   0.079761   0.015983   \n",
       "...                ...              ...  ...        ...        ...        ...   \n",
       "37163                1                0  ...   0.000000   0.000000   0.000000   \n",
       "37164                0               19  ...  -0.008465   0.000000   0.000000   \n",
       "37165                1               19  ...  -0.019877   0.000000   0.000000   \n",
       "37166                2               46  ...  -0.040505  -0.001637   0.007238   \n",
       "37167                3               26  ...  -0.033118   0.003614  -0.000608   \n",
       "\n",
       "       svd_v_d_3  svd_v_d_4  svd_v_d_5  svd_v_d_6  preferential_attachment  \\\n",
       "0      -0.054179  -0.023964   0.013804  -0.050633                     2001   \n",
       "1       0.044962   0.011024  -0.102515  -0.037814                     8350   \n",
       "2      -0.060850  -0.032156   0.011341  -0.055203                     7524   \n",
       "3       0.074903  -0.054456   0.019862  -0.020125                     2880   \n",
       "4       0.017178   0.122038   0.047368  -0.031209                     2736   \n",
       "...          ...        ...        ...        ...                      ...   \n",
       "37163   0.000000   0.000000   0.000000   0.000000                        0   \n",
       "37164   0.000000   0.000000   0.000000   0.000000                        0   \n",
       "37165   0.000000   0.000000   0.000000   0.000000                       90   \n",
       "37166   0.003706  -0.003101   0.002262  -0.000949                      420   \n",
       "37167  -0.001078  -0.001173  -0.005838  -0.001956                      550   \n",
       "\n",
       "          svd_dot_u  svd_dot_v  \n",
       "0      2.233740e-03   0.003134  \n",
       "1      1.460997e-02   0.025032  \n",
       "2      4.883874e-03   0.006369  \n",
       "3      1.876176e-02   0.015432  \n",
       "4      1.427991e-02   0.008217  \n",
       "...             ...        ...  \n",
       "37163  0.000000e+00   0.000000  \n",
       "37164  0.000000e+00   0.000000  \n",
       "37165 -1.048976e-20   0.000000  \n",
       "37166 -8.996788e-05  -0.000108  \n",
       "37167  2.457279e-04  -0.000208  \n",
       "\n",
       "[37168 rows x 58 columns]"
      ]
     },
     "execution_count": 126,
     "metadata": {},
     "output_type": "execute_result"
    }
   ],
   "source": [
    "df_final_train=pd.concat([pos, neg], ignore_index=True)\n",
    "df_final_train"
   ]
  },
  {
   "cell_type": "code",
   "execution_count": 127,
   "metadata": {
    "ExecuteTime": {
     "end_time": "2022-04-16T13:36:44.354847Z",
     "start_time": "2022-04-16T13:36:44.353110Z"
    }
   },
   "outputs": [],
   "source": [
    "y_train=df_final_train.indicator_link"
   ]
  },
  {
   "cell_type": "code",
   "execution_count": 128,
   "metadata": {
    "ExecuteTime": {
     "end_time": "2022-04-16T13:36:44.361988Z",
     "start_time": "2022-04-16T13:36:44.355490Z"
    },
    "colab": {},
    "colab_type": "code",
    "id": "4lj9M_qtHglf"
   },
   "outputs": [],
   "source": [
    "# df_final_train.drop(['source_node', 'destination_node','indicator_link'],axis=1,inplace=True)\n",
    "# df_final_test.drop(['source_node', 'destination_node','indicator_link'],axis=1,inplace=True)\n",
    "\n",
    "# df_final_train=df_final_train[['cosine_followers','inter_followers','adar_index']]\n",
    "# df_final_test=df_final_test[['cosine_followers','inter_followers','adar_index']]\n",
    "\n",
    "df_final_train=df_final_train[['adar_index']]\n",
    "df_final_test=df_final_test[['adar_index']]\n",
    "\n"
   ]
  },
  {
   "cell_type": "code",
   "execution_count": 129,
   "metadata": {
    "ExecuteTime": {
     "end_time": "2022-04-16T13:36:44.364336Z",
     "start_time": "2022-04-16T13:36:44.362718Z"
    },
    "colab": {},
    "colab_type": "code",
    "id": "e3C7QpjofwOh"
   },
   "outputs": [],
   "source": [
    "from sklearn.ensemble import GradientBoostingClassifier\n",
    "from sklearn.model_selection import RandomizedSearchCV\n",
    "from sklearn.metrics import f1_score"
   ]
  },
  {
   "cell_type": "code",
   "execution_count": 130,
   "metadata": {
    "ExecuteTime": {
     "end_time": "2022-04-16T13:37:17.845145Z",
     "start_time": "2022-04-16T13:36:44.365018Z"
    },
    "colab": {
     "base_uri": "https://localhost:8080/",
     "height": 1000
    },
    "colab_type": "code",
    "id": "JslnAvHg7HXU",
    "outputId": "a12197a9-bda5-43b8-e9b3-3d1938212222"
   },
   "outputs": [
    {
     "name": "stdout",
     "output_type": "stream",
     "text": [
      "      Iter       Train Loss   Remaining Time \n",
      "         1           1.2109            6.37s\n",
      "         2           1.0770            5.96s\n",
      "         3           0.9659            5.84s\n",
      "         4           0.8726            5.74s\n",
      "         5           0.7934            5.65s\n",
      "         6           0.7256            5.56s\n",
      "         7           0.6672            5.47s\n",
      "         8           0.6167            5.38s\n",
      "         9           0.5728            5.31s\n",
      "        10           0.5345            5.23s\n",
      "        20           0.3338            4.56s\n",
      "        30           0.2756            3.96s\n",
      "        40           0.2576            3.39s\n",
      "        50           0.2516            2.82s\n",
      "        60           0.2495            2.25s\n",
      "        70           0.2487            1.69s\n",
      "        80           0.2485            1.12s\n",
      "        90           0.2484            0.56s\n",
      "       100           0.2483            0.00s\n",
      "      Iter       Train Loss   Remaining Time \n",
      "         1           1.2106            6.11s\n",
      "         2           1.0764            5.93s\n",
      "         3           0.9651            5.79s\n",
      "         4           0.8716            5.70s\n",
      "         5           0.7922            5.64s\n",
      "         6           0.7243            5.54s\n",
      "         7           0.6658            5.45s\n",
      "         8           0.6151            5.36s\n",
      "         9           0.5711            5.29s\n",
      "        10           0.5327            5.26s\n",
      "        20           0.3316            4.65s\n",
      "        30           0.2732            4.03s\n",
      "        40           0.2552            3.44s\n",
      "        50           0.2492            2.86s\n",
      "        60           0.2471            2.28s\n",
      "        70           0.2464            1.70s\n",
      "        80           0.2461            1.13s\n",
      "        90           0.2460            0.57s\n",
      "       100           0.2460            0.00s\n",
      "      Iter       Train Loss   Remaining Time \n",
      "         1           1.2108            5.92s\n",
      "         2           1.0768            5.87s\n",
      "         3           0.9657            5.77s\n",
      "         4           0.8724            5.64s\n",
      "         5           0.7931            5.54s\n",
      "         6           0.7252            5.45s\n",
      "         7           0.6668            5.37s\n",
      "         8           0.6162            5.29s\n",
      "         9           0.5723            5.21s\n",
      "        10           0.5339            5.14s\n",
      "        20           0.3328            4.51s\n",
      "        30           0.2743            3.92s\n",
      "        40           0.2562            3.34s\n",
      "        50           0.2502            2.78s\n",
      "        60           0.2481            2.22s\n",
      "        70           0.2473            1.66s\n",
      "        80           0.2471            1.11s\n",
      "        90           0.2469            0.55s\n",
      "       100           0.2469            0.00s\n",
      "      Iter       Train Loss   Remaining Time \n",
      "         1           1.2109            0.58s\n",
      "         2           1.0770            0.49s\n",
      "         3           0.9659            0.42s\n",
      "         4           0.8726            0.36s\n",
      "         5           0.7934            0.30s\n",
      "         6           0.7256            0.24s\n",
      "         7           0.6672            0.18s\n",
      "         8           0.6167            0.12s\n",
      "         9           0.5728            0.06s\n",
      "        10           0.5345            0.00s\n",
      "      Iter       Train Loss   Remaining Time \n",
      "         1           1.2106            0.55s\n",
      "         2           1.0764            0.48s\n",
      "         3           0.9651            0.42s\n",
      "         4           0.8716            0.36s\n",
      "         5           0.7922            0.30s\n",
      "         6           0.7243            0.24s\n",
      "         7           0.6658            0.18s\n",
      "         8           0.6151            0.12s\n",
      "         9           0.5711            0.06s\n",
      "        10           0.5327            0.00s\n",
      "      Iter       Train Loss   Remaining Time \n",
      "         1           1.2108            0.53s\n",
      "         2           1.0768            0.48s\n",
      "         3           0.9657            0.42s\n",
      "         4           0.8724            0.35s\n",
      "         5           0.7931            0.29s\n",
      "         6           0.7252            0.23s\n",
      "         7           0.6668            0.17s\n",
      "         8           0.6162            0.12s\n",
      "         9           0.5723            0.06s\n",
      "        10           0.5339            0.00s\n",
      "      Iter       Train Loss   Remaining Time \n",
      "         1           1.2387            1.33s\n",
      "         2           1.1273            1.32s\n",
      "         3           1.0349            1.30s\n",
      "         4           0.9572            1.28s\n",
      "         5           0.8916            1.27s\n",
      "         6           0.8360            1.24s\n",
      "         7           0.7885            1.22s\n",
      "         8           0.7471            1.21s\n",
      "         9           0.7112            1.20s\n",
      "        10           0.6806            1.18s\n",
      "        20           0.5250            1.02s\n",
      "        30           0.4830            0.88s\n",
      "        40           0.4682            0.75s\n",
      "        50           0.4554            0.62s\n",
      "        60           0.4445            0.49s\n",
      "        70           0.4397            0.37s\n",
      "        80           0.4304            0.25s\n",
      "        90           0.4242            0.12s\n",
      "       100           0.4188            0.00s\n",
      "      Iter       Train Loss   Remaining Time \n",
      "         1           1.2398            1.30s\n",
      "         2           1.1287            1.29s\n",
      "         3           1.0367            1.28s\n",
      "         4           0.9593            1.27s\n",
      "         5           0.8942            1.24s\n",
      "         6           0.8383            1.23s\n",
      "         7           0.7908            1.21s\n",
      "         8           0.7502            1.19s\n",
      "         9           0.7143            1.18s\n",
      "        10           0.6837            1.16s\n",
      "        20           0.5266            1.02s\n",
      "        30           0.4851            0.88s\n",
      "        40           0.4705            0.75s\n",
      "        50           0.4593            0.62s\n",
      "        60           0.4461            0.49s\n",
      "        70           0.4346            0.37s\n",
      "        80           0.4278            0.25s\n",
      "        90           0.4215            0.12s\n",
      "       100           0.4176            0.00s\n",
      "      Iter       Train Loss   Remaining Time \n",
      "         1           1.2399            1.36s\n",
      "         2           1.1293            1.35s\n",
      "         3           1.0375            1.33s\n",
      "         4           0.9603            1.32s\n",
      "         5           0.8953            1.31s\n",
      "         6           0.8399            1.29s\n",
      "         7           0.7926            1.27s\n",
      "         8           0.7514            1.26s\n",
      "         9           0.7160            1.24s\n",
      "        10           0.6852            1.22s\n",
      "        20           0.5295            1.06s\n",
      "        30           0.4868            0.91s\n",
      "        40           0.4713            0.77s\n",
      "        50           0.4571            0.63s\n",
      "        60           0.4453            0.50s\n",
      "        70           0.4359            0.38s\n",
      "        80           0.4310            0.25s\n",
      "        90           0.4248            0.13s\n",
      "       100           0.4197            0.00s\n",
      "      Iter       Train Loss   Remaining Time \n",
      "         1           1.2367            1.72s\n",
      "         2           1.1233            1.70s\n",
      "         3           1.0294            1.68s\n",
      "         4           0.9500            1.66s\n",
      "         5           0.8833            1.64s\n",
      "         6           0.8255            1.62s\n",
      "         7           0.7764            1.60s\n",
      "         8           0.7347            1.56s\n",
      "         9           0.6981            1.54s\n",
      "        10           0.6664            1.52s\n",
      "        20           0.5034            1.30s\n",
      "        30           0.4595            1.10s\n",
      "        40           0.4403            0.93s\n",
      "        50           0.4271            0.76s\n",
      "        60           0.4165            0.61s\n",
      "        70           0.4094            0.45s\n",
      "        80           0.4027            0.30s\n",
      "        90           0.3978            0.15s\n",
      "       100           0.3914            0.00s\n",
      "      Iter       Train Loss   Remaining Time \n",
      "         1           1.2375            1.69s\n",
      "         2           1.1246            1.69s\n",
      "         3           1.0307            1.69s\n",
      "         4           0.9515            1.67s\n",
      "         5           0.8851            1.65s\n",
      "         6           0.8275            1.63s\n",
      "         7           0.7782            1.61s\n",
      "         8           0.7365            1.57s\n",
      "         9           0.7003            1.55s\n",
      "        10           0.6679            1.53s\n"
     ]
    },
    {
     "name": "stdout",
     "output_type": "stream",
     "text": [
      "        20           0.5055            1.30s\n",
      "        30           0.4597            1.11s\n",
      "        40           0.4438            0.93s\n",
      "        50           0.4326            0.77s\n",
      "        60           0.4202            0.61s\n",
      "        70           0.4076            0.45s\n",
      "        80           0.3994            0.30s\n",
      "        90           0.3955            0.15s\n",
      "       100           0.3911            0.00s\n",
      "      Iter       Train Loss   Remaining Time \n",
      "         1           1.2374            1.79s\n",
      "         2           1.1246            1.77s\n",
      "         3           1.0308            1.75s\n",
      "         4           0.9519            1.74s\n",
      "         5           0.8855            1.71s\n",
      "         6           0.8289            1.67s\n",
      "         7           0.7801            1.65s\n",
      "         8           0.7377            1.62s\n",
      "         9           0.7009            1.60s\n",
      "        10           0.6700            1.56s\n",
      "        20           0.5077            1.34s\n",
      "        30           0.4613            1.13s\n",
      "        40           0.4413            0.95s\n",
      "        50           0.4289            0.78s\n",
      "        60           0.4156            0.62s\n",
      "        70           0.4056            0.46s\n",
      "        80           0.3983            0.31s\n",
      "        90           0.3924            0.15s\n",
      "       100           0.3885            0.00s\n",
      "      Iter       Train Loss   Remaining Time \n",
      "         1           1.2254            1.92s\n",
      "         2           1.1028            1.82s\n",
      "         3           1.0005            1.75s\n",
      "         4           0.9145            1.75s\n",
      "         5           0.8413            1.71s\n",
      "         6           0.7784            1.64s\n",
      "         7           0.7245            1.58s\n",
      "         8           0.6765            1.53s\n",
      "         9           0.6357            1.48s\n",
      "        10           0.6005            1.43s\n",
      "        20           0.4164            0.98s\n",
      "        30           0.3622            0.62s\n",
      "        40           0.3437            0.29s\n",
      "        50           0.3329            0.00s\n",
      "      Iter       Train Loss   Remaining Time \n",
      "         1           1.2239            1.95s\n",
      "         2           1.0999            1.90s\n",
      "         3           0.9961            1.86s\n",
      "         4           0.9083            1.82s\n",
      "         5           0.8338            1.79s\n",
      "         6           0.7702            1.73s\n",
      "         7           0.7158            1.67s\n",
      "         8           0.6675            1.62s\n",
      "         9           0.6265            1.57s\n",
      "        10           0.5910            1.51s\n",
      "        20           0.4078            1.01s\n",
      "        30           0.3530            0.63s\n",
      "        40           0.3346            0.30s\n",
      "        50           0.3231            0.00s\n",
      "      Iter       Train Loss   Remaining Time \n",
      "         1           1.2218            2.08s\n",
      "         2           1.0965            2.03s\n",
      "         3           0.9917            1.99s\n",
      "         4           0.9037            1.93s\n",
      "         5           0.8292            1.86s\n",
      "         6           0.7651            1.81s\n",
      "         7           0.7099            1.75s\n",
      "         8           0.6618            1.69s\n",
      "         9           0.6204            1.63s\n",
      "        10           0.5853            1.56s\n",
      "        20           0.4005            1.05s\n",
      "        30           0.3467            0.66s\n",
      "        40           0.3274            0.31s\n",
      "        50           0.3148            0.00s\n",
      "      Iter       Train Loss   Remaining Time \n",
      "         1           1.2403            1.97s\n",
      "         2           1.1303            1.94s\n",
      "         3           1.0388            1.93s\n",
      "         4           0.9621            1.91s\n",
      "         5           0.8974            1.89s\n",
      "         6           0.8421            1.87s\n",
      "         7           0.7947            1.85s\n",
      "         8           0.7539            1.83s\n",
      "         9           0.7189            1.80s\n",
      "        10           0.6883            1.78s\n",
      "        20           0.5358            1.55s\n",
      "        30           0.4944            1.35s\n",
      "        40           0.4814            1.14s\n",
      "        50           0.4716            0.95s\n",
      "        60           0.4619            0.76s\n",
      "        70           0.4528            0.57s\n",
      "        80           0.4464            0.38s\n",
      "        90           0.4377            0.19s\n",
      "       100           0.4338            0.00s\n",
      "mean test scores [0.87252795 0.87248342 0.89273703 0.889663   0.88006939]\n"
     ]
    }
   ],
   "source": [
    "param_dist = {\"n_estimators\":[10,50,100,250],\n",
    "              \"max_depth\": [3,9,11,15,20,35,50,70,130]}\n",
    "\n",
    "clf = GradientBoostingClassifier(random_state=25,verbose=1)\n",
    "\n",
    "rf_random = RandomizedSearchCV(clf, param_distributions=param_dist,\n",
    "                                   n_iter=5,cv=3,scoring='f1',random_state=25)\n",
    "rf_random.fit(df_final_train,y_train)\n",
    "print('mean test scores',rf_random.cv_results_['mean_test_score'])"
   ]
  },
  {
   "cell_type": "code",
   "execution_count": 131,
   "metadata": {
    "ExecuteTime": {
     "end_time": "2022-04-16T13:37:17.847995Z",
     "start_time": "2022-04-16T13:37:17.845953Z"
    },
    "colab": {
     "base_uri": "https://localhost:8080/",
     "height": 199
    },
    "colab_type": "code",
    "id": "_CDAjM-6jSI-",
    "outputId": "29ce0bd3-8fab-416f-f567-8e67720b01a1"
   },
   "outputs": [
    {
     "name": "stdout",
     "output_type": "stream",
     "text": [
      "GradientBoostingClassifier(max_depth=9, random_state=25, verbose=1)\n"
     ]
    }
   ],
   "source": [
    "print(rf_random.best_estimator_)"
   ]
  },
  {
   "cell_type": "code",
   "execution_count": 132,
   "metadata": {
    "ExecuteTime": {
     "end_time": "2022-04-16T13:37:17.850542Z",
     "start_time": "2022-04-16T13:37:17.848865Z"
    },
    "colab": {},
    "colab_type": "code",
    "id": "Ej1T_9cgjSJW"
   },
   "outputs": [],
   "source": [
    "clf = rf_random.best_estimator_"
   ]
  },
  {
   "cell_type": "code",
   "execution_count": 133,
   "metadata": {
    "ExecuteTime": {
     "end_time": "2022-04-16T13:37:19.798453Z",
     "start_time": "2022-04-16T13:37:17.851290Z"
    },
    "colab": {
     "base_uri": "https://localhost:8080/",
     "height": 381
    },
    "colab_type": "code",
    "id": "_ID0qJrqjSJe",
    "outputId": "00603288-27d7-400f-c5eb-752b505ad2c2"
   },
   "outputs": [
    {
     "name": "stdout",
     "output_type": "stream",
     "text": [
      "      Iter       Train Loss   Remaining Time \n",
      "         1           1.2403            2.13s\n",
      "         2           1.1303            2.01s\n",
      "         3           1.0388            1.97s\n",
      "         4           0.9621            1.94s\n",
      "         5           0.8974            1.91s\n",
      "         6           0.8421            1.88s\n",
      "         7           0.7947            1.85s\n",
      "         8           0.7539            1.83s\n",
      "         9           0.7189            1.81s\n",
      "        10           0.6883            1.78s\n",
      "        20           0.5358            1.55s\n",
      "        30           0.4944            1.34s\n",
      "        40           0.4814            1.13s\n",
      "        50           0.4716            0.94s\n",
      "        60           0.4619            0.75s\n",
      "        70           0.4528            0.56s\n",
      "        80           0.4464            0.37s\n",
      "        90           0.4377            0.19s\n",
      "       100           0.4338            0.00s\n"
     ]
    },
    {
     "data": {
      "text/plain": [
       "array([0, 0, 1, ..., 0, 0, 0], dtype=int64)"
      ]
     },
     "execution_count": 133,
     "metadata": {},
     "output_type": "execute_result"
    }
   ],
   "source": [
    "clf.fit(df_final_train,y_train)\n",
    "y_train_pred = clf.predict(df_final_train)\n",
    "y_test_pred = clf.predict(df_final_test)\n",
    "y_test_pred"
   ]
  },
  {
   "cell_type": "code",
   "execution_count": 134,
   "metadata": {
    "ExecuteTime": {
     "end_time": "2022-04-16T13:37:19.809353Z",
     "start_time": "2022-04-16T13:37:19.799308Z"
    }
   },
   "outputs": [],
   "source": [
    "#產生答案\n",
    "answer=pd.DataFrame({'predict_nodepair_id':predict.index, 'ans':y_test_pred})\n",
    "answer=answer.to_csv('answer_GBDT_equal.csv',index=False)\n",
    "answer\n"
   ]
  },
  {
   "cell_type": "code",
   "execution_count": 135,
   "metadata": {
    "ExecuteTime": {
     "end_time": "2022-04-16T13:37:19.816417Z",
     "start_time": "2022-04-16T13:37:19.810112Z"
    },
    "colab": {
     "base_uri": "https://localhost:8080/",
     "height": 54
    },
    "colab_type": "code",
    "id": "IWRglqB6jSKQ",
    "outputId": "ae766ea9-c8fe-42e3-f461-bde33f6f8b79"
   },
   "outputs": [
    {
     "name": "stdout",
     "output_type": "stream",
     "text": [
      "Train f1 score 0.9134793245420371\n"
     ]
    }
   ],
   "source": [
    "from sklearn.metrics import f1_score\n",
    "print('Train f1 score',f1_score(y_train,y_train_pred))\n",
    "# print('Test f1 score',f1_score(y_test,y_test_pred))"
   ]
  },
  {
   "cell_type": "code",
   "execution_count": 136,
   "metadata": {
    "ExecuteTime": {
     "end_time": "2022-04-16T13:37:19.820834Z",
     "start_time": "2022-04-16T13:37:19.817097Z"
    },
    "colab": {},
    "colab_type": "code",
    "id": "QFx8A0_djSKZ"
   },
   "outputs": [],
   "source": [
    "from sklearn.metrics import confusion_matrix\n",
    "def plot_confusion_matrix(test_y, predict_y):\n",
    "    C = confusion_matrix(test_y, predict_y)\n",
    "    \n",
    "    A =(((C.T)/(C.sum(axis=1))).T)\n",
    "    \n",
    "    B =(C/C.sum(axis=0))\n",
    "    plt.figure(figsize=(20,4))\n",
    "    \n",
    "    labels = [0,1]\n",
    "    # representing A in heatmap format\n",
    "    sns.set()\n",
    "    cmap=sns.light_palette(\"blue\")\n",
    "    plt.subplot(1, 3, 1)\n",
    "    sns.heatmap(C, annot=True, cmap=cmap, fmt=\".3f\", xticklabels=labels, yticklabels=labels)\n",
    "    plt.xlabel('Predicted Class')\n",
    "    plt.ylabel('Original Class')\n",
    "    plt.title(\"Confusion matrix\")\n",
    "    \n",
    "    plt.subplot(1, 3, 2)\n",
    "    sns.heatmap(B, annot=True, cmap=cmap, fmt=\".3f\", xticklabels=labels, yticklabels=labels)\n",
    "    plt.xlabel('Predicted Class')\n",
    "    plt.ylabel('Original Class')\n",
    "    plt.title(\"Precision matrix\")\n",
    "    \n",
    "    plt.subplot(1, 3, 3)\n",
    "    # representing B in heatmap format\n",
    "    sns.heatmap(A, annot=True, cmap=cmap, fmt=\".3f\", xticklabels=labels, yticklabels=labels)\n",
    "    plt.xlabel('Predicted Class')\n",
    "    plt.ylabel('Original Class')\n",
    "    plt.title(\"Recall matrix\")\n",
    "    \n",
    "    plt.show()"
   ]
  },
  {
   "cell_type": "code",
   "execution_count": 137,
   "metadata": {
    "ExecuteTime": {
     "end_time": "2022-04-16T13:37:20.075705Z",
     "start_time": "2022-04-16T13:37:19.821448Z"
    },
    "colab": {
     "base_uri": "https://localhost:8080/",
     "height": 641
    },
    "colab_type": "code",
    "id": "qYsVP-_7jSKh",
    "outputId": "1aaf526b-76b8-4fb9-fc97-74c961f1ebc6"
   },
   "outputs": [
    {
     "name": "stdout",
     "output_type": "stream",
     "text": [
      "Train confusion_matrix\n"
     ]
    },
    {
     "data": {
      "image/png": "[encoded data removed]",
      "text/plain": [
       "<Figure size 1440x288 with 6 Axes>"
      ]
     },
     "metadata": {},
     "output_type": "display_data"
    }
   ],
   "source": [
    "print('Train confusion_matrix')\n",
    "plot_confusion_matrix(y_train,y_train_pred)\n",
    "# print('Test confusion_matrix')\n",
    "# plot_confusion_matrix(y_test,y_test_pred)"
   ]
  },
  {
   "cell_type": "code",
   "execution_count": 138,
   "metadata": {
    "ExecuteTime": {
     "end_time": "2022-04-16T13:37:20.078310Z",
     "start_time": "2022-04-16T13:37:20.076665Z"
    },
    "colab": {
     "base_uri": "https://localhost:8080/",
     "height": 301
    },
    "colab_type": "code",
    "id": "573IughTjSKq",
    "outputId": "26110ae8-6861-410f-d054-e41f40d620c8"
   },
   "outputs": [],
   "source": [
    "# from sklearn.metrics import roc_curve, auc\n",
    "# fpr,tpr,ths = roc_curve(y_test,y_test_pred)\n",
    "# auc_sc = auc(fpr, tpr)\n",
    "# plt.plot(fpr, tpr, color='navy',label='ROC curve (area = %0.2f)' % auc_sc)\n",
    "# plt.xlabel('False Positive Rate')\n",
    "# plt.ylabel('True Positive Rate')\n",
    "# plt.title('Receiver operating characteristic with test data')\n",
    "# plt.legend()\n",
    "# plt.show()"
   ]
  },
  {
   "cell_type": "code",
   "execution_count": 139,
   "metadata": {
    "ExecuteTime": {
     "end_time": "2022-04-16T13:37:20.144391Z",
     "start_time": "2022-04-16T13:37:20.078997Z"
    },
    "colab": {
     "base_uri": "https://localhost:8080/",
     "height": 736
    },
    "colab_type": "code",
    "id": "RR8rjOU3jSK1",
    "outputId": "7adcc055-6a4f-4754-b04f-51533c7cceb4"
   },
   "outputs": [
    {
     "data": {
      "image/png": "[encoded data removed]",
      "text/plain": [
       "<Figure size 720x864 with 1 Axes>"
      ]
     },
     "metadata": {},
     "output_type": "display_data"
    }
   ],
   "source": [
    "features = df_final_train.columns\n",
    "importances = clf.feature_importances_\n",
    "indices = (np.argsort(importances))[-25:]\n",
    "plt.figure(figsize=(10,12))\n",
    "plt.title('Feature Importances')\n",
    "plt.barh(range(len(indices)), importances[indices], color='r', align='center')\n",
    "plt.yticks(range(len(indices)), [features[i] for i in indices])\n",
    "plt.xlabel('Relative Importance')\n",
    "plt.show()"
   ]
  },
  {
   "cell_type": "code",
   "execution_count": 140,
   "metadata": {
    "ExecuteTime": {
     "end_time": "2022-04-16T13:37:20.147080Z",
     "start_time": "2022-04-16T13:37:20.145337Z"
    }
   },
   "outputs": [],
   "source": [
    "# ironman6 = pd.DataFrame({'player':['彭政閔','林智勝','郭阜林','詹子賢'],\n",
    "#                         'number':[23,32,5,39],\n",
    "#                         'team':['兄弟象','兄弟象','兄弟象','lamigo']})\n",
    "# ironman14 = pd.DataFrame({'player':['彭政閔','林智勝','張志豪',\"藍寅倫\"],\n",
    "#                           'number':[23,32,5,39]})\n",
    "\n",
    "# pd.merge(ironman6, ironman14, how=\"inner\")"
   ]
  },
  {
   "cell_type": "code",
   "execution_count": 141,
   "metadata": {
    "ExecuteTime": {
     "end_time": "2022-04-16T13:37:20.149505Z",
     "start_time": "2022-04-16T13:37:20.147910Z"
    }
   },
   "outputs": [],
   "source": [
    "# #note:\n",
    "# 1.可試試看把pos 和neg 數量弄成一樣多(df1.sample(n = 20457, random_state = 2))\n",
    "# 2.最後把已知的答案填上\n",
    "\n",
    "# edge={}\n",
    "# for n1,n2 in zip(train['node1'], train['node2']):\n",
    "#     edge[(n1,n2)]=1\n",
    "\n",
    "# t=[]\n",
    "# for n1,n2 in zip(predict['node1'], predict['node2']):\n",
    "#     if edge.get((n1,n2))==1:\n",
    "#         t+=[(n1,n2)]\n",
    "# print(len(t))\n",
    "\n",
    "# for n1,n2 in t:\n",
    "#     ans[(==n1) & (==n2)]=1\n",
    "\n",
    "        \n",
    "# ans\n",
    "\n",
    "# 3.把自己連的設成1"
   ]
  },
  {
   "cell_type": "code",
   "execution_count": 142,
   "metadata": {
    "ExecuteTime": {
     "end_time": "2022-04-16T13:37:20.151501Z",
     "start_time": "2022-04-16T13:37:20.150203Z"
    }
   },
   "outputs": [],
   "source": [
    "\n",
    "# t=pd.read_csv('/home/paul/Downloads/answer_RandomForest.csv')\n",
    "# t['ans'].value_counts()\n",
    "\n"
   ]
  }
 ],
 "metadata": {
  "colab": {
   "name": "Facebook Link Prediction.ipynb",
   "provenance": []
  },
  "kernelspec": {
   "display_name": "Python 3 (ipykernel)",
   "language": "python",
   "name": "python3"
  },
  "language_info": {
   "codemirror_mode": {
    "name": "ipython",
    "version": 3
   },
   "file_extension": ".py",
   "mimetype": "text/x-python",
   "name": "python",
   "nbconvert_exporter": "python",
   "pygments_lexer": "ipython3",
   "version": "3.9.11"
  },
  "varInspector": {
   "cols": {
    "lenName": 16,
    "lenType": 16,
    "lenVar": 40
   },
   "kernels_config": {
    "python": {
     "delete_cmd_postfix": "",
     "delete_cmd_prefix": "del ",
     "library": "var_list.py",
     "varRefreshCmd": "print(var_dic_list())"
    },
    "r": {
     "delete_cmd_postfix": ") ",
     "delete_cmd_prefix": "rm(",
     "library": "var_list.r",
     "varRefreshCmd": "cat(var_dic_list()) "
    }
   },
   "types_to_exclude": [
    "module",
    "function",
    "builtin_function_or_method",
    "instance",
    "_Feature"
   ],
   "window_display": false
  }
 },
 "nbformat": 4,
 "nbformat_minor": 1
}
