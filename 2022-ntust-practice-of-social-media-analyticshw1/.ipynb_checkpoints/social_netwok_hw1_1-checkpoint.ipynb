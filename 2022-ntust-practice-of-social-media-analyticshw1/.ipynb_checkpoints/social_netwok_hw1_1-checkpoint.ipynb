{
 "cells": [
  {
   "cell_type": "markdown",
   "id": "08be5495",
   "metadata": {},
   "source": [
    "# 以是否有path來預測(kaggle 0.633)"
   ]
  },
  {
   "cell_type": "code",
   "execution_count": 1,
   "id": "9e0a5e6f",
   "metadata": {
    "ExecuteTime": {
     "end_time": "2022-04-15T07:47:36.033387Z",
     "start_time": "2022-04-15T07:47:35.761738Z"
    }
   },
   "outputs": [],
   "source": [
    "import pandas as pd\n",
    "train=pd.read_csv('data_train_edge.csv')\n",
    "\n",
    "all_data_train=pd.concat([train['node1'], train['node2']], ignore_index=True)\n"
   ]
  },
  {
   "cell_type": "code",
   "execution_count": 2,
   "id": "2b8ba6cb",
   "metadata": {
    "ExecuteTime": {
     "end_time": "2022-04-15T07:47:36.039907Z",
     "start_time": "2022-04-15T07:47:36.034294Z"
    }
   },
   "outputs": [
    {
     "name": "stdout",
     "output_type": "stream",
     "text": [
      "1005\n"
     ]
    }
   ],
   "source": [
    "predict=pd.read_csv('predict.csv')\n",
    "all_data_predict=pd.concat([predict['node1'], predict['node2']], ignore_index=True)\n",
    "\n",
    "all_data=pd.concat([all_data_train, all_data_predict], ignore_index=True)\n",
    "\n",
    "num_of_node=len(all_data.unique())\n",
    "\n",
    "print(num_of_node)"
   ]
  },
  {
   "cell_type": "markdown",
   "id": "349798f6",
   "metadata": {},
   "source": [
    "# 檢查predict 中是否有不在train data 中的node"
   ]
  },
  {
   "cell_type": "code",
   "execution_count": 3,
   "id": "270bda93",
   "metadata": {
    "ExecuteTime": {
     "end_time": "2022-04-15T07:47:36.042050Z",
     "start_time": "2022-04-15T07:47:36.040691Z"
    }
   },
   "outputs": [],
   "source": [
    "# for i in all_data_predict.unique():\n",
    "#     if i not in all_data_train.unique():\n",
    "#         print(\"yes\")"
   ]
  },
  {
   "cell_type": "markdown",
   "id": "cc6a1c38",
   "metadata": {},
   "source": [
    "# 檢查是否有連到自己的node"
   ]
  },
  {
   "cell_type": "code",
   "execution_count": 4,
   "id": "1b763315",
   "metadata": {
    "ExecuteTime": {
     "end_time": "2022-04-15T07:47:36.051911Z",
     "start_time": "2022-04-15T07:47:36.043336Z"
    }
   },
   "outputs": [
    {
     "name": "stdout",
     "output_type": "stream",
     "text": [
      "Yes\n",
      "502\n",
      "Yes\n",
      "[553, 502, 388, 212, 204, 242, 243, 738, 556, 340, 326, 328, 166, 374, 35, 299, 435, 294, 630, 434, 568, 446, 52, 249, 746, 296, 99, 318, 820, 423, 431, 273, 564, 30, 976, 390, 968, 773, 380, 15, 430, 265, 716, 815, 277, 11, 837, 267, 63, 349, 50, 159, 79, 224, 361, 461, 213, 905, 368, 342, 321, 322, 130, 401, 406, 120, 26, 123, 320, 552, 51, 708, 92, 412, 442, 314, 279, 931, 230, 979, 86, 103, 238, 186, 397, 733, 514, 7, 90, 846, 538, 134, 237, 3, 43, 56, 447, 852, 392, 433, 890, 649, 477, 797, 391, 763, 148, 908, 114, 264, 963, 757, 426, 283, 653, 209, 82, 210, 549, 427, 102, 334, 61, 232, 255, 143, 664, 786, 742, 462]\n"
     ]
    }
   ],
   "source": [
    "flag1='No'\n",
    "self1=[]\n",
    "for n1,n2 in zip(train['node1'], train['node2']):\n",
    "    if n1==n2:\n",
    "        flag1='Yes'\n",
    "        self1+=[n1]\n",
    "        \n",
    "print(flag1)\n",
    "print(len(self1))\n",
    "\n",
    "self2=[]\n",
    "flag2='No'\n",
    "for n1,n2 in zip(predict['node1'], predict['node2']):\n",
    "    if n1==n2:\n",
    "        flag2='Yes'\n",
    "        self2+=[n2]\n",
    "print(flag2)\n",
    "print(self2)"
   ]
  },
  {
   "cell_type": "markdown",
   "id": "16c60d74",
   "metadata": {},
   "source": [
    "# 檢查是否要預測已經有的邊"
   ]
  },
  {
   "cell_type": "code",
   "execution_count": 5,
   "id": "8a9b09c6",
   "metadata": {
    "ExecuteTime": {
     "end_time": "2022-04-15T07:47:36.065162Z",
     "start_time": "2022-04-15T07:47:36.052686Z"
    }
   },
   "outputs": [
    {
     "name": "stdout",
     "output_type": "stream",
     "text": [
      "4053\n"
     ]
    }
   ],
   "source": [
    "edge={}\n",
    "for n1,n2 in zip(train['node1'], train['node2']):\n",
    "    edge[(n1,n2)]=1\n",
    "\n",
    "t=[]\n",
    "for n1,n2 in zip(predict['node1'], predict['node2']):\n",
    "    if edge.get((n1,n2))==1:\n",
    "        t+=[(n1,n2)]\n",
    "print(len(t))"
   ]
  },
  {
   "cell_type": "code",
   "execution_count": 6,
   "id": "269a4af4",
   "metadata": {
    "ExecuteTime": {
     "end_time": "2022-04-15T07:47:36.077638Z",
     "start_time": "2022-04-15T07:47:36.066244Z"
    }
   },
   "outputs": [
    {
     "data": {
      "text/html": [
       "<div>\n",
       "<style scoped>\n",
       "    .dataframe tbody tr th:only-of-type {\n",
       "        vertical-align: middle;\n",
       "    }\n",
       "\n",
       "    .dataframe tbody tr th {\n",
       "        vertical-align: top;\n",
       "    }\n",
       "\n",
       "    .dataframe thead th {\n",
       "        text-align: right;\n",
       "    }\n",
       "</style>\n",
       "<table border=\"1\" class=\"dataframe\">\n",
       "  <thead>\n",
       "    <tr style=\"text-align: right;\">\n",
       "      <th></th>\n",
       "      <th>predict_nodepair_id</th>\n",
       "      <th>ans</th>\n",
       "    </tr>\n",
       "  </thead>\n",
       "  <tbody>\n",
       "    <tr>\n",
       "      <th>0</th>\n",
       "      <td>0</td>\n",
       "      <td>1</td>\n",
       "    </tr>\n",
       "    <tr>\n",
       "      <th>1</th>\n",
       "      <td>1</td>\n",
       "      <td>1</td>\n",
       "    </tr>\n",
       "    <tr>\n",
       "      <th>2</th>\n",
       "      <td>2</td>\n",
       "      <td>1</td>\n",
       "    </tr>\n",
       "    <tr>\n",
       "      <th>3</th>\n",
       "      <td>3</td>\n",
       "      <td>0</td>\n",
       "    </tr>\n",
       "    <tr>\n",
       "      <th>4</th>\n",
       "      <td>4</td>\n",
       "      <td>0</td>\n",
       "    </tr>\n",
       "    <tr>\n",
       "      <th>...</th>\n",
       "      <td>...</td>\n",
       "      <td>...</td>\n",
       "    </tr>\n",
       "    <tr>\n",
       "      <th>10226</th>\n",
       "      <td>10226</td>\n",
       "      <td>0</td>\n",
       "    </tr>\n",
       "    <tr>\n",
       "      <th>10227</th>\n",
       "      <td>10227</td>\n",
       "      <td>0</td>\n",
       "    </tr>\n",
       "    <tr>\n",
       "      <th>10228</th>\n",
       "      <td>10228</td>\n",
       "      <td>0</td>\n",
       "    </tr>\n",
       "    <tr>\n",
       "      <th>10229</th>\n",
       "      <td>10229</td>\n",
       "      <td>0</td>\n",
       "    </tr>\n",
       "    <tr>\n",
       "      <th>10230</th>\n",
       "      <td>10230</td>\n",
       "      <td>0</td>\n",
       "    </tr>\n",
       "  </tbody>\n",
       "</table>\n",
       "<p>10231 rows × 2 columns</p>\n",
       "</div>"
      ],
      "text/plain": [
       "       predict_nodepair_id  ans\n",
       "0                        0    1\n",
       "1                        1    1\n",
       "2                        2    1\n",
       "3                        3    0\n",
       "4                        4    0\n",
       "...                    ...  ...\n",
       "10226                10226    0\n",
       "10227                10227    0\n",
       "10228                10228    0\n",
       "10229                10229    0\n",
       "10230                10230    0\n",
       "\n",
       "[10231 rows x 2 columns]"
      ]
     },
     "execution_count": 6,
     "metadata": {},
     "output_type": "execute_result"
    }
   ],
   "source": [
    "ans_example=pd.read_csv('ans_example.csv')\n",
    "ans_example"
   ]
  },
  {
   "cell_type": "code",
   "execution_count": 7,
   "id": "0d48df30",
   "metadata": {
    "ExecuteTime": {
     "end_time": "2022-04-15T07:47:36.081738Z",
     "start_time": "2022-04-15T07:47:36.078477Z"
    }
   },
   "outputs": [],
   "source": [
    "# program to check if there is exist a path between two vertices\n",
    "# of a graph\n",
    " \n",
    "from collections import defaultdict\n",
    "  \n",
    "#This class represents a directed graph using adjacency list representation\n",
    "class Graph:\n",
    "  \n",
    "    def __init__(self,vertices):\n",
    "        self.V= vertices #No. of vertices\n",
    "        self.graph = defaultdict(list) # default dictionary to store graph\n",
    "  \n",
    "    # function to add an edge to graph\n",
    "    def addEdge(self,u,v):\n",
    "        self.graph[u].append(v)\n",
    "      \n",
    "     # Use BFS to check path between s and d\n",
    "    def isReachable(self, s, d):\n",
    "        # Mark all the vertices as not visited\n",
    "        visited =[False]*(self.V)\n",
    "  \n",
    "        # Create a queue for BFS\n",
    "        queue=[]\n",
    "  \n",
    "        # Mark the source node as visited and enqueue it\n",
    "        queue.append(s)\n",
    "        visited[s] = True\n",
    "  \n",
    "        while queue:\n",
    " \n",
    "            #Dequeue a vertex from queue\n",
    "            n = queue.pop(0)\n",
    "             \n",
    "            # If this adjacent node is the destination node,\n",
    "            # then return true\n",
    "            if n == d:\n",
    "                   return True\n",
    " \n",
    "            #  Else, continue to do BFS\n",
    "            for i in self.graph[n]:\n",
    "                if visited[i] == False:\n",
    "                    queue.append(i)\n",
    "                    visited[i] = True\n",
    "         # If BFS is complete without visited d\n",
    "        return False\n"
   ]
  },
  {
   "cell_type": "code",
   "execution_count": 8,
   "id": "0af31d28",
   "metadata": {
    "ExecuteTime": {
     "end_time": "2022-04-15T07:47:38.380508Z",
     "start_time": "2022-04-15T07:47:36.082554Z"
    }
   },
   "outputs": [],
   "source": [
    "# Create a graph given in the above diagram\n",
    "g = Graph(num_of_node)\n",
    "\n",
    "for n1,n2 in zip(train['node1'],train['node2']):\n",
    "    g.addEdge(n1, n2)\n",
    "    \n",
    "ans=[]\n",
    "for n1,n2 in zip(predict['node1'],predict['node2']):\n",
    "    if g.isReachable(n1, n2):\n",
    "        ans+=[1]\n",
    "    else :\n",
    "        ans+=[0]\n",
    "\n",
    "\n",
    "answer=pd.DataFrame({'predict_nodepair_id':predict.index, 'ans':ans})\n",
    "answer=answer.to_csv('answer1.csv',index=False)\n",
    "answer\n"
   ]
  }
 ],
 "metadata": {
  "kernelspec": {
   "display_name": "Python 3 (ipykernel)",
   "language": "python",
   "name": "python3"
  },
  "language_info": {
   "codemirror_mode": {
    "name": "ipython",
    "version": 3
   },
   "file_extension": ".py",
   "mimetype": "text/x-python",
   "name": "python",
   "nbconvert_exporter": "python",
   "pygments_lexer": "ipython3",
   "version": "3.9.11"
  },
  "varInspector": {
   "cols": {
    "lenName": 16,
    "lenType": 16,
    "lenVar": 40
   },
   "kernels_config": {
    "python": {
     "delete_cmd_postfix": "",
     "delete_cmd_prefix": "del ",
     "library": "var_list.py",
     "varRefreshCmd": "print(var_dic_list())"
    },
    "r": {
     "delete_cmd_postfix": ") ",
     "delete_cmd_prefix": "rm(",
     "library": "var_list.r",
     "varRefreshCmd": "cat(var_dic_list()) "
    }
   },
   "types_to_exclude": [
    "module",
    "function",
    "builtin_function_or_method",
    "instance",
    "_Feature"
   ],
   "window_display": false
  }
 },
 "nbformat": 4,
 "nbformat_minor": 5
}
